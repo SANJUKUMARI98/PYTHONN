{
 "cells": [
  {
   "cell_type": "markdown",
   "id": "18daf4ca-718c-4efa-87b4-f2f5b2691ad4",
   "metadata": {},
   "source": [
    "# functions"
   ]
  },
  {
   "cell_type": "code",
   "execution_count": 1,
   "id": "b927f004-1ffc-4424-9716-316b94e9caee",
   "metadata": {},
   "outputs": [
    {
     "name": "stdout",
     "output_type": "stream",
     "text": [
      "this is my program\n"
     ]
    }
   ],
   "source": [
    "print('this is my program')  # inbuilt func ---to print the value"
   ]
  },
  {
   "cell_type": "code",
   "execution_count": 2,
   "id": "b2235fd8-01ce-4b4f-9aff-f935a7cf658f",
   "metadata": {},
   "outputs": [],
   "source": [
    "l=[1,2,4,5,6]"
   ]
  },
  {
   "cell_type": "code",
   "execution_count": 3,
   "id": "0faa90f5-a23f-40c7-a43d-39783fcdaefe",
   "metadata": {},
   "outputs": [
    {
     "data": {
      "text/plain": [
       "5"
      ]
     },
     "execution_count": 3,
     "metadata": {},
     "output_type": "execute_result"
    }
   ],
   "source": [
    "len(l)  # inbuilt function ---to check the length of list"
   ]
  },
  {
   "cell_type": "markdown",
   "id": "d56666ff-22c8-4c60-8b1a-0d2e8acb29fe",
   "metadata": {},
   "source": [
    "create function with def keyword\n",
    "def is defination of a function\n",
    "test is a function name\n",
    "we never use inbuilt keyword -- because it is already reserved\n",
    "major advantage of function----it  increase usabillity and modularity in code.\n",
    "\n"
   ]
  },
  {
   "cell_type": "code",
   "execution_count": 4,
   "id": "39db3cc6-90b3-4a2c-93fa-63ba4a06c5ac",
   "metadata": {},
   "outputs": [
    {
     "ename": "SyntaxError",
     "evalue": "incomplete input (3861551224.py, line 1)",
     "output_type": "error",
     "traceback": [
      "\u001b[0;36m  Cell \u001b[0;32mIn[4], line 1\u001b[0;36m\u001b[0m\n\u001b[0;31m    def test():\u001b[0m\n\u001b[0m               ^\u001b[0m\n\u001b[0;31mSyntaxError\u001b[0m\u001b[0;31m:\u001b[0m incomplete input\n"
     ]
    }
   ],
   "source": [
    "def test():"
   ]
  },
  {
   "cell_type": "code",
   "execution_count": 5,
   "id": "e76f8998-b8ff-4a99-8697-d91cb7650dbd",
   "metadata": {},
   "outputs": [],
   "source": [
    "def test(): # writing pass in func never gives you error\n",
    "    pass"
   ]
  },
  {
   "cell_type": "code",
   "execution_count": 6,
   "id": "776ef27d-f814-4652-a1ca-b7cf2b091f36",
   "metadata": {},
   "outputs": [],
   "source": [
    "def test1(): # creating a function\n",
    "    print('this is my very very function')"
   ]
  },
  {
   "cell_type": "code",
   "execution_count": 8,
   "id": "ba45df60-d5ca-43ed-a3ef-92b2c9accd6f",
   "metadata": {},
   "outputs": [
    {
     "name": "stdout",
     "output_type": "stream",
     "text": [
      "this is my very very function\n"
     ]
    }
   ],
   "source": [
    "test1() # calling a fuction by their name"
   ]
  },
  {
   "cell_type": "code",
   "execution_count": 9,
   "id": "3b372b1b-e8ee-4abe-a126-0d359d197e8f",
   "metadata": {},
   "outputs": [
    {
     "name": "stdout",
     "output_type": "stream",
     "text": [
      "this is my very very function\n"
     ]
    },
    {
     "ename": "TypeError",
     "evalue": "unsupported operand type(s) for +: 'NoneType' and 'str'",
     "output_type": "error",
     "traceback": [
      "\u001b[0;31m---------------------------------------------------------------------------\u001b[0m",
      "\u001b[0;31mTypeError\u001b[0m                                 Traceback (most recent call last)",
      "Cell \u001b[0;32mIn[9], line 1\u001b[0m\n\u001b[0;32m----> 1\u001b[0m \u001b[43mtest1\u001b[49m\u001b[43m(\u001b[49m\u001b[43m)\u001b[49m\u001b[38;5;241;43m+\u001b[39;49m\u001b[38;5;124;43m'\u001b[39;49m\u001b[38;5;124;43msanju\u001b[39;49m\u001b[38;5;124;43m'\u001b[39;49m\n",
      "\u001b[0;31mTypeError\u001b[0m: unsupported operand type(s) for +: 'NoneType' and 'str'"
     ]
    }
   ],
   "source": [
    "test1()+'sanju'"
   ]
  },
  {
   "cell_type": "markdown",
   "id": "bf2fb498-27ee-466e-9703-1c7601be137b",
   "metadata": {},
   "source": [
    "1.print return nonetype. nonetype and string type can not be concatenate(both have diff type of datatype).\n",
    "2.return will always give same datatype and concatenation is possible.\n",
    "3."
   ]
  },
  {
   "cell_type": "code",
   "execution_count": 10,
   "id": "4327c973-baa6-4266-b7eb-5287b49b3fbc",
   "metadata": {},
   "outputs": [],
   "source": [
    "def test2():\n",
    "    return 'this is my function with return'"
   ]
  },
  {
   "cell_type": "code",
   "execution_count": 11,
   "id": "7527a274-2a30-4af4-bbb2-f18b947737b3",
   "metadata": {},
   "outputs": [
    {
     "data": {
      "text/plain": [
       "'this is my function with returnsanju'"
      ]
     },
     "execution_count": 11,
     "metadata": {},
     "output_type": "execute_result"
    }
   ],
   "source": [
    "test2()+ 'sanju'"
   ]
  },
  {
   "cell_type": "code",
   "execution_count": 13,
   "id": "a288b5e7-b4d4-4785-a32c-d0a3277cf6e1",
   "metadata": {},
   "outputs": [],
   "source": [
    "def test3(): # different type of return at a time can be possible with return\n",
    "    return 1,2,3,4,5,'sanju',345.5"
   ]
  },
  {
   "cell_type": "code",
   "execution_count": 14,
   "id": "988ac920-d4a2-4304-8167-258f59143022",
   "metadata": {},
   "outputs": [
    {
     "data": {
      "text/plain": [
       "(1, 2, 3, 4, 5, 'sanju', 345.5)"
      ]
     },
     "execution_count": 14,
     "metadata": {},
     "output_type": "execute_result"
    }
   ],
   "source": [
    "test3() # always return data in the form of tuplest"
   ]
  },
  {
   "cell_type": "code",
   "execution_count": 15,
   "id": "209a438f-f1e4-4a5d-bb50-c4a33e5e5837",
   "metadata": {},
   "outputs": [],
   "source": [
    "a=1,2,3,4,5 # declaring a multiple value to  a variable "
   ]
  },
  {
   "cell_type": "code",
   "execution_count": 16,
   "id": "5cef1394-739a-401e-ba9c-8906dfa6702f",
   "metadata": {},
   "outputs": [
    {
     "data": {
      "text/plain": [
       "(1, 2, 3, 4, 5)"
      ]
     },
     "execution_count": 16,
     "metadata": {},
     "output_type": "execute_result"
    }
   ],
   "source": [
    "a"
   ]
  },
  {
   "cell_type": "code",
   "execution_count": 17,
   "id": "6b0ff1a3-d48b-49a8-bdc4-01420c1c303a",
   "metadata": {},
   "outputs": [],
   "source": [
    "a,b,c,d = 1,2,34.43,True # declaring a multiple variable at a time  in a same way return can do"
   ]
  },
  {
   "cell_type": "code",
   "execution_count": 18,
   "id": "e8d71544-02b7-4fca-bd24-2eb0e343c37c",
   "metadata": {},
   "outputs": [
    {
     "data": {
      "text/plain": [
       "1"
      ]
     },
     "execution_count": 18,
     "metadata": {},
     "output_type": "execute_result"
    }
   ],
   "source": [
    "a"
   ]
  },
  {
   "cell_type": "code",
   "execution_count": 19,
   "id": "ee29c0f7-43ff-4dce-bdbd-daff2b9f36a2",
   "metadata": {},
   "outputs": [
    {
     "data": {
      "text/plain": [
       "2"
      ]
     },
     "execution_count": 19,
     "metadata": {},
     "output_type": "execute_result"
    }
   ],
   "source": [
    "b"
   ]
  },
  {
   "cell_type": "code",
   "execution_count": 20,
   "id": "7f1a32f5-b904-400b-ad04-4f2385651a11",
   "metadata": {},
   "outputs": [
    {
     "data": {
      "text/plain": [
       "34.43"
      ]
     },
     "execution_count": 20,
     "metadata": {},
     "output_type": "execute_result"
    }
   ],
   "source": [
    "c"
   ]
  },
  {
   "cell_type": "code",
   "execution_count": 21,
   "id": "1f45fa26-d019-4938-91ca-7c14d36a8b0b",
   "metadata": {},
   "outputs": [
    {
     "data": {
      "text/plain": [
       "True"
      ]
     },
     "execution_count": 21,
     "metadata": {},
     "output_type": "execute_result"
    }
   ],
   "source": [
    "d"
   ]
  },
  {
   "cell_type": "code",
   "execution_count": 22,
   "id": "a5ef6d62-e305-4f42-9353-2aeac1c405c0",
   "metadata": {},
   "outputs": [
    {
     "data": {
      "text/plain": [
       "(1, 2, 3, 4, 5, 'sanju', 345.5)"
      ]
     },
     "execution_count": 22,
     "metadata": {},
     "output_type": "execute_result"
    }
   ],
   "source": [
    "test3()"
   ]
  },
  {
   "cell_type": "code",
   "execution_count": 23,
   "id": "b5a1b9a0-e013-483b-ab9b-cb9319b06848",
   "metadata": {},
   "outputs": [
    {
     "data": {
      "text/plain": [
       "4"
      ]
     },
     "execution_count": 23,
     "metadata": {},
     "output_type": "execute_result"
    }
   ],
   "source": [
    "test3()[3] # extracting data  from tuple"
   ]
  },
  {
   "cell_type": "code",
   "execution_count": 24,
   "id": "302400c9-4c67-4c70-ae33-716b0a4192fd",
   "metadata": {},
   "outputs": [
    {
     "data": {
      "text/plain": [
       "'sanju'"
      ]
     },
     "execution_count": 24,
     "metadata": {},
     "output_type": "execute_result"
    }
   ],
   "source": [
    "test3()[5]"
   ]
  },
  {
   "cell_type": "code",
   "execution_count": 30,
   "id": "35a9e73f-f54b-4c75-bd62-a24a817151b2",
   "metadata": {},
   "outputs": [],
   "source": [
    "def test4():\n",
    "    return 3.4,4,'sanju',True"
   ]
  },
  {
   "cell_type": "code",
   "execution_count": 31,
   "id": "0f1a7732-17d3-47da-a905-32bf3d9fc4b4",
   "metadata": {},
   "outputs": [
    {
     "data": {
      "text/plain": [
       "(3.4, 4, 'sanju', True)"
      ]
     },
     "execution_count": 31,
     "metadata": {},
     "output_type": "execute_result"
    }
   ],
   "source": [
    "test4()"
   ]
  },
  {
   "cell_type": "code",
   "execution_count": 32,
   "id": "7bc51797-2ce1-47f7-97cb-e961b7bab270",
   "metadata": {},
   "outputs": [],
   "source": [
    "a,b,c,d = test4()  # funcn can be assigned to multiple variable and variable"
   ]
  },
  {
   "cell_type": "code",
   "execution_count": 34,
   "id": "1821e950-3b7b-4094-936a-2078879256b7",
   "metadata": {},
   "outputs": [
    {
     "data": {
      "text/plain": [
       "(3.4, 4)"
      ]
     },
     "execution_count": 34,
     "metadata": {},
     "output_type": "execute_result"
    }
   ],
   "source": [
    "a,b"
   ]
  },
  {
   "cell_type": "code",
   "execution_count": 35,
   "id": "5be84a20-933e-4f35-bae9-314d393b1e17",
   "metadata": {},
   "outputs": [],
   "source": [
    "a=test4()"
   ]
  },
  {
   "cell_type": "code",
   "execution_count": 36,
   "id": "2d411185-0532-416f-a9ad-3147c6029559",
   "metadata": {},
   "outputs": [
    {
     "data": {
      "text/plain": [
       "(3.4, 4, 'sanju', True)"
      ]
     },
     "execution_count": 36,
     "metadata": {},
     "output_type": "execute_result"
    }
   ],
   "source": [
    "a"
   ]
  },
  {
   "cell_type": "code",
   "execution_count": 37,
   "id": "febe2c38-34a1-48be-acb4-d7c7deefdb6e",
   "metadata": {},
   "outputs": [],
   "source": [
    "def test5():\n",
    "    a=3*4+5\n",
    "    return a"
   ]
  },
  {
   "cell_type": "code",
   "execution_count": 38,
   "id": "a35843bb-eece-427b-810b-ea28cc2b30d2",
   "metadata": {},
   "outputs": [
    {
     "data": {
      "text/plain": [
       "17"
      ]
     },
     "execution_count": 38,
     "metadata": {},
     "output_type": "execute_result"
    }
   ],
   "source": [
    "test5()"
   ]
  },
  {
   "cell_type": "code",
   "execution_count": 39,
   "id": "4e919df2-1233-4d69-9428-98b072057915",
   "metadata": {},
   "outputs": [
    {
     "data": {
      "text/plain": [
       "int"
      ]
     },
     "execution_count": 39,
     "metadata": {},
     "output_type": "execute_result"
    }
   ],
   "source": [
    "type(test5())"
   ]
  },
  {
   "cell_type": "code",
   "execution_count": 40,
   "id": "36b7f5b4-ce80-4ad0-b76a-938d700dfcc1",
   "metadata": {},
   "outputs": [],
   "source": [
    "def test6(a,b): # fucnction is taking two input a,b\n",
    "    c=a+b\n",
    "    return c"
   ]
  },
  {
   "cell_type": "code",
   "execution_count": 42,
   "id": "7fcbbc84-5d3a-4de5-8ead-881001617789",
   "metadata": {},
   "outputs": [
    {
     "ename": "TypeError",
     "evalue": "test6() missing 2 required positional arguments: 'a' and 'b'",
     "output_type": "error",
     "traceback": [
      "\u001b[0;31m---------------------------------------------------------------------------\u001b[0m",
      "\u001b[0;31mTypeError\u001b[0m                                 Traceback (most recent call last)",
      "Cell \u001b[0;32mIn[42], line 1\u001b[0m\n\u001b[0;32m----> 1\u001b[0m \u001b[43mtest6\u001b[49m\u001b[43m(\u001b[49m\u001b[43m)\u001b[49m\n",
      "\u001b[0;31mTypeError\u001b[0m: test6() missing 2 required positional arguments: 'a' and 'b'"
     ]
    }
   ],
   "source": [
    "test6()  # need two input that is designed during function creation"
   ]
  },
  {
   "cell_type": "code",
   "execution_count": 41,
   "id": "bf86aeda-8564-4a6c-85e4-eb5fab97d857",
   "metadata": {},
   "outputs": [
    {
     "data": {
      "text/plain": [
       "16"
      ]
     },
     "execution_count": 41,
     "metadata": {},
     "output_type": "execute_result"
    }
   ],
   "source": [
    "test6(8,8)"
   ]
  },
  {
   "cell_type": "code",
   "execution_count": 44,
   "id": "ec495d1f-cc9b-409d-b81f-f3abe1ecd0b3",
   "metadata": {},
   "outputs": [
    {
     "data": {
      "text/plain": [
       "178.8"
      ]
     },
     "execution_count": 44,
     "metadata": {},
     "output_type": "execute_result"
    }
   ],
   "source": [
    "test6(89.8,89)"
   ]
  },
  {
   "cell_type": "code",
   "execution_count": 45,
   "id": "060f28f2-3835-4a50-89d8-18d4db056f84",
   "metadata": {},
   "outputs": [
    {
     "data": {
      "text/plain": [
       "'anjumanisha'"
      ]
     },
     "execution_count": 45,
     "metadata": {},
     "output_type": "execute_result"
    }
   ],
   "source": [
    "test6('anju','manisha')"
   ]
  },
  {
   "cell_type": "code",
   "execution_count": 46,
   "id": "adfd8a17-fec2-48c3-8942-ba37d798639e",
   "metadata": {},
   "outputs": [
    {
     "ename": "TypeError",
     "evalue": "unsupported operand type(s) for +: 'int' and 'str'",
     "output_type": "error",
     "traceback": [
      "\u001b[0;31m---------------------------------------------------------------------------\u001b[0m",
      "\u001b[0;31mTypeError\u001b[0m                                 Traceback (most recent call last)",
      "Cell \u001b[0;32mIn[46], line 1\u001b[0m\n\u001b[0;32m----> 1\u001b[0m \u001b[43mtest6\u001b[49m\u001b[43m(\u001b[49m\u001b[38;5;241;43m8\u001b[39;49m\u001b[43m,\u001b[49m\u001b[38;5;124;43m'\u001b[39;49m\u001b[38;5;124;43mmani\u001b[39;49m\u001b[38;5;124;43m'\u001b[39;49m\u001b[43m)\u001b[49m\n",
      "Cell \u001b[0;32mIn[40], line 2\u001b[0m, in \u001b[0;36mtest6\u001b[0;34m(a, b)\u001b[0m\n\u001b[1;32m      1\u001b[0m \u001b[38;5;28;01mdef\u001b[39;00m \u001b[38;5;21mtest6\u001b[39m(a,b):\n\u001b[0;32m----> 2\u001b[0m     c\u001b[38;5;241m=\u001b[39m\u001b[43ma\u001b[49m\u001b[38;5;241;43m+\u001b[39;49m\u001b[43mb\u001b[49m\n\u001b[1;32m      3\u001b[0m     \u001b[38;5;28;01mreturn\u001b[39;00m c\n",
      "\u001b[0;31mTypeError\u001b[0m: unsupported operand type(s) for +: 'int' and 'str'"
     ]
    }
   ],
   "source": [
    "test6(8,'mani')  # diff datatype like int and string can not be passed as an input"
   ]
  },
  {
   "cell_type": "code",
   "execution_count": 47,
   "id": "51b2881c-3ba4-4c30-9057-2f9b58482eef",
   "metadata": {},
   "outputs": [
    {
     "data": {
      "text/plain": [
       "[3, 3, 2, 3, 2, 4]"
      ]
     },
     "execution_count": 47,
     "metadata": {},
     "output_type": "execute_result"
    }
   ],
   "source": [
    "test6([3,3,2],[3,2,4])  # two list can be passed as an input"
   ]
  },
  {
   "cell_type": "code",
   "execution_count": null,
   "id": "04667ad1-95c0-448b-90ba-64673a45c2c2",
   "metadata": {},
   "outputs": [],
   "source": []
  },
  {
   "cell_type": "code",
   "execution_count": 50,
   "id": "202da79b-83ac-4585-98e0-e6bf53dd5b54",
   "metadata": {},
   "outputs": [
    {
     "ename": "TypeError",
     "evalue": "unsupported operand type(s) for +: 'dict' and 'dict'",
     "output_type": "error",
     "traceback": [
      "\u001b[0;31m---------------------------------------------------------------------------\u001b[0m",
      "\u001b[0;31mTypeError\u001b[0m                                 Traceback (most recent call last)",
      "Cell \u001b[0;32mIn[50], line 1\u001b[0m\n\u001b[0;32m----> 1\u001b[0m \u001b[43mtest6\u001b[49m\u001b[43m(\u001b[49m\u001b[43m{\u001b[49m\u001b[38;5;124;43m'\u001b[39;49m\u001b[38;5;124;43mkey\u001b[39;49m\u001b[38;5;124;43m'\u001b[39;49m\u001b[43m:\u001b[49m\u001b[38;5;241;43m3\u001b[39;49m\u001b[43m}\u001b[49m\u001b[43m,\u001b[49m\u001b[43m{\u001b[49m\u001b[38;5;124;43m'\u001b[39;49m\u001b[38;5;124;43mkey2\u001b[39;49m\u001b[38;5;124;43m'\u001b[39;49m\u001b[43m:\u001b[49m\u001b[38;5;241;43m8\u001b[39;49m\u001b[43m}\u001b[49m\u001b[43m)\u001b[49m\n",
      "Cell \u001b[0;32mIn[40], line 2\u001b[0m, in \u001b[0;36mtest6\u001b[0;34m(a, b)\u001b[0m\n\u001b[1;32m      1\u001b[0m \u001b[38;5;28;01mdef\u001b[39;00m \u001b[38;5;21mtest6\u001b[39m(a,b):\n\u001b[0;32m----> 2\u001b[0m     c\u001b[38;5;241m=\u001b[39m\u001b[43ma\u001b[49m\u001b[38;5;241;43m+\u001b[39;49m\u001b[43mb\u001b[49m\n\u001b[1;32m      3\u001b[0m     \u001b[38;5;28;01mreturn\u001b[39;00m c\n",
      "\u001b[0;31mTypeError\u001b[0m: unsupported operand type(s) for +: 'dict' and 'dict'"
     ]
    }
   ],
   "source": [
    "test6({'key':3},{'key2':8}) # two dic can not be passed as input in function"
   ]
  },
  {
   "cell_type": "code",
   "execution_count": 51,
   "id": "3e9115ea-0694-4645-baf5-a980593ff69a",
   "metadata": {},
   "outputs": [
    {
     "data": {
      "text/plain": [
       "'kumarsudh'"
      ]
     },
     "execution_count": 51,
     "metadata": {},
     "output_type": "execute_result"
    }
   ],
   "source": [
    "test6(b='sudh',a= 'kumar') # named parameter can also be input  "
   ]
  },
  {
   "cell_type": "code",
   "execution_count": 52,
   "id": "d8404203-6740-4c0b-b778-23506c4b5569",
   "metadata": {},
   "outputs": [],
   "source": [
    "l =[1,2,3,5,3,'sudh','pwskills',[1,2,343,34]]"
   ]
  },
  {
   "cell_type": "code",
   "execution_count": 71,
   "id": "1aef8e9a-d137-459e-93c3-8244e418f7b7",
   "metadata": {},
   "outputs": [],
   "source": [
    "# create a function which will take list as a input and give me a final list of  numericc value\n",
    "def num(l):\n",
    "    n=[]\n",
    "    m=[]\n",
    "    for i in l:\n",
    "        if type(i)==list:\n",
    "            for j in i:\n",
    "                if type(j)==int:\n",
    "                    n.append(j)\n",
    "        else:\n",
    "            if type(i)==int:\n",
    "                n.append(i)\n",
    "    return n     \n"
   ]
  },
  {
   "cell_type": "code",
   "execution_count": 74,
   "id": "0762b2e9-7c45-4b43-9fac-d87a265511a3",
   "metadata": {},
   "outputs": [],
   "source": [
    "def test8(l):\n",
    "    n=[]\n",
    "    for i in l:\n",
    "        if type(i)==int:\n",
    "            n.append(i)\n",
    "    return n        "
   ]
  },
  {
   "cell_type": "code",
   "execution_count": 75,
   "id": "637f577c-657f-4b19-976b-f8da28d2f1f3",
   "metadata": {},
   "outputs": [
    {
     "data": {
      "text/plain": [
       "[1, 2, 3, 5, 3]"
      ]
     },
     "execution_count": 75,
     "metadata": {},
     "output_type": "execute_result"
    }
   ],
   "source": [
    "test8(l)"
   ]
  },
  {
   "cell_type": "code",
   "execution_count": 76,
   "id": "563c1bb3-cc05-4191-8096-b7a7b2593d24",
   "metadata": {},
   "outputs": [],
   "source": [
    "def test9(l):\n",
    "    n=[]\n",
    "    for i in l:\n",
    "        if type(i)==str:\n",
    "            n.append(i)\n",
    "    return n        "
   ]
  },
  {
   "cell_type": "code",
   "execution_count": 77,
   "id": "51accfba-cb4f-4961-9089-ee9a285b2a62",
   "metadata": {},
   "outputs": [
    {
     "data": {
      "text/plain": [
       "['sudh', 'pwskills']"
      ]
     },
     "execution_count": 77,
     "metadata": {},
     "output_type": "execute_result"
    }
   ],
   "source": [
    "test9(l)"
   ]
  },
  {
   "cell_type": "markdown",
   "id": "439c2af5-63fa-4ea7-97c8-7532602bc509",
   "metadata": {},
   "source": [
    " function part2"
   ]
  },
  {
   "cell_type": "code",
   "execution_count": 91,
   "id": "213eae2a-a2a0-4837-a572-b9fedb8349b8",
   "metadata": {},
   "outputs": [],
   "source": [
    "def test(a,b,c,d,e):\n",
    "    pass"
   ]
  },
  {
   "cell_type": "code",
   "execution_count": 92,
   "id": "d81603d2-223f-484d-a5cb-95d271b605ef",
   "metadata": {},
   "outputs": [],
   "source": [
    "test(1,2,3,5,3)"
   ]
  },
  {
   "cell_type": "code",
   "execution_count": 93,
   "id": "c98ec704-7149-4552-9db2-738a5d39b5d6",
   "metadata": {},
   "outputs": [
    {
     "ename": "TypeError",
     "evalue": "test() takes 5 positional arguments but 9 were given",
     "output_type": "error",
     "traceback": [
      "\u001b[0;31m---------------------------------------------------------------------------\u001b[0m",
      "\u001b[0;31mTypeError\u001b[0m                                 Traceback (most recent call last)",
      "Cell \u001b[0;32mIn[93], line 1\u001b[0m\n\u001b[0;32m----> 1\u001b[0m \u001b[43mtest\u001b[49m\u001b[43m(\u001b[49m\u001b[38;5;241;43m3\u001b[39;49m\u001b[43m,\u001b[49m\u001b[38;5;241;43m2\u001b[39;49m\u001b[43m,\u001b[49m\u001b[38;5;241;43m1\u001b[39;49m\u001b[43m,\u001b[49m\u001b[38;5;241;43m1\u001b[39;49m\u001b[43m,\u001b[49m\u001b[38;5;241;43m3\u001b[39;49m\u001b[43m,\u001b[49m\u001b[38;5;241;43m6\u001b[39;49m\u001b[43m,\u001b[49m\u001b[38;5;241;43m7\u001b[39;49m\u001b[43m,\u001b[49m\u001b[38;5;241;43m8\u001b[39;49m\u001b[43m,\u001b[49m\u001b[38;5;241;43m0\u001b[39;49m\u001b[43m)\u001b[49m\n",
      "\u001b[0;31mTypeError\u001b[0m: test() takes 5 positional arguments but 9 were given"
     ]
    }
   ],
   "source": [
    "test(3,2,1,1,3,6,7,8,0)"
   ]
  },
  {
   "cell_type": "code",
   "execution_count": 94,
   "id": "77e45ee3-d699-45e8-82db-f6d9ab6d4b01",
   "metadata": {},
   "outputs": [],
   "source": [
    "def test1(*args): # args take any no of argument at run time any datatype\n",
    "    return args # args is not keyword * is staric ===we can put any name in the place of args"
   ]
  },
  {
   "cell_type": "code",
   "execution_count": 95,
   "id": "e22f0a2c-3aa7-4b62-922f-0f3f9018567a",
   "metadata": {},
   "outputs": [
    {
     "data": {
      "text/plain": [
       "(2, 3, 4, 5, 5, 5, 5, 56, 665, 665)"
      ]
     },
     "execution_count": 95,
     "metadata": {},
     "output_type": "execute_result"
    }
   ],
   "source": [
    "test1(2,3,4,5,5,5,5,56,665,665)"
   ]
  },
  {
   "cell_type": "code",
   "execution_count": 96,
   "id": "cd1a2290-9d8a-46b8-9ac2-cd4709e125d2",
   "metadata": {},
   "outputs": [
    {
     "data": {
      "text/plain": [
       "('sudh', [2, 3, 33], 34.34)"
      ]
     },
     "execution_count": 96,
     "metadata": {},
     "output_type": "execute_result"
    }
   ],
   "source": [
    "test1('sudh',[2,3,33],34.34)"
   ]
  },
  {
   "cell_type": "code",
   "execution_count": 97,
   "id": "b4474963-ff35-44a7-9972-a37e0dec6fa1",
   "metadata": {},
   "outputs": [],
   "source": [
    "def test2(*sanju):\n",
    "    return sanju"
   ]
  },
  {
   "cell_type": "code",
   "execution_count": 98,
   "id": "04f3cc84-5526-47d5-9069-4ce3c5f651ac",
   "metadata": {},
   "outputs": [
    {
     "data": {
      "text/plain": [
       "('sanju', 'amki', [3, 33, 43.3], True)"
      ]
     },
     "execution_count": 98,
     "metadata": {},
     "output_type": "execute_result"
    }
   ],
   "source": [
    "test2('sanju','amki',[3,33,43.3],True)"
   ]
  },
  {
   "cell_type": "code",
   "execution_count": 99,
   "id": "41f7102b-ba85-48f4-8825-e78353fdca3f",
   "metadata": {},
   "outputs": [],
   "source": [
    "def test3(*args,a):\n",
    "    return args,a"
   ]
  },
  {
   "cell_type": "code",
   "execution_count": 101,
   "id": "3bdae884-f609-4928-97ac-793077afbaa8",
   "metadata": {},
   "outputs": [
    {
     "data": {
      "text/plain": [
       "((2, 4, 43, 23.4, 432), 'sudh')"
      ]
     },
     "execution_count": 101,
     "metadata": {},
     "output_type": "execute_result"
    }
   ],
   "source": [
    "test3(2,4,43,23.4,432,a='sudh')"
   ]
  },
  {
   "cell_type": "code",
   "execution_count": 102,
   "id": "5915795c-fb64-45cd-a606-518b42b864ae",
   "metadata": {},
   "outputs": [],
   "source": [
    "def test4(*args):  # args return the data in the form of tuples\n",
    "    l=[]\n",
    "    for i in args:\n",
    "        if type(i)==list:\n",
    "            l.append(i)\n",
    "    return l        "
   ]
  },
  {
   "cell_type": "code",
   "execution_count": 104,
   "id": "edf5bbcc-0af6-49fd-995e-6439d5a693c4",
   "metadata": {},
   "outputs": [
    {
     "data": {
      "text/plain": [
       "[[3, 45, 54, 21], [32, 234, 432, 43]]"
      ]
     },
     "execution_count": 104,
     "metadata": {},
     "output_type": "execute_result"
    }
   ],
   "source": [
    "test4(2,24,4,3,2,[3,45,54,21],(54,43,24,'sudh'),'amki',[32,234,432,43])"
   ]
  },
  {
   "cell_type": "code",
   "execution_count": 105,
   "id": "b7e78433-8cd9-4ed1-8353-74c06ae67658",
   "metadata": {},
   "outputs": [],
   "source": [
    "def test5(**kwargs): # take any no of input at run time and return as dictionary\n",
    "    return kwargs"
   ]
  },
  {
   "cell_type": "code",
   "execution_count": 106,
   "id": "a90c25dd-0eab-403d-884d-1b18bd8be951",
   "metadata": {},
   "outputs": [
    {
     "data": {
      "text/plain": [
       "{}"
      ]
     },
     "execution_count": 106,
     "metadata": {},
     "output_type": "execute_result"
    }
   ],
   "source": [
    "test5()  # If we execute without any input it returns empty dictionary"
   ]
  },
  {
   "cell_type": "code",
   "execution_count": 107,
   "id": "5308f086-cb1e-4ae5-b0b7-db3505a9f085",
   "metadata": {},
   "outputs": [
    {
     "data": {
      "text/plain": [
       "dict"
      ]
     },
     "execution_count": 107,
     "metadata": {},
     "output_type": "execute_result"
    }
   ],
   "source": [
    "type(test5())"
   ]
  },
  {
   "cell_type": "code",
   "execution_count": 111,
   "id": "650e65cc-d9ba-4918-87cd-c86e27bdfb4c",
   "metadata": {},
   "outputs": [],
   "source": [
    "a=test5(a=3,b=232,c=[34,432,234],d=('dumble','sanjana'))"
   ]
  },
  {
   "cell_type": "code",
   "execution_count": 112,
   "id": "5c98f2f3-52f7-4114-ac47-671c67e5f1a9",
   "metadata": {},
   "outputs": [
    {
     "data": {
      "text/plain": [
       "{'a': 3, 'b': 232, 'c': [34, 432, 234], 'd': ('dumble', 'sanjana')}"
      ]
     },
     "execution_count": 112,
     "metadata": {},
     "output_type": "execute_result"
    }
   ],
   "source": [
    "a"
   ]
  },
  {
   "cell_type": "code",
   "execution_count": 116,
   "id": "a73a8a67-e9a4-43b2-9500-77a1dfe9589f",
   "metadata": {},
   "outputs": [
    {
     "data": {
      "text/plain": [
       "'dumble'"
      ]
     },
     "execution_count": 116,
     "metadata": {},
     "output_type": "execute_result"
    }
   ],
   "source": [
    "a['d'][0]"
   ]
  },
  {
   "cell_type": "code",
   "execution_count": 117,
   "id": "f673b351-448c-47a4-957e-1ce741aa7013",
   "metadata": {},
   "outputs": [],
   "source": [
    "def test6(**kwargs):\n",
    "    for i in kwargs.keys():\n",
    "        if type(kwargs[i]) ==list :\n",
    "            return i,kwargs[i]"
   ]
  },
  {
   "cell_type": "code",
   "execution_count": 118,
   "id": "951d4f9c-babd-4137-9d52-874649dfbb5b",
   "metadata": {},
   "outputs": [
    {
     "data": {
      "text/plain": [
       "('c', [34, 432, 234])"
      ]
     },
     "execution_count": 118,
     "metadata": {},
     "output_type": "execute_result"
    }
   ],
   "source": [
    "test6(a=3,b=232,c=[34,432,234],d=('dumble','sanjana'))"
   ]
  },
  {
   "cell_type": "code",
   "execution_count": 127,
   "id": "dc4b9096-b7be-4652-8c72-f75ca8465853",
   "metadata": {},
   "outputs": [],
   "source": [
    "def test10(**mani):\n",
    "    return mani"
   ]
  },
  {
   "cell_type": "code",
   "execution_count": 128,
   "id": "e7e9fd27-b77d-45a0-8ca1-38e461f39cc8",
   "metadata": {},
   "outputs": [
    {
     "data": {
      "text/plain": [
       "{'a': 9, 'b': 98}"
      ]
     },
     "execution_count": 128,
     "metadata": {},
     "output_type": "execute_result"
    }
   ],
   "source": [
    "test10(a=9,b=98)"
   ]
  },
  {
   "cell_type": "code",
   "execution_count": 122,
   "id": "0d1f8f6e-2afa-4db1-9864-33d815d652f8",
   "metadata": {},
   "outputs": [
    {
     "ename": "SyntaxError",
     "evalue": "invalid syntax (405393934.py, line 3)",
     "output_type": "error",
     "traceback": [
      "\u001b[0;36m  Cell \u001b[0;32mIn[122], line 3\u001b[0;36m\u001b[0m\n\u001b[0;31m    if type(kwargs[i] == tuple :\u001b[0m\n\u001b[0m                               ^\u001b[0m\n\u001b[0;31mSyntaxError\u001b[0m\u001b[0;31m:\u001b[0m invalid syntax\n"
     ]
    }
   ],
   "source": [
    "def test7(**kwargs):\n",
    "    for i in kwargs.keys():\n",
    "        if type(kwargs[i] == tuple :\n",
    "                return i ,kwargs[i]"
   ]
  },
  {
   "cell_type": "code",
   "execution_count": 124,
   "id": "63df7454-3857-422e-bbb8-1ad0775dacb3",
   "metadata": {},
   "outputs": [],
   "source": [
    "def test8(*args,**kwargs):\n",
    "          return args,kwargs"
   ]
  },
  {
   "cell_type": "code",
   "execution_count": 125,
   "id": "5bf1696c-12a7-4ac6-a2fb-7cdfca23d5dd",
   "metadata": {},
   "outputs": [
    {
     "data": {
      "text/plain": [
       "((2, 32, 2, 22, 23), {'a': 34, 'b': 54})"
      ]
     },
     "execution_count": 125,
     "metadata": {},
     "output_type": "execute_result"
    }
   ],
   "source": [
    "test8(2,32,2,22,23,a=34,b=54)"
   ]
  },
  {
   "cell_type": "markdown",
   "id": "46d0f3d8-f45b-4d1c-9acf-509edb2b5cd1",
   "metadata": {},
   "source": [
    "1.args return data in tuples and kwargs return in dictionary\n",
    "2.both args and kwargs take any amount of  data\n",
    "3.both args and kwargs are not reserved keywords ,we can take any name in the place of it."
   ]
  },
  {
   "cell_type": "code",
   "execution_count": null,
   "id": "4d52f469-c4af-4f7d-b843-b9168ea9139e",
   "metadata": {},
   "outputs": [],
   "source": []
  },
  {
   "cell_type": "markdown",
   "id": "1ada191e-ba2b-444d-8991-76c1c371b243",
   "metadata": {},
   "source": [
    " # generator"
   ]
  },
  {
   "cell_type": "code",
   "execution_count": 129,
   "id": "42ac286b-9b94-4b59-b6ac-fd24279f64cb",
   "metadata": {},
   "outputs": [
    {
     "data": {
      "text/plain": [
       "range(1, 10)"
      ]
     },
     "execution_count": 129,
     "metadata": {},
     "output_type": "execute_result"
    }
   ],
   "source": [
    "range(1,10) # it is not generating the data"
   ]
  },
  {
   "cell_type": "code",
   "execution_count": 130,
   "id": "5cfb4895-966f-4355-b22d-a92280a8d782",
   "metadata": {},
   "outputs": [
    {
     "name": "stdout",
     "output_type": "stream",
     "text": [
      "1\n",
      "2\n",
      "3\n",
      "4\n",
      "5\n",
      "6\n",
      "7\n",
      "8\n",
      "9\n"
     ]
    }
   ],
   "source": [
    "for i in range(1,10): # we have to open it in for loop to generate data\n",
    "    print(i)"
   ]
  },
  {
   "cell_type": "code",
   "execution_count": 131,
   "id": "111dce76-31c6-4520-8e90-ad1183f5585d",
   "metadata": {},
   "outputs": [],
   "source": [
    "l = [1,2,3,4,5,6,7,8,8,'sudh','pwskills']"
   ]
  },
  {
   "cell_type": "code",
   "execution_count": 132,
   "id": "8777d375-e95c-4da7-9afe-716707eec3a9",
   "metadata": {},
   "outputs": [],
   "source": [
    "def test(a):\n",
    "    m =[]\n",
    "    for i in a:\n",
    "        if type(i) == int:\n",
    "            m.append(i)\n",
    "    return m        "
   ]
  },
  {
   "cell_type": "code",
   "execution_count": 133,
   "id": "34ada6ba-0628-4af3-979e-ef9046e9b61e",
   "metadata": {},
   "outputs": [
    {
     "data": {
      "text/plain": [
       "[1, 2, 3, 4, 5, 6, 7, 8, 8]"
      ]
     },
     "execution_count": 133,
     "metadata": {},
     "output_type": "execute_result"
    }
   ],
   "source": [
    "test(l)"
   ]
  },
  {
   "cell_type": "raw",
   "id": "a7b94e99-ac07-4a76-85c7-0d45663d912c",
   "metadata": {},
   "source": [
    "1.suppose in a same way we want to generate millions and trillon of data ....then it will prepare a final  list and it will not stop unless or until  it prepare a final list and  give it to you  --so it blocks storage and  time will be increased as no of output will increase ....bottle neck .. \n",
    "\n",
    "in case of range kind of function\n",
    "1.it is not remembering all data,it remember only last generated data and on this basis it generate next data.....yield keyword generate this kind of  funcrtion..............fibonaki series (starts with 0 and counted last no like 0,1,1,2,3,5,8,13,21,34 doesn't block the memory give daata and forget\\\\\\\\\n",
    "\n",
    "range is also a generator function"
   ]
  },
  {
   "cell_type": "code",
   "execution_count": 136,
   "id": "1de07a02-64cc-4520-8987-cb34be7d25c1",
   "metadata": {},
   "outputs": [],
   "source": [
    "def test_fib(n):\n",
    "    a,b=0,1\n",
    "    for i in range(n):\n",
    "        yield a\n",
    "        a,b=b,a+b"
   ]
  },
  {
   "cell_type": "code",
   "execution_count": 137,
   "id": "844e8981-f6db-4470-8d7c-64d4ca2a7571",
   "metadata": {},
   "outputs": [
    {
     "data": {
      "text/plain": [
       "<generator object test_fib at 0x7f53106491c0>"
      ]
     },
     "execution_count": 137,
     "metadata": {},
     "output_type": "execute_result"
    }
   ],
   "source": [
    "test_fib(10)"
   ]
  },
  {
   "cell_type": "code",
   "execution_count": 138,
   "id": "81f3161b-d42c-4d9d-8aef-cb7d4c6f7bfb",
   "metadata": {},
   "outputs": [
    {
     "name": "stdout",
     "output_type": "stream",
     "text": [
      "0\n",
      "1\n",
      "1\n",
      "2\n",
      "3\n",
      "5\n",
      "8\n",
      "13\n",
      "21\n",
      "34\n"
     ]
    }
   ],
   "source": [
    "for i in test_fib(10):\n",
    "    print(i)\n",
    "    "
   ]
  },
  {
   "cell_type": "markdown",
   "id": "1ee902b3-c1e0-45a4-81ee-1921406612b4",
   "metadata": {},
   "source": [
    "<!-- lambda function or  anonymous function\n",
    "\n",
    "if we want to write function in one line we can do it with lambda or anonymous function(a function without name)"
   ]
  },
  {
   "cell_type": "code",
   "execution_count": 1,
   "id": "d6fbda25-8295-4328-b59a-3f3d1680873c",
   "metadata": {},
   "outputs": [],
   "source": [
    "n=3\n",
    "p=4\n",
    "\n",
    "def test(n,p):\n",
    "    return n**p"
   ]
  },
  {
   "cell_type": "code",
   "execution_count": 2,
   "id": "abd55e85-7bef-4ac1-9664-6f52e19788c4",
   "metadata": {},
   "outputs": [
    {
     "data": {
      "text/plain": [
       "8"
      ]
     },
     "execution_count": 2,
     "metadata": {},
     "output_type": "execute_result"
    }
   ],
   "source": [
    "test(2,3)"
   ]
  },
  {
   "cell_type": "code",
   "execution_count": 3,
   "id": "dc2f8d8d-282f-4dd0-a040-d576107b0934",
   "metadata": {},
   "outputs": [
    {
     "data": {
      "text/plain": [
       "343"
      ]
     },
     "execution_count": 3,
     "metadata": {},
     "output_type": "execute_result"
    }
   ],
   "source": [
    "test(7,3)"
   ]
  },
  {
   "cell_type": "code",
   "execution_count": 5,
   "id": "5259cfdc-3aaa-4f79-a677-9713fe27d2d8",
   "metadata": {},
   "outputs": [],
   "source": [
    "a=lambda n,p : n**p"
   ]
  },
  {
   "cell_type": "code",
   "execution_count": 8,
   "id": "056ee7cb-ece9-4c3d-b670-c042575067dd",
   "metadata": {},
   "outputs": [
    {
     "data": {
      "text/plain": [
       "64"
      ]
     },
     "execution_count": 8,
     "metadata": {},
     "output_type": "execute_result"
    }
   ],
   "source": [
    "a(8,2)"
   ]
  },
  {
   "cell_type": "code",
   "execution_count": 9,
   "id": "8241f8c8-0e8a-4511-8950-627b58bd5bc8",
   "metadata": {},
   "outputs": [
    {
     "data": {
      "text/plain": [
       "25"
      ]
     },
     "execution_count": 9,
     "metadata": {},
     "output_type": "execute_result"
    }
   ],
   "source": [
    "a(5,2)"
   ]
  },
  {
   "cell_type": "code",
   "execution_count": 10,
   "id": "53531a2b-d20b-4c6c-8c8a-f0dc30625db5",
   "metadata": {},
   "outputs": [],
   "source": [
    "add = lambda x,y : x+y"
   ]
  },
  {
   "cell_type": "code",
   "execution_count": 11,
   "id": "c75afcfc-7c31-4f31-bc51-f63598c39aee",
   "metadata": {},
   "outputs": [
    {
     "data": {
      "text/plain": [
       "9644"
      ]
     },
     "execution_count": 11,
     "metadata": {},
     "output_type": "execute_result"
    }
   ],
   "source": [
    "add(8768,876)"
   ]
  },
  {
   "cell_type": "code",
   "execution_count": 12,
   "id": "ccc09fc8-c8d4-47b2-badd-41f100ef6cb4",
   "metadata": {},
   "outputs": [],
   "source": [
    "# c ...f\n",
    "c_f = lambda c :(9/5)*c+32"
   ]
  },
  {
   "cell_type": "code",
   "execution_count": 13,
   "id": "80b7d9fc-7d08-411c-b448-36d422c967be",
   "metadata": {},
   "outputs": [
    {
     "data": {
      "text/plain": [
       "93.2"
      ]
     },
     "execution_count": 13,
     "metadata": {},
     "output_type": "execute_result"
    }
   ],
   "source": [
    "c_f(34)"
   ]
  },
  {
   "cell_type": "code",
   "execution_count": 14,
   "id": "3b92ff9f-1896-42a7-af3f-1215053e6abb",
   "metadata": {},
   "outputs": [],
   "source": [
    "max_two = lambda x,y: x if x>y else y"
   ]
  },
  {
   "cell_type": "code",
   "execution_count": 15,
   "id": "e80fe11c-18a7-448c-92cb-8e4210596e80",
   "metadata": {},
   "outputs": [
    {
     "data": {
      "text/plain": [
       "45"
      ]
     },
     "execution_count": 15,
     "metadata": {},
     "output_type": "execute_result"
    }
   ],
   "source": [
    "max_two(45,4)"
   ]
  },
  {
   "cell_type": "code",
   "execution_count": 16,
   "id": "abb29b9c-8e57-4f0e-8bee-2d2663e0b781",
   "metadata": {},
   "outputs": [],
   "source": [
    "min_two = lambda x,y: x if x<y else y"
   ]
  },
  {
   "cell_type": "code",
   "execution_count": 17,
   "id": "cf4b1673-160f-4bd1-9d5f-43f7883fd947",
   "metadata": {},
   "outputs": [
    {
     "data": {
      "text/plain": [
       "7"
      ]
     },
     "execution_count": 17,
     "metadata": {},
     "output_type": "execute_result"
    }
   ],
   "source": [
    "min_two(76,7)"
   ]
  },
  {
   "cell_type": "code",
   "execution_count": 18,
   "id": "39908cad-9341-4076-9d9c-09783ac59b59",
   "metadata": {},
   "outputs": [],
   "source": [
    "s='pwskills'"
   ]
  },
  {
   "cell_type": "code",
   "execution_count": 19,
   "id": "b548dce7-d1b8-4982-9215-09b2ae87f48e",
   "metadata": {},
   "outputs": [],
   "source": [
    "len_str = lambda s: len(s)"
   ]
  },
  {
   "cell_type": "code",
   "execution_count": 20,
   "id": "3054585c-1b97-4860-b8cd-2fbe7ae2a382",
   "metadata": {},
   "outputs": [
    {
     "data": {
      "text/plain": [
       "8"
      ]
     },
     "execution_count": 20,
     "metadata": {},
     "output_type": "execute_result"
    }
   ],
   "source": [
    "len_str(s)"
   ]
  },
  {
   "cell_type": "code",
   "execution_count": 21,
   "id": "0b68a5fb-59df-447e-bc74-3820c106ef19",
   "metadata": {},
   "outputs": [],
   "source": [
    "x='my name is roma'"
   ]
  },
  {
   "cell_type": "code",
   "execution_count": 22,
   "id": "a80feb99-d9c4-4e1d-bb3b-590246311325",
   "metadata": {},
   "outputs": [],
   "source": [
    "x_len = lambda x: len(x)"
   ]
  },
  {
   "cell_type": "code",
   "execution_count": 23,
   "id": "95734a0b-c2c4-43c4-aefa-d4bf82ce2934",
   "metadata": {},
   "outputs": [
    {
     "data": {
      "text/plain": [
       "15"
      ]
     },
     "execution_count": 23,
     "metadata": {},
     "output_type": "execute_result"
    }
   ],
   "source": [
    "x_len(x)"
   ]
  },
  {
   "cell_type": "code",
   "execution_count": null,
   "id": "c68861b8-c662-4c1c-9ebb-267abd9996b3",
   "metadata": {},
   "outputs": [],
   "source": []
  },
  {
   "cell_type": "markdown",
   "id": "e1419584-2a31-41d2-bbd1-6ee1be69fe52",
   "metadata": {},
   "source": [
    "# map, reduce and filter funcction"
   ]
  },
  {
   "cell_type": "code",
   "execution_count": 32,
   "id": "8735b68d-394b-406d-bd30-e4d0f2f6164f",
   "metadata": {},
   "outputs": [],
   "source": [
    "l = [1,2,3,4,4,5,6,7,8,89]\n",
    "# give me a square of this list and return as a list\n",
    "def test(l):\n",
    "    l1=[]\n",
    "    for i in l:\n",
    "        l1.append(i**2)\n",
    "    return l1"
   ]
  },
  {
   "cell_type": "code",
   "execution_count": 33,
   "id": "b4143012-d67f-41a1-9a78-a12090f911eb",
   "metadata": {},
   "outputs": [
    {
     "data": {
      "text/plain": [
       "[1, 4, 9, 16, 16, 25, 36, 49, 64, 7921]"
      ]
     },
     "execution_count": 33,
     "metadata": {},
     "output_type": "execute_result"
    }
   ],
   "source": [
    "test(l)"
   ]
  },
  {
   "cell_type": "raw",
   "id": "db97b0c8-9206-47ca-a53d-1e192d5256f4",
   "metadata": {},
   "source": [
    "what if we want same thing in single  line....map function,reduce and filter(shorthand) "
   ]
  },
  {
   "cell_type": "code",
   "execution_count": 38,
   "id": "20dbba8b-aa34-4bed-b8c0-00fef40630a2",
   "metadata": {},
   "outputs": [],
   "source": [
    "def sq(x):\n",
    "    return x**2"
   ]
  },
  {
   "cell_type": "code",
   "execution_count": 39,
   "id": "5dd076a1-6c25-4e27-b5d4-594746e831a3",
   "metadata": {},
   "outputs": [
    {
     "data": {
      "text/plain": [
       "<map at 0x7f253c0ad270>"
      ]
     },
     "execution_count": 39,
     "metadata": {},
     "output_type": "execute_result"
    }
   ],
   "source": [
    "map(sq,l)"
   ]
  },
  {
   "cell_type": "code",
   "execution_count": 40,
   "id": "ad12ac22-a8d2-43cb-a2d9-bd2815c2a154",
   "metadata": {},
   "outputs": [
    {
     "data": {
      "text/plain": [
       "[1, 4, 9, 16, 16, 25, 36, 49, 64, 7921]"
      ]
     },
     "execution_count": 40,
     "metadata": {},
     "output_type": "execute_result"
    }
   ],
   "source": [
    "list(map(sq,l))"
   ]
  },
  {
   "cell_type": "code",
   "execution_count": 44,
   "id": "a74a4274-ac10-4f29-9fde-53d0da32e85d",
   "metadata": {},
   "outputs": [
    {
     "data": {
      "text/plain": [
       "[1, 4, 9, 16, 16, 25, 36, 49, 64, 7921]"
      ]
     },
     "execution_count": 44,
     "metadata": {},
     "output_type": "execute_result"
    }
   ],
   "source": [
    "list(map(lambda  x:x**2,l))"
   ]
  },
  {
   "cell_type": "code",
   "execution_count": 46,
   "id": "e153075c-f9d3-4242-9e4e-dc94da615837",
   "metadata": {},
   "outputs": [
    {
     "data": {
      "text/plain": [
       "[1, 4, 9, 16, 16, 25, 36, 49, 64, 7921]"
      ]
     },
     "execution_count": 46,
     "metadata": {},
     "output_type": "execute_result"
    }
   ],
   "source": [
    "list(map(sq,l))"
   ]
  },
  {
   "cell_type": "code",
   "execution_count": 47,
   "id": "69ee46ac-9050-4231-8923-a25e326d2c8d",
   "metadata": {},
   "outputs": [
    {
     "data": {
      "text/plain": [
       "[1, 4, 9, 16, 16, 25, 36, 49, 64, 7921]"
      ]
     },
     "execution_count": 47,
     "metadata": {},
     "output_type": "execute_result"
    }
   ],
   "source": [
    "list(map(lambda x:x**2,l))"
   ]
  },
  {
   "cell_type": "code",
   "execution_count": 48,
   "id": "dc608ea3-11bb-41cc-9a9a-82c3462dba67",
   "metadata": {},
   "outputs": [
    {
     "data": {
      "text/plain": [
       "[4, 5, 6, 7, 7, 8, 9, 10, 11, 92]"
      ]
     },
     "execution_count": 48,
     "metadata": {},
     "output_type": "execute_result"
    }
   ],
   "source": [
    "list(map(lambda x: x+3,l))"
   ]
  },
  {
   "cell_type": "code",
   "execution_count": 49,
   "id": "c2b810a9-42ba-4d3e-8792-73447851a68a",
   "metadata": {},
   "outputs": [],
   "source": [
    "l1 = [1,2,3,4,5]\n",
    "l2 = [6,7,8,8,9,10]"
   ]
  },
  {
   "cell_type": "code",
   "execution_count": 54,
   "id": "29833346-c14f-42ea-a6ae-9a2b1cc92a5f",
   "metadata": {},
   "outputs": [
    {
     "data": {
      "text/plain": [
       "[7, 9, 11, 12, 14]"
      ]
     },
     "execution_count": 54,
     "metadata": {},
     "output_type": "execute_result"
    }
   ],
   "source": [
    "list(map(lambda x,y:x+y,l1,l2))"
   ]
  },
  {
   "cell_type": "code",
   "execution_count": 55,
   "id": "68648411-539e-47c3-8c73-9aa4926bb49e",
   "metadata": {},
   "outputs": [
    {
     "data": {
      "text/plain": [
       "[7, 9, 11, 12, 14]"
      ]
     },
     "execution_count": 55,
     "metadata": {},
     "output_type": "execute_result"
    }
   ],
   "source": [
    "\n",
    "list(map(lambda x,y: x+y , l1,l2))"
   ]
  },
  {
   "cell_type": "code",
   "execution_count": 58,
   "id": "4b225346-6875-4d1f-827b-de78e9c35c4d",
   "metadata": {},
   "outputs": [],
   "source": [
    "s=lambda x,y : x+y"
   ]
  },
  {
   "cell_type": "code",
   "execution_count": 59,
   "id": "e830be4a-0322-422d-9b0b-ec6993efb2ba",
   "metadata": {},
   "outputs": [
    {
     "data": {
      "text/plain": [
       "[7, 9, 11, 12, 14]"
      ]
     },
     "execution_count": 59,
     "metadata": {},
     "output_type": "execute_result"
    }
   ],
   "source": [
    "list(map(s,l1,l2))"
   ]
  },
  {
   "cell_type": "code",
   "execution_count": 60,
   "id": "ea961ef9-e01d-41f8-b5c8-f8880c6eaedd",
   "metadata": {},
   "outputs": [],
   "source": [
    "s = 'pwskills'"
   ]
  },
  {
   "cell_type": "code",
   "execution_count": 61,
   "id": "35b9908e-89ac-446e-bc17-4682a7330e17",
   "metadata": {},
   "outputs": [
    {
     "data": {
      "text/plain": [
       "['P', 'W', 'S', 'K', 'I', 'L', 'L', 'S']"
      ]
     },
     "execution_count": 61,
     "metadata": {},
     "output_type": "execute_result"
    }
   ],
   "source": [
    "list(map(lambda x:x.upper(),s))"
   ]
  },
  {
   "cell_type": "code",
   "execution_count": 62,
   "id": "87ec1545-34e4-4515-a9a8-8ba10fdb19c6",
   "metadata": {},
   "outputs": [],
   "source": [
    "# in python there is no reduce we have to install to use it\n",
    "from functools import reduce"
   ]
  },
  {
   "cell_type": "code",
   "execution_count": 63,
   "id": "5a8929c9-9b95-429c-9ea2-9c85de4498d5",
   "metadata": {},
   "outputs": [],
   "source": [
    "l=[1,2,3,4,5,4]"
   ]
  },
  {
   "cell_type": "code",
   "execution_count": 65,
   "id": "b6059dd2-5e9b-4cf9-9afd-39b897d0a979",
   "metadata": {},
   "outputs": [
    {
     "data": {
      "text/plain": [
       "19"
      ]
     },
     "execution_count": 65,
     "metadata": {},
     "output_type": "execute_result"
    }
   ],
   "source": [
    "reduce(lambda x,y : x+y,l)  # adding all and give it"
   ]
  },
  {
   "cell_type": "code",
   "execution_count": 66,
   "id": "74fa1609-bebb-4e1b-8f08-ec439f86a0cc",
   "metadata": {},
   "outputs": [],
   "source": [
    "def add(x,y): # we can also put external function as well\n",
    "    return x+y"
   ]
  },
  {
   "cell_type": "code",
   "execution_count": 67,
   "id": "9bdcb628-1657-4f64-829d-d5c922194d83",
   "metadata": {},
   "outputs": [
    {
     "data": {
      "text/plain": [
       "19"
      ]
     },
     "execution_count": 67,
     "metadata": {},
     "output_type": "execute_result"
    }
   ],
   "source": [
    "reduce(add,l)"
   ]
  },
  {
   "cell_type": "code",
   "execution_count": 68,
   "id": "414c3ac7-2bb0-497e-8725-256bd861a516",
   "metadata": {},
   "outputs": [
    {
     "ename": "TypeError",
     "evalue": "<lambda>() missing 1 required positional argument: 'z'",
     "output_type": "error",
     "traceback": [
      "\u001b[0;31m---------------------------------------------------------------------------\u001b[0m",
      "\u001b[0;31mTypeError\u001b[0m                                 Traceback (most recent call last)",
      "Cell \u001b[0;32mIn[68], line 1\u001b[0m\n\u001b[0;32m----> 1\u001b[0m \u001b[43mreduce\u001b[49m\u001b[43m(\u001b[49m\u001b[38;5;28;43;01mlambda\u001b[39;49;00m\u001b[43m \u001b[49m\u001b[43mx\u001b[49m\u001b[43m,\u001b[49m\u001b[43my\u001b[49m\u001b[43m,\u001b[49m\u001b[43mz\u001b[49m\u001b[43m \u001b[49m\u001b[43m:\u001b[49m\u001b[43m \u001b[49m\u001b[43mx\u001b[49m\u001b[38;5;241;43m+\u001b[39;49m\u001b[43my\u001b[49m\u001b[38;5;241;43m+\u001b[39;49m\u001b[43mz\u001b[49m\u001b[43m \u001b[49m\u001b[43m,\u001b[49m\u001b[43ml\u001b[49m\u001b[43m)\u001b[49m\n",
      "\u001b[0;31mTypeError\u001b[0m: <lambda>() missing 1 required positional argument: 'z'"
     ]
    }
   ],
   "source": [
    "reduce(lambda x,y,z : x+y+z ,l) # it will not always work for 3 positional argument "
   ]
  },
  {
   "cell_type": "code",
   "execution_count": 69,
   "id": "b5c13abe-249d-45c9-9dd3-6abf00ee6aa8",
   "metadata": {},
   "outputs": [
    {
     "ename": "TypeError",
     "evalue": "reduce() of empty iterable with no initial value",
     "output_type": "error",
     "traceback": [
      "\u001b[0;31m---------------------------------------------------------------------------\u001b[0m",
      "\u001b[0;31mTypeError\u001b[0m                                 Traceback (most recent call last)",
      "Cell \u001b[0;32mIn[69], line 1\u001b[0m\n\u001b[0;32m----> 1\u001b[0m \u001b[43mreduce\u001b[49m\u001b[43m(\u001b[49m\u001b[38;5;28;43;01mlambda\u001b[39;49;00m\u001b[43m \u001b[49m\u001b[43mx\u001b[49m\u001b[43m,\u001b[49m\u001b[43my\u001b[49m\u001b[43m \u001b[49m\u001b[43m:\u001b[49m\u001b[43m \u001b[49m\u001b[43mx\u001b[49m\u001b[38;5;241;43m+\u001b[39;49m\u001b[43my\u001b[49m\u001b[43m \u001b[49m\u001b[43m,\u001b[49m\u001b[43m[\u001b[49m\u001b[43m]\u001b[49m\u001b[43m)\u001b[49m\n",
      "\u001b[0;31mTypeError\u001b[0m: reduce() of empty iterable with no initial value"
     ]
    }
   ],
   "source": [
    "reduce(lambda x,y : x+y ,[]) # it will not work for empty list"
   ]
  },
  {
   "cell_type": "code",
   "execution_count": 70,
   "id": "424e74bc-f606-4c88-9269-78da032c0044",
   "metadata": {},
   "outputs": [
    {
     "data": {
      "text/plain": [
       "2"
      ]
     },
     "execution_count": 70,
     "metadata": {},
     "output_type": "execute_result"
    }
   ],
   "source": [
    "reduce(lambda x,y: x+y ,[2]) # but it will work for one element in list exceptional case"
   ]
  },
  {
   "cell_type": "code",
   "execution_count": 71,
   "id": "d50b7ea1-7a31-474a-90fe-46044f6cd5a0",
   "metadata": {},
   "outputs": [
    {
     "data": {
      "text/plain": [
       "2"
      ]
     },
     "execution_count": 71,
     "metadata": {},
     "output_type": "execute_result"
    }
   ],
   "source": [
    "reduce(lambda x,y: x*y ,[2])"
   ]
  },
  {
   "cell_type": "code",
   "execution_count": 73,
   "id": "1930d974-1c86-4074-8d72-c3116f347dc9",
   "metadata": {},
   "outputs": [
    {
     "data": {
      "text/plain": [
       "[1, 2, 3, 4, 5, 4]"
      ]
     },
     "execution_count": 73,
     "metadata": {},
     "output_type": "execute_result"
    }
   ],
   "source": [
    "l"
   ]
  },
  {
   "cell_type": "code",
   "execution_count": 74,
   "id": "40cdcce7-a4cc-42c2-a0e4-f1dbc78f3ea2",
   "metadata": {},
   "outputs": [
    {
     "data": {
      "text/plain": [
       "5"
      ]
     },
     "execution_count": 74,
     "metadata": {},
     "output_type": "execute_result"
    }
   ],
   "source": [
    "reduce(lambda x,y:x if x>y else y, l)"
   ]
  },
  {
   "cell_type": "markdown",
   "id": "16824235-77c1-4025-bc67-5efcf3a751b7",
   "metadata": {},
   "source": [
    "filter function"
   ]
  },
  {
   "cell_type": "code",
   "execution_count": 75,
   "id": "d36ab347-a6f1-46f9-83b0-e2305732df68",
   "metadata": {},
   "outputs": [
    {
     "data": {
      "text/plain": [
       "[1, 2, 3, 4, 5, 4]"
      ]
     },
     "execution_count": 75,
     "metadata": {},
     "output_type": "execute_result"
    }
   ],
   "source": [
    "l"
   ]
  },
  {
   "cell_type": "code",
   "execution_count": 77,
   "id": "03cbc0b5-d678-46fa-a041-c2f154f1f1f8",
   "metadata": {},
   "outputs": [
    {
     "data": {
      "text/plain": [
       "[2, 4, 4]"
      ]
     },
     "execution_count": 77,
     "metadata": {},
     "output_type": "execute_result"
    }
   ],
   "source": [
    "list(filter(lambda x:x%2==0, l))"
   ]
  },
  {
   "cell_type": "code",
   "execution_count": 78,
   "id": "d14aab54-5e4c-47d2-a0d1-6ff92050b240",
   "metadata": {},
   "outputs": [
    {
     "data": {
      "text/plain": [
       "[1, 3, 5]"
      ]
     },
     "execution_count": 78,
     "metadata": {},
     "output_type": "execute_result"
    }
   ],
   "source": [
    "list(filter(lambda x:x %2!=0 ,l))"
   ]
  },
  {
   "cell_type": "code",
   "execution_count": 79,
   "id": "c358c4e8-df81-4127-b154-a407ff7add86",
   "metadata": {},
   "outputs": [],
   "source": [
    "l1 = [-2,4,5,6,-3,-55,-66]"
   ]
  },
  {
   "cell_type": "code",
   "execution_count": 81,
   "id": "2f94f711-f103-48de-8907-dd7f9431929a",
   "metadata": {},
   "outputs": [
    {
     "data": {
      "text/plain": [
       "[4, 5, 6]"
      ]
     },
     "execution_count": 81,
     "metadata": {},
     "output_type": "execute_result"
    }
   ],
   "source": [
    "list(filter(lambda x:x>0 ,l1))"
   ]
  },
  {
   "cell_type": "code",
   "execution_count": 83,
   "id": "11cff6be-ac24-46de-859b-1fb77a1d0f90",
   "metadata": {},
   "outputs": [
    {
     "data": {
      "text/plain": [
       "[-2, -3, -55, -66]"
      ]
     },
     "execution_count": 83,
     "metadata": {},
     "output_type": "execute_result"
    }
   ],
   "source": [
    "list(filter(lambda x:x<0 ,l1))"
   ]
  },
  {
   "cell_type": "code",
   "execution_count": 84,
   "id": "790ca0bd-20e3-44ad-8816-30449daffa9e",
   "metadata": {},
   "outputs": [],
   "source": [
    "l2 = ['sudh','pwskills','kumar','bengalore','krish']"
   ]
  },
  {
   "cell_type": "code",
   "execution_count": 85,
   "id": "22196f41-2fde-4cdc-a2d7-71438a35f20e",
   "metadata": {},
   "outputs": [
    {
     "data": {
      "text/plain": [
       "['pwskills', 'bengalore']"
      ]
     },
     "execution_count": 85,
     "metadata": {},
     "output_type": "execute_result"
    }
   ],
   "source": [
    "list(filter(lambda x:len(x) >6  ,l2))"
   ]
  },
  {
   "cell_type": "code",
   "execution_count": 86,
   "id": "a3f9eeb3-add2-49e7-a753-6873a05bc404",
   "metadata": {},
   "outputs": [
    {
     "data": {
      "text/plain": [
       "['sudh', 'kumar', 'krish']"
      ]
     },
     "execution_count": 86,
     "metadata": {},
     "output_type": "execute_result"
    }
   ],
   "source": [
    "list(filter(lambda x: len(x)<6 , l2))"
   ]
  },
  {
   "cell_type": "code",
   "execution_count": null,
   "id": "ce95baba-bf97-43b2-be37-b83b2dc2bc4b",
   "metadata": {},
   "outputs": [],
   "source": []
  }
 ],
 "metadata": {
  "kernelspec": {
   "display_name": "Python 3 (ipykernel)",
   "language": "python",
   "name": "python3"
  },
  "language_info": {
   "codemirror_mode": {
    "name": "ipython",
    "version": 3
   },
   "file_extension": ".py",
   "mimetype": "text/x-python",
   "name": "python",
   "nbconvert_exporter": "python",
   "pygments_lexer": "ipython3",
   "version": "3.10.8"
  }
 },
 "nbformat": 4,
 "nbformat_minor": 5
}
