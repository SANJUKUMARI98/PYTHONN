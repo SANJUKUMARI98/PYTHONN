{
 "cells": [
  {
   "cell_type": "markdown",
   "id": "8b4d0615-8603-4974-a0d2-b6a27805f50a",
   "metadata": {},
   "source": [
    "# MULTITHREADING\n",
    "\n",
    "\n",
    "THREADING: it is used to run multiple threads (tasks,functions calls ) at the same time in same processor.\n"
   ]
  },
  {
   "cell_type": "code",
   "execution_count": 5,
   "id": "ac4baddf-1d5d-4d92-b393-a4dfd2687e47",
   "metadata": {},
   "outputs": [],
   "source": [
    "import threading\n",
    "def test(id):\n",
    "    print('this is my test id %d' %id)"
   ]
  },
  {
   "cell_type": "code",
   "execution_count": 6,
   "id": "7bf78d93-de09-4e76-8424-45f7fea1cc46",
   "metadata": {},
   "outputs": [
    {
     "name": "stdout",
     "output_type": "stream",
     "text": [
      "this is my test id 10\n"
     ]
    }
   ],
   "source": [
    "test(10)"
   ]
  },
  {
   "cell_type": "code",
   "execution_count": 7,
   "id": "386918ed-7697-4b5f-8a74-6ac4cdac7987",
   "metadata": {},
   "outputs": [
    {
     "name": "stdout",
     "output_type": "stream",
     "text": [
      "this is my test id 34\n"
     ]
    }
   ],
   "source": [
    "test(34)"
   ]
  },
  {
   "cell_type": "code",
   "execution_count": 8,
   "id": "389bd9aa-dbec-4a86-8b25-cc872414f5a9",
   "metadata": {},
   "outputs": [
    {
     "name": "stdout",
     "output_type": "stream",
     "text": [
      "this is my test id 30\n"
     ]
    }
   ],
   "source": [
    "test(30)"
   ]
  },
  {
   "cell_type": "code",
   "execution_count": 9,
   "id": "dc68ae40-e0b0-446b-b471-08ba3eb359df",
   "metadata": {},
   "outputs": [],
   "source": [
    "# now we want to execute same program with different values\n",
    "thred=[threading.Thread(target=test,args=(i,)) for i in [32,21,23,43,21]]"
   ]
  },
  {
   "cell_type": "code",
   "execution_count": 10,
   "id": "697b6245-30cf-42e7-8564-8fa2f77321ed",
   "metadata": {},
   "outputs": [
    {
     "data": {
      "text/plain": [
       "[<Thread(Thread-5 (test), initial)>,\n",
       " <Thread(Thread-6 (test), initial)>,\n",
       " <Thread(Thread-7 (test), initial)>,\n",
       " <Thread(Thread-8 (test), initial)>,\n",
       " <Thread(Thread-9 (test), initial)>]"
      ]
     },
     "execution_count": 10,
     "metadata": {},
     "output_type": "execute_result"
    }
   ],
   "source": [
    "thred # here we create 5 threds ,having name  thred5,thred6,thred7,thred8,thred9"
   ]
  },
  {
   "cell_type": "code",
   "execution_count": 13,
   "id": "315d7aa4-96b3-4c4a-a589-a2faa61f1e62",
   "metadata": {},
   "outputs": [
    {
     "name": "stdout",
     "output_type": "stream",
     "text": [
      "this is my test id 32\n",
      "this is my test id 21\n",
      "this is my test id 23\n",
      "this is my test id 43\n",
      "this is my test id 21\n"
     ]
    }
   ],
   "source": [
    "for i in thred:   # different threads running in same processor start envoking run method and starts the execution of program\n",
    "    i.start()"
   ]
  },
  {
   "cell_type": "code",
   "execution_count": 14,
   "id": "baa6b075-69d1-4382-9f2b-18e8ee15cd94",
   "metadata": {},
   "outputs": [],
   "source": [
    " # we have link which has data and we want to extract the data\n",
    "    \n",
    "import urllib.request   # module to request data from link\n",
    "def file_download(url,filename): # creating a function with two input url and filename\n",
    "    urllib.request.urlretrieve(url,filename)"
   ]
  },
  {
   "cell_type": "code",
   "execution_count": 15,
   "id": "034d2598-513d-45cf-a1a0-695a2c5fbfb1",
   "metadata": {},
   "outputs": [],
   "source": [
    "file_download('https://www.all-my-favourite-flower-names.com/types-of-flowers.html','manisha.txt')"
   ]
  },
  {
   "cell_type": "code",
   "execution_count": 16,
   "id": "beb31c88-df97-4449-82d9-1395b89f038d",
   "metadata": {},
   "outputs": [],
   "source": [
    "# so we have diff list of links which contain data we want to extract in same processor with diff filename\n",
    "url_list = ['https://www.all-my-favourite-flower-names.com/types-of-flowers.html','https://www.tripadvisor.in/Attraction_Review-g1162199-d10182011-Reviews-Kaas_Pathar_Valley_of_Flowers-Satara_Satara_District_Maharashtra.html','https://www.masaischool.com/courses/']"
   ]
  },
  {
   "cell_type": "code",
   "execution_count": 17,
   "id": "1e3cf2c3-d4dd-4436-9541-1f3102d17ecf",
   "metadata": {},
   "outputs": [],
   "source": [
    "file_list=['flower.txt','animal.txt','masai.txt']"
   ]
  },
  {
   "cell_type": "code",
   "execution_count": 18,
   "id": "e28823a4-d600-4999-a1aa-23dc83d32787",
   "metadata": {},
   "outputs": [],
   "source": [
    "# now creating thread\n",
    "\n",
    "thred1=[threading.Thread(target=file_download,args=(url_list[i],file_list[i])) for i in range(len(url_list))]"
   ]
  },
  {
   "cell_type": "code",
   "execution_count": 20,
   "id": "76b03f2a-db3e-4c71-a4a8-0a8489a1f2a8",
   "metadata": {},
   "outputs": [
    {
     "data": {
      "text/plain": [
       "[<Thread(Thread-10 (file_download), stopped 140716340667968)>,\n",
       " <Thread(Thread-11 (file_download), stopped 140716332275264)>,\n",
       " <Thread(Thread-12 (file_download), stopped 140716323882560)>]"
      ]
     },
     "execution_count": 20,
     "metadata": {},
     "output_type": "execute_result"
    }
   ],
   "source": [
    "thred1"
   ]
  },
  {
   "cell_type": "code",
   "execution_count": 19,
   "id": "bb1e7139-9ed2-4ca8-a97a-12ef7ce2435a",
   "metadata": {},
   "outputs": [],
   "source": [
    "for i in thred1:\n",
    "    i.start()"
   ]
  },
  {
   "cell_type": "code",
   "execution_count": 21,
   "id": "6d0cfc2f-6cd6-4c11-a171-991026475b37",
   "metadata": {},
   "outputs": [],
   "source": [
    "\n",
    "import time\n",
    "\n",
    "def test2(x):\n",
    "    for i in range(10):\n",
    "        print('test1 print the value of x %d and print the value of i %d' %(x,i))\n",
    "        "
   ]
  },
  {
   "cell_type": "code",
   "execution_count": 24,
   "id": "b022a6ca-19b1-4218-b8ae-f684fd23f146",
   "metadata": {},
   "outputs": [
    {
     "name": "stdout",
     "output_type": "stream",
     "text": [
      "test1 print the value of x 8 and print the value of i 0\n",
      "test1 print the value of x 8 and print the value of i 1\n",
      "test1 print the value of x 8 and print the value of i 2\n",
      "test1 print the value of x 8 and print the value of i 3\n",
      "test1 print the value of x 8 and print the value of i 4\n",
      "test1 print the value of x 8 and print the value of i 5\n",
      "test1 print the value of x 8 and print the value of i 6\n",
      "test1 print the value of x 8 and print the value of i 7\n",
      "test1 print the value of x 8 and print the value of i 8\n",
      "test1 print the value of x 8 and print the value of i 9\n"
     ]
    }
   ],
   "source": [
    "test2(8)   #giving all the outuput in one time"
   ]
  },
  {
   "cell_type": "code",
   "execution_count": 25,
   "id": "dd393940-ab84-4884-be98-87c3cae59a0f",
   "metadata": {},
   "outputs": [],
   "source": [
    "\n",
    "import time\n",
    "\n",
    "def test2(x):\n",
    "    for i in range(10):\n",
    "        print('test1 print the value of x %d and print the value of i %d' %(x,i))\n",
    "        time.sleep(2)  #after adding this the output extraction will be delayed by 2 second"
   ]
  },
  {
   "cell_type": "code",
   "execution_count": 26,
   "id": "cb266a85-2b8d-477a-8202-bd1d5de473be",
   "metadata": {},
   "outputs": [
    {
     "name": "stdout",
     "output_type": "stream",
     "text": [
      "test1 print the value of x 43 and print the value of i 0\n",
      "test1 print the value of x 43 and print the value of i 1\n",
      "test1 print the value of x 43 and print the value of i 2\n",
      "test1 print the value of x 43 and print the value of i 3\n",
      "test1 print the value of x 43 and print the value of i 4\n",
      "test1 print the value of x 43 and print the value of i 5\n",
      "test1 print the value of x 43 and print the value of i 6\n",
      "test1 print the value of x 43 and print the value of i 7\n",
      "test1 print the value of x 43 and print the value of i 8\n",
      "test1 print the value of x 43 and print the value of i 9\n"
     ]
    }
   ],
   "source": [
    "test2(43)  # as said earlier delayed and giving data one by one "
   ]
  },
  {
   "cell_type": "code",
   "execution_count": 28,
   "id": "0c8885a2-9cd4-409c-901d-dc0daf140189",
   "metadata": {},
   "outputs": [],
   "source": [
    "# lets creating a thred for this program \n",
    "thred2=[threading.Thread(target=test2,args=(i,)) for i in [34,32,23,56]]"
   ]
  },
  {
   "cell_type": "code",
   "execution_count": 29,
   "id": "4c3d6cdc-cc27-448d-92ed-ff60ad2ae71c",
   "metadata": {},
   "outputs": [
    {
     "data": {
      "text/plain": [
       "[<Thread(Thread-13 (test2), initial)>,\n",
       " <Thread(Thread-14 (test2), initial)>,\n",
       " <Thread(Thread-15 (test2), initial)>,\n",
       " <Thread(Thread-16 (test2), initial)>]"
      ]
     },
     "execution_count": 29,
     "metadata": {},
     "output_type": "execute_result"
    }
   ],
   "source": [
    "thred2  # intializing 4 thread in same processor "
   ]
  },
  {
   "cell_type": "code",
   "execution_count": 30,
   "id": "d552a4e2-9a80-4abb-91fa-5b4b8a5a9256",
   "metadata": {},
   "outputs": [
    {
     "name": "stdout",
     "output_type": "stream",
     "text": [
      "test1 print the value of x 34 and print the value of i 0\n",
      "test1 print the value of x 32 and print the value of i 0\n",
      "test1 print the value of x 23 and print the value of i 0\n",
      "test1 print the value of x 56 and print the value of i 0\n",
      "test1 print the value of x 34 and print the value of i 1\n",
      "test1 print the value of x 32 and print the value of i 1\n",
      "test1 print the value of x 23 and print the value of i 1\n",
      "test1 print the value of x 56 and print the value of i 1\n",
      "test1 print the value of x 34 and print the value of i 2\n",
      "test1 print the value of x 32 and print the value of i 2\n",
      "test1 print the value of x 23 and print the value of i 2\n",
      "test1 print the value of x 56 and print the value of i 2\n",
      "test1 print the value of x 34 and print the value of i 3\n",
      "test1 print the value of x 32 and print the value of i 3\n",
      "test1 print the value of x 23 and print the value of i 3\n",
      "test1 print the value of x 56 and print the value of i 3\n",
      "test1 print the value of x 34 and print the value of i 4\n",
      "test1 print the value of x 32 and print the value of i 4\n",
      "test1 print the value of x 23 and print the value of i 4\n",
      "test1 print the value of x 56 and print the value of i 4\n",
      "test1 print the value of x 34 and print the value of i 5\n",
      "test1 print the value of x 32 and print the value of i 5\n",
      "test1 print the value of x 23 and print the value of i 5\n",
      "test1 print the value of x 56 and print the value of i 5\n",
      "test1 print the value of x 34 and print the value of i 6\n",
      "test1 print the value of x 32 and print the value of i 6\n",
      "test1 print the value of x 23 and print the value of i 6\n",
      "test1 print the value of x 56 and print the value of i 6\n",
      "test1 print the value of x 34 and print the value of i 7\n",
      "test1 print the value of x 32 and print the value of i 7\n",
      "test1 print the value of x 23 and print the value of i 7\n",
      "test1 print the value of x 56 and print the value of i 7\n",
      "test1 print the value of x 34 and print the value of i 8\n",
      "test1 print the value of x 32 and print the value of i 8\n",
      "test1 print the value of x 23 and print the value of i 8\n",
      "test1 print the value of x 56 and print the value of i 8\n",
      "test1 print the value of x 34 and print the value of i 9\n",
      "test1 print the value of x 32 and print the value of i 9\n",
      "test1 print the value of x 23 and print the value of i 9\n",
      "test1 print the value of x 56 and print the value of i 9\n"
     ]
    }
   ],
   "source": [
    "for i in thred2: # as we can see first of all it initialising for 34,32,23,56 for index 0 it means first 34 execute for 0 and then 32 execute for 0\n",
    "    # and then 23 execute for 0 and then 56 execute for 0 and then .....(all the thred using resources one by one and go for break and this cycle\n",
    "    # repeated till all the loop completion\n",
    "    i.start()"
   ]
  },
  {
   "cell_type": "code",
   "execution_count": 31,
   "id": "292b8ee5-ec8f-4fb3-b0a8-f05bfe194dc3",
   "metadata": {},
   "outputs": [],
   "source": [
    "# CONCLUSION:  it is not completing all the program at a time infact they are sharing the resoource one by one\n"
   ]
  },
  {
   "cell_type": "code",
   "execution_count": 34,
   "id": "6f9f2899-86ad-435f-a248-b0d3326de0f6",
   "metadata": {},
   "outputs": [
    {
     "name": "stdout",
     "output_type": "stream",
     "text": [
      "[<Thread(Thread-23 (test2), initial)>, <Thread(Thread-24 (test2), initial)>, <Thread(Thread-25 (test2), initial)>]\n",
      "test1 print the value of x 98 and print the value of i 0\n",
      "test1 print the value of x 98 and print the value of i 1\n",
      "test1 print the value of x 98 and print the value of i 2\n",
      "test1 print the value of x 98 and print the value of i 3\n",
      "test1 print the value of x 98 and print the value of i 4\n",
      "test1 print the value of x 98 and print the value of i 5\n",
      "test1 print the value of x 98 and print the value of i 6\n",
      "test1 print the value of x 98 and print the value of i 7\n",
      "test1 print the value of x 98 and print the value of i 8\n",
      "test1 print the value of x 98 and print the value of i 9\n",
      "test1 print the value of x 98 and print the value of i 0\n",
      "test1 print the value of x 98 and print the value of i 1\n",
      "test1 print the value of x 98 and print the value of i 2\n",
      "test1 print the value of x 98 and print the value of i 3\n",
      "test1 print the value of x 98 and print the value of i 4\n",
      "test1 print the value of x 98 and print the value of i 5\n",
      "test1 print the value of x 98 and print the value of i 6\n",
      "test1 print the value of x 98 and print the value of i 7\n",
      "test1 print the value of x 98 and print the value of i 8\n",
      "test1 print the value of x 98 and print the value of i 9\n",
      "test1 print the value of x 76 and print the value of i 0\n",
      "test1 print the value of x 76 and print the value of i 1\n",
      "test1 print the value of x 76 and print the value of i 2\n",
      "test1 print the value of x 76 and print the value of i 3\n",
      "test1 print the value of x 76 and print the value of i 4\n",
      "test1 print the value of x 76 and print the value of i 5\n",
      "test1 print the value of x 76 and print the value of i 6\n",
      "test1 print the value of x 76 and print the value of i 7\n",
      "test1 print the value of x 76 and print the value of i 8\n",
      "test1 print the value of x 76 and print the value of i 9\n"
     ]
    }
   ],
   "source": [
    "\n",
    "import time\n",
    " # lets do the same without time.sleep function  \n",
    "def test2(x):\n",
    "    for i in range(10):\n",
    "        print('test1 print the value of x %d and print the value of i %d' %(x,i))\n",
    "        # time.sleep(2)  #after adding this the output extraction will be delayed by 2 second\n",
    "\n",
    "thred3=[threading.Thread(target=test2,args=(i,)) for i in [98,98,76]]    \n",
    "print(thred3)\n",
    "for i in thred3:\n",
    "    i.start()"
   ]
  },
  {
   "cell_type": "code",
   "execution_count": 35,
   "id": "c8d0abc2-b691-4440-8fa5-3bf43225adf1",
   "metadata": {},
   "outputs": [],
   "source": [
    "# what is the purpose of using threading in pythonn?\n",
    "\n",
    "# primary purpose is to improve the performance of a program by using multiple cpu's or their different core.\n",
    "\n",
    "# what is mutex in multithreading in python?\n",
    "# A synchronization primitive used to protect shared resources from being accessed by multiple threads at the same time.\n",
    "\n",
    "# what is GLOBAL INTERPRETER LOCK(GIL)\n",
    "# A mechanism used by python to ensure theat ony one thred executes pyton bytecode at a time."
   ]
  },
  {
   "cell_type": "code",
   "execution_count": 39,
   "id": "f62f6468-d4c4-45bd-aafe-c7c82f1568ee",
   "metadata": {},
   "outputs": [
    {
     "data": {
      "text/plain": [
       "<_MainThread(MainThread, started 140716972488512)>"
      ]
     },
     "execution_count": 39,
     "metadata": {},
     "output_type": "execute_result"
    }
   ],
   "source": [
    "threading.current_thread()  # to get the current working thread"
   ]
  },
  {
   "cell_type": "code",
   "execution_count": 41,
   "id": "e040c0c3-c331-4fea-9270-da62d545df03",
   "metadata": {},
   "outputs": [
    {
     "data": {
      "text/plain": [
       "8"
      ]
     },
     "execution_count": 41,
     "metadata": {},
     "output_type": "execute_result"
    }
   ],
   "source": [
    "threading.active_count()  # used to count currently running threads"
   ]
  },
  {
   "cell_type": "code",
   "execution_count": 42,
   "id": "bb0249e3-eb51-4e2f-8699-bba1ff3ff34b",
   "metadata": {},
   "outputs": [
    {
     "data": {
      "text/plain": [
       "[<_MainThread(MainThread, started 140716972488512)>,\n",
       " <Thread(IOPub, started daemon 140716901959232)>,\n",
       " <Heartbeat(Heartbeat, started daemon 140716818822720)>,\n",
       " <Thread(Thread-3 (_watch_pipe_fd), started daemon 140716793644608)>,\n",
       " <Thread(Thread-4 (_watch_pipe_fd), started daemon 140716785251904)>,\n",
       " <ControlThread(Control, started daemon 140716776859200)>,\n",
       " <HistorySavingThread(IPythonHistorySavingThread, started 140716768466496)>,\n",
       " <ParentPollerUnix(Thread-2, started daemon 140716349060672)>]"
      ]
     },
     "execution_count": 42,
     "metadata": {},
     "output_type": "execute_result"
    }
   ],
   "source": [
    "threading.enumerate()  # return the list of all thread object that are currently active."
   ]
  },
  {
   "cell_type": "raw",
   "id": "75c0b869-579f-4d85-afd8-01bad19f12fa",
   "metadata": {},
   "source": [
    "threading module has thread Thread class which provides methods are:\n",
    "1.run() : it is the entry point for a thread.\n",
    "2.start() : it starts a thred by calling the runn method.\n",
    "3.join() : it waits for thread to terminate.\n",
    "4.isAlive() : it checks whether a thred is still executing. "
   ]
  },
  {
   "cell_type": "code",
   "execution_count": null,
   "id": "20e7886d-8e0c-41a1-a5e8-5e20ced3c8fd",
   "metadata": {},
   "outputs": [],
   "source": []
  },
  {
   "cell_type": "code",
   "execution_count": 47,
   "id": "9277b7b2-8737-4253-8ba3-7e042a9c290c",
   "metadata": {},
   "outputs": [
    {
     "name": "stdout",
     "output_type": "stream",
     "text": [
      "[<Thread(Thread-31 (test3), initial)>, <Thread(Thread-32 (test3), initial)>, <Thread(Thread-33 (test3), initial)>, <Thread(Thread-34 (test3), initial)>, <Thread(Thread-35 (test3), initial)>]\n",
      "value of x 45 and value of shared_var 1\n",
      "value of x 43 and value of shared_var 2\n",
      "value of x 43 and value of shared_var 3\n",
      "value of x 23 and value of shared_var 4\n",
      "value of x 43 and value of shared_var 5\n"
     ]
    }
   ],
   "source": [
    "shared_var =0\n",
    "lock_var = threading.Lock() # help in synchronization ,protect or lock the other thread in order to use resources. when one thread complete the \n",
    "# execution it is released from the so that other threads can use it\n",
    "\n",
    "def test3(x):\n",
    "    global shared_var  # global shared variable means public variable it can be used by all the sub processors and processor and can updatioon is also possible\n",
    "    with lock_var:\n",
    "        shared_var=shared_var +1\n",
    "        print('value of x %d and value of shared_var %d' %(x,shared_var))\n",
    "        time.sleep(3)\n",
    "        \n",
    " # now creatitng thred for this functiono \n",
    "thred4=[threading.Thread(target=test3,args=(i,)) for i in [45,43,43,23,43]]\n",
    "print(thred4)\n",
    "for i in thred4:\n",
    "    i.start()"
   ]
  },
  {
   "cell_type": "raw",
   "id": "26e7631d-a1c9-4aba-8e99-eeab19cd0618",
   "metadata": {},
   "source": [
    "# CONCLUSION: here first of all 45 uses all the resource for execution of program and till then the resources are lock for other thred\n",
    "\n",
    "keyword:\n",
    "    1.threading--Thread\n",
    "    2.lock _var\n",
    "    3.global var\n",
    "    4.time.sleep\n",
    "    5.GIL(GLOBAL INTERPRETER LOCK )\n",
    "    6.mutex(synchronization protect from resource use)"
   ]
  }
 ],
 "metadata": {
  "kernelspec": {
   "display_name": "Python 3 (ipykernel)",
   "language": "python",
   "name": "python3"
  },
  "language_info": {
   "codemirror_mode": {
    "name": "ipython",
    "version": 3
   },
   "file_extension": ".py",
   "mimetype": "text/x-python",
   "name": "python",
   "nbconvert_exporter": "python",
   "pygments_lexer": "ipython3",
   "version": "3.10.8"
  }
 },
 "nbformat": 4,
 "nbformat_minor": 5
}
