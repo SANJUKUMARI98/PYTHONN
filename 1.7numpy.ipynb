{
 "cells": [
  {
   "cell_type": "markdown",
   "id": "9cfde48d-405b-4801-961c-a92c3084b34d",
   "metadata": {},
   "source": [
    "# NUMPY (numerical python)"
   ]
  },
  {
   "cell_type": "code",
   "execution_count": 34,
   "id": "2d7635cf-45df-4ac5-ae82-c0c382cd26f2",
   "metadata": {},
   "outputs": [],
   "source": [
    "import numpy as np"
   ]
  },
  {
   "cell_type": "code",
   "execution_count": 2,
   "id": "4e21eae2-4e3d-46c2-a004-9a1cdbcd0402",
   "metadata": {},
   "outputs": [],
   "source": [
    "l=[1,2,3,4,5]"
   ]
  },
  {
   "cell_type": "code",
   "execution_count": 5,
   "id": "ef4a12b8-1ed5-4989-9107-eefc18191ad1",
   "metadata": {},
   "outputs": [],
   "source": [
    "arr=np.array(l) # converting list into array"
   ]
  },
  {
   "cell_type": "code",
   "execution_count": 6,
   "id": "1b590491-8a85-4ffa-9cb2-b0429ec077d7",
   "metadata": {},
   "outputs": [
    {
     "data": {
      "text/plain": [
       "array([1, 2, 3, 4, 5])"
      ]
     },
     "execution_count": 6,
     "metadata": {},
     "output_type": "execute_result"
    }
   ],
   "source": [
    "arr"
   ]
  },
  {
   "cell_type": "code",
   "execution_count": 7,
   "id": "13952d08-5eb3-4a03-8c5a-6bdbc4a02a87",
   "metadata": {},
   "outputs": [
    {
     "data": {
      "text/plain": [
       "numpy.ndarray"
      ]
     },
     "execution_count": 7,
     "metadata": {},
     "output_type": "execute_result"
    }
   ],
   "source": [
    "type(arr)"
   ]
  },
  {
   "cell_type": "code",
   "execution_count": 9,
   "id": "db4c9058-4283-4e09-87e5-afbcb64617fd",
   "metadata": {},
   "outputs": [
    {
     "data": {
      "text/plain": [
       "array([1, 2, 3, 4, 5])"
      ]
     },
     "execution_count": 9,
     "metadata": {},
     "output_type": "execute_result"
    }
   ],
   "source": [
    "np.asarray(l)  # converting into array"
   ]
  },
  {
   "cell_type": "code",
   "execution_count": 11,
   "id": "d08b3084-8749-4229-942d-26d49d2c61d5",
   "metadata": {},
   "outputs": [],
   "source": [
    "arr1=np.array([[1,2,3],[4,5,6]])"
   ]
  },
  {
   "cell_type": "code",
   "execution_count": 14,
   "id": "bf8fa0e6-44d5-46f0-8601-f37cd7f4c431",
   "metadata": {},
   "outputs": [
    {
     "data": {
      "text/plain": [
       "1"
      ]
     },
     "execution_count": 14,
     "metadata": {},
     "output_type": "execute_result"
    }
   ],
   "source": [
    "arr.ndim # dimension of array"
   ]
  },
  {
   "cell_type": "code",
   "execution_count": 12,
   "id": "4cd75cc1-0d90-4e04-85bd-f1440cce688b",
   "metadata": {},
   "outputs": [
    {
     "data": {
      "text/plain": [
       "2"
      ]
     },
     "execution_count": 12,
     "metadata": {},
     "output_type": "execute_result"
    }
   ],
   "source": [
    "arr1.ndim  # dimension of array"
   ]
  },
  {
   "cell_type": "code",
   "execution_count": 13,
   "id": "8b0b556e-e1e1-4c88-907c-e3e2ccc0d941",
   "metadata": {},
   "outputs": [
    {
     "data": {
      "text/plain": [
       "numpy.ndarray"
      ]
     },
     "execution_count": 13,
     "metadata": {},
     "output_type": "execute_result"
    }
   ],
   "source": [
    "type(arr1)"
   ]
  },
  {
   "cell_type": "code",
   "execution_count": 15,
   "id": "42ab4d5f-2088-4afa-be71-768b5c13139a",
   "metadata": {},
   "outputs": [
    {
     "data": {
      "text/plain": [
       "array([1, 2, 3, 4, 5])"
      ]
     },
     "execution_count": 15,
     "metadata": {},
     "output_type": "execute_result"
    }
   ],
   "source": [
    "arr"
   ]
  },
  {
   "cell_type": "code",
   "execution_count": 16,
   "id": "b4e732f2-226b-479e-b627-af0948bb852c",
   "metadata": {},
   "outputs": [
    {
     "data": {
      "text/plain": [
       "array([[1, 2, 3],\n",
       "       [4, 5, 6]])"
      ]
     },
     "execution_count": 16,
     "metadata": {},
     "output_type": "execute_result"
    }
   ],
   "source": [
    "arr1"
   ]
  },
  {
   "cell_type": "code",
   "execution_count": 18,
   "id": "e55f3e68-e14a-4891-b0de-826b064d5874",
   "metadata": {},
   "outputs": [],
   "source": [
    "mat=np.matrix(l)   # always have 2d  matrix is always a type of array"
   ]
  },
  {
   "cell_type": "code",
   "execution_count": 19,
   "id": "22d69251-b151-4375-b04f-54488265c108",
   "metadata": {},
   "outputs": [
    {
     "data": {
      "text/plain": [
       "array([1, 2, 3, 4, 5])"
      ]
     },
     "execution_count": 19,
     "metadata": {},
     "output_type": "execute_result"
    }
   ],
   "source": [
    "np.asanyarray(l)"
   ]
  },
  {
   "cell_type": "code",
   "execution_count": 20,
   "id": "07de6789-c4e9-40c4-8d13-dd3c3405671a",
   "metadata": {},
   "outputs": [
    {
     "data": {
      "text/plain": [
       "matrix([[1, 2, 3, 4, 5]])"
      ]
     },
     "execution_count": 20,
     "metadata": {},
     "output_type": "execute_result"
    }
   ],
   "source": [
    "np.asanyarray(mat)"
   ]
  },
  {
   "cell_type": "code",
   "execution_count": 22,
   "id": "b5fa7226-e3bc-4e97-ab4f-b02670fcf4ec",
   "metadata": {},
   "outputs": [],
   "source": [
    "a=arr  # reassigning the values"
   ]
  },
  {
   "cell_type": "code",
   "execution_count": 23,
   "id": "545ba9d2-5e16-4bfd-94b4-7c878c3eaf76",
   "metadata": {},
   "outputs": [
    {
     "data": {
      "text/plain": [
       "array([1, 2, 3, 4, 5])"
      ]
     },
     "execution_count": 23,
     "metadata": {},
     "output_type": "execute_result"
    }
   ],
   "source": [
    "a"
   ]
  },
  {
   "cell_type": "code",
   "execution_count": 24,
   "id": "0d96daba-75bc-45ae-9177-194e4d3fa200",
   "metadata": {},
   "outputs": [],
   "source": [
    "a[0]=100 # reassigning the value at 0 index"
   ]
  },
  {
   "cell_type": "code",
   "execution_count": 25,
   "id": "e4723ae9-418d-4e80-b175-6d8303b2ef43",
   "metadata": {},
   "outputs": [
    {
     "data": {
      "text/plain": [
       "array([100,   2,   3,   4,   5])"
      ]
     },
     "execution_count": 25,
     "metadata": {},
     "output_type": "execute_result"
    }
   ],
   "source": [
    "arr  # changed the zeroth  index value in a same array "
   ]
  },
  {
   "cell_type": "code",
   "execution_count": 26,
   "id": "aaf66944-4bf2-4ca3-99ac-ace590e3156b",
   "metadata": {},
   "outputs": [
    {
     "data": {
      "text/plain": [
       "array([100,   2,   3,   4,   5])"
      ]
     },
     "execution_count": 26,
     "metadata": {},
     "output_type": "execute_result"
    }
   ],
   "source": [
    "a  # changed the zeroth index value"
   ]
  },
  {
   "cell_type": "code",
   "execution_count": 31,
   "id": "ff02cea4-d9e7-48d6-b062-388078a74db7",
   "metadata": {},
   "outputs": [],
   "source": [
    "# line no25 and 26 showing swallow copy operation where whenver we change any value in one it also shows in other\n",
    "# in case of swallow copy they didn't create separate memory for a it is only refering towards arr"
   ]
  },
  {
   "cell_type": "code",
   "execution_count": 32,
   "id": "bd9f539c-b447-4428-9729-d78923324649",
   "metadata": {},
   "outputs": [
    {
     "data": {
      "text/plain": [
       "array([100,   2,   3,   4,   5])"
      ]
     },
     "execution_count": 32,
     "metadata": {},
     "output_type": "execute_result"
    }
   ],
   "source": [
    "a"
   ]
  },
  {
   "cell_type": "code",
   "execution_count": 33,
   "id": "9ec821ec-e3bd-4ec6-a4ce-25e3e21eb100",
   "metadata": {},
   "outputs": [],
   "source": [
    "b=np.copy(arr)  # it will create a separeate memory for b "
   ]
  },
  {
   "cell_type": "code",
   "execution_count": 30,
   "id": "7d58e346-59c3-4afb-accb-37f416c96416",
   "metadata": {},
   "outputs": [
    {
     "data": {
      "text/plain": [
       "array([100,   2,   3,   4,   5])"
      ]
     },
     "execution_count": 30,
     "metadata": {},
     "output_type": "execute_result"
    }
   ],
   "source": [
    "b"
   ]
  },
  {
   "cell_type": "code",
   "execution_count": 34,
   "id": "03d7e5fb-a4a8-4fa4-b2ed-d5629b6118b2",
   "metadata": {},
   "outputs": [],
   "source": [
    "b[0]=98 # only 0th index of b changed n0t arr this is because ...it create different memory location for each other.\n",
    "# deep copy"
   ]
  },
  {
   "cell_type": "code",
   "execution_count": 35,
   "id": "b8cc735a-9bda-48a3-ac3c-a2da8b443c6b",
   "metadata": {},
   "outputs": [
    {
     "data": {
      "text/plain": [
       "array([98,  2,  3,  4,  5])"
      ]
     },
     "execution_count": 35,
     "metadata": {},
     "output_type": "execute_result"
    }
   ],
   "source": [
    "b"
   ]
  },
  {
   "cell_type": "code",
   "execution_count": 36,
   "id": "ae4308d5-ceb6-4a6d-9665-ed57ece9ad6e",
   "metadata": {},
   "outputs": [
    {
     "data": {
      "text/plain": [
       "array([100,   2,   3,   4,   5])"
      ]
     },
     "execution_count": 36,
     "metadata": {},
     "output_type": "execute_result"
    }
   ],
   "source": [
    "arr"
   ]
  },
  {
   "cell_type": "code",
   "execution_count": 37,
   "id": "71b4ac16-33f0-4623-b54b-a4476f76d4a3",
   "metadata": {},
   "outputs": [
    {
     "data": {
      "text/plain": [
       "array([[ True, False, False],\n",
       "       [False,  True, False],\n",
       "       [False, False,  True]])"
      ]
     },
     "execution_count": 37,
     "metadata": {},
     "output_type": "execute_result"
    }
   ],
   "source": [
    "# multiple function in numpy\n",
    "np.fromfunction(lambda i,j : i==j,(3,3))"
   ]
  },
  {
   "cell_type": "code",
   "execution_count": 38,
   "id": "bfaf701d-3a46-4e6c-9e14-b5e3c31e5ad1",
   "metadata": {},
   "outputs": [
    {
     "data": {
      "text/plain": [
       "array([[0., 0., 0.],\n",
       "       [0., 1., 2.],\n",
       "       [0., 2., 4.]])"
      ]
     },
     "execution_count": 38,
     "metadata": {},
     "output_type": "execute_result"
    }
   ],
   "source": [
    "np.fromfunction(lambda i,j:i*j,(3,3))"
   ]
  },
  {
   "cell_type": "code",
   "execution_count": 45,
   "id": "db4541ec-5e0a-4c03-b6b0-727b727291b5",
   "metadata": {},
   "outputs": [
    {
     "data": {
      "text/plain": [
       "[0, 1, 4, 9, 16]"
      ]
     },
     "execution_count": 45,
     "metadata": {},
     "output_type": "execute_result"
    }
   ],
   "source": [
    "list(i*i for i in range(5))"
   ]
  },
  {
   "cell_type": "code",
   "execution_count": 46,
   "id": "e4bdf8e5-ec96-4ae0-9765-dc3ff877b297",
   "metadata": {},
   "outputs": [],
   "source": [
    "iterable = (i*i for i in range(5))"
   ]
  },
  {
   "cell_type": "code",
   "execution_count": 42,
   "id": "ba21b3ee-34d5-4794-9e45-61881799fc27",
   "metadata": {},
   "outputs": [
    {
     "data": {
      "text/plain": [
       "array([ 0.,  1.,  4.,  9., 16.])"
      ]
     },
     "execution_count": 42,
     "metadata": {},
     "output_type": "execute_result"
    }
   ],
   "source": [
    "np.fromiter(iterable,float)"
   ]
  },
  {
   "cell_type": "code",
   "execution_count": 43,
   "id": "560e5b98-a888-4981-ae6e-af957326fb45",
   "metadata": {},
   "outputs": [
    {
     "data": {
      "text/plain": [
       "array([23., 43., 43., 23., 45.])"
      ]
     },
     "execution_count": 43,
     "metadata": {},
     "output_type": "execute_result"
    }
   ],
   "source": [
    "np.fromstring('23 43 43 23 45',sep=' ') # separating string with space and returning a list"
   ]
  },
  {
   "cell_type": "code",
   "execution_count": 45,
   "id": "813c4d04-7ddb-4fa9-993b-1d19683a428b",
   "metadata": {},
   "outputs": [
    {
     "data": {
      "text/plain": [
       "array([34., 34., 12., 54.])"
      ]
     },
     "execution_count": 45,
     "metadata": {},
     "output_type": "execute_result"
    }
   ],
   "source": [
    "np.fromstring('34,34,12,54' ,sep=',') # separarting string with comma and returnning a list"
   ]
  },
  {
   "cell_type": "raw",
   "id": "c93bd78d-13a3-423d-8f14-6864e0d6bbc7",
   "metadata": {},
   "source": [
    "arr"
   ]
  },
  {
   "cell_type": "code",
   "execution_count": 46,
   "id": "4b078081-107f-454e-abcc-1e5755a2b01d",
   "metadata": {},
   "outputs": [
    {
     "data": {
      "text/plain": [
       "array([[1, 2, 3],\n",
       "       [4, 5, 6]])"
      ]
     },
     "execution_count": 46,
     "metadata": {},
     "output_type": "execute_result"
    }
   ],
   "source": [
    "arr1"
   ]
  },
  {
   "cell_type": "code",
   "execution_count": 47,
   "id": "7bee7ea6-7e5a-4d5c-9f71-bc0a46a865b8",
   "metadata": {},
   "outputs": [
    {
     "data": {
      "text/plain": [
       "1"
      ]
     },
     "execution_count": 47,
     "metadata": {},
     "output_type": "execute_result"
    }
   ],
   "source": [
    "arr.ndim # 1.dimension"
   ]
  },
  {
   "cell_type": "code",
   "execution_count": 48,
   "id": "a6fbc4c9-41e8-4a1c-8c78-e783285e48e5",
   "metadata": {},
   "outputs": [
    {
     "data": {
      "text/plain": [
       "2"
      ]
     },
     "execution_count": 48,
     "metadata": {},
     "output_type": "execute_result"
    }
   ],
   "source": [
    "arr1.ndim"
   ]
  },
  {
   "cell_type": "code",
   "execution_count": 49,
   "id": "335e8761-2e56-4b1e-817c-b962dd37da5b",
   "metadata": {},
   "outputs": [
    {
     "data": {
      "text/plain": [
       "5"
      ]
     },
     "execution_count": 49,
     "metadata": {},
     "output_type": "execute_result"
    }
   ],
   "source": [
    "arr.size"
   ]
  },
  {
   "cell_type": "code",
   "execution_count": 50,
   "id": "50e44cf1-51fd-4949-8e1a-eae0267873b4",
   "metadata": {},
   "outputs": [
    {
     "data": {
      "text/plain": [
       "6"
      ]
     },
     "execution_count": 50,
     "metadata": {},
     "output_type": "execute_result"
    }
   ],
   "source": [
    "arr1.size"
   ]
  },
  {
   "cell_type": "code",
   "execution_count": 51,
   "id": "861456de-f984-4157-82e1-ba2c4f0fb74a",
   "metadata": {},
   "outputs": [
    {
     "data": {
      "text/plain": [
       "(5,)"
      ]
     },
     "execution_count": 51,
     "metadata": {},
     "output_type": "execute_result"
    }
   ],
   "source": [
    "arr.shape"
   ]
  },
  {
   "cell_type": "code",
   "execution_count": 52,
   "id": "c19b735f-4c53-492d-bad6-51a7933c00e8",
   "metadata": {},
   "outputs": [
    {
     "data": {
      "text/plain": [
       "(2, 3)"
      ]
     },
     "execution_count": 52,
     "metadata": {},
     "output_type": "execute_result"
    }
   ],
   "source": [
    "arr1.shape"
   ]
  },
  {
   "cell_type": "code",
   "execution_count": 53,
   "id": "87d1765e-0c3f-4273-ba17-fc34fb9f3fb7",
   "metadata": {},
   "outputs": [
    {
     "data": {
      "text/plain": [
       "dtype('int64')"
      ]
     },
     "execution_count": 53,
     "metadata": {},
     "output_type": "execute_result"
    }
   ],
   "source": [
    "arr.dtype"
   ]
  },
  {
   "cell_type": "code",
   "execution_count": 54,
   "id": "aebe4a85-ff38-4512-bc7a-05ea79308022",
   "metadata": {},
   "outputs": [
    {
     "data": {
      "text/plain": [
       "dtype('int64')"
      ]
     },
     "execution_count": 54,
     "metadata": {},
     "output_type": "execute_result"
    }
   ],
   "source": [
    "arr1.dtype"
   ]
  },
  {
   "cell_type": "code",
   "execution_count": null,
   "id": "db2fb7c1-0e53-4bb3-9ac9-bf0760171cf6",
   "metadata": {},
   "outputs": [],
   "source": []
  },
  {
   "cell_type": "code",
   "execution_count": null,
   "id": "75e0e075-e77a-446a-be05-330e8c2f7bd3",
   "metadata": {},
   "outputs": [],
   "source": []
  },
  {
   "cell_type": "markdown",
   "id": "c0829b1b-9ff6-46ca-8d5c-1863b73a073c",
   "metadata": {},
   "source": [
    "# LECTURE2"
   ]
  },
  {
   "cell_type": "code",
   "execution_count": 55,
   "id": "186343f1-e1e1-4f19-a7c5-501955ec3864",
   "metadata": {},
   "outputs": [],
   "source": [
    "import numpy as np"
   ]
  },
  {
   "cell_type": "code",
   "execution_count": 56,
   "id": "f47a1c3a-0345-4b7b-8eb0-570046b1e3b4",
   "metadata": {},
   "outputs": [
    {
     "data": {
      "text/plain": [
       "[0, 1, 2, 3, 4, 5, 6]"
      ]
     },
     "execution_count": 56,
     "metadata": {},
     "output_type": "execute_result"
    }
   ],
   "source": [
    "list(range(7))"
   ]
  },
  {
   "cell_type": "code",
   "execution_count": 57,
   "id": "8e6327e6-bcec-4b3d-b3f6-855a837356f5",
   "metadata": {},
   "outputs": [
    {
     "data": {
      "text/plain": [
       "[0, 1, 2, 3, 4, 5, 6, 7, 8]"
      ]
     },
     "execution_count": 57,
     "metadata": {},
     "output_type": "execute_result"
    }
   ],
   "source": [
    "list(range(0,9))"
   ]
  },
  {
   "cell_type": "code",
   "execution_count": 59,
   "id": "65074e99-3ea0-4436-9053-809487fc2bc5",
   "metadata": {},
   "outputs": [
    {
     "ename": "TypeError",
     "evalue": "'float' object cannot be interpreted as an integer",
     "output_type": "error",
     "traceback": [
      "\u001b[0;31m---------------------------------------------------------------------------\u001b[0m",
      "\u001b[0;31mTypeError\u001b[0m                                 Traceback (most recent call last)",
      "Cell \u001b[0;32mIn[59], line 1\u001b[0m\n\u001b[0;32m----> 1\u001b[0m \u001b[38;5;28mlist\u001b[39m(\u001b[38;5;28;43mrange\u001b[39;49m\u001b[43m(\u001b[49m\u001b[38;5;241;43m0.4\u001b[39;49m\u001b[43m,\u001b[49m\u001b[38;5;241;43m10.7\u001b[39;49m\u001b[43m)\u001b[49m)\n",
      "\u001b[0;31mTypeError\u001b[0m: 'float' object cannot be interpreted as an integer"
     ]
    }
   ],
   "source": [
    "list(range(0.4,10.7))  # range never take floating data type"
   ]
  },
  {
   "cell_type": "code",
   "execution_count": 58,
   "id": "bc7d2cb1-4a10-4d32-9889-4f4b7863fa00",
   "metadata": {},
   "outputs": [
    {
     "data": {
      "text/plain": [
       "array([ 0.4,  1.4,  2.4,  3.4,  4.4,  5.4,  6.4,  7.4,  8.4,  9.4, 10.4])"
      ]
     },
     "execution_count": 58,
     "metadata": {},
     "output_type": "execute_result"
    }
   ],
   "source": [
    "np.arange(0.4,10.7)  # function in numpy arange take float value"
   ]
  },
  {
   "cell_type": "code",
   "execution_count": 61,
   "id": "28975aa8-f9b3-4e3c-b38c-3614e07bda68",
   "metadata": {},
   "outputs": [
    {
     "data": {
      "text/plain": [
       "[-7.0,\n",
       " -6.8,\n",
       " -6.6,\n",
       " -6.3999999999999995,\n",
       " -6.199999999999999,\n",
       " -5.999999999999999,\n",
       " -5.799999999999999,\n",
       " -5.599999999999999,\n",
       " -5.399999999999999,\n",
       " -5.199999999999998,\n",
       " -4.999999999999998,\n",
       " -4.799999999999998,\n",
       " -4.599999999999998,\n",
       " -4.399999999999998,\n",
       " -4.1999999999999975,\n",
       " -3.9999999999999973,\n",
       " -3.799999999999997,\n",
       " -3.599999999999997,\n",
       " -3.399999999999997,\n",
       " -3.1999999999999966,\n",
       " -2.9999999999999964,\n",
       " -2.7999999999999963,\n",
       " -2.599999999999996,\n",
       " -2.399999999999996,\n",
       " -2.1999999999999957,\n",
       " -1.9999999999999956,\n",
       " -1.7999999999999954,\n",
       " -1.5999999999999952,\n",
       " -1.399999999999995,\n",
       " -1.1999999999999948,\n",
       " -0.9999999999999947,\n",
       " -0.7999999999999945,\n",
       " -0.5999999999999943,\n",
       " -0.39999999999999414,\n",
       " -0.19999999999999396,\n",
       " 6.217248937900877e-15,\n",
       " 0.2000000000000064,\n",
       " 0.4000000000000066,\n",
       " 0.6000000000000068,\n",
       " 0.8000000000000069,\n",
       " 1.000000000000007,\n",
       " 1.2000000000000064,\n",
       " 1.4000000000000075,\n",
       " 1.6000000000000085,\n",
       " 1.8000000000000078,\n",
       " 2.000000000000007,\n",
       " 2.200000000000008,\n",
       " 2.4000000000000092,\n",
       " 2.6000000000000085,\n",
       " 2.800000000000008,\n",
       " 3.000000000000009,\n",
       " 3.20000000000001,\n",
       " 3.4000000000000092,\n",
       " 3.6000000000000085,\n",
       " 3.8000000000000096,\n",
       " 4.000000000000011,\n",
       " 4.20000000000001,\n",
       " 4.400000000000009,\n",
       " 4.60000000000001,\n",
       " 4.800000000000011,\n",
       " 5.000000000000011,\n",
       " 5.20000000000001,\n",
       " 5.400000000000011,\n",
       " 5.600000000000012,\n",
       " 5.800000000000011,\n",
       " 6.000000000000011,\n",
       " 6.200000000000012,\n",
       " 6.400000000000013,\n",
       " 6.600000000000012,\n",
       " 6.800000000000011,\n",
       " 7.000000000000012,\n",
       " 7.2000000000000135,\n",
       " 7.400000000000013,\n",
       " 7.600000000000012,\n",
       " 7.800000000000013,\n",
       " 8.000000000000014,\n",
       " 8.200000000000014,\n",
       " 8.400000000000013,\n",
       " 8.600000000000014,\n",
       " 8.800000000000015,\n",
       " 9.000000000000014,\n",
       " 9.200000000000014,\n",
       " 9.400000000000013,\n",
       " 9.600000000000016,\n",
       " 9.800000000000015,\n",
       " 10.000000000000014,\n",
       " 10.200000000000017]"
      ]
     },
     "execution_count": 61,
     "metadata": {},
     "output_type": "execute_result"
    }
   ],
   "source": [
    "list(np.arange(-7,10.4,0.2))  # arange function in numpy also can take fraction of value "
   ]
  },
  {
   "cell_type": "code",
   "execution_count": 63,
   "id": "79d9c5af-8196-45d3-9737-9d6225629d72",
   "metadata": {},
   "outputs": [
    {
     "data": {
      "text/plain": [
       "array([1.        , 1.21052632, 1.42105263, 1.63157895, 1.84210526,\n",
       "       2.05263158, 2.26315789, 2.47368421, 2.68421053, 2.89473684,\n",
       "       3.10526316, 3.31578947, 3.52631579, 3.73684211, 3.94736842,\n",
       "       4.15789474, 4.36842105, 4.57894737, 4.78947368, 5.        ])"
      ]
     },
     "execution_count": 63,
     "metadata": {},
     "output_type": "execute_result"
    }
   ],
   "source": [
    "np.linspace(1,5,20)"
   ]
  },
  {
   "cell_type": "code",
   "execution_count": 64,
   "id": "b719572e-5feb-4413-adda-26330860fd89",
   "metadata": {},
   "outputs": [
    {
     "data": {
      "text/plain": [
       "array([1.00000000e+01, 2.78255940e+01, 7.74263683e+01, 2.15443469e+02,\n",
       "       5.99484250e+02, 1.66810054e+03, 4.64158883e+03, 1.29154967e+04,\n",
       "       3.59381366e+04, 1.00000000e+05])"
      ]
     },
     "execution_count": 64,
     "metadata": {},
     "output_type": "execute_result"
    }
   ],
   "source": [
    "np.logspace(1,5,10)"
   ]
  },
  {
   "cell_type": "code",
   "execution_count": 65,
   "id": "294c7bf9-d8c8-4b68-b956-098d61f67b4b",
   "metadata": {},
   "outputs": [
    {
     "data": {
      "text/plain": [
       "array([ 2.        ,  2.31422047,  2.6778082 ,  3.09851928,  3.58532838,\n",
       "        4.14862018,  4.80041088,  5.55460457,  6.42728981,  7.43708284,\n",
       "        8.60552469,  9.95754072, 11.5219723 , 13.3321921 , 15.42681597,\n",
       "       17.85052668, 20.65502717, 23.90014339, 27.65510059, 32.        ])"
      ]
     },
     "execution_count": 65,
     "metadata": {},
     "output_type": "execute_result"
    }
   ],
   "source": [
    "np.logspace(1,5,20, base=2)"
   ]
  },
  {
   "cell_type": "code",
   "execution_count": 66,
   "id": "517ca939-85cb-47ac-93b4-77403db7f1be",
   "metadata": {},
   "outputs": [
    {
     "data": {
      "text/plain": [
       "array([0., 0., 0., 0., 0.])"
      ]
     },
     "execution_count": 66,
     "metadata": {},
     "output_type": "execute_result"
    }
   ],
   "source": [
    "np.zeros(5)  # it is a functio which create arrays in the form of zeros"
   ]
  },
  {
   "cell_type": "code",
   "execution_count": 67,
   "id": "762b3ad0-34ef-477e-916d-5ddb9f55403f",
   "metadata": {},
   "outputs": [
    {
     "data": {
      "text/plain": [
       "array([[0., 0., 0., 0.],\n",
       "       [0., 0., 0., 0.],\n",
       "       [0., 0., 0., 0.]])"
      ]
     },
     "execution_count": 67,
     "metadata": {},
     "output_type": "execute_result"
    }
   ],
   "source": [
    "np.zeros((3,4))  # generating arr with 3 rows and 4  columns"
   ]
  },
  {
   "cell_type": "code",
   "execution_count": 68,
   "id": "8ef59cef-43ca-47d7-8dcc-cc4bf89c7235",
   "metadata": {},
   "outputs": [
    {
     "data": {
      "text/plain": [
       "array([[[0., 0.],\n",
       "        [0., 0.],\n",
       "        [0., 0.],\n",
       "        [0., 0.]],\n",
       "\n",
       "       [[0., 0.],\n",
       "        [0., 0.],\n",
       "        [0., 0.],\n",
       "        [0., 0.]],\n",
       "\n",
       "       [[0., 0.],\n",
       "        [0., 0.],\n",
       "        [0., 0.],\n",
       "        [0., 0.]]])"
      ]
     },
     "execution_count": 68,
     "metadata": {},
     "output_type": "execute_result"
    }
   ],
   "source": [
    "np.zeros((3,4,2))  # generating  3 arrays with 4 rows and 2 columns"
   ]
  },
  {
   "cell_type": "code",
   "execution_count": 47,
   "id": "1801c09e-57a3-42a0-8644-013681b51dfd",
   "metadata": {},
   "outputs": [],
   "source": [
    "arr3=np.zeros((3,4,2,3))"
   ]
  },
  {
   "cell_type": "code",
   "execution_count": 50,
   "id": "eea40f46-91cf-4369-9515-64e1005c53b2",
   "metadata": {},
   "outputs": [
    {
     "data": {
      "text/plain": [
       "array([[[[0., 0., 0.],\n",
       "         [0., 0., 0.]],\n",
       "\n",
       "        [[0., 0., 0.],\n",
       "         [0., 0., 0.]],\n",
       "\n",
       "        [[0., 0., 0.],\n",
       "         [0., 0., 0.]],\n",
       "\n",
       "        [[0., 0., 0.],\n",
       "         [0., 0., 0.]]],\n",
       "\n",
       "\n",
       "       [[[0., 0., 0.],\n",
       "         [0., 0., 0.]],\n",
       "\n",
       "        [[0., 0., 0.],\n",
       "         [0., 0., 0.]],\n",
       "\n",
       "        [[0., 0., 0.],\n",
       "         [0., 0., 0.]],\n",
       "\n",
       "        [[0., 0., 0.],\n",
       "         [0., 0., 0.]]],\n",
       "\n",
       "\n",
       "       [[[0., 0., 0.],\n",
       "         [0., 0., 0.]],\n",
       "\n",
       "        [[0., 0., 0.],\n",
       "         [0., 0., 0.]],\n",
       "\n",
       "        [[0., 0., 0.],\n",
       "         [0., 0., 0.]],\n",
       "\n",
       "        [[0., 0., 0.],\n",
       "         [0., 0., 0.]]]])"
      ]
     },
     "execution_count": 50,
     "metadata": {},
     "output_type": "execute_result"
    }
   ],
   "source": [
    "arr3"
   ]
  },
  {
   "cell_type": "code",
   "execution_count": 48,
   "id": "8c1326d3-e8d6-4173-a29e-2247a6a1eaf0",
   "metadata": {},
   "outputs": [
    {
     "data": {
      "text/plain": [
       "4"
      ]
     },
     "execution_count": 48,
     "metadata": {},
     "output_type": "execute_result"
    }
   ],
   "source": [
    "arr3.ndim"
   ]
  },
  {
   "cell_type": "code",
   "execution_count": 49,
   "id": "4944d455-ad0b-4643-95e9-132cc0d14c19",
   "metadata": {},
   "outputs": [
    {
     "data": {
      "text/plain": [
       "array([1., 1., 1., 1., 1.])"
      ]
     },
     "execution_count": 49,
     "metadata": {},
     "output_type": "execute_result"
    }
   ],
   "source": [
    "import numpy as np\n",
    "np.ones(5)"
   ]
  },
  {
   "cell_type": "code",
   "execution_count": 4,
   "id": "2bbdd064-1f3a-447f-8a3f-c9c9bd2e8840",
   "metadata": {},
   "outputs": [],
   "source": [
    "arr = np.ones((3,4))"
   ]
  },
  {
   "cell_type": "code",
   "execution_count": 5,
   "id": "426dccdb-00e5-460a-8a1a-3ef69058f078",
   "metadata": {},
   "outputs": [
    {
     "data": {
      "text/plain": [
       "array([[1., 1., 1., 1.],\n",
       "       [1., 1., 1., 1.],\n",
       "       [1., 1., 1., 1.]])"
      ]
     },
     "execution_count": 5,
     "metadata": {},
     "output_type": "execute_result"
    }
   ],
   "source": [
    "arr"
   ]
  },
  {
   "cell_type": "code",
   "execution_count": 7,
   "id": "1b56f5ec-40ad-4b09-b16c-30f6cbec0c3f",
   "metadata": {},
   "outputs": [
    {
     "data": {
      "text/plain": [
       "array([[6., 6., 6., 6.],\n",
       "       [6., 6., 6., 6.],\n",
       "       [6., 6., 6., 6.]])"
      ]
     },
     "execution_count": 7,
     "metadata": {},
     "output_type": "execute_result"
    }
   ],
   "source": [
    "arr +5  # adding 5 with every element of the array"
   ]
  },
  {
   "cell_type": "code",
   "execution_count": 8,
   "id": "39834c52-0537-4c37-a2ba-651a2a409629",
   "metadata": {},
   "outputs": [
    {
     "data": {
      "text/plain": [
       "array([[6., 6., 6., 6.],\n",
       "       [6., 6., 6., 6.],\n",
       "       [6., 6., 6., 6.]])"
      ]
     },
     "execution_count": 8,
     "metadata": {},
     "output_type": "execute_result"
    }
   ],
   "source": [
    "arr*6"
   ]
  },
  {
   "cell_type": "code",
   "execution_count": 9,
   "id": "e0300191-974e-4e49-ba5b-d90e8de6380e",
   "metadata": {},
   "outputs": [
    {
     "data": {
      "text/plain": [
       "array([[4.65367768e-310, 0.00000000e+000, 0.00000000e+000,\n",
       "        0.00000000e+000, 0.00000000e+000],\n",
       "       [0.00000000e+000, 0.00000000e+000, 0.00000000e+000,\n",
       "        0.00000000e+000, 0.00000000e+000],\n",
       "       [0.00000000e+000, 0.00000000e+000, 0.00000000e+000,\n",
       "        0.00000000e+000, 6.90791977e-310]])"
      ]
     },
     "execution_count": 9,
     "metadata": {},
     "output_type": "execute_result"
    }
   ],
   "source": [
    "np.empty((3,5))"
   ]
  },
  {
   "cell_type": "code",
   "execution_count": 11,
   "id": "126af890-962f-40d9-8e13-cb36957cfca9",
   "metadata": {},
   "outputs": [],
   "source": [
    "arr1=np.eye(5)   #always return square matrixes with 1 in diagonal"
   ]
  },
  {
   "cell_type": "code",
   "execution_count": 12,
   "id": "6939efcd-eff3-45aa-9c61-c651d7f529b4",
   "metadata": {},
   "outputs": [],
   "source": [
    "import pandas as pd"
   ]
  },
  {
   "cell_type": "code",
   "execution_count": 13,
   "id": "7e80b177-0c1d-4745-b2da-c246b05b92a2",
   "metadata": {},
   "outputs": [
    {
     "data": {
      "text/html": [
       "<div>\n",
       "<style scoped>\n",
       "    .dataframe tbody tr th:only-of-type {\n",
       "        vertical-align: middle;\n",
       "    }\n",
       "\n",
       "    .dataframe tbody tr th {\n",
       "        vertical-align: top;\n",
       "    }\n",
       "\n",
       "    .dataframe thead th {\n",
       "        text-align: right;\n",
       "    }\n",
       "</style>\n",
       "<table border=\"1\" class=\"dataframe\">\n",
       "  <thead>\n",
       "    <tr style=\"text-align: right;\">\n",
       "      <th></th>\n",
       "      <th>0</th>\n",
       "      <th>1</th>\n",
       "      <th>2</th>\n",
       "      <th>3</th>\n",
       "      <th>4</th>\n",
       "    </tr>\n",
       "  </thead>\n",
       "  <tbody>\n",
       "    <tr>\n",
       "      <th>0</th>\n",
       "      <td>1.0</td>\n",
       "      <td>0.0</td>\n",
       "      <td>0.0</td>\n",
       "      <td>0.0</td>\n",
       "      <td>0.0</td>\n",
       "    </tr>\n",
       "    <tr>\n",
       "      <th>1</th>\n",
       "      <td>0.0</td>\n",
       "      <td>1.0</td>\n",
       "      <td>0.0</td>\n",
       "      <td>0.0</td>\n",
       "      <td>0.0</td>\n",
       "    </tr>\n",
       "    <tr>\n",
       "      <th>2</th>\n",
       "      <td>0.0</td>\n",
       "      <td>0.0</td>\n",
       "      <td>1.0</td>\n",
       "      <td>0.0</td>\n",
       "      <td>0.0</td>\n",
       "    </tr>\n",
       "    <tr>\n",
       "      <th>3</th>\n",
       "      <td>0.0</td>\n",
       "      <td>0.0</td>\n",
       "      <td>0.0</td>\n",
       "      <td>1.0</td>\n",
       "      <td>0.0</td>\n",
       "    </tr>\n",
       "    <tr>\n",
       "      <th>4</th>\n",
       "      <td>0.0</td>\n",
       "      <td>0.0</td>\n",
       "      <td>0.0</td>\n",
       "      <td>0.0</td>\n",
       "      <td>1.0</td>\n",
       "    </tr>\n",
       "  </tbody>\n",
       "</table>\n",
       "</div>"
      ],
      "text/plain": [
       "     0    1    2    3    4\n",
       "0  1.0  0.0  0.0  0.0  0.0\n",
       "1  0.0  1.0  0.0  0.0  0.0\n",
       "2  0.0  0.0  1.0  0.0  0.0\n",
       "3  0.0  0.0  0.0  1.0  0.0\n",
       "4  0.0  0.0  0.0  0.0  1.0"
      ]
     },
     "execution_count": 13,
     "metadata": {},
     "output_type": "execute_result"
    }
   ],
   "source": [
    "pd.DataFrame(arr1)   # any arrays and matrix can be represent as a dataframe"
   ]
  },
  {
   "cell_type": "code",
   "execution_count": 14,
   "id": "cef2ec44-3c19-4007-b6fd-b6e61091e4d2",
   "metadata": {},
   "outputs": [
    {
     "data": {
      "text/plain": [
       "array([[0.30491543, 0.70002804, 0.05562013],\n",
       "       [0.51592282, 0.15680092, 0.81306178]])"
      ]
     },
     "execution_count": 14,
     "metadata": {},
     "output_type": "execute_result"
    }
   ],
   "source": [
    "np.random.rand(2,3) # give dataset where  mean and std can be anything"
   ]
  },
  {
   "cell_type": "code",
   "execution_count": 15,
   "id": "3a0c49df-eb0c-4c63-990e-d84cf1511719",
   "metadata": {},
   "outputs": [
    {
     "data": {
      "text/plain": [
       "array([[-1.34775313, -1.3548795 ,  0.57486727],\n",
       "       [ 0.97259163,  0.28784878,  0.78619602],\n",
       "       [-0.12428773, -0.32118527, -0.20700366],\n",
       "       [ 0.39822962, -0.59174991,  0.83091382],\n",
       "       [ 0.96063319, -0.51211647,  0.94650701],\n",
       "       [ 0.79464239,  0.57380833,  0.23789248],\n",
       "       [ 0.45018442, -0.57625361, -0.63344544]])"
      ]
     },
     "execution_count": 15,
     "metadata": {},
     "output_type": "execute_result"
    }
   ],
   "source": [
    "np.random.randn(7,3) # giving dataset with standard normal deviation means mean is 0 and std=1"
   ]
  },
  {
   "cell_type": "code",
   "execution_count": 17,
   "id": "621a4b9f-d1dd-4bd9-9b38-4e7fe5f8c2a8",
   "metadata": {},
   "outputs": [],
   "source": [
    "arr2=np.random.randint(1,5, (3,4)) # generating data with 1 to 4 range with 3 rows and 4 columns"
   ]
  },
  {
   "cell_type": "code",
   "execution_count": 18,
   "id": "b97e30b9-b3f6-4088-8616-ada68945c5b5",
   "metadata": {},
   "outputs": [
    {
     "data": {
      "text/plain": [
       "array([[3, 3, 3, 1],\n",
       "       [1, 1, 2, 1],\n",
       "       [2, 2, 3, 2]])"
      ]
     },
     "execution_count": 18,
     "metadata": {},
     "output_type": "execute_result"
    }
   ],
   "source": [
    "arr2"
   ]
  },
  {
   "cell_type": "code",
   "execution_count": 19,
   "id": "79385947-e67e-465d-8b65-c70ccae8e498",
   "metadata": {},
   "outputs": [
    {
     "data": {
      "text/plain": [
       "12"
      ]
     },
     "execution_count": 19,
     "metadata": {},
     "output_type": "execute_result"
    }
   ],
   "source": [
    "arr2.size"
   ]
  },
  {
   "cell_type": "code",
   "execution_count": 20,
   "id": "e01a934d-5ad3-4b01-9580-cce196e9198f",
   "metadata": {},
   "outputs": [
    {
     "data": {
      "text/plain": [
       "(3, 4)"
      ]
     },
     "execution_count": 20,
     "metadata": {},
     "output_type": "execute_result"
    }
   ],
   "source": [
    "arr2.shape"
   ]
  },
  {
   "cell_type": "code",
   "execution_count": 22,
   "id": "465331d7-57cf-4c20-a425-ad1f31907bf6",
   "metadata": {},
   "outputs": [
    {
     "data": {
      "text/plain": [
       "array([[3, 3],\n",
       "       [3, 1],\n",
       "       [1, 1],\n",
       "       [2, 1],\n",
       "       [2, 2],\n",
       "       [3, 2]])"
      ]
     },
     "execution_count": 22,
     "metadata": {},
     "output_type": "execute_result"
    }
   ],
   "source": [
    "arr2.reshape(6,2) # during reshaping data one thing is in mind that size reamin same like 4*3,6*2"
   ]
  },
  {
   "cell_type": "code",
   "execution_count": 23,
   "id": "5bb3ac22-4127-48d0-ba01-200d6c7fcc4e",
   "metadata": {},
   "outputs": [
    {
     "ename": "ValueError",
     "evalue": "cannot reshape array of size 12 into shape (3,2)",
     "output_type": "error",
     "traceback": [
      "\u001b[0;31m---------------------------------------------------------------------------\u001b[0m",
      "\u001b[0;31mValueError\u001b[0m                                Traceback (most recent call last)",
      "Cell \u001b[0;32mIn[23], line 1\u001b[0m\n\u001b[0;32m----> 1\u001b[0m \u001b[43marr2\u001b[49m\u001b[38;5;241;43m.\u001b[39;49m\u001b[43mreshape\u001b[49m\u001b[43m(\u001b[49m\u001b[38;5;241;43m3\u001b[39;49m\u001b[43m,\u001b[49m\u001b[38;5;241;43m2\u001b[39;49m\u001b[43m)\u001b[49m\n",
      "\u001b[0;31mValueError\u001b[0m: cannot reshape array of size 12 into shape (3,2)"
     ]
    }
   ],
   "source": [
    "arr2.reshape(3,2)  # no equal size as 4*3 arr"
   ]
  },
  {
   "cell_type": "code",
   "execution_count": 24,
   "id": "dde8778f-1d72-4f27-acbe-35ae618d814b",
   "metadata": {},
   "outputs": [
    {
     "data": {
      "text/plain": [
       "array([[3],\n",
       "       [3],\n",
       "       [3],\n",
       "       [1],\n",
       "       [1],\n",
       "       [1],\n",
       "       [2],\n",
       "       [1],\n",
       "       [2],\n",
       "       [2],\n",
       "       [3],\n",
       "       [2]])"
      ]
     },
     "execution_count": 24,
     "metadata": {},
     "output_type": "execute_result"
    }
   ],
   "source": [
    "arr2.reshape(12,1)"
   ]
  },
  {
   "cell_type": "code",
   "execution_count": 25,
   "id": "72f0b9d2-3d7c-4a3e-9df0-c2ef0df1985e",
   "metadata": {},
   "outputs": [
    {
     "data": {
      "text/plain": [
       "array([[3, 3, 3],\n",
       "       [1, 1, 1],\n",
       "       [2, 1, 2],\n",
       "       [2, 3, 2]])"
      ]
     },
     "execution_count": 25,
     "metadata": {},
     "output_type": "execute_result"
    }
   ],
   "source": [
    "arr2.reshape(-4,3)"
   ]
  },
  {
   "cell_type": "code",
   "execution_count": null,
   "id": "c1dd24e1-d51c-4637-b06c-c9f247104d8c",
   "metadata": {},
   "outputs": [],
   "source": []
  },
  {
   "cell_type": "code",
   "execution_count": 26,
   "id": "208243f7-c107-49c4-b59a-d18559da8042",
   "metadata": {},
   "outputs": [
    {
     "data": {
      "text/plain": [
       "array([[[3, 3, 3],\n",
       "        [1, 1, 1]],\n",
       "\n",
       "       [[2, 1, 2],\n",
       "        [2, 3, 2]]])"
      ]
     },
     "execution_count": 26,
     "metadata": {},
     "output_type": "execute_result"
    }
   ],
   "source": [
    "arr2.reshape(2,2,3) # converting into 3 dimension 3 square bracket in last and begining"
   ]
  },
  {
   "cell_type": "code",
   "execution_count": 28,
   "id": "29141c2c-7f25-4b76-a075-3c8c1b4555f1",
   "metadata": {},
   "outputs": [
    {
     "data": {
      "text/plain": [
       "3"
      ]
     },
     "execution_count": 28,
     "metadata": {},
     "output_type": "execute_result"
    }
   ],
   "source": [
    "arr2.reshape(2,2,3).ndim"
   ]
  },
  {
   "cell_type": "code",
   "execution_count": 29,
   "id": "496b2e07-01e7-4565-86ab-47c98b4c6a5d",
   "metadata": {},
   "outputs": [
    {
     "data": {
      "text/plain": [
       "2"
      ]
     },
     "execution_count": 29,
     "metadata": {},
     "output_type": "execute_result"
    }
   ],
   "source": [
    "arr2.ndim"
   ]
  },
  {
   "cell_type": "code",
   "execution_count": 32,
   "id": "6bde1b1e-dfaa-446a-b3eb-ef93c2701a69",
   "metadata": {},
   "outputs": [
    {
     "data": {
      "text/plain": [
       "array([[[[[[3]]],\n",
       "\n",
       "\n",
       "         [[[3]]],\n",
       "\n",
       "\n",
       "         [[[3]]]],\n",
       "\n",
       "\n",
       "\n",
       "        [[[[1]]],\n",
       "\n",
       "\n",
       "         [[[1]]],\n",
       "\n",
       "\n",
       "         [[[1]]]]],\n",
       "\n",
       "\n",
       "\n",
       "\n",
       "       [[[[[2]]],\n",
       "\n",
       "\n",
       "         [[[1]]],\n",
       "\n",
       "\n",
       "         [[[2]]]],\n",
       "\n",
       "\n",
       "\n",
       "        [[[[2]]],\n",
       "\n",
       "\n",
       "         [[[3]]],\n",
       "\n",
       "\n",
       "         [[[2]]]]]])"
      ]
     },
     "execution_count": 32,
     "metadata": {},
     "output_type": "execute_result"
    }
   ],
   "source": [
    "arr2.reshape(2,2,3,1,1,1)   # 6 dimension "
   ]
  },
  {
   "cell_type": "code",
   "execution_count": 33,
   "id": "6c8b8e83-f4de-4d21-b26d-2be754cefd76",
   "metadata": {},
   "outputs": [
    {
     "ename": "ValueError",
     "evalue": "cannot reshape array of size 12 into shape (3,2,1,1)",
     "output_type": "error",
     "traceback": [
      "\u001b[0;31m---------------------------------------------------------------------------\u001b[0m",
      "\u001b[0;31mValueError\u001b[0m                                Traceback (most recent call last)",
      "Cell \u001b[0;32mIn[33], line 1\u001b[0m\n\u001b[0;32m----> 1\u001b[0m \u001b[43marr2\u001b[49m\u001b[38;5;241;43m.\u001b[39;49m\u001b[43mreshape\u001b[49m\u001b[43m(\u001b[49m\u001b[38;5;241;43m3\u001b[39;49m\u001b[43m,\u001b[49m\u001b[38;5;241;43m2\u001b[39;49m\u001b[43m,\u001b[49m\u001b[38;5;241;43m1\u001b[39;49m\u001b[43m,\u001b[49m\u001b[38;5;241;43m1\u001b[39;49m\u001b[43m)\u001b[49m\n",
      "\u001b[0;31mValueError\u001b[0m: cannot reshape array of size 12 into shape (3,2,1,1)"
     ]
    }
   ],
   "source": [
    "arr2.reshape(3,2,1,1)"
   ]
  },
  {
   "cell_type": "code",
   "execution_count": 36,
   "id": "7d8e7aac-fac8-4b07-b548-93c2681c5f88",
   "metadata": {},
   "outputs": [
    {
     "data": {
      "text/plain": [
       "array([[[[[3]],\n",
       "\n",
       "         [[3]],\n",
       "\n",
       "         [[3]]],\n",
       "\n",
       "\n",
       "        [[[1]],\n",
       "\n",
       "         [[1]],\n",
       "\n",
       "         [[1]]]],\n",
       "\n",
       "\n",
       "\n",
       "       [[[[2]],\n",
       "\n",
       "         [[1]],\n",
       "\n",
       "         [[2]]],\n",
       "\n",
       "\n",
       "        [[[2]],\n",
       "\n",
       "         [[3]],\n",
       "\n",
       "         [[2]]]]])"
      ]
     },
     "execution_count": 36,
     "metadata": {},
     "output_type": "execute_result"
    }
   ],
   "source": [
    "arr2.reshape(2,2,3,1,1)  # 5 dimension"
   ]
  },
  {
   "cell_type": "code",
   "execution_count": 37,
   "id": "6295adda-907f-4250-a4a1-a4faf3f2bfd1",
   "metadata": {},
   "outputs": [
    {
     "data": {
      "text/plain": [
       "5"
      ]
     },
     "execution_count": 37,
     "metadata": {},
     "output_type": "execute_result"
    }
   ],
   "source": [
    "(arr2.reshape(2,2,3,1,1)).ndim  # 5 dimension"
   ]
  },
  {
   "cell_type": "code",
   "execution_count": 39,
   "id": "ca283bae-a573-4cff-a34d-0ed6096dcd4e",
   "metadata": {},
   "outputs": [],
   "source": [
    "arr1=np.random.randint(1,10,(5,6))"
   ]
  },
  {
   "cell_type": "code",
   "execution_count": 52,
   "id": "4a0146e8-68a3-4143-a132-89bd9316ace4",
   "metadata": {},
   "outputs": [
    {
     "data": {
      "text/plain": [
       "array([[ 2,  2],\n",
       "       [15,  7]])"
      ]
     },
     "execution_count": 52,
     "metadata": {},
     "output_type": "execute_result"
    }
   ],
   "source": [
    "arr1"
   ]
  },
  {
   "cell_type": "code",
   "execution_count": null,
   "id": "7d1c93ea-501d-4fc4-884c-35d9ec31f827",
   "metadata": {},
   "outputs": [],
   "source": []
  },
  {
   "cell_type": "code",
   "execution_count": 53,
   "id": "a65abdb9-15b3-4ca5-9278-1fe8d30c5a83",
   "metadata": {},
   "outputs": [
    {
     "data": {
      "text/plain": [
       "array([[False, False],\n",
       "       [ True, False]])"
      ]
     },
     "execution_count": 53,
     "metadata": {},
     "output_type": "execute_result"
    }
   ],
   "source": [
    "arr1>8 # filter out the data which is greater then 8"
   ]
  },
  {
   "cell_type": "code",
   "execution_count": 42,
   "id": "4865a689-04cc-434a-a6bc-adf52f1ca4ee",
   "metadata": {},
   "outputs": [
    {
     "data": {
      "text/plain": [
       "array([[False, False, False,  True, False, False],\n",
       "       [False, False, False, False, False, False],\n",
       "       [False, False, False, False, False,  True],\n",
       "       [False,  True,  True, False,  True,  True],\n",
       "       [ True, False,  True,  True,  True,  True]])"
      ]
     },
     "execution_count": 42,
     "metadata": {},
     "output_type": "execute_result"
    }
   ],
   "source": [
    "arr1>5  # filter out the data which is greater than 5"
   ]
  },
  {
   "cell_type": "code",
   "execution_count": 45,
   "id": "3fbebc38-408a-4463-aef0-fec2a365bbbd",
   "metadata": {},
   "outputs": [
    {
     "data": {
      "text/plain": [
       "array([9])"
      ]
     },
     "execution_count": 45,
     "metadata": {},
     "output_type": "execute_result"
    }
   ],
   "source": [
    "arr1[arr1>8]  # filter out data  which is greater than 8 from matrix and give it to you"
   ]
  },
  {
   "cell_type": "code",
   "execution_count": 46,
   "id": "cda6a870-624a-4b5f-ba89-ddc9037fee9a",
   "metadata": {},
   "outputs": [
    {
     "data": {
      "text/plain": [
       "array([5, 7, 5, 6, 7, 7, 7, 6, 7, 7, 6, 6, 9])"
      ]
     },
     "execution_count": 46,
     "metadata": {},
     "output_type": "execute_result"
    }
   ],
   "source": [
    "arr1[arr1>4] # filter out the data which is greater than 5  and give it to you"
   ]
  },
  {
   "cell_type": "code",
   "execution_count": 63,
   "id": "1aedf3b5-41dc-4f15-b9f0-152d91b721a5",
   "metadata": {},
   "outputs": [
    {
     "data": {
      "text/plain": [
       "array([[2, 1, 1],\n",
       "       [2, 1, 1],\n",
       "       [1, 1, 1]])"
      ]
     },
     "execution_count": 63,
     "metadata": {},
     "output_type": "execute_result"
    }
   ],
   "source": [
    "arr1"
   ]
  },
  {
   "cell_type": "code",
   "execution_count": 64,
   "id": "f8400e21-16c5-43f7-b8d6-5e78b78e336c",
   "metadata": {},
   "outputs": [
    {
     "data": {
      "text/plain": [
       "array([2, 1, 1])"
      ]
     },
     "execution_count": 64,
     "metadata": {},
     "output_type": "execute_result"
    }
   ],
   "source": [
    "arr1[0]"
   ]
  },
  {
   "cell_type": "code",
   "execution_count": 65,
   "id": "c1795bf6-ba63-4706-a874-ee0cc6ee1542",
   "metadata": {},
   "outputs": [
    {
     "data": {
      "text/plain": [
       "array([2, 1])"
      ]
     },
     "execution_count": 65,
     "metadata": {},
     "output_type": "execute_result"
    }
   ],
   "source": [
    "arr1[0,[0,1]] # extracting data from matries"
   ]
  },
  {
   "cell_type": "code",
   "execution_count": 54,
   "id": "fde36992-91a8-4cde-962b-41dba9645cc2",
   "metadata": {},
   "outputs": [
    {
     "data": {
      "text/plain": [
       "array([1, 4])"
      ]
     },
     "execution_count": 54,
     "metadata": {},
     "output_type": "execute_result"
    }
   ],
   "source": [
    "arr1[2,[2,3]]"
   ]
  },
  {
   "cell_type": "code",
   "execution_count": 54,
   "id": "07aee828-1fbe-4e4b-ab0b-bb8844d4c8aa",
   "metadata": {},
   "outputs": [],
   "source": [
    "arr1 = np.random.randint(1,3, (3,3,))\n",
    "arr2 = np.random.randint(1,3, (3,3))"
   ]
  },
  {
   "cell_type": "code",
   "execution_count": 55,
   "id": "3ac704a5-1315-4050-9b59-fcf61e4ae929",
   "metadata": {},
   "outputs": [
    {
     "data": {
      "text/plain": [
       "array([[2, 1, 1],\n",
       "       [2, 1, 1],\n",
       "       [1, 1, 1]])"
      ]
     },
     "execution_count": 55,
     "metadata": {},
     "output_type": "execute_result"
    }
   ],
   "source": [
    "arr1"
   ]
  },
  {
   "cell_type": "code",
   "execution_count": 56,
   "id": "b0680454-0e0b-4174-91e2-72a194ae6f74",
   "metadata": {},
   "outputs": [
    {
     "data": {
      "text/plain": [
       "array([[2, 2, 1],\n",
       "       [1, 1, 2],\n",
       "       [1, 2, 1]])"
      ]
     },
     "execution_count": 56,
     "metadata": {},
     "output_type": "execute_result"
    }
   ],
   "source": [
    "arr2"
   ]
  },
  {
   "cell_type": "code",
   "execution_count": 57,
   "id": "5f37c406-1b8d-4974-8fc8-974e9ce88ef1",
   "metadata": {},
   "outputs": [
    {
     "data": {
      "text/plain": [
       "array([[4, 3, 2],\n",
       "       [3, 2, 3],\n",
       "       [2, 3, 2]])"
      ]
     },
     "execution_count": 57,
     "metadata": {},
     "output_type": "execute_result"
    }
   ],
   "source": [
    "arr1+arr2"
   ]
  },
  {
   "cell_type": "code",
   "execution_count": 58,
   "id": "18314f67-8af2-4e5b-a49d-01eccac4a24b",
   "metadata": {},
   "outputs": [
    {
     "data": {
      "text/plain": [
       "array([[ 0, -1,  0],\n",
       "       [ 1,  0, -1],\n",
       "       [ 0, -1,  0]])"
      ]
     },
     "execution_count": 58,
     "metadata": {},
     "output_type": "execute_result"
    }
   ],
   "source": [
    "arr1-arr2"
   ]
  },
  {
   "cell_type": "code",
   "execution_count": 59,
   "id": "6e89c7f1-7f64-40be-9219-72dec72d6bdf",
   "metadata": {},
   "outputs": [
    {
     "data": {
      "text/plain": [
       "array([[4, 2, 1],\n",
       "       [2, 1, 2],\n",
       "       [1, 2, 1]])"
      ]
     },
     "execution_count": 59,
     "metadata": {},
     "output_type": "execute_result"
    }
   ],
   "source": [
    "arr1*arr2  # it gives index wise multiplication"
   ]
  },
  {
   "cell_type": "code",
   "execution_count": 60,
   "id": "01bfc382-ce40-4f74-9779-b28f023372fd",
   "metadata": {},
   "outputs": [
    {
     "data": {
      "text/plain": [
       "array([[1. , 0.5, 1. ],\n",
       "       [2. , 1. , 0.5],\n",
       "       [1. , 0.5, 1. ]])"
      ]
     },
     "execution_count": 60,
     "metadata": {},
     "output_type": "execute_result"
    }
   ],
   "source": [
    "arr1/arr2"
   ]
  },
  {
   "cell_type": "code",
   "execution_count": 61,
   "id": "6a9782cf-f020-47d8-9b0d-4c4a028e92d0",
   "metadata": {},
   "outputs": [
    {
     "data": {
      "text/plain": [
       "array([[6, 7, 5],\n",
       "       [6, 7, 5],\n",
       "       [4, 5, 4]])"
      ]
     },
     "execution_count": 61,
     "metadata": {},
     "output_type": "execute_result"
    }
   ],
   "source": [
    "arr1@arr2  # matrix multiplication"
   ]
  },
  {
   "cell_type": "code",
   "execution_count": 62,
   "id": "ecf9ad5b-bf22-4fbe-9a63-0769d161db62",
   "metadata": {},
   "outputs": [
    {
     "name": "stderr",
     "output_type": "stream",
     "text": [
      "/tmp/ipykernel_84/1510032488.py:1: RuntimeWarning: divide by zero encountered in divide\n",
      "  arr1/0\n"
     ]
    },
    {
     "data": {
      "text/plain": [
       "array([[inf, inf, inf],\n",
       "       [inf, inf, inf],\n",
       "       [inf, inf, inf]])"
      ]
     },
     "execution_count": 62,
     "metadata": {},
     "output_type": "execute_result"
    }
   ],
   "source": [
    "arr1/0"
   ]
  },
  {
   "cell_type": "code",
   "execution_count": 65,
   "id": "f9d3a773-e840-42ca-81a8-7460b8c19e48",
   "metadata": {},
   "outputs": [],
   "source": [
    "# numpy------broadcasting\n",
    "arr=np.zeros((2,3))"
   ]
  },
  {
   "cell_type": "code",
   "execution_count": 66,
   "id": "037884ae-e030-4f48-88c3-0ff501fa9520",
   "metadata": {},
   "outputs": [
    {
     "data": {
      "text/plain": [
       "array([[0., 0., 0.],\n",
       "       [0., 0., 0.]])"
      ]
     },
     "execution_count": 66,
     "metadata": {},
     "output_type": "execute_result"
    }
   ],
   "source": [
    "arr"
   ]
  },
  {
   "cell_type": "code",
   "execution_count": 67,
   "id": "7aa497f3-3951-4d55-be59-7ed47a41838d",
   "metadata": {},
   "outputs": [
    {
     "data": {
      "text/plain": [
       "array([[3., 3., 3.],\n",
       "       [3., 3., 3.]])"
      ]
     },
     "execution_count": 67,
     "metadata": {},
     "output_type": "execute_result"
    }
   ],
   "source": [
    "arr+3"
   ]
  },
  {
   "cell_type": "code",
   "execution_count": 68,
   "id": "0db4feff-a3b3-4d69-8f28-ee523dde29a7",
   "metadata": {},
   "outputs": [],
   "source": [
    "a=np.array([1,2,3,4])"
   ]
  },
  {
   "cell_type": "code",
   "execution_count": 69,
   "id": "11a8b81d-006e-40f4-97c3-8e1c3fff78c2",
   "metadata": {},
   "outputs": [
    {
     "ename": "ValueError",
     "evalue": "operands could not be broadcast together with shapes (2,3) (4,) ",
     "output_type": "error",
     "traceback": [
      "\u001b[0;31m---------------------------------------------------------------------------\u001b[0m",
      "\u001b[0;31mValueError\u001b[0m                                Traceback (most recent call last)",
      "Cell \u001b[0;32mIn[69], line 1\u001b[0m\n\u001b[0;32m----> 1\u001b[0m \u001b[43marr\u001b[49m\u001b[38;5;241;43m+\u001b[39;49m\u001b[43ma\u001b[49m\n",
      "\u001b[0;31mValueError\u001b[0m: operands could not be broadcast together with shapes (2,3) (4,) "
     ]
    }
   ],
   "source": [
    "arr+a"
   ]
  },
  {
   "cell_type": "code",
   "execution_count": 70,
   "id": "c41f6271-7717-4bbb-8913-4292c1a40c9f",
   "metadata": {},
   "outputs": [
    {
     "data": {
      "text/plain": [
       "array([[1.41421356, 1.41421356, 1.41421356],\n",
       "       [1.41421356, 1.        , 1.41421356],\n",
       "       [1.        , 1.41421356, 1.41421356]])"
      ]
     },
     "execution_count": 70,
     "metadata": {},
     "output_type": "execute_result"
    }
   ],
   "source": [
    "np.sqrt(arr1)"
   ]
  },
  {
   "cell_type": "code",
   "execution_count": 71,
   "id": "591b7d6a-db41-4b88-922a-dc078ef3027c",
   "metadata": {},
   "outputs": [
    {
     "data": {
      "text/plain": [
       "array([[0.30103, 0.30103, 0.30103],\n",
       "       [0.30103, 0.     , 0.30103],\n",
       "       [0.     , 0.30103, 0.30103]])"
      ]
     },
     "execution_count": 71,
     "metadata": {},
     "output_type": "execute_result"
    }
   ],
   "source": [
    "np.log10(arr1)"
   ]
  },
  {
   "cell_type": "code",
   "execution_count": 74,
   "id": "04980205-5093-420c-8dd9-4d0bfab2251a",
   "metadata": {},
   "outputs": [
    {
     "data": {
      "text/plain": [
       "1.7777777777777777"
      ]
     },
     "execution_count": 74,
     "metadata": {},
     "output_type": "execute_result"
    }
   ],
   "source": [
    "np.mean(arr1)"
   ]
  },
  {
   "cell_type": "code",
   "execution_count": 75,
   "id": "449cb363-cb00-451c-9706-6735b73567ac",
   "metadata": {},
   "outputs": [
    {
     "data": {
      "text/plain": [
       "2.0"
      ]
     },
     "execution_count": 75,
     "metadata": {},
     "output_type": "execute_result"
    }
   ],
   "source": [
    "np.median(arr1)"
   ]
  },
  {
   "cell_type": "code",
   "execution_count": 80,
   "id": "a67ab3ab-30e4-4ee5-bfc9-c53d5cd855c9",
   "metadata": {},
   "outputs": [
    {
     "name": "stderr",
     "output_type": "stream",
     "text": [
      "/tmp/ipykernel_78/637220780.py:2: FutureWarning: Unlike other reduction functions (e.g. `skew`, `kurtosis`), the default behavior of `mode` typically preserves the axis it acts along. In SciPy 1.11.0, this behavior will change: the default value of `keepdims` will become False, the `axis` over which the statistic is taken will be eliminated, and the value None will no longer be accepted. Set `keepdims` to True or False to avoid this warning.\n",
      "  stats.mode(arr1)\n"
     ]
    },
    {
     "data": {
      "text/plain": [
       "ModeResult(mode=array([[2, 2, 2]]), count=array([[2, 2, 3]]))"
      ]
     },
     "execution_count": 80,
     "metadata": {},
     "output_type": "execute_result"
    }
   ],
   "source": [
    "from scipy import stats\n",
    "stats.mode(arr1)"
   ]
  },
  {
   "cell_type": "code",
   "execution_count": 81,
   "id": "ada7060e-36f9-4d88-9219-142d973e07f5",
   "metadata": {},
   "outputs": [
    {
     "data": {
      "text/plain": [
       "1"
      ]
     },
     "execution_count": 81,
     "metadata": {},
     "output_type": "execute_result"
    }
   ],
   "source": [
    "np.min(arr1)"
   ]
  },
  {
   "cell_type": "code",
   "execution_count": 82,
   "id": "318d0311-c4db-49c9-a793-e45255206276",
   "metadata": {},
   "outputs": [
    {
     "data": {
      "text/plain": [
       "2"
      ]
     },
     "execution_count": 82,
     "metadata": {},
     "output_type": "execute_result"
    }
   ],
   "source": [
    "np.max(arr1)"
   ]
  },
  {
   "cell_type": "code",
   "execution_count": 83,
   "id": "d5d8ede0-5621-4d96-8ee7-b20ddde516c2",
   "metadata": {},
   "outputs": [
    {
     "data": {
      "text/plain": [
       "array([[7.3890561 , 7.3890561 , 7.3890561 ],\n",
       "       [7.3890561 , 2.71828183, 7.3890561 ],\n",
       "       [2.71828183, 7.3890561 , 7.3890561 ]])"
      ]
     },
     "execution_count": 83,
     "metadata": {},
     "output_type": "execute_result"
    }
   ],
   "source": [
    "np.exp(arr1)"
   ]
  },
  {
   "cell_type": "code",
   "execution_count": null,
   "id": "3ee247eb-fd51-4246-b670-f5296de0701a",
   "metadata": {},
   "outputs": [],
   "source": []
  },
  {
   "cell_type": "markdown",
   "id": "36f8438d-4cd3-4a9a-af0a-daba0be36a9f",
   "metadata": {},
   "source": [
    "LECTURE3"
   ]
  },
  {
   "cell_type": "code",
   "execution_count": 1,
   "id": "0f4e8359-55c4-4c29-81ce-014e2c2ec3ca",
   "metadata": {},
   "outputs": [],
   "source": [
    "import numpy as np"
   ]
  },
  {
   "cell_type": "code",
   "execution_count": 3,
   "id": "d718478d-226e-425c-b54e-f0a206b5aba2",
   "metadata": {},
   "outputs": [],
   "source": [
    "# Numpy -- array manipulation\n",
    "arr = np.random.randint(1,10, (4,4))\n"
   ]
  },
  {
   "cell_type": "code",
   "execution_count": 5,
   "id": "9c2aa194-b0a1-4c07-a5a7-3ce77467da06",
   "metadata": {},
   "outputs": [
    {
     "data": {
      "text/plain": [
       "array([[5, 3, 3, 1],\n",
       "       [6, 6, 6, 9],\n",
       "       [2, 5, 8, 2],\n",
       "       [6, 9, 5, 9]])"
      ]
     },
     "execution_count": 5,
     "metadata": {},
     "output_type": "execute_result"
    }
   ],
   "source": [
    "arr"
   ]
  },
  {
   "cell_type": "code",
   "execution_count": 6,
   "id": "c432a40a-8e73-4169-b084-c5dd417da0f6",
   "metadata": {},
   "outputs": [
    {
     "data": {
      "text/plain": [
       "array([[5, 3],\n",
       "       [3, 1],\n",
       "       [6, 6],\n",
       "       [6, 9],\n",
       "       [2, 5],\n",
       "       [8, 2],\n",
       "       [6, 9],\n",
       "       [5, 9]])"
      ]
     },
     "execution_count": 6,
     "metadata": {},
     "output_type": "execute_result"
    }
   ],
   "source": [
    "arr.reshape(8,2)"
   ]
  },
  {
   "cell_type": "code",
   "execution_count": 7,
   "id": "713b0cdd-5c0d-4dc1-a023-1a85fcdaaaaa",
   "metadata": {},
   "outputs": [
    {
     "data": {
      "text/plain": [
       "array([[5, 6, 2, 6],\n",
       "       [3, 6, 5, 9],\n",
       "       [3, 6, 8, 5],\n",
       "       [1, 9, 2, 9]])"
      ]
     },
     "execution_count": 7,
     "metadata": {},
     "output_type": "execute_result"
    }
   ],
   "source": [
    "arr.T  #  for transposing the columnn into rows\n"
   ]
  },
  {
   "cell_type": "code",
   "execution_count": 9,
   "id": "c78efd48-8331-4505-86d9-bf66c3521a2f",
   "metadata": {},
   "outputs": [
    {
     "data": {
      "text/plain": [
       "array([5, 3, 3, 1, 6, 6, 6, 9, 2, 5, 8, 2, 6, 9, 5, 9])"
      ]
     },
     "execution_count": 9,
     "metadata": {},
     "output_type": "execute_result"
    }
   ],
   "source": [
    "arr.flatten() #  here it is converting the 2d array into 1 d array"
   ]
  },
  {
   "cell_type": "code",
   "execution_count": 10,
   "id": "538269ac-65ef-4693-a701-33d4c67a1264",
   "metadata": {},
   "outputs": [
    {
     "data": {
      "text/plain": [
       "array([[5, 3, 3, 1],\n",
       "       [6, 6, 6, 9],\n",
       "       [2, 5, 8, 2],\n",
       "       [6, 9, 5, 9]])"
      ]
     },
     "execution_count": 10,
     "metadata": {},
     "output_type": "execute_result"
    }
   ],
   "source": [
    "arr"
   ]
  },
  {
   "cell_type": "code",
   "execution_count": 13,
   "id": "79358f33-72de-4a02-8185-204769aa3a0e",
   "metadata": {},
   "outputs": [
    {
     "data": {
      "text/plain": [
       "array([[[5, 3, 3, 1]],\n",
       "\n",
       "       [[6, 6, 6, 9]],\n",
       "\n",
       "       [[2, 5, 8, 2]],\n",
       "\n",
       "       [[6, 9, 5, 9]]])"
      ]
     },
     "execution_count": 13,
     "metadata": {},
     "output_type": "execute_result"
    }
   ],
   "source": [
    "np.expand_dims(arr,axis=1)  # expanding the dimension from 2d to 3d"
   ]
  },
  {
   "cell_type": "code",
   "execution_count": 14,
   "id": "0e3b7697-08c7-41a6-927c-c08133faf749",
   "metadata": {},
   "outputs": [
    {
     "data": {
      "text/plain": [
       "array([[[5, 3, 3, 1],\n",
       "        [6, 6, 6, 9],\n",
       "        [2, 5, 8, 2],\n",
       "        [6, 9, 5, 9]]])"
      ]
     },
     "execution_count": 14,
     "metadata": {},
     "output_type": "execute_result"
    }
   ],
   "source": [
    "np.expand_dims(arr,axis=0)"
   ]
  },
  {
   "cell_type": "code",
   "execution_count": 15,
   "id": "36baf3e2-ab7c-46f9-8a3c-490c9a63ec2a",
   "metadata": {},
   "outputs": [],
   "source": [
    "data = np.array([[1],[2],[3]])"
   ]
  },
  {
   "cell_type": "code",
   "execution_count": 16,
   "id": "42d5dbb6-c856-4c90-9256-9db56eb30173",
   "metadata": {},
   "outputs": [
    {
     "data": {
      "text/plain": [
       "array([[1],\n",
       "       [2],\n",
       "       [3]])"
      ]
     },
     "execution_count": 16,
     "metadata": {},
     "output_type": "execute_result"
    }
   ],
   "source": [
    "data"
   ]
  },
  {
   "cell_type": "code",
   "execution_count": 17,
   "id": "9f97e5d3-4794-4be5-bcf0-14598b099948",
   "metadata": {},
   "outputs": [
    {
     "data": {
      "text/plain": [
       "array([1, 1, 1, 1, 2, 2, 2, 2, 3, 3, 3, 3])"
      ]
     },
     "execution_count": 17,
     "metadata": {},
     "output_type": "execute_result"
    }
   ],
   "source": [
    "np.repeat(data,4)  # repeating every data 4 times and returning"
   ]
  },
  {
   "cell_type": "code",
   "execution_count": 19,
   "id": "6c821a05-75bf-44f3-8018-7c1370421355",
   "metadata": {},
   "outputs": [
    {
     "data": {
      "text/plain": [
       "array([[2],\n",
       "       [3],\n",
       "       [1]])"
      ]
     },
     "execution_count": 19,
     "metadata": {},
     "output_type": "execute_result"
    }
   ],
   "source": [
    "np.roll(data,2)  # rolliing the data "
   ]
  },
  {
   "cell_type": "code",
   "execution_count": 20,
   "id": "2403f7cf-52e5-4342-b084-5060cc43a7b6",
   "metadata": {},
   "outputs": [
    {
     "data": {
      "text/plain": [
       "array([[1, 0, 0, 0],\n",
       "       [0, 2, 0, 0],\n",
       "       [0, 0, 3, 0],\n",
       "       [0, 0, 0, 4]])"
      ]
     },
     "execution_count": 20,
     "metadata": {},
     "output_type": "execute_result"
    }
   ],
   "source": [
    "np.diag(np.array([1,2,3,4]))  # inserting no in the diagonal"
   ]
  },
  {
   "cell_type": "code",
   "execution_count": 21,
   "id": "62c8d6ba-2381-4105-baa9-1f5ab04052e6",
   "metadata": {},
   "outputs": [],
   "source": [
    "# numpy --binary operators"
   ]
  },
  {
   "cell_type": "code",
   "execution_count": 3,
   "id": "eac224b8-c5b1-43eb-a27e-b0d453b4bd5c",
   "metadata": {},
   "outputs": [],
   "source": [
    "arr1 = np.random.randint(1,10,(3,4))\n",
    "arr2 = np.random.randint(1,10,(3,4))"
   ]
  },
  {
   "cell_type": "code",
   "execution_count": 4,
   "id": "de5e1010-158f-485b-a9b0-42330a406e0e",
   "metadata": {},
   "outputs": [
    {
     "data": {
      "text/plain": [
       "array([[2, 4, 2, 7],\n",
       "       [8, 9, 3, 9],\n",
       "       [8, 1, 6, 5]])"
      ]
     },
     "execution_count": 4,
     "metadata": {},
     "output_type": "execute_result"
    }
   ],
   "source": [
    "arr1"
   ]
  },
  {
   "cell_type": "code",
   "execution_count": 5,
   "id": "aef3224a-a6a1-4834-a25a-fe3a152160c9",
   "metadata": {},
   "outputs": [
    {
     "data": {
      "text/plain": [
       "array([[10,  9,  6, 13],\n",
       "       [13, 13,  7, 18],\n",
       "       [ 9,  5, 13, 11]])"
      ]
     },
     "execution_count": 5,
     "metadata": {},
     "output_type": "execute_result"
    }
   ],
   "source": [
    "arr1+arr2"
   ]
  },
  {
   "cell_type": "code",
   "execution_count": 6,
   "id": "42d7bad0-46ee-434b-9df5-175713e65c8e",
   "metadata": {},
   "outputs": [
    {
     "data": {
      "text/plain": [
       "array([[16, 20,  8, 42],\n",
       "       [40, 36, 12, 81],\n",
       "       [ 8,  4, 42, 30]])"
      ]
     },
     "execution_count": 6,
     "metadata": {},
     "output_type": "execute_result"
    }
   ],
   "source": [
    "arr1*arr2"
   ]
  },
  {
   "cell_type": "code",
   "execution_count": 7,
   "id": "7da23df9-de9c-46d5-9490-285f8f99c8d4",
   "metadata": {},
   "outputs": [
    {
     "data": {
      "text/plain": [
       "array([[0.25      , 0.8       , 0.5       , 1.16666667],\n",
       "       [1.6       , 2.25      , 0.75      , 1.        ],\n",
       "       [8.        , 0.25      , 0.85714286, 0.83333333]])"
      ]
     },
     "execution_count": 7,
     "metadata": {},
     "output_type": "execute_result"
    }
   ],
   "source": [
    "arr1/arr2"
   ]
  },
  {
   "cell_type": "code",
   "execution_count": 8,
   "id": "bf00e3de-0cc7-4525-9e39-c3fb22b470bd",
   "metadata": {},
   "outputs": [
    {
     "data": {
      "text/plain": [
       "array([[      256,      1024,        16,    117649],\n",
       "       [    32768,      6561,        81, 387420489],\n",
       "       [        8,         1,    279936,     15625]])"
      ]
     },
     "execution_count": 8,
     "metadata": {},
     "output_type": "execute_result"
    }
   ],
   "source": [
    "arr1**arr2"
   ]
  },
  {
   "cell_type": "code",
   "execution_count": 9,
   "id": "91450d32-8849-4d44-917a-d61aef66baed",
   "metadata": {},
   "outputs": [
    {
     "data": {
      "text/plain": [
       "array([[ -3,  -5,  -3,  -8],\n",
       "       [ -9, -10,  -4, -10],\n",
       "       [ -9,  -2,  -7,  -6]])"
      ]
     },
     "execution_count": 9,
     "metadata": {},
     "output_type": "execute_result"
    }
   ],
   "source": [
    "~arr1"
   ]
  },
  {
   "cell_type": "code",
   "execution_count": 10,
   "id": "135ae25c-0305-4e27-8f86-84c2b4b48961",
   "metadata": {},
   "outputs": [
    {
     "data": {
      "text/plain": [
       "array([[2, 4, 2, 7],\n",
       "       [8, 9, 3, 9],\n",
       "       [8, 1, 6, 5]])"
      ]
     },
     "execution_count": 10,
     "metadata": {},
     "output_type": "execute_result"
    }
   ],
   "source": [
    "arr1"
   ]
  },
  {
   "cell_type": "code",
   "execution_count": 11,
   "id": "ddace456-1e73-438d-bda1-dc937ee56a0c",
   "metadata": {},
   "outputs": [],
   "source": [
    "import numpy as np"
   ]
  },
  {
   "cell_type": "code",
   "execution_count": 14,
   "id": "79371e29-a0fd-42fa-9097-81d8f8e7220a",
   "metadata": {},
   "outputs": [
    {
     "data": {
      "text/plain": [
       "array([[False, False, False,  True],\n",
       "       [ True,  True, False, False],\n",
       "       [ True, False, False, False]])"
      ]
     },
     "execution_count": 14,
     "metadata": {},
     "output_type": "execute_result"
    }
   ],
   "source": [
    "arr1>arr2"
   ]
  },
  {
   "cell_type": "code",
   "execution_count": 15,
   "id": "3fa93b4d-080c-4c8b-a12f-1b37dbb981b8",
   "metadata": {},
   "outputs": [],
   "source": [
    "#numpy --string functions"
   ]
  },
  {
   "cell_type": "code",
   "execution_count": 16,
   "id": "04092b0f-1270-49a6-bd1e-8a9638eebdaa",
   "metadata": {},
   "outputs": [],
   "source": [
    "arr = np.array(['sudh','kumar'])"
   ]
  },
  {
   "cell_type": "code",
   "execution_count": 17,
   "id": "1d810def-2028-4dcf-8f0b-3095d359c49b",
   "metadata": {},
   "outputs": [
    {
     "data": {
      "text/plain": [
       "array(['sudh', 'kumar'], dtype='<U5')"
      ]
     },
     "execution_count": 17,
     "metadata": {},
     "output_type": "execute_result"
    }
   ],
   "source": [
    "arr"
   ]
  },
  {
   "cell_type": "code",
   "execution_count": 18,
   "id": "4cc972a5-88ef-4520-bb71-a7e6e0865bff",
   "metadata": {},
   "outputs": [
    {
     "data": {
      "text/plain": [
       "array(['SUDH', 'KUMAR'], dtype='<U5')"
      ]
     },
     "execution_count": 18,
     "metadata": {},
     "output_type": "execute_result"
    }
   ],
   "source": [
    "np.char.upper(arr)"
   ]
  },
  {
   "cell_type": "code",
   "execution_count": 19,
   "id": "4e278d9e-8825-4ab6-8db6-42866f6652a8",
   "metadata": {},
   "outputs": [
    {
     "data": {
      "text/plain": [
       "array(['Sudh', 'Kumar'], dtype='<U5')"
      ]
     },
     "execution_count": 19,
     "metadata": {},
     "output_type": "execute_result"
    }
   ],
   "source": [
    "np.char.capitalize(arr)"
   ]
  },
  {
   "cell_type": "code",
   "execution_count": 20,
   "id": "100b22df-0e17-4afa-8e6f-b1f813eeab28",
   "metadata": {},
   "outputs": [
    {
     "data": {
      "text/plain": [
       "array(['Sudh', 'Kumar'], dtype='<U5')"
      ]
     },
     "execution_count": 20,
     "metadata": {},
     "output_type": "execute_result"
    }
   ],
   "source": [
    "np.char.title(arr)"
   ]
  },
  {
   "cell_type": "code",
   "execution_count": 21,
   "id": "bd5bef14-eef5-4a06-b7d9-df5997f72c6b",
   "metadata": {},
   "outputs": [
    {
     "data": {
      "text/plain": [
       "array([[2, 4, 2, 7],\n",
       "       [8, 9, 3, 9],\n",
       "       [8, 1, 6, 5]])"
      ]
     },
     "execution_count": 21,
     "metadata": {},
     "output_type": "execute_result"
    }
   ],
   "source": [
    "# numpy mathematical function\n",
    "arr1"
   ]
  },
  {
   "cell_type": "code",
   "execution_count": 22,
   "id": "c012d23c-7c7f-4cb5-afdb-410ec2eb742a",
   "metadata": {},
   "outputs": [
    {
     "data": {
      "text/plain": [
       "array([[ 0.90929743, -0.7568025 ,  0.90929743,  0.6569866 ],\n",
       "       [ 0.98935825,  0.41211849,  0.14112001,  0.41211849],\n",
       "       [ 0.98935825,  0.84147098, -0.2794155 , -0.95892427]])"
      ]
     },
     "execution_count": 22,
     "metadata": {},
     "output_type": "execute_result"
    }
   ],
   "source": [
    "np.sin(arr1)"
   ]
  },
  {
   "cell_type": "code",
   "execution_count": 23,
   "id": "f6a718dd-6777-48d2-90dc-eb4cfe276071",
   "metadata": {},
   "outputs": [
    {
     "data": {
      "text/plain": [
       "array([[-0.41614684, -0.65364362, -0.41614684,  0.75390225],\n",
       "       [-0.14550003, -0.91113026, -0.9899925 , -0.91113026],\n",
       "       [-0.14550003,  0.54030231,  0.96017029,  0.28366219]])"
      ]
     },
     "execution_count": 23,
     "metadata": {},
     "output_type": "execute_result"
    }
   ],
   "source": [
    "np.cos(arr1)"
   ]
  },
  {
   "cell_type": "code",
   "execution_count": 24,
   "id": "e3819b10-a808-4381-8d74-782a9ea891ea",
   "metadata": {},
   "outputs": [
    {
     "data": {
      "text/plain": [
       "array([[-2.18503986,  1.15782128, -2.18503986,  0.87144798],\n",
       "       [-6.79971146, -0.45231566, -0.14254654, -0.45231566],\n",
       "       [-6.79971146,  1.55740772, -0.29100619, -3.38051501]])"
      ]
     },
     "execution_count": 24,
     "metadata": {},
     "output_type": "execute_result"
    }
   ],
   "source": [
    "np.tan(arr1)"
   ]
  },
  {
   "cell_type": "code",
   "execution_count": 25,
   "id": "46f9dc2a-d4ad-4208-9345-b8c10f27f297",
   "metadata": {},
   "outputs": [
    {
     "data": {
      "text/plain": [
       "array([[0.30103   , 0.60205999, 0.30103   , 0.84509804],\n",
       "       [0.90308999, 0.95424251, 0.47712125, 0.95424251],\n",
       "       [0.90308999, 0.        , 0.77815125, 0.69897   ]])"
      ]
     },
     "execution_count": 25,
     "metadata": {},
     "output_type": "execute_result"
    }
   ],
   "source": [
    "np.log10(arr1)"
   ]
  },
  {
   "cell_type": "code",
   "execution_count": 26,
   "id": "fef8e7e9-efc4-4c28-889d-bceb4ea6d116",
   "metadata": {},
   "outputs": [
    {
     "data": {
      "text/plain": [
       "array([[7.38905610e+00, 5.45981500e+01, 7.38905610e+00, 1.09663316e+03],\n",
       "       [2.98095799e+03, 8.10308393e+03, 2.00855369e+01, 8.10308393e+03],\n",
       "       [2.98095799e+03, 2.71828183e+00, 4.03428793e+02, 1.48413159e+02]])"
      ]
     },
     "execution_count": 26,
     "metadata": {},
     "output_type": "execute_result"
    }
   ],
   "source": [
    "np.exp(arr1)"
   ]
  },
  {
   "cell_type": "code",
   "execution_count": 27,
   "id": "ffd41fd9-5465-4069-bf1b-59d7c45e5103",
   "metadata": {},
   "outputs": [
    {
     "data": {
      "text/plain": [
       "array([[ 4, 16,  4, 49],\n",
       "       [64, 81,  9, 81],\n",
       "       [64,  1, 36, 25]])"
      ]
     },
     "execution_count": 27,
     "metadata": {},
     "output_type": "execute_result"
    }
   ],
   "source": [
    "np.power(arr1,2)"
   ]
  },
  {
   "cell_type": "code",
   "execution_count": 28,
   "id": "2e86e6db-de60-46ff-85b6-215b55cab797",
   "metadata": {},
   "outputs": [
    {
     "data": {
      "text/plain": [
       "5.333333333333333"
      ]
     },
     "execution_count": 28,
     "metadata": {},
     "output_type": "execute_result"
    }
   ],
   "source": [
    "np.mean(arr1)"
   ]
  },
  {
   "cell_type": "code",
   "execution_count": 29,
   "id": "6153b303-b518-4a81-9932-42fbda25189d",
   "metadata": {},
   "outputs": [
    {
     "data": {
      "text/plain": [
       "5.5"
      ]
     },
     "execution_count": 29,
     "metadata": {},
     "output_type": "execute_result"
    }
   ],
   "source": [
    "np.median(arr1)"
   ]
  },
  {
   "cell_type": "code",
   "execution_count": 30,
   "id": "13bdca5e-9d58-49d3-92f0-eec6b90babb8",
   "metadata": {},
   "outputs": [
    {
     "data": {
      "text/plain": [
       "2.778888666755511"
      ]
     },
     "execution_count": 30,
     "metadata": {},
     "output_type": "execute_result"
    }
   ],
   "source": [
    "np.std(arr1)"
   ]
  },
  {
   "cell_type": "code",
   "execution_count": 31,
   "id": "0d29de9c-af82-459c-b760-ac0655330ecd",
   "metadata": {},
   "outputs": [
    {
     "data": {
      "text/plain": [
       "7.722222222222221"
      ]
     },
     "execution_count": 31,
     "metadata": {},
     "output_type": "execute_result"
    }
   ],
   "source": [
    "np.var(arr1)"
   ]
  },
  {
   "cell_type": "code",
   "execution_count": 32,
   "id": "5d08e51e-73f6-45fc-bfda-0aea3e5737b1",
   "metadata": {},
   "outputs": [
    {
     "data": {
      "text/plain": [
       "1"
      ]
     },
     "execution_count": 32,
     "metadata": {},
     "output_type": "execute_result"
    }
   ],
   "source": [
    "np.min(arr1)"
   ]
  },
  {
   "cell_type": "code",
   "execution_count": 33,
   "id": "225e93cc-9492-49ff-92b6-4a49099b7dde",
   "metadata": {},
   "outputs": [
    {
     "data": {
      "text/plain": [
       "9"
      ]
     },
     "execution_count": 33,
     "metadata": {},
     "output_type": "execute_result"
    }
   ],
   "source": [
    "np.max(arr1)"
   ]
  },
  {
   "cell_type": "code",
   "execution_count": 35,
   "id": "fd215bf1-e5f8-444e-86cb-b9f123515b0e",
   "metadata": {},
   "outputs": [
    {
     "data": {
      "text/plain": [
       "array([[2, 4, 2, 7],\n",
       "       [8, 9, 3, 9],\n",
       "       [8, 1, 6, 5]])"
      ]
     },
     "execution_count": 35,
     "metadata": {},
     "output_type": "execute_result"
    }
   ],
   "source": [
    "# numpy --arthimetic operation\n",
    "arr1"
   ]
  },
  {
   "cell_type": "code",
   "execution_count": 36,
   "id": "98c8fce9-e84e-4c0a-886a-44a32ebad80d",
   "metadata": {},
   "outputs": [
    {
     "data": {
      "text/plain": [
       "array([[-6, -1, -2,  1],\n",
       "       [ 3,  5, -1,  0],\n",
       "       [ 7, -3, -1, -1]])"
      ]
     },
     "execution_count": 36,
     "metadata": {},
     "output_type": "execute_result"
    }
   ],
   "source": [
    "arr1-arr2"
   ]
  },
  {
   "cell_type": "code",
   "execution_count": 37,
   "id": "ef200397-c0d2-426a-b12e-208adf2a2544",
   "metadata": {},
   "outputs": [
    {
     "data": {
      "text/plain": [
       "array([[-6, -1, -2,  1],\n",
       "       [ 3,  5, -1,  0],\n",
       "       [ 7, -3, -1, -1]])"
      ]
     },
     "execution_count": 37,
     "metadata": {},
     "output_type": "execute_result"
    }
   ],
   "source": [
    "np.subtract(arr1,arr2)"
   ]
  },
  {
   "cell_type": "code",
   "execution_count": 38,
   "id": "690b5c17-db89-43be-88d7-224c245fb306",
   "metadata": {},
   "outputs": [
    {
     "data": {
      "text/plain": [
       "array([[16, 20,  8, 42],\n",
       "       [40, 36, 12, 81],\n",
       "       [ 8,  4, 42, 30]])"
      ]
     },
     "execution_count": 38,
     "metadata": {},
     "output_type": "execute_result"
    }
   ],
   "source": [
    "np.multiply(arr1,arr2)"
   ]
  },
  {
   "cell_type": "code",
   "execution_count": 39,
   "id": "22abe7ea-07a2-4dd5-a793-35c45fe0e233",
   "metadata": {},
   "outputs": [
    {
     "data": {
      "text/plain": [
       "array([[2, 4, 2, 1],\n",
       "       [3, 1, 3, 0],\n",
       "       [0, 1, 6, 5]])"
      ]
     },
     "execution_count": 39,
     "metadata": {},
     "output_type": "execute_result"
    }
   ],
   "source": [
    "np.mod(arr1,arr2)"
   ]
  },
  {
   "cell_type": "code",
   "execution_count": 40,
   "id": "392039d4-832a-4bb4-b9f5-f54f325d6964",
   "metadata": {},
   "outputs": [
    {
     "data": {
      "text/plain": [
       "array([[      256,      1024,        16,    117649],\n",
       "       [    32768,      6561,        81, 387420489],\n",
       "       [        8,         1,    279936,     15625]])"
      ]
     },
     "execution_count": 40,
     "metadata": {},
     "output_type": "execute_result"
    }
   ],
   "source": [
    "np.power(arr1,arr2)"
   ]
  },
  {
   "cell_type": "code",
   "execution_count": 41,
   "id": "f42f18ac-7d53-4dc0-aef4-6a2bf5307a64",
   "metadata": {},
   "outputs": [
    {
     "data": {
      "text/plain": [
       "array([[1.41421356, 2.        , 1.41421356, 2.64575131],\n",
       "       [2.82842712, 3.        , 1.73205081, 3.        ],\n",
       "       [2.82842712, 1.        , 2.44948974, 2.23606798]])"
      ]
     },
     "execution_count": 41,
     "metadata": {},
     "output_type": "execute_result"
    }
   ],
   "source": [
    "np.sqrt(arr1)"
   ]
  },
  {
   "cell_type": "code",
   "execution_count": 42,
   "id": "5d402956-1b8b-4fb6-9382-81e06572bded",
   "metadata": {},
   "outputs": [
    {
     "data": {
      "text/plain": [
       "array([[2, 4, 2, 7],\n",
       "       [8, 9, 3, 9],\n",
       "       [8, 1, 6, 5]])"
      ]
     },
     "execution_count": 42,
     "metadata": {},
     "output_type": "execute_result"
    }
   ],
   "source": [
    "# numpy ----statistical function\n",
    "arr1"
   ]
  },
  {
   "cell_type": "code",
   "execution_count": 43,
   "id": "9798157d-a86d-4d5e-b1cc-b3e83887a2d7",
   "metadata": {},
   "outputs": [
    {
     "data": {
      "text/plain": [
       "5.333333333333333"
      ]
     },
     "execution_count": 43,
     "metadata": {},
     "output_type": "execute_result"
    }
   ],
   "source": [
    "np.mean(arr1)"
   ]
  },
  {
   "cell_type": "code",
   "execution_count": 44,
   "id": "440ce05b-cacc-4ece-a172-c4e18e3c0b85",
   "metadata": {},
   "outputs": [
    {
     "data": {
      "text/plain": [
       "5.5"
      ]
     },
     "execution_count": 44,
     "metadata": {},
     "output_type": "execute_result"
    }
   ],
   "source": [
    "np.median(arr1)"
   ]
  },
  {
   "cell_type": "code",
   "execution_count": 45,
   "id": "b2cbca48-5c15-4621-8373-342a53fcb32f",
   "metadata": {},
   "outputs": [
    {
     "data": {
      "text/plain": [
       "2.778888666755511"
      ]
     },
     "execution_count": 45,
     "metadata": {},
     "output_type": "execute_result"
    }
   ],
   "source": [
    "np.std(arr1)"
   ]
  },
  {
   "cell_type": "markdown",
   "id": "4f67c596-eae9-49f7-a270-335762cc314e",
   "metadata": {},
   "source": [
    "LECTURE4 NUMPY"
   ]
  },
  {
   "cell_type": "code",
   "execution_count": 1,
   "id": "124271d9-cf30-4296-9f4a-e0969cc89a3a",
   "metadata": {},
   "outputs": [],
   "source": [
    "import numpy as np"
   ]
  },
  {
   "cell_type": "code",
   "execution_count": 6,
   "id": "a17cc01b-feab-4431-91ee-fd217112b433",
   "metadata": {},
   "outputs": [],
   "source": [
    "arr=np.array([2,3,4,15,34,43,43,6])"
   ]
  },
  {
   "cell_type": "code",
   "execution_count": 7,
   "id": "853451f0-589b-4c69-bc2b-db7c8d7ae90a",
   "metadata": {},
   "outputs": [
    {
     "data": {
      "text/plain": [
       "array([ 2,  3,  4, 15, 34, 43, 43,  6])"
      ]
     },
     "execution_count": 7,
     "metadata": {},
     "output_type": "execute_result"
    }
   ],
   "source": [
    "arr"
   ]
  },
  {
   "cell_type": "code",
   "execution_count": 8,
   "id": "48453dcc-c2a3-4c7c-971f-c72a37bd32e5",
   "metadata": {},
   "outputs": [
    {
     "data": {
      "text/plain": [
       "array([ 2,  3,  4,  6, 15, 34, 43, 43])"
      ]
     },
     "execution_count": 8,
     "metadata": {},
     "output_type": "execute_result"
    }
   ],
   "source": [
    "np.sort(arr) # arrange in ascending order"
   ]
  },
  {
   "cell_type": "code",
   "execution_count": 10,
   "id": "3002f455-1408-4e4c-91a2-01833b71076e",
   "metadata": {},
   "outputs": [
    {
     "data": {
      "text/plain": [
       "3"
      ]
     },
     "execution_count": 10,
     "metadata": {},
     "output_type": "execute_result"
    }
   ],
   "source": [
    "np.searchsorted(arr,7)  #  to maintain the ascending order where this particular number is placed"
   ]
  },
  {
   "cell_type": "code",
   "execution_count": 12,
   "id": "d181c3d7-02fd-4e29-936b-17d703e6f1ca",
   "metadata": {},
   "outputs": [],
   "source": [
    "arr1=np.array([0,34,344,3432,876,9890])"
   ]
  },
  {
   "cell_type": "code",
   "execution_count": 13,
   "id": "ed1c34dd-cfde-4b31-8347-420dd6c83e4e",
   "metadata": {},
   "outputs": [
    {
     "data": {
      "text/plain": [
       "5"
      ]
     },
     "execution_count": 13,
     "metadata": {},
     "output_type": "execute_result"
    }
   ],
   "source": [
    "np.count_nonzero(arr1)  # giving the total count of nonzero"
   ]
  },
  {
   "cell_type": "code",
   "execution_count": 16,
   "id": "538c925b-09e2-40c4-963b-c5256e094a3e",
   "metadata": {},
   "outputs": [
    {
     "data": {
      "text/plain": [
       "(array([2, 3, 4, 5]),)"
      ]
     },
     "execution_count": 16,
     "metadata": {},
     "output_type": "execute_result"
    }
   ],
   "source": [
    "np.where(arr1>45)  # giving the indexes of greater than 45"
   ]
  },
  {
   "cell_type": "code",
   "execution_count": 18,
   "id": "29b981d3-004a-4aef-bc9e-69cde48e2102",
   "metadata": {},
   "outputs": [
    {
     "data": {
      "text/plain": [
       "array([ 4, 15, 34, 43, 43,  6])"
      ]
     },
     "execution_count": 18,
     "metadata": {},
     "output_type": "execute_result"
    }
   ],
   "source": [
    "np.extract(arr>3,arr) # extracting the conditioned data --first is condition and --other is place"
   ]
  },
  {
   "cell_type": "code",
   "execution_count": 19,
   "id": "6ec522ed-9319-4d45-9e89-e2db864d2e0b",
   "metadata": {},
   "outputs": [
    {
     "data": {
      "text/plain": [
       "array([ 2,  3,  4, 15, 34, 43, 43,  6])"
      ]
     },
     "execution_count": 19,
     "metadata": {},
     "output_type": "execute_result"
    }
   ],
   "source": [
    "arr"
   ]
  },
  {
   "cell_type": "code",
   "execution_count": 20,
   "id": "c660c3ea-2d4d-460b-aad0-34281ef8e111",
   "metadata": {},
   "outputs": [
    {
     "data": {
      "text/plain": [
       "array([   0,   34,  344, 3432,  876, 9890])"
      ]
     },
     "execution_count": 20,
     "metadata": {},
     "output_type": "execute_result"
    }
   ],
   "source": [
    "# numpy---byte swapping\n",
    "arr1"
   ]
  },
  {
   "cell_type": "code",
   "execution_count": 23,
   "id": "1331b5f4-4a2d-4e1d-9fba-ef3678e051a7",
   "metadata": {},
   "outputs": [
    {
     "data": {
      "text/plain": [
       "array([ 2,  3,  4, 15, 34, 43, 43,  6])"
      ]
     },
     "execution_count": 23,
     "metadata": {},
     "output_type": "execute_result"
    }
   ],
   "source": [
    "arr"
   ]
  },
  {
   "cell_type": "code",
   "execution_count": null,
   "id": "a68be86d-d536-458c-adf4-fe061e254ca3",
   "metadata": {},
   "outputs": [],
   "source": [
    "byteswap mode represent the their data into byte mode"
   ]
  },
  {
   "cell_type": "code",
   "execution_count": 22,
   "id": "bc899581-fee8-4c9a-bebe-2dc0de202841",
   "metadata": {},
   "outputs": [
    {
     "data": {
      "text/plain": [
       "array([ 144115188075855872,  216172782113783808,  288230376151711744,\n",
       "       1080863910568919040, 2449958197289549824, 3098476543630901248,\n",
       "       3098476543630901248,  432345564227567616])"
      ]
     },
     "execution_count": 22,
     "metadata": {},
     "output_type": "execute_result"
    }
   ],
   "source": [
    "arr.byteswap()"
   ]
  },
  {
   "cell_type": "code",
   "execution_count": 24,
   "id": "80a9effc-d481-4e46-b3da-c0f8c9d75c6a",
   "metadata": {},
   "outputs": [
    {
     "data": {
      "text/plain": [
       "array([   0,   34,  344, 3432,  876, 9890])"
      ]
     },
     "execution_count": 24,
     "metadata": {},
     "output_type": "execute_result"
    }
   ],
   "source": [
    "# numpy--copies and views\n",
    "arr1"
   ]
  },
  {
   "cell_type": "code",
   "execution_count": 25,
   "id": "6435da26-68f2-4bcc-8592-e734c343e1be",
   "metadata": {},
   "outputs": [],
   "source": [
    "a=np.copy(arr1)  # creating deep copy ---changes in data willl be visible in only one file ."
   ]
  },
  {
   "cell_type": "code",
   "execution_count": 26,
   "id": "1011adc8-79f6-4fa9-a277-6afd26a585f5",
   "metadata": {},
   "outputs": [],
   "source": [
    "a=np.copy(arr1)"
   ]
  },
  {
   "cell_type": "code",
   "execution_count": 28,
   "id": "193afe22-72a9-4950-b76c-dfa6e654aa74",
   "metadata": {},
   "outputs": [],
   "source": [
    "b=arr1.view()  # trying to do swallow copy--changes in one will be reflected in other as well"
   ]
  },
  {
   "cell_type": "code",
   "execution_count": 29,
   "id": "d1c00d93-7898-428a-a5d2-75a13be6dd55",
   "metadata": {},
   "outputs": [
    {
     "data": {
      "text/plain": [
       "array([   0,   34,  344, 3432,  876, 9890])"
      ]
     },
     "execution_count": 29,
     "metadata": {},
     "output_type": "execute_result"
    }
   ],
   "source": [
    "b"
   ]
  },
  {
   "cell_type": "code",
   "execution_count": 30,
   "id": "535d76cb-5473-4e1d-b291-20af1c12509c",
   "metadata": {},
   "outputs": [],
   "source": [
    "b[0]=244"
   ]
  },
  {
   "cell_type": "code",
   "execution_count": 31,
   "id": "ed012f75-a81e-40b2-bf56-1457dc849e85",
   "metadata": {},
   "outputs": [
    {
     "data": {
      "text/plain": [
       "array([ 244,   34,  344, 3432,  876, 9890])"
      ]
     },
     "execution_count": 31,
     "metadata": {},
     "output_type": "execute_result"
    }
   ],
   "source": [
    "b"
   ]
  },
  {
   "cell_type": "code",
   "execution_count": 33,
   "id": "dfb96ebf-b078-4ca5-a5b7-d80099775708",
   "metadata": {},
   "outputs": [
    {
     "data": {
      "text/plain": [
       "array([ 244,   34,  344, 3432,  876, 9890])"
      ]
     },
     "execution_count": 33,
     "metadata": {},
     "output_type": "execute_result"
    }
   ],
   "source": [
    "arr1"
   ]
  },
  {
   "cell_type": "code",
   "execution_count": 34,
   "id": "c172e1b5-2eb2-4501-9f9e-3e50606faf66",
   "metadata": {},
   "outputs": [],
   "source": [
    "# numpy ---matrix library\n",
    "import numpy.matlib as nm"
   ]
  },
  {
   "cell_type": "code",
   "execution_count": 36,
   "id": "e3ea5c54-e7e9-405d-95fc-19993b7aaa87",
   "metadata": {},
   "outputs": [
    {
     "data": {
      "text/plain": [
       "matrix([[0., 0., 0., 0., 0.]])"
      ]
     },
     "execution_count": 36,
     "metadata": {},
     "output_type": "execute_result"
    }
   ],
   "source": [
    "nm.zeros(5)   #creating matrices with zeros"
   ]
  },
  {
   "cell_type": "code",
   "execution_count": 37,
   "id": "299c2182-b295-4f22-bb2f-af733676d54e",
   "metadata": {},
   "outputs": [
    {
     "data": {
      "text/plain": [
       "matrix([[1., 1., 1., 1.],\n",
       "        [1., 1., 1., 1.],\n",
       "        [1., 1., 1., 1.]])"
      ]
     },
     "execution_count": 37,
     "metadata": {},
     "output_type": "execute_result"
    }
   ],
   "source": [
    "nm.ones((3,4))  # creating matrices with ones"
   ]
  },
  {
   "cell_type": "code",
   "execution_count": 38,
   "id": "7562987f-4fe4-410f-b518-b293726c81e7",
   "metadata": {},
   "outputs": [
    {
     "data": {
      "text/plain": [
       "matrix([[1., 0., 0., 0., 0.],\n",
       "        [0., 1., 0., 0., 0.],\n",
       "        [0., 0., 1., 0., 0.],\n",
       "        [0., 0., 0., 1., 0.],\n",
       "        [0., 0., 0., 0., 1.]])"
      ]
     },
     "execution_count": 38,
     "metadata": {},
     "output_type": "execute_result"
    }
   ],
   "source": [
    "nm.eye(5)   # creating matrices with one in diagonals and others in zeros"
   ]
  },
  {
   "cell_type": "code",
   "execution_count": 39,
   "id": "75389529-3bf0-4072-b58d-385a242e5c9a",
   "metadata": {},
   "outputs": [
    {
     "data": {
      "text/plain": [
       "array([ 244,   34,  344, 3432,  876, 9890])"
      ]
     },
     "execution_count": 39,
     "metadata": {},
     "output_type": "execute_result"
    }
   ],
   "source": [
    "# numpy--linear algebra"
   ]
  },
  {
   "cell_type": "code",
   "execution_count": 40,
   "id": "d75b72ce-ef31-4f5e-b7a1-1737acfe7188",
   "metadata": {},
   "outputs": [],
   "source": [
    "arr1=np.random.randint([[3,4],[34,22]])\n",
    "arr2=np.random.randint([[56,65],[987,98]])    "
   ]
  },
  {
   "cell_type": "code",
   "execution_count": 41,
   "id": "a50e35ff-4e2b-4d56-9edd-f06d8e50c3e2",
   "metadata": {},
   "outputs": [
    {
     "data": {
      "text/plain": [
       "array([[ 2,  2],\n",
       "       [15,  7]])"
      ]
     },
     "execution_count": 41,
     "metadata": {},
     "output_type": "execute_result"
    }
   ],
   "source": [
    "arr1"
   ]
  },
  {
   "cell_type": "code",
   "execution_count": 42,
   "id": "00fa1208-175d-42b3-93ef-2d6a442a98c7",
   "metadata": {},
   "outputs": [
    {
     "data": {
      "text/plain": [
       "array([[30,  6],\n",
       "       [28, 97]])"
      ]
     },
     "execution_count": 42,
     "metadata": {},
     "output_type": "execute_result"
    }
   ],
   "source": [
    "arr2"
   ]
  },
  {
   "cell_type": "code",
   "execution_count": 43,
   "id": "67c9fe22-961e-4f11-acf1-ef8dbd395461",
   "metadata": {},
   "outputs": [
    {
     "data": {
      "text/plain": [
       "array([[116, 206],\n",
       "       [646, 769]])"
      ]
     },
     "execution_count": 43,
     "metadata": {},
     "output_type": "execute_result"
    }
   ],
   "source": [
    "np.dot(arr1,arr2)  # it is matrix multiplication b/w arr1 and arr2"
   ]
  },
  {
   "cell_type": "code",
   "execution_count": 44,
   "id": "4132f7d3-3725-4b5a-b233-c3f86efd68b9",
   "metadata": {},
   "outputs": [
    {
     "data": {
      "text/plain": [
       "array([[116, 206],\n",
       "       [646, 769]])"
      ]
     },
     "execution_count": 44,
     "metadata": {},
     "output_type": "execute_result"
    }
   ],
   "source": [
    "arr1@arr2"
   ]
  },
  {
   "cell_type": "code",
   "execution_count": null,
   "id": "2b507463-e99c-4c84-abe5-cfcfff41a5d2",
   "metadata": {},
   "outputs": [],
   "source": [
    "# eigen values and eigen vectors are all possible in numpy"
   ]
  }
 ],
 "metadata": {
  "kernelspec": {
   "display_name": "Python 3 (ipykernel)",
   "language": "python",
   "name": "python3"
  },
  "language_info": {
   "codemirror_mode": {
    "name": "ipython",
    "version": 3
   },
   "file_extension": ".py",
   "mimetype": "text/x-python",
   "name": "python",
   "nbconvert_exporter": "python",
   "pygments_lexer": "ipython3",
   "version": "3.10.8"
  }
 },
 "nbformat": 4,
 "nbformat_minor": 5
}
