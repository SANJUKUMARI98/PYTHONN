{
 "cells": [
  {
   "cell_type": "markdown",
   "id": "252010af-3761-4917-b481-aa2b5d54d48f",
   "metadata": {},
   "source": [
    "# practice\n",
    "# introduction to python"
   ]
  },
  {
   "cell_type": "code",
   "execution_count": 1,
   "id": "11c95613-e22e-4133-8b22-1dcc298967e7",
   "metadata": {},
   "outputs": [
    {
     "data": {
      "text/plain": [
       "9"
      ]
     },
     "execution_count": 1,
     "metadata": {},
     "output_type": "execute_result"
    }
   ],
   "source": [
    "1+8  # number will displayed in the result"
   ]
  },
  {
   "cell_type": "code",
   "execution_count": 3,
   "id": "62110ec7-7347-4a7f-84f9-420a04c9ca22",
   "metadata": {},
   "outputs": [
    {
     "name": "stdout",
     "output_type": "stream",
     "text": [
      "9\n"
     ]
    }
   ],
   "source": [
    "print(1+8)  # when we use print to print the statement , no is not displayed in the result"
   ]
  },
  {
   "cell_type": "code",
   "execution_count": 4,
   "id": "2db4bc30-021f-4745-86a6-90b3493f5076",
   "metadata": {},
   "outputs": [
    {
     "name": "stdout",
     "output_type": "stream",
     "text": [
      "4\n"
     ]
    }
   ],
   "source": [
    "a=4\n",
    "print(a)"
   ]
  },
  {
   "cell_type": "code",
   "execution_count": 5,
   "id": "063815f9-a345-4d0f-8b9f-99ee060c7f12",
   "metadata": {},
   "outputs": [
    {
     "name": "stdout",
     "output_type": "stream",
     "text": [
      "hello world my name is sana and i am an aspiring data science student\n"
     ]
    }
   ],
   "source": [
    "print('hello world my name is sana and i am an aspiring data science student')"
   ]
  },
  {
   "cell_type": "code",
   "execution_count": 6,
   "id": "682f83f3-3d01-4e58-a428-1d9b97775ea9",
   "metadata": {},
   "outputs": [
    {
     "name": "stdout",
     "output_type": "stream",
     "text": [
      "hello world my name is sanju\n"
     ]
    }
   ],
   "source": [
    "print('hello world my name is sanju')"
   ]
  },
  {
   "cell_type": "code",
   "execution_count": 7,
   "id": "81283d45-2650-440d-961f-a05123c491ca",
   "metadata": {},
   "outputs": [
    {
     "name": "stdout",
     "output_type": "stream",
     "text": [
      "hello world my name is sanju \n",
      "  and i am developing my skills from pw skills and ineroun\n"
     ]
    }
   ],
   "source": [
    "print('hello world my name is sanju \\n  and i am developing my skills from pw skills and ineroun')\n"
   ]
  },
  {
   "cell_type": "markdown",
   "id": "30332802-c7d8-4439-9c09-2e5d3f3d6e32",
   "metadata": {},
   "source": [
    "# variable assignment "
   ]
  },
  {
   "cell_type": "code",
   "execution_count": 8,
   "id": "4631e9fb-bccc-4a1a-8f9c-ae42e58e70d0",
   "metadata": {},
   "outputs": [],
   "source": [
    "name='sanju'\n",
    "company = 'Google'"
   ]
  },
  {
   "cell_type": "code",
   "execution_count": 9,
   "id": "2fdad6d1-cf6c-4906-8e28-64e8041a4a48",
   "metadata": {},
   "outputs": [
    {
     "data": {
      "text/plain": [
       "('sanju', 'Google')"
      ]
     },
     "execution_count": 9,
     "metadata": {},
     "output_type": "execute_result"
    }
   ],
   "source": [
    "name,company"
   ]
  },
  {
   "cell_type": "code",
   "execution_count": 11,
   "id": "dbdc30ca-228d-43e8-a0a1-62bd5cdb027c",
   "metadata": {},
   "outputs": [
    {
     "data": {
      "text/plain": [
       "('sanjana', 'Google')"
      ]
     },
     "execution_count": 11,
     "metadata": {},
     "output_type": "execute_result"
    }
   ],
   "source": [
    "name='sanjana'  # so here we can see that the if we assign same variable name ,then it will update the previous value \n",
    "name, company"
   ]
  },
  {
   "cell_type": "code",
   "execution_count": 12,
   "id": "1a9894bf-d1ad-41b2-9a32-5a52e0fbab24",
   "metadata": {},
   "outputs": [
    {
     "data": {
      "text/plain": [
       "10"
      ]
     },
     "execution_count": 12,
     "metadata": {},
     "output_type": "execute_result"
    }
   ],
   "source": [
    "number=10\n",
    "number"
   ]
  },
  {
   "cell_type": "code",
   "execution_count": 13,
   "id": "622c112d-4695-4860-8d6d-bdac7c8c28d9",
   "metadata": {},
   "outputs": [],
   "source": [
    "name = 'bala'"
   ]
  },
  {
   "cell_type": "code",
   "execution_count": 16,
   "id": "8c49020f-3720-40b5-9972-d533866b45d2",
   "metadata": {},
   "outputs": [
    {
     "data": {
      "text/plain": [
       "''"
      ]
     },
     "execution_count": 16,
     "metadata": {},
     "output_type": "execute_result"
    }
   ],
   "source": [
    "\"\"  # strings are always written in the double and single quotes"
   ]
  },
  {
   "cell_type": "code",
   "execution_count": 15,
   "id": "6a5176a5-64d0-4935-a142-29d4ab12b4a0",
   "metadata": {},
   "outputs": [
    {
     "data": {
      "text/plain": [
       "''"
      ]
     },
     "execution_count": 15,
     "metadata": {},
     "output_type": "execute_result"
    }
   ],
   "source": [
    "''"
   ]
  },
  {
   "cell_type": "code",
   "execution_count": 17,
   "id": "ea7f27b0-4bd6-4da6-a395-ea451dc98cfb",
   "metadata": {},
   "outputs": [
    {
     "data": {
      "text/plain": [
       "str"
      ]
     },
     "execution_count": 17,
     "metadata": {},
     "output_type": "execute_result"
    }
   ],
   "source": [
    "# we can checck the datatype with the help of type keyword\n",
    "type('sanju') # AS THE WORD ENCLOSE IN SINGLE QUOTE,IT IS STRING"
   ]
  },
  {
   "cell_type": "code",
   "execution_count": 19,
   "id": "0897b81c-a905-4659-9b58-0770e4bb1515",
   "metadata": {},
   "outputs": [
    {
     "data": {
      "text/plain": [
       "int"
      ]
     },
     "execution_count": 19,
     "metadata": {},
     "output_type": "execute_result"
    }
   ],
   "source": [
    "type(10)"
   ]
  },
  {
   "cell_type": "code",
   "execution_count": 20,
   "id": "b33f87a4-f438-40aa-a34d-9243c869b5b8",
   "metadata": {},
   "outputs": [
    {
     "data": {
      "text/plain": [
       "float"
      ]
     },
     "execution_count": 20,
     "metadata": {},
     "output_type": "execute_result"
    }
   ],
   "source": [
    "type(10.4)"
   ]
  },
  {
   "cell_type": "code",
   "execution_count": 21,
   "id": "e120bff7-492e-468f-b8ba-3d8e460a1fb0",
   "metadata": {},
   "outputs": [
    {
     "data": {
      "text/plain": [
       "bool"
      ]
     },
     "execution_count": 21,
     "metadata": {},
     "output_type": "execute_result"
    }
   ],
   "source": [
    "type(True)"
   ]
  },
  {
   "cell_type": "code",
   "execution_count": 22,
   "id": "e1627b9b-e8f5-4055-b5ab-0d3dbb94e04e",
   "metadata": {},
   "outputs": [],
   "source": [
    "decimal_no = 0.3"
   ]
  },
  {
   "cell_type": "code",
   "execution_count": 23,
   "id": "2b2498ef-22d8-4d13-aff3-1406353340e0",
   "metadata": {},
   "outputs": [
    {
     "data": {
      "text/plain": [
       "0.3"
      ]
     },
     "execution_count": 23,
     "metadata": {},
     "output_type": "execute_result"
    }
   ],
   "source": [
    "decimal_no"
   ]
  },
  {
   "cell_type": "code",
   "execution_count": 24,
   "id": "f333cfc1-eebc-47c4-a433-bfd566c30265",
   "metadata": {},
   "outputs": [
    {
     "data": {
      "text/plain": [
       "float"
      ]
     },
     "execution_count": 24,
     "metadata": {},
     "output_type": "execute_result"
    }
   ],
   "source": [
    "type(decimal_no)"
   ]
  },
  {
   "cell_type": "code",
   "execution_count": 26,
   "id": "7a9227de-9330-4461-8332-94f0ab85cde7",
   "metadata": {},
   "outputs": [
    {
     "data": {
      "text/plain": [
       "(1+2j)"
      ]
     },
     "execution_count": 26,
     "metadata": {},
     "output_type": "execute_result"
    }
   ],
   "source": [
    "1+2j  # complex number"
   ]
  },
  {
   "cell_type": "code",
   "execution_count": 27,
   "id": "26048419-47e6-4073-80aa-f276764da33d",
   "metadata": {},
   "outputs": [
    {
     "data": {
      "text/plain": [
       "complex"
      ]
     },
     "execution_count": 27,
     "metadata": {},
     "output_type": "execute_result"
    }
   ],
   "source": [
    "type(1+2j)"
   ]
  },
  {
   "cell_type": "code",
   "execution_count": 33,
   "id": "caf9ec7c-cdc6-4fbc-8d2a-114187419fbd",
   "metadata": {},
   "outputs": [
    {
     "data": {
      "text/plain": [
       "('pwskills', 'ineuron')"
      ]
     },
     "execution_count": 33,
     "metadata": {},
     "output_type": "execute_result"
    }
   ],
   "source": [
    "# way to declare variable \n",
    "# 1. never start with number\n",
    "# _sanju =56   we can start with ____ this\n",
    "# 2sanju=4  ...wrong way\n",
    "# 34=girl--- wrong way\n",
    "\n",
    "# variables are case sensitive in nature\n",
    "company= 'pwskills'\n",
    "Company = 'ineuron'\n",
    "company,Company"
   ]
  },
  {
   "cell_type": "code",
   "execution_count": 34,
   "id": "fdbd532b-5423-4e17-baf6-6776ee73423e",
   "metadata": {},
   "outputs": [
    {
     "data": {
      "text/plain": [
       "\" hi i am a freee bird and i don't like cage and i never wanted to be prisoner\\nof someone . so just stay away.. people ,, i don't want to hurt anyone and i am\\nexpecting the same from your side . this is all i want ... \\ni am tired of everything , if you give me happiness then it's fine\\notherwise stay away...\""
      ]
     },
     "execution_count": 34,
     "metadata": {},
     "output_type": "execute_result"
    }
   ],
   "source": [
    "# few words are reserved and we can not declare a variable with that\n",
    "# like int,bool, True,False,len ,complex, return , yield,float etc\n",
    "# '''    ''''   triple quotes are used for multiple line comment\n",
    "# example\n",
    "''' hi i am a freee bird and i don't like cage and i never wanted to be prisoner\n",
    "of someone . so just stay away.. people ,, i don't want to hurt anyone and i am\n",
    "expecting the same from your side . this is all i want ... \n",
    "i am tired of everything , if you give me happiness then it's fine\n",
    "otherwise stay away...'''"
   ]
  },
  {
   "cell_type": "code",
   "execution_count": 35,
   "id": "6c5d5712-b9e0-492c-940d-c62f07e8205a",
   "metadata": {},
   "outputs": [
    {
     "data": {
      "text/plain": [
       "True"
      ]
     },
     "execution_count": 35,
     "metadata": {},
     "output_type": "execute_result"
    }
   ],
   "source": [
    "# Booleans ---means true and false\n",
    "True"
   ]
  },
  {
   "cell_type": "code",
   "execution_count": 36,
   "id": "361b6dcf-757e-4f04-bce4-f7f2c64ee7a3",
   "metadata": {},
   "outputs": [
    {
     "data": {
      "text/plain": [
       "False"
      ]
     },
     "execution_count": 36,
     "metadata": {},
     "output_type": "execute_result"
    }
   ],
   "source": [
    "False"
   ]
  },
  {
   "cell_type": "code",
   "execution_count": 37,
   "id": "08513deb-be98-440e-9b60-787347fd1015",
   "metadata": {},
   "outputs": [
    {
     "data": {
      "text/plain": [
       "True"
      ]
     },
     "execution_count": 37,
     "metadata": {},
     "output_type": "execute_result"
    }
   ],
   "source": [
    "True or False  # in case of or when two bits are different it returns true or 1"
   ]
  },
  {
   "cell_type": "code",
   "execution_count": 38,
   "id": "145e5678-517e-4a33-8892-83063970029e",
   "metadata": {},
   "outputs": [
    {
     "data": {
      "text/plain": [
       "True"
      ]
     },
     "execution_count": 38,
     "metadata": {},
     "output_type": "execute_result"
    }
   ],
   "source": [
    "False or True"
   ]
  },
  {
   "cell_type": "code",
   "execution_count": 39,
   "id": "07fb00d4-901f-4c30-8efe-e2cbe2e7a461",
   "metadata": {},
   "outputs": [
    {
     "data": {
      "text/plain": [
       "True"
      ]
     },
     "execution_count": 39,
     "metadata": {},
     "output_type": "execute_result"
    }
   ],
   "source": [
    "True or True "
   ]
  },
  {
   "cell_type": "code",
   "execution_count": 40,
   "id": "999bbb0b-6636-4c48-8155-a84223193e1f",
   "metadata": {},
   "outputs": [
    {
     "data": {
      "text/plain": [
       "False"
      ]
     },
     "execution_count": 40,
     "metadata": {},
     "output_type": "execute_result"
    }
   ],
   "source": [
    "False or False "
   ]
  },
  {
   "cell_type": "code",
   "execution_count": 42,
   "id": "6f5af597-0588-4e2d-af33-b343e9a67587",
   "metadata": {},
   "outputs": [
    {
     "name": "stdout",
     "output_type": "stream",
     "text": [
      "False\n"
     ]
    }
   ],
   "source": [
    "# In case of or gate.. \n",
    "# 1. when two bits are different , it return True (1)\n",
    "# 2. when two bits are true or true , it return true\n",
    "# 3. when two bits are false or false ,it returns false\n",
    "\n",
    "# And gate  (opposite of or gate)\n",
    "# 1. when two bits are different it returns false\n",
    "print(True and False)"
   ]
  },
  {
   "cell_type": "code",
   "execution_count": 43,
   "id": "294e773e-f19a-4f3f-b759-6d78adf81f19",
   "metadata": {},
   "outputs": [
    {
     "name": "stdout",
     "output_type": "stream",
     "text": [
      "False\n"
     ]
    }
   ],
   "source": [
    "print(  False and True)"
   ]
  },
  {
   "cell_type": "code",
   "execution_count": 44,
   "id": "63b53c32-af25-432c-9cb0-66cdebfb2c19",
   "metadata": {},
   "outputs": [
    {
     "data": {
      "text/plain": [
       "True"
      ]
     },
     "execution_count": 44,
     "metadata": {},
     "output_type": "execute_result"
    }
   ],
   "source": [
    "# 2. if two bits are True and True ,return true\n",
    "True and True"
   ]
  },
  {
   "cell_type": "code",
   "execution_count": 46,
   "id": "2428abf5-b7e1-48de-8f74-084b0f938bd8",
   "metadata": {},
   "outputs": [
    {
     "data": {
      "text/plain": [
       "False"
      ]
     },
     "execution_count": 46,
     "metadata": {},
     "output_type": "execute_result"
    }
   ],
   "source": [
    "# 3. if two bits are False and False, it return False\n",
    "False and False"
   ]
  },
  {
   "cell_type": "markdown",
   "id": "c69b5d39-92b0-4184-9d55-8d009178015d",
   "metadata": {},
   "source": [
    "<!-- # conclusion \n",
    "# 1. in or gate if two bits are different ,return 1 whereas and gate return 0\n",
    "2. both gate return same output for similar bits  -->"
   ]
  },
  {
   "cell_type": "code",
   "execution_count": 48,
   "id": "96845481-67f5-4719-9fee-b481493997b7",
   "metadata": {},
   "outputs": [
    {
     "data": {
      "text/plain": [
       "True"
      ]
     },
     "execution_count": 48,
     "metadata": {},
     "output_type": "execute_result"
    }
   ],
   "source": [
    "True |True  # symbol of or operator,gives 1 for different opertator"
   ]
  },
  {
   "cell_type": "code",
   "execution_count": 49,
   "id": "143fc91c-93af-4528-b4ad-b880215b0025",
   "metadata": {},
   "outputs": [
    {
     "data": {
      "text/plain": [
       "True"
      ]
     },
     "execution_count": 49,
     "metadata": {},
     "output_type": "execute_result"
    }
   ],
   "source": [
    "True | False"
   ]
  },
  {
   "cell_type": "code",
   "execution_count": 50,
   "id": "dac8ebb4-82db-4659-8d26-c8a115cb7ad2",
   "metadata": {},
   "outputs": [
    {
     "data": {
      "text/plain": [
       "False"
      ]
     },
     "execution_count": 50,
     "metadata": {},
     "output_type": "execute_result"
    }
   ],
   "source": [
    "True & False  # symbol of and operator gives 0 for different bits"
   ]
  },
  {
   "cell_type": "code",
   "execution_count": 51,
   "id": "90d4adc2-f62d-485d-bbfc-04be57ccd822",
   "metadata": {},
   "outputs": [
    {
     "data": {
      "text/plain": [
       "-2"
      ]
     },
     "execution_count": 51,
     "metadata": {},
     "output_type": "execute_result"
    }
   ],
   "source": [
    "~ True # symbol of not oopertor"
   ]
  },
  {
   "cell_type": "code",
   "execution_count": 52,
   "id": "265c604d-a2dc-45d3-ba0b-1dd9ca51712d",
   "metadata": {},
   "outputs": [
    {
     "data": {
      "text/plain": [
       "-1"
      ]
     },
     "execution_count": 52,
     "metadata": {},
     "output_type": "execute_result"
    }
   ],
   "source": [
    "~ False"
   ]
  },
  {
   "cell_type": "code",
   "execution_count": 53,
   "id": "0602be4c-9b70-4b6e-8f5d-de891870f49b",
   "metadata": {},
   "outputs": [
    {
     "data": {
      "text/plain": [
       "-3"
      ]
     },
     "execution_count": 53,
     "metadata": {},
     "output_type": "execute_result"
    }
   ],
   "source": [
    "~ 2  # it increment and return output with negative symbol"
   ]
  },
  {
   "cell_type": "code",
   "execution_count": 54,
   "id": "842b95be-4593-48bf-8713-bc60b71f2e69",
   "metadata": {},
   "outputs": [
    {
     "data": {
      "text/plain": [
       "-8"
      ]
     },
     "execution_count": 54,
     "metadata": {},
     "output_type": "execute_result"
    }
   ],
   "source": [
    "~ 7 # "
   ]
  },
  {
   "cell_type": "code",
   "execution_count": 55,
   "id": "a924791c-cb40-4b75-acb9-28c591a7942e",
   "metadata": {},
   "outputs": [
    {
     "data": {
      "text/plain": [
       "4"
      ]
     },
     "execution_count": 55,
     "metadata": {},
     "output_type": "execute_result"
    }
   ],
   "source": [
    "~ -5"
   ]
  },
  {
   "cell_type": "code",
   "execution_count": 56,
   "id": "bf22358a-fc11-4454-a700-227e6ee91837",
   "metadata": {},
   "outputs": [
    {
     "data": {
      "text/plain": [
       "-1"
      ]
     },
     "execution_count": 56,
     "metadata": {},
     "output_type": "execute_result"
    }
   ],
   "source": [
    "~ 0"
   ]
  },
  {
   "cell_type": "code",
   "execution_count": 58,
   "id": "612df309-a1f7-48c1-919e-422522f2c4db",
   "metadata": {},
   "outputs": [
    {
     "name": "stdout",
     "output_type": "stream",
     "text": [
      "-3\n",
      "1\n"
     ]
    }
   ],
   "source": [
    "~1\n",
    "\n",
    "# when we give positive number,returns negative with one increamented form\n",
    "# when we give negative number ,returns positive number, with one deccremented\n",
    "print(~2)\n",
    "print(~ -2)"
   ]
  },
  {
   "cell_type": "code",
   "execution_count": 59,
   "id": "a0d369ea-d2e8-425c-8ddf-ba79d2d6a5fa",
   "metadata": {},
   "outputs": [
    {
     "data": {
      "text/plain": [
       "False"
      ]
     },
     "execution_count": 59,
     "metadata": {},
     "output_type": "execute_result"
    }
   ],
   "source": [
    "not True"
   ]
  },
  {
   "cell_type": "code",
   "execution_count": 60,
   "id": "9008db7a-3d42-4c7b-9407-0710c5427835",
   "metadata": {},
   "outputs": [
    {
     "data": {
      "text/plain": [
       "True"
      ]
     },
     "execution_count": 60,
     "metadata": {},
     "output_type": "execute_result"
    }
   ],
   "source": [
    "not False"
   ]
  },
  {
   "cell_type": "code",
   "execution_count": 61,
   "id": "90be329a-f67e-47b5-bcc4-8d38cc1bec77",
   "metadata": {},
   "outputs": [
    {
     "data": {
      "text/plain": [
       "False"
      ]
     },
     "execution_count": 61,
     "metadata": {},
     "output_type": "execute_result"
    }
   ],
   "source": [
    "bool(0)"
   ]
  },
  {
   "cell_type": "code",
   "execution_count": 62,
   "id": "0749b2b0-cdae-4a8c-b560-685900fccf4a",
   "metadata": {},
   "outputs": [
    {
     "data": {
      "text/plain": [
       "True"
      ]
     },
     "execution_count": 62,
     "metadata": {},
     "output_type": "execute_result"
    }
   ],
   "source": [
    "bool(12)"
   ]
  },
  {
   "cell_type": "code",
   "execution_count": 63,
   "id": "d0381cf8-741e-448b-ad85-8c060b615863",
   "metadata": {},
   "outputs": [
    {
     "data": {
      "text/plain": [
       "True"
      ]
     },
     "execution_count": 63,
     "metadata": {},
     "output_type": "execute_result"
    }
   ],
   "source": [
    "bool(1)"
   ]
  },
  {
   "cell_type": "code",
   "execution_count": 64,
   "id": "1061c6fb-2770-48c3-9fb1-4aeed05caee8",
   "metadata": {},
   "outputs": [
    {
     "data": {
      "text/plain": [
       "True"
      ]
     },
     "execution_count": 64,
     "metadata": {},
     "output_type": "execute_result"
    }
   ],
   "source": [
    "bool(-34)"
   ]
  },
  {
   "cell_type": "code",
   "execution_count": 65,
   "id": "3e6e9ce7-19fe-4576-8225-24a38dd00d1b",
   "metadata": {},
   "outputs": [],
   "source": [
    "# conclusions\n",
    "# Bool gives true for every number which is one or greater than one\n",
    "# bool gives false for zero"
   ]
  },
  {
   "cell_type": "code",
   "execution_count": 67,
   "id": "1281c6db-fc4a-4d74-9769-2646a03e70cc",
   "metadata": {},
   "outputs": [
    {
     "name": "stdout",
     "output_type": "stream",
     "text": [
      "sanju\n"
     ]
    }
   ],
   "source": [
    "a=1\n",
    "if bool(a)==True:\n",
    "    print('sanju')\n",
    "    "
   ]
  },
  {
   "cell_type": "code",
   "execution_count": 68,
   "id": "6ce3531b-f206-4234-b8a0-81a69d6b57ab",
   "metadata": {},
   "outputs": [
    {
     "name": "stdout",
     "output_type": "stream",
     "text": [
      "sanju\n"
     ]
    }
   ],
   "source": [
    "a=2 \n",
    "if bool(a)==True :\n",
    "    print('sanju')\n",
    "else:\n",
    "    print('mohan')"
   ]
  },
  {
   "cell_type": "code",
   "execution_count": 69,
   "id": "c70ae8ec-4fe4-41e0-a8cd-786be2c3039a",
   "metadata": {},
   "outputs": [
    {
     "name": "stdout",
     "output_type": "stream",
     "text": [
      "sanjana\n"
     ]
    }
   ],
   "source": [
    "b=0\n",
    "if bool(b)==False:\n",
    "    print('sanjana')\n",
    "else:\n",
    "    print('alaska')"
   ]
  },
  {
   "cell_type": "code",
   "execution_count": 70,
   "id": "b1cd5d3d-a1f7-4f64-bb4a-9b16bc4fcc58",
   "metadata": {},
   "outputs": [
    {
     "name": "stdout",
     "output_type": "stream",
     "text": [
      "sanju\n"
     ]
    }
   ],
   "source": [
    "b=34\n",
    "if bool(b) !=0:\n",
    "    print('sanju')\n",
    "else:\n",
    "    print('we will go to alaska')"
   ]
  },
  {
   "cell_type": "code",
   "execution_count": 73,
   "id": "9e2b2cb8-5b00-4a2b-96b5-18363e232a98",
   "metadata": {},
   "outputs": [
    {
     "name": "stdout",
     "output_type": "stream",
     "text": [
      "33\n",
      "34\n"
     ]
    }
   ],
   "source": [
    "# typecasting -- converting one datatype to another type of datatuype\n",
    "str(23)\n",
    "print(str(33))\n",
    "# we can not convert string (any name_)into integer\n",
    "int('35')\n",
    "print(int('34'))"
   ]
  },
  {
   "cell_type": "code",
   "execution_count": 74,
   "id": "8102b66d-db29-4069-86f5-72385b335816",
   "metadata": {},
   "outputs": [],
   "source": [
    "# dynamic typing means that the compliler at the run time can understand the type of data\n",
    "a=34  # integer\n",
    "b='sanju'  # string\n",
    "c=0.44 # decimal or float number\n",
    "d=3+3j # complex number"
   ]
  },
  {
   "cell_type": "code",
   "execution_count": 78,
   "id": "2be8edb3-26a9-48ad-8f96-185ffd96ea7a",
   "metadata": {},
   "outputs": [
    {
     "data": {
      "text/plain": [
       "'143'"
      ]
     },
     "execution_count": 78,
     "metadata": {},
     "output_type": "execute_result"
    }
   ],
   "source": [
    "# concatenation between different type\n",
    "'1' + '43'\n",
    "# we can not concatenate different type of datatype like str and int\n",
    "# 2+'san'.... otherwise it will show TypeError\n"
   ]
  },
  {
   "cell_type": "code",
   "execution_count": 80,
   "id": "b8119000-5bae-42ab-9f85-f9fbf434a3c5",
   "metadata": {},
   "outputs": [
    {
     "data": {
      "text/plain": [
       "str"
      ]
     },
     "execution_count": 80,
     "metadata": {},
     "output_type": "execute_result"
    }
   ],
   "source": [
    "a=10\n",
    "a='c'\n",
    "type(a) # because it is updating the value of a by c"
   ]
  },
  {
   "cell_type": "code",
   "execution_count": 85,
   "id": "b1649e05-d485-4259-8e03-8b1348fa18f5",
   "metadata": {},
   "outputs": [
    {
     "name": "stdout",
     "output_type": "stream",
     "text": [
      "0\n"
     ]
    },
    {
     "data": {
      "text/plain": [
       "34"
      ]
     },
     "execution_count": 85,
     "metadata": {},
     "output_type": "execute_result"
    }
   ],
   "source": [
    "print(int() ) # if no input is provided , return to zero\n",
    "int('34')\n",
    "# print(int('df'))  string can not be converted into integers/"
   ]
  },
  {
   "cell_type": "code",
   "execution_count": 91,
   "id": "3564f00f-de77-4312-b5d1-e7d7a5f6eceb",
   "metadata": {},
   "outputs": [
    {
     "name": "stdout",
     "output_type": "stream",
     "text": [
      "my age is : 23\n",
      "my age is : 23\n",
      "my name is krish and age is  34\n",
      "my name is 34 and age is krish\n",
      "my name is krish and age is 34\n"
     ]
    }
   ],
   "source": [
    "# f string\n",
    "age=23\n",
    "print('my age is :',age)\n",
    "print(f'my age is : {age}')\n",
    "\n",
    "# format\n",
    "name = 'krish'\n",
    "age = 34\n",
    "\n",
    "print('my name is {} and age is  {}'.format(name ,age))\n",
    "print('my name is {} and age is {}'.format(age,name ))  # empty placeholder\n",
    "# here we can see that whatever we mention first give that value first\n",
    "# and then next,to overcome this problem we have one more ....\n",
    "\n",
    "\n",
    "print('my name is {firstname} and age is {firstage}'.format(firstage=age,firstname = name))\n"
   ]
  },
  {
   "cell_type": "code",
   "execution_count": 92,
   "id": "45f2380a-8f89-4177-a812-ae732c744021",
   "metadata": {},
   "outputs": [
    {
     "name": "stdout",
     "output_type": "stream",
     "text": [
      "hi everyone i am sanju and i am 24 and i have a M.sc degree\n"
     ]
    }
   ],
   "source": [
    "# Task 1\n",
    "name ='sanju'\n",
    "age = 24\n",
    "degree= 'M.sc'\n",
    "print('hi everyone i am {firstname} and i am {firstage} and i have a {firstdegree} degree'.format(firstdegree=degree,firstname=name,firstage=age))"
   ]
  },
  {
   "cell_type": "markdown",
   "id": "9eb2acd4-449b-4557-a13a-a0cfb33c3666",
   "metadata": {},
   "source": [
    "# control flow \n",
    "# decision making statements"
   ]
  },
  {
   "cell_type": "code",
   "execution_count": 93,
   "id": "cb51343c-d66a-4780-8600-a04c539aa5b3",
   "metadata": {},
   "outputs": [
    {
     "name": "stdout",
     "output_type": "stream",
     "text": [
      "you are eligible for driving license\n"
     ]
    }
   ],
   "source": [
    "age=18\n",
    "if age>=18:\n",
    "    print('you are eligible for driving license')"
   ]
  },
  {
   "cell_type": "code",
   "execution_count": 94,
   "id": "1fdbef97-4b6b-4d18-a885-8e186e8f0025",
   "metadata": {},
   "outputs": [
    {
     "data": {
      "text/plain": [
       "True"
      ]
     },
     "execution_count": 94,
     "metadata": {},
     "output_type": "execute_result"
    }
   ],
   "source": [
    "18<=18"
   ]
  },
  {
   "cell_type": "code",
   "execution_count": 95,
   "id": "306dcb2d-d39c-43bf-9679-6edf2a98385f",
   "metadata": {},
   "outputs": [
    {
     "name": "stdin",
     "output_type": "stream",
     "text": [
      "enter your name  sanjaana\n"
     ]
    }
   ],
   "source": [
    "name= input('enter your name ')"
   ]
  },
  {
   "cell_type": "code",
   "execution_count": 97,
   "id": "ac2b4d18-a293-4d25-a655-3cba6b62b30c",
   "metadata": {},
   "outputs": [
    {
     "name": "stdin",
     "output_type": "stream",
     "text": [
      "enter your age 45\n"
     ]
    }
   ],
   "source": [
    "age = int(input('enter your age'))"
   ]
  },
  {
   "cell_type": "code",
   "execution_count": 98,
   "id": "20160312-48c8-4cb4-9c8b-2c116328f44a",
   "metadata": {},
   "outputs": [
    {
     "name": "stdin",
     "output_type": "stream",
     "text": [
      "enter your age 78\n"
     ]
    },
    {
     "name": "stdout",
     "output_type": "stream",
     "text": [
      "you are young blood\n"
     ]
    }
   ],
   "source": [
    "age = int(input('enter your age'))\n",
    "if age>=18 & age <=45:\n",
    "    print('you are young blood')\n",
    "else:\n",
    "    print('you are senior citizen')"
   ]
  },
  {
   "cell_type": "code",
   "execution_count": 99,
   "id": "bdd3c42b-6e65-4297-80e8-3fd8c805973a",
   "metadata": {},
   "outputs": [
    {
     "name": "stdin",
     "output_type": "stream",
     "text": [
      "enter your age 78\n"
     ]
    },
    {
     "name": "stdout",
     "output_type": "stream",
     "text": [
      "you are senior citizen\n"
     ]
    }
   ],
   "source": [
    "age = int(input('enter your age'))\n",
    "if age>=18  |age <=45:\n",
    "    print('you are young blood')\n",
    "else:\n",
    "    print('you are senior citizen')"
   ]
  },
  {
   "cell_type": "code",
   "execution_count": 101,
   "id": "b39c474c-0854-44c3-a664-418242c21968",
   "metadata": {},
   "outputs": [
    {
     "name": "stdin",
     "output_type": "stream",
     "text": [
      "enter your age 12\n"
     ]
    },
    {
     "name": "stdout",
     "output_type": "stream",
     "text": [
      "you are senior citizen\n"
     ]
    }
   ],
   "source": [
    "age = int(input('enter your age'))\n",
    "if age>=18  |age <=45:\n",
    "    print('you are young blood')\n",
    "else:\n",
    "    print('you are senior citizen')"
   ]
  },
  {
   "cell_type": "code",
   "execution_count": 112,
   "id": "5f67e353-c7bf-47c1-bd04-3c450a8258ad",
   "metadata": {},
   "outputs": [
    {
     "name": "stdin",
     "output_type": "stream",
     "text": [
      "enter your age 56\n"
     ]
    },
    {
     "name": "stdout",
     "output_type": "stream",
     "text": [
      "you are senior citizen\n"
     ]
    }
   ],
   "source": [
    "e = int(input('enter your age'))\n",
    "if age>=18 and age <=45:\n",
    "    print('you are young blood')\n",
    "else:\n",
    "    print('you are senior citizen')"
   ]
  },
  {
   "cell_type": "code",
   "execution_count": 114,
   "id": "143af16f-1802-447b-8633-c61a79fb588e",
   "metadata": {},
   "outputs": [
    {
     "name": "stdin",
     "output_type": "stream",
     "text": [
      "enter your age 78\n"
     ]
    },
    {
     "name": "stdout",
     "output_type": "stream",
     "text": [
      "you are young blood\n"
     ]
    }
   ],
   "source": [
    "e = int(input('enter your age'))\n",
    "if age>=18 or age <=45:\n",
    "    print('you are young blood')\n",
    "else:\n",
    "    print('you are senior citizen')"
   ]
  },
  {
   "cell_type": "code",
   "execution_count": 127,
   "id": "1cc380c0-4106-4261-b9d8-61b832b2e7a8",
   "metadata": {},
   "outputs": [
    {
     "name": "stdin",
     "output_type": "stream",
     "text": [
      "enter the product price 7000\n"
     ]
    },
    {
     "name": "stdout",
     "output_type": "stream",
     "text": [
      "the product of price after discount= 5600.0\n"
     ]
    }
   ],
   "source": [
    "# task2\n",
    "# in a mall ,\n",
    "# the price is more than 1000 give 20% discount\n",
    "# the price is less than 1000 rs give 30% discount\n",
    "# and return the price after removing the discount\n",
    "\n",
    "price = int(input('enter the product price'))\n",
    "\n",
    "if price > 1000:\n",
    "    print('the product of price after discount=',price*0.8)\n",
    "else:\n",
    "    if price <=1000:\n",
    "        print('the product of price after 30% discount = ',price*0.7)"
   ]
  },
  {
   "cell_type": "code",
   "execution_count": 146,
   "id": "385cdba1-bfad-4508-a9a5-fe4eff62064b",
   "metadata": {},
   "outputs": [
    {
     "name": "stdin",
     "output_type": "stream",
     "text": [
      "enter the product price 1500\n"
     ]
    },
    {
     "name": "stdout",
     "output_type": "stream",
     "text": [
      "the price of product after 20% discount is  900.0\n"
     ]
    }
   ],
   "source": [
    "# task3\n",
    "# product > 3000 , 20% dicount\n",
    "# product >=2000,  and 3000 , 30% discount\n",
    "# product 100 and <=2000 40% disocunt\n",
    "price= int(input('enter the product price'))\n",
    "if price==100 or price<2000:\n",
    "    print('the price of product after 20% discount is ',price*0.6)\n",
    "elif price >=2000 or price==3000:  # or is taking both the condition\n",
    "    print('the price of product afte 30% discount is',price *0.7)\n",
    "else:\n",
    "    if price > 3000:\n",
    "        print('the price of product after 20% discount is ',price*0.8)\n",
    "    \n",
    "    "
   ]
  },
  {
   "cell_type": "code",
   "execution_count": 151,
   "id": "eb3ef750-e547-4dda-a287-cdb3cf67e8c0",
   "metadata": {},
   "outputs": [
    {
     "name": "stdin",
     "output_type": "stream",
     "text": [
      "enter the product price 2999\n"
     ]
    },
    {
     "name": "stdout",
     "output_type": "stream",
     "text": [
      "You get an additional gift\n",
      "the product price after 30% discount 2099.2999999999997\n"
     ]
    }
   ],
   "source": [
    "# task4\n",
    "# price >3000 ,20%discount\n",
    "# price==4000 ,congratulation win trip to goa\n",
    "# price<=2000 and price <=3000,30% discount\n",
    "# price ==2999, get additional gift\n",
    "# price <=2000,discount40% \n",
    "# otherwise drink tea.\n",
    "\n",
    "price = int(input('enter the product price'))\n",
    "\n",
    "if price >3000:\n",
    "    if price ==4000:\n",
    "        print('Congratulations! you win a trip to goa')\n",
    "    print('the product price after 20% discount',price*0.8)\n",
    "elif price <=2000 or price <=3000:\n",
    "    if price ==2999:\n",
    "        print('You get an additional gift')\n",
    "    print('the product price after 30% discount',price*0.7)\n",
    "elif price <=2000:\n",
    "    print('the product price after 40% discount',price*0.6)\n",
    "    \n",
    "else:\n",
    "    print('lets drink tea and having a good time')"
   ]
  },
  {
   "cell_type": "code",
   "execution_count": 153,
   "id": "35e268f0-5eea-4204-b72b-fd79cc0d439c",
   "metadata": {},
   "outputs": [
    {
     "data": {
      "text/plain": [
       "True"
      ]
     },
     "execution_count": 153,
     "metadata": {},
     "output_type": "execute_result"
    }
   ],
   "source": [
    "# comparison operatora\n",
    "True == True\n",
    "False == False"
   ]
  },
  {
   "cell_type": "code",
   "execution_count": 160,
   "id": "dcae04a2-bb88-4e9a-a852-daab4a578294",
   "metadata": {},
   "outputs": [
    {
     "name": "stdin",
     "output_type": "stream",
     "text": [
      "enter the number 55555\n"
     ]
    }
   ],
   "source": [
    "# single statement suites\n",
    "val=int(input('enter the number'))\n",
    "\n",
    "if (val <=999):print('value is less than equal to 999') \n",
    "# as there is no alternate statement so just printing statement"
   ]
  },
  {
   "cell_type": "code",
   "execution_count": 155,
   "id": "72cbb622-415c-4f58-996d-ce01ea533057",
   "metadata": {},
   "outputs": [
    {
     "name": "stdin",
     "output_type": "stream",
     "text": [
      "enter the number 77\n"
     ]
    },
    {
     "name": "stdout",
     "output_type": "stream",
     "text": [
      "value is less than equal to 999\n"
     ]
    }
   ],
   "source": [
    "# single statement suites\n",
    "val=int(input('enter the number'))\n",
    "\n",
    "if (val <=999):print('value is less than equal to 999') \n",
    "else: print('go home')"
   ]
  },
  {
   "cell_type": "code",
   "execution_count": 157,
   "id": "25a544d1-319a-481f-91dc-b62c08413bc3",
   "metadata": {},
   "outputs": [
    {
     "name": "stdin",
     "output_type": "stream",
     "text": [
      "enter the number 77777\n"
     ]
    },
    {
     "name": "stdout",
     "output_type": "stream",
     "text": [
      "go home\n"
     ]
    }
   ],
   "source": [
    "val=int(input('enter the number'))\n",
    "if (val <=999):print('value is less than equal to 999') \n",
    "else: \n",
    "    print('go home')"
   ]
  },
  {
   "cell_type": "code",
   "execution_count": 161,
   "id": "3102408e-9cbb-44b6-b886-57d7162549c0",
   "metadata": {},
   "outputs": [
    {
     "name": "stdout",
     "output_type": "stream",
     "text": [
      "26\n",
      "27\n",
      "28\n",
      "29\n",
      "30\n",
      "31\n",
      "32\n",
      "33\n",
      "34\n",
      "35\n",
      "36\n",
      "37\n",
      "38\n",
      "39\n",
      "40\n",
      "41\n",
      "42\n",
      "43\n",
      "44\n",
      "45\n",
      "46\n",
      "47\n",
      "48\n",
      "49\n",
      "50\n",
      "51\n",
      "52\n",
      "53\n",
      "54\n",
      "55\n",
      "56\n",
      "57\n",
      "58\n",
      "59\n",
      "60\n",
      "61\n",
      "its time for retirement\n"
     ]
    }
   ],
   "source": [
    "\n",
    "# while loop\n",
    "\n",
    "joining_age = 25\n",
    "while joining_age <=60:\n",
    "    joining_age = joining_age +1\n",
    "    print(joining_age)\n",
    "else:\n",
    "    print('its time for retirement')"
   ]
  },
  {
   "cell_type": "code",
   "execution_count": 162,
   "id": "78831660-4e7b-4969-bf2f-da2668fd9101",
   "metadata": {},
   "outputs": [
    {
     "name": "stdout",
     "output_type": "stream",
     "text": [
      "1\n",
      "2\n",
      "3\n",
      "4\n",
      "5\n",
      "go to school\n"
     ]
    }
   ],
   "source": [
    "n=0\n",
    "while n<5:\n",
    "    n=n+1\n",
    "    print(n)\n",
    "else:\n",
    "    print('go to school')"
   ]
  },
  {
   "cell_type": "code",
   "execution_count": 168,
   "id": "eccf4626-2e70-43c6-ab68-b8e63a4fc9df",
   "metadata": {},
   "outputs": [
    {
     "name": "stdout",
     "output_type": "stream",
     "text": [
      "1000\n",
      "900\n",
      "800\n",
      "700\n",
      "600\n",
      "500\n",
      "400\n",
      "300\n",
      "200\n",
      "100\n",
      "0\n",
      "put money in atm\n"
     ]
    }
   ],
   "source": [
    "# Atm problem\n",
    "balance=1000\n",
    "while balance >=0:\n",
    "    print(balance)\n",
    "    balance = balance-100\n",
    "else:\n",
    "    print('put money in atm')"
   ]
  },
  {
   "cell_type": "code",
   "execution_count": 170,
   "id": "1fe98d8a-7212-4459-a230-0fd60cfb93b6",
   "metadata": {},
   "outputs": [
    {
     "name": "stdout",
     "output_type": "stream",
     "text": [
      "5000\n",
      "4900\n",
      "4800\n",
      "4700\n",
      "4600\n",
      "4500\n",
      "4400\n",
      "4300\n",
      "4200\n",
      "4100\n",
      "4000\n",
      "3900\n",
      "3800\n",
      "3700\n",
      "3600\n",
      "3500\n",
      "3400\n",
      "3300\n",
      "3200\n",
      "3100\n",
      "3000\n",
      "2900\n",
      "2800\n",
      "2700\n",
      "2600\n",
      "2500\n",
      "2400\n",
      "2300\n",
      "2200\n",
      "2100\n",
      "2000\n",
      "1900\n",
      "1800\n",
      "1700\n",
      "1600\n",
      "1500\n",
      "1400\n",
      "1300\n",
      "1200\n",
      "1100\n",
      "1000\n",
      "900\n",
      "800\n",
      "700\n",
      "600\n",
      "500\n",
      "400\n",
      "300\n",
      "200\n",
      "100\n",
      "0\n",
      "There is no money in atm so put more money in atm\n"
     ]
    }
   ],
   "source": [
    "# Atm money problem\n",
    "balance=5000\n",
    "while balance>=0:\n",
    "    print(balance)\n",
    "    balance=balance-100\n",
    "else:\n",
    "    print('There is no money in atm so put more money in atm')"
   ]
  },
  {
   "cell_type": "code",
   "execution_count": null,
   "id": "e524f772-9466-44a1-95a9-21ad21263642",
   "metadata": {},
   "outputs": [],
   "source": [
    "# account_balance=2100\n",
    "# while account_balance >=2050:\n",
    "#     print(account_balance)\n",
    "#     account_balance=account_balance -10\n",
    "# else:\n",
    "#     print('this is over')"
   ]
  },
  {
   "cell_type": "code",
   "execution_count": 6,
   "id": "2a1872ac-aaad-4ade-a444-a2610d0377cc",
   "metadata": {},
   "outputs": [
    {
     "name": "stdout",
     "output_type": "stream",
     "text": [
      "krish\n",
      "2\n",
      "apple\n",
      "krish\n",
      "1\n",
      "2\n",
      "3\n",
      "4\n",
      "5\n",
      "apple\n",
      "banaana\n"
     ]
    }
   ],
   "source": [
    "# list -- are the datatye which store all the values of datatype like \n",
    "# string , integers, float, complex number \n",
    "\n",
    "lst=['krish',1,2,3,4,5,'apple','banaana']\n",
    "lst\n",
    "print(lst[0])  # accessing elements in list\n",
    "print(lst[2])\n",
    "print(lst[6])\n",
    "\n",
    "\n",
    "# for iterating all the elements in lst ,we can use forloop\n",
    "for i in lst:\n",
    "    print(i)"
   ]
  },
  {
   "cell_type": "code",
   "execution_count": 12,
   "id": "2bc61a74-609f-450c-89ca-d727b55d4fe2",
   "metadata": {},
   "outputs": [
    {
     "name": "stdout",
     "output_type": "stream",
     "text": [
      "apple\n",
      "apple\n",
      "there is no cherry\n",
      "mango\n",
      "there is no cherry\n",
      "cherry\n",
      "the fruit is cherry\n",
      "bannan\n",
      "there is no cherry\n",
      "papaya\n",
      "there is no cherry\n"
     ]
    }
   ],
   "source": [
    "fruit_list =['apple','mango','cherry','bannan','papaya']\n",
    "fruit_list\n",
    "\n",
    "print(fruit_list[0])  # accessing element \n",
    "# using conditional statement in list\n",
    "for i in fruit_list:\n",
    "    print(i)\n",
    "    if i == 'cherry':\n",
    "        print('the fruit is cherry')\n",
    "    else:\n",
    "        print('there is no cherry')\n"
   ]
  },
  {
   "cell_type": "code",
   "execution_count": 13,
   "id": "6f838eb0-5801-49cb-b267-84094ff2fae5",
   "metadata": {},
   "outputs": [],
   "source": [
    "fruit_list[0]='pomegranate'"
   ]
  },
  {
   "cell_type": "code",
   "execution_count": 15,
   "id": "efa8d6a5-ae68-4e29-991c-4849efdc2c59",
   "metadata": {},
   "outputs": [
    {
     "data": {
      "text/plain": [
       "['pomegranate', 'mango', 'cherry', 'bannan', 'papaya']"
      ]
     },
     "execution_count": 15,
     "metadata": {},
     "output_type": "execute_result"
    }
   ],
   "source": [
    "fruit_list  # list are mutable we can assign new element in the place of older one"
   ]
  },
  {
   "cell_type": "code",
   "execution_count": 17,
   "id": "875b20e3-c628-410d-8aa6-90b125aff501",
   "metadata": {},
   "outputs": [
    {
     "name": "stdout",
     "output_type": "stream",
     "text": [
      "pomegranate\n",
      "mango\n",
      "cherry\n",
      "bannan\n",
      "this is bannana\n",
      "papaya\n"
     ]
    }
   ],
   "source": [
    "for i in fruit_list:\n",
    "    print(i)  #printing in every nextlline\n",
    "    if i=='bannan':\n",
    "        print('this is bannana')"
   ]
  },
  {
   "cell_type": "code",
   "execution_count": 16,
   "id": "93c0cc9d-55d5-444a-9ab7-aa1ed1d579e0",
   "metadata": {},
   "outputs": [
    {
     "name": "stdout",
     "output_type": "stream",
     "text": [
      "pomegranatemangocherrybannanthis is banana\n",
      "papaya"
     ]
    }
   ],
   "source": [
    "for i in fruit_list:\n",
    "    print(i,end='') # afer this printing in a line no spacing \n",
    "    if i=='bannan':\n",
    "        print('this is banana')"
   ]
  },
  {
   "cell_type": "code",
   "execution_count": 19,
   "id": "a559e166-dd2c-4378-a568-35153c36d73c",
   "metadata": {},
   "outputs": [
    {
     "name": "stdout",
     "output_type": "stream",
     "text": [
      "pomegranate\n",
      "mango\n",
      "this is mango\n",
      "cherry\n",
      "bannan\n",
      "papaya\n"
     ]
    }
   ],
   "source": [
    " for i in fruit_list:\n",
    "        print(i)\n",
    "        if i =='mango':\n",
    "            print('this is mango')"
   ]
  },
  {
   "cell_type": "code",
   "execution_count": 24,
   "id": "394a07eb-36a4-4a21-a9ff-ade04ebd5e29",
   "metadata": {},
   "outputs": [
    {
     "name": "stdout",
     "output_type": "stream",
     "text": [
      "pomegranate\n",
      "mango\n",
      "cherry\n",
      "the fruit is cherry\n"
     ]
    }
   ],
   "source": [
    "# break ,pass, continue  loop controller\n",
    "for i in fruit_list:\n",
    "    print(i)\n",
    "    if i =='cherry':\n",
    "        print('the fruit is cherry')\n",
    "        break  #don't print element after print statement"
   ]
  },
  {
   "cell_type": "code",
   "execution_count": 25,
   "id": "5824f21b-607c-4fc3-b85f-500a081dd16f",
   "metadata": {},
   "outputs": [
    {
     "name": "stdout",
     "output_type": "stream",
     "text": [
      "pomegranate\n",
      "mango\n",
      "cherry\n",
      "the fruit is cherry\n",
      "bannan\n",
      "papaya\n"
     ]
    }
   ],
   "source": [
    "for i in fruit_list:\n",
    "    print(i)\n",
    "    if i == 'cherry':\n",
    "        print('the fruit is cherry')\n",
    "        pass # this will pass after print sttatement"
   ]
  },
  {
   "cell_type": "code",
   "execution_count": 26,
   "id": "9fc59662-fa5d-4941-97a5-10fdb0072a8a",
   "metadata": {},
   "outputs": [
    {
     "name": "stdout",
     "output_type": "stream",
     "text": [
      "pomegranate\n",
      "mango\n",
      "cherry\n",
      "the fruit is cherry\n",
      "bannan\n",
      "papaya\n"
     ]
    }
   ],
   "source": [
    "for i in fruit_list:\n",
    "    print(i)\n",
    "    if i =='cherry':\n",
    "        print('the fruit is cherry')\n",
    "        continue"
   ]
  },
  {
   "cell_type": "code",
   "execution_count": 28,
   "id": "9ffd6f05-01f9-4a81-871d-e156eda4c8f0",
   "metadata": {},
   "outputs": [
    {
     "name": "stdout",
     "output_type": "stream",
     "text": [
      "mango\n",
      "cherry\n",
      "the fruit is apple \n"
     ]
    }
   ],
   "source": [
    "fruits_list = ['mango','cherry','apple','papaya','banana']\n",
    "for i in fruits_list:\n",
    "    if i == 'apple':\n",
    "        print('the fruit is apple ')\n",
    "        break\n",
    "    print(i)    "
   ]
  },
  {
   "cell_type": "code",
   "execution_count": 29,
   "id": "c9516b9d-f88d-4a71-b917-18c22ea36f95",
   "metadata": {},
   "outputs": [
    {
     "name": "stdout",
     "output_type": "stream",
     "text": [
      "mango\n",
      "cherry\n",
      "the fruit is apple\n",
      "papaya\n",
      "banana\n"
     ]
    }
   ],
   "source": [
    "for i in fruits_list:\n",
    "    if i =='apple':\n",
    "        print('the fruit is apple')\n",
    "        continue\n",
    "    print(i)    "
   ]
  },
  {
   "cell_type": "code",
   "execution_count": 30,
   "id": "949cbea9-de0a-453e-b009-aa7d3b1a6e28",
   "metadata": {},
   "outputs": [
    {
     "name": "stdout",
     "output_type": "stream",
     "text": [
      "mango\n",
      "cherry\n",
      "the fruit is apple\n",
      "apple\n",
      "papaya\n",
      "banana\n"
     ]
    }
   ],
   "source": [
    "for i in fruits_list:\n",
    "    if i=='apple':\n",
    "        print('the fruit is apple')\n",
    "        pass\n",
    "    print(i)"
   ]
  },
  {
   "cell_type": "code",
   "execution_count": 31,
   "id": "92b2084a-edd7-4dcb-b0b8-303e2ce19a0c",
   "metadata": {},
   "outputs": [],
   "source": [
    "# conclusion--continue and pass keyword printing other element after\n",
    "# execution of certain condition but break keyword stops the execution of \n",
    "# other element after break"
   ]
  },
  {
   "cell_type": "code",
   "execution_count": 34,
   "id": "b6850649-1016-4ea9-b86b-7bd8b6e032ec",
   "metadata": {},
   "outputs": [
    {
     "name": "stdout",
     "output_type": "stream",
     "text": [
      "****************************"
     ]
    }
   ],
   "source": [
    "# printing patterns or stars in differnent shapes\n",
    "n=7\n",
    "for i in range(n):\n",
    "    for j in range(i+1):\n",
    "        print('*' ,end='')"
   ]
  },
  {
   "cell_type": "code",
   "execution_count": 36,
   "id": "6fd0f3f9-a2ec-4337-9908-79846165563c",
   "metadata": {},
   "outputs": [
    {
     "name": "stdout",
     "output_type": "stream",
     "text": [
      "*\n",
      "*\n",
      "*\n",
      "*\n",
      "*\n",
      "*\n",
      "*\n",
      "*\n",
      "*\n",
      "*\n",
      "*\n",
      "*\n",
      "*\n",
      "*\n",
      "*\n",
      "*\n",
      "*\n",
      "*\n",
      "*\n",
      "*\n",
      "*\n",
      "*\n",
      "*\n",
      "*\n",
      "*\n",
      "*\n",
      "*\n",
      "*\n"
     ]
    }
   ],
   "source": [
    "n=7\n",
    "for i in range(n):\n",
    "    for j in range(i+1):\n",
    "        print('*' ,end='\\n')"
   ]
  },
  {
   "cell_type": "code",
   "execution_count": 41,
   "id": "27827db0-9b83-4f70-b636-306234412536",
   "metadata": {},
   "outputs": [
    {
     "name": "stdout",
     "output_type": "stream",
     "text": [
      "\n",
      "\n",
      "*\n",
      "**\n",
      "***\n",
      "****\n",
      "*****\n",
      "******\n",
      "*******\n",
      "********\n"
     ]
    }
   ],
   "source": [
    "n=10\n",
    "for i in range(n):\n",
    "    for j in range(i-1):\n",
    "        print('*',end='')\n",
    "    print(\"\\r\")"
   ]
  },
  {
   "cell_type": "code",
   "execution_count": 42,
   "id": "926a8897-7695-4ff0-b4c5-4a5e5d227b2e",
   "metadata": {},
   "outputs": [
    {
     "name": "stdout",
     "output_type": "stream",
     "text": [
      "*\n",
      "**\n",
      "***\n",
      "****\n",
      "*****\n",
      "******\n",
      "*******\n",
      "********\n",
      "*********\n",
      "**********\n"
     ]
    }
   ],
   "source": [
    "n=10\n",
    "for i in range(n):\n",
    "    for j in range(i+1):\n",
    "        print('*',end='')\n",
    "    print(\"\\r\")"
   ]
  },
  {
   "cell_type": "code",
   "execution_count": 5,
   "id": "1161db5c-e5ba-42f7-82ea-5932892423c3",
   "metadata": {},
   "outputs": [
    {
     "name": "stdin",
     "output_type": "stream",
     "text": [
      "enter the number 6\n"
     ]
    },
    {
     "name": "stdout",
     "output_type": "stream",
     "text": [
      "     *\n",
      "    ***\n",
      "   *****\n",
      "  *******\n",
      " *********\n",
      "***********\n"
     ]
    }
   ],
   "source": [
    "n= int(input('enter the number'))\n",
    "\n",
    "\n",
    "# outer loop for rows\n",
    "for i in range(n):\n",
    "    # inner loop for spaces\n",
    "    for j in range(n-i-1):\n",
    "        print(' ',end='')\n",
    "        \n",
    "    # inner loop for stars\n",
    "    for k in range(2*i+1):\n",
    "        print('*',end ='')\n",
    "        \n",
    "    print('\\r')    "
   ]
  },
  {
   "cell_type": "code",
   "execution_count": 6,
   "id": "795bb8b8-6e03-477d-9e8c-ed32427a41bb",
   "metadata": {},
   "outputs": [
    {
     "name": "stdin",
     "output_type": "stream",
     "text": [
      "enter the number 7\n"
     ]
    },
    {
     "name": "stdout",
     "output_type": "stream",
     "text": [
      "      *\n",
      "     ***\n",
      "    *****\n",
      "   *******\n",
      "  *********\n",
      " ***********\n",
      "*************\n"
     ]
    }
   ],
   "source": [
    "n=int(input('enter the number'))\n",
    "\n",
    "for i in range(n):\n",
    "    for j in range(n-i-1):\n",
    "        print(' ',end='')\n",
    "    for k in range(2*i+1):\n",
    "        print('*',end='')\n",
    "    print('\\r')    "
   ]
  },
  {
   "cell_type": "code",
   "execution_count": 8,
   "id": "4e7e5360-c28e-4d15-a111-4bfd30f7b2e3",
   "metadata": {},
   "outputs": [
    {
     "name": "stdin",
     "output_type": "stream",
     "text": [
      "enter the number 6\n"
     ]
    },
    {
     "name": "stdout",
     "output_type": "stream",
     "text": [
      "     *\n",
      "    ***\n",
      "   *****\n",
      "  *******\n",
      " *********\n",
      "***********\n"
     ]
    }
   ],
   "source": [
    "n= int(input('enter the number'))\n",
    "# outer loop for rows\n",
    "for i in range(n):\n",
    "    # inner loop for spacing\n",
    "    for j in range(n-i-1):\n",
    "        print(' ',end='')\n",
    "    # loop for printing stars    \n",
    "    for k in range(2*i+1):\n",
    "        print('*',end='')\n",
    "    print('\\r')    "
   ]
  },
  {
   "cell_type": "code",
   "execution_count": 9,
   "id": "583a7df7-9301-4e79-9784-18e442256558",
   "metadata": {},
   "outputs": [
    {
     "name": "stdin",
     "output_type": "stream",
     "text": [
      "enter the number 12\n"
     ]
    },
    {
     "name": "stdout",
     "output_type": "stream",
     "text": [
      "           *\n",
      "          ***\n",
      "         *****\n",
      "        *******\n",
      "       *********\n",
      "      ***********\n",
      "     *************\n",
      "    ***************\n",
      "   *****************\n",
      "  *******************\n",
      " *********************\n",
      "***********************\n"
     ]
    }
   ],
   "source": [
    "n= int(input('enter the number'))\n",
    "\n",
    "# outer loop for rows\n",
    "for i in range(n):\n",
    "    # innerloop for printing space\n",
    "    for j in range(n-i-1):\n",
    "        print(' ',end='')\n",
    "    # inner loop for printing space\n",
    "    for k in range(2*i+1):\n",
    "        print('*',end='')\n",
    "    print('\\r')    "
   ]
  },
  {
   "cell_type": "markdown",
   "id": "d8e6f379-7a8d-4e94-bc3f-6b213b318aa7",
   "metadata": {},
   "source": [
    "# logical operators"
   ]
  },
  {
   "cell_type": "code",
   "execution_count": 10,
   "id": "74acb18e-cc84-45cd-90da-020f78f8c0ee",
   "metadata": {},
   "outputs": [
    {
     "name": "stdout",
     "output_type": "stream",
     "text": [
      "defined value of START=True\n",
      "defined value of STOP= False \n",
      "\n",
      "defined value of START = True\n",
      "value of STOP by negating START=False  \n",
      "\n",
      "value of START by negating STOP = True\n",
      "defined value of STOP  = False \n",
      "\n"
     ]
    }
   ],
   "source": [
    "# lets define two variables having boolean values true and false\n",
    "START = True\n",
    "STOP =False\n",
    "\n",
    "# print the value as it is \n",
    "print(f'defined value of START={START}')\n",
    "print(f'defined value of STOP= {STOP} \\n')\n",
    "\n",
    "# if can also be written as \n",
    "print(f'defined value of START = {START}')\n",
    "print(f'value of STOP by negating START={not START}  \\n')\n",
    "\n",
    "# alternatively --\n",
    "print(f'value of START by negating STOP = {not STOP}')\n",
    "print(f'defined value of STOP  = {STOP} \\n')\n"
   ]
  },
  {
   "cell_type": "code",
   "execution_count": 12,
   "id": "5bdee6a2-9d27-46b1-950f-61967968be65",
   "metadata": {},
   "outputs": [
    {
     "name": "stdout",
     "output_type": "stream",
     "text": [
      "defined value of START = 1\n",
      "defined value of STOP = 0 \n",
      "\n",
      "defined value of START = 1\n",
      "value of STOP by  negating START = 0 \n",
      "\n",
      "value of START by negating STOP = 1\n",
      "defined value of STOP = 0 \n",
      " \n"
     ]
    }
   ],
   "source": [
    "START = 1\n",
    "STOP = 0\n",
    "\n",
    "# print the value as it is\n",
    "print(f'defined value of START = {START}')\n",
    "print(f'defined value of STOP = {STOP} \\n')\n",
    "\n",
    "# if can also be written as \n",
    "print(f'defined value of START = {START}')\n",
    "print(f'value of STOP by  negating START = {int(not START)} \\n')\n",
    "\n",
    "# alternatively\n",
    "\n",
    "print(f'value of START by negating STOP = {int(not STOP)}')\n",
    "print(f'defined value of STOP = {STOP} \\n ')\n",
    "                                           \n"
   ]
  },
  {
   "cell_type": "code",
   "execution_count": 13,
   "id": "3464db90-e700-4836-9bcf-9c59b47758d0",
   "metadata": {},
   "outputs": [
    {
     "name": "stdout",
     "output_type": "stream",
     "text": [
      "boolean value of no. 0 is False\n",
      "boolean value of no. 1 is True\n",
      "negating of 0 is True and negation of 1 is False\n",
      "\n",
      ",,,,,,,,,,,,,,,,,,,,,,\n",
      "\n"
     ]
    }
   ],
   "source": [
    "zero = 0\n",
    "one = 1\n",
    "\n",
    "print(f'boolean value of no. {zero} is {bool(zero)}')\n",
    "print(f'boolean value of no. {one} is {bool(one)}')\n",
    "print(f'negating of {zero} is {not zero} and negation of {one} is {not one}')\n",
    "print('\\n,,,,,,,,,,,,,,,,,,,,,,\\n')"
   ]
  },
  {
   "cell_type": "code",
   "execution_count": 17,
   "id": "7f19ea5f-f899-4b9f-8974-6547bf153a7b",
   "metadata": {},
   "outputs": [
    {
     "name": "stdout",
     "output_type": "stream",
     "text": [
      "boolean value no. -5 is True\n",
      "boolean vaue no. 5 is True\n",
      "negation of -5 is False and negation of 5 is False\n"
     ]
    }
   ],
   "source": [
    "some_negative_integer = -5\n",
    "some_positive_integer = 5\n",
    "\n",
    "print(f'boolean value no. {some_negative_integer} is {bool(some_negative_integer)}')\n",
    "print(f'boolean vaue no. {some_positive_integer } is {bool(some_positive_integer)}')\n",
    "print(f'negation of {some_negative_integer} is {not some_negative_integer} \\\n",
    "and negation of {some_positive_integer} is {not some_positive_integer}')"
   ]
  },
  {
   "cell_type": "code",
   "execution_count": 19,
   "id": "61095933-3aca-497f-b5c7-851280e2b0b5",
   "metadata": {},
   "outputs": [
    {
     "name": "stdout",
     "output_type": "stream",
     "text": [
      "boolean value of no. -5.99 is True\n",
      "boolean value of no. 5.9 is True\n",
      "negation of -5.99 is False and negation of 5.9 is False\n"
     ]
    }
   ],
   "source": [
    "some_negative_float = -5.99\n",
    "some_positive_float = 5.9\n",
    "\n",
    "print(f'boolean value of no. {some_negative_float} is {bool(some_negative_float)}')\n",
    "print(f'boolean value of no. {some_positive_float} is {bool(some_positive_float)}')\n",
    "\n",
    "print(f'negation of {some_negative_float} is {not some_negative_float} \\\n",
    "and negation of {some_positive_float} is {not some_positive_float}')"
   ]
  },
  {
   "cell_type": "markdown",
   "id": "f8fa012a-72ac-409c-91f9-9e589e16bf99",
   "metadata": {},
   "source": [
    "# Logical And"
   ]
  },
  {
   "cell_type": "code",
   "execution_count": 20,
   "id": "e3a6091b-66d9-45fd-8e41-d81d5433b5cb",
   "metadata": {},
   "outputs": [
    {
     "name": "stdout",
     "output_type": "stream",
     "text": [
      "dish contains VEGETABLES : True\n",
      "dish contains SALT : False\n",
      "hence dish prepared was good : False \n",
      "\n"
     ]
    }
   ],
   "source": [
    "VEGETABLES = True \n",
    "SALT = False\n",
    "DISH = VEGETABLES and SALT\n",
    "\n",
    "print(f'dish contains VEGETABLES : {VEGETABLES}')\n",
    "print(f'dish contains SALT : {SALT}')\n",
    "print(f'hence dish prepared was good : {DISH} \\n')"
   ]
  },
  {
   "cell_type": "code",
   "execution_count": 22,
   "id": "fe5c5427-fc15-45c4-bf15-47c4781073b2",
   "metadata": {},
   "outputs": [
    {
     "data": {
      "text/plain": [
       "True"
      ]
     },
     "execution_count": 22,
     "metadata": {},
     "output_type": "execute_result"
    }
   ],
   "source": [
    "not(False)* True"
   ]
  },
  {
   "cell_type": "code",
   "execution_count": 23,
   "id": "f7b5415e-124d-467d-bf5b-8d70e5a2424c",
   "metadata": {},
   "outputs": [
    {
     "data": {
      "text/plain": [
       "0"
      ]
     },
     "execution_count": 23,
     "metadata": {},
     "output_type": "execute_result"
    }
   ],
   "source": [
    "False * False"
   ]
  },
  {
   "cell_type": "code",
   "execution_count": 24,
   "id": "29c6971d-530b-4757-80e4-7cb3c83529b1",
   "metadata": {},
   "outputs": [
    {
     "data": {
      "text/plain": [
       "1"
      ]
     },
     "execution_count": 24,
     "metadata": {},
     "output_type": "execute_result"
    }
   ],
   "source": [
    "True *True"
   ]
  },
  {
   "cell_type": "code",
   "execution_count": 25,
   "id": "2fa476ac-b802-4bc5-b84d-7aede98a6059",
   "metadata": {},
   "outputs": [
    {
     "data": {
      "text/plain": [
       "0"
      ]
     },
     "execution_count": 25,
     "metadata": {},
     "output_type": "execute_result"
    }
   ],
   "source": [
    "False * (not(False))"
   ]
  },
  {
   "cell_type": "code",
   "execution_count": 26,
   "id": "7082f5a9-ea46-4c31-88fc-d857c5c51fcc",
   "metadata": {},
   "outputs": [
    {
     "data": {
      "text/plain": [
       "0"
      ]
     },
     "execution_count": 26,
     "metadata": {},
     "output_type": "execute_result"
    }
   ],
   "source": [
    "True * False"
   ]
  },
  {
   "cell_type": "code",
   "execution_count": 27,
   "id": "7eacfb19-915e-42c5-adb8-ef585170e6a8",
   "metadata": {},
   "outputs": [
    {
     "data": {
      "text/plain": [
       "True"
      ]
     },
     "execution_count": 27,
     "metadata": {},
     "output_type": "execute_result"
    }
   ],
   "source": [
    "not(True ) *False"
   ]
  },
  {
   "cell_type": "code",
   "execution_count": 28,
   "id": "592464d1-1960-4521-972a-fa286fe8c752",
   "metadata": {},
   "outputs": [
    {
     "data": {
      "text/plain": [
       "0"
      ]
     },
     "execution_count": 28,
     "metadata": {},
     "output_type": "execute_result"
    }
   ],
   "source": [
    "(not(True)) * False # bodmas reule is applied so bracket solved first"
   ]
  },
  {
   "cell_type": "code",
   "execution_count": 29,
   "id": "f7b2a366-8e66-437f-bb13-731d41df4145",
   "metadata": {},
   "outputs": [
    {
     "data": {
      "text/plain": [
       "7"
      ]
     },
     "execution_count": 29,
     "metadata": {},
     "output_type": "execute_result"
    }
   ],
   "source": [
    "1+2*3"
   ]
  },
  {
   "cell_type": "code",
   "execution_count": 30,
   "id": "fa1b57c0-65e5-443e-89a4-5870f4d0e546",
   "metadata": {},
   "outputs": [
    {
     "data": {
      "text/plain": [
       "9"
      ]
     },
     "execution_count": 30,
     "metadata": {},
     "output_type": "execute_result"
    }
   ],
   "source": [
    "(1+2)*3"
   ]
  },
  {
   "cell_type": "code",
   "execution_count": 31,
   "id": "a558283d-f073-41c5-8d24-7acf708cf13c",
   "metadata": {},
   "outputs": [
    {
     "data": {
      "text/plain": [
       "14.0"
      ]
     },
     "execution_count": 31,
     "metadata": {},
     "output_type": "execute_result"
    }
   ],
   "source": [
    "2*3+40/5"
   ]
  },
  {
   "cell_type": "code",
   "execution_count": 32,
   "id": "63450b27-ea14-42f0-8fac-f342a6caa326",
   "metadata": {},
   "outputs": [
    {
     "data": {
      "text/plain": [
       "True"
      ]
     },
     "execution_count": 32,
     "metadata": {},
     "output_type": "execute_result"
    }
   ],
   "source": [
    "not False *True == True"
   ]
  },
  {
   "cell_type": "code",
   "execution_count": 33,
   "id": "95c0c626-bb23-424a-9827-d8b3ff75de9c",
   "metadata": {},
   "outputs": [
    {
     "data": {
      "text/plain": [
       "139880776743040"
      ]
     },
     "execution_count": 33,
     "metadata": {},
     "output_type": "execute_result"
    }
   ],
   "source": [
    "lst_a = [1,2,3,4]\n",
    "lst_b = [1,2,3,4]\n",
    "id(lst_a)   # showing the memory location"
   ]
  },
  {
   "cell_type": "code",
   "execution_count": 34,
   "id": "869cf4e5-5eb5-4b35-873a-2d4f0927a912",
   "metadata": {},
   "outputs": [
    {
     "data": {
      "text/plain": [
       "139880286310656"
      ]
     },
     "execution_count": 34,
     "metadata": {},
     "output_type": "execute_result"
    }
   ],
   "source": [
    "id(lst_b)  # both have differnent memory address"
   ]
  },
  {
   "cell_type": "code",
   "execution_count": 35,
   "id": "3007bed0-6607-4848-adfb-7bf022d8f7cd",
   "metadata": {},
   "outputs": [
    {
     "data": {
      "text/plain": [
       "False"
      ]
     },
     "execution_count": 35,
     "metadata": {},
     "output_type": "execute_result"
    }
   ],
   "source": [
    "lst_a is lst_b # have diff memory locatn so false"
   ]
  },
  {
   "cell_type": "code",
   "execution_count": 36,
   "id": "98fcfc54-71bd-4585-8021-8a0021a6488b",
   "metadata": {},
   "outputs": [],
   "source": [
    "lst_a = lst_b  # now both are equal so have same memory location"
   ]
  },
  {
   "cell_type": "code",
   "execution_count": 38,
   "id": "a444571b-b61f-472f-8a07-40f0d7b778fa",
   "metadata": {},
   "outputs": [
    {
     "data": {
      "text/plain": [
       "(139880286310656, 139880286310656)"
      ]
     },
     "execution_count": 38,
     "metadata": {},
     "output_type": "execute_result"
    }
   ],
   "source": [
    "id(lst_a),id(lst_b)"
   ]
  },
  {
   "cell_type": "code",
   "execution_count": 39,
   "id": "437f7dbb-ae64-4010-98bc-2e91b382b9e6",
   "metadata": {},
   "outputs": [
    {
     "data": {
      "text/plain": [
       "True"
      ]
     },
     "execution_count": 39,
     "metadata": {},
     "output_type": "execute_result"
    }
   ],
   "source": [
    "lst_a is lst_b"
   ]
  },
  {
   "cell_type": "code",
   "execution_count": 40,
   "id": "1c4bc9e3-4712-4716-be2c-af15eeafe5c5",
   "metadata": {},
   "outputs": [
    {
     "data": {
      "text/plain": [
       "False"
      ]
     },
     "execution_count": 40,
     "metadata": {},
     "output_type": "execute_result"
    }
   ],
   "source": [
    "lst_a is not lst_b"
   ]
  },
  {
   "cell_type": "code",
   "execution_count": 41,
   "id": "115abdf0-6fbd-4eb9-8af6-4f34f8841575",
   "metadata": {},
   "outputs": [
    {
     "data": {
      "text/plain": [
       "(139880285068208, 139880285068208)"
      ]
     },
     "execution_count": 41,
     "metadata": {},
     "output_type": "execute_result"
    }
   ],
   "source": [
    "str1 = 'krish'\n",
    "str2 = 'krish'\n",
    "id(str1),id(str2)"
   ]
  },
  {
   "cell_type": "code",
   "execution_count": 42,
   "id": "e0005385-22f3-428b-aecf-bfb90397f1e9",
   "metadata": {},
   "outputs": [
    {
     "data": {
      "text/plain": [
       "(139880285068208, 139880285068912)"
      ]
     },
     "execution_count": 42,
     "metadata": {},
     "output_type": "execute_result"
    }
   ],
   "source": [
    "str1 = 'krish'\n",
    "str2 ='krish2'\n",
    "id(str1),id(str2)"
   ]
  },
  {
   "cell_type": "code",
   "execution_count": 43,
   "id": "462dd4c1-eb01-4131-9f6e-06e008edbdfa",
   "metadata": {},
   "outputs": [
    {
     "data": {
      "text/plain": [
       "[1, 2, 3, 4]"
      ]
     },
     "execution_count": 43,
     "metadata": {},
     "output_type": "execute_result"
    }
   ],
   "source": [
    "lst_a"
   ]
  },
  {
   "cell_type": "code",
   "execution_count": 44,
   "id": "a8237198-7885-4971-80ba-69179b5ce06a",
   "metadata": {},
   "outputs": [
    {
     "data": {
      "text/plain": [
       "1"
      ]
     },
     "execution_count": 44,
     "metadata": {},
     "output_type": "execute_result"
    }
   ],
   "source": [
    "lst_a[0]"
   ]
  },
  {
   "cell_type": "code",
   "execution_count": 45,
   "id": "15f696b0-cf3b-495e-a5f4-43bec0e47329",
   "metadata": {},
   "outputs": [
    {
     "data": {
      "text/plain": [
       "'k'"
      ]
     },
     "execution_count": 45,
     "metadata": {},
     "output_type": "execute_result"
    }
   ],
   "source": [
    "str1[0]"
   ]
  },
  {
   "cell_type": "code",
   "execution_count": 46,
   "id": "3e2a37ff-7d48-4268-8fb6-fe697290a00c",
   "metadata": {},
   "outputs": [
    {
     "data": {
      "text/plain": [
       "[200, 2, 3, 4]"
      ]
     },
     "execution_count": 46,
     "metadata": {},
     "output_type": "execute_result"
    }
   ],
   "source": [
    "lst_a[0]=200\n",
    "lst_a"
   ]
  },
  {
   "cell_type": "code",
   "execution_count": 51,
   "id": "9afde73b-fc2d-400c-b4ec-6aacafdae045",
   "metadata": {},
   "outputs": [
    {
     "data": {
      "text/plain": [
       "'krish'"
      ]
     },
     "execution_count": 51,
     "metadata": {},
     "output_type": "execute_result"
    }
   ],
   "source": [
    "str1"
   ]
  },
  {
   "cell_type": "code",
   "execution_count": 59,
   "id": "ed4b88a7-372a-4b99-bb40-e0ad4c1d47b2",
   "metadata": {},
   "outputs": [
    {
     "data": {
      "text/plain": [
       "'sanjurish'"
      ]
     },
     "execution_count": 59,
     "metadata": {},
     "output_type": "execute_result"
    }
   ],
   "source": [
    "str1.replace('k','sanju')"
   ]
  },
  {
   "cell_type": "code",
   "execution_count": 60,
   "id": "adc0684d-88d7-4885-8a04-885344a325c8",
   "metadata": {},
   "outputs": [
    {
     "data": {
      "text/plain": [
       "'krish'"
      ]
     },
     "execution_count": 60,
     "metadata": {},
     "output_type": "execute_result"
    }
   ],
   "source": [
    "str1"
   ]
  },
  {
   "cell_type": "code",
   "execution_count": 61,
   "id": "110e13f3-de19-4d01-84e7-a05565f6f0d0",
   "metadata": {},
   "outputs": [
    {
     "data": {
      "text/plain": [
       "'krish'"
      ]
     },
     "execution_count": 61,
     "metadata": {},
     "output_type": "execute_result"
    }
   ],
   "source": [
    "str1.removeprefix('s')"
   ]
  },
  {
   "cell_type": "code",
   "execution_count": 62,
   "id": "288ed578-5079-491b-88a8-5fbf2060246b",
   "metadata": {},
   "outputs": [
    {
     "data": {
      "text/plain": [
       "'krish'"
      ]
     },
     "execution_count": 62,
     "metadata": {},
     "output_type": "execute_result"
    }
   ],
   "source": [
    "str1\n",
    "# lists are mutable but string are immutable"
   ]
  },
  {
   "cell_type": "markdown",
   "id": "545f0137-7e55-4396-8121-616b505fe89f",
   "metadata": {},
   "source": [
    "# comparison operations"
   ]
  },
  {
   "cell_type": "code",
   "execution_count": 63,
   "id": "70a3c616-ffe5-4859-91fd-a211f90d567f",
   "metadata": {},
   "outputs": [
    {
     "name": "stdout",
     "output_type": "stream",
     "text": [
      "bike is faster than car:False\n"
     ]
    }
   ],
   "source": [
    "maximum_speed_of_bike = 150\n",
    "max_speed_of_car = 200\n",
    "print(f'bike is faster than car:{maximum_speed_of_bike > max_speed_of_car}')"
   ]
  },
  {
   "cell_type": "code",
   "execution_count": 64,
   "id": "5df06b05-682c-4b11-ad58-f037aa08b552",
   "metadata": {},
   "outputs": [
    {
     "name": "stdout",
     "output_type": "stream",
     "text": [
      "bike is faster than car: True\n"
     ]
    }
   ],
   "source": [
    "maximum_speed_of_bike = 150\n",
    "max_speed_of_car = 200\n",
    "print(f'bike is faster than car: {maximum_speed_of_bike<max_speed_of_car}')"
   ]
  },
  {
   "cell_type": "code",
   "execution_count": 65,
   "id": "ff45b815-ad0d-466c-bcd6-795e9bd683c3",
   "metadata": {},
   "outputs": [
    {
     "name": "stdout",
     "output_type": "stream",
     "text": [
      "bike is faster than car: True\n"
     ]
    }
   ],
   "source": [
    "maximum_speed_of_bike = 150\n",
    "max_speed_of_car = 200\n",
    "print(f'bike is faster than car: {maximum_speed_of_bike<=max_speed_of_car}')"
   ]
  },
  {
   "cell_type": "code",
   "execution_count": 66,
   "id": "3eb3ef95-767c-4c30-b3b1-146c5f847c44",
   "metadata": {},
   "outputs": [
    {
     "name": "stdout",
     "output_type": "stream",
     "text": [
      "bike is faster than car: False\n"
     ]
    }
   ],
   "source": [
    "maximum_speed_of_bike = 150\n",
    "max_speed_of_car = 200\n",
    "print(f'bike is faster than car: {maximum_speed_of_bike>=max_speed_of_car}')\n",
    "# >=, <=  here it checks any of the value is true ,return true else false\n"
   ]
  },
  {
   "cell_type": "markdown",
   "id": "4e6df3b4-5914-4916-86bb-59694d1a0b7c",
   "metadata": {},
   "source": [
    "# Arithematic operation\n",
    "\n",
    "|operation |meaning|\n",
    "|:-:|:-:|\n",
    "|**+**|addition|\n",
    "|**-**|subtraction|\n",
    "|**/**|true division|\n",
    "|**//**|integer division|\n",
    "|**%** |the modulo opertion|"
   ]
  },
  {
   "cell_type": "code",
   "execution_count": 72,
   "id": "93822cd6-94c3-45bd-a64e-9efc01071c58",
   "metadata": {},
   "outputs": [
    {
     "data": {
      "text/plain": [
       "44"
      ]
     },
     "execution_count": 72,
     "metadata": {},
     "output_type": "execute_result"
    }
   ],
   "source": [
    "a,b=23,21\n",
    "a+b"
   ]
  },
  {
   "cell_type": "code",
   "execution_count": 73,
   "id": "5f98fe0b-51a5-4d83-a2a0-d38f515d8d1f",
   "metadata": {},
   "outputs": [
    {
     "data": {
      "text/plain": [
       "1.0952380952380953"
      ]
     },
     "execution_count": 73,
     "metadata": {},
     "output_type": "execute_result"
    }
   ],
   "source": [
    "a/b"
   ]
  },
  {
   "cell_type": "code",
   "execution_count": 74,
   "id": "7cca5bf7-53f2-4203-a2a3-683ce1dd19ff",
   "metadata": {},
   "outputs": [
    {
     "data": {
      "text/plain": [
       "0.9130434782608695"
      ]
     },
     "execution_count": 74,
     "metadata": {},
     "output_type": "execute_result"
    }
   ],
   "source": [
    "b/a"
   ]
  },
  {
   "cell_type": "code",
   "execution_count": 75,
   "id": "72f8cc31-dd20-48b2-9b5e-efae82144c6b",
   "metadata": {},
   "outputs": [
    {
     "data": {
      "text/plain": [
       "21"
      ]
     },
     "execution_count": 75,
     "metadata": {},
     "output_type": "execute_result"
    }
   ],
   "source": [
    "b"
   ]
  },
  {
   "cell_type": "code",
   "execution_count": 76,
   "id": "5b92635d-41a2-4647-95a6-e406752f6e75",
   "metadata": {},
   "outputs": [
    {
     "data": {
      "text/plain": [
       "0"
      ]
     },
     "execution_count": 76,
     "metadata": {},
     "output_type": "execute_result"
    }
   ],
   "source": [
    "b//a"
   ]
  },
  {
   "cell_type": "code",
   "execution_count": 79,
   "id": "4d0b3b7f-d911-4348-86e3-dadbde680fab",
   "metadata": {},
   "outputs": [
    {
     "data": {
      "text/plain": [
       "(23, 21)"
      ]
     },
     "execution_count": 79,
     "metadata": {},
     "output_type": "execute_result"
    }
   ],
   "source": [
    "a,b"
   ]
  },
  {
   "cell_type": "code",
   "execution_count": 77,
   "id": "f43e4a5e-ecae-4702-81b5-ef7ee9a1ced4",
   "metadata": {},
   "outputs": [
    {
     "data": {
      "text/plain": [
       "21"
      ]
     },
     "execution_count": 77,
     "metadata": {},
     "output_type": "execute_result"
    }
   ],
   "source": [
    "b%a"
   ]
  },
  {
   "cell_type": "code",
   "execution_count": 78,
   "id": "b9cf72c4-732b-4493-8475-adfbb9c106e3",
   "metadata": {},
   "outputs": [
    {
     "data": {
      "text/plain": [
       "2"
      ]
     },
     "execution_count": 78,
     "metadata": {},
     "output_type": "execute_result"
    }
   ],
   "source": [
    "a%b"
   ]
  },
  {
   "cell_type": "code",
   "execution_count": 81,
   "id": "cf3e2e0a-36cc-454a-934b-f80f59669eaf",
   "metadata": {},
   "outputs": [
    {
     "name": "stderr",
     "output_type": "stream",
     "text": [
      "UsageError: Line magic function `%notebook('data1.txt')` not found.\n"
     ]
    }
   ],
   "source": [
    "%notebook('data1.txt')"
   ]
  },
  {
   "cell_type": "code",
   "execution_count": 82,
   "id": "e5e347e2-1ede-4f1d-9030-f05c1b099504",
   "metadata": {},
   "outputs": [],
   "source": [
    "a=2\n",
    "b=5"
   ]
  },
  {
   "cell_type": "code",
   "execution_count": 83,
   "id": "754a1068-c39e-405e-bad6-74a1773e6b2c",
   "metadata": {},
   "outputs": [
    {
     "data": {
      "text/plain": [
       "0.4"
      ]
     },
     "execution_count": 83,
     "metadata": {},
     "output_type": "execute_result"
    }
   ],
   "source": [
    "a/b"
   ]
  },
  {
   "cell_type": "code",
   "execution_count": 84,
   "id": "1e3101e4-03bc-4501-9b23-ecd31d8fe24c",
   "metadata": {},
   "outputs": [
    {
     "data": {
      "text/plain": [
       "0"
      ]
     },
     "execution_count": 84,
     "metadata": {},
     "output_type": "execute_result"
    }
   ],
   "source": [
    "a//b"
   ]
  },
  {
   "cell_type": "code",
   "execution_count": 85,
   "id": "4d071e09-56ae-4362-960f-3329a5df050a",
   "metadata": {},
   "outputs": [
    {
     "data": {
      "text/plain": [
       "2"
      ]
     },
     "execution_count": 85,
     "metadata": {},
     "output_type": "execute_result"
    }
   ],
   "source": [
    "a%b # if first is smaller than return first else return remainder"
   ]
  },
  {
   "cell_type": "code",
   "execution_count": 86,
   "id": "8dde7349-5bbc-42fe-8afd-b39b97c7b1d3",
   "metadata": {},
   "outputs": [
    {
     "data": {
      "text/plain": [
       "1"
      ]
     },
     "execution_count": 86,
     "metadata": {},
     "output_type": "execute_result"
    }
   ],
   "source": [
    "b%a"
   ]
  },
  {
   "cell_type": "code",
   "execution_count": 87,
   "id": "6e0c1fe4-b07e-44d8-82b6-0a3624cf2705",
   "metadata": {},
   "outputs": [
    {
     "data": {
      "text/plain": [
       "'0b1010'"
      ]
     },
     "execution_count": 87,
     "metadata": {},
     "output_type": "execute_result"
    }
   ],
   "source": [
    "var = 10\n",
    "bin(var) # converting number into binary format"
   ]
  },
  {
   "cell_type": "markdown",
   "id": "cb6334a8-a06e-42c4-8115-7151944f16d8",
   "metadata": {},
   "source": [
    "# string"
   ]
  },
  {
   "cell_type": "code",
   "execution_count": 88,
   "id": "df7b8510-13a4-4c4d-aa57-369deb5db497",
   "metadata": {},
   "outputs": [
    {
     "data": {
      "text/plain": [
       "'welcome'"
      ]
     },
     "execution_count": 88,
     "metadata": {},
     "output_type": "execute_result"
    }
   ],
   "source": [
    "'sanju'\n",
    "'welcome'"
   ]
  },
  {
   "cell_type": "code",
   "execution_count": 90,
   "id": "433dbeaa-8680-4e5b-bba9-19575e6abebc",
   "metadata": {},
   "outputs": [
    {
     "data": {
      "text/plain": [
       "str"
      ]
     },
     "execution_count": 90,
     "metadata": {},
     "output_type": "execute_result"
    }
   ],
   "source": [
    "str1 = 'welcome to data science masters'\n",
    "str1\n",
    "type(str1)"
   ]
  },
  {
   "cell_type": "code",
   "execution_count": 94,
   "id": "231f9841-39c0-45f0-adeb-df467909420f",
   "metadata": {},
   "outputs": [
    {
     "data": {
      "text/plain": [
       "'manjukumari'"
      ]
     },
     "execution_count": 94,
     "metadata": {},
     "output_type": "execute_result"
    }
   ],
   "source": [
    "# str1[0]=32\n",
    "# can we alterate this string  yes we can with the help of for loop\n",
    "# can we access the element present in string---yes we can\n",
    "# can we replace this string with something else ---yes we can replace with some inbuilt funcition but we can not manipulate this /\n",
    "str1 = 'sanjukumari'\n",
    "str1.replace('s','m')"
   ]
  },
  {
   "cell_type": "code",
   "execution_count": 95,
   "id": "5f895104-a606-4749-8d45-005445a9d588",
   "metadata": {},
   "outputs": [
    {
     "data": {
      "text/plain": [
       "'sanjukumari'"
      ]
     },
     "execution_count": 95,
     "metadata": {},
     "output_type": "execute_result"
    }
   ],
   "source": [
    "str1"
   ]
  },
  {
   "cell_type": "code",
   "execution_count": 96,
   "id": "431153b2-ee55-4ded-8c53-be4167b43418",
   "metadata": {},
   "outputs": [
    {
     "data": {
      "text/plain": [
       "'Sanjukumari'"
      ]
     },
     "execution_count": 96,
     "metadata": {},
     "output_type": "execute_result"
    }
   ],
   "source": [
    "# we can replace with the use of inbuilt funcn but the change is not permanemt like in case of list\n",
    "str1.capitalize()"
   ]
  },
  {
   "cell_type": "code",
   "execution_count": 97,
   "id": "56c01016-3ad1-405a-aa8c-db4a2a93444e",
   "metadata": {},
   "outputs": [
    {
     "data": {
      "text/plain": [
       "7"
      ]
     },
     "execution_count": 97,
     "metadata": {},
     "output_type": "execute_result"
    }
   ],
   "source": [
    "str1.index('m',3)\n",
    "# returning index of particular word after the initisaition value\n"
   ]
  },
  {
   "cell_type": "code",
   "execution_count": 99,
   "id": "aca6c8e3-c234-40a4-8173-39d4d9b4394d",
   "metadata": {},
   "outputs": [
    {
     "data": {
      "text/plain": [
       "'sanjukumari'"
      ]
     },
     "execution_count": 99,
     "metadata": {},
     "output_type": "execute_result"
    }
   ],
   "source": [
    "str1.format(2,4) # returing previous values"
   ]
  },
  {
   "cell_type": "code",
   "execution_count": 104,
   "id": "0bc86d0c-6951-485a-b5ec-a940224fa211",
   "metadata": {},
   "outputs": [
    {
     "data": {
      "text/plain": [
       "-1"
      ]
     },
     "execution_count": 104,
     "metadata": {},
     "output_type": "execute_result"
    }
   ],
   "source": [
    "str1.find('j',6)"
   ]
  },
  {
   "cell_type": "code",
   "execution_count": 105,
   "id": "9f584856-89df-42ab-bf56-6824f1faf54b",
   "metadata": {},
   "outputs": [
    {
     "data": {
      "text/plain": [
       "'i'"
      ]
     },
     "execution_count": 105,
     "metadata": {},
     "output_type": "execute_result"
    }
   ],
   "source": [
    "string = 'pw skills data science'\n",
    "string[5]"
   ]
  },
  {
   "cell_type": "code",
   "execution_count": 106,
   "id": "60b60d4b-877c-4ce1-b13e-c2140b41445b",
   "metadata": {},
   "outputs": [
    {
     "data": {
      "text/plain": [
       "'ills data science'"
      ]
     },
     "execution_count": 106,
     "metadata": {},
     "output_type": "execute_result"
    }
   ],
   "source": [
    "string[5:] # return the element from 5 th to end of the string"
   ]
  },
  {
   "cell_type": "code",
   "execution_count": 107,
   "id": "760e3908-bfc5-44e8-bd2a-4bcdf1aa1b44",
   "metadata": {},
   "outputs": [
    {
     "data": {
      "text/plain": [
       "'ills d'"
      ]
     },
     "execution_count": 107,
     "metadata": {},
     "output_type": "execute_result"
    }
   ],
   "source": [
    "string[5:11] # return the elements from 5th to 10 th "
   ]
  },
  {
   "cell_type": "code",
   "execution_count": 108,
   "id": "f88d102d-ca3e-40db-8670-cf2b443a7356",
   "metadata": {},
   "outputs": [
    {
     "data": {
      "text/plain": [
       "'e'"
      ]
     },
     "execution_count": 108,
     "metadata": {},
     "output_type": "execute_result"
    }
   ],
   "source": [
    "string[-1]  # return the last element of the string"
   ]
  },
  {
   "cell_type": "code",
   "execution_count": 109,
   "id": "e96da975-1eda-4f3a-b17e-dd3b6b31a9e3",
   "metadata": {},
   "outputs": [
    {
     "data": {
      "text/plain": [
       "'e'"
      ]
     },
     "execution_count": 109,
     "metadata": {},
     "output_type": "execute_result"
    }
   ],
   "source": [
    "string[-1:]"
   ]
  },
  {
   "cell_type": "code",
   "execution_count": 111,
   "id": "c040f358-0b15-472f-bea7-cec57049c933",
   "metadata": {},
   "outputs": [
    {
     "data": {
      "text/plain": [
       "'n'"
      ]
     },
     "execution_count": 111,
     "metadata": {},
     "output_type": "execute_result"
    }
   ],
   "source": [
    "string[-3]  # return last third element only from the string"
   ]
  },
  {
   "cell_type": "code",
   "execution_count": 112,
   "id": "d14407f8-b6b6-447a-a28d-7646a3d3d468",
   "metadata": {},
   "outputs": [
    {
     "data": {
      "text/plain": [
       "'nce'"
      ]
     },
     "execution_count": 112,
     "metadata": {},
     "output_type": "execute_result"
    }
   ],
   "source": [
    "string[-3:] # return last third element from the string"
   ]
  },
  {
   "cell_type": "code",
   "execution_count": 114,
   "id": "f1656ae6-663f-4997-a0b4-eb88e6fdb1da",
   "metadata": {},
   "outputs": [
    {
     "data": {
      "text/plain": [
       "'science'"
      ]
     },
     "execution_count": 114,
     "metadata": {},
     "output_type": "execute_result"
    }
   ],
   "source": [
    "string[-7:] # returning the last seven element from -7 to -1"
   ]
  },
  {
   "cell_type": "code",
   "execution_count": 115,
   "id": "fa8d94ba-edd4-49c0-9766-1b376f544202",
   "metadata": {},
   "outputs": [
    {
     "data": {
      "text/plain": [
       "'scie'"
      ]
     },
     "execution_count": 115,
     "metadata": {},
     "output_type": "execute_result"
    }
   ],
   "source": [
    "string[-7:-3] # returning the element from -7 to -4"
   ]
  },
  {
   "cell_type": "code",
   "execution_count": 117,
   "id": "b93c4c32-4f00-4120-93da-d691f759f654",
   "metadata": {},
   "outputs": [
    {
     "data": {
      "text/plain": [
       "'sc'"
      ]
     },
     "execution_count": 117,
     "metadata": {},
     "output_type": "execute_result"
    }
   ],
   "source": [
    "string[-7:-5] # return the element from -7 to -6"
   ]
  },
  {
   "cell_type": "code",
   "execution_count": 118,
   "id": "5b7c7f05-f748-4b7a-8031-a52a698c3d4b",
   "metadata": {},
   "outputs": [
    {
     "data": {
      "text/plain": [
       "''"
      ]
     },
     "execution_count": 118,
     "metadata": {},
     "output_type": "execute_result"
    }
   ],
   "source": [
    "string[-7:5]"
   ]
  },
  {
   "cell_type": "code",
   "execution_count": 119,
   "id": "66f4091e-bd56-434d-a0a5-0e63792233cb",
   "metadata": {},
   "outputs": [
    {
     "data": {
      "text/plain": [
       "''"
      ]
     },
     "execution_count": 119,
     "metadata": {},
     "output_type": "execute_result"
    }
   ],
   "source": [
    "string[7:5]"
   ]
  },
  {
   "cell_type": "code",
   "execution_count": 120,
   "id": "50f2fcf5-1f32-4d7f-926d-d42c7704e771",
   "metadata": {},
   "outputs": [
    {
     "data": {
      "text/plain": [
       "''"
      ]
     },
     "execution_count": 120,
     "metadata": {},
     "output_type": "execute_result"
    }
   ],
   "source": [
    "string[-10:10]"
   ]
  },
  {
   "cell_type": "code",
   "execution_count": 121,
   "id": "55e90508-9247-4f31-a105-908e07da9b35",
   "metadata": {},
   "outputs": [
    {
     "data": {
      "text/plain": [
       "'pw skills data science'"
      ]
     },
     "execution_count": 121,
     "metadata": {},
     "output_type": "execute_result"
    }
   ],
   "source": [
    "string[:] # return all the element"
   ]
  },
  {
   "cell_type": "code",
   "execution_count": 122,
   "id": "607b46a9-48ea-42c9-95bd-2cf833f8b57e",
   "metadata": {},
   "outputs": [
    {
     "data": {
      "text/plain": [
       "'pw skills data scienc'"
      ]
     },
     "execution_count": 122,
     "metadata": {},
     "output_type": "execute_result"
    }
   ],
   "source": [
    "string[:-1]  # return all the elememt except last one"
   ]
  },
  {
   "cell_type": "code",
   "execution_count": 124,
   "id": "6de08ba2-b329-45a6-a66e-85dc0fcf1ae5",
   "metadata": {},
   "outputs": [
    {
     "data": {
      "text/plain": [
       "'ecneics atad slliks wp'"
      ]
     },
     "execution_count": 124,
     "metadata": {},
     "output_type": "execute_result"
    }
   ],
   "source": [
    "string[::-1]  # it reverse the whole string"
   ]
  },
  {
   "cell_type": "code",
   "execution_count": 125,
   "id": "469270a0-7fb1-4112-b420-0165e9e622e6",
   "metadata": {},
   "outputs": [
    {
     "data": {
      "text/plain": [
       "'rt'"
      ]
     },
     "execution_count": 125,
     "metadata": {},
     "output_type": "execute_result"
    }
   ],
   "source": [
    "name = 'karthik'\n",
    "name[-5:4]"
   ]
  },
  {
   "cell_type": "code",
   "execution_count": 126,
   "id": "4fb67716-510f-4a39-808c-12bccae077f8",
   "metadata": {},
   "outputs": [
    {
     "data": {
      "text/plain": [
       "''"
      ]
     },
     "execution_count": 126,
     "metadata": {},
     "output_type": "execute_result"
    }
   ],
   "source": [
    "name[5:4]"
   ]
  },
  {
   "cell_type": "code",
   "execution_count": 127,
   "id": "5abcb984-6cae-4b18-8295-b250cc94e5fa",
   "metadata": {},
   "outputs": [
    {
     "data": {
      "text/plain": [
       "''"
      ]
     },
     "execution_count": 127,
     "metadata": {},
     "output_type": "execute_result"
    }
   ],
   "source": [
    "name[4:4]"
   ]
  },
  {
   "cell_type": "code",
   "execution_count": 128,
   "id": "f5924af1-c1bf-44e8-8fa2-0eaca5895dc0",
   "metadata": {},
   "outputs": [
    {
     "data": {
      "text/plain": [
       "'t'"
      ]
     },
     "execution_count": 128,
     "metadata": {},
     "output_type": "execute_result"
    }
   ],
   "source": [
    "name[3:4]"
   ]
  },
  {
   "cell_type": "code",
   "execution_count": 129,
   "id": "c4fe0481-d850-4c67-b19c-6afbaa6f4594",
   "metadata": {},
   "outputs": [
    {
     "data": {
      "text/plain": [
       "'pw skills data science'"
      ]
     },
     "execution_count": 129,
     "metadata": {},
     "output_type": "execute_result"
    }
   ],
   "source": [
    "string"
   ]
  },
  {
   "cell_type": "code",
   "execution_count": 130,
   "id": "6817982e-290c-419e-bf76-00438c39d1b8",
   "metadata": {},
   "outputs": [
    {
     "data": {
      "text/plain": [
       "'pw skills data science'"
      ]
     },
     "execution_count": 130,
     "metadata": {},
     "output_type": "execute_result"
    }
   ],
   "source": [
    "string[:]"
   ]
  },
  {
   "cell_type": "code",
   "execution_count": 131,
   "id": "51b5a913-e1f2-4b13-9b06-8948faa79320",
   "metadata": {},
   "outputs": [
    {
     "data": {
      "text/plain": [
       "'pw skills data science'"
      ]
     },
     "execution_count": 131,
     "metadata": {},
     "output_type": "execute_result"
    }
   ],
   "source": [
    "string[::]"
   ]
  },
  {
   "cell_type": "code",
   "execution_count": 132,
   "id": "62888b5d-1e02-4a60-9fe2-7529d8af6d70",
   "metadata": {},
   "outputs": [
    {
     "data": {
      "text/plain": [
       "'w skills data science'"
      ]
     },
     "execution_count": 132,
     "metadata": {},
     "output_type": "execute_result"
    }
   ],
   "source": [
    "string[1::]"
   ]
  },
  {
   "cell_type": "code",
   "execution_count": 133,
   "id": "96a1a9fa-b59f-45a2-9dbd-ee388f6d286b",
   "metadata": {},
   "outputs": [
    {
     "data": {
      "text/plain": [
       "'ecneics atad slliks wp'"
      ]
     },
     "execution_count": 133,
     "metadata": {},
     "output_type": "execute_result"
    }
   ],
   "source": [
    "string[::-1]"
   ]
  },
  {
   "cell_type": "code",
   "execution_count": 134,
   "id": "680a2ee6-4923-4883-a268-182ee79ca128",
   "metadata": {},
   "outputs": [
    {
     "data": {
      "text/plain": [
       "'enisaa lisw'"
      ]
     },
     "execution_count": 134,
     "metadata": {},
     "output_type": "execute_result"
    }
   ],
   "source": [
    "string[::-2] #extracting every 2nd element from last or backward\n"
   ]
  },
  {
   "cell_type": "code",
   "execution_count": 135,
   "id": "181bcd86-b1ea-4000-93bf-05f435e3d7e9",
   "metadata": {},
   "outputs": [
    {
     "data": {
      "text/plain": [
       "'eia iw'"
      ]
     },
     "execution_count": 135,
     "metadata": {},
     "output_type": "execute_result"
    }
   ],
   "source": [
    "string[::-4]"
   ]
  },
  {
   "cell_type": "code",
   "execution_count": 137,
   "id": "9f5a25a6-b657-43b1-8a98-cb69825d1460",
   "metadata": {},
   "outputs": [
    {
     "data": {
      "text/plain": [
       "'lls data science'"
      ]
     },
     "execution_count": 137,
     "metadata": {},
     "output_type": "execute_result"
    }
   ],
   "source": [
    "string[6::1] # returning all the element from 6 to last"
   ]
  },
  {
   "cell_type": "code",
   "execution_count": 138,
   "id": "e99ffd0b-8061-44f4-ae0f-6e395d013b69",
   "metadata": {},
   "outputs": [
    {
     "data": {
      "text/plain": [
       "'eest lsp'"
      ]
     },
     "execution_count": 138,
     "metadata": {},
     "output_type": "execute_result"
    }
   ],
   "source": [
    "string[::-3] # returning every third element from last "
   ]
  },
  {
   "cell_type": "code",
   "execution_count": 139,
   "id": "38b65387-5a85-4565-8b45-7b23df920c41",
   "metadata": {},
   "outputs": [
    {
     "data": {
      "text/plain": [
       "'ujnas'"
      ]
     },
     "execution_count": 139,
     "metadata": {},
     "output_type": "execute_result"
    }
   ],
   "source": [
    "name = 'sanju'\n",
    "name[::-1]"
   ]
  },
  {
   "cell_type": "code",
   "execution_count": 141,
   "id": "e36760a3-cb01-4657-93c1-c03d2185600f",
   "metadata": {},
   "outputs": [
    {
     "data": {
      "text/plain": [
       "'ahsin'"
      ]
     },
     "execution_count": 141,
     "metadata": {},
     "output_type": "execute_result"
    }
   ],
   "source": [
    "name2 = 'nisha'\n",
    "name2[::-1]"
   ]
  },
  {
   "cell_type": "code",
   "execution_count": 142,
   "id": "fb2ecafd-3a22-4f2e-aedc-f3dc3638850d",
   "metadata": {},
   "outputs": [
    {
     "data": {
      "text/plain": [
       "'peednas'"
      ]
     },
     "execution_count": 142,
     "metadata": {},
     "output_type": "execute_result"
    }
   ],
   "source": [
    "name='sandeep'\n",
    "name[::-1]"
   ]
  },
  {
   "cell_type": "code",
   "execution_count": 143,
   "id": "52d5fbd8-7364-4c6c-b079-576ca44fc328",
   "metadata": {},
   "outputs": [
    {
     "data": {
      "text/plain": [
       "'ahsinam'"
      ]
     },
     "execution_count": 143,
     "metadata": {},
     "output_type": "execute_result"
    }
   ],
   "source": [
    "name='manisha'\n",
    "name[::-1]"
   ]
  },
  {
   "cell_type": "code",
   "execution_count": 156,
   "id": "a52e3ec1-5e79-4d68-92f5-ce6715d67cd4",
   "metadata": {},
   "outputs": [
    {
     "data": {
      "text/plain": [
       "'ahen'"
      ]
     },
     "execution_count": 156,
     "metadata": {},
     "output_type": "execute_result"
    }
   ],
   "source": [
    "name='neha'\n",
    "name[::-1]"
   ]
  },
  {
   "cell_type": "code",
   "execution_count": 145,
   "id": "080a985f-3b67-42a3-90d0-aae01d7a849c",
   "metadata": {},
   "outputs": [
    {
     "data": {
      "text/plain": [
       "'lahin'"
      ]
     },
     "execution_count": 145,
     "metadata": {},
     "output_type": "execute_result"
    }
   ],
   "source": [
    "name='nihal'\n",
    "name[::-1]"
   ]
  },
  {
   "cell_type": "code",
   "execution_count": 146,
   "id": "65ef13eb-72e8-4cdd-9055-c5887f1e1121",
   "metadata": {},
   "outputs": [
    {
     "data": {
      "text/plain": [
       "'upeed'"
      ]
     },
     "execution_count": 146,
     "metadata": {},
     "output_type": "execute_result"
    }
   ],
   "source": [
    "name='deepu'\n",
    "name[::-1]"
   ]
  },
  {
   "cell_type": "code",
   "execution_count": 148,
   "id": "435b89d3-86eb-402e-9b22-1a5e0c9de20e",
   "metadata": {},
   "outputs": [
    {
     "data": {
      "text/plain": [
       "'iramukujnas'"
      ]
     },
     "execution_count": 148,
     "metadata": {},
     "output_type": "execute_result"
    }
   ],
   "source": [
    "name='sanjukumari'\n",
    "name[::-1]"
   ]
  },
  {
   "cell_type": "code",
   "execution_count": 163,
   "id": "ec63701e-a3e9-4707-a5d6-e78b6ead4f10",
   "metadata": {},
   "outputs": [
    {
     "data": {
      "text/plain": [
       "'yednapkapeed'"
      ]
     },
     "execution_count": 163,
     "metadata": {},
     "output_type": "execute_result"
    }
   ],
   "source": [
    "name='deepakpandey'\n",
    "name[::-1]"
   ]
  },
  {
   "cell_type": "code",
   "execution_count": 151,
   "id": "968c4f3e-9d30-4e24-a452-1566a3329e11",
   "metadata": {},
   "outputs": [
    {
     "data": {
      "text/plain": [
       "'dppd'"
      ]
     },
     "execution_count": 151,
     "metadata": {},
     "output_type": "execute_result"
    }
   ],
   "source": [
    "name[::3] # returning every third elememt in forward direction"
   ]
  },
  {
   "cell_type": "code",
   "execution_count": 153,
   "id": "6013f4d1-0991-47ba-804e-f9967ce785d0",
   "metadata": {},
   "outputs": [
    {
     "data": {
      "text/plain": [
       "'ynke'"
      ]
     },
     "execution_count": 153,
     "metadata": {},
     "output_type": "execute_result"
    }
   ],
   "source": [
    "name[::-3] # returning every third element from backward direcion"
   ]
  },
  {
   "cell_type": "code",
   "execution_count": 157,
   "id": "d44b0631-86d7-4177-8603-2f28f83dc3e8",
   "metadata": {},
   "outputs": [
    {
     "data": {
      "text/plain": [
       "'nehaneha'"
      ]
     },
     "execution_count": 157,
     "metadata": {},
     "output_type": "execute_result"
    }
   ],
   "source": [
    "name+name"
   ]
  },
  {
   "cell_type": "code",
   "execution_count": 158,
   "id": "869832cc-c149-4f16-b1b8-86e1de7d6328",
   "metadata": {},
   "outputs": [
    {
     "data": {
      "text/plain": [
       "'nehanehaneha'"
      ]
     },
     "execution_count": 158,
     "metadata": {},
     "output_type": "execute_result"
    }
   ],
   "source": [
    "name*3"
   ]
  },
  {
   "cell_type": "code",
   "execution_count": 159,
   "id": "1c707191-0725-4b7c-b675-e1c4b6500fb4",
   "metadata": {},
   "outputs": [
    {
     "data": {
      "text/plain": [
       "4"
      ]
     },
     "execution_count": 159,
     "metadata": {},
     "output_type": "execute_result"
    }
   ],
   "source": [
    "len(name)"
   ]
  },
  {
   "cell_type": "code",
   "execution_count": 162,
   "id": "d0be4b13-2144-48a7-96ff-0d7f3981d822",
   "metadata": {},
   "outputs": [
    {
     "data": {
      "text/plain": [
       "1"
      ]
     },
     "execution_count": 162,
     "metadata": {},
     "output_type": "execute_result"
    }
   ],
   "source": [
    "name.count('n')"
   ]
  },
  {
   "cell_type": "code",
   "execution_count": 164,
   "id": "b43367a7-20b4-47b9-a8ab-3f1b88be3e67",
   "metadata": {},
   "outputs": [
    {
     "data": {
      "text/plain": [
       "3"
      ]
     },
     "execution_count": 164,
     "metadata": {},
     "output_type": "execute_result"
    }
   ],
   "source": [
    "name.count('e')"
   ]
  },
  {
   "cell_type": "code",
   "execution_count": 165,
   "id": "cdd37d15-5248-41ef-8ff9-5cd5e1e57a86",
   "metadata": {},
   "outputs": [
    {
     "data": {
      "text/plain": [
       "['__add__',\n",
       " '__class__',\n",
       " '__contains__',\n",
       " '__delattr__',\n",
       " '__dir__',\n",
       " '__doc__',\n",
       " '__eq__',\n",
       " '__format__',\n",
       " '__ge__',\n",
       " '__getattribute__',\n",
       " '__getitem__',\n",
       " '__getnewargs__',\n",
       " '__gt__',\n",
       " '__hash__',\n",
       " '__init__',\n",
       " '__init_subclass__',\n",
       " '__iter__',\n",
       " '__le__',\n",
       " '__len__',\n",
       " '__lt__',\n",
       " '__mod__',\n",
       " '__mul__',\n",
       " '__ne__',\n",
       " '__new__',\n",
       " '__reduce__',\n",
       " '__reduce_ex__',\n",
       " '__repr__',\n",
       " '__rmod__',\n",
       " '__rmul__',\n",
       " '__setattr__',\n",
       " '__sizeof__',\n",
       " '__str__',\n",
       " '__subclasshook__',\n",
       " 'capitalize',\n",
       " 'casefold',\n",
       " 'center',\n",
       " 'count',\n",
       " 'encode',\n",
       " 'endswith',\n",
       " 'expandtabs',\n",
       " 'find',\n",
       " 'format',\n",
       " 'format_map',\n",
       " 'index',\n",
       " 'isalnum',\n",
       " 'isalpha',\n",
       " 'isascii',\n",
       " 'isdecimal',\n",
       " 'isdigit',\n",
       " 'isidentifier',\n",
       " 'islower',\n",
       " 'isnumeric',\n",
       " 'isprintable',\n",
       " 'isspace',\n",
       " 'istitle',\n",
       " 'isupper',\n",
       " 'join',\n",
       " 'ljust',\n",
       " 'lower',\n",
       " 'lstrip',\n",
       " 'maketrans',\n",
       " 'partition',\n",
       " 'removeprefix',\n",
       " 'removesuffix',\n",
       " 'replace',\n",
       " 'rfind',\n",
       " 'rindex',\n",
       " 'rjust',\n",
       " 'rpartition',\n",
       " 'rsplit',\n",
       " 'rstrip',\n",
       " 'split',\n",
       " 'splitlines',\n",
       " 'startswith',\n",
       " 'strip',\n",
       " 'swapcase',\n",
       " 'title',\n",
       " 'translate',\n",
       " 'upper',\n",
       " 'zfill']"
      ]
     },
     "execution_count": 165,
     "metadata": {},
     "output_type": "execute_result"
    }
   ],
   "source": [
    "dir(str)"
   ]
  },
  {
   "cell_type": "code",
   "execution_count": 166,
   "id": "2a9980bb-878c-4444-a4b0-3f763336922f",
   "metadata": {},
   "outputs": [
    {
     "data": {
      "text/plain": [
       "['__abs__',\n",
       " '__add__',\n",
       " '__and__',\n",
       " '__bool__',\n",
       " '__ceil__',\n",
       " '__class__',\n",
       " '__delattr__',\n",
       " '__dir__',\n",
       " '__divmod__',\n",
       " '__doc__',\n",
       " '__eq__',\n",
       " '__float__',\n",
       " '__floor__',\n",
       " '__floordiv__',\n",
       " '__format__',\n",
       " '__ge__',\n",
       " '__getattribute__',\n",
       " '__getnewargs__',\n",
       " '__gt__',\n",
       " '__hash__',\n",
       " '__index__',\n",
       " '__init__',\n",
       " '__init_subclass__',\n",
       " '__int__',\n",
       " '__invert__',\n",
       " '__le__',\n",
       " '__lshift__',\n",
       " '__lt__',\n",
       " '__mod__',\n",
       " '__mul__',\n",
       " '__ne__',\n",
       " '__neg__',\n",
       " '__new__',\n",
       " '__or__',\n",
       " '__pos__',\n",
       " '__pow__',\n",
       " '__radd__',\n",
       " '__rand__',\n",
       " '__rdivmod__',\n",
       " '__reduce__',\n",
       " '__reduce_ex__',\n",
       " '__repr__',\n",
       " '__rfloordiv__',\n",
       " '__rlshift__',\n",
       " '__rmod__',\n",
       " '__rmul__',\n",
       " '__ror__',\n",
       " '__round__',\n",
       " '__rpow__',\n",
       " '__rrshift__',\n",
       " '__rshift__',\n",
       " '__rsub__',\n",
       " '__rtruediv__',\n",
       " '__rxor__',\n",
       " '__setattr__',\n",
       " '__sizeof__',\n",
       " '__str__',\n",
       " '__sub__',\n",
       " '__subclasshook__',\n",
       " '__truediv__',\n",
       " '__trunc__',\n",
       " '__xor__',\n",
       " 'as_integer_ratio',\n",
       " 'bit_count',\n",
       " 'bit_length',\n",
       " 'conjugate',\n",
       " 'denominator',\n",
       " 'from_bytes',\n",
       " 'imag',\n",
       " 'numerator',\n",
       " 'real',\n",
       " 'to_bytes']"
      ]
     },
     "execution_count": 166,
     "metadata": {},
     "output_type": "execute_result"
    }
   ],
   "source": [
    "dir(int)"
   ]
  },
  {
   "cell_type": "code",
   "execution_count": 167,
   "id": "83a14c8a-4e20-419c-b838-03bdbdcd7358",
   "metadata": {},
   "outputs": [
    {
     "data": {
      "text/plain": [
       "8"
      ]
     },
     "execution_count": 167,
     "metadata": {},
     "output_type": "execute_result"
    }
   ],
   "source": [
    "name.find('n')"
   ]
  },
  {
   "cell_type": "code",
   "execution_count": 171,
   "id": "8218c7df-72ac-4355-83d6-5dec3f7f4c25",
   "metadata": {},
   "outputs": [],
   "source": [
    "name='pw skills master classes'"
   ]
  },
  {
   "cell_type": "code",
   "execution_count": 172,
   "id": "98354a98-23e6-448a-880a-ae1e37a26740",
   "metadata": {},
   "outputs": [
    {
     "data": {
      "text/plain": [
       "['pw', 'skills', 'master', 'classes']"
      ]
     },
     "execution_count": 172,
     "metadata": {},
     "output_type": "execute_result"
    }
   ],
   "source": [
    "name.split(' ')"
   ]
  },
  {
   "cell_type": "code",
   "execution_count": 174,
   "id": "9972ef27-e04a-4d65-9f60-4f223067bb12",
   "metadata": {},
   "outputs": [
    {
     "data": {
      "text/plain": [
       "['pw ', 'kill', ' ma', 'ter cla', '', 'e', '']"
      ]
     },
     "execution_count": 174,
     "metadata": {},
     "output_type": "execute_result"
    }
   ],
   "source": [
    "name.split('s')"
   ]
  },
  {
   "cell_type": "code",
   "execution_count": 175,
   "id": "92d3c29c-3da0-4db2-ad72-46c42a82dd32",
   "metadata": {},
   "outputs": [
    {
     "data": {
      "text/plain": [
       "('pw ', 's', 'kills master classes')"
      ]
     },
     "execution_count": 175,
     "metadata": {},
     "output_type": "execute_result"
    }
   ],
   "source": [
    "name.partition('s')"
   ]
  },
  {
   "cell_type": "code",
   "execution_count": 176,
   "id": "9e20c808-5761-42e8-9c76-ee4654d391a6",
   "metadata": {},
   "outputs": [
    {
     "data": {
      "text/plain": [
       "'PW SKILLS MASTER CLASSES'"
      ]
     },
     "execution_count": 176,
     "metadata": {},
     "output_type": "execute_result"
    }
   ],
   "source": [
    "name.upper()"
   ]
  },
  {
   "cell_type": "code",
   "execution_count": 177,
   "id": "1090a869-c193-40a6-9484-025a775dbcfc",
   "metadata": {},
   "outputs": [
    {
     "data": {
      "text/plain": [
       "'pw skills master classes'"
      ]
     },
     "execution_count": 177,
     "metadata": {},
     "output_type": "execute_result"
    }
   ],
   "source": [
    "name.lower()"
   ]
  },
  {
   "cell_type": "code",
   "execution_count": 178,
   "id": "35fde547-6b06-4020-986a-e4d95ed8a499",
   "metadata": {},
   "outputs": [
    {
     "data": {
      "text/plain": [
       "'Pw Skills Master Classes'"
      ]
     },
     "execution_count": 178,
     "metadata": {},
     "output_type": "execute_result"
    }
   ],
   "source": [
    "name.title()"
   ]
  },
  {
   "cell_type": "code",
   "execution_count": 179,
   "id": "ff52c2fb-98f2-44ac-903e-681293ddecea",
   "metadata": {},
   "outputs": [
    {
     "data": {
      "text/plain": [
       "'PW SKILLS MASTER CLASSES'"
      ]
     },
     "execution_count": 179,
     "metadata": {},
     "output_type": "execute_result"
    }
   ],
   "source": [
    "name.swapcase()"
   ]
  },
  {
   "cell_type": "code",
   "execution_count": 180,
   "id": "72341183-0fd6-424b-8375-26cd398d75ac",
   "metadata": {},
   "outputs": [],
   "source": [
    "s= 'i wanna go goa for weekend holidays'"
   ]
  },
  {
   "cell_type": "code",
   "execution_count": 181,
   "id": "6c0d52e3-858b-472d-8bd2-7eb05426055b",
   "metadata": {},
   "outputs": [
    {
     "data": {
      "text/plain": [
       "'i wanna go goa for weekend holidays'"
      ]
     },
     "execution_count": 181,
     "metadata": {},
     "output_type": "execute_result"
    }
   ],
   "source": [
    "s"
   ]
  },
  {
   "cell_type": "code",
   "execution_count": 182,
   "id": "b5a23d0d-3485-4c20-8023-9f7e98926379",
   "metadata": {},
   "outputs": [
    {
     "data": {
      "text/plain": [
       "'i wanna go goa for weekend holidays'"
      ]
     },
     "execution_count": 182,
     "metadata": {},
     "output_type": "execute_result"
    }
   ],
   "source": [
    "s[:]"
   ]
  },
  {
   "cell_type": "code",
   "execution_count": 183,
   "id": "0523a671-0d3a-4d41-a043-93c8e6aaacb3",
   "metadata": {},
   "outputs": [
    {
     "data": {
      "text/plain": [
       "'syadiloh dnekeew rof aog og annaw i'"
      ]
     },
     "execution_count": 183,
     "metadata": {},
     "output_type": "execute_result"
    }
   ],
   "source": [
    "s[::-1]"
   ]
  },
  {
   "cell_type": "code",
   "execution_count": 184,
   "id": "e4ebf197-7f81-4b61-9a72-58efd33e41b0",
   "metadata": {},
   "outputs": [
    {
     "data": {
      "text/plain": [
       "'wanna'"
      ]
     },
     "execution_count": 184,
     "metadata": {},
     "output_type": "execute_result"
    }
   ],
   "source": [
    "s[2:7]"
   ]
  },
  {
   "cell_type": "code",
   "execution_count": 185,
   "id": "475b07e2-5ebc-4065-af99-e258ffe604a9",
   "metadata": {},
   "outputs": [
    {
     "data": {
      "text/plain": [
       "'go'"
      ]
     },
     "execution_count": 185,
     "metadata": {},
     "output_type": "execute_result"
    }
   ],
   "source": [
    "s[8:10]"
   ]
  },
  {
   "cell_type": "code",
   "execution_count": 186,
   "id": "1458fd30-91b0-4c20-a604-32f5f844845a",
   "metadata": {},
   "outputs": [
    {
     "data": {
      "text/plain": [
       "'goa'"
      ]
     },
     "execution_count": 186,
     "metadata": {},
     "output_type": "execute_result"
    }
   ],
   "source": [
    "s[11:14]"
   ]
  },
  {
   "cell_type": "code",
   "execution_count": 187,
   "id": "c4ce89eb-54c9-423e-9d00-08eda18e8cdb",
   "metadata": {},
   "outputs": [
    {
     "data": {
      "text/plain": [
       "'s'"
      ]
     },
     "execution_count": 187,
     "metadata": {},
     "output_type": "execute_result"
    }
   ],
   "source": [
    "s[-1]"
   ]
  },
  {
   "cell_type": "code",
   "execution_count": 188,
   "id": "b35eb86e-d106-4e5c-9c21-abec8a0d1e60",
   "metadata": {},
   "outputs": [
    {
     "data": {
      "text/plain": [
       "'d'"
      ]
     },
     "execution_count": 188,
     "metadata": {},
     "output_type": "execute_result"
    }
   ],
   "source": [
    "s[-4]"
   ]
  },
  {
   "cell_type": "code",
   "execution_count": 189,
   "id": "2d898526-30f4-4f7c-aa27-27bb123a1a9d",
   "metadata": {},
   "outputs": [
    {
     "data": {
      "text/plain": [
       "'nna g'"
      ]
     },
     "execution_count": 189,
     "metadata": {},
     "output_type": "execute_result"
    }
   ],
   "source": [
    "s[4:9]"
   ]
  },
  {
   "cell_type": "code",
   "execution_count": 192,
   "id": "3a1534ed-6e91-4a6f-a0dc-045f35d2c9b6",
   "metadata": {},
   "outputs": [
    {
     "data": {
      "text/plain": [
       "'aoei'"
      ]
     },
     "execution_count": 192,
     "metadata": {},
     "output_type": "execute_result"
    }
   ],
   "source": [
    "s[3::9]"
   ]
  },
  {
   "cell_type": "markdown",
   "id": "3791c458-c1e4-48f5-bc7d-36c6ae7a487e",
   "metadata": {},
   "source": [
    "# strings"
   ]
  },
  {
   "cell_type": "code",
   "execution_count": 2,
   "id": "5be4bc2b-60b5-43ff-ab12-4d0e78644650",
   "metadata": {},
   "outputs": [
    {
     "data": {
      "text/plain": [
       "'welcome to the data sciencemaster'"
      ]
     },
     "execution_count": 2,
     "metadata": {},
     "output_type": "execute_result"
    }
   ],
   "source": [
    "'anju'\n",
    "'welcome ot the data science master'\n",
    "# anything in double and single quote are strings\n",
    "str1 = 'welcome to the data sciencemaster'\n",
    "str1"
   ]
  },
  {
   "cell_type": "code",
   "execution_count": 3,
   "id": "1f553a58-ea6a-4684-9b5a-917a3b49f158",
   "metadata": {},
   "outputs": [
    {
     "data": {
      "text/plain": [
       "str"
      ]
     },
     "execution_count": 3,
     "metadata": {},
     "output_type": "execute_result"
    }
   ],
   "source": [
    "type(str1)"
   ]
  },
  {
   "cell_type": "code",
   "execution_count": 4,
   "id": "84a7d23e-3c41-4145-a4fa-0b3ac6ef8e21",
   "metadata": {},
   "outputs": [
    {
     "data": {
      "text/plain": [
       "'w'"
      ]
     },
     "execution_count": 4,
     "metadata": {},
     "output_type": "execute_result"
    }
   ],
   "source": [
    "# can we do index wise function in string ---yes\n",
    "str1[0]"
   ]
  },
  {
   "cell_type": "code",
   "execution_count": 5,
   "id": "4c7a5de9-40f4-4fa8-8126-2ed1c9d245d9",
   "metadata": {},
   "outputs": [
    {
     "ename": "TypeError",
     "evalue": "'str' object does not support item assignment",
     "output_type": "error",
     "traceback": [
      "\u001b[0;31m---------------------------------------------------------------------------\u001b[0m",
      "\u001b[0;31mTypeError\u001b[0m                                 Traceback (most recent call last)",
      "Cell \u001b[0;32mIn[5], line 2\u001b[0m\n\u001b[1;32m      1\u001b[0m \u001b[38;5;66;03m# can we change this str[0]\u001b[39;00m\n\u001b[0;32m----> 2\u001b[0m \u001b[43mstr1\u001b[49m\u001b[43m[\u001b[49m\u001b[38;5;241;43m0\u001b[39;49m\u001b[43m]\u001b[49m \u001b[38;5;241m=\u001b[39m \u001b[38;5;124m'\u001b[39m\u001b[38;5;124msanju\u001b[39m\u001b[38;5;124m'\u001b[39m\n",
      "\u001b[0;31mTypeError\u001b[0m: 'str' object does not support item assignment"
     ]
    }
   ],
   "source": [
    "# can we change this str[0]  n0\n",
    "str1[0] = 'sanju'"
   ]
  },
  {
   "cell_type": "code",
   "execution_count": 7,
   "id": "46c8a6d0-c8b5-41cd-86d6-4ae32e780a6e",
   "metadata": {},
   "outputs": [
    {
     "data": {
      "text/plain": [
       "'sanju kumari'"
      ]
     },
     "execution_count": 7,
     "metadata": {},
     "output_type": "execute_result"
    }
   ],
   "source": [
    "# can we iterate this string? yes\n",
    "# can we access the element presenti in string...yes\n",
    "# can we change the element with some other element ---no\n",
    "str1 ='sanju kumari' # we can replace whole string but can change\n",
    "# particular char like s a n j u \n",
    "str1"
   ]
  },
  {
   "cell_type": "code",
   "execution_count": 8,
   "id": "58b3430a-87e7-4ef8-87ad-ab21c2ff975a",
   "metadata": {},
   "outputs": [
    {
     "data": {
      "text/plain": [
       "'manisha'"
      ]
     },
     "execution_count": 8,
     "metadata": {},
     "output_type": "execute_result"
    }
   ],
   "source": [
    "str1='manisha'\n",
    "str1  # we replace whole string but cannot replace m with s in it\n"
   ]
  },
  {
   "cell_type": "code",
   "execution_count": 9,
   "id": "36dcef7b-fa24-4acf-8546-2158441f4979",
   "metadata": {},
   "outputs": [
    {
     "name": "stdout",
     "output_type": "stream",
     "text": [
      "m <class 'str'>\n",
      "a <class 'str'>\n",
      "n <class 'str'>\n",
      "i <class 'str'>\n",
      "s <class 'str'>\n",
      "h <class 'str'>\n",
      "a <class 'str'>\n"
     ]
    }
   ],
   "source": [
    "for i in str1:\n",
    "    print(i,type(i))"
   ]
  },
  {
   "cell_type": "code",
   "execution_count": 11,
   "id": "40b91acd-c06c-4d3c-b2a7-9efc8a44df1b",
   "metadata": {},
   "outputs": [
    {
     "data": {
      "text/plain": [
       "['m', 'a', 'n', 'i', 's', 'h', 'a']"
      ]
     },
     "execution_count": 11,
     "metadata": {},
     "output_type": "execute_result"
    }
   ],
   "source": [
    "[i for i in str1]"
   ]
  },
  {
   "cell_type": "code",
   "execution_count": 13,
   "id": "17a41fa6-b17c-4baf-a5f8-71f4b0cd5d18",
   "metadata": {},
   "outputs": [
    {
     "name": "stdout",
     "output_type": "stream",
     "text": [
      "a\n",
      "h\n",
      "s\n",
      "i\n",
      "n\n",
      "a\n",
      "m\n"
     ]
    }
   ],
   "source": [
    "for i in range(len(str1)): #reverse of string\n",
    "    print(str1[(len(str1)-(i+1))])"
   ]
  },
  {
   "cell_type": "code",
   "execution_count": 14,
   "id": "8afa9f49-0801-466d-8c92-109261fa8fd7",
   "metadata": {},
   "outputs": [
    {
     "data": {
      "text/plain": [
       "'mapisha'"
      ]
     },
     "execution_count": 14,
     "metadata": {},
     "output_type": "execute_result"
    }
   ],
   "source": [
    "str1.replace('n','p') #here we are replacing n with p by in-built function"
   ]
  },
  {
   "cell_type": "code",
   "execution_count": 15,
   "id": "7be80ecd-52ee-4b76-9b52-37e6303ec2ac",
   "metadata": {},
   "outputs": [
    {
     "data": {
      "text/plain": [
       "'Manisha'"
      ]
     },
     "execution_count": 15,
     "metadata": {},
     "output_type": "execute_result"
    }
   ],
   "source": [
    "str1.capitalize()"
   ]
  },
  {
   "cell_type": "code",
   "execution_count": 16,
   "id": "7c372a31-0d42-4817-8e47-50d0caf8a529",
   "metadata": {},
   "outputs": [
    {
     "data": {
      "text/plain": [
       "'manisha'"
      ]
     },
     "execution_count": 16,
     "metadata": {},
     "output_type": "execute_result"
    }
   ],
   "source": [
    "str1.format(2,4)"
   ]
  },
  {
   "cell_type": "code",
   "execution_count": 18,
   "id": "9fe92a6c-d038-4ff5-9272-0015b7267525",
   "metadata": {},
   "outputs": [
    {
     "data": {
      "text/plain": [
       "-1"
      ]
     },
     "execution_count": 18,
     "metadata": {},
     "output_type": "execute_result"
    }
   ],
   "source": [
    "str1.find('n',4)"
   ]
  },
  {
   "cell_type": "code",
   "execution_count": 19,
   "id": "2c73ecd5-d2a6-4dee-a048-6a489094fa85",
   "metadata": {},
   "outputs": [
    {
     "data": {
      "text/plain": [
       "-1"
      ]
     },
     "execution_count": 19,
     "metadata": {},
     "output_type": "execute_result"
    }
   ],
   "source": [
    "str1.find('m',1)"
   ]
  },
  {
   "cell_type": "code",
   "execution_count": 20,
   "id": "73d72415-565d-48d8-811c-e08ab1fbab7f",
   "metadata": {},
   "outputs": [
    {
     "data": {
      "text/plain": [
       "'pw skills data science'"
      ]
     },
     "execution_count": 20,
     "metadata": {},
     "output_type": "execute_result"
    }
   ],
   "source": [
    "string = 'pw skills data science'\n",
    "string"
   ]
  },
  {
   "cell_type": "code",
   "execution_count": 21,
   "id": "0631181e-6c08-4ec5-a431-d3cebe5b0473",
   "metadata": {},
   "outputs": [
    {
     "data": {
      "text/plain": [
       "'i'"
      ]
     },
     "execution_count": 21,
     "metadata": {},
     "output_type": "execute_result"
    }
   ],
   "source": [
    "string[5] # extracting 5 th element from forward direction"
   ]
  },
  {
   "cell_type": "markdown",
   "id": "67b3ea1a-3a8c-40f2-bd9d-585466048030",
   "metadata": {},
   "source": [
    "# slicing operation with string\n",
    "####  indexing concept can be used in string"
   ]
  },
  {
   "cell_type": "code",
   "execution_count": 32,
   "id": "261d1434-36f5-42ee-a6a1-d828ead76df6",
   "metadata": {},
   "outputs": [
    {
     "data": {
      "text/plain": [
       "'pw skills data science'"
      ]
     },
     "execution_count": 32,
     "metadata": {},
     "output_type": "execute_result"
    }
   ],
   "source": [
    "string"
   ]
  },
  {
   "cell_type": "code",
   "execution_count": 23,
   "id": "ce095d1c-75d1-4fed-b1ca-3582ac75ad3c",
   "metadata": {},
   "outputs": [
    {
     "data": {
      "text/plain": [
       "'l'"
      ]
     },
     "execution_count": 23,
     "metadata": {},
     "output_type": "execute_result"
    }
   ],
   "source": [
    "string[6]"
   ]
  },
  {
   "cell_type": "code",
   "execution_count": 24,
   "id": "22ef5355-ed64-4bd4-8915-3fa71c1599b9",
   "metadata": {},
   "outputs": [
    {
     "data": {
      "text/plain": [
       "' sk'"
      ]
     },
     "execution_count": 24,
     "metadata": {},
     "output_type": "execute_result"
    }
   ],
   "source": [
    "string[2:5]"
   ]
  },
  {
   "cell_type": "code",
   "execution_count": 25,
   "id": "fe13c618-4df0-4931-bb55-a7b08c563521",
   "metadata": {},
   "outputs": [
    {
     "data": {
      "text/plain": [
       "'e'"
      ]
     },
     "execution_count": 25,
     "metadata": {},
     "output_type": "execute_result"
    }
   ],
   "source": [
    "string[-1]"
   ]
  },
  {
   "cell_type": "code",
   "execution_count": 26,
   "id": "b3b2c265-54c0-43b3-95cc-90734c982cb7",
   "metadata": {},
   "outputs": [
    {
     "data": {
      "text/plain": [
       "'n'"
      ]
     },
     "execution_count": 26,
     "metadata": {},
     "output_type": "execute_result"
    }
   ],
   "source": [
    "string[-3]"
   ]
  },
  {
   "cell_type": "code",
   "execution_count": 27,
   "id": "a1e71c63-c32c-4314-883b-f975f17358a3",
   "metadata": {},
   "outputs": [
    {
     "data": {
      "text/plain": [
       "'pw skills data scien'"
      ]
     },
     "execution_count": 27,
     "metadata": {},
     "output_type": "execute_result"
    }
   ],
   "source": [
    "string[0:-2]"
   ]
  },
  {
   "cell_type": "code",
   "execution_count": 28,
   "id": "d3cc3ae3-d222-42df-8986-82838dcdfc4f",
   "metadata": {},
   "outputs": [
    {
     "data": {
      "text/plain": [
       "'e'"
      ]
     },
     "execution_count": 28,
     "metadata": {},
     "output_type": "execute_result"
    }
   ],
   "source": [
    "string[-1:]"
   ]
  },
  {
   "cell_type": "code",
   "execution_count": 31,
   "id": "97878866-7dea-4542-9943-39c769c8e484",
   "metadata": {},
   "outputs": [
    {
     "data": {
      "text/plain": [
       "'science'"
      ]
     },
     "execution_count": 31,
     "metadata": {},
     "output_type": "execute_result"
    }
   ],
   "source": [
    "string[-7:]"
   ]
  },
  {
   "cell_type": "code",
   "execution_count": 33,
   "id": "35cfac68-9a3a-4721-aa67-67c2768d0a92",
   "metadata": {},
   "outputs": [
    {
     "data": {
      "text/plain": [
       "'pw skills data science'"
      ]
     },
     "execution_count": 33,
     "metadata": {},
     "output_type": "execute_result"
    }
   ],
   "source": [
    "string"
   ]
  },
  {
   "cell_type": "code",
   "execution_count": 34,
   "id": "fafd5228-e57b-4527-a3ac-1d3420f43b2e",
   "metadata": {},
   "outputs": [
    {
     "data": {
      "text/plain": [
       "'ience'"
      ]
     },
     "execution_count": 34,
     "metadata": {},
     "output_type": "execute_result"
    }
   ],
   "source": [
    "string[-5:]"
   ]
  },
  {
   "cell_type": "code",
   "execution_count": 35,
   "id": "1ef79832-3166-43a5-8975-362f4256e2d5",
   "metadata": {},
   "outputs": [
    {
     "data": {
      "text/plain": [
       "''"
      ]
     },
     "execution_count": 35,
     "metadata": {},
     "output_type": "execute_result"
    }
   ],
   "source": [
    "string[-7:9]"
   ]
  },
  {
   "cell_type": "code",
   "execution_count": 36,
   "id": "cb4cadcb-f656-489f-96a6-2fb1bcdc38c8",
   "metadata": {},
   "outputs": [
    {
     "data": {
      "text/plain": [
       "''"
      ]
     },
     "execution_count": 36,
     "metadata": {},
     "output_type": "execute_result"
    }
   ],
   "source": [
    "string[-7:7]"
   ]
  },
  {
   "cell_type": "code",
   "execution_count": 37,
   "id": "d40c97b6-38f2-43c7-b96b-24a0563d7317",
   "metadata": {},
   "outputs": [
    {
     "data": {
      "text/plain": [
       "22"
      ]
     },
     "execution_count": 37,
     "metadata": {},
     "output_type": "execute_result"
    }
   ],
   "source": [
    "len(string)"
   ]
  },
  {
   "cell_type": "code",
   "execution_count": 38,
   "id": "a02b4d1d-c0a1-4482-a782-3fff6ec11e44",
   "metadata": {},
   "outputs": [
    {
     "data": {
      "text/plain": [
       "'w'"
      ]
     },
     "execution_count": 38,
     "metadata": {},
     "output_type": "execute_result"
    }
   ],
   "source": [
    "max(string)"
   ]
  },
  {
   "cell_type": "code",
   "execution_count": 39,
   "id": "db5b9c50-b641-4986-ae97-4e9190cc807e",
   "metadata": {},
   "outputs": [
    {
     "data": {
      "text/plain": [
       "' '"
      ]
     },
     "execution_count": 39,
     "metadata": {},
     "output_type": "execute_result"
    }
   ],
   "source": [
    "min(string)"
   ]
  },
  {
   "cell_type": "code",
   "execution_count": 40,
   "id": "94d72630-38f9-40cb-a109-8f6b6a802cf3",
   "metadata": {},
   "outputs": [
    {
     "data": {
      "text/plain": [
       "'pw skills data science'"
      ]
     },
     "execution_count": 40,
     "metadata": {},
     "output_type": "execute_result"
    }
   ],
   "source": [
    "string[:]"
   ]
  },
  {
   "cell_type": "code",
   "execution_count": 41,
   "id": "3f38b763-2aa2-405c-8350-3b52d097be2f",
   "metadata": {},
   "outputs": [
    {
     "data": {
      "text/plain": [
       "'ecneics atad slliks wp'"
      ]
     },
     "execution_count": 41,
     "metadata": {},
     "output_type": "execute_result"
    }
   ],
   "source": [
    "string[::-1]"
   ]
  },
  {
   "cell_type": "code",
   "execution_count": 42,
   "id": "21c470d0-fc4e-4c5e-b949-ecb4e4ce14c0",
   "metadata": {},
   "outputs": [
    {
     "data": {
      "text/plain": [
       "'rt'"
      ]
     },
     "execution_count": 42,
     "metadata": {},
     "output_type": "execute_result"
    }
   ],
   "source": [
    "name = 'karthik'\n",
    "name[-5:4]"
   ]
  },
  {
   "cell_type": "code",
   "execution_count": 43,
   "id": "4e6abc20-2e8c-4b79-adc0-69312e65e2bc",
   "metadata": {},
   "outputs": [
    {
     "data": {
      "text/plain": [
       "'t'"
      ]
     },
     "execution_count": 43,
     "metadata": {},
     "output_type": "execute_result"
    }
   ],
   "source": [
    "name[3:-3]"
   ]
  },
  {
   "cell_type": "code",
   "execution_count": 44,
   "id": "03ce7895-27a0-4382-aa26-5335cdfff569",
   "metadata": {},
   "outputs": [
    {
     "data": {
      "text/plain": [
       "''"
      ]
     },
     "execution_count": 44,
     "metadata": {},
     "output_type": "execute_result"
    }
   ],
   "source": [
    "name[5:4]"
   ]
  },
  {
   "cell_type": "code",
   "execution_count": 45,
   "id": "b4245c55-02d3-4b27-896d-92e98a1fc842",
   "metadata": {},
   "outputs": [
    {
     "data": {
      "text/plain": [
       "''"
      ]
     },
     "execution_count": 45,
     "metadata": {},
     "output_type": "execute_result"
    }
   ],
   "source": [
    "name[4:4]"
   ]
  },
  {
   "cell_type": "markdown",
   "id": "5bf3b79f-adaf-4cea-847b-1d13381c61ab",
   "metadata": {},
   "source": []
  },
  {
   "cell_type": "code",
   "execution_count": 46,
   "id": "3446d60f-cc0b-4a4d-b888-3f53ee63d5bb",
   "metadata": {},
   "outputs": [
    {
     "data": {
      "text/plain": [
       "'t'"
      ]
     },
     "execution_count": 46,
     "metadata": {},
     "output_type": "execute_result"
    }
   ],
   "source": [
    "name[3:4]"
   ]
  },
  {
   "cell_type": "code",
   "execution_count": 47,
   "id": "e45750a5-4366-448e-863a-f34a7206e3bf",
   "metadata": {},
   "outputs": [
    {
     "data": {
      "text/plain": [
       "'pw skills data science'"
      ]
     },
     "execution_count": 47,
     "metadata": {},
     "output_type": "execute_result"
    }
   ],
   "source": [
    "string"
   ]
  },
  {
   "cell_type": "code",
   "execution_count": 48,
   "id": "9931c94a-1b55-4289-ace7-c103dfbdb070",
   "metadata": {},
   "outputs": [
    {
     "data": {
      "text/plain": [
       "'pw skills data science'"
      ]
     },
     "execution_count": 48,
     "metadata": {},
     "output_type": "execute_result"
    }
   ],
   "source": [
    "string[:]"
   ]
  },
  {
   "cell_type": "code",
   "execution_count": 49,
   "id": "21ce1057-c686-4705-b812-89425c1fa099",
   "metadata": {},
   "outputs": [
    {
     "data": {
      "text/plain": [
       "'pw skills data science'"
      ]
     },
     "execution_count": 49,
     "metadata": {},
     "output_type": "execute_result"
    }
   ],
   "source": [
    "string[::]"
   ]
  },
  {
   "cell_type": "code",
   "execution_count": 50,
   "id": "2f4bb625-99da-4afc-b7a4-43efe53b84b1",
   "metadata": {},
   "outputs": [
    {
     "data": {
      "text/plain": [
       "'ecneics atad slliks wp'"
      ]
     },
     "execution_count": 50,
     "metadata": {},
     "output_type": "execute_result"
    }
   ],
   "source": [
    "string[::-1]"
   ]
  },
  {
   "cell_type": "code",
   "execution_count": 51,
   "id": "a9eab219-82dd-47c0-b797-562b9a0e9faf",
   "metadata": {},
   "outputs": [
    {
     "data": {
      "text/plain": [
       "'enisaa lisw'"
      ]
     },
     "execution_count": 51,
     "metadata": {},
     "output_type": "execute_result"
    }
   ],
   "source": [
    "string[::-2] # return every second element from lasts"
   ]
  },
  {
   "cell_type": "code",
   "execution_count": 52,
   "id": "a60ef8dd-8b81-4aab-a9c9-a9251e655197",
   "metadata": {},
   "outputs": [
    {
     "data": {
      "text/plain": [
       "' skills data science'"
      ]
     },
     "execution_count": 52,
     "metadata": {},
     "output_type": "execute_result"
    }
   ],
   "source": [
    "string[2::] # return element from second index in forward directin"
   ]
  },
  {
   "cell_type": "code",
   "execution_count": 53,
   "id": "5bc8eb3c-ec30-4b26-8d00-c24961390acb",
   "metadata": {},
   "outputs": [
    {
     "data": {
      "text/plain": [
       "'pw skills data scienc'"
      ]
     },
     "execution_count": 53,
     "metadata": {},
     "output_type": "execute_result"
    }
   ],
   "source": [
    "string[:-1]"
   ]
  },
  {
   "cell_type": "code",
   "execution_count": 54,
   "id": "b99347cf-abf0-41ec-83e9-3196c57d74e1",
   "metadata": {},
   "outputs": [
    {
     "data": {
      "text/plain": [
       "'enisaa lisw'"
      ]
     },
     "execution_count": 54,
     "metadata": {},
     "output_type": "execute_result"
    }
   ],
   "source": [
    "string[::-2]"
   ]
  },
  {
   "cell_type": "code",
   "execution_count": 55,
   "id": "710a96a0-b110-4251-a15a-948ec6bc2d41",
   "metadata": {},
   "outputs": [
    {
     "data": {
      "text/plain": [
       "''"
      ]
     },
     "execution_count": 55,
     "metadata": {},
     "output_type": "execute_result"
    }
   ],
   "source": [
    "string[6:1]"
   ]
  },
  {
   "cell_type": "code",
   "execution_count": 56,
   "id": "238336fa-6205-4a5d-b2db-403164361659",
   "metadata": {},
   "outputs": [
    {
     "data": {
      "text/plain": [
       "'lls data science'"
      ]
     },
     "execution_count": 56,
     "metadata": {},
     "output_type": "execute_result"
    }
   ],
   "source": [
    "string[6::1]"
   ]
  },
  {
   "cell_type": "code",
   "execution_count": 57,
   "id": "dcbeb300-f6b3-4831-8b87-dd4db76ddedd",
   "metadata": {},
   "outputs": [
    {
     "data": {
      "text/plain": [
       "'eest lsp'"
      ]
     },
     "execution_count": 57,
     "metadata": {},
     "output_type": "execute_result"
    }
   ],
   "source": [
    "string[::-3] # return every last 3 element after revering"
   ]
  },
  {
   "cell_type": "code",
   "execution_count": 58,
   "id": "047ae8f9-c294-421f-a42d-53f7f6d67d19",
   "metadata": {},
   "outputs": [
    {
     "data": {
      "text/plain": [
       "'pw skills data science'"
      ]
     },
     "execution_count": 58,
     "metadata": {},
     "output_type": "execute_result"
    }
   ],
   "source": [
    "string"
   ]
  },
  {
   "cell_type": "code",
   "execution_count": 59,
   "id": "885e0ad1-3f88-4b59-aa00-af29bf3d32c3",
   "metadata": {},
   "outputs": [
    {
     "data": {
      "text/plain": [
       "'iramukujnas'"
      ]
     },
     "execution_count": 59,
     "metadata": {},
     "output_type": "execute_result"
    }
   ],
   "source": [
    "name='sanjukumari'\n",
    "name[::-1]"
   ]
  },
  {
   "cell_type": "code",
   "execution_count": 60,
   "id": "fad58314-b1e8-4b98-b1d2-1747c2c59f72",
   "metadata": {},
   "outputs": [
    {
     "data": {
      "text/plain": [
       "'iauuns'"
      ]
     },
     "execution_count": 60,
     "metadata": {},
     "output_type": "execute_result"
    }
   ],
   "source": [
    "name[::-2]"
   ]
  },
  {
   "cell_type": "code",
   "execution_count": 61,
   "id": "91fd4bd1-56c0-4629-b21a-c1ab7907a76a",
   "metadata": {},
   "outputs": [
    {
     "data": {
      "text/plain": [
       "'imua'"
      ]
     },
     "execution_count": 61,
     "metadata": {},
     "output_type": "execute_result"
    }
   ],
   "source": [
    "name[::-3]"
   ]
  },
  {
   "cell_type": "code",
   "execution_count": 62,
   "id": "56d2e439-1b1e-46a2-bd33-0435006271f6",
   "metadata": {},
   "outputs": [
    {
     "data": {
      "text/plain": [
       "'iun'"
      ]
     },
     "execution_count": 62,
     "metadata": {},
     "output_type": "execute_result"
    }
   ],
   "source": [
    "name[::-4]"
   ]
  },
  {
   "cell_type": "code",
   "execution_count": 63,
   "id": "b0e283fc-2cf3-4446-a7d8-4e7fe7e66d2a",
   "metadata": {},
   "outputs": [
    {
     "data": {
      "text/plain": [
       "'njukum'"
      ]
     },
     "execution_count": 63,
     "metadata": {},
     "output_type": "execute_result"
    }
   ],
   "source": [
    "name[2:8]"
   ]
  },
  {
   "cell_type": "code",
   "execution_count": 64,
   "id": "b1fe9673-a119-49fa-ac0a-447c35c4d89a",
   "metadata": {},
   "outputs": [
    {
     "data": {
      "text/plain": [
       "''"
      ]
     },
     "execution_count": 64,
     "metadata": {},
     "output_type": "execute_result"
    }
   ],
   "source": [
    "name[8:2]"
   ]
  },
  {
   "cell_type": "code",
   "execution_count": 65,
   "id": "3cac7e0e-4a35-4643-be76-0584679eb1cf",
   "metadata": {},
   "outputs": [
    {
     "data": {
      "text/plain": [
       "'yednapkapeed'"
      ]
     },
     "execution_count": 65,
     "metadata": {},
     "output_type": "execute_result"
    }
   ],
   "source": [
    "name='deepakpandey'\n",
    "name[::-1]"
   ]
  },
  {
   "cell_type": "code",
   "execution_count": 66,
   "id": "e5b1241a-c318-4c96-a889-7c79c835e405",
   "metadata": {},
   "outputs": [
    {
     "data": {
      "text/plain": [
       "'hik'"
      ]
     },
     "execution_count": 66,
     "metadata": {},
     "output_type": "execute_result"
    }
   ],
   "source": [
    "name='krish'\n",
    "name[::-2]"
   ]
  },
  {
   "cell_type": "code",
   "execution_count": 67,
   "id": "76f568c4-d9ce-4d1f-9e96-8214d2dd12b7",
   "metadata": {},
   "outputs": [
    {
     "data": {
      "text/plain": [
       "'hsirk'"
      ]
     },
     "execution_count": 67,
     "metadata": {},
     "output_type": "execute_result"
    }
   ],
   "source": [
    "name[4::-1]"
   ]
  },
  {
   "cell_type": "code",
   "execution_count": 68,
   "id": "90650b66-d4bc-4057-a03a-8a268591d867",
   "metadata": {},
   "outputs": [
    {
     "data": {
      "text/plain": [
       "'irk'"
      ]
     },
     "execution_count": 68,
     "metadata": {},
     "output_type": "execute_result"
    }
   ],
   "source": [
    "name[2::-1]"
   ]
  },
  {
   "cell_type": "code",
   "execution_count": 69,
   "id": "8100ce9c-aebc-4dcf-9b43-6f496cd7dcd3",
   "metadata": {},
   "outputs": [
    {
     "data": {
      "text/plain": [
       "'sirk'"
      ]
     },
     "execution_count": 69,
     "metadata": {},
     "output_type": "execute_result"
    }
   ],
   "source": [
    "name[3::-1]"
   ]
  },
  {
   "cell_type": "code",
   "execution_count": 70,
   "id": "16622dd2-95df-4a5d-afce-cb382090d5cb",
   "metadata": {},
   "outputs": [
    {
     "data": {
      "text/plain": [
       "'irk'"
      ]
     },
     "execution_count": 70,
     "metadata": {},
     "output_type": "execute_result"
    }
   ],
   "source": [
    "name[2::-1]"
   ]
  },
  {
   "cell_type": "code",
   "execution_count": 71,
   "id": "a861cc40-18bd-4cb5-b4a1-394d04f756b7",
   "metadata": {},
   "outputs": [
    {
     "data": {
      "text/plain": [
       "'hik'"
      ]
     },
     "execution_count": 71,
     "metadata": {},
     "output_type": "execute_result"
    }
   ],
   "source": [
    "name[::-2]"
   ]
  },
  {
   "cell_type": "code",
   "execution_count": 72,
   "id": "21d6acd0-fa83-49c7-8b8c-b3c0e486e46e",
   "metadata": {},
   "outputs": [
    {
     "data": {
      "text/plain": [
       "''"
      ]
     },
     "execution_count": 72,
     "metadata": {},
     "output_type": "execute_result"
    }
   ],
   "source": [
    "name[3:1:1]"
   ]
  },
  {
   "cell_type": "code",
   "execution_count": 73,
   "id": "fd1ea7f1-10c2-418e-8d8c-42d2ab5d6faf",
   "metadata": {},
   "outputs": [
    {
     "data": {
      "text/plain": [
       "'data science masters'"
      ]
     },
     "execution_count": 73,
     "metadata": {},
     "output_type": "execute_result"
    }
   ],
   "source": [
    "course_name = 'data science masters'\n",
    "course_name"
   ]
  },
  {
   "cell_type": "code",
   "execution_count": 74,
   "id": "29412e5c-7283-446f-83af-7e7a897e66b8",
   "metadata": {},
   "outputs": [
    {
     "data": {
      "text/plain": [
       "'science'"
      ]
     },
     "execution_count": 74,
     "metadata": {},
     "output_type": "execute_result"
    }
   ],
   "source": [
    "course_name[5:12]"
   ]
  },
  {
   "cell_type": "code",
   "execution_count": 75,
   "id": "093e03ef-236c-4476-a96e-fd853ed1652d",
   "metadata": {},
   "outputs": [
    {
     "data": {
      "text/plain": [
       "' ecneics '"
      ]
     },
     "execution_count": 75,
     "metadata": {},
     "output_type": "execute_result"
    }
   ],
   "source": [
    "course_name[12:3:-1]"
   ]
  },
  {
   "cell_type": "code",
   "execution_count": 76,
   "id": "f45e987b-7c68-4f34-ab7d-6d39053281b5",
   "metadata": {},
   "outputs": [
    {
     "data": {
      "text/plain": [
       "''"
      ]
     },
     "execution_count": 76,
     "metadata": {},
     "output_type": "execute_result"
    }
   ],
   "source": [
    "course_name[3:12:-1]"
   ]
  },
  {
   "cell_type": "code",
   "execution_count": 77,
   "id": "9dc8aa82-e452-407b-a799-19582bcb0a8c",
   "metadata": {},
   "outputs": [
    {
     "data": {
      "text/plain": [
       "'science'"
      ]
     },
     "execution_count": 77,
     "metadata": {},
     "output_type": "execute_result"
    }
   ],
   "source": [
    "course_name[5:12]"
   ]
  },
  {
   "cell_type": "code",
   "execution_count": 78,
   "id": "d3bf821d-8d94-41ae-ac4b-79d31b00ad03",
   "metadata": {},
   "outputs": [
    {
     "data": {
      "text/plain": [
       "' ecneics '"
      ]
     },
     "execution_count": 78,
     "metadata": {},
     "output_type": "execute_result"
    }
   ],
   "source": [
    "course_name[12:3:-1]"
   ]
  },
  {
   "cell_type": "code",
   "execution_count": 79,
   "id": "8becda22-3650-4b73-a638-a8ef1259fa94",
   "metadata": {},
   "outputs": [
    {
     "data": {
      "text/plain": [
       "'data science masters'"
      ]
     },
     "execution_count": 79,
     "metadata": {},
     "output_type": "execute_result"
    }
   ],
   "source": [
    "course_name"
   ]
  },
  {
   "cell_type": "code",
   "execution_count": 83,
   "id": "825deb21-d67b-4ebb-82d8-6ac0524da20a",
   "metadata": {},
   "outputs": [
    {
     "data": {
      "text/plain": [
       "'data'"
      ]
     },
     "execution_count": 83,
     "metadata": {},
     "output_type": "execute_result"
    }
   ],
   "source": [
    "course_name[0:4]"
   ]
  },
  {
   "cell_type": "code",
   "execution_count": 86,
   "id": "9ea6c33a-9e4d-4ea8-8f0a-18c72573c707",
   "metadata": {},
   "outputs": [
    {
     "data": {
      "text/plain": [
       "' science maste'"
      ]
     },
     "execution_count": 86,
     "metadata": {},
     "output_type": "execute_result"
    }
   ],
   "source": [
    "course_name[4:-2]"
   ]
  },
  {
   "cell_type": "code",
   "execution_count": 87,
   "id": "1f162251-8ace-429d-999b-4d223a68b7e8",
   "metadata": {},
   "outputs": [
    {
     "data": {
      "text/plain": [
       "'ecneics'"
      ]
     },
     "execution_count": 87,
     "metadata": {},
     "output_type": "execute_result"
    }
   ],
   "source": [
    "course_name[11:4:-1]"
   ]
  },
  {
   "cell_type": "code",
   "execution_count": 88,
   "id": "d349c05d-b9e8-4ceb-af94-150044e2a9e1",
   "metadata": {},
   "outputs": [
    {
     "data": {
      "text/plain": [
       "'man love india for tea'"
      ]
     },
     "execution_count": 88,
     "metadata": {},
     "output_type": "execute_result"
    }
   ],
   "source": [
    "s='man love india for tea'\n",
    "s"
   ]
  },
  {
   "cell_type": "code",
   "execution_count": 90,
   "id": "f836479d-54ad-4805-9d9e-6ccc2ff8f22e",
   "metadata": {},
   "outputs": [
    {
     "data": {
      "text/plain": [
       "'n'"
      ]
     },
     "execution_count": 90,
     "metadata": {},
     "output_type": "execute_result"
    }
   ],
   "source": [
    "s[2]"
   ]
  },
  {
   "cell_type": "code",
   "execution_count": 91,
   "id": "2a552f52-d787-40be-8814-d4f835b7c588",
   "metadata": {},
   "outputs": [
    {
     "data": {
      "text/plain": [
       "'man'"
      ]
     },
     "execution_count": 91,
     "metadata": {},
     "output_type": "execute_result"
    }
   ],
   "source": [
    "s[0:3]"
   ]
  },
  {
   "cell_type": "code",
   "execution_count": 95,
   "id": "490c0f5c-636d-42ff-9a97-d47309771f66",
   "metadata": {},
   "outputs": [
    {
     "data": {
      "text/plain": [
       "'nam'"
      ]
     },
     "execution_count": 95,
     "metadata": {},
     "output_type": "execute_result"
    }
   ],
   "source": [
    "s[2::-1]"
   ]
  },
  {
   "cell_type": "code",
   "execution_count": 103,
   "id": "f5423900-6c02-41ad-8c0d-b1c407513bbb",
   "metadata": {},
   "outputs": [
    {
     "data": {
      "text/plain": [
       "'love'"
      ]
     },
     "execution_count": 103,
     "metadata": {},
     "output_type": "execute_result"
    }
   ],
   "source": [
    "s[4:8]"
   ]
  },
  {
   "cell_type": "code",
   "execution_count": 104,
   "id": "f77ee28d-7fb3-42ad-9bdf-027c5cb5fa40",
   "metadata": {},
   "outputs": [
    {
     "data": {
      "text/plain": [
       "'evol'"
      ]
     },
     "execution_count": 104,
     "metadata": {},
     "output_type": "execute_result"
    }
   ],
   "source": [
    "s[7:3:-1]"
   ]
  },
  {
   "cell_type": "code",
   "execution_count": 105,
   "id": "7e1103ba-b45d-4f43-b3fc-660e3d3be741",
   "metadata": {},
   "outputs": [
    {
     "data": {
      "text/plain": [
       "'ndia'"
      ]
     },
     "execution_count": 105,
     "metadata": {},
     "output_type": "execute_result"
    }
   ],
   "source": [
    "s[10:14]"
   ]
  },
  {
   "cell_type": "code",
   "execution_count": 107,
   "id": "1b769a4a-af47-4fe1-b2b7-314f94afd323",
   "metadata": {},
   "outputs": [
    {
     "data": {
      "text/plain": [
       "'aidn'"
      ]
     },
     "execution_count": 107,
     "metadata": {},
     "output_type": "execute_result"
    }
   ],
   "source": [
    "s[13:9:-1]"
   ]
  },
  {
   "cell_type": "code",
   "execution_count": 108,
   "id": "6cb353ad-1f77-4165-b52d-9f08414e172e",
   "metadata": {},
   "outputs": [
    {
     "data": {
      "text/plain": [
       "'ndia '"
      ]
     },
     "execution_count": 108,
     "metadata": {},
     "output_type": "execute_result"
    }
   ],
   "source": [
    "s[10:15]"
   ]
  },
  {
   "cell_type": "code",
   "execution_count": 110,
   "id": "46e97799-63dc-438e-83fc-0a7efe78fec8",
   "metadata": {},
   "outputs": [
    {
     "data": {
      "text/plain": [
       "'for '"
      ]
     },
     "execution_count": 110,
     "metadata": {},
     "output_type": "execute_result"
    }
   ],
   "source": [
    "s[15:19]"
   ]
  },
  {
   "cell_type": "code",
   "execution_count": 111,
   "id": "a46d10c7-9f30-4da2-9eea-023d61b98049",
   "metadata": {},
   "outputs": [
    {
     "data": {
      "text/plain": [
       "' rof'"
      ]
     },
     "execution_count": 111,
     "metadata": {},
     "output_type": "execute_result"
    }
   ],
   "source": [
    "s[18:14:-1]"
   ]
  },
  {
   "cell_type": "code",
   "execution_count": 113,
   "id": "a1ecc9bc-c632-48cf-941b-c32cff94e685",
   "metadata": {},
   "outputs": [
    {
     "data": {
      "text/plain": [
       "'tea'"
      ]
     },
     "execution_count": 113,
     "metadata": {},
     "output_type": "execute_result"
    }
   ],
   "source": [
    "s[19:23]"
   ]
  },
  {
   "cell_type": "code",
   "execution_count": 115,
   "id": "66b9ea83-5d29-4f52-bdcd-80f2e323fe40",
   "metadata": {},
   "outputs": [
    {
     "data": {
      "text/plain": [
       "'aet'"
      ]
     },
     "execution_count": 115,
     "metadata": {},
     "output_type": "execute_result"
    }
   ],
   "source": [
    "s[22:18:-1]"
   ]
  },
  {
   "cell_type": "code",
   "execution_count": 116,
   "id": "c772d4ec-01ca-4f4a-8583-a1e3782f725d",
   "metadata": {},
   "outputs": [
    {
     "data": {
      "text/plain": [
       "'data science masterssanju'"
      ]
     },
     "execution_count": 116,
     "metadata": {},
     "output_type": "execute_result"
    }
   ],
   "source": [
    "# concatenation\n",
    "course_name +'sanju'"
   ]
  },
  {
   "cell_type": "code",
   "execution_count": 118,
   "id": "dd8ca026-5d5e-4d44-8a1b-d34ff4d3ddfc",
   "metadata": {},
   "outputs": [
    {
     "data": {
      "text/plain": [
       "'data science masters233'"
      ]
     },
     "execution_count": 118,
     "metadata": {},
     "output_type": "execute_result"
    }
   ],
   "source": [
    "course_name +'233'"
   ]
  },
  {
   "cell_type": "code",
   "execution_count": 119,
   "id": "b9d953c2-a8b2-4822-b24f-8023a66208ba",
   "metadata": {},
   "outputs": [
    {
     "name": "stdout",
     "output_type": "stream",
     "text": [
      "helloworld\n"
     ]
    }
   ],
   "source": [
    "print('hello'+'world')"
   ]
  },
  {
   "cell_type": "code",
   "execution_count": 120,
   "id": "c6fba176-5118-4fb1-acb1-4d57f1356686",
   "metadata": {},
   "outputs": [
    {
     "data": {
      "text/plain": [
       "20"
      ]
     },
     "execution_count": 120,
     "metadata": {},
     "output_type": "execute_result"
    }
   ],
   "source": [
    "len(course_name)"
   ]
  },
  {
   "cell_type": "code",
   "execution_count": 121,
   "id": "08c775fb-c8e7-4d52-b955-9a723c153801",
   "metadata": {},
   "outputs": [
    {
     "data": {
      "text/plain": [
       "'t'"
      ]
     },
     "execution_count": 121,
     "metadata": {},
     "output_type": "execute_result"
    }
   ],
   "source": [
    "max(course_name)"
   ]
  },
  {
   "cell_type": "code",
   "execution_count": 122,
   "id": "18658dac-a8a2-4142-ab02-5200a6dcf8fc",
   "metadata": {},
   "outputs": [
    {
     "data": {
      "text/plain": [
       "' '"
      ]
     },
     "execution_count": 122,
     "metadata": {},
     "output_type": "execute_result"
    }
   ],
   "source": [
    "min(course_name)"
   ]
  },
  {
   "cell_type": "code",
   "execution_count": 123,
   "id": "9aadac61-1bf3-415a-b483-42787b498d9e",
   "metadata": {},
   "outputs": [
    {
     "data": {
      "text/plain": [
       "['__add__',\n",
       " '__class__',\n",
       " '__contains__',\n",
       " '__delattr__',\n",
       " '__dir__',\n",
       " '__doc__',\n",
       " '__eq__',\n",
       " '__format__',\n",
       " '__ge__',\n",
       " '__getattribute__',\n",
       " '__getitem__',\n",
       " '__getnewargs__',\n",
       " '__gt__',\n",
       " '__hash__',\n",
       " '__init__',\n",
       " '__init_subclass__',\n",
       " '__iter__',\n",
       " '__le__',\n",
       " '__len__',\n",
       " '__lt__',\n",
       " '__mod__',\n",
       " '__mul__',\n",
       " '__ne__',\n",
       " '__new__',\n",
       " '__reduce__',\n",
       " '__reduce_ex__',\n",
       " '__repr__',\n",
       " '__rmod__',\n",
       " '__rmul__',\n",
       " '__setattr__',\n",
       " '__sizeof__',\n",
       " '__str__',\n",
       " '__subclasshook__',\n",
       " 'capitalize',\n",
       " 'casefold',\n",
       " 'center',\n",
       " 'count',\n",
       " 'encode',\n",
       " 'endswith',\n",
       " 'expandtabs',\n",
       " 'find',\n",
       " 'format',\n",
       " 'format_map',\n",
       " 'index',\n",
       " 'isalnum',\n",
       " 'isalpha',\n",
       " 'isascii',\n",
       " 'isdecimal',\n",
       " 'isdigit',\n",
       " 'isidentifier',\n",
       " 'islower',\n",
       " 'isnumeric',\n",
       " 'isprintable',\n",
       " 'isspace',\n",
       " 'istitle',\n",
       " 'isupper',\n",
       " 'join',\n",
       " 'ljust',\n",
       " 'lower',\n",
       " 'lstrip',\n",
       " 'maketrans',\n",
       " 'partition',\n",
       " 'removeprefix',\n",
       " 'removesuffix',\n",
       " 'replace',\n",
       " 'rfind',\n",
       " 'rindex',\n",
       " 'rjust',\n",
       " 'rpartition',\n",
       " 'rsplit',\n",
       " 'rstrip',\n",
       " 'split',\n",
       " 'splitlines',\n",
       " 'startswith',\n",
       " 'strip',\n",
       " 'swapcase',\n",
       " 'title',\n",
       " 'translate',\n",
       " 'upper',\n",
       " 'zfill']"
      ]
     },
     "execution_count": 123,
     "metadata": {},
     "output_type": "execute_result"
    }
   ],
   "source": [
    "dir(str1)"
   ]
  },
  {
   "cell_type": "code",
   "execution_count": 124,
   "id": "2a54ac9c-559f-44c4-a713-8d0b7d1e6f16",
   "metadata": {},
   "outputs": [
    {
     "data": {
      "text/plain": [
       "['__abs__',\n",
       " '__add__',\n",
       " '__and__',\n",
       " '__bool__',\n",
       " '__ceil__',\n",
       " '__class__',\n",
       " '__delattr__',\n",
       " '__dir__',\n",
       " '__divmod__',\n",
       " '__doc__',\n",
       " '__eq__',\n",
       " '__float__',\n",
       " '__floor__',\n",
       " '__floordiv__',\n",
       " '__format__',\n",
       " '__ge__',\n",
       " '__getattribute__',\n",
       " '__getnewargs__',\n",
       " '__gt__',\n",
       " '__hash__',\n",
       " '__index__',\n",
       " '__init__',\n",
       " '__init_subclass__',\n",
       " '__int__',\n",
       " '__invert__',\n",
       " '__le__',\n",
       " '__lshift__',\n",
       " '__lt__',\n",
       " '__mod__',\n",
       " '__mul__',\n",
       " '__ne__',\n",
       " '__neg__',\n",
       " '__new__',\n",
       " '__or__',\n",
       " '__pos__',\n",
       " '__pow__',\n",
       " '__radd__',\n",
       " '__rand__',\n",
       " '__rdivmod__',\n",
       " '__reduce__',\n",
       " '__reduce_ex__',\n",
       " '__repr__',\n",
       " '__rfloordiv__',\n",
       " '__rlshift__',\n",
       " '__rmod__',\n",
       " '__rmul__',\n",
       " '__ror__',\n",
       " '__round__',\n",
       " '__rpow__',\n",
       " '__rrshift__',\n",
       " '__rshift__',\n",
       " '__rsub__',\n",
       " '__rtruediv__',\n",
       " '__rxor__',\n",
       " '__setattr__',\n",
       " '__sizeof__',\n",
       " '__str__',\n",
       " '__sub__',\n",
       " '__subclasshook__',\n",
       " '__truediv__',\n",
       " '__trunc__',\n",
       " '__xor__',\n",
       " 'as_integer_ratio',\n",
       " 'bit_count',\n",
       " 'bit_length',\n",
       " 'conjugate',\n",
       " 'denominator',\n",
       " 'from_bytes',\n",
       " 'imag',\n",
       " 'numerator',\n",
       " 'real',\n",
       " 'to_bytes']"
      ]
     },
     "execution_count": 124,
     "metadata": {},
     "output_type": "execute_result"
    }
   ],
   "source": [
    "dir(int)"
   ]
  },
  {
   "cell_type": "code",
   "execution_count": 128,
   "id": "aa20f834-0387-4784-a90a-788ea36cdf56",
   "metadata": {},
   "outputs": [
    {
     "data": {
      "text/plain": [
       "(140688050509488, 140688050252544)"
      ]
     },
     "execution_count": 128,
     "metadata": {},
     "output_type": "execute_result"
    }
   ],
   "source": [
    "id(name),id(string)  # showing memory locationc"
   ]
  },
  {
   "cell_type": "code",
   "execution_count": 129,
   "id": "2c8fc2bb-6dab-4f47-8c83-da3f9d4c13a5",
   "metadata": {},
   "outputs": [
    {
     "data": {
      "text/plain": [
       "9"
      ]
     },
     "execution_count": 129,
     "metadata": {},
     "output_type": "execute_result"
    }
   ],
   "source": [
    "course_name.find('n')"
   ]
  },
  {
   "cell_type": "code",
   "execution_count": 130,
   "id": "60bac294-ea33-4948-9bcc-7b4f81f2c864",
   "metadata": {},
   "outputs": [
    {
     "data": {
      "text/plain": [
       "14"
      ]
     },
     "execution_count": 130,
     "metadata": {},
     "output_type": "execute_result"
    }
   ],
   "source": [
    "course_name.find('a',5)"
   ]
  },
  {
   "cell_type": "code",
   "execution_count": 131,
   "id": "05475b14-6abb-41f5-a881-b54e730b88a5",
   "metadata": {},
   "outputs": [
    {
     "data": {
      "text/plain": [
       "14"
      ]
     },
     "execution_count": 131,
     "metadata": {},
     "output_type": "execute_result"
    }
   ],
   "source": [
    "course_name.find('a',5)"
   ]
  },
  {
   "cell_type": "code",
   "execution_count": 132,
   "id": "52587923-6bde-48d5-947e-fca3ae6ea781",
   "metadata": {},
   "outputs": [
    {
     "data": {
      "text/plain": [
       "3"
      ]
     },
     "execution_count": 132,
     "metadata": {},
     "output_type": "execute_result"
    }
   ],
   "source": [
    "course_name.find('a',2,10)"
   ]
  },
  {
   "cell_type": "code",
   "execution_count": 133,
   "id": "9325f517-37f5-4afe-8824-a6c9698eb306",
   "metadata": {},
   "outputs": [
    {
     "data": {
      "text/plain": [
       "3"
      ]
     },
     "execution_count": 133,
     "metadata": {},
     "output_type": "execute_result"
    }
   ],
   "source": [
    "course_name.count('a')"
   ]
  },
  {
   "cell_type": "code",
   "execution_count": 134,
   "id": "441b4e09-ca9c-40cc-8ed3-c07ef8840eef",
   "metadata": {},
   "outputs": [
    {
     "data": {
      "text/plain": [
       "3"
      ]
     },
     "execution_count": 134,
     "metadata": {},
     "output_type": "execute_result"
    }
   ],
   "source": [
    "course_name.count('s')"
   ]
  },
  {
   "cell_type": "code",
   "execution_count": 135,
   "id": "268c28cd-2a21-4560-9b17-905cb5c72948",
   "metadata": {},
   "outputs": [
    {
     "data": {
      "text/plain": [
       "2"
      ]
     },
     "execution_count": 135,
     "metadata": {},
     "output_type": "execute_result"
    }
   ],
   "source": [
    "course_name.count(' ')"
   ]
  },
  {
   "cell_type": "code",
   "execution_count": 139,
   "id": "e329c33b-7781-456e-af19-9268a35a8b5e",
   "metadata": {},
   "outputs": [
    {
     "data": {
      "text/plain": [
       "['data', 'science', 'masters']"
      ]
     },
     "execution_count": 139,
     "metadata": {},
     "output_type": "execute_result"
    }
   ],
   "source": [
    "# string split function\n",
    "course_name.split(' ')"
   ]
  },
  {
   "cell_type": "code",
   "execution_count": 141,
   "id": "cfa723bd-7c7a-4546-977b-ce362ad5cd54",
   "metadata": {},
   "outputs": [
    {
     "data": {
      "text/plain": [
       "['data science masters']"
      ]
     },
     "execution_count": 141,
     "metadata": {},
     "output_type": "execute_result"
    }
   ],
   "source": [
    "course_name.split(',')"
   ]
  },
  {
   "cell_type": "code",
   "execution_count": 143,
   "id": "78bbc237-bec4-4421-aceb-abcebbc68aa7",
   "metadata": {},
   "outputs": [
    {
     "data": {
      "text/plain": [
       "['d', 't', ' science m', 'sters']"
      ]
     },
     "execution_count": 143,
     "metadata": {},
     "output_type": "execute_result"
    }
   ],
   "source": [
    "course_name.split('a')"
   ]
  },
  {
   "cell_type": "code",
   "execution_count": 144,
   "id": "45aa8b54-b996-4f19-b26a-3ca567cc62b7",
   "metadata": {},
   "outputs": [
    {
     "data": {
      "text/plain": [
       "['data ', 'cience ma', 'ter', '']"
      ]
     },
     "execution_count": 144,
     "metadata": {},
     "output_type": "execute_result"
    }
   ],
   "source": [
    "course_name.split('s')"
   ]
  },
  {
   "cell_type": "code",
   "execution_count": 145,
   "id": "05895c86-18f8-4cc0-96fe-7f69211a228f",
   "metadata": {},
   "outputs": [
    {
     "data": {
      "text/plain": [
       "('data ', 's', 'cience masters')"
      ]
     },
     "execution_count": 145,
     "metadata": {},
     "output_type": "execute_result"
    }
   ],
   "source": [
    "course_name.partition('s')"
   ]
  },
  {
   "cell_type": "code",
   "execution_count": 147,
   "id": "abcefcf4-3a5f-499d-ae7b-0975a9af748c",
   "metadata": {},
   "outputs": [
    {
     "data": {
      "text/plain": [
       "'DATA SCIENCE MASTERS'"
      ]
     },
     "execution_count": 147,
     "metadata": {},
     "output_type": "execute_result"
    }
   ],
   "source": [
    "course_name.upper()"
   ]
  },
  {
   "cell_type": "code",
   "execution_count": 148,
   "id": "5e0bfabb-f82f-498a-82bc-2941fa8ec665",
   "metadata": {},
   "outputs": [
    {
     "data": {
      "text/plain": [
       "'data science masters'"
      ]
     },
     "execution_count": 148,
     "metadata": {},
     "output_type": "execute_result"
    }
   ],
   "source": [
    "course_name.lower()"
   ]
  },
  {
   "cell_type": "code",
   "execution_count": 150,
   "id": "2c21f085-2b5c-4ccb-9c5a-ae1f820b9f57",
   "metadata": {},
   "outputs": [
    {
     "data": {
      "text/plain": [
       "'Data Science Masters'"
      ]
     },
     "execution_count": 150,
     "metadata": {},
     "output_type": "execute_result"
    }
   ],
   "source": [
    "course_name.title()"
   ]
  },
  {
   "cell_type": "code",
   "execution_count": 154,
   "id": "12f7b3fa-81ec-4a20-8c43-94c7dc828e5a",
   "metadata": {},
   "outputs": [],
   "source": [
    "course_name=course_name.replace('d','D')"
   ]
  },
  {
   "cell_type": "code",
   "execution_count": 155,
   "id": "35912bbd-b6d6-4a29-8e85-156101dfa4a3",
   "metadata": {},
   "outputs": [
    {
     "data": {
      "text/plain": [
       "'Data science masters'"
      ]
     },
     "execution_count": 155,
     "metadata": {},
     "output_type": "execute_result"
    }
   ],
   "source": [
    "course_name"
   ]
  },
  {
   "cell_type": "code",
   "execution_count": 156,
   "id": "46fbd172-535d-45bd-a62d-0d80511581c4",
   "metadata": {},
   "outputs": [
    {
     "data": {
      "text/plain": [
       "'dATA SCIENCE MASTERS'"
      ]
     },
     "execution_count": 156,
     "metadata": {},
     "output_type": "execute_result"
    }
   ],
   "source": [
    "course_name.swapcase()"
   ]
  },
  {
   "cell_type": "code",
   "execution_count": 159,
   "id": "1d6a4b7c-7f70-4c24-b3ae-3b2dfa403d69",
   "metadata": {},
   "outputs": [
    {
     "data": {
      "text/plain": [
       "[[2, 3, 4, 4, 44], [43, 45, 5, 4, 2, 42], [432, 4, 4344, 434]]"
      ]
     },
     "execution_count": 159,
     "metadata": {},
     "output_type": "execute_result"
    }
   ],
   "source": [
    "l=[[2,3,4,4,44],[43,45,5,4,2,42],[432,4,4344,434]]\n",
    "l"
   ]
  },
  {
   "cell_type": "code",
   "execution_count": 158,
   "id": "66987cd7-a4f6-4673-8f1a-dcfea71bcae6",
   "metadata": {},
   "outputs": [
    {
     "data": {
      "text/html": [
       "<div>\n",
       "<style scoped>\n",
       "    .dataframe tbody tr th:only-of-type {\n",
       "        vertical-align: middle;\n",
       "    }\n",
       "\n",
       "    .dataframe tbody tr th {\n",
       "        vertical-align: top;\n",
       "    }\n",
       "\n",
       "    .dataframe thead th {\n",
       "        text-align: right;\n",
       "    }\n",
       "</style>\n",
       "<table border=\"1\" class=\"dataframe\">\n",
       "  <thead>\n",
       "    <tr style=\"text-align: right;\">\n",
       "      <th></th>\n",
       "      <th>0</th>\n",
       "    </tr>\n",
       "  </thead>\n",
       "  <tbody>\n",
       "    <tr>\n",
       "      <th>0</th>\n",
       "      <td>2</td>\n",
       "    </tr>\n",
       "    <tr>\n",
       "      <th>1</th>\n",
       "      <td>3</td>\n",
       "    </tr>\n",
       "    <tr>\n",
       "      <th>2</th>\n",
       "      <td>4</td>\n",
       "    </tr>\n",
       "    <tr>\n",
       "      <th>3</th>\n",
       "      <td>4</td>\n",
       "    </tr>\n",
       "    <tr>\n",
       "      <th>4</th>\n",
       "      <td>44</td>\n",
       "    </tr>\n",
       "    <tr>\n",
       "      <th>5</th>\n",
       "      <td>[43, 45, 5, 4, 2, 42]</td>\n",
       "    </tr>\n",
       "    <tr>\n",
       "      <th>6</th>\n",
       "      <td>[432, 4, 4344, 434]</td>\n",
       "    </tr>\n",
       "  </tbody>\n",
       "</table>\n",
       "</div>"
      ],
      "text/plain": [
       "                       0\n",
       "0                      2\n",
       "1                      3\n",
       "2                      4\n",
       "3                      4\n",
       "4                     44\n",
       "5  [43, 45, 5, 4, 2, 42]\n",
       "6    [432, 4, 4344, 434]"
      ]
     },
     "execution_count": 158,
     "metadata": {},
     "output_type": "execute_result"
    }
   ],
   "source": [
    "import pandas as pd\n",
    "pd.DataFrame(l)"
   ]
  },
  {
   "cell_type": "code",
   "execution_count": 160,
   "id": "ef78b381-70e4-4059-b0e3-39cce8ceaf7f",
   "metadata": {},
   "outputs": [
    {
     "data": {
      "text/plain": [
       "'krish'"
      ]
     },
     "execution_count": 160,
     "metadata": {},
     "output_type": "execute_result"
    }
   ],
   "source": [
    "name"
   ]
  },
  {
   "cell_type": "code",
   "execution_count": 161,
   "id": "075dd63f-82d5-419f-ac21-3fd85ed9e917",
   "metadata": {},
   "outputs": [
    {
     "data": {
      "text/plain": [
       "'hsirk'"
      ]
     },
     "execution_count": 161,
     "metadata": {},
     "output_type": "execute_result"
    }
   ],
   "source": [
    "name[::-1]"
   ]
  },
  {
   "cell_type": "code",
   "execution_count": 162,
   "id": "2b1d1a9f-1289-42d7-9ac2-41694f499b6c",
   "metadata": {},
   "outputs": [
    {
     "data": {
      "text/plain": [
       "'h s i r k'"
      ]
     },
     "execution_count": 162,
     "metadata": {},
     "output_type": "execute_result"
    }
   ],
   "source": [
    "' '.join(reversed(name))"
   ]
  },
  {
   "cell_type": "code",
   "execution_count": 164,
   "id": "446b144a-5fd4-4cc9-a8be-7cd0bd26595f",
   "metadata": {},
   "outputs": [
    {
     "data": {
      "text/plain": [
       "'k r i s h'"
      ]
     },
     "execution_count": 164,
     "metadata": {},
     "output_type": "execute_result"
    }
   ],
   "source": [
    "' '.join(name)"
   ]
  },
  {
   "cell_type": "code",
   "execution_count": 165,
   "id": "b474c9c1-2293-4565-9a3f-736da69bd490",
   "metadata": {},
   "outputs": [
    {
     "data": {
      "text/plain": [
       "'h s i r k'"
      ]
     },
     "execution_count": 165,
     "metadata": {},
     "output_type": "execute_result"
    }
   ],
   "source": [
    "' '.join(reversed(name))"
   ]
  },
  {
   "cell_type": "code",
   "execution_count": 166,
   "id": "5a1bd86f-76f4-44dd-a27f-d4b6b7e2f2e8",
   "metadata": {},
   "outputs": [
    {
     "data": {
      "text/plain": [
       "'hsanjussanjuisanjursanjuk'"
      ]
     },
     "execution_count": 166,
     "metadata": {},
     "output_type": "execute_result"
    }
   ],
   "source": [
    "'sanju'.join(reversed(name))"
   ]
  },
  {
   "cell_type": "code",
   "execution_count": 167,
   "id": "cfc12cef-a207-43d0-96c3-f16b7dd54e15",
   "metadata": {},
   "outputs": [
    {
     "data": {
      "text/plain": [
       "'hkrishskrishikrishrkrishk'"
      ]
     },
     "execution_count": 167,
     "metadata": {},
     "output_type": "execute_result"
    }
   ],
   "source": [
    "'krish'.join(reversed(name))"
   ]
  },
  {
   "cell_type": "code",
   "execution_count": 169,
   "id": "0e9c9875-98f0-4150-972d-186d73e4a8df",
   "metadata": {},
   "outputs": [
    {
     "data": {
      "text/plain": [
       "['t', 'n', 'a']"
      ]
     },
     "execution_count": 169,
     "metadata": {},
     "output_type": "execute_result"
    }
   ],
   "source": [
    "list(reversed('ant'))"
   ]
  },
  {
   "cell_type": "code",
   "execution_count": 170,
   "id": "e40e3a60-1811-411f-88c4-cf87579d1990",
   "metadata": {},
   "outputs": [
    {
     "data": {
      "text/plain": [
       "'pw is a  good company'"
      ]
     },
     "execution_count": 170,
     "metadata": {},
     "output_type": "execute_result"
    }
   ],
   "source": [
    "str1 = 'pw is a  good company'\n",
    "str1"
   ]
  },
  {
   "cell_type": "code",
   "execution_count": 171,
   "id": "74b57366-3eec-4d68-a2f1-bcaed9a57fa3",
   "metadata": {},
   "outputs": [
    {
     "data": {
      "text/plain": [
       "'pskillswskills skillsiskillssskills skillsaskills skills skillsgskillsoskillsoskillsdskills skillscskillsoskillsmskillspskillsaskillsnskillsy'"
      ]
     },
     "execution_count": 171,
     "metadata": {},
     "output_type": "execute_result"
    }
   ],
   "source": [
    "'skills'.join(str1)"
   ]
  },
  {
   "cell_type": "code",
   "execution_count": 9,
   "id": "274656fb-11a7-4b6e-9347-c18d51e4a3ab",
   "metadata": {},
   "outputs": [
    {
     "name": "stdin",
     "output_type": "stream",
     "text": [
      "enter the number 8\n"
     ]
    },
    {
     "name": "stdout",
     "output_type": "stream",
     "text": [
      "       *\n",
      "      ***\n",
      "     *****\n",
      "    *******\n",
      "   *********\n",
      "  ***********\n",
      " *************\n",
      "***************\n"
     ]
    }
   ],
   "source": [
    "n= int(input('enter the number'))\n",
    "\n",
    "for i in range(n):\n",
    "    for j in range(n-i-1):\n",
    "        print(' ',end='')\n",
    "    for k in range(2*i+1):\n",
    "        print('*',end ='')\n",
    "    print('\\r')         "
   ]
  },
  {
   "cell_type": "code",
   "execution_count": 11,
   "id": "201e4260-56a8-495d-8d04-09e551cbb911",
   "metadata": {},
   "outputs": [
    {
     "name": "stdin",
     "output_type": "stream",
     "text": [
      "enter the number 3\n"
     ]
    },
    {
     "name": "stdout",
     "output_type": "stream",
     "text": [
      "***"
     ]
    }
   ],
   "source": [
    "n=int(input('enter the number'))\n",
    "\n",
    "for i in range(n):\n",
    "    print('*',end='')"
   ]
  },
  {
   "cell_type": "code",
   "execution_count": 13,
   "id": "ce82771d-9362-440a-968c-0699ea66559c",
   "metadata": {},
   "outputs": [
    {
     "name": "stdin",
     "output_type": "stream",
     "text": [
      "enter the number 6\n"
     ]
    },
    {
     "name": "stdout",
     "output_type": "stream",
     "text": [
      "*\n",
      "**\n",
      "***\n",
      "****\n",
      "*****\n",
      "******\n"
     ]
    }
   ],
   "source": [
    "n=int(input('enter the number'))\n",
    "\n",
    "for i in range(n):\n",
    "    for j in range(i+1):\n",
    "        print('*',end ='')\n",
    "    print('\\r')    "
   ]
  },
  {
   "cell_type": "code",
   "execution_count": 14,
   "id": "3aa4e34a-3cba-461b-9b6b-9fc62d20fd94",
   "metadata": {},
   "outputs": [
    {
     "name": "stdin",
     "output_type": "stream",
     "text": [
      "enter the number 8\n"
     ]
    },
    {
     "name": "stdout",
     "output_type": "stream",
     "text": [
      "         *\n",
      "        ***\n",
      "       *****\n",
      "      *******\n",
      "     *********\n",
      "    ***********\n",
      "   *************\n",
      "  ***************\n"
     ]
    }
   ],
   "source": [
    "n=int(input('enter the number'))\n",
    "\n",
    "for i in range(n):\n",
    "    for j in range(n-i+1):\n",
    "        print(' ',end='')\n",
    "    for k in range(2*i+1):\n",
    "        print('*',end='')\n",
    "    print('\\r')  "
   ]
  },
  {
   "cell_type": "code",
   "execution_count": 15,
   "id": "a04f8c90-9baa-406e-8ec3-6e4c3f5d0093",
   "metadata": {},
   "outputs": [
    {
     "data": {
      "text/plain": [
       "'greeting from pwskills'"
      ]
     },
     "execution_count": 15,
     "metadata": {},
     "output_type": "execute_result"
    }
   ],
   "source": [
    "string = 'greeting to pwskills'\n",
    "string.replace('to','from')"
   ]
  },
  {
   "cell_type": "code",
   "execution_count": 24,
   "id": "65cdaf2e-41be-49d3-a8c0-0060d1aa4e41",
   "metadata": {},
   "outputs": [
    {
     "data": {
      "text/plain": [
       "140479861722848"
      ]
     },
     "execution_count": 24,
     "metadata": {},
     "output_type": "execute_result"
    }
   ],
   "source": [
    "string=string.replace('g' ,'w')\n",
    "string\n",
    "id(string)"
   ]
  },
  {
   "cell_type": "code",
   "execution_count": 22,
   "id": "dd2a42fd-8aa8-46ac-afb5-247adcc755cf",
   "metadata": {},
   "outputs": [
    {
     "data": {
      "text/plain": [
       "140479888421104"
      ]
     },
     "execution_count": 22,
     "metadata": {},
     "output_type": "execute_result"
    }
   ],
   "source": [
    "id(string)"
   ]
  },
  {
   "cell_type": "code",
   "execution_count": null,
   "id": "2b6c03e4-dab1-4707-8ef7-8de32f475333",
   "metadata": {},
   "outputs": [],
   "source": []
  },
  {
   "cell_type": "code",
   "execution_count": null,
   "id": "af7c8abb-0dae-40db-afc0-7df2569d2f8e",
   "metadata": {},
   "outputs": [],
   "source": []
  },
  {
   "cell_type": "code",
   "execution_count": 17,
   "id": "244fccab-558e-4c5b-a9a4-789f3fc82ad9",
   "metadata": {},
   "outputs": [],
   "source": [
    "name ='krish'"
   ]
  },
  {
   "cell_type": "code",
   "execution_count": 18,
   "id": "b77f5f8a-cb0e-4306-9ad9-e4c950c3823b",
   "metadata": {},
   "outputs": [
    {
     "data": {
      "text/plain": [
       "'krish'"
      ]
     },
     "execution_count": 18,
     "metadata": {},
     "output_type": "execute_result"
    }
   ],
   "source": [
    "name"
   ]
  },
  {
   "cell_type": "code",
   "execution_count": 19,
   "id": "9a81a878-60d4-460c-97d3-f158411db3e7",
   "metadata": {},
   "outputs": [],
   "source": [
    "name='pwskills'"
   ]
  },
  {
   "cell_type": "code",
   "execution_count": 20,
   "id": "05c6bc4e-9a92-4e15-893f-af39cdd7fafa",
   "metadata": {},
   "outputs": [
    {
     "data": {
      "text/plain": [
       "'pwskills'"
      ]
     },
     "execution_count": 20,
     "metadata": {},
     "output_type": "execute_result"
    }
   ],
   "source": [
    "name\n"
   ]
  },
  {
   "cell_type": "code",
   "execution_count": 25,
   "id": "19038b7d-55ee-446c-ad5b-6df8e173837c",
   "metadata": {},
   "outputs": [
    {
     "data": {
      "text/plain": [
       "'sanju'"
      ]
     },
     "execution_count": 25,
     "metadata": {},
     "output_type": "execute_result"
    }
   ],
   "source": [
    "string='sanju'\n",
    "string"
   ]
  },
  {
   "cell_type": "code",
   "execution_count": 26,
   "id": "50bf8abb-4460-4a89-99e3-5b9d9b6c26f8",
   "metadata": {},
   "outputs": [
    {
     "data": {
      "text/plain": [
       "140479730767280"
      ]
     },
     "execution_count": 26,
     "metadata": {},
     "output_type": "execute_result"
    }
   ],
   "source": [
    "id(string)"
   ]
  },
  {
   "cell_type": "code",
   "execution_count": 29,
   "id": "4daf4481-dd63-4895-bfbf-ab955151fcf3",
   "metadata": {},
   "outputs": [
    {
     "data": {
      "text/plain": [
       "140479731216560"
      ]
     },
     "execution_count": 29,
     "metadata": {},
     "output_type": "execute_result"
    }
   ],
   "source": [
    "string=string.replace('s','S')\n",
    "string\n",
    "id(string)"
   ]
  },
  {
   "cell_type": "markdown",
   "id": "c5661c15-9139-460d-a217-ffa76484c228",
   "metadata": {},
   "source": [
    "as we can see that line 25 has different id location\n",
    "and when we replace s with S ,has different id location\n",
    "\n",
    "so ,we can say it is not mutate that string at same \n",
    "location\n",
    "\n",
    "but the new changes is store as a new string\n",
    "not previous one .\n",
    "\n",
    "so,we can conclude that string is immutable."
   ]
  },
  {
   "cell_type": "code",
   "execution_count": 30,
   "id": "009169e6-5cf5-4e36-ade8-414d2c168383",
   "metadata": {},
   "outputs": [
    {
     "data": {
      "text/plain": [
       "'hello@world'"
      ]
     },
     "execution_count": 30,
     "metadata": {},
     "output_type": "execute_result"
    }
   ],
   "source": [
    "a='hello world'\n",
    "a.replace(' ','@')"
   ]
  },
  {
   "cell_type": "code",
   "execution_count": 31,
   "id": "2c5435c2-b4a1-4793-93eb-ed712f6e80c9",
   "metadata": {},
   "outputs": [
    {
     "data": {
      "text/plain": [
       "'hello \\n world'"
      ]
     },
     "execution_count": 31,
     "metadata": {},
     "output_type": "execute_result"
    }
   ],
   "source": [
    "'hello \\n world'"
   ]
  },
  {
   "cell_type": "code",
   "execution_count": 47,
   "id": "57460fe4-1931-4772-aa14-913960353f19",
   "metadata": {},
   "outputs": [
    {
     "data": {
      "text/plain": [
       "False"
      ]
     },
     "execution_count": 47,
     "metadata": {},
     "output_type": "execute_result"
    }
   ],
   "source": [
    "str1='Sanju'\n",
    "str1.isupper()"
   ]
  },
  {
   "cell_type": "code",
   "execution_count": 34,
   "id": "ff2d6893-762a-4938-b349-b8309fc4a6c2",
   "metadata": {},
   "outputs": [
    {
     "data": {
      "text/plain": [
       "False"
      ]
     },
     "execution_count": 34,
     "metadata": {},
     "output_type": "execute_result"
    }
   ],
   "source": [
    "str1.islower()"
   ]
  },
  {
   "cell_type": "code",
   "execution_count": 35,
   "id": "5fccba8c-a24f-49b8-9a09-e06c07cb12c0",
   "metadata": {},
   "outputs": [
    {
     "data": {
      "text/plain": [
       "False"
      ]
     },
     "execution_count": 35,
     "metadata": {},
     "output_type": "execute_result"
    }
   ],
   "source": [
    "str1.isspace()"
   ]
  },
  {
   "cell_type": "code",
   "execution_count": 37,
   "id": "f7372e62-aaf5-424d-b896-57bc3069f969",
   "metadata": {},
   "outputs": [
    {
     "data": {
      "text/plain": [
       "True"
      ]
     },
     "execution_count": 37,
     "metadata": {},
     "output_type": "execute_result"
    }
   ],
   "source": [
    "' '.isspace()"
   ]
  },
  {
   "cell_type": "code",
   "execution_count": 38,
   "id": "951d3a13-f615-4c71-bfb0-5bffbe4f71a6",
   "metadata": {},
   "outputs": [
    {
     "name": "stdout",
     "output_type": "stream",
     "text": [
      "hello\n"
     ]
    }
   ],
   "source": [
    "if ' '.isspace():\n",
    "    print('hello')"
   ]
  },
  {
   "cell_type": "code",
   "execution_count": 49,
   "id": "c82c71cd-d472-4008-9276-8fcfe0c8706e",
   "metadata": {},
   "outputs": [
    {
     "ename": "TypeError",
     "evalue": "startswith() takes at least 1 argument (0 given)",
     "output_type": "error",
     "traceback": [
      "\u001b[0;31m---------------------------------------------------------------------------\u001b[0m",
      "\u001b[0;31mTypeError\u001b[0m                                 Traceback (most recent call last)",
      "Cell \u001b[0;32mIn[49], line 1\u001b[0m\n\u001b[0;32m----> 1\u001b[0m \u001b[38;5;28;43mstr\u001b[39;49m\u001b[38;5;241;43m.\u001b[39;49m\u001b[43mstartswith\u001b[49m\u001b[43m(\u001b[49m\u001b[38;5;124;43m'\u001b[39;49m\u001b[38;5;124;43mp\u001b[39;49m\u001b[38;5;124;43m'\u001b[39;49m\u001b[43m)\u001b[49m\n",
      "\u001b[0;31mTypeError\u001b[0m: startswith() takes at least 1 argument (0 given)"
     ]
    }
   ],
   "source": [
    "str.startswith('p')"
   ]
  },
  {
   "cell_type": "code",
   "execution_count": 42,
   "id": "c6d023f2-d04f-4ead-91c4-006c8de38c93",
   "metadata": {},
   "outputs": [
    {
     "data": {
      "text/plain": [
       "True"
      ]
     },
     "execution_count": 42,
     "metadata": {},
     "output_type": "execute_result"
    }
   ],
   "source": [
    "str1.startswith('S')"
   ]
  },
  {
   "cell_type": "code",
   "execution_count": 44,
   "id": "21ca5e8a-f97a-4e7a-998c-b36b14af308a",
   "metadata": {},
   "outputs": [
    {
     "data": {
      "text/plain": [
       "True"
      ]
     },
     "execution_count": 44,
     "metadata": {},
     "output_type": "execute_result"
    }
   ],
   "source": [
    "str1.endswith('u')"
   ]
  },
  {
   "cell_type": "code",
   "execution_count": 48,
   "id": "9c9fb00a-718b-4349-a08f-38faf5712993",
   "metadata": {},
   "outputs": [
    {
     "data": {
      "text/plain": [
       "True"
      ]
     },
     "execution_count": 48,
     "metadata": {},
     "output_type": "execute_result"
    }
   ],
   "source": [
    "str1.isalnum()"
   ]
  },
  {
   "cell_type": "code",
   "execution_count": 51,
   "id": "fa0c9878-d5d9-44a0-818e-d784e54aefe8",
   "metadata": {},
   "outputs": [
    {
     "data": {
      "text/plain": [
       "True"
      ]
     },
     "execution_count": 51,
     "metadata": {},
     "output_type": "execute_result"
    }
   ],
   "source": [
    "str='345danju'\n",
    "str.isalnum()"
   ]
  },
  {
   "cell_type": "code",
   "execution_count": 54,
   "id": "a226395b-68a6-4a8b-8d8d-25f8e473f338",
   "metadata": {},
   "outputs": [
    {
     "data": {
      "text/plain": [
       "True"
      ]
     },
     "execution_count": 54,
     "metadata": {},
     "output_type": "execute_result"
    }
   ],
   "source": [
    "str2='sanju'\n",
    "str2.isalnum()"
   ]
  },
  {
   "cell_type": "code",
   "execution_count": 55,
   "id": "98f97b51-950f-4806-adea-42868d9c4738",
   "metadata": {},
   "outputs": [
    {
     "name": "stdout",
     "output_type": "stream",
     "text": [
      "5\n"
     ]
    }
   ],
   "source": [
    "# to count the number of character in the string\n",
    "count =0\n",
    "for i in str2:\n",
    "    count = count+1\n",
    "print(count)    "
   ]
  },
  {
   "cell_type": "code",
   "execution_count": 56,
   "id": "91432787-41c0-455f-a858-98e605be2027",
   "metadata": {},
   "outputs": [
    {
     "name": "stdout",
     "output_type": "stream",
     "text": [
      "17\n"
     ]
    }
   ],
   "source": [
    "string = ' i hate my family'\n",
    "count =0\n",
    "for i in string:\n",
    "    count=count+1\n",
    "print(count)    "
   ]
  },
  {
   "cell_type": "code",
   "execution_count": 58,
   "id": "9ab8d938-4ffb-41ef-bd3f-9ad6d65733eb",
   "metadata": {},
   "outputs": [
    {
     "name": "stdout",
     "output_type": "stream",
     "text": [
      "13\n"
     ]
    }
   ],
   "source": [
    "string3 ='i hate people'\n",
    "count =0\n",
    "for i in string3:\n",
    "    count =count+1\n",
    "print(count)    "
   ]
  },
  {
   "cell_type": "code",
   "execution_count": 59,
   "id": "6584f6b4-84f7-4e8f-8e5f-2375ef36ee5b",
   "metadata": {},
   "outputs": [
    {
     "name": "stdout",
     "output_type": "stream",
     "text": [
      "48\n"
     ]
    }
   ],
   "source": [
    "string4 = 'i am the most lonliest person in the whole world'\n",
    "\n",
    "count =0\n",
    "for i in string4:\n",
    "    count+=1\n",
    "print(count)    "
   ]
  },
  {
   "cell_type": "code",
   "execution_count": 65,
   "id": "89ea2c8b-6307-4305-8ae6-0953512a2904",
   "metadata": {},
   "outputs": [
    {
     "name": "stdout",
     "output_type": "stream",
     "text": [
      "13\n"
     ]
    }
   ],
   "source": [
    "string5 = 'should i die?'\n",
    "\n",
    "count =0\n",
    "for i in string5:\n",
    "    count+=1\n",
    "print(count)    "
   ]
  },
  {
   "cell_type": "code",
   "execution_count": 66,
   "id": "a00b4064-1a5b-444f-86e4-ab257953a009",
   "metadata": {},
   "outputs": [
    {
     "data": {
      "text/plain": [
       "13"
      ]
     },
     "execution_count": 66,
     "metadata": {},
     "output_type": "execute_result"
    }
   ],
   "source": [
    "len(string5)"
   ]
  },
  {
   "cell_type": "code",
   "execution_count": 68,
   "id": "3efb1809-a3fc-4d0a-bba0-a6d2192e16a4",
   "metadata": {},
   "outputs": [
    {
     "name": "stdout",
     "output_type": "stream",
     "text": [
      "21\n"
     ]
    }
   ],
   "source": [
    "string ='234354'\n",
    "sum=0\n",
    "for i in string:\n",
    "    sum+=int(i)\n",
    "print(sum)    "
   ]
  },
  {
   "cell_type": "code",
   "execution_count": 70,
   "id": "75f0cfdf-2281-4d26-a73f-9b3c0bcea352",
   "metadata": {},
   "outputs": [
    {
     "name": "stdout",
     "output_type": "stream",
     "text": [
      "47\n"
     ]
    }
   ],
   "source": [
    "string ='345465767'\n",
    "\n",
    "sum_=0\n",
    "for i in string:\n",
    "    sum_+=int(i)\n",
    "print(sum_)    "
   ]
  },
  {
   "cell_type": "code",
   "execution_count": 72,
   "id": "890e12a2-2315-44f3-9d54-6705af3457e2",
   "metadata": {},
   "outputs": [
    {
     "name": "stdout",
     "output_type": "stream",
     "text": [
      "3\n",
      "4\n",
      "5\n",
      "4\n",
      "6\n",
      "5\n",
      "7\n",
      "6\n",
      "7\n"
     ]
    }
   ],
   "source": [
    "for i in string:\n",
    "    print(i)"
   ]
  },
  {
   "cell_type": "code",
   "execution_count": 73,
   "id": "6f6dd5ea-167e-470a-9c46-b751874505cf",
   "metadata": {},
   "outputs": [
    {
     "data": {
      "text/plain": [
       "9"
      ]
     },
     "execution_count": 73,
     "metadata": {},
     "output_type": "execute_result"
    }
   ],
   "source": [
    "len(string)"
   ]
  },
  {
   "cell_type": "code",
   "execution_count": 79,
   "id": "8d1b7064-067b-47fc-8502-a9eba3a934f0",
   "metadata": {},
   "outputs": [
    {
     "ename": "TypeError",
     "evalue": "'int' object is not callable",
     "output_type": "error",
     "traceback": [
      "\u001b[0;31m---------------------------------------------------------------------------\u001b[0m",
      "\u001b[0;31mTypeError\u001b[0m                                 Traceback (most recent call last)",
      "Cell \u001b[0;32mIn[79], line 3\u001b[0m\n\u001b[1;32m      1\u001b[0m string\u001b[38;5;241m=\u001b[39m\u001b[38;5;28mint\u001b[39m(string)\n\u001b[1;32m      2\u001b[0m string\n\u001b[0;32m----> 3\u001b[0m \u001b[38;5;28;43msum\u001b[39;49m\u001b[43m(\u001b[49m\u001b[43mstring\u001b[49m\u001b[43m)\u001b[49m\n",
      "\u001b[0;31mTypeError\u001b[0m: 'int' object is not callable"
     ]
    }
   ],
   "source": [
    "string=int(string)\n",
    "string\n",
    "sum(string)"
   ]
  },
  {
   "cell_type": "code",
   "execution_count": 80,
   "id": "3a6f0b90-ec2d-4edc-b346-28e4197ddabc",
   "metadata": {},
   "outputs": [
    {
     "data": {
      "text/plain": [
       "range(0, 5)"
      ]
     },
     "execution_count": 80,
     "metadata": {},
     "output_type": "execute_result"
    }
   ],
   "source": [
    "range(len(str2))"
   ]
  },
  {
   "cell_type": "code",
   "execution_count": 81,
   "id": "7e8596ec-f8a6-44f5-bd22-1ad077476a99",
   "metadata": {},
   "outputs": [
    {
     "name": "stdout",
     "output_type": "stream",
     "text": [
      "0 = s\n",
      "1 = a\n",
      "2 = n\n",
      "3 = j\n",
      "4 = u\n"
     ]
    }
   ],
   "source": [
    "for i in range(len(str2)):\n",
    "    print(i,'=',str2[i])"
   ]
  },
  {
   "cell_type": "code",
   "execution_count": 82,
   "id": "dbf1e981-95f0-4151-ba2d-fe0478e425c4",
   "metadata": {},
   "outputs": [
    {
     "data": {
      "text/plain": [
       "(4, -1, -1)"
      ]
     },
     "execution_count": 82,
     "metadata": {},
     "output_type": "execute_result"
    }
   ],
   "source": [
    "len(str2)-1,-1,-1"
   ]
  },
  {
   "cell_type": "code",
   "execution_count": 84,
   "id": "697428a9-b3e5-455d-922e-28632de2beb6",
   "metadata": {},
   "outputs": [
    {
     "name": "stdout",
     "output_type": "stream",
     "text": [
      "28 = t\n",
      "27 = i\n",
      "26 =  \n",
      "25 = r\n",
      "24 = e\n",
      "23 = h\n",
      "22 = t\n",
      "21 = o\n",
      "20 = b\n",
      "19 =  \n",
      "18 = t\n",
      "17 = n\n",
      "16 = o\n",
      "15 = d\n",
      "14 =  \n",
      "13 = s\n",
      "12 = s\n",
      "11 = e\n",
      "10 = m\n",
      "9 =  \n",
      "8 = a\n",
      "7 =  \n",
      "6 = s\n",
      "5 = i\n",
      "4 =  \n",
      "3 = e\n",
      "2 = f\n",
      "1 = i\n",
      "0 = l\n"
     ]
    }
   ],
   "source": [
    "string='life is a mess dont bother it' # reversing the string\n",
    "for i in range(len(string)-1,-1,-1):\n",
    "    print(i,'=',string[i])"
   ]
  },
  {
   "cell_type": "code",
   "execution_count": null,
   "id": "1df25912-c0bf-4a4f-894a-88799606239a",
   "metadata": {},
   "outputs": [],
   "source": []
  },
  {
   "cell_type": "code",
   "execution_count": null,
   "id": "c72ff4a1-559d-4ae1-97c2-a66b439c98ac",
   "metadata": {},
   "outputs": [],
   "source": []
  }
 ],
 "metadata": {
  "kernelspec": {
   "display_name": "Python 3 (ipykernel)",
   "language": "python",
   "name": "python3"
  },
  "language_info": {
   "codemirror_mode": {
    "name": "ipython",
    "version": 3
   },
   "file_extension": ".py",
   "mimetype": "text/x-python",
   "name": "python",
   "nbconvert_exporter": "python",
   "pygments_lexer": "ipython3",
   "version": "3.10.8"
  }
 },
 "nbformat": 4,
 "nbformat_minor": 5
}
