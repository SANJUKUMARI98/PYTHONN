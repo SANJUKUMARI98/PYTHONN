{
 "cells": [
  {
   "cell_type": "markdown",
   "id": "5b2faafe-37da-40f7-9ba6-90bafd25f921",
   "metadata": {},
   "source": [
    "# oops (object oriented programing language)"
   ]
  },
  {
   "cell_type": "code",
   "execution_count": 1,
   "id": "f221dbb3-f72e-4b74-b6ad-5ca88cfa7ed4",
   "metadata": {},
   "outputs": [],
   "source": [
    "a=1"
   ]
  },
  {
   "cell_type": "code",
   "execution_count": 4,
   "id": "5e75e4b3-eb93-4f0b-a3e8-9df1c61ef62d",
   "metadata": {},
   "outputs": [
    {
     "name": "stdout",
     "output_type": "stream",
     "text": [
      "<class 'int'>\n"
     ]
    }
   ],
   "source": [
    "print(type(a))"
   ]
  },
  {
   "cell_type": "code",
   "execution_count": 5,
   "id": "db3fbefb-17e0-4ed6-a0f7-1ec7cafdf8b3",
   "metadata": {},
   "outputs": [
    {
     "name": "stdout",
     "output_type": "stream",
     "text": [
      "<class 'str'>\n"
     ]
    }
   ],
   "source": [
    "print(type('pwskills'))"
   ]
  },
  {
   "cell_type": "code",
   "execution_count": 6,
   "id": "0a6d24da-6b1d-4d3e-bf4b-9c2bb0c11b69",
   "metadata": {},
   "outputs": [
    {
     "ename": "SyntaxError",
     "evalue": "incomplete input (1236307212.py, line 2)",
     "output_type": "error",
     "traceback": [
      "\u001b[0;36m  Cell \u001b[0;32mIn[6], line 2\u001b[0;36m\u001b[0m\n\u001b[0;31m    \u001b[0m\n\u001b[0m    ^\u001b[0m\n\u001b[0;31mSyntaxError\u001b[0m\u001b[0;31m:\u001b[0m incomplete input\n"
     ]
    }
   ],
   "source": [
    "class test:\n",
    "    "
   ]
  },
  {
   "cell_type": "code",
   "execution_count": 7,
   "id": "719cb787-ae3b-4c03-8a35-0561f3af7337",
   "metadata": {},
   "outputs": [],
   "source": [
    "class test:\n",
    "    pass"
   ]
  },
  {
   "cell_type": "code",
   "execution_count": 8,
   "id": "580e6b71-91e8-41d6-901c-bacd913e4050",
   "metadata": {},
   "outputs": [],
   "source": [
    "a=test()  # object or instance or variable  of a class test"
   ]
  },
  {
   "cell_type": "code",
   "execution_count": 9,
   "id": "9558e416-bb82-4212-8e0d-33ae08dbef32",
   "metadata": {},
   "outputs": [
    {
     "data": {
      "text/plain": [
       "__main__.test"
      ]
     },
     "execution_count": 9,
     "metadata": {},
     "output_type": "execute_result"
    }
   ],
   "source": [
    "type(a)"
   ]
  },
  {
   "cell_type": "code",
   "execution_count": 10,
   "id": "13d797c0-b073-48a4-8222-bd3751709ce8",
   "metadata": {},
   "outputs": [
    {
     "name": "stdout",
     "output_type": "stream",
     "text": [
      "<class '__main__.test'>\n"
     ]
    }
   ],
   "source": [
    "print(type(a))  # test "
   ]
  },
  {
   "cell_type": "code",
   "execution_count": 14,
   "id": "15c5a867-d77b-4a34-820f-9a86b7d2849b",
   "metadata": {},
   "outputs": [],
   "source": [
    "class pwskills:\n",
    "    def welcome_msg(self):  # self is a pointer here \n",
    "        print('welcome to pwskillls')"
   ]
  },
  {
   "cell_type": "code",
   "execution_count": 15,
   "id": "d578d0bf-167f-4135-affb-3779abf00486",
   "metadata": {},
   "outputs": [],
   "source": [
    "rohan = pwskills() # rohan is a class variable and access function welcome mesg"
   ]
  },
  {
   "cell_type": "code",
   "execution_count": 16,
   "id": "b63ef650-0127-4807-bd7b-0b0ff0f6c239",
   "metadata": {},
   "outputs": [
    {
     "name": "stdout",
     "output_type": "stream",
     "text": [
      "welcome to pwskillls\n"
     ]
    }
   ],
   "source": [
    "rohan.welcome_msg()"
   ]
  },
  {
   "cell_type": "code",
   "execution_count": 17,
   "id": "5c2fc7d6-d630-456f-9838-43d0d14de407",
   "metadata": {},
   "outputs": [],
   "source": [
    "mohan = pwskills() # object of class pwskills"
   ]
  },
  {
   "cell_type": "code",
   "execution_count": 18,
   "id": "1ca0bc6a-46c7-464e-aea9-fc69d7f23218",
   "metadata": {},
   "outputs": [
    {
     "name": "stdout",
     "output_type": "stream",
     "text": [
      "welcome to pwskillls\n"
     ]
    }
   ],
   "source": [
    "mohan.welcome_msg()  # mohan as object of class can access their function"
   ]
  },
  {
   "cell_type": "code",
   "execution_count": 19,
   "id": "7f42322c-6e57-41ed-9055-b4f90a8b0d0f",
   "metadata": {},
   "outputs": [],
   "source": [
    "sanju=pwskills()"
   ]
  },
  {
   "cell_type": "code",
   "execution_count": 20,
   "id": "1fb940a1-45d4-472d-acae-568df084dbbc",
   "metadata": {},
   "outputs": [
    {
     "name": "stdout",
     "output_type": "stream",
     "text": [
      "welcome to pwskillls\n"
     ]
    }
   ],
   "source": [
    "sanju.welcome_msg()"
   ]
  },
  {
   "cell_type": "raw",
   "id": "29731969-8a9b-42ea-827d-a5772cb71ebd",
   "metadata": {},
   "source": [
    "any object or variable or instance of a class can accesss the function inside the class \n",
    "2. any no of instance ccan be made for any class\n",
    "3. it is increase the usablility,readibility modularity and scalibility"
   ]
  },
  {
   "cell_type": "code",
   "execution_count": 21,
   "id": "0186413a-6800-4c85-91c3-421fba9be147",
   "metadata": {},
   "outputs": [],
   "source": [
    "a=1"
   ]
  },
  {
   "cell_type": "code",
   "execution_count": 22,
   "id": "02427a31-8b9b-47dc-bd90-760f0428fcf7",
   "metadata": {},
   "outputs": [],
   "source": [
    "b=23"
   ]
  },
  {
   "cell_type": "code",
   "execution_count": 23,
   "id": "b7f1064f-6fb3-4238-a6ec-af989be858f7",
   "metadata": {},
   "outputs": [
    {
     "data": {
      "text/plain": [
       "1"
      ]
     },
     "execution_count": 23,
     "metadata": {},
     "output_type": "execute_result"
    }
   ],
   "source": [
    "a"
   ]
  },
  {
   "cell_type": "code",
   "execution_count": 24,
   "id": "effcfd13-907f-442e-826e-eabeeaf242d9",
   "metadata": {},
   "outputs": [
    {
     "data": {
      "text/plain": [
       "23"
      ]
     },
     "execution_count": 24,
     "metadata": {},
     "output_type": "execute_result"
    }
   ],
   "source": [
    "b"
   ]
  },
  {
   "cell_type": "code",
   "execution_count": 28,
   "id": "a1228b85-c1b2-4c13-a4f8-0fcc6499f7e5",
   "metadata": {},
   "outputs": [],
   "source": [
    "# constructors  help the object of class to take data\n",
    "class pwskills1:\n",
    "    def __init__(self ,phone_number,email_id,student_id):# init is inbuilt funcn or constructor,self is reference \n",
    "        self.phone_number = phone_number\n",
    "        self.email_id = email_id\n",
    "        self.student_id = student_id\n",
    "        # init is constructor which take data\n",
    "    def return_student_details(self): #  it is internal method to the class methods\n",
    "        return self.phone_number,self.email_id,self.student_id\n",
    "    \n",
    "\n",
    "        "
   ]
  },
  {
   "cell_type": "code",
   "execution_count": 35,
   "id": "9342cd45-d02e-48b2-a581-91fe7b74e94d",
   "metadata": {},
   "outputs": [],
   "source": [
    "sohan =pwskills1(876807688,'sohan@gmail.com',3443)"
   ]
  },
  {
   "cell_type": "code",
   "execution_count": 36,
   "id": "455ee3ba-e55e-48d4-b124-268227bdcf74",
   "metadata": {},
   "outputs": [
    {
     "data": {
      "text/plain": [
       "876807688"
      ]
     },
     "execution_count": 36,
     "metadata": {},
     "output_type": "execute_result"
    }
   ],
   "source": [
    "sohan.phone_number"
   ]
  },
  {
   "cell_type": "code",
   "execution_count": 37,
   "id": "5e5fce6e-e92c-4d96-8a6f-3636db9ecc57",
   "metadata": {},
   "outputs": [
    {
     "data": {
      "text/plain": [
       "(876807688, 'sohan@gmail.com', 3443)"
      ]
     },
     "execution_count": 37,
     "metadata": {},
     "output_type": "execute_result"
    }
   ],
   "source": [
    "sohan.return_student_details()"
   ]
  },
  {
   "cell_type": "code",
   "execution_count": 29,
   "id": "70a1b958-56fe-41a8-be86-9cbfa9ab0271",
   "metadata": {},
   "outputs": [],
   "source": [
    "rohan = pwskills1(87987978,'rohan@gmail.com',45)"
   ]
  },
  {
   "cell_type": "code",
   "execution_count": 30,
   "id": "eb5a545c-de9b-4e47-bf1f-7053fdc56464",
   "metadata": {},
   "outputs": [
    {
     "data": {
      "text/plain": [
       "87987978"
      ]
     },
     "execution_count": 30,
     "metadata": {},
     "output_type": "execute_result"
    }
   ],
   "source": [
    "rohan.phone_number"
   ]
  },
  {
   "cell_type": "code",
   "execution_count": 31,
   "id": "0367beb1-5600-4a7a-8d9e-045a45a3fdf3",
   "metadata": {},
   "outputs": [
    {
     "data": {
      "text/plain": [
       "'rohan@gmail.com'"
      ]
     },
     "execution_count": 31,
     "metadata": {},
     "output_type": "execute_result"
    }
   ],
   "source": [
    "rohan.email_id"
   ]
  },
  {
   "cell_type": "code",
   "execution_count": 32,
   "id": "3ed2efa4-3c02-48dd-8ce2-a13cdfaaa3c4",
   "metadata": {},
   "outputs": [
    {
     "data": {
      "text/plain": [
       "45"
      ]
     },
     "execution_count": 32,
     "metadata": {},
     "output_type": "execute_result"
    }
   ],
   "source": [
    "rohan.student_id"
   ]
  },
  {
   "cell_type": "code",
   "execution_count": 34,
   "id": "ee90b59b-0b1c-4c53-bf1d-a19634b96be8",
   "metadata": {},
   "outputs": [
    {
     "data": {
      "text/plain": [
       "(87987978, 'rohan@gmail.com', 45)"
      ]
     },
     "execution_count": 34,
     "metadata": {},
     "output_type": "execute_result"
    }
   ],
   "source": [
    "rohan.return_student_details()  # in class method we are extracting data "
   ]
  },
  {
   "cell_type": "code",
   "execution_count": 38,
   "id": "aefafc27-81ba-49bc-8e20-d67faa9bf60d",
   "metadata": {},
   "outputs": [],
   "source": [
    "# outside the class  we can access data with the help of object\n",
    "# self is not keyword it is just a reference...we can use any name in the place of it"
   ]
  },
  {
   "cell_type": "code",
   "execution_count": 39,
   "id": "5b382d60-394f-4881-8648-c1108661dff4",
   "metadata": {},
   "outputs": [],
   "source": [
    "# constructors  help the object of class to take data\n",
    "class pwskills2:\n",
    "    def __init__(sudh ,phone_number,email_id,student_id):# init is inbuilt funcn or constructor,self is reference \n",
    "        sudh.phone_number = phone_number\n",
    "        sudh.email_id = email_id\n",
    "        sudh.student_id = student_id\n",
    "        # init is constructor which take data\n",
    "    def return_student_details(sudh): #  it is internal method to the class methods\n",
    "        return sudh.phone_number,sudh.email_id,sudh.student_id\n",
    "    \n",
    "\n",
    "        "
   ]
  },
  {
   "cell_type": "code",
   "execution_count": 40,
   "id": "59ae83b1-54ef-4ab0-99ab-779c02111910",
   "metadata": {},
   "outputs": [],
   "source": [
    "mani = pwskills2(8787989,'mani@gmail.com',89)"
   ]
  },
  {
   "cell_type": "code",
   "execution_count": 41,
   "id": "20a693a6-012a-4c98-b665-ce5c3586ff12",
   "metadata": {},
   "outputs": [
    {
     "data": {
      "text/plain": [
       "8787989"
      ]
     },
     "execution_count": 41,
     "metadata": {},
     "output_type": "execute_result"
    }
   ],
   "source": [
    "mani.phone_number"
   ]
  },
  {
   "cell_type": "code",
   "execution_count": 42,
   "id": "f03695f5-524a-473e-910f-6be37dec5179",
   "metadata": {},
   "outputs": [
    {
     "data": {
      "text/plain": [
       "(8787989, 'mani@gmail.com', 89)"
      ]
     },
     "execution_count": 42,
     "metadata": {},
     "output_type": "execute_result"
    }
   ],
   "source": [
    "mani.return_student_details()"
   ]
  },
  {
   "cell_type": "code",
   "execution_count": 52,
   "id": "20f532d2-39cf-4de8-b937-cd1c4fbda54c",
   "metadata": {},
   "outputs": [],
   "source": [
    "# constructors  help the object of class to take data\n",
    "class pwskills3:\n",
    "    def __init__(sudh ,phone_number,email_id,student_id):# init is inbuilt funcn or constructor,self is reference \n",
    "        sudh.phone_number1 = phone_number\n",
    "        sudh.email_id = email_id\n",
    "        sudh.student_id = student_id\n",
    "        # init is constructor which take data\n",
    "    def return_student_details(sudh): #  it is internal method to the class methods\n",
    "        return sudh.phone_number1,sudh.email_id,sudh.student_id\n",
    "    "
   ]
  },
  {
   "cell_type": "code",
   "execution_count": null,
   "id": "89222dae-526a-4061-92e1-d8fdb22f44f6",
   "metadata": {},
   "outputs": [],
   "source": [
    "ramesh = pwskills3(8678079,'ramesh@gmail.com',987)"
   ]
  },
  {
   "cell_type": "code",
   "execution_count": 54,
   "id": "0fd85bad-14ca-4dd1-bcbd-ef036899a063",
   "metadata": {},
   "outputs": [
    {
     "ename": "AttributeError",
     "evalue": "'pwskills3' object has no attribute 'phone_number'",
     "output_type": "error",
     "traceback": [
      "\u001b[0;31m---------------------------------------------------------------------------\u001b[0m",
      "\u001b[0;31mAttributeError\u001b[0m                            Traceback (most recent call last)",
      "Cell \u001b[0;32mIn[54], line 1\u001b[0m\n\u001b[0;32m----> 1\u001b[0m \u001b[43mramesh\u001b[49m\u001b[38;5;241;43m.\u001b[39;49m\u001b[43mphone_number\u001b[49m \u001b[38;5;66;03m# class will always left side of reference not right\u001b[39;00m\n",
      "\u001b[0;31mAttributeError\u001b[0m: 'pwskills3' object has no attribute 'phone_number'"
     ]
    }
   ],
   "source": [
    "ramesh.phone_number # class will always left side of reference not right"
   ]
  },
  {
   "cell_type": "code",
   "execution_count": 55,
   "id": "819ca8e8-07dd-476d-91a1-56d5d31d4fec",
   "metadata": {},
   "outputs": [
    {
     "data": {
      "text/plain": [
       "8678079"
      ]
     },
     "execution_count": 55,
     "metadata": {},
     "output_type": "execute_result"
    }
   ],
   "source": [
    "ramesh.phone_number1"
   ]
  },
  {
   "cell_type": "code",
   "execution_count": 56,
   "id": "2f7eaff4-736f-48d5-86b8-af8733f10f28",
   "metadata": {},
   "outputs": [
    {
     "data": {
      "text/plain": [
       "(8678079, 'ramesh@gmail.com', 987)"
      ]
     },
     "execution_count": 56,
     "metadata": {},
     "output_type": "execute_result"
    }
   ],
   "source": [
    "ramesh.return_student_details() # error is because of phoneno1 in sudh and in class method has phone no so update to get right one.."
   ]
  },
  {
   "cell_type": "raw",
   "id": "6efd8f48-226b-4587-8891-a8ac806b02f0",
   "metadata": {},
   "source": [
    "1 class increase the structure\n",
    "2.class increase the reusibility\n",
    "3. it increases the modularity inside the code."
   ]
  },
  {
   "cell_type": "code",
   "execution_count": null,
   "id": "37897d7f-e96f-4076-b162-3ad12eb83da4",
   "metadata": {},
   "outputs": [],
   "source": []
  },
  {
   "cell_type": "markdown",
   "id": "5fea4979-687c-4019-a48e-a11d7b931f5d",
   "metadata": {},
   "source": [
    "# lecture 2 polymorphism"
   ]
  },
  {
   "cell_type": "code",
   "execution_count": null,
   "id": "3ede826e-0d82-467f-a4ba-52272517dee9",
   "metadata": {},
   "outputs": [],
   "source": [
    "# single function having different forms or structure."
   ]
  },
  {
   "cell_type": "code",
   "execution_count": 60,
   "id": "ccc8cba2-6ab3-4154-a64a-1d0903cf508c",
   "metadata": {},
   "outputs": [],
   "source": [
    "def test(a,b):\n",
    "    return a+b"
   ]
  },
  {
   "cell_type": "code",
   "execution_count": 61,
   "id": "d675606b-7fd0-4cf3-8d60-760d93158402",
   "metadata": {},
   "outputs": [
    {
     "data": {
      "text/plain": [
       "5"
      ]
     },
     "execution_count": 61,
     "metadata": {},
     "output_type": "execute_result"
    }
   ],
   "source": [
    "test(2,3)  # 1. it is performing addition "
   ]
  },
  {
   "cell_type": "code",
   "execution_count": 62,
   "id": "33c2b09b-ff93-488a-963b-34c9b6349728",
   "metadata": {},
   "outputs": [
    {
     "data": {
      "text/plain": [
       "'amesan'"
      ]
     },
     "execution_count": 62,
     "metadata": {},
     "output_type": "execute_result"
    }
   ],
   "source": [
    "test('ame','san') # here performing concatenation "
   ]
  },
  {
   "cell_type": "code",
   "execution_count": 63,
   "id": "5dd36fe8-ba64-4988-b19e-11fa574a4824",
   "metadata": {},
   "outputs": [
    {
     "data": {
      "text/plain": [
       "[44, 55, 454, 53]"
      ]
     },
     "execution_count": 63,
     "metadata": {},
     "output_type": "execute_result"
    }
   ],
   "source": [
    "test([44,55],[454,53])"
   ]
  },
  {
   "cell_type": "code",
   "execution_count": 6,
   "id": "288f86ce-2777-4439-b865-fc4cbf7506aa",
   "metadata": {},
   "outputs": [],
   "source": [
    "class data_science:\n",
    "    def syllabus(self):\n",
    "        print('this is my datascience syllabus')"
   ]
  },
  {
   "cell_type": "code",
   "execution_count": 7,
   "id": "4276f305-46c2-4148-a348-f21e64f14e1f",
   "metadata": {},
   "outputs": [],
   "source": [
    "class web_dev:\n",
    "    def syllabus(self):\n",
    "        print('this is my method for web dev')"
   ]
  },
  {
   "cell_type": "code",
   "execution_count": 8,
   "id": "7733a9ce-a707-4b21-993c-081859ff463e",
   "metadata": {},
   "outputs": [],
   "source": [
    "obj_ds = data_science()\n",
    "obj_wd = web_dev()"
   ]
  },
  {
   "cell_type": "code",
   "execution_count": 9,
   "id": "1bc7f841-83d2-45b1-a987-eeb299b419d6",
   "metadata": {},
   "outputs": [],
   "source": [
    "class_obj = [obj_ds, obj_wd]"
   ]
  },
  {
   "cell_type": "code",
   "execution_count": 10,
   "id": "4c1b2446-0bd6-4b19-8179-783e82ced2e7",
   "metadata": {},
   "outputs": [],
   "source": [
    "def class_parcer(class_obj):\n",
    "    for i in class_obj:\n",
    "        i.syllabus()"
   ]
  },
  {
   "cell_type": "code",
   "execution_count": 11,
   "id": "97662c23-e39f-4d96-9fe1-40734b4a6eb0",
   "metadata": {},
   "outputs": [
    {
     "name": "stdout",
     "output_type": "stream",
     "text": [
      "this is my datascience syllabus\n",
      "this is my method for web dev\n"
     ]
    }
   ],
   "source": [
    "class_parcer(class_obj)"
   ]
  },
  {
   "cell_type": "code",
   "execution_count": 12,
   "id": "64ffd424-ae0b-46dc-8e10-db81ed0dfbc5",
   "metadata": {},
   "outputs": [],
   "source": [
    "class animal:\n",
    "    def favourite(self):\n",
    "        print('this is my animal cow dog buffalo')"
   ]
  },
  {
   "cell_type": "code",
   "execution_count": 13,
   "id": "43ab0044-fe9f-4db6-b14a-d6b155e8da6f",
   "metadata": {},
   "outputs": [],
   "source": [
    "class flower:\n",
    "    def favourite(self):\n",
    "        print('this is my flower marigold ,rose,lily')"
   ]
  },
  {
   "cell_type": "code",
   "execution_count": 14,
   "id": "2811ba45-8e7b-493f-8aaf-aede2e0cf5c1",
   "metadata": {},
   "outputs": [],
   "source": [
    "obj_animal=animal()\n",
    "obj_flower = flower()"
   ]
  },
  {
   "cell_type": "code",
   "execution_count": 15,
   "id": "b123621e-9592-467c-8bd2-2c635bd60c10",
   "metadata": {},
   "outputs": [],
   "source": [
    "box = [obj_animal,obj_flower]"
   ]
  },
  {
   "cell_type": "code",
   "execution_count": 18,
   "id": "5e261f31-d3a8-4629-b375-ccf9a682675c",
   "metadata": {},
   "outputs": [],
   "source": [
    "def class_parcer(box):\n",
    "    for i in box:\n",
    "        i.favourite()"
   ]
  },
  {
   "cell_type": "code",
   "execution_count": 19,
   "id": "76db549a-cd56-448f-806d-1879fff2b44c",
   "metadata": {},
   "outputs": [
    {
     "name": "stdout",
     "output_type": "stream",
     "text": [
      "this is my animal cow dog buffalo\n",
      "this is my flower marigold ,rose,lily\n"
     ]
    }
   ],
   "source": [
    "class_parcer(box)"
   ]
  },
  {
   "cell_type": "code",
   "execution_count": 21,
   "id": "8cc04d00-57fb-4cf9-9848-714bad6e103f",
   "metadata": {},
   "outputs": [],
   "source": [
    "class data_science:\n",
    "    def syllabus(self):\n",
    "        print('this is my learining during daata science course')"
   ]
  },
  {
   "cell_type": "code",
   "execution_count": 22,
   "id": "8755b3d0-c9e0-4e79-8d2b-2138278a99d5",
   "metadata": {},
   "outputs": [],
   "source": [
    "class data_analyst:\n",
    "    def syllabus(self):\n",
    "        print('this is my learning during data analyat journey')"
   ]
  },
  {
   "cell_type": "code",
   "execution_count": 23,
   "id": "225ca54d-edd3-48ef-8dbc-08d0d9331f30",
   "metadata": {},
   "outputs": [],
   "source": [
    "obj_sd=data_science()\n",
    "obj_da = data_analyst()"
   ]
  },
  {
   "cell_type": "code",
   "execution_count": 24,
   "id": "0e69f044-c367-48d3-b7c9-e591e492c2ea",
   "metadata": {},
   "outputs": [],
   "source": [
    "sanju= [obj_ds,obj_da]"
   ]
  },
  {
   "cell_type": "code",
   "execution_count": 25,
   "id": "6c24863c-f68b-49a7-b08a-0812207b74f0",
   "metadata": {},
   "outputs": [],
   "source": [
    "def class_parser(sanju):  # here this class is trying to perform polymorphis\n",
    "    for i in sanju:\n",
    "        i.syllabus()\n",
    "        \n",
    "# first of all access sanju,then obj and then class(doing multiple work at a time)     "
   ]
  },
  {
   "cell_type": "code",
   "execution_count": 26,
   "id": "774128cb-1d03-4895-965a-8888d92a8e0e",
   "metadata": {},
   "outputs": [
    {
     "name": "stdout",
     "output_type": "stream",
     "text": [
      "this is my datascience syllabus\n",
      "this is my learning during data analyat journey\n"
     ]
    }
   ],
   "source": [
    "class_parser(sanju)"
   ]
  },
  {
   "cell_type": "code",
   "execution_count": null,
   "id": "2277e363-9de2-4182-a5bb-83a14e2e9aef",
   "metadata": {},
   "outputs": [],
   "source": []
  },
  {
   "cell_type": "markdown",
   "id": "d1697f49-9786-4845-b4e8-607d5860292f",
   "metadata": {},
   "source": [
    "# Encapsulation"
   ]
  },
  {
   "cell_type": "code",
   "execution_count": 27,
   "id": "4ca5e747-8fa4-4acb-8156-06d1993e5dc6",
   "metadata": {},
   "outputs": [],
   "source": [
    "class test:\n",
    "    def __init__(self,a,b):\n",
    "        self.a = a\n",
    "        self.b = b"
   ]
  },
  {
   "cell_type": "code",
   "execution_count": 29,
   "id": "ed8181b6-a5b8-457a-886d-e34486da462d",
   "metadata": {},
   "outputs": [],
   "source": [
    "t=test(34,43)"
   ]
  },
  {
   "cell_type": "code",
   "execution_count": 30,
   "id": "8dc432b2-8f0d-4c97-9635-448d7d836988",
   "metadata": {},
   "outputs": [
    {
     "data": {
      "text/plain": [
       "34"
      ]
     },
     "execution_count": 30,
     "metadata": {},
     "output_type": "execute_result"
    }
   ],
   "source": [
    "t.a# access the test data"
   ]
  },
  {
   "cell_type": "code",
   "execution_count": 31,
   "id": "5456d7a8-719f-4149-b361-3513eb7d8771",
   "metadata": {},
   "outputs": [
    {
     "data": {
      "text/plain": [
       "43"
      ]
     },
     "execution_count": 31,
     "metadata": {},
     "output_type": "execute_result"
    }
   ],
   "source": [
    "t.b"
   ]
  },
  {
   "cell_type": "code",
   "execution_count": 32,
   "id": "7e0d005e-65aa-4d1e-a550-25fbdf625d48",
   "metadata": {},
   "outputs": [],
   "source": [
    "t.a=8789   # can update the data "
   ]
  },
  {
   "cell_type": "code",
   "execution_count": 33,
   "id": "2f6eb712-5338-4884-8f43-a55951b5ff92",
   "metadata": {},
   "outputs": [
    {
     "data": {
      "text/plain": [
       "8789"
      ]
     },
     "execution_count": 33,
     "metadata": {},
     "output_type": "execute_result"
    }
   ],
   "source": [
    "t.a"
   ]
  },
  {
   "cell_type": "raw",
   "id": "0295c44e-8959-4cad-b29f-c9db4cc8e948",
   "metadata": {},
   "source": [
    "in this class test ,\n",
    "1. with help of constructor(init) passing the data\n",
    "2.access the data with help of object\n",
    "3.update the data\n",
    "but in case of production grade coding it can be harmful to ....we have to hide the code===use encapsulation\n",
    "4 we will restrict the updation of code\n",
    "5. ex- capsule ..composition of capsule (can't change but have idea about outcome,composition)"
   ]
  },
  {
   "cell_type": "code",
   "execution_count": 15,
   "id": "7f46d4bc-74e6-4312-857a-a56f380ce5c6",
   "metadata": {},
   "outputs": [],
   "source": [
    "class car:\n",
    "    def __init__(self,year,make,model,speed):\n",
    "        self.__year=year  # __in the beginging...makes it private \n",
    "        self.__make=make\n",
    "        self.__model=model\n",
    "        self.__speed=0\n",
    "        \n",
    "    def set_speed(self,speed):\n",
    "        self.__speed = 0 if speed <0 else speed\n",
    "        \n",
    "    def get_speed(self):\n",
    "        return self.__speed"
   ]
  },
  {
   "cell_type": "code",
   "execution_count": 18,
   "id": "72fda523-88b9-42b0-9487-705053642274",
   "metadata": {},
   "outputs": [
    {
     "data": {
      "text/plain": [
       "0"
      ]
     },
     "execution_count": 18,
     "metadata": {},
     "output_type": "execute_result"
    }
   ],
   "source": [
    "obj_car.get_speed()"
   ]
  },
  {
   "cell_type": "code",
   "execution_count": 9,
   "id": "249cd73e-ef14-470a-8179-331908e279e0",
   "metadata": {},
   "outputs": [],
   "source": [
    "obj_car.set_speed(-3435)"
   ]
  },
  {
   "cell_type": "code",
   "execution_count": 10,
   "id": "8a790ac4-29bc-46ab-8716-a2c661a77e4f",
   "metadata": {},
   "outputs": [],
   "source": [
    "obj_car.set_speed(9879)"
   ]
  },
  {
   "cell_type": "code",
   "execution_count": 11,
   "id": "a8cceee7-7b1f-49d4-b260-3e61ef4a3ad0",
   "metadata": {},
   "outputs": [
    {
     "data": {
      "text/plain": [
       "9879"
      ]
     },
     "execution_count": 11,
     "metadata": {},
     "output_type": "execute_result"
    }
   ],
   "source": [
    "obj_car._car__speed  # as a creater of code we can see the car speed ,no one other than you ,cann se"
   ]
  },
  {
   "cell_type": "code",
   "execution_count": 17,
   "id": "5b85bab7-6f44-44cb-8852-3c23976a2a08",
   "metadata": {},
   "outputs": [],
   "source": [
    "obj_car=car(2021, 'toyota','innova',34)"
   ]
  },
  {
   "cell_type": "code",
   "execution_count": 3,
   "id": "4f3863c0-774a-493b-b269-ef5266cfb341",
   "metadata": {},
   "outputs": [
    {
     "ename": "AttributeError",
     "evalue": "'car' object has no attribute '__year'",
     "output_type": "error",
     "traceback": [
      "\u001b[0;31m---------------------------------------------------------------------------\u001b[0m",
      "\u001b[0;31mAttributeError\u001b[0m                            Traceback (most recent call last)",
      "Cell \u001b[0;32mIn[3], line 1\u001b[0m\n\u001b[0;32m----> 1\u001b[0m \u001b[43mobj_car\u001b[49m\u001b[38;5;241;43m.\u001b[39;49m\u001b[43m__year\u001b[49m  \u001b[38;5;66;03m# through object we can't see the ..as it is private\u001b[39;00m\n",
      "\u001b[0;31mAttributeError\u001b[0m: 'car' object has no attribute '__year'"
     ]
    }
   ],
   "source": [
    "obj_car.__year  # through object we can't see the ..as it is private"
   ]
  },
  {
   "cell_type": "code",
   "execution_count": 4,
   "id": "84338a1c-6a84-4ec0-bd0f-8e8e913a2c8a",
   "metadata": {},
   "outputs": [
    {
     "data": {
      "text/plain": [
       "2021"
      ]
     },
     "execution_count": 4,
     "metadata": {},
     "output_type": "execute_result"
    }
   ],
   "source": [
    "obj_car._car__year # but with the help of class we can access the code base"
   ]
  },
  {
   "cell_type": "code",
   "execution_count": 5,
   "id": "a8cc9dff-74b5-4621-9574-b3515dea2381",
   "metadata": {},
   "outputs": [],
   "source": [
    "obj_car._car__year =343"
   ]
  },
  {
   "cell_type": "code",
   "execution_count": 6,
   "id": "fa131d8f-39ca-49fe-a64b-3831ae04b561",
   "metadata": {},
   "outputs": [
    {
     "data": {
      "text/plain": [
       "343"
      ]
     },
     "execution_count": 6,
     "metadata": {},
     "output_type": "execute_result"
    }
   ],
   "source": [
    "obj_car._car__year"
   ]
  },
  {
   "cell_type": "code",
   "execution_count": 17,
   "id": "6affa281-0b8d-41d0-911d-7139fdf67805",
   "metadata": {},
   "outputs": [],
   "source": []
  },
  {
   "cell_type": "code",
   "execution_count": 18,
   "id": "66400f16-b3f7-43c1-a2f4-93e2027ca96a",
   "metadata": {},
   "outputs": [
    {
     "ename": "AttributeError",
     "evalue": "'car' object has no attribute 'set_speed'",
     "output_type": "error",
     "traceback": [
      "\u001b[0;31m---------------------------------------------------------------------------\u001b[0m",
      "\u001b[0;31mAttributeError\u001b[0m                            Traceback (most recent call last)",
      "Cell \u001b[0;32mIn[18], line 1\u001b[0m\n\u001b[0;32m----> 1\u001b[0m \u001b[43mobj_car\u001b[49m\u001b[38;5;241;43m.\u001b[39;49m\u001b[43mset_speed\u001b[49m(\u001b[38;5;241m-\u001b[39m\u001b[38;5;241m8978\u001b[39m)\n",
      "\u001b[0;31mAttributeError\u001b[0m: 'car' object has no attribute 'set_speed'"
     ]
    }
   ],
   "source": []
  },
  {
   "cell_type": "code",
   "execution_count": 19,
   "id": "e14f223b-22e8-4762-99a8-a939ed21410e",
   "metadata": {},
   "outputs": [
    {
     "ename": "AttributeError",
     "evalue": "'car' object has no attribute 'set_speed'",
     "output_type": "error",
     "traceback": [
      "\u001b[0;31m---------------------------------------------------------------------------\u001b[0m",
      "\u001b[0;31mAttributeError\u001b[0m                            Traceback (most recent call last)",
      "Cell \u001b[0;32mIn[19], line 1\u001b[0m\n\u001b[0;32m----> 1\u001b[0m \u001b[43mobj_car\u001b[49m\u001b[38;5;241;43m.\u001b[39;49m\u001b[43mset_speed\u001b[49m(\u001b[38;5;241m45\u001b[39m)\n",
      "\u001b[0;31mAttributeError\u001b[0m: 'car' object has no attribute 'set_speed'"
     ]
    }
   ],
   "source": []
  },
  {
   "cell_type": "code",
   "execution_count": null,
   "id": "df1296db-0efb-4811-b2d7-87faebd9d1a0",
   "metadata": {},
   "outputs": [],
   "source": []
  },
  {
   "cell_type": "code",
   "execution_count": 55,
   "id": "210b9ba4-c157-4c95-891d-0aec57cd89d6",
   "metadata": {},
   "outputs": [],
   "source": [
    "class bank_account:\n",
    "    \n",
    "    def __init__(self,balance):  # constrctor encapsulated cant be access by object\n",
    "        self.__balance = balance\n",
    "        \n",
    "    def deposite(self,amount):   # these can be access by object\n",
    "        self.__balance = self.__balance + amount\n",
    "        \n",
    "    def withdraw(self,amount):\n",
    "        if self.__balance >= amount:\n",
    "            self.__balance = self.__balance -amount\n",
    "            \n",
    "            return True\n",
    "        else:\n",
    "            return False\n",
    "            \n",
    "    def get_balance(self):\n",
    "        return self.__balance\n",
    "    \n",
    "            "
   ]
  },
  {
   "cell_type": "code",
   "execution_count": 56,
   "id": "ceb92a71-627f-4eec-bfd8-85545eaae2cf",
   "metadata": {},
   "outputs": [
    {
     "data": {
      "text/plain": [
       "2000"
      ]
     },
     "execution_count": 56,
     "metadata": {},
     "output_type": "execute_result"
    }
   ],
   "source": [
    "obj_bank_account.get_balance()"
   ]
  },
  {
   "cell_type": "code",
   "execution_count": 44,
   "id": "69f56c95-8cbd-4a07-ae45-40f5cdfa0312",
   "metadata": {},
   "outputs": [],
   "source": [
    "obj_bank_account.deposite(1000)"
   ]
  },
  {
   "cell_type": "code",
   "execution_count": 37,
   "id": "ade91947-cf5d-4ce5-b199-20cc44a137d1",
   "metadata": {},
   "outputs": [
    {
     "data": {
      "text/plain": [
       "True"
      ]
     },
     "execution_count": 37,
     "metadata": {},
     "output_type": "execute_result"
    }
   ],
   "source": [
    "obj_bank_account.withdraw(1000)"
   ]
  },
  {
   "cell_type": "code",
   "execution_count": 45,
   "id": "7a96e346-0452-45f7-8fae-ac78ae926892",
   "metadata": {},
   "outputs": [
    {
     "data": {
      "text/plain": [
       "10000"
      ]
     },
     "execution_count": 45,
     "metadata": {},
     "output_type": "execute_result"
    }
   ],
   "source": [
    "obj_bank_account.get_balance()"
   ]
  },
  {
   "cell_type": "code",
   "execution_count": 7,
   "id": "6cf0091a-7f87-4851-a4c2-cd7c31c2b031",
   "metadata": {},
   "outputs": [],
   "source": [
    "class bank_account1:\n",
    "    def __init__(self,balance):\n",
    "        self.__balance = balance\n",
    "    \n",
    "    def deposite(self,amount):\n",
    "        self.__balance= self.__balance + amount\n",
    "        \n",
    "        \n",
    "    def withdrawn(self,amount):\n",
    "        if self.__balance >= amount:  \n",
    "            self.__balance = self.__balance - amount\n",
    "            return True \n",
    "        else:\n",
    "            return False\n",
    "\n",
    "    def get_balance(self):\n",
    "        return self.__balance\n",
    "\n",
    "\n",
    "        "
   ]
  },
  {
   "cell_type": "code",
   "execution_count": 8,
   "id": "1ff2764e-0bde-461f-95bb-da14ec1ad1f5",
   "metadata": {},
   "outputs": [],
   "source": [
    "obj_bank_account = bank_account1(2000)"
   ]
  },
  {
   "cell_type": "code",
   "execution_count": 9,
   "id": "0078855b-d479-433b-853a-3b238daea741",
   "metadata": {},
   "outputs": [
    {
     "data": {
      "text/plain": [
       "2000"
      ]
     },
     "execution_count": 9,
     "metadata": {},
     "output_type": "execute_result"
    }
   ],
   "source": [
    "obj_bank_account.get_balance()"
   ]
  },
  {
   "cell_type": "code",
   "execution_count": 10,
   "id": "5d6ec9f8-fca1-405c-97c2-631b98cb3da3",
   "metadata": {},
   "outputs": [
    {
     "data": {
      "text/plain": [
       "True"
      ]
     },
     "execution_count": 10,
     "metadata": {},
     "output_type": "execute_result"
    }
   ],
   "source": [
    "obj_bank_account.withdrawn(100)"
   ]
  },
  {
   "cell_type": "code",
   "execution_count": 11,
   "id": "04377bd0-1e3f-4b26-aab7-d962b9277610",
   "metadata": {},
   "outputs": [],
   "source": [
    "obj_bank_account.deposite(2000)"
   ]
  },
  {
   "cell_type": "code",
   "execution_count": 12,
   "id": "0ce84c14-b9bd-49a5-bc3d-d079766f7fde",
   "metadata": {},
   "outputs": [
    {
     "data": {
      "text/plain": [
       "3900"
      ]
     },
     "execution_count": 12,
     "metadata": {},
     "output_type": "execute_result"
    }
   ],
   "source": [
    "obj_bank_account.get_balance()"
   ]
  },
  {
   "cell_type": "markdown",
   "id": "f66c25a3-7fd2-4f68-bd65-c7b49f559d62",
   "metadata": {},
   "source": [
    "# Inheritance"
   ]
  },
  {
   "cell_type": "code",
   "execution_count": 13,
   "id": "5e39e509-78b5-4001-bc05-8bb03bc60f3f",
   "metadata": {},
   "outputs": [],
   "source": [
    "class parent:\n",
    "    def test_parent(self):\n",
    "        print('this is my parent class')"
   ]
  },
  {
   "cell_type": "code",
   "execution_count": 14,
   "id": "9ceb6684-fcbb-4262-9390-2ec211b57683",
   "metadata": {},
   "outputs": [],
   "source": [
    "class child(parent):  # this will inherit the parent class\n",
    "    pass\n"
   ]
  },
  {
   "cell_type": "code",
   "execution_count": 15,
   "id": "77a4a6e8-b0b8-43f1-9884-53b7557cb25c",
   "metadata": {},
   "outputs": [],
   "source": [
    "obj_child = child()"
   ]
  },
  {
   "cell_type": "code",
   "execution_count": 16,
   "id": "01b71b29-f7e4-4563-a2f8-a31edf24d0e0",
   "metadata": {},
   "outputs": [
    {
     "name": "stdout",
     "output_type": "stream",
     "text": [
      "this is my parent class\n"
     ]
    }
   ],
   "source": [
    "obj_child.test_parent()"
   ]
  },
  {
   "cell_type": "code",
   "execution_count": 11,
   "id": "17547db2-261c-4e5e-88b0-286d4aea442d",
   "metadata": {},
   "outputs": [],
   "source": [
    "# multiple inheritance\n",
    "# multi label inheritance\n",
    "\n",
    "class class1:\n",
    "    def test_class1(self):\n",
    "        print('this is my class1')"
   ]
  },
  {
   "cell_type": "code",
   "execution_count": 12,
   "id": "5e174aed-0339-4c54-928f-72c645607232",
   "metadata": {},
   "outputs": [],
   "source": [
    "class class2(class1):\n",
    "    def test_class2(self):\n",
    "        print('this is my class 2')"
   ]
  },
  {
   "cell_type": "code",
   "execution_count": 13,
   "id": "6ade28cb-9fa2-4133-b0a6-b2b734d91284",
   "metadata": {},
   "outputs": [],
   "source": [
    "class class3(class2):\n",
    "    def test_class3(self):\n",
    "        print('this is muy class 3')"
   ]
  },
  {
   "cell_type": "code",
   "execution_count": 14,
   "id": "0cce84d5-3698-4686-a4d5-433c5ae61be4",
   "metadata": {},
   "outputs": [],
   "source": [
    "obj_class1=class1()"
   ]
  },
  {
   "cell_type": "code",
   "execution_count": 15,
   "id": "6f849074-2354-42ec-b0d0-cba35fbbee0e",
   "metadata": {},
   "outputs": [
    {
     "name": "stdout",
     "output_type": "stream",
     "text": [
      "this is my class1\n"
     ]
    }
   ],
   "source": [
    "obj_class1.test_class1()"
   ]
  },
  {
   "cell_type": "code",
   "execution_count": 16,
   "id": "71520ec7-ac48-447b-bcce-8012b0fa42b0",
   "metadata": {},
   "outputs": [],
   "source": [
    "obj_class2=class2()"
   ]
  },
  {
   "cell_type": "code",
   "execution_count": 17,
   "id": "4186ac27-9668-4954-a43f-0a40bed8b3cc",
   "metadata": {},
   "outputs": [
    {
     "name": "stdout",
     "output_type": "stream",
     "text": [
      "this is my class 2\n"
     ]
    }
   ],
   "source": [
    "obj_class2.   # obj of class2 inherit tthe class1 and class2"
   ]
  },
  {
   "cell_type": "code",
   "execution_count": 18,
   "id": "eac38069-479c-4273-8546-ad367d4b1c0a",
   "metadata": {},
   "outputs": [],
   "source": [
    "obj_cls3 = class3()"
   ]
  },
  {
   "cell_type": "code",
   "execution_count": 20,
   "id": "ebbc9c3b-ce26-48af-a72c-ef608d17c20b",
   "metadata": {},
   "outputs": [
    {
     "name": "stdout",
     "output_type": "stream",
     "text": [
      "this is my class1\n"
     ]
    }
   ],
   "source": [
    "obj_cls3.test_class1()  # object of  class 3 inherit the class1,class2,class3"
   ]
  },
  {
   "cell_type": "code",
   "execution_count": 21,
   "id": "7c88a4fc-4cf7-47bd-996d-9cc8b5ff6abf",
   "metadata": {},
   "outputs": [
    {
     "name": "stdout",
     "output_type": "stream",
     "text": [
      "this is my class 2\n"
     ]
    }
   ],
   "source": [
    "obj_cls3.test_class2()"
   ]
  },
  {
   "cell_type": "code",
   "execution_count": 22,
   "id": "1ef4fa44-50b9-4f8d-a114-68a9a50619d0",
   "metadata": {},
   "outputs": [
    {
     "name": "stdout",
     "output_type": "stream",
     "text": [
      "this is muy class 3\n"
     ]
    }
   ],
   "source": [
    "obj_cls3.test_class3()"
   ]
  },
  {
   "cell_type": "code",
   "execution_count": 23,
   "id": "99753410-4425-4248-8aa0-7fa3ac7f7a0a",
   "metadata": {},
   "outputs": [],
   "source": [
    "# this is called multi label inheritance\n"
   ]
  },
  {
   "cell_type": "code",
   "execution_count": 24,
   "id": "9c881570-7e39-49e0-86de-962f839d62f7",
   "metadata": {},
   "outputs": [],
   "source": [
    "class class1:\n",
    "    def test_class1(self):\n",
    "        print('this is my class1')"
   ]
  },
  {
   "cell_type": "code",
   "execution_count": 26,
   "id": "0dfd79ba-0ff0-46d5-a597-f453795b1a22",
   "metadata": {},
   "outputs": [],
   "source": [
    "class class2:\n",
    "    def test_class2(self):\n",
    "        print('this is my class2')"
   ]
  },
  {
   "cell_type": "code",
   "execution_count": 27,
   "id": "78764d6a-910d-4efd-b069-a81413c75c07",
   "metadata": {},
   "outputs": [],
   "source": [
    "class class3(class1,class2):  # multiple inheritance\n",
    "    pass"
   ]
  },
  {
   "cell_type": "code",
   "execution_count": 28,
   "id": "1d858558-de12-4328-a7de-7e632cbf1777",
   "metadata": {},
   "outputs": [],
   "source": [
    "obj_clas3 = class3()"
   ]
  },
  {
   "cell_type": "code",
   "execution_count": 30,
   "id": "7a28a53e-dc08-4ad4-b8d4-23c412c92044",
   "metadata": {},
   "outputs": [
    {
     "name": "stdout",
     "output_type": "stream",
     "text": [
      "this is my class1\n"
     ]
    }
   ],
   "source": [
    "obj_clas3.test_class1()"
   ]
  },
  {
   "cell_type": "markdown",
   "id": "728aa7d4-58b7-4a36-8b21-2f121e4f6cab",
   "metadata": {},
   "source": [
    "# Abstraction"
   ]
  },
  {
   "cell_type": "code",
   "execution_count": null,
   "id": "f31df560-5a62-46c5-b0a2-155e69b7c255",
   "metadata": {},
   "outputs": [],
   "source": [
    "# these are the blue print, skeleton class where we pass different details"
   ]
  },
  {
   "cell_type": "code",
   "execution_count": 33,
   "id": "72b834ee-944a-4011-984f-dd7743be6a94",
   "metadata": {},
   "outputs": [],
   "source": [
    "import abc\n",
    "\n",
    "class pwskills:\n",
    "    \n",
    "    @abc.abstractmethod\n",
    "    def student_details(self):\n",
    "        pass\n",
    "    @abc.abstractmethod\n",
    "    def student_assignment(self):\n",
    "        pass\n",
    "    @abc.abstractmethod\n",
    "    def student_marks(self):\n",
    "        pass"
   ]
  },
  {
   "cell_type": "code",
   "execution_count": 34,
   "id": "319ac705-8262-4b4d-a869-238a46a13f58",
   "metadata": {},
   "outputs": [],
   "source": [
    "class data_science(pwskills):\n",
    "    def student_details(self):\n",
    "        return 'it will try to return a details of data science masters'\n",
    "    \n",
    "    def student_assignment(self):\n",
    "        return 'it will return a details of student assignment  for datasciencd masters'"
   ]
  },
  {
   "cell_type": "code",
   "execution_count": 35,
   "id": "20f90c74-9193-4611-8e87-c48791ff1584",
   "metadata": {},
   "outputs": [],
   "source": [
    "class web_dev(pwskills):\n",
    "    def student_details(self):\n",
    "        return 'this will return a details of web dev'\n",
    "    \n",
    "    \n",
    "    def student_marks(self):\n",
    "        return 'this will return a marks of  web dev class'"
   ]
  },
  {
   "cell_type": "code",
   "execution_count": 36,
   "id": "ab837420-68e9-4654-9170-91421ac34a1a",
   "metadata": {},
   "outputs": [],
   "source": [
    "ds = data_science()"
   ]
  },
  {
   "cell_type": "code",
   "execution_count": 37,
   "id": "45c027cd-b9fd-4a04-bf56-5b6542f8eb0b",
   "metadata": {},
   "outputs": [
    {
     "data": {
      "text/plain": [
       "'it will try to return a details of data science masters'"
      ]
     },
     "execution_count": 37,
     "metadata": {},
     "output_type": "execute_result"
    }
   ],
   "source": [
    "ds.student_details()"
   ]
  },
  {
   "cell_type": "code",
   "execution_count": 38,
   "id": "570c17e7-74d2-4639-9d7b-299fcbc96808",
   "metadata": {},
   "outputs": [],
   "source": [
    "ds.student_marks()"
   ]
  },
  {
   "cell_type": "code",
   "execution_count": 40,
   "id": "f3c201f7-0362-4496-be66-ea4226454448",
   "metadata": {},
   "outputs": [
    {
     "data": {
      "text/plain": [
       "'it will return a details of student assignment  for datasciencd masters'"
      ]
     },
     "execution_count": 40,
     "metadata": {},
     "output_type": "execute_result"
    }
   ],
   "source": [
    "ds.student_assignment()"
   ]
  },
  {
   "cell_type": "code",
   "execution_count": 41,
   "id": "73f7a503-3d6b-4c30-a8d9-57348e9e80e0",
   "metadata": {},
   "outputs": [],
   "source": [
    "wd=web_dev()"
   ]
  },
  {
   "cell_type": "code",
   "execution_count": 42,
   "id": "ea981af2-f8d2-47f0-91f8-3d3ba3b66287",
   "metadata": {},
   "outputs": [],
   "source": [
    "wd.student_assignment()"
   ]
  },
  {
   "cell_type": "code",
   "execution_count": 43,
   "id": "057c6c20-f74b-422f-83f0-598e17d593da",
   "metadata": {},
   "outputs": [
    {
     "data": {
      "text/plain": [
       "'this will return a details of web dev'"
      ]
     },
     "execution_count": 43,
     "metadata": {},
     "output_type": "execute_result"
    }
   ],
   "source": [
    "wd.student_details()"
   ]
  },
  {
   "cell_type": "code",
   "execution_count": 44,
   "id": "3e3a1445-1933-4e11-8862-0bfe334b7068",
   "metadata": {},
   "outputs": [
    {
     "data": {
      "text/plain": [
       "'this will return a marks of  web dev class'"
      ]
     },
     "execution_count": 44,
     "metadata": {},
     "output_type": "execute_result"
    }
   ],
   "source": [
    "wd.student_marks()"
   ]
  },
  {
   "cell_type": "markdown",
   "id": "8bc8c4dd-4fdc-4fe1-b0f0-3b5244740ffb",
   "metadata": {},
   "source": [
    "# Decorators "
   ]
  },
  {
   "cell_type": "code",
   "execution_count": 3,
   "id": "10ba51b7-ee12-4ecd-a895-a37feb2dd065",
   "metadata": {},
   "outputs": [],
   "source": [
    "def test():\n",
    "    print('this is the start of my function')\n",
    "    print(4+8)\n",
    "    print('this is the end of my function')"
   ]
  },
  {
   "cell_type": "code",
   "execution_count": 4,
   "id": "346f06bc-2bd9-4b03-94a7-d9c09a80962a",
   "metadata": {},
   "outputs": [
    {
     "name": "stdout",
     "output_type": "stream",
     "text": [
      "this is the start of my function\n",
      "12\n",
      "this is the end of my function\n"
     ]
    }
   ],
   "source": [
    "test()"
   ]
  },
  {
   "cell_type": "raw",
   "id": "044a7df1-1c53-4bb9-9e1f-0e979b6e8700",
   "metadata": {},
   "source": [
    "what if we want these start and end statement in some other function....then we have to write each and every statement every time ....to overcome this ...decorator is enter..."
   ]
  },
  {
   "cell_type": "raw",
   "id": "b31b98e5-cd70-4d3a-b283-e318f707358f",
   "metadata": {},
   "source": [
    "1.if we want particular function or characteristic we can use decorator ..is increase the reusability of code like we are using time function as many no of times we want."
   ]
  },
  {
   "cell_type": "code",
   "execution_count": 7,
   "id": "f3e9b0cd-6c88-462f-b006-b699a272a74f",
   "metadata": {},
   "outputs": [],
   "source": [
    "def deco(func):\n",
    "    def inner_deco():\n",
    "        print('this is the start of my function')\n",
    "        func()\n",
    "        print('this is the end of my function')\n",
    "    return inner_deco"
   ]
  },
  {
   "cell_type": "code",
   "execution_count": 9,
   "id": "b1b28a33-c7b6-49de-a190-015972aac7d4",
   "metadata": {},
   "outputs": [],
   "source": [
    "@deco  # our custom function\n",
    "def test1():\n",
    "    print(3+3)"
   ]
  },
  {
   "cell_type": "code",
   "execution_count": 10,
   "id": "1ff7effd-fd90-4c96-9447-0441acb7e68c",
   "metadata": {},
   "outputs": [
    {
     "name": "stdout",
     "output_type": "stream",
     "text": [
      "this is the start of my function\n",
      "6\n",
      "this is the end of my function\n"
     ]
    }
   ],
   "source": [
    "test1()"
   ]
  },
  {
   "cell_type": "code",
   "execution_count": 11,
   "id": "25726f61-9fb3-4a3f-95d0-cf53908045af",
   "metadata": {},
   "outputs": [],
   "source": [
    "import time"
   ]
  },
  {
   "cell_type": "code",
   "execution_count": 12,
   "id": "e0970984-b14d-431a-b249-de069ee0981c",
   "metadata": {},
   "outputs": [],
   "source": [
    "def timer_test(func):\n",
    "    def timer_test_inner():\n",
    "        start = time.time()\n",
    "        func()\n",
    "        end=time.time()\n",
    "        print(end-start)\n",
    "    return timer_test_inner    "
   ]
  },
  {
   "cell_type": "code",
   "execution_count": 14,
   "id": "443ee514-c506-4ba3-a3d6-2d5079c67f76",
   "metadata": {},
   "outputs": [],
   "source": [
    "@timer_test\n",
    "def test2():\n",
    "    print(34+43)"
   ]
  },
  {
   "cell_type": "code",
   "execution_count": 15,
   "id": "0b9456d7-a2e6-407e-957f-fb347cc57e9c",
   "metadata": {},
   "outputs": [
    {
     "name": "stdout",
     "output_type": "stream",
     "text": [
      "77\n",
      "4.363059997558594e-05\n"
     ]
    }
   ],
   "source": [
    "test2()"
   ]
  },
  {
   "cell_type": "code",
   "execution_count": 17,
   "id": "a743c372-2aaf-490a-9c2a-b0720da77425",
   "metadata": {},
   "outputs": [],
   "source": [
    "@timer_test\n",
    "def test3():\n",
    "    for i in range(10000):\n",
    "        pass"
   ]
  },
  {
   "cell_type": "code",
   "execution_count": 18,
   "id": "88eaafdc-da8d-4357-bde2-1e8d9fb71d2b",
   "metadata": {},
   "outputs": [
    {
     "name": "stdout",
     "output_type": "stream",
     "text": [
      "0.00019884109497070312\n"
     ]
    }
   ],
   "source": [
    "test3()"
   ]
  },
  {
   "cell_type": "markdown",
   "id": "8aaf99af-83d8-4d00-87f8-0adfb949611e",
   "metadata": {},
   "source": [
    "# Class method"
   ]
  },
  {
   "cell_type": "code",
   "execution_count": null,
   "id": "515943c1-47d7-4ce1-88d7-5bc9e0b7d4d2",
   "metadata": {},
   "outputs": [],
   "source": [
    "it is related to decorator"
   ]
  },
  {
   "cell_type": "code",
   "execution_count": 27,
   "id": "8a4f41c3-e677-455b-b9f7-98de2cf89a79",
   "metadata": {},
   "outputs": [],
   "source": [
    "class pwskills:\n",
    "    def __init__(self,name,email):  # constructor to take data\n",
    "        self.name =name\n",
    "        self.email = email\n",
    "        \n",
    "        \n",
    "    def student_details(self):  # inner function\n",
    "        print(self.name,self.email)"
   ]
  },
  {
   "cell_type": "code",
   "execution_count": 28,
   "id": "90c69290-3473-44f8-821c-48744017ea7e",
   "metadata": {},
   "outputs": [],
   "source": [
    "obj_pw=pwskills('manisha','manisha@gmail.com')"
   ]
  },
  {
   "cell_type": "code",
   "execution_count": 29,
   "id": "8134a430-c0f5-4506-a895-3547aea88402",
   "metadata": {},
   "outputs": [
    {
     "data": {
      "text/plain": [
       "'manisha@gmail.com'"
      ]
     },
     "execution_count": 29,
     "metadata": {},
     "output_type": "execute_result"
    }
   ],
   "source": [
    "obj_pw.email"
   ]
  },
  {
   "cell_type": "code",
   "execution_count": 30,
   "id": "fb6dca31-9187-4404-ad36-64754f882f19",
   "metadata": {},
   "outputs": [
    {
     "data": {
      "text/plain": [
       "'manisha'"
      ]
     },
     "execution_count": 30,
     "metadata": {},
     "output_type": "execute_result"
    }
   ],
   "source": [
    "obj_pw.name"
   ]
  },
  {
   "cell_type": "code",
   "execution_count": 32,
   "id": "82cea3ee-2fc5-462f-971d-3c4bbfac6435",
   "metadata": {},
   "outputs": [
    {
     "name": "stdout",
     "output_type": "stream",
     "text": [
      "manisha manisha@gmail.com\n"
     ]
    }
   ],
   "source": [
    "obj_pw.student_details()"
   ]
  },
  {
   "cell_type": "raw",
   "id": "8c63afa8-f243-4c7d-a7b2-fcd22eac6293",
   "metadata": {},
   "source": [
    "what is the other alternative to pass the data except constructor method\n",
    "\n",
    "ans class method\n",
    "1.we can update and access data with help of class name directly.\n",
    "2 whenever we change name--name1,email--email1 ,internally it changes this name and email in inbuilt function ( so we are able to OVERLOADING OF INBUILT FUNCTION WITH THE HELP OF CLASS METHOD)generally it is not possible but here we are achieving this."
   ]
  },
  {
   "cell_type": "code",
   "execution_count": 4,
   "id": "399ba591-e059-4ab0-b31d-c572565b6fb8",
   "metadata": {},
   "outputs": [],
   "source": [
    "class pwskills1:\n",
    "    def __init__(self,name,email):  # constructor to take data\n",
    "        self.name =name    # in this we are able to pass data to class with the help of instance\n",
    "        self.email = email\n",
    "    @classmethod   # inbuilt decorator for any class in python\n",
    "    def details(cls,name1,email1):  # here we will pass the data directly\n",
    "        return cls(name1,email1)\n",
    "    \n",
    "    \n",
    "    def student_details(self):  # inner functionhel\n",
    "        print(self.name,self.email)"
   ]
  },
  {
   "cell_type": "code",
   "execution_count": 54,
   "id": "651b0b41-c5bf-43f7-abcf-d1a96fa7a5b7",
   "metadata": {},
   "outputs": [],
   "source": [
    "pw=pwskills1.details('mohan','mohan@gmail.com') # we can update and access the data with class name"
   ]
  },
  {
   "cell_type": "code",
   "execution_count": 47,
   "id": "cd232002-fe90-48fc-8c77-eb640f589c67",
   "metadata": {},
   "outputs": [
    {
     "data": {
      "text/plain": [
       "'mohan'"
      ]
     },
     "execution_count": 47,
     "metadata": {},
     "output_type": "execute_result"
    }
   ],
   "source": [
    "pw.name"
   ]
  },
  {
   "cell_type": "code",
   "execution_count": 48,
   "id": "e50f5c99-252d-4073-afaf-a688b04bad3c",
   "metadata": {},
   "outputs": [
    {
     "data": {
      "text/plain": [
       "'mohan@gmail.com'"
      ]
     },
     "execution_count": 48,
     "metadata": {},
     "output_type": "execute_result"
    }
   ],
   "source": [
    "pw.email"
   ]
  },
  {
   "cell_type": "code",
   "execution_count": 49,
   "id": "f0a7e013-3906-4e41-8a17-e7c062ed79ee",
   "metadata": {},
   "outputs": [
    {
     "name": "stdout",
     "output_type": "stream",
     "text": [
      "mohan mohan@gmail.com\n"
     ]
    }
   ],
   "source": [
    "pw.student_details()"
   ]
  },
  {
   "cell_type": "code",
   "execution_count": 57,
   "id": "248488f9-f65e-4acd-af7b-084ec657691f",
   "metadata": {},
   "outputs": [],
   "source": [
    "pw=pwskills1('anju','anju@gmail.com')  # object of class--we can access it through it"
   ]
  },
  {
   "cell_type": "code",
   "execution_count": 59,
   "id": "72de212b-68b3-4d0d-9d1b-be1cb3fb1aaf",
   "metadata": {},
   "outputs": [
    {
     "name": "stdout",
     "output_type": "stream",
     "text": [
      "anju anju@gmail.com\n"
     ]
    }
   ],
   "source": [
    "pw.student_details()"
   ]
  },
  {
   "cell_type": "code",
   "execution_count": 61,
   "id": "6aa96f73-be60-4196-9a06-3eef9c5e0a04",
   "metadata": {},
   "outputs": [
    {
     "data": {
      "text/plain": [
       "'anju'"
      ]
     },
     "execution_count": 61,
     "metadata": {},
     "output_type": "execute_result"
    }
   ],
   "source": [
    "pw.name"
   ]
  },
  {
   "cell_type": "raw",
   "id": "d4cd5d7f-fff6-410b-a7a1-42d6587edb33",
   "metadata": {},
   "source": [
    "In constructor , data is updated through object and self pointed that data towards the class.\n",
    "instance method like student details can have any no of objects.\n",
    "\n",
    "In class method , data is directly updated to class....w.t.h of class name.\n",
    "we can create only one object in  class method \n",
    "it is a global method which can be accesable by all the objects"
   ]
  },
  {
   "cell_type": "code",
   "execution_count": null,
   "id": "edb8e331-f587-44b9-8b09-16e78edb8cdd",
   "metadata": {},
   "outputs": [],
   "source": []
  },
  {
   "cell_type": "code",
   "execution_count": 18,
   "id": "06e86876-a36c-41b1-a951-2ccb47ef4d09",
   "metadata": {},
   "outputs": [],
   "source": [
    "class pwskills2:\n",
    "    \n",
    "\n",
    "    mobile_number = 9818908671\n",
    "    \n",
    "    def __init__(self,name,email):\n",
    "        self.name=name\n",
    "        self.email=email\n",
    "    @classmethod\n",
    "    def change_number(cls,mobile):\n",
    "        pwskills2.mobile_number=mobile\n",
    "    @classmethod\n",
    "    def details(cls,name1,email1):\n",
    "        return cls(name1,email1)\n",
    "\n",
    "    def student_details(self): # instance method\n",
    "        print(self.name,self.email,pwskills2.mobile_number)"
   ]
  },
  {
   "cell_type": "code",
   "execution_count": 19,
   "id": "e4b43715-4496-4c22-8801-f587bbd1b6c1",
   "metadata": {},
   "outputs": [
    {
     "data": {
      "text/plain": [
       "9818908671"
      ]
     },
     "execution_count": 19,
     "metadata": {},
     "output_type": "execute_result"
    }
   ],
   "source": [
    "pwskills2.mobile_number"
   ]
  },
  {
   "cell_type": "code",
   "execution_count": 22,
   "id": "d4a630d3-8459-49f7-93d9-905881ed04d7",
   "metadata": {},
   "outputs": [],
   "source": [
    "pw2_obj=pwskills2('sohil','sohil@gmail.com')"
   ]
  },
  {
   "cell_type": "code",
   "execution_count": 23,
   "id": "916a8e65-d932-4d0c-a1f5-1ae2ea708420",
   "metadata": {},
   "outputs": [
    {
     "data": {
      "text/plain": [
       "<__main__.pwskills2 at 0x7ff92d48d6f0>"
      ]
     },
     "execution_count": 23,
     "metadata": {},
     "output_type": "execute_result"
    }
   ],
   "source": [
    "pw2_obj.details('sudh','sudh@gmail.com')"
   ]
  },
  {
   "cell_type": "code",
   "execution_count": 24,
   "id": "c5331335-e124-40fe-aec4-1e9b5a55d22d",
   "metadata": {},
   "outputs": [
    {
     "data": {
      "text/plain": [
       "'sohil'"
      ]
     },
     "execution_count": 24,
     "metadata": {},
     "output_type": "execute_result"
    }
   ],
   "source": [
    "pw2_obj.name"
   ]
  },
  {
   "cell_type": "code",
   "execution_count": 25,
   "id": "08d26f10-f647-4dd9-a097-e5c85b043d20",
   "metadata": {},
   "outputs": [
    {
     "data": {
      "text/plain": [
       "<bound method pwskills2.change_number of <class '__main__.pwskills2'>>"
      ]
     },
     "execution_count": 25,
     "metadata": {},
     "output_type": "execute_result"
    }
   ],
   "source": [
    "pw2_obj.change_number"
   ]
  },
  {
   "cell_type": "code",
   "execution_count": null,
   "id": "09ed5a77-56f1-4f18-ba4b-4a84f5edbf3f",
   "metadata": {},
   "outputs": [],
   "source": []
  },
  {
   "cell_type": "code",
   "execution_count": 20,
   "id": "da189507-6acf-456a-a984-88a08f7bd91c",
   "metadata": {},
   "outputs": [],
   "source": [
    "pwskills2.change_number(8700856757)"
   ]
  },
  {
   "cell_type": "code",
   "execution_count": 21,
   "id": "b3037619-e0d1-488b-8c39-19e12cdfbad7",
   "metadata": {},
   "outputs": [
    {
     "data": {
      "text/plain": [
       "8700856757"
      ]
     },
     "execution_count": 21,
     "metadata": {},
     "output_type": "execute_result"
    }
   ],
   "source": [
    "pwskills2.mobile_number"
   ]
  },
  {
   "cell_type": "code",
   "execution_count": 13,
   "id": "fe573e68-6861-47ce-bd57-88e5ebc34743",
   "metadata": {},
   "outputs": [
    {
     "data": {
      "text/plain": [
       "9818908671"
      ]
     },
     "execution_count": 13,
     "metadata": {},
     "output_type": "execute_result"
    }
   ],
   "source": [
    "pwskills2.mobile_number  # class variable don't need object we can access it"
   ]
  },
  {
   "cell_type": "raw",
   "id": "2f277d41-c933-4b47-bc33-5aa448b847cc",
   "metadata": {},
   "source": [
    "how we will able to access mobile no in class method and student_details function.?\n",
    "\n",
    "ans --- add mobile no in instance method (student_details)\n",
    "and we can access by class method as well as objext\n"
   ]
  },
  {
   "cell_type": "code",
   "execution_count": 14,
   "id": "92a408b2-b01c-44b7-8be9-99cd50cb2322",
   "metadata": {},
   "outputs": [],
   "source": [
    "pw2=pwskills2.details('sohan','shohan@gmail.com')"
   ]
  },
  {
   "cell_type": "code",
   "execution_count": 15,
   "id": "c9c913fb-ff92-4f7c-bd31-7d50167c4651",
   "metadata": {},
   "outputs": [
    {
     "data": {
      "text/plain": [
       "9818908671"
      ]
     },
     "execution_count": 15,
     "metadata": {},
     "output_type": "execute_result"
    }
   ],
   "source": [
    "pw2.mobile_number"
   ]
  },
  {
   "cell_type": "code",
   "execution_count": 16,
   "id": "7ee3e829-5971-48c8-87f8-32ca8eb65329",
   "metadata": {},
   "outputs": [],
   "source": [
    "pw2_obj=pwskills2('rohan','rohan@gmail.com')"
   ]
  },
  {
   "cell_type": "code",
   "execution_count": 17,
   "id": "65cca5f0-b149-4ae4-8c8c-50b0b23f23d9",
   "metadata": {},
   "outputs": [
    {
     "data": {
      "text/plain": [
       "9818908671"
      ]
     },
     "execution_count": 17,
     "metadata": {},
     "output_type": "execute_result"
    }
   ],
   "source": [
    "pw2_obj.mobile_number"
   ]
  },
  {
   "cell_type": "code",
   "execution_count": 5,
   "id": "df809715-8746-4201-a26c-53e15d02e132",
   "metadata": {},
   "outputs": [],
   "source": [
    "class pwskills3:\n",
    "    \n",
    "\n",
    "    mobile_number = 9818908671\n",
    "    \n",
    "    def __init__(self,name,email):\n",
    "        self.name=name\n",
    "        self.email=email\n",
    "    @classmethod\n",
    "    def change_number(cls,mobile):\n",
    "        pwskills2.mobile_number=mobile\n",
    "    @classmethod\n",
    "    def details(cls,name1,email1):\n",
    "        return cls(name1,email1)\n",
    "\n",
    "    def student_details(self): # instance method\n",
    "        print(self.name,self.email,pwskills2.mobile_number)"
   ]
  },
  {
   "cell_type": "code",
   "execution_count": null,
   "id": "5333f818-28f0-41ba-8a81-6fec9ef4861d",
   "metadata": {},
   "outputs": [],
   "source": [
    "# what if we want to add some external function(course_details ) to class,how can be added?\n",
    "# --class method"
   ]
  },
  {
   "cell_type": "code",
   "execution_count": 11,
   "id": "482bdf04-4dd8-423f-b9ff-453321862b4a",
   "metadata": {},
   "outputs": [],
   "source": [
    "pwskills3.course_details = classmethod(course_details)"
   ]
  },
  {
   "cell_type": "code",
   "execution_count": 10,
   "id": "758a980c-f0ca-4f0e-9a27-5792031713a2",
   "metadata": {},
   "outputs": [],
   "source": [
    "def course_details(cls,course_name): # external function that we wanted to add in class pwskills3\n",
    "    print('course details',course_name)"
   ]
  },
  {
   "cell_type": "code",
   "execution_count": 12,
   "id": "d08f20f8-bfcd-4c19-93b7-0961f5bcc88b",
   "metadata": {},
   "outputs": [
    {
     "name": "stdout",
     "output_type": "stream",
     "text": [
      "course details data science master\n"
     ]
    }
   ],
   "source": [
    "pwskills3.course_details(\"data science master\")"
   ]
  },
  {
   "cell_type": "code",
   "execution_count": 14,
   "id": "12873079-5368-4dc2-b679-78d2471e4a2a",
   "metadata": {},
   "outputs": [
    {
     "name": "stdout",
     "output_type": "stream",
     "text": [
      "course details data science masters\n"
     ]
    }
   ],
   "source": [
    "pwskills3.course_details('data science masters')"
   ]
  },
  {
   "cell_type": "code",
   "execution_count": 15,
   "id": "c6596f74-807b-447e-8125-1e81b007684b",
   "metadata": {},
   "outputs": [],
   "source": [
    "obj_pw3 = pwskills3('sudh','sudh@gmail.com')"
   ]
  },
  {
   "cell_type": "code",
   "execution_count": 16,
   "id": "6d2e77f4-a9cc-4004-a120-470dc0cfbf59",
   "metadata": {},
   "outputs": [
    {
     "name": "stdout",
     "output_type": "stream",
     "text": [
      "course details web dev\n"
     ]
    }
   ],
   "source": [
    "obj_pw3.course_details('web dev')"
   ]
  },
  {
   "cell_type": "code",
   "execution_count": 18,
   "id": "9f0ebf19-fc39-487f-9c85-f0e13ad2d06a",
   "metadata": {},
   "outputs": [],
   "source": [
    "#  what if we want to delet some function and requirements from class\n",
    "\n",
    "class pwskills4:\n",
    "    \n",
    "\n",
    "    mobile_number = 9818908671\n",
    "    \n",
    "    def __init__(self,name,email):\n",
    "        self.name=name\n",
    "        self.email=email\n",
    "    @classmethod\n",
    "    def change_number(cls,mobile):\n",
    "        pwskills2.mobile_number=mobile\n",
    "    @classmethod\n",
    "    def details(cls,name1,email1):\n",
    "        return cls(name1,email1)\n",
    "\n",
    "    def student_details(self): # instance method\n",
    "        print(self.name,self.email,pwskills2.mobile_number)"
   ]
  },
  {
   "cell_type": "code",
   "execution_count": null,
   "id": "5e716027-65a0-46b6-9fab-74d3fe40bfcd",
   "metadata": {},
   "outputs": [],
   "source": [
    "pwskills4.    # showing change no"
   ]
  },
  {
   "cell_type": "code",
   "execution_count": 19,
   "id": "2c4b0073-8943-4743-ad13-7b70829833c8",
   "metadata": {},
   "outputs": [],
   "source": [
    "del pwskills4.change_number"
   ]
  },
  {
   "cell_type": "code",
   "execution_count": 20,
   "id": "b1ef1f40-61cf-4b35-8469-aac1d920c116",
   "metadata": {},
   "outputs": [
    {
     "ename": "AttributeError",
     "evalue": "type object 'pwskills4' has no attribute 'change_number'",
     "output_type": "error",
     "traceback": [
      "\u001b[0;31m---------------------------------------------------------------------------\u001b[0m",
      "\u001b[0;31mAttributeError\u001b[0m                            Traceback (most recent call last)",
      "Cell \u001b[0;32mIn[20], line 1\u001b[0m\n\u001b[0;32m----> 1\u001b[0m \u001b[43mpwskills4\u001b[49m\u001b[38;5;241;43m.\u001b[39;49m\u001b[43mchange_number\u001b[49m    \u001b[38;5;66;03m# not showing delete number\u001b[39;00m\n",
      "\u001b[0;31mAttributeError\u001b[0m: type object 'pwskills4' has no attribute 'change_number'"
     ]
    }
   ],
   "source": [
    "pwskills4.change_number    # not showing delete number"
   ]
  },
  {
   "cell_type": "code",
   "execution_count": null,
   "id": "6bd574ba-0eef-4b91-80f3-ff61b0a5e39f",
   "metadata": {},
   "outputs": [],
   "source": [
    "pwskills4.    # showing details"
   ]
  },
  {
   "cell_type": "code",
   "execution_count": 21,
   "id": "9c08f6da-5a28-4e52-a8f9-ff3f0d4b1faa",
   "metadata": {},
   "outputs": [],
   "source": [
    "delattr(pwskills4 ,'details')"
   ]
  },
  {
   "cell_type": "code",
   "execution_count": 22,
   "id": "24dbeb25-2cb9-40e4-9101-eadd2058d947",
   "metadata": {},
   "outputs": [
    {
     "ename": "SyntaxError",
     "evalue": "invalid syntax (2070277246.py, line 1)",
     "output_type": "error",
     "traceback": [
      "\u001b[0;36m  Cell \u001b[0;32mIn[22], line 1\u001b[0;36m\u001b[0m\n\u001b[0;31m    pwskills4.    # not showing details\u001b[0m\n\u001b[0m                  ^\u001b[0m\n\u001b[0;31mSyntaxError\u001b[0m\u001b[0;31m:\u001b[0m invalid syntax\n"
     ]
    }
   ],
   "source": [
    "pwskills4.    # not showing details"
   ]
  },
  {
   "cell_type": "code",
   "execution_count": null,
   "id": "7608fa48-c6ca-4da4-9693-ea8a96434ca4",
   "metadata": {},
   "outputs": [],
   "source": [
    "pwskills4.      # mobile no is showing as a keyword"
   ]
  },
  {
   "cell_type": "code",
   "execution_count": 24,
   "id": "2872a5d9-7c06-418b-ac65-4adf2cc81c06",
   "metadata": {},
   "outputs": [],
   "source": [
    "delattr(pwskills4,'mobile_number')"
   ]
  },
  {
   "cell_type": "code",
   "execution_count": null,
   "id": "e418d9a0-ac3a-41f9-aaf8-1d9341fa8ef8",
   "metadata": {},
   "outputs": [],
   "source": [
    "pwskills4.     # not showing mobile number"
   ]
  },
  {
   "cell_type": "markdown",
   "id": "cc12997e-9628-46cc-94a9-942fff915f6c",
   "metadata": {},
   "source": [
    "# static method"
   ]
  },
  {
   "cell_type": "code",
   "execution_count": 4,
   "id": "4c89a2db-1d30-461c-9266-adb933923e6a",
   "metadata": {},
   "outputs": [],
   "source": [
    "class pwskills:\n",
    "    def student_details(self,name,email_id ,number):\n",
    "        print(name, email_id,number)"
   ]
  },
  {
   "cell_type": "code",
   "execution_count": 5,
   "id": "caab8673-44f9-44b6-9033-abb94c76e69f",
   "metadata": {},
   "outputs": [],
   "source": [
    "pw = pwskills()"
   ]
  },
  {
   "cell_type": "code",
   "execution_count": 6,
   "id": "97c3f968-bb05-4845-850b-90603e0e451a",
   "metadata": {},
   "outputs": [
    {
     "name": "stdout",
     "output_type": "stream",
     "text": [
      "sudh sudh@gmail.com 98708098\n"
     ]
    }
   ],
   "source": [
    "pw.student_details('sudh','sudh@gmail.com',98708098)"
   ]
  },
  {
   "cell_type": "code",
   "execution_count": 10,
   "id": "438780ec-46d2-4d6b-8106-7a680d223b27",
   "metadata": {},
   "outputs": [],
   "source": [
    "# we want to create a function which should not depend on object\n",
    "# if we create million object it will replicate million times this function and\n",
    "# increase memory consumpution\n",
    "\n",
    "# how to achieve something which associatee with class but not object....\n",
    "class pwskills1:\n",
    "    def student_details(self,name,mail_id,number):\n",
    "        print(name,mail_id,number)\n",
    "        \n",
    "    @staticmethod\n",
    "    def mentor_class(list_mentor):  #this function is also available for class and their objects\n",
    "        print(list_mentor)\n",
    "        \n",
    "    def mentor(self,mentor_list):\n",
    "        print(mentor_list)"
   ]
  },
  {
   "cell_type": "code",
   "execution_count": 9,
   "id": "37f7dfa9-d0ef-4154-a7c0-1b0ceaa1cf6d",
   "metadata": {},
   "outputs": [
    {
     "name": "stdout",
     "output_type": "stream",
     "text": [
      "['sudh', 'krish']\n"
     ]
    }
   ],
   "source": [
    "pwskills1.mentor_class(['sudh','krish'])  #passing data through class"
   ]
  },
  {
   "cell_type": "code",
   "execution_count": 11,
   "id": "47b1610f-cda2-401d-a548-f1822c3f01cc",
   "metadata": {},
   "outputs": [],
   "source": [
    "pw1=pwskills1()"
   ]
  },
  {
   "cell_type": "code",
   "execution_count": 14,
   "id": "f57510f7-c85a-4e05-be84-2a4a639a15a6",
   "metadata": {},
   "outputs": [
    {
     "name": "stdout",
     "output_type": "stream",
     "text": [
      "['krish', 'sudh']\n"
     ]
    }
   ],
   "source": [
    "pw1.mentor(['krish','sudh'])  # passing data through object"
   ]
  },
  {
   "cell_type": "code",
   "execution_count": 16,
   "id": "ac10c0c2-6916-4adc-9e06-9d5ca704143b",
   "metadata": {},
   "outputs": [
    {
     "name": "stdout",
     "output_type": "stream",
     "text": [
      "['sanju', 'manish']\n"
     ]
    }
   ],
   "source": [
    "pw1.mentor_class(['sanju','manish']) # passing data in instance method through object"
   ]
  },
  {
   "cell_type": "code",
   "execution_count": 18,
   "id": "621847af-d731-42af-a9dc-989bec1e67f5",
   "metadata": {},
   "outputs": [],
   "source": [
    "# if i want to access static method inside the instance method\n",
    " # static method is only available if it is above the instance class\n",
    "class pwskills1:\n",
    "    def student_details(self,name,mail_id,number):\n",
    "        print(name,mail_id,number)\n",
    "      # no static method isn't available because it is above the static method\n",
    "    \n",
    "    @staticmethod\n",
    "    def mentor_mail_id(mail_id):\n",
    "        print(mail_id)\n",
    "    @staticmethod\n",
    "    def mentor_class(list_mentor):\n",
    "        print(list_mentor)\n",
    "        pwskills1.mentor_mail_id(['krish@gmail.com','sudh@gmail.com'])\n",
    "        \n",
    "        \n",
    "    @staticmethod\n",
    "    def mentor_class(list_mentor):  #this function is also available for class and their objects\n",
    "        print(list_mentor)\n",
    "        \n",
    "    @classmethod  # yes we are able to get static method inside class method\n",
    "    def class_name(cls,class_name):\n",
    "        cls.mentor_class(['krish','sudh'])\n",
    "        \n",
    "        \n",
    "    def mentor(self,mentor_list):\n",
    "        print(mentor_list)\n",
    "        self.mentor_class(['krish','sudh'])   # here static method is available becouae it is below the static method"
   ]
  },
  {
   "cell_type": "code",
   "execution_count": 19,
   "id": "c25ff258-a72d-4ced-9c15-d650a622532d",
   "metadata": {},
   "outputs": [],
   "source": [
    "pw1 = pwskills1()"
   ]
  },
  {
   "cell_type": "code",
   "execution_count": 20,
   "id": "b4d02806-fe4a-4000-8f9b-1dbd0ce8eb3c",
   "metadata": {},
   "outputs": [
    {
     "name": "stdout",
     "output_type": "stream",
     "text": [
      "mohan mohan@gmail.com 9876987\n"
     ]
    }
   ],
   "source": [
    "pw1.student_details('mohan','mohan@gmail.com',9876987)"
   ]
  },
  {
   "cell_type": "code",
   "execution_count": 21,
   "id": "27be553b-ebe0-4e81-a636-f4b2b2e16a78",
   "metadata": {},
   "outputs": [
    {
     "name": "stdout",
     "output_type": "stream",
     "text": [
      "am@gmail.com\n"
     ]
    }
   ],
   "source": [
    "pw1.mentor_mail_id('am@gmail.com')"
   ]
  },
  {
   "cell_type": "code",
   "execution_count": 22,
   "id": "1d5d1790-4e99-4ee5-ac92-db301a82d812",
   "metadata": {},
   "outputs": [
    {
     "ename": "TypeError",
     "evalue": "pwskills1.student_details() missing 3 required positional arguments: 'name', 'mail_id', and 'number'",
     "output_type": "error",
     "traceback": [
      "\u001b[0;31m---------------------------------------------------------------------------\u001b[0m",
      "\u001b[0;31mTypeError\u001b[0m                                 Traceback (most recent call last)",
      "Cell \u001b[0;32mIn[22], line 1\u001b[0m\n\u001b[0;32m----> 1\u001b[0m \u001b[43mpw1\u001b[49m\u001b[38;5;241;43m.\u001b[39;49m\u001b[43mstudent_details\u001b[49m\u001b[43m(\u001b[49m\u001b[43m)\u001b[49m\n",
      "\u001b[0;31mTypeError\u001b[0m: pwskills1.student_details() missing 3 required positional arguments: 'name', 'mail_id', and 'number'"
     ]
    }
   ],
   "source": [
    "pw1.student_details()"
   ]
  },
  {
   "cell_type": "code",
   "execution_count": 1,
   "id": "1ba1a732-f60b-4ebc-9c2c-d95476dd24d8",
   "metadata": {},
   "outputs": [],
   "source": [
    "# basically we are passing different different data here with the help of class method and static methord\n"
   ]
  },
  {
   "cell_type": "markdown",
   "id": "adabcb67-f324-44d9-b06c-3608a9f4bc50",
   "metadata": {},
   "source": [
    "# Dunder or magic method(special method)"
   ]
  },
  {
   "cell_type": "code",
   "execution_count": 2,
   "id": "2a7ba1e1-ea9f-4d21-b7a2-6aa20ddf79a4",
   "metadata": {},
   "outputs": [
    {
     "data": {
      "text/plain": [
       "['__abs__',\n",
       " '__add__',\n",
       " '__and__',\n",
       " '__bool__',\n",
       " '__ceil__',\n",
       " '__class__',\n",
       " '__delattr__',\n",
       " '__dir__',\n",
       " '__divmod__',\n",
       " '__doc__',\n",
       " '__eq__',\n",
       " '__float__',\n",
       " '__floor__',\n",
       " '__floordiv__',\n",
       " '__format__',\n",
       " '__ge__',\n",
       " '__getattribute__',\n",
       " '__getnewargs__',\n",
       " '__gt__',\n",
       " '__hash__',\n",
       " '__index__',\n",
       " '__init__',\n",
       " '__init_subclass__',\n",
       " '__int__',\n",
       " '__invert__',\n",
       " '__le__',\n",
       " '__lshift__',\n",
       " '__lt__',\n",
       " '__mod__',\n",
       " '__mul__',\n",
       " '__ne__',\n",
       " '__neg__',\n",
       " '__new__',\n",
       " '__or__',\n",
       " '__pos__',\n",
       " '__pow__',\n",
       " '__radd__',\n",
       " '__rand__',\n",
       " '__rdivmod__',\n",
       " '__reduce__',\n",
       " '__reduce_ex__',\n",
       " '__repr__',\n",
       " '__rfloordiv__',\n",
       " '__rlshift__',\n",
       " '__rmod__',\n",
       " '__rmul__',\n",
       " '__ror__',\n",
       " '__round__',\n",
       " '__rpow__',\n",
       " '__rrshift__',\n",
       " '__rshift__',\n",
       " '__rsub__',\n",
       " '__rtruediv__',\n",
       " '__rxor__',\n",
       " '__setattr__',\n",
       " '__sizeof__',\n",
       " '__str__',\n",
       " '__sub__',\n",
       " '__subclasshook__',\n",
       " '__truediv__',\n",
       " '__trunc__',\n",
       " '__xor__',\n",
       " 'as_integer_ratio',\n",
       " 'bit_count',\n",
       " 'bit_length',\n",
       " 'conjugate',\n",
       " 'denominator',\n",
       " 'from_bytes',\n",
       " 'imag',\n",
       " 'numerator',\n",
       " 'real',\n",
       " 'to_bytes']"
      ]
     },
     "execution_count": 2,
     "metadata": {},
     "output_type": "execute_result"
    }
   ],
   "source": [
    "dir(int)  # magic or dunder method --double underscore before and after"
   ]
  },
  {
   "cell_type": "code",
   "execution_count": 3,
   "id": "85445f64-154b-42d5-acdb-20c9242a70eb",
   "metadata": {},
   "outputs": [],
   "source": [
    "a=1"
   ]
  },
  {
   "cell_type": "code",
   "execution_count": 4,
   "id": "a014ce7f-8df9-4da1-9e9e-0f74cb89f9f1",
   "metadata": {},
   "outputs": [
    {
     "data": {
      "text/plain": [
       "3"
      ]
     },
     "execution_count": 4,
     "metadata": {},
     "output_type": "execute_result"
    }
   ],
   "source": [
    "a+2"
   ]
  },
  {
   "cell_type": "code",
   "execution_count": 5,
   "id": "70070a2e-f960-450d-b61a-10f6668904f9",
   "metadata": {},
   "outputs": [
    {
     "data": {
      "text/plain": [
       "10"
      ]
     },
     "execution_count": 5,
     "metadata": {},
     "output_type": "execute_result"
    }
   ],
   "source": [
    "a.__add__(9)"
   ]
  },
  {
   "cell_type": "code",
   "execution_count": 6,
   "id": "06af828b-c9bf-48ea-a16b-16995c0a56a8",
   "metadata": {},
   "outputs": [
    {
     "data": {
      "text/plain": [
       "['__add__',\n",
       " '__class__',\n",
       " '__contains__',\n",
       " '__delattr__',\n",
       " '__dir__',\n",
       " '__doc__',\n",
       " '__eq__',\n",
       " '__format__',\n",
       " '__ge__',\n",
       " '__getattribute__',\n",
       " '__getitem__',\n",
       " '__getnewargs__',\n",
       " '__gt__',\n",
       " '__hash__',\n",
       " '__init__',\n",
       " '__init_subclass__',\n",
       " '__iter__',\n",
       " '__le__',\n",
       " '__len__',\n",
       " '__lt__',\n",
       " '__mod__',\n",
       " '__mul__',\n",
       " '__ne__',\n",
       " '__new__',\n",
       " '__reduce__',\n",
       " '__reduce_ex__',\n",
       " '__repr__',\n",
       " '__rmod__',\n",
       " '__rmul__',\n",
       " '__setattr__',\n",
       " '__sizeof__',\n",
       " '__str__',\n",
       " '__subclasshook__',\n",
       " 'capitalize',\n",
       " 'casefold',\n",
       " 'center',\n",
       " 'count',\n",
       " 'encode',\n",
       " 'endswith',\n",
       " 'expandtabs',\n",
       " 'find',\n",
       " 'format',\n",
       " 'format_map',\n",
       " 'index',\n",
       " 'isalnum',\n",
       " 'isalpha',\n",
       " 'isascii',\n",
       " 'isdecimal',\n",
       " 'isdigit',\n",
       " 'isidentifier',\n",
       " 'islower',\n",
       " 'isnumeric',\n",
       " 'isprintable',\n",
       " 'isspace',\n",
       " 'istitle',\n",
       " 'isupper',\n",
       " 'join',\n",
       " 'ljust',\n",
       " 'lower',\n",
       " 'lstrip',\n",
       " 'maketrans',\n",
       " 'partition',\n",
       " 'removeprefix',\n",
       " 'removesuffix',\n",
       " 'replace',\n",
       " 'rfind',\n",
       " 'rindex',\n",
       " 'rjust',\n",
       " 'rpartition',\n",
       " 'rsplit',\n",
       " 'rstrip',\n",
       " 'split',\n",
       " 'splitlines',\n",
       " 'startswith',\n",
       " 'strip',\n",
       " 'swapcase',\n",
       " 'title',\n",
       " 'translate',\n",
       " 'upper',\n",
       " 'zfill']"
      ]
     },
     "execution_count": 6,
     "metadata": {},
     "output_type": "execute_result"
    }
   ],
   "source": [
    "dir(str)"
   ]
  },
  {
   "cell_type": "code",
   "execution_count": 9,
   "id": "29d6a60c-c262-4dcd-91ee-ad0176ca6da4",
   "metadata": {},
   "outputs": [],
   "source": [
    "class pwskills:\n",
    "    \n",
    "    \n",
    "    \n",
    "    def __new__(cls):\n",
    "        print('this is my new')\n",
    "    def __init__(self):  # before init system try to call dunder method new\n",
    "        print('this is my print')\n",
    "        "
   ]
  },
  {
   "cell_type": "code",
   "execution_count": 10,
   "id": "ef3364f2-fda5-417a-804f-5cabebdeec99",
   "metadata": {},
   "outputs": [
    {
     "name": "stdout",
     "output_type": "stream",
     "text": [
      "this is my new\n"
     ]
    }
   ],
   "source": [
    "pw =pwskills()\n"
   ]
  },
  {
   "cell_type": "code",
   "execution_count": 16,
   "id": "a91b4470-1b5f-4854-9195-c8f32b311121",
   "metadata": {},
   "outputs": [],
   "source": [
    "# init is a constructor which assign object and take data\n",
    "\n",
    "class pwskills1:\n",
    "    def __init__(self):\n",
    "        self.mobile_number = 987680798\n",
    "        \n",
    "        \n",
    "    def __str__(self):\n",
    "        return 'this is a magic method which will print something for object'"
   ]
  },
  {
   "cell_type": "code",
   "execution_count": 17,
   "id": "2de76ec9-f2b7-43b9-b6ba-aca347a3701a",
   "metadata": {},
   "outputs": [],
   "source": [
    "pw1=pwskills1()"
   ]
  },
  {
   "cell_type": "code",
   "execution_count": 18,
   "id": "f8f411f5-7833-47f1-9b38-b7850d325ed1",
   "metadata": {},
   "outputs": [
    {
     "data": {
      "text/plain": [
       "<__main__.pwskills1 at 0x7f2c38c7ab30>"
      ]
     },
     "execution_count": 18,
     "metadata": {},
     "output_type": "execute_result"
    }
   ],
   "source": [
    "pw1"
   ]
  },
  {
   "cell_type": "code",
   "execution_count": 19,
   "id": "c65733ec-2979-4164-83d0-cea1d428cc8c",
   "metadata": {},
   "outputs": [
    {
     "name": "stdout",
     "output_type": "stream",
     "text": [
      "this is a magic method which will print something for object\n"
     ]
    }
   ],
   "source": [
    "print(pw1)   # what if we want some meaningful line in the place of this"
   ]
  },
  {
   "cell_type": "code",
   "execution_count": 20,
   "id": "4a9b2df6-7f1f-43f7-aa03-813455deb131",
   "metadata": {},
   "outputs": [],
   "source": [
    "# these magic functioni is not advisable to use in production grade coding"
   ]
  },
  {
   "cell_type": "code",
   "execution_count": 21,
   "id": "a75cbb2b-f7f6-4f7c-925c-c67d09a6fa95",
   "metadata": {},
   "outputs": [
    {
     "data": {
      "text/plain": [
       "['__class__',\n",
       " '__class_getitem__',\n",
       " '__contains__',\n",
       " '__delattr__',\n",
       " '__delitem__',\n",
       " '__dir__',\n",
       " '__doc__',\n",
       " '__eq__',\n",
       " '__format__',\n",
       " '__ge__',\n",
       " '__getattribute__',\n",
       " '__getitem__',\n",
       " '__gt__',\n",
       " '__hash__',\n",
       " '__init__',\n",
       " '__init_subclass__',\n",
       " '__ior__',\n",
       " '__iter__',\n",
       " '__le__',\n",
       " '__len__',\n",
       " '__lt__',\n",
       " '__ne__',\n",
       " '__new__',\n",
       " '__or__',\n",
       " '__reduce__',\n",
       " '__reduce_ex__',\n",
       " '__repr__',\n",
       " '__reversed__',\n",
       " '__ror__',\n",
       " '__setattr__',\n",
       " '__setitem__',\n",
       " '__sizeof__',\n",
       " '__str__',\n",
       " '__subclasshook__',\n",
       " 'clear',\n",
       " 'copy',\n",
       " 'fromkeys',\n",
       " 'get',\n",
       " 'items',\n",
       " 'keys',\n",
       " 'pop',\n",
       " 'popitem',\n",
       " 'setdefault',\n",
       " 'update',\n",
       " 'values']"
      ]
     },
     "execution_count": 21,
     "metadata": {},
     "output_type": "execute_result"
    }
   ],
   "source": [
    "dir(dict)"
   ]
  },
  {
   "cell_type": "code",
   "execution_count": 22,
   "id": "15842cae-8060-4f4b-9f80-1b1b6ba40e83",
   "metadata": {},
   "outputs": [
    {
     "data": {
      "text/plain": [
       "['__add__',\n",
       " '__class__',\n",
       " '__class_getitem__',\n",
       " '__contains__',\n",
       " '__delattr__',\n",
       " '__dir__',\n",
       " '__doc__',\n",
       " '__eq__',\n",
       " '__format__',\n",
       " '__ge__',\n",
       " '__getattribute__',\n",
       " '__getitem__',\n",
       " '__getnewargs__',\n",
       " '__gt__',\n",
       " '__hash__',\n",
       " '__init__',\n",
       " '__init_subclass__',\n",
       " '__iter__',\n",
       " '__le__',\n",
       " '__len__',\n",
       " '__lt__',\n",
       " '__mul__',\n",
       " '__ne__',\n",
       " '__new__',\n",
       " '__reduce__',\n",
       " '__reduce_ex__',\n",
       " '__repr__',\n",
       " '__rmul__',\n",
       " '__setattr__',\n",
       " '__sizeof__',\n",
       " '__str__',\n",
       " '__subclasshook__',\n",
       " 'count',\n",
       " 'index']"
      ]
     },
     "execution_count": 22,
     "metadata": {},
     "output_type": "execute_result"
    }
   ],
   "source": [
    "dir(tuple)"
   ]
  },
  {
   "cell_type": "markdown",
   "id": "6a9e1182-68f6-4b2a-bbe7-d7847046ce95",
   "metadata": {},
   "source": [
    "# property decorator--getter ,setter and deletes"
   ]
  },
  {
   "cell_type": "code",
   "execution_count": 50,
   "id": "7787132e-ade4-47b4-ad0b-0e99a7cbdbd1",
   "metadata": {},
   "outputs": [],
   "source": [
    "class pwskills:\n",
    "    def __init__(self,course_price,course_name):\n",
    "        self.__course_price = course_price # private \n",
    "        self.course_name = course_name\n",
    "        \n",
    "    @property # this gives the access to outer world of class function\n",
    "    def course_price_access(self):\n",
    "        return self.__course_price\n",
    "    \n",
    "    @course_price_access.setter  # to set a new price\n",
    "    def course_price_set(self,price):\n",
    "        if price <= 3500:\n",
    "            pass\n",
    "        else:\n",
    "            self.__course_price = price\n",
    "            \n",
    "    @course_price_access.deleter\n",
    "    def course_price_del(self):\n",
    "        del self.__course_price"
   ]
  },
  {
   "cell_type": "code",
   "execution_count": 51,
   "id": "90d9b7dd-4170-42f3-98b5-9373febe1dc9",
   "metadata": {},
   "outputs": [
    {
     "ename": "AttributeError",
     "evalue": "course_price_del",
     "output_type": "error",
     "traceback": [
      "\u001b[0;31m---------------------------------------------------------------------------\u001b[0m",
      "\u001b[0;31mAttributeError\u001b[0m                            Traceback (most recent call last)",
      "Cell \u001b[0;32mIn[51], line 1\u001b[0m\n\u001b[0;32m----> 1\u001b[0m \u001b[38;5;28;01mdel\u001b[39;00m pw\u001b[38;5;241m.\u001b[39mcourse_price_del\n",
      "\u001b[0;31mAttributeError\u001b[0m: course_price_del"
     ]
    }
   ],
   "source": [
    "del pw.course_price_del"
   ]
  },
  {
   "cell_type": "code",
   "execution_count": null,
   "id": "890ceb80-363e-4444-8625-0961ce4b3e0c",
   "metadata": {},
   "outputs": [],
   "source": []
  },
  {
   "cell_type": "code",
   "execution_count": 41,
   "id": "dea848ea-fb93-40ef-8562-e4e58424141c",
   "metadata": {},
   "outputs": [],
   "source": [
    "pw = pwskills(3500,'data science master')\n",
    "# __ means private,_means protected, no underscore means public"
   ]
  },
  {
   "cell_type": "code",
   "execution_count": 44,
   "id": "9cdb78d6-45c8-4187-a7a1-cf9522a5ade0",
   "metadata": {},
   "outputs": [],
   "source": [
    "pw.course_price_set=897"
   ]
  },
  {
   "cell_type": "code",
   "execution_count": 45,
   "id": "4958b637-1326-4f14-ae79-dfe3b2a93668",
   "metadata": {},
   "outputs": [
    {
     "data": {
      "text/plain": [
       "3500"
      ]
     },
     "execution_count": 45,
     "metadata": {},
     "output_type": "execute_result"
    }
   ],
   "source": [
    "pw.course_price_access"
   ]
  },
  {
   "cell_type": "code",
   "execution_count": 46,
   "id": "14ee69e7-8703-4fcb-953a-1ec9a867d528",
   "metadata": {},
   "outputs": [],
   "source": [
    "pw.course_price_set=9876"
   ]
  },
  {
   "cell_type": "code",
   "execution_count": 47,
   "id": "dd1494f7-f06c-49fa-8c95-164a34d073e5",
   "metadata": {},
   "outputs": [
    {
     "data": {
      "text/plain": [
       "9876"
      ]
     },
     "execution_count": 47,
     "metadata": {},
     "output_type": "execute_result"
    }
   ],
   "source": [
    "pw.course_price_access"
   ]
  },
  {
   "cell_type": "code",
   "execution_count": 31,
   "id": "af270410-8e47-4763-8899-68e58cb35b9d",
   "metadata": {},
   "outputs": [
    {
     "data": {
      "text/plain": [
       "3500"
      ]
     },
     "execution_count": 31,
     "metadata": {},
     "output_type": "execute_result"
    }
   ],
   "source": [
    "pw._pwskills__course_price"
   ]
  },
  {
   "cell_type": "code",
   "execution_count": 32,
   "id": "3ec8e7b2-a815-4b56-8b90-daf49ad1e645",
   "metadata": {},
   "outputs": [
    {
     "data": {
      "text/plain": [
       "'data science master'"
      ]
     },
     "execution_count": 32,
     "metadata": {},
     "output_type": "execute_result"
    }
   ],
   "source": [
    "pw.course_name"
   ]
  },
  {
   "cell_type": "code",
   "execution_count": 34,
   "id": "ca607d70-a1a2-4a84-bcc5-6d9be3cef8b1",
   "metadata": {},
   "outputs": [],
   "source": [
    "# property is an inbuilt function which expose the class property to the outer world"
   ]
  },
  {
   "cell_type": "code",
   "execution_count": 38,
   "id": "ae1c6376-2f36-4450-af32-0e28c8797f94",
   "metadata": {},
   "outputs": [
    {
     "data": {
      "text/plain": [
       "3500"
      ]
     },
     "execution_count": 38,
     "metadata": {},
     "output_type": "execute_result"
    }
   ],
   "source": [
    "pw.course_price_access"
   ]
  },
  {
   "cell_type": "code",
   "execution_count": null,
   "id": "dc8f1ae1-b7f3-43f8-ae8e-67a21be7f1f8",
   "metadata": {},
   "outputs": [],
   "source": []
  },
  {
   "cell_type": "code",
   "execution_count": null,
   "id": "a433d8ed-d32a-4fdc-9f83-b99ef07f0e9f",
   "metadata": {},
   "outputs": [],
   "source": []
  }
 ],
 "metadata": {
  "kernelspec": {
   "display_name": "Python 3 (ipykernel)",
   "language": "python",
   "name": "python3"
  },
  "language_info": {
   "codemirror_mode": {
    "name": "ipython",
    "version": 3
   },
   "file_extension": ".py",
   "mimetype": "text/x-python",
   "name": "python",
   "nbconvert_exporter": "python",
   "pygments_lexer": "ipython3",
   "version": "3.10.8"
  }
 },
 "nbformat": 4,
 "nbformat_minor": 5
}
