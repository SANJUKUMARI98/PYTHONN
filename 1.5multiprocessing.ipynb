{
 "cells": [
  {
   "cell_type": "markdown",
   "id": "d3dfcde6-d757-4e17-adf6-58d22058e459",
   "metadata": {},
   "source": [
    "what is multiprocessing?\n",
    "\n",
    "In threading we execute function with differennt instances in a same processor and unless or untill one instance program will run completely, other instance program can not be \n",
    "executed or have to wait for the completion of one's execution.\n",
    "\n",
    "or we have to stop one program to run other  or may have to use CONTEXT SWITCHING (default case of operating system)\n",
    "\n",
    "what if we want to run all program(different instance of program) parallely so that at same time all the program will executed\n",
    "we have quad core processor means 4 processor . we can run different program in different processor parallely( in same time)\n",
    "is called multiprocessing.\n",
    "\n",
    "we are reducing the latency of particular program , we are executing the particular code in one second now we will\n",
    "execute in 1/4 of time using different processors.\n",
    "\n",
    "if there is any shared resources we can utilise it.\n"
   ]
  },
  {
   "cell_type": "code",
   "execution_count": null,
   "id": "8bb42e86-c397-4b6d-a5f5-c77953590e48",
   "metadata": {},
   "outputs": [],
   "source": [
    "# practical implementation\n",
    "\n",
    "import multiprocessing\n",
    "\n",
    "def test():\n",
    "    print('this is my multipprocessing program')"
   ]
  },
  {
   "cell_type": "code",
   "execution_count": null,
   "id": "bdf07f2c-46f3-4762-b745-f0c66682c46a",
   "metadata": {},
   "outputs": [],
   "source": [
    "test()"
   ]
  },
  {
   "cell_type": "code",
   "execution_count": null,
   "id": "02b630a2-a110-4160-bd2a-9a97f57e65f6",
   "metadata": {},
   "outputs": [],
   "source": [
    "# if we want to execute this program with some other program then how can be achieve this\n",
    "# in that case we will create pyton main method\n",
    "\n",
    "import multiprocessing\n",
    "\n",
    "def test():\n",
    "    print('this is my multipprocessing program')\n",
    "    \n",
    "if __name__ == \"__main__\":  # this main dunder method envoke the python compiler\n",
    "    m = multiprocessing.Process(target=test)  # main programme\n",
    "    print('this is my main programme')\n",
    "    m.start() # it start the child process which is test\n",
    "    m.join()  # it wil wait to end or terminate the child programme because child program is using resource and other cant use resource so it will terminate when process is completed\n",
    "    # so that other can use the resources\n",
    "    "
   ]
  },
  {
   "cell_type": "code",
   "execution_count": null,
   "id": "6f7cda77-30a4-4b0f-a380-9e2c7d8801ac",
   "metadata": {},
   "outputs": [],
   "source": [
    "def square(n):\n",
    "    return n**2\n",
    "\n",
    "if __name__ == '__main__': \n",
    "    with multiprocessing.Pool(processes =5) as pool: # it is executing in 5 diff procesor and pool accumulate and giving data\n",
    "        out = pool.map(square, [2,3,4,5,6,6,77,88,99,9]) # map is taking function square and iterating it\n",
    "        print(out)"
   ]
  },
  {
   "cell_type": "code",
   "execution_count": null,
   "id": "b99d7f44-0f1d-4b56-b069-1e1cd55b704a",
   "metadata": {},
   "outputs": [],
   "source": []
  },
  {
   "cell_type": "code",
   "execution_count": null,
   "id": "a201dea8-d7de-4724-9d3e-7f1b63c653f1",
   "metadata": {},
   "outputs": [],
   "source": [
    "# Queue---extracting a data and giving a data\n",
    "\n",
    "import multiprocessing\n",
    "\n",
    "def producer(q):  # creating queue\n",
    "    for i in  ['sudh','kumar','pwskils','krish','naik' ]:\n",
    "        q.put(i)  # i iterate and put data into q\n",
    "    \n",
    "def consumer(q):  # consuming  the data one by one removing the queue\n",
    "    while True :\n",
    "        item=q.get()\n",
    "        if item is None:\n",
    "            break\n",
    "        print(item)    \n",
    "    \n",
    "if __name__ =='__main__':\n",
    "    queue=multiprocessing.Queue()  # queue funciton where we can put a data and get a data\n",
    "    m1 = multiprocessing.Process(target=producer, args= (queue,)) # putting data in queue\n",
    "    m2 = multiprocessing.Process(target=consumer,args =(queue,))  # consuming or getting data from queue\n",
    "    m1.start()  #it start the m1 program \n",
    "    m2.start()  # it statt the m2 program\n",
    "    queue.put('xyz') # putting the data in queue\n",
    "    m1.join()\n",
    "    m2.join()\n",
    "    # here join is terminating the function and relesing the resources"
   ]
  },
  {
   "cell_type": "code",
   "execution_count": null,
   "id": "c895ea93-0add-4e1b-9789-0785d4956766",
   "metadata": {},
   "outputs": [],
   "source": [
    "import multiprocessing\n",
    "\n",
    "def square(index,value):  # creating square function\n",
    "    value[index] = value[index]**2\n",
    "    \n",
    "if __name__ =='__main__':\n",
    "    arr =multiprocessing.Array('i', [2,3,5,6,7,7,88,8,9,12]) # we can put as many no of data and global array which can be shared by diff processor\n",
    "    process =[]\n",
    "    for i in range(10):\n",
    "        m=multiprocessing.Process(target = square, args =(i, arr))# processing in different processor\n",
    "        process.append(m)\n",
    "        m.start()\n",
    "    for m in process:\n",
    "        m.join()\n",
    "    print(list(arr))    "
   ]
  },
  {
   "cell_type": "code",
   "execution_count": null,
   "id": "b334e2ac-4ac0-4920-9eb7-dcc6fe7c14ac",
   "metadata": {},
   "outputs": [],
   "source": [
    "# pipe----whats app--pipeing operation..sending and receiving the message(2 way )\n",
    "import multiprocessing\n",
    "\n",
    "def sender(conn, msg): # after establishing connection send message # function\n",
    "    for i in msg:\n",
    "        conn.send(i) # sending message\n",
    "        conn.close()  # closng connection\n",
    "        \n",
    "def receive(conn):\n",
    "    while True:\n",
    "        try:\n",
    "            msg = conn.recv()\n",
    "        except Exception as e:\n",
    "            print(e)\n",
    "            break\n",
    "        print(msg)\n",
    "        \n",
    "if __name__ =='__main__':\n",
    "    msg = ['my name is sanju','tthis is my msg to sir','im taking class']\n",
    "    parent_conn,child_conn = multiprocessing.Pipe()\n",
    "    m1 = multiprocessing.Process(target=sender,args = (child_conn,msg))\n",
    "    m2 = multiprocessing.Process(target=receive,args = (parent_conn,))\n",
    "    m1.start()\n",
    "    m2.start()\n",
    "    m1.join()\n",
    "    child_conn.close()\n",
    "    m2.join()\n",
    "    parent_conn.close()"
   ]
  },
  {
   "cell_type": "code",
   "execution_count": null,
   "id": "161becac-f621-4f20-bcc9-ff76a8f351bb",
   "metadata": {},
   "outputs": [],
   "source": []
  },
  {
   "cell_type": "code",
   "execution_count": null,
   "id": "53571918-a641-47a5-a170-cc018907c227",
   "metadata": {},
   "outputs": [],
   "source": []
  },
  {
   "cell_type": "code",
   "execution_count": null,
   "id": "442ca2cc-eb68-4901-af30-b87bd7a18df8",
   "metadata": {},
   "outputs": [],
   "source": []
  }
 ],
 "metadata": {
  "kernelspec": {
   "display_name": "Python 3 (ipykernel)",
   "language": "python",
   "name": "python3"
  },
  "language_info": {
   "codemirror_mode": {
    "name": "ipython",
    "version": 3
   },
   "file_extension": ".py",
   "mimetype": "text/x-python",
   "name": "python",
   "nbconvert_exporter": "python",
   "pygments_lexer": "ipython3",
   "version": "3.10.8"
  }
 },
 "nbformat": 4,
 "nbformat_minor": 5
}
