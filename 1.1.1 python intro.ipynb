{
 "cells": [
  {
   "cell_type": "markdown",
   "id": "7ca6252e-865a-4caa-acf2-08fe29581373",
   "metadata": {
    "tags": []
   },
   "source": [
    "# introduction to python"
   ]
  },
  {
   "cell_type": "code",
   "execution_count": null,
   "id": "05dd0a1b-06df-495d-ae90-3326aa79d664",
   "metadata": {},
   "outputs": [],
   "source": [
    "1+8   # no is displaying in the result"
   ]
  },
  {
   "cell_type": "code",
   "execution_count": null,
   "id": "39f965d1-982c-4dad-bec8-f327f50507a1",
   "metadata": {},
   "outputs": [],
   "source": [
    "print(1+8)  # in case of print result no. is not displaying "
   ]
  },
  {
   "cell_type": "code",
   "execution_count": null,
   "id": "879a0937-b218-4c5b-be6e-ae77637ce8b1",
   "metadata": {},
   "outputs": [],
   "source": [
    "a=4\n",
    "print(a)"
   ]
  },
  {
   "cell_type": "code",
   "execution_count": null,
   "id": "4dad1494-df87-4fe6-8cdd-85e74b56ab01",
   "metadata": {},
   "outputs": [],
   "source": [
    "print(\"helllo world my name is sanju i work in ineurom and pwskills\")"
   ]
  },
  {
   "cell_type": "code",
   "execution_count": null,
   "id": "79d4d01e-3d69-4132-b00c-af20f28069c1",
   "metadata": {},
   "outputs": [],
   "source": [
    "print(\"helllo world my name is sanju i wor\n",
    "      k in ineurom and pwskills\")"
   ]
  },
  {
   "cell_type": "code",
   "execution_count": null,
   "id": "c2e9bdf3-2160-4326-b6a5-e1589b24d032",
   "metadata": {},
   "outputs": [],
   "source": [
    "print(\"helllo world my name is sanju i \\n work in ineurom and pwskills\")"
   ]
  },
  {
   "cell_type": "markdown",
   "id": "378d4786-ad1d-4ad0-8b9d-7a69528d89df",
   "metadata": {},
   "source": [
    "# variables assignment"
   ]
  },
  {
   "cell_type": "code",
   "execution_count": null,
   "id": "a645989b-f49f-46d0-858f-875bdc451cf4",
   "metadata": {},
   "outputs": [],
   "source": [
    "name = 'sanju'\n",
    "company = 'Google'"
   ]
  },
  {
   "cell_type": "code",
   "execution_count": null,
   "id": "2ac488e9-d88f-4557-9a1a-de38b65b7eac",
   "metadata": {},
   "outputs": [],
   "source": [
    "name"
   ]
  },
  {
   "cell_type": "code",
   "execution_count": null,
   "id": "e728edd9-6235-42c8-83be-5976428139a8",
   "metadata": {},
   "outputs": [],
   "source": [
    "company"
   ]
  },
  {
   "cell_type": "code",
   "execution_count": null,
   "id": "6971b697-26b4-4c5a-abab-4317d131d395",
   "metadata": {},
   "outputs": [],
   "source": [
    "number = 10"
   ]
  },
  {
   "cell_type": "code",
   "execution_count": null,
   "id": "b26a9edc-6158-40de-b3d5-b61dab55e92d",
   "metadata": {},
   "outputs": [],
   "source": [
    "number"
   ]
  },
  {
   "cell_type": "code",
   "execution_count": null,
   "id": "d72fa4d0-9980-4714-8546-d5d264befdb6",
   "metadata": {},
   "outputs": [],
   "source": [
    "name= 'Bala'"
   ]
  },
  {
   "cell_type": "code",
   "execution_count": null,
   "id": "1318f7d0-3807-48cd-8f20-45281b3a7606",
   "metadata": {},
   "outputs": [],
   "source": [
    "name"
   ]
  },
  {
   "cell_type": "code",
   "execution_count": null,
   "id": "636129f7-3888-4260-8b51-b74c1da773a4",
   "metadata": {},
   "outputs": [],
   "source": [
    "\"\""
   ]
  },
  {
   "cell_type": "code",
   "execution_count": null,
   "id": "83fd49c2-02b3-4093-9167-62a06a6e6a5c",
   "metadata": {},
   "outputs": [],
   "source": [
    "''"
   ]
  },
  {
   "cell_type": "code",
   "execution_count": null,
   "id": "fbc48a8f-faa1-46a3-9264-86ae5c8d777a",
   "metadata": {},
   "outputs": [],
   "source": [
    "# anything written inside the single and double quotes --it is string\n",
    "type('sddf')"
   ]
  },
  {
   "cell_type": "code",
   "execution_count": null,
   "id": "966263a4-ba43-4ff6-a002-66c57b8b7d28",
   "metadata": {},
   "outputs": [],
   "source": [
    "type(number)"
   ]
  },
  {
   "cell_type": "code",
   "execution_count": null,
   "id": "d2bcaeb1-9ce7-431d-9a50-a9ba140ed139",
   "metadata": {},
   "outputs": [],
   "source": [
    "decimal_num =0.9"
   ]
  },
  {
   "cell_type": "code",
   "execution_count": null,
   "id": "457b214c-b837-41b7-9950-6b7a998bf7d8",
   "metadata": {},
   "outputs": [],
   "source": [
    "decimal_num"
   ]
  },
  {
   "cell_type": "code",
   "execution_count": null,
   "id": "19da0293-6397-4be1-bf99-45b00530e008",
   "metadata": {},
   "outputs": [],
   "source": [
    "type(decimal_num)"
   ]
  },
  {
   "cell_type": "code",
   "execution_count": null,
   "id": "ab20e6cb-7796-4786-b518-7a1187f6ce51",
   "metadata": {},
   "outputs": [],
   "source": [
    "decimal_num"
   ]
  },
  {
   "cell_type": "code",
   "execution_count": null,
   "id": "44529fd9-8142-4db2-8af2-ebdad997fcb4",
   "metadata": {},
   "outputs": [],
   "source": [
    "1+3j  # complewx number"
   ]
  },
  {
   "cell_type": "code",
   "execution_count": null,
   "id": "ed63f143-440f-48fe-996e-01416d671f5a",
   "metadata": {},
   "outputs": [],
   "source": [
    "type(1+3j)"
   ]
  },
  {
   "cell_type": "code",
   "execution_count": null,
   "id": "b13a2f41-9457-494f-b3d3-6dfe38b4a123",
   "metadata": {},
   "outputs": [],
   "source": [
    "print('hello')\n",
    "print(\"hello\")"
   ]
  },
  {
   "cell_type": "code",
   "execution_count": null,
   "id": "1298131a-c921-4736-821c-01d59cec8981",
   "metadata": {},
   "outputs": [],
   "source": [
    "# bad way of declaring variables\n",
    "# 1a\n",
    "# 3answer  # don't start variable with number\n",
    "\n",
    "\n",
    "# variables are case sensitive\n",
    "company = 'ineuron'\n",
    "Company = 'pwskills'\n",
    "print(company)\n",
    "print(Company)"
   ]
  },
  {
   "cell_type": "code",
   "execution_count": null,
   "id": "b874be6e-e1ea-4aa8-8dc1-6e368c939154",
   "metadata": {},
   "outputs": [],
   "source": [
    "# REserved keywords  we can't declare reserved keyword as a variable\n",
    "'''\n",
    "int, float ,len, complex, bool, str, return , yield\n",
    "example\n",
    "float = 34\n",
    "'''"
   ]
  },
  {
   "cell_type": "code",
   "execution_count": null,
   "id": "f0849e41-ef59-4f08-938b-f0251fd7418e",
   "metadata": {},
   "outputs": [],
   "source": [
    "# Booleans\n",
    "True"
   ]
  },
  {
   "cell_type": "code",
   "execution_count": null,
   "id": "bc20e7a9-bf12-45cd-be7c-d7c8738a372c",
   "metadata": {},
   "outputs": [],
   "source": [
    "False"
   ]
  },
  {
   "cell_type": "code",
   "execution_count": null,
   "id": "305b2bb2-4066-46e5-8dcf-81b0e7995f27",
   "metadata": {},
   "outputs": [],
   "source": [
    "True or False"
   ]
  },
  {
   "cell_type": "code",
   "execution_count": null,
   "id": "141c5883-da00-49da-b06b-01dd9137d46b",
   "metadata": {},
   "outputs": [],
   "source": [
    "False or True"
   ]
  },
  {
   "cell_type": "raw",
   "id": "a0d65f8b-2c6c-4158-aa54-09ed88183331",
   "metadata": {},
   "source": []
  },
  {
   "cell_type": "code",
   "execution_count": null,
   "id": "03ad63a7-d520-4f71-b54f-ac2f0fcd119c",
   "metadata": {},
   "outputs": [],
   "source": [
    "True and False"
   ]
  },
  {
   "cell_type": "code",
   "execution_count": null,
   "id": "95c33176-eda9-4b21-a33e-3f1be9094880",
   "metadata": {},
   "outputs": [],
   "source": [
    "False and True"
   ]
  },
  {
   "cell_type": "code",
   "execution_count": null,
   "id": "cbb4bdf8-0ed7-4c46-a31e-1c420b95fafb",
   "metadata": {},
   "outputs": [],
   "source": [
    "not True"
   ]
  },
  {
   "cell_type": "code",
   "execution_count": null,
   "id": "350000e4-b75f-45cc-b044-eca6437ae9b6",
   "metadata": {},
   "outputs": [],
   "source": [
    "not False"
   ]
  },
  {
   "cell_type": "code",
   "execution_count": null,
   "id": "033d9c7b-89d5-4075-a555-eca8fb78ab4f",
   "metadata": {},
   "outputs": [],
   "source": [
    "bool(1)  #  other than 0 it will always gives true"
   ]
  },
  {
   "cell_type": "code",
   "execution_count": null,
   "id": "b343fe66-9afa-4673-9b88-59a48fdd361d",
   "metadata": {},
   "outputs": [],
   "source": [
    "bool(4)"
   ]
  },
  {
   "cell_type": "code",
   "execution_count": null,
   "id": "4afd72eb-8734-489a-b0c2-7e0154c52546",
   "metadata": {},
   "outputs": [],
   "source": [
    "bool(0)  # for 0 it will always gives false value"
   ]
  },
  {
   "cell_type": "code",
   "execution_count": null,
   "id": "ef1361e4-2f2c-45ac-a481-e9ff11740d86",
   "metadata": {},
   "outputs": [],
   "source": [
    "bool(-1)"
   ]
  },
  {
   "cell_type": "code",
   "execution_count": null,
   "id": "121f25f0-8c66-418c-90df-22fab332b4d8",
   "metadata": {},
   "outputs": [],
   "source": [
    "a=1\n",
    "if bool(a)==True:\n",
    "    print('sanju')\n",
    "else: \n",
    "    print('mohan')"
   ]
  },
  {
   "cell_type": "code",
   "execution_count": null,
   "id": "7c73b25b-6c66-4e8f-a395-6f31651d62e3",
   "metadata": {},
   "outputs": [],
   "source": [
    "# 34\n",
    "str(34)\n",
    "print(str(34))\n",
    "print(type(str(34)))"
   ]
  },
  {
   "cell_type": "code",
   "execution_count": null,
   "id": "9049ce1a-48b9-45a0-93cd-a4b507579ad4",
   "metadata": {},
   "outputs": [],
   "source": [
    "print(type(34))"
   ]
  },
  {
   "cell_type": "code",
   "execution_count": null,
   "id": "e054077a-d790-4bac-9cc3-3233de32b7ca",
   "metadata": {},
   "outputs": [],
   "source": [
    "# typecasting\n",
    "bool(0)"
   ]
  },
  {
   "cell_type": "code",
   "execution_count": null,
   "id": "9b3cad20-34aa-4789-96a8-186f8f619696",
   "metadata": {},
   "outputs": [],
   "source": [
    "str(45)"
   ]
  },
  {
   "cell_type": "code",
   "execution_count": null,
   "id": "a4cc31f0-a27a-48d0-8516-fafed10dd308",
   "metadata": {},
   "outputs": [],
   "source": [
    "int(\"4\")"
   ]
  },
  {
   "cell_type": "code",
   "execution_count": null,
   "id": "f8a675bb-ecca-47ca-addd-85ecbc8d0b86",
   "metadata": {},
   "outputs": [],
   "source": [
    "type(int('34'))"
   ]
  },
  {
   "cell_type": "code",
   "execution_count": null,
   "id": "c88371e1-8819-4ee0-b59a-c501408e5aa8",
   "metadata": {},
   "outputs": [],
   "source": [
    "# Dynamic typing\n",
    "\n",
    "a=23\n",
    "str1='krish'"
   ]
  },
  {
   "cell_type": "code",
   "execution_count": null,
   "id": "f4a9ee40-afbe-4d71-98ac-3249c49d4f5c",
   "metadata": {},
   "outputs": [],
   "source": [
    "a='var'"
   ]
  },
  {
   "cell_type": "code",
   "execution_count": null,
   "id": "742842fe-36df-4291-af89-3ea1f607d989",
   "metadata": {},
   "outputs": [],
   "source": [
    "print(type(a))"
   ]
  },
  {
   "cell_type": "code",
   "execution_count": null,
   "id": "69b9260d-9166-4bf7-a4aa-1fb9f6d4103d",
   "metadata": {},
   "outputs": [],
   "source": [
    "# concatenation between different type\n",
    "'1' +'1'"
   ]
  },
  {
   "cell_type": "code",
   "execution_count": null,
   "id": "3cc98cc0-bfc1-4ced-b994-e76bd88ce5b6",
   "metadata": {},
   "outputs": [],
   "source": [
    "int('1') + str('1')"
   ]
  },
  {
   "cell_type": "code",
   "execution_count": 1,
   "id": "b764d306-2a3f-4770-99ad-21292abffecb",
   "metadata": {},
   "outputs": [
    {
     "ename": "TypeError",
     "evalue": "can't multiply sequence by non-int of type 'str'",
     "output_type": "error",
     "traceback": [
      "\u001b[0;31m---------------------------------------------------------------------------\u001b[0m",
      "\u001b[0;31mTypeError\u001b[0m                                 Traceback (most recent call last)",
      "Cell \u001b[0;32mIn[1], line 1\u001b[0m\n\u001b[0;32m----> 1\u001b[0m \u001b[38;5;124;43m'\u001b[39;49m\u001b[38;5;124;43m1\u001b[39;49m\u001b[38;5;124;43m'\u001b[39;49m\u001b[43m \u001b[49m\u001b[38;5;241;43m*\u001b[39;49m\u001b[43m \u001b[49m\u001b[38;5;124;43m'\u001b[39;49m\u001b[38;5;124;43m1\u001b[39;49m\u001b[38;5;124;43m'\u001b[39;49m\n",
      "\u001b[0;31mTypeError\u001b[0m: can't multiply sequence by non-int of type 'str'"
     ]
    }
   ],
   "source": [
    "'1' * '1'"
   ]
  },
  {
   "cell_type": "code",
   "execution_count": null,
   "id": "61a1c791-616f-4c20-9dbd-a1d60713725a",
   "metadata": {},
   "outputs": [],
   "source": [
    "'1' * 100"
   ]
  },
  {
   "cell_type": "code",
   "execution_count": null,
   "id": "bf87a29f-d0c0-4668-8e65-1623a25b3098",
   "metadata": {},
   "outputs": [],
   "source": [
    "# Dynamic typing means when we declare variable , the complier on runtime \n",
    "# while understand the  datatype of the decalred variablea"
   ]
  },
  {
   "cell_type": "code",
   "execution_count": null,
   "id": "a8ceb4b1-f207-42fd-91ce-3bcb1b67eae4",
   "metadata": {},
   "outputs": [],
   "source": [
    "a=10"
   ]
  },
  {
   "cell_type": "code",
   "execution_count": null,
   "id": "8c3cad22-440b-4787-b88b-29b7cba29dab",
   "metadata": {},
   "outputs": [],
   "source": [
    "a='c'"
   ]
  },
  {
   "cell_type": "code",
   "execution_count": null,
   "id": "a94ebb30-5ee5-47b3-8a39-8ad70d4d9911",
   "metadata": {},
   "outputs": [],
   "source": [
    "type(a)"
   ]
  },
  {
   "cell_type": "code",
   "execution_count": null,
   "id": "da93136f-e8cf-4af9-be2b-8223d97cd571",
   "metadata": {},
   "outputs": [],
   "source": [
    "int  # datatype object"
   ]
  },
  {
   "cell_type": "code",
   "execution_count": null,
   "id": "64fa07ef-3068-4bf8-b539-d703a2fb6db3",
   "metadata": {},
   "outputs": [],
   "source": [
    "int()"
   ]
  },
  {
   "cell_type": "code",
   "execution_count": null,
   "id": "4ffe31d7-f390-4c8e-a1d7-de57b0c399d7",
   "metadata": {},
   "outputs": [],
   "source": [
    "int('34')"
   ]
  },
  {
   "cell_type": "code",
   "execution_count": null,
   "id": "f0b33a36-1d74-4967-bec9-f28da618fad1",
   "metadata": {},
   "outputs": [],
   "source": [
    "int('df')"
   ]
  },
  {
   "cell_type": "code",
   "execution_count": null,
   "id": "f916188b-aaed-46ec-8b1d-93bdcef73017",
   "metadata": {},
   "outputs": [],
   "source": [
    "print('hello world')"
   ]
  },
  {
   "cell_type": "code",
   "execution_count": null,
   "id": "cfd0eae9-e78f-4656-b8a8-3ae9372fa6f0",
   "metadata": {},
   "outputs": [],
   "source": [
    "age=34\n",
    "print('my age is : ', age)"
   ]
  },
  {
   "cell_type": "code",
   "execution_count": null,
   "id": "f8c3f4f2-92df-4dce-8353-645b317ccac5",
   "metadata": {},
   "outputs": [],
   "source": [
    "# f string\n",
    "print(f'my age is : {age}')"
   ]
  },
  {
   "cell_type": "code",
   "execution_count": null,
   "id": "a996facc-a9b1-4f07-b34f-b35474cf4de4",
   "metadata": {},
   "outputs": [],
   "source": [
    "# format\n",
    "name = 'krish'\n",
    "age = 34\n",
    "print('my name iis {} and age is {}'.format(name, age))"
   ]
  },
  {
   "cell_type": "code",
   "execution_count": null,
   "id": "d8e12d84-b3f9-4340-9b43-ae928d26cfa1",
   "metadata": {},
   "outputs": [],
   "source": [
    "print('my name is {} and age is {}'.format(age,name))"
   ]
  },
  {
   "cell_type": "code",
   "execution_count": null,
   "id": "f17ecf5b-8be1-4f5b-ae1d-cfc2a8e01641",
   "metadata": {},
   "outputs": [],
   "source": [
    "# placeholder\n",
    "print('my name is {firstname} and age is {firstage}'.format(firstage=age,firstname = name))"
   ]
  },
  {
   "cell_type": "code",
   "execution_count": null,
   "id": "0aaf0eff-022c-46ec-a96a-63667fece6c0",
   "metadata": {},
   "outputs": [],
   "source": [
    "name ='sanju'\n",
    "age = 23\n",
    "degree='M.sc'\n",
    "print('my name is name , and i am age years old, and i have just completed my m.sc science degree',name,age,degree)"
   ]
  },
  {
   "cell_type": "code",
   "execution_count": null,
   "id": "851790f2-93e3-4a19-978a-3982839c965a",
   "metadata": {},
   "outputs": [],
   "source": [
    "print(f'my name is name , and i have recently completed my degree, and my age is very less')"
   ]
  },
  {
   "cell_type": "code",
   "execution_count": null,
   "id": "236cd5ce-483f-4bab-94fe-fe0f1a9ab8cd",
   "metadata": {},
   "outputs": [],
   "source": [
    "print('my name is {firstname}, and i am {firstage} and completed my {firstdegree}'.format(firstdegree=degree, firstage=age,firstname = name ))"
   ]
  },
  {
   "cell_type": "markdown",
   "id": "e22b7715-bb57-4a90-9b3b-7a6e44c4a6b4",
   "metadata": {},
   "source": [
    "# Control flow\n",
    "# decision making statements\n",
    "\n",
    "* It is kind of making decision during occured situation of program execution and \n",
    "action can be take  according to specific conditions. \n",
    "\n",
    "* Structure of decision making evaluate several expressions that provide True\n",
    "or False as a result.\n",
    "\n",
    "* It is upto you to decide which type of action want to take and execute\n",
    "the statement based upon True and False.\n",
    "\n",
    "** These are several topics of decision making which going to be discussed below :\n",
    "\n",
    "    1. **if**\n",
    "    2. **if else **\n",
    "    3. **if elif else**\n",
    "    4. **Nested if**\n",
    "    5. **Single statement suites**\n"
   ]
  },
  {
   "cell_type": "code",
   "execution_count": null,
   "id": "fb2d0e43-d27c-4770-91fa-095c9fd186ca",
   "metadata": {},
   "outputs": [],
   "source": [
    "# if statements\n",
    "age = 18\n",
    "if age >= 18 :\n",
    "    print('eligible for driving lisence')"
   ]
  },
  {
   "cell_type": "code",
   "execution_count": null,
   "id": "32391a37-0035-45ab-ac31-11ce25ab301a",
   "metadata": {},
   "outputs": [],
   "source": [
    "18 <= 18"
   ]
  },
  {
   "cell_type": "code",
   "execution_count": null,
   "id": "0f1dc094-e9bb-4487-bbe4-df1fa45ac3e8",
   "metadata": {},
   "outputs": [],
   "source": [
    "name = input('enter your name')"
   ]
  },
  {
   "cell_type": "code",
   "execution_count": null,
   "id": "3c989071-35dd-482f-a26b-27c6948213d0",
   "metadata": {},
   "outputs": [],
   "source": [
    "age = int(input('enter your age'))"
   ]
  },
  {
   "cell_type": "code",
   "execution_count": null,
   "id": "72a225db-d9fc-4eac-9961-caa48ce36b80",
   "metadata": {},
   "outputs": [],
   "source": [
    "type(age)"
   ]
  },
  {
   "cell_type": "code",
   "execution_count": null,
   "id": "1bc96cfb-0500-4984-ab5f-176c907f9a85",
   "metadata": {},
   "outputs": [],
   "source": [
    "# Task1\n",
    "# take a input of age\n",
    "# check whether age >=18 and age<=45\n",
    "# display a message you are young blood\n",
    "\n",
    "age=int(input('enter your age'))\n",
    "\n",
    "if age >=18 and age<=45:\n",
    "    print('you are young blood')\n",
    "    \n",
    "else :\n",
    "    print('you are senior')"
   ]
  },
  {
   "cell_type": "code",
   "execution_count": null,
   "id": "9f8cee7c-b436-4200-9ca2-8ab7e9992986",
   "metadata": {},
   "outputs": [],
   "source": [
    "# Task1\n",
    "# take a input of age\n",
    "# check whether age >=18 and age<=45\n",
    "# display a message you are young blood\n",
    "\n",
    "age=int(input('enter your age'))\n",
    "\n",
    "if age >=18 and age<=45:\n",
    "    print('you are young blood')\n"
   ]
  },
  {
   "cell_type": "code",
   "execution_count": null,
   "id": "e6948200-c7ff-4431-a856-647daaff002f",
   "metadata": {},
   "outputs": [],
   "source": [
    "age=int(input('enter your age'))\n",
    "if age >=18 and age<=45:\n",
    "    print('you are young blood')\n",
    "else :\n",
    "    print('you are senior')"
   ]
  },
  {
   "cell_type": "code",
   "execution_count": null,
   "id": "24c947be-b6fa-45ea-adf6-11e325b0b5b8",
   "metadata": {},
   "outputs": [],
   "source": [
    "# if else statement\n",
    "age = int(input('enter your age'))\n",
    "\n",
    "if age >=18 and age <=45:\n",
    "    print('You are young blood')\n",
    "else:\n",
    "    print('Thank you we will let you know')"
   ]
  },
  {
   "cell_type": "markdown",
   "id": "f955d40a-816d-4240-9e6e-ea8f6d9ac3d2",
   "metadata": {},
   "source": [
    "# Task2 \n",
    "mall -input the product price\n",
    "product >1000 rs 20% off\n",
    "print the product price after removing the discount\n",
    "product <= 1000 rs 30% off\n",
    "print the product price after removing the discount"
   ]
  },
  {
   "cell_type": "code",
   "execution_count": null,
   "id": "e3102c9f-52f5-486d-8c15-67ae92cb3d05",
   "metadata": {},
   "outputs": [],
   "source": [
    "price= int(input('enter the product price'))\n",
    "\n",
    "\n",
    "if price > 1000:\n",
    "    print('the product price is ',0.8*price)\n",
    "else :\n",
    "    if price <= 1000:\n",
    "        print('the product price is ',0.07 * price)"
   ]
  },
  {
   "cell_type": "code",
   "execution_count": null,
   "id": "6c5955a7-d153-4554-80a1-e164ba30184c",
   "metadata": {},
   "outputs": [],
   "source": [
    "price= int(input('enter the product price'))\n",
    "\n",
    "\n",
    "if price > 1000:\n",
    "    print('the product price is ',0.8*price)\n",
    "else :\n",
    "    if price <= 1000:\n",
    "        print('the product price is ',0.07 * price)"
   ]
  },
  {
   "cell_type": "code",
   "execution_count": null,
   "id": "589c95f4-8fb6-4f0c-ac53-f7c4e991e7f9",
   "metadata": {},
   "outputs": [],
   "source": [
    "# mall-- input the product price\n",
    "# product > 3000 rs 20% off\n",
    "# print the product price after removing the discount\n",
    "# product > = 2000 rs and 3000 30% off\n",
    "# print the product price after removing the discount\n",
    "# product 100 rs and <=2000 40% off \n",
    "# print the product price after removing the discount\n",
    "\n",
    "\n",
    "price = int(input('enter the price'))\n",
    "\n",
    "if price > 3000:\n",
    "    if price ==4000:\n",
    "        print('congratulations! you get a goa trip')\n",
    "    print(f'the price of the product is {price*0.8}')\n",
    "elif price <=2000 and price <= 3000:\n",
    "    if price ==2999:\n",
    "        print('congratualtion ! you get an additional gift')\n",
    "    print(f'the price of the product is {price*0.7}')\n",
    "elif price <=2000:\n",
    "    price(f'the price of the product is {price*0.6}')\n",
    "else:\n",
    "    print('lets drink tea')"
   ]
  },
  {
   "cell_type": "code",
   "execution_count": null,
   "id": "a4b3c06e-9e8b-4c7d-b83b-31c70942f23c",
   "metadata": {},
   "outputs": [],
   "source": [
    "# comparison operator\n",
    "True == True"
   ]
  },
  {
   "cell_type": "code",
   "execution_count": null,
   "id": "f70f4024-e9a3-4d8f-a434-758301aba671",
   "metadata": {},
   "outputs": [],
   "source": [
    "# single statement suite\n",
    "val = int(input('enter the number'))\n",
    "if(val <=999):print('value is less than equal to 999')\n",
    "else:\n",
    "    print('go home')"
   ]
  },
  {
   "cell_type": "code",
   "execution_count": null,
   "id": "6bbd17b2-6893-4041-94f3-1f745cacf1f6",
   "metadata": {},
   "outputs": [],
   "source": [
    "# while loop\n",
    "joining_age = 25\n",
    "while joining_age<=60:\n",
    "    joining_age=joining_age+1\n",
    "    print(joining_age)\n",
    "else:\n",
    "    print('its time for retirement')"
   ]
  },
  {
   "cell_type": "code",
   "execution_count": null,
   "id": "39607cd5-fded-4f7d-8f76-97c079694c0e",
   "metadata": {},
   "outputs": [],
   "source": [
    "account_balance=2000\n",
    "while account_balance <=2050:\n",
    "    print(account_balance)\n",
    "    account_balance= account_balance+1\n",
    "else:\n",
    "    print('this is over')"
   ]
  },
  {
   "cell_type": "code",
   "execution_count": 2,
   "id": "72f68c0e-ca87-42ee-9cdb-47f38e406782",
   "metadata": {},
   "outputs": [
    {
     "name": "stdout",
     "output_type": "stream",
     "text": [
      "1000\n",
      "900\n",
      "800\n",
      "700\n",
      "600\n",
      "500\n",
      "400\n",
      "300\n",
      "200\n",
      "100\n",
      "put more money in atm\n"
     ]
    }
   ],
   "source": [
    "# Atm machne with 100 rs\n",
    "total_amount =1000\n",
    "while total_amount!=0:\n",
    "    print(total_amount)\n",
    "    total_amount = total_amount-100\n",
    "else:\n",
    "    print('put more money in atm')"
   ]
  },
  {
   "cell_type": "markdown",
   "id": "e32344c5-a821-424b-b067-a0803d687d65",
   "metadata": {},
   "source": [
    "# for loop"
   ]
  },
  {
   "cell_type": "code",
   "execution_count": null,
   "id": "03bcb569-65de-44de-ab87-43de837e32a2",
   "metadata": {},
   "outputs": [],
   "source": [
    "lst=['krish',1,3,4,2,5,'apple','banana']"
   ]
  },
  {
   "cell_type": "code",
   "execution_count": null,
   "id": "9c88ce6d-695f-454d-9c31-34d7013802cd",
   "metadata": {},
   "outputs": [],
   "source": [
    "lst"
   ]
  },
  {
   "cell_type": "code",
   "execution_count": null,
   "id": "c2abf832-1a7d-42a9-a1ea-626c56f43a71",
   "metadata": {},
   "outputs": [],
   "source": [
    "type(lst)"
   ]
  },
  {
   "cell_type": "code",
   "execution_count": null,
   "id": "05c9993f-1043-48c3-ac69-39eda0ede5ad",
   "metadata": {},
   "outputs": [],
   "source": [
    "for i in lst:\n",
    "    print(i)"
   ]
  },
  {
   "cell_type": "code",
   "execution_count": null,
   "id": "d4b14c19-1c25-4b7e-a4cd-e1de628d07b6",
   "metadata": {},
   "outputs": [],
   "source": [
    "fruits_list =['mango','cherrry','apple','papaya','banana']"
   ]
  },
  {
   "cell_type": "code",
   "execution_count": null,
   "id": "7152e4fa-c2c5-4607-b5a3-5700354b4d8d",
   "metadata": {},
   "outputs": [],
   "source": [
    "for a in fruits_list:\n",
    "    print(a)\n",
    "    if a =='cherrry':\n",
    "        print('the fruit is cherry')\n",
    "    else: \n",
    "        print('there is no cherry')"
   ]
  },
  {
   "cell_type": "code",
   "execution_count": null,
   "id": "3371a8b6-b934-472e-9017-6542201d3f40",
   "metadata": {},
   "outputs": [],
   "source": [
    "for i in fruits_list:\n",
    "    print(i)\n",
    "    if i=='banana':\n",
    "        print('this is banana')\n",
    "    "
   ]
  },
  {
   "cell_type": "code",
   "execution_count": null,
   "id": "848e3e1a-e61c-40db-b951-55acd54f130b",
   "metadata": {},
   "outputs": [],
   "source": [
    "for i in fruits_list:\n",
    "    print(i,end='')\n",
    "    if i =='cherry':\n",
    "        print('the fruit is cherry')"
   ]
  },
  {
   "cell_type": "code",
   "execution_count": null,
   "id": "0e0145f7-2c56-4d15-b6c3-a4af89f617e2",
   "metadata": {},
   "outputs": [],
   "source": [
    "for i in fruits_list:\n",
    "    print(i,end='')\n",
    "    if i=='cherry':\n",
    "        print('the fruit is cherry')"
   ]
  },
  {
   "cell_type": "code",
   "execution_count": null,
   "id": "ed0178bd-9c6d-4ef4-8419-afaa6864e142",
   "metadata": {},
   "outputs": [],
   "source": [
    "for a in fruits_list:\n",
    "    print(a)\n",
    "    if a==\"cherrry\":\n",
    "        print('the fruit is cherry')\n",
    "        break"
   ]
  },
  {
   "cell_type": "code",
   "execution_count": null,
   "id": "33ac6bd9-1acd-4ac1-99d3-8c3d684300ed",
   "metadata": {},
   "outputs": [],
   "source": [
    "fruit= 'mango'\n",
    "for x in fruit:\n",
    "    print(x)"
   ]
  },
  {
   "cell_type": "code",
   "execution_count": null,
   "id": "54a74ce4-718b-44de-a3cd-7a4c63c1edff",
   "metadata": {},
   "outputs": [],
   "source": [
    "fruit[0]"
   ]
  },
  {
   "cell_type": "code",
   "execution_count": null,
   "id": "4c73f1ac-a730-4cec-b58e-ffda553ac72b",
   "metadata": {},
   "outputs": [],
   "source": [
    "fruit[1]"
   ]
  },
  {
   "cell_type": "code",
   "execution_count": null,
   "id": "db0411d8-585a-41b2-9083-709b08163b4c",
   "metadata": {},
   "outputs": [],
   "source": [
    "fruit='Orange'\n",
    "for i in fruit:\n",
    "    print(i,end='')"
   ]
  },
  {
   "cell_type": "code",
   "execution_count": null,
   "id": "64c2f49c-aa3c-439a-9593-71436b7c96a3",
   "metadata": {},
   "outputs": [],
   "source": [
    "### nested loop\n",
    "\n",
    "n=7\n"
   ]
  },
  {
   "cell_type": "code",
   "execution_count": null,
   "id": "505960b1-1716-4fe7-be26-1ad1e0e8e720",
   "metadata": {},
   "outputs": [],
   "source": [
    "range(1,8)"
   ]
  },
  {
   "cell_type": "code",
   "execution_count": null,
   "id": "80242ff5-8816-46a1-84bb-f1f39d2fd70b",
   "metadata": {},
   "outputs": [],
   "source": [
    "for i in range(1,8,2):\n",
    "    print(i)"
   ]
  },
  {
   "cell_type": "code",
   "execution_count": null,
   "id": "7dcc4ac4-4a1e-4cb5-a477-0e49848130d1",
   "metadata": {},
   "outputs": [],
   "source": [
    "## nested loop\n",
    "n=7\n",
    "for i in range(0,n):\n",
    "    for j in range (0,i+1):\n",
    "        print('*',end='')"
   ]
  },
  {
   "cell_type": "code",
   "execution_count": null,
   "id": "6f9920f8-564d-49d5-a2aa-fc66448e8179",
   "metadata": {},
   "outputs": [],
   "source": [
    "for i in range(0,n):\n",
    "    for j in range(0,i+1):\n",
    "        print('*',end='\\n')"
   ]
  },
  {
   "cell_type": "code",
   "execution_count": null,
   "id": "cf874e72-0da6-407a-98c2-305c5becd380",
   "metadata": {},
   "outputs": [],
   "source": [
    "for i in range(0,n):\n",
    "    for j in range(0,i+1):\n",
    "        print('*',end='')\n",
    "    print(\"\\r\")    "
   ]
  },
  {
   "cell_type": "code",
   "execution_count": null,
   "id": "ea5da1a9-cdad-4e50-b2a6-bd864b634b12",
   "metadata": {},
   "outputs": [],
   "source": [
    "n=10\n",
    "for i in range(0,n):\n",
    "    for j in range(0,i+1):\n",
    "        print('*',end='')\n",
    "    print(\"\\r\")    "
   ]
  },
  {
   "cell_type": "code",
   "execution_count": null,
   "id": "2a46c380-ec38-4f8b-bd36-6f5968452fa0",
   "metadata": {},
   "outputs": [],
   "source": [
    "for i in range(0,n):\n",
    "    for j in range(0,i-1):\n",
    "        print('*',end='')\n",
    "    print(\"\\r\")    \n",
    "        "
   ]
  },
  {
   "cell_type": "code",
   "execution_count": null,
   "id": "89d39691-14f9-4522-8ad2-39fca5b6e83d",
   "metadata": {},
   "outputs": [],
   "source": [
    "for i in range(0,n):\n",
    "    for j in range(0,i+1):\n",
    "        print('*',end='')  # \\n added new line after printing star\n",
    "    print(\"\\n\")    \n",
    "    "
   ]
  },
  {
   "cell_type": "code",
   "execution_count": null,
   "id": "66a75553-cd09-488c-97e5-72f2ca39be02",
   "metadata": {},
   "outputs": [],
   "source": [
    "## loop controls \n",
    "## break and continue\n",
    "\n",
    "fruits_list = ['mango','cherry','apple','papaya','banana']\n",
    "for i in fruits_list:\n",
    "    if i == 'apple':\n",
    "        print('the fruit is apple')\n",
    "        break\n",
    "    print(i)    "
   ]
  },
  {
   "cell_type": "code",
   "execution_count": null,
   "id": "83547302-b21a-444d-a4d4-98b3b0e00be6",
   "metadata": {},
   "outputs": [],
   "source": [
    "for i in fruits_list:\n",
    "    if i=='apple':\n",
    "        print('the fruit is apple')\n",
    "        pass\n",
    "    print(i)"
   ]
  },
  {
   "cell_type": "code",
   "execution_count": null,
   "id": "49bb7547-a555-446a-80ae-a01a568a0744",
   "metadata": {},
   "outputs": [],
   "source": [
    "for i in fruits_list:\n",
    "    if i == 'apple':\n",
    "        print('The fruit is apple')\n",
    "        continue\n",
    "    print(i)    "
   ]
  },
  {
   "cell_type": "markdown",
   "id": "cc061a5c-c35b-439f-84bd-6a0ab101bbc2",
   "metadata": {},
   "source": [
    "Logical operattors"
   ]
  },
  {
   "cell_type": "code",
   "execution_count": null,
   "id": "55bc1caa-36ac-4ac8-adf8-6f20ebb336cc",
   "metadata": {},
   "outputs": [],
   "source": [
    "True and True"
   ]
  },
  {
   "cell_type": "code",
   "execution_count": null,
   "id": "84f0ced5-8d44-4911-9215-32aa57a61612",
   "metadata": {},
   "outputs": [],
   "source": [
    "False and True"
   ]
  },
  {
   "cell_type": "code",
   "execution_count": null,
   "id": "1d01339b-00b6-4d34-92c3-0d998745b5cd",
   "metadata": {},
   "outputs": [],
   "source": [
    "False or True"
   ]
  },
  {
   "cell_type": "code",
   "execution_count": null,
   "id": "99467008-a34d-4fcd-8350-8a2234d72fe2",
   "metadata": {},
   "outputs": [],
   "source": [
    "False or True"
   ]
  },
  {
   "cell_type": "code",
   "execution_count": null,
   "id": "ff469e4e-4cfd-4d7d-a14c-888d6aaf6b86",
   "metadata": {},
   "outputs": [],
   "source": [
    "# lets define two variables having boolean values true and fase\n",
    "\n",
    "START = True \n",
    "STOP= False\n",
    "\n",
    "# print the value as it is\n",
    "print(f\"Defined value of START = {START}\")\n",
    "print(f\"Defined value of STOP = {STOP} \\n\")\n",
    "\n",
    "# if can also be written as \n",
    "print(f\"Defined value of START = {START}\")\n",
    "print(f\"value of STOP by negating START = {not START} \\n\")\n",
    "\n",
    "# alternatively - \n",
    "print(f\" value of START by negating STOP = {not STOP}\")\n",
    "print(f\" defined value of STOP = {STOP} \\n\")"
   ]
  },
  {
   "cell_type": "code",
   "execution_count": null,
   "id": "7cef93ae-ea4c-4b5d-a59d-8496cdade34b",
   "metadata": {},
   "outputs": [],
   "source": [
    "START =1\n",
    "STOP =0\n",
    "\n",
    "# print the value as it is\n",
    "print(f\"Defined value of START = {START}\")\n",
    "print(f\"Defined value of STOP = {STOP} \\n\")\n",
    "\n",
    "# if can also be written as \n",
    "print(f\"Defined value of START = {START}\")\n",
    "print(f\"value of STOP by negating START = {int(not START)} \\n\")\n",
    "\n",
    "# alternatively\n",
    "print(f\"value of START by negating STOP = {int(not STOP)}\")\n",
    "print(f\"defined value of STOP = {STOP} \\n\")"
   ]
  },
  {
   "cell_type": "code",
   "execution_count": null,
   "id": "61ac9e17-414a-4bfc-b4b1-aa2a1ccd0013",
   "metadata": {},
   "outputs": [],
   "source": [
    "zero = 0\n",
    "one = 1\n",
    "\n",
    "print(f\"boolean value of no. {zero} is {bool(zero)}\")\n",
    "print(f\"boolean value of no. {one} is {bool(one)}\")\n",
    "print(f\"negation of {zero} is {not zero} and negation of {one} is {not one}\")\n",
    "print(\"\\n,,,,,,,,,,,,,,,,,,,,,,,,,,,,,,\\n\")"
   ]
  },
  {
   "cell_type": "code",
   "execution_count": null,
   "id": "45276679-f186-4d9e-82c6-cab01d2c7652",
   "metadata": {},
   "outputs": [],
   "source": [
    "some_negative_integer = -5\n",
    "some_positive_integer =5\n",
    "\n",
    "print(f\"boolean value no. {some_negative_integer} is {bool(some_negative_integer)}\")\n",
    "print(f\"boolean value no. {some_positive_integer} is {bool(some_positive_integer)}\")\n",
    "print(f\"negation of {some_negative_integer} is {not some_negative_integer} \\\n",
    "and negation of {some_positive_integer} is {not some_positive_integer}\")\n",
    "\n",
    "print(\"\\n#_____________________#\\n\")"
   ]
  },
  {
   "cell_type": "code",
   "execution_count": null,
   "id": "3f34d864-dbac-42e2-b73f-e27a241d999d",
   "metadata": {},
   "outputs": [],
   "source": [
    "some_negative_float = -5.99\n",
    "some_positive_float = 5.9\n",
    "\n",
    "print(f\"boolean value of no. {some_negative_float} is {bool(some_negative_float)}\")\n",
    "print(f\"boolean value of np. {some_negative_float} is {bool(some_positive_float)}\")\n",
    "print(f\"negation of {some_negative_float} is {not some_negative_float} \\\n",
    "and negation of {some_positive_float} is {not some_positive_float}\")"
   ]
  },
  {
   "cell_type": "markdown",
   "id": "ef6346fd-67fc-47ef-bf89-0c190e315ca6",
   "metadata": {},
   "source": [
    "# Logical And"
   ]
  },
  {
   "cell_type": "code",
   "execution_count": null,
   "id": "040dbb8d-cd91-4aee-aa4d-f75c63590032",
   "metadata": {},
   "outputs": [],
   "source": [
    "VEGETABLES = True \n",
    "SALT = False\n",
    "DISH = VEGETABLES and SALT\n",
    "\n",
    "print(f'dish contains VEGETABLES: {VEGETABLES}')\n",
    "print(f'dish contains SALT: {SALT}')\n",
    "print(f\"hence dish prepared was good : {DISH} \\n\")"
   ]
  },
  {
   "cell_type": "code",
   "execution_count": null,
   "id": "49b1180e-845d-4e9b-b2b8-b79cc1797000",
   "metadata": {},
   "outputs": [],
   "source": [
    "not(False) * True"
   ]
  },
  {
   "cell_type": "code",
   "execution_count": null,
   "id": "0f068646-b91d-4c81-9c19-c1425c03dca6",
   "metadata": {},
   "outputs": [],
   "source": [
    "False *False"
   ]
  },
  {
   "cell_type": "code",
   "execution_count": null,
   "id": "d4f492c0-f889-4db5-8539-84c05e2d07e8",
   "metadata": {},
   "outputs": [],
   "source": [
    "False *( not(False))"
   ]
  },
  {
   "cell_type": "code",
   "execution_count": null,
   "id": "a4a9b9ee-9770-4fa7-945d-4163f26f3adf",
   "metadata": {},
   "outputs": [],
   "source": [
    "True * False"
   ]
  },
  {
   "cell_type": "code",
   "execution_count": null,
   "id": "bf5a8840-835e-4376-ac5e-3f0b361efd54",
   "metadata": {},
   "outputs": [],
   "source": [
    "not(True) * False"
   ]
  },
  {
   "cell_type": "code",
   "execution_count": null,
   "id": "96a38db8-819c-45ac-84b1-851f702ac304",
   "metadata": {},
   "outputs": [],
   "source": [
    "True* True"
   ]
  },
  {
   "cell_type": "code",
   "execution_count": null,
   "id": "a36937b2-9df0-4454-bc06-87d3b9c9a0c6",
   "metadata": {},
   "outputs": [],
   "source": [
    "not True * True"
   ]
  },
  {
   "cell_type": "code",
   "execution_count": null,
   "id": "88a993a3-cf6c-47fa-979b-4b47b7daad36",
   "metadata": {},
   "outputs": [],
   "source": [
    "1+2*3"
   ]
  },
  {
   "cell_type": "code",
   "execution_count": null,
   "id": "a393d2eb-f2d7-4671-85f2-e3da5bc4fe60",
   "metadata": {},
   "outputs": [],
   "source": [
    "(1+2)*3"
   ]
  },
  {
   "cell_type": "code",
   "execution_count": null,
   "id": "640bcd89-3bed-47ce-9803-535a64349840",
   "metadata": {},
   "outputs": [],
   "source": [
    "not False * False ==True"
   ]
  },
  {
   "cell_type": "code",
   "execution_count": null,
   "id": "66d205ba-9194-45b6-8cab-da869c4db8a9",
   "metadata": {},
   "outputs": [],
   "source": [
    "(not False)* False ==True"
   ]
  },
  {
   "cell_type": "code",
   "execution_count": null,
   "id": "77d559e7-637c-41a0-acca-5568fcf0ebef",
   "metadata": {},
   "outputs": [],
   "source": [
    "False"
   ]
  },
  {
   "cell_type": "code",
   "execution_count": null,
   "id": "c9a93692-474e-4da5-ac76-2206c0e9542c",
   "metadata": {},
   "outputs": [],
   "source": [
    "not False"
   ]
  },
  {
   "cell_type": "code",
   "execution_count": null,
   "id": "e9f2118b-bdd7-4e11-9e02-9547aced4d6e",
   "metadata": {},
   "outputs": [],
   "source": [
    "2*3+40/5"
   ]
  },
  {
   "cell_type": "code",
   "execution_count": null,
   "id": "2e77cebb-883c-4648-bb1f-6fd31963961d",
   "metadata": {},
   "outputs": [],
   "source": [
    "(2*3+40)/5"
   ]
  },
  {
   "cell_type": "code",
   "execution_count": null,
   "id": "5973b9a7-30a5-4ef1-a0e6-5433587d012d",
   "metadata": {},
   "outputs": [],
   "source": [
    "False * True"
   ]
  },
  {
   "cell_type": "code",
   "execution_count": null,
   "id": "c20d8e91-d944-4177-a779-0d5cd5707619",
   "metadata": {},
   "outputs": [],
   "source": [
    "not(False * True)"
   ]
  },
  {
   "cell_type": "code",
   "execution_count": null,
   "id": "1cdc832f-932f-4fc7-b699-c95d613bc49d",
   "metadata": {},
   "outputs": [],
   "source": [
    "not(1)"
   ]
  },
  {
   "cell_type": "code",
   "execution_count": null,
   "id": "c3b741bd-735d-4a4c-ad39-7ac2807194cc",
   "metadata": {},
   "outputs": [],
   "source": [
    "not False*True==True"
   ]
  },
  {
   "cell_type": "code",
   "execution_count": null,
   "id": "bc6cdb62-f8c1-4289-89c6-1d9cc7e5cf43",
   "metadata": {},
   "outputs": [],
   "source": [
    "lst_a = [1,2,3,4]\n",
    "lst_b = [1,2,3,4]"
   ]
  },
  {
   "cell_type": "code",
   "execution_count": null,
   "id": "c6b6efc7-da32-4280-afd1-9409b95576bc",
   "metadata": {},
   "outputs": [],
   "source": [
    "id(lst_a)  # memory address"
   ]
  },
  {
   "cell_type": "code",
   "execution_count": null,
   "id": "856f2716-aed8-48a6-ad75-f99a6e2b184f",
   "metadata": {},
   "outputs": [],
   "source": [
    "print(id(lst_b))  # have differnent memory address"
   ]
  },
  {
   "cell_type": "code",
   "execution_count": null,
   "id": "f3be4e4f-cf2a-4f8e-a6d5-535a72850b90",
   "metadata": {},
   "outputs": [],
   "source": [
    "lst_a is lst_b   # because both have different memory address"
   ]
  },
  {
   "cell_type": "code",
   "execution_count": null,
   "id": "1ec37f4b-6b97-47a7-8491-c0a81edefd6d",
   "metadata": {},
   "outputs": [],
   "source": [
    "print(id(lst_a))\n",
    "print(id(lst_b))"
   ]
  },
  {
   "cell_type": "code",
   "execution_count": null,
   "id": "dc653f6a-139e-4c79-a4b4-cd4039bb0d17",
   "metadata": {},
   "outputs": [],
   "source": [
    "lst_a = lst_b  # now both have same memory addresse"
   ]
  },
  {
   "cell_type": "code",
   "execution_count": null,
   "id": "bd157ee4-e375-4b37-b51a-92af4b38376c",
   "metadata": {},
   "outputs": [],
   "source": [
    "print(id(lst_a))\n",
    "print(id(lst_b))"
   ]
  },
  {
   "cell_type": "code",
   "execution_count": null,
   "id": "b9cf55d1-b8aa-4d7b-8ee8-fa601af26b91",
   "metadata": {},
   "outputs": [],
   "source": [
    "lst_a is lst_b"
   ]
  },
  {
   "cell_type": "code",
   "execution_count": null,
   "id": "875b23e9-95a8-474d-9f56-b78dcf974bff",
   "metadata": {},
   "outputs": [],
   "source": [
    "lst_a = [1,2,3,4]\n",
    "lst_b = [1,2,3,4]\n",
    "\n",
    "lst_a is not lst_b"
   ]
  },
  {
   "cell_type": "code",
   "execution_count": null,
   "id": "419831da-aa0e-4bf4-81ee-86f55259526f",
   "metadata": {},
   "outputs": [],
   "source": [
    "lst_a == lst_b  # it checks the element of the list not memory location"
   ]
  },
  {
   "cell_type": "code",
   "execution_count": null,
   "id": "379bed11-d24f-47a6-91c1-5e79eec8cf86",
   "metadata": {},
   "outputs": [],
   "source": [
    "a=2\n",
    "b=2\n"
   ]
  },
  {
   "cell_type": "code",
   "execution_count": null,
   "id": "3e8f268b-5614-48cb-ba4c-f758aafa4654",
   "metadata": {},
   "outputs": [],
   "source": [
    "print(id(a))\n",
    "print(id(b))"
   ]
  },
  {
   "cell_type": "code",
   "execution_count": null,
   "id": "50f8eeda-6dfe-42fd-9158-49d5ee5443b1",
   "metadata": {},
   "outputs": [],
   "source": [
    "str1 = 'krish'\n",
    "str2 = 'krish'\n",
    "print(id(str1))\n",
    "print(id(str2))"
   ]
  },
  {
   "cell_type": "code",
   "execution_count": null,
   "id": "a250099f-06ab-47af-bfbf-05f6954e26fb",
   "metadata": {},
   "outputs": [],
   "source": [
    "str1 = 'krish'\n",
    "str2 = 'krish1'\n",
    "print(id(str1))\n",
    "print(id(str2))"
   ]
  },
  {
   "cell_type": "code",
   "execution_count": null,
   "id": "304b7404-8769-4839-929a-9ed50be03063",
   "metadata": {},
   "outputs": [],
   "source": [
    "lst_a"
   ]
  },
  {
   "cell_type": "code",
   "execution_count": null,
   "id": "265484f5-4eb0-4780-b9f3-7551c1c226f8",
   "metadata": {},
   "outputs": [],
   "source": [
    "lst_a[0]"
   ]
  },
  {
   "cell_type": "code",
   "execution_count": null,
   "id": "206fee3d-f81c-4726-9cfc-47de6ec38892",
   "metadata": {},
   "outputs": [],
   "source": [
    "str1"
   ]
  },
  {
   "cell_type": "code",
   "execution_count": null,
   "id": "1d25ded1-ee6d-48e6-a889-5c9ade5317b4",
   "metadata": {},
   "outputs": [],
   "source": [
    "str1[0]"
   ]
  },
  {
   "cell_type": "code",
   "execution_count": null,
   "id": "3719cc81-85d3-4bcd-992c-d200ee8e378c",
   "metadata": {},
   "outputs": [],
   "source": [
    "lst_a[0]=100  # list is mutable we can assignn new values "
   ]
  },
  {
   "cell_type": "code",
   "execution_count": null,
   "id": "17fefb1a-9dc5-40c5-9903-9d9938a71b69",
   "metadata": {},
   "outputs": [],
   "source": [
    "lst_a"
   ]
  },
  {
   "cell_type": "code",
   "execution_count": null,
   "id": "eeaa02a3-0972-416d-aa4b-4d5c5c8a7cee",
   "metadata": {},
   "outputs": [],
   "source": [
    "str1"
   ]
  },
  {
   "cell_type": "code",
   "execution_count": null,
   "id": "adff72d6-cabd-443f-b78a-23359d327eea",
   "metadata": {},
   "outputs": [],
   "source": [
    "str1[2]"
   ]
  },
  {
   "cell_type": "code",
   "execution_count": null,
   "id": "8f28411b-e519-4752-a153-fcaf14942409",
   "metadata": {},
   "outputs": [],
   "source": [
    "str1[2] = f  # strings are immutable we can access it but can't change"
   ]
  },
  {
   "cell_type": "markdown",
   "id": "cf7aa2a9-e4b6-4017-9c0b-61b70e2e9b59",
   "metadata": {},
   "source": [
    "# Comparisons operations"
   ]
  },
  {
   "cell_type": "code",
   "execution_count": null,
   "id": "0ff88034-ae75-4b02-93f5-eacd1a2e65bc",
   "metadata": {},
   "outputs": [],
   "source": [
    "maximum_speed_of_bike = 150\n",
    "max_speed_of_car = 200\n",
    "print(f'bike is faster than car: {maximum_speed_of_bike > max_speed_of_car}')"
   ]
  },
  {
   "cell_type": "code",
   "execution_count": null,
   "id": "a182084a-e9c9-4453-a00f-a43a963fb73d",
   "metadata": {},
   "outputs": [],
   "source": [
    "maximum_speed_of_bike = 150\n",
    "max_speed_of_car = 200\n",
    "print(f'bike is faster than car: {maximum_speed_of_bike < max_speed_of_car}')"
   ]
  },
  {
   "cell_type": "code",
   "execution_count": null,
   "id": "6824c2dc-0aec-4a08-9553-9ce455ff0d02",
   "metadata": {},
   "outputs": [],
   "source": [
    "maximum_speed_of_bike = 150\n",
    "max_speed_of_car = 200\n",
    "print(f'bike is faster than car: {maximum_speed_of_bike >= max_speed_of_car}')"
   ]
  },
  {
   "cell_type": "code",
   "execution_count": null,
   "id": "ce39eb78-4092-4582-ad2b-0f6409c45aa0",
   "metadata": {},
   "outputs": [],
   "source": [
    "maximum_speed_of_bike = 150\n",
    "max_speed_of_car = 200\n",
    "print(f'bike is faster than car: {maximum_speed_of_bike <= max_speed_of_car}')"
   ]
  },
  {
   "cell_type": "markdown",
   "id": "a1781702-998a-4449-98e7-757e4723e020",
   "metadata": {},
   "source": [
    "# Arithematic operations\n",
    "\n",
    "|Operation |meaning|\n",
    "|:-:|:-:|\n",
    "|**+**|addition|\n",
    "|**-**|subtraction|\n",
    "|**/**|true division|\n",
    "|**//**|integer division|\n",
    "|**%**|the modulo operation|\n"
   ]
  },
  {
   "cell_type": "code",
   "execution_count": null,
   "id": "0784c9f1-80eb-47f5-a414-843118087e49",
   "metadata": {},
   "outputs": [],
   "source": [
    "# +,-,*,/,//,% modulo opertoor which gives remainder\n",
    "a=25\n",
    "b=101\n",
    "b+a"
   ]
  },
  {
   "cell_type": "code",
   "execution_count": null,
   "id": "6c98ceec-8b67-453b-ad52-ba419e9c317d",
   "metadata": {},
   "outputs": [],
   "source": [
    "b/a"
   ]
  },
  {
   "cell_type": "code",
   "execution_count": null,
   "id": "fdc66e7b-f5f9-4b49-8721-0cf6fd21ac06",
   "metadata": {},
   "outputs": [],
   "source": [
    "a/b"
   ]
  },
  {
   "cell_type": "code",
   "execution_count": null,
   "id": "307731bf-9536-4282-b56f-7a91c56bf5e8",
   "metadata": {},
   "outputs": [],
   "source": [
    "a//b"
   ]
  },
  {
   "cell_type": "code",
   "execution_count": null,
   "id": "052a36d1-c5a1-426b-a73c-f1ccb5b85802",
   "metadata": {},
   "outputs": [],
   "source": [
    "b//a  # return integer"
   ]
  },
  {
   "cell_type": "code",
   "execution_count": null,
   "id": "41d614e8-f81c-42fe-acc6-2f5f276173a4",
   "metadata": {},
   "outputs": [],
   "source": [
    "b%a  # return remainder"
   ]
  },
  {
   "cell_type": "code",
   "execution_count": null,
   "id": "37388a9a-72ea-4ac1-a124-faa75afc40a0",
   "metadata": {},
   "outputs": [],
   "source": [
    "a%b"
   ]
  },
  {
   "cell_type": "markdown",
   "id": "1a4e2d91-9376-40de-ae17-7ab8cce4b2b9",
   "metadata": {},
   "source": [
    "# Bitwise operators\n",
    "\n",
    "|operation|meaning|\n",
    "|:-:|:-:|\n",
    "|**~**|bitwise complement(prefix unary operator)|\n",
    "|**&**|bitwise and|\n",
    "|**^**|bitwise exclusive-or|\n",
    "|**\\|** |bitwise or|\n",
    "|**<<**|shift bits left,filling in with zeros|\n",
    "|**>>**|shift bits right,filling in with sign bit|"
   ]
  },
  {
   "cell_type": "code",
   "execution_count": null,
   "id": "f50b0719-f0da-47f6-975f-2c3f1d635476",
   "metadata": {},
   "outputs": [],
   "source": [
    "var=10\n",
    "bin(var)"
   ]
  },
  {
   "cell_type": "code",
   "execution_count": null,
   "id": "72c78980-d470-4da5-8bbb-ea5ad4173425",
   "metadata": {},
   "outputs": [],
   "source": [
    "~var"
   ]
  },
  {
   "cell_type": "markdown",
   "id": "9d7a3cf9-f22c-4a8f-ab70-7630153fa4c9",
   "metadata": {},
   "source": [
    "# Strings"
   ]
  },
  {
   "cell_type": "code",
   "execution_count": null,
   "id": "62890867-058e-407a-9954-831b8292c01e",
   "metadata": {},
   "outputs": [],
   "source": [
    "'sanju'\n",
    "\"welcome to the dat science maseter\"\n"
   ]
  },
  {
   "cell_type": "code",
   "execution_count": 102,
   "id": "693a047e-bc21-4f09-918c-9e6c6554bd52",
   "metadata": {},
   "outputs": [],
   "source": [
    "str1 = 'Welcom to Data Science Masters'"
   ]
  },
  {
   "cell_type": "code",
   "execution_count": 103,
   "id": "7b81819c-9eec-4191-b60d-eca48008bc16",
   "metadata": {},
   "outputs": [
    {
     "data": {
      "text/plain": [
       "str"
      ]
     },
     "execution_count": 103,
     "metadata": {},
     "output_type": "execute_result"
    }
   ],
   "source": [
    "type(str1)"
   ]
  },
  {
   "cell_type": "code",
   "execution_count": 104,
   "id": "6c72ee8f-e6de-42f0-8b9f-8dd453efd10d",
   "metadata": {},
   "outputs": [
    {
     "ename": "TypeError",
     "evalue": "'str' object does not support item assignment",
     "output_type": "error",
     "traceback": [
      "\u001b[0;31m---------------------------------------------------------------------------\u001b[0m",
      "\u001b[0;31mTypeError\u001b[0m                                 Traceback (most recent call last)",
      "Cell \u001b[0;32mIn[104], line 1\u001b[0m\n\u001b[0;32m----> 1\u001b[0m \u001b[43mstr1\u001b[49m\u001b[43m[\u001b[49m\u001b[38;5;241;43m0\u001b[39;49m\u001b[43m]\u001b[49m\u001b[38;5;241m=\u001b[39m\u001b[38;5;241m23\u001b[39m  \u001b[38;5;66;03m# can n't replace with other value--immutable\u001b[39;00m\n",
      "\u001b[0;31mTypeError\u001b[0m: 'str' object does not support item assignment"
     ]
    }
   ],
   "source": [
    "str1[0]=23  # can n't replace with other value--immutable"
   ]
  },
  {
   "cell_type": "code",
   "execution_count": 105,
   "id": "05610e33-399d-40b8-99f8-bf89a882db5b",
   "metadata": {},
   "outputs": [
    {
     "data": {
      "text/plain": [
       "'sanju kumari'"
      ]
     },
     "execution_count": 105,
     "metadata": {},
     "output_type": "execute_result"
    }
   ],
   "source": [
    "# can we alterate this string?\n",
    "# yes with for loop\n",
    "# can we access the element present in string ---yes we can \n",
    "# can we change the element with some other value or element--n0\n",
    "str1\n",
    "# can we replace this string with something else  --yes we can \n",
    "\n",
    "str1='sanju kumari'  # replacing whole str1 with some other value but can\n",
    "# not change the single element while some other value\n",
    "str1"
   ]
  },
  {
   "cell_type": "code",
   "execution_count": 106,
   "id": "62d044d8-3cb9-42e3-8132-ab8438270cd9",
   "metadata": {},
   "outputs": [
    {
     "name": "stdout",
     "output_type": "stream",
     "text": [
      "s\n",
      "a\n",
      "n\n",
      "j\n",
      "u\n",
      " \n",
      "k\n",
      "u\n",
      "m\n",
      "a\n",
      "r\n",
      "i\n"
     ]
    }
   ],
   "source": [
    "for i in str1:  # iterating the values in str1\n",
    "    print(i)"
   ]
  },
  {
   "cell_type": "code",
   "execution_count": 107,
   "id": "35c22685-be06-49cf-9612-98f1c9e7de0c",
   "metadata": {},
   "outputs": [
    {
     "data": {
      "text/plain": [
       "'sapju kumari'"
      ]
     },
     "execution_count": 107,
     "metadata": {},
     "output_type": "execute_result"
    }
   ],
   "source": [
    "str1.replace('n','p')"
   ]
  },
  {
   "cell_type": "code",
   "execution_count": 108,
   "id": "160126a9-d38d-42ea-8fe1-01b06ca112a8",
   "metadata": {},
   "outputs": [
    {
     "data": {
      "text/plain": [
       "'Sanju kumari'"
      ]
     },
     "execution_count": 108,
     "metadata": {},
     "output_type": "execute_result"
    }
   ],
   "source": [
    "str1.capitalize()"
   ]
  },
  {
   "cell_type": "code",
   "execution_count": 109,
   "id": "c732dec8-9dea-4467-b1dd-223c209fcfca",
   "metadata": {},
   "outputs": [
    {
     "data": {
      "text/plain": [
       "8"
      ]
     },
     "execution_count": 109,
     "metadata": {},
     "output_type": "execute_result"
    }
   ],
   "source": [
    "str1.index('m',3)  # return the elements index after the given string index is given"
   ]
  },
  {
   "cell_type": "code",
   "execution_count": 110,
   "id": "e2084641-bfac-4cb4-bf94-35e7381e5948",
   "metadata": {},
   "outputs": [
    {
     "data": {
      "text/plain": [
       "'sanju kumari'"
      ]
     },
     "execution_count": 110,
     "metadata": {},
     "output_type": "execute_result"
    }
   ],
   "source": [
    "str1.format(2,4)"
   ]
  },
  {
   "cell_type": "code",
   "execution_count": 97,
   "id": "040ba6a1-7dbf-4b04-9045-94566ab9f144",
   "metadata": {},
   "outputs": [
    {
     "data": {
      "text/plain": [
       "-1"
      ]
     },
     "execution_count": 97,
     "metadata": {},
     "output_type": "execute_result"
    }
   ],
   "source": [
    "str1.find('s',4)"
   ]
  },
  {
   "cell_type": "code",
   "execution_count": 98,
   "id": "c7764767-1b24-40dc-8eba-a8ea2ba52632",
   "metadata": {},
   "outputs": [
    {
     "data": {
      "text/plain": [
       "-1"
      ]
     },
     "execution_count": 98,
     "metadata": {},
     "output_type": "execute_result"
    }
   ],
   "source": [
    "str1.find('j',9)"
   ]
  },
  {
   "cell_type": "code",
   "execution_count": 99,
   "id": "1d781d58-4d20-4124-8a57-e8b7a583aa22",
   "metadata": {},
   "outputs": [],
   "source": [
    "string = 'Pw Skills Data Science'"
   ]
  },
  {
   "cell_type": "code",
   "execution_count": 100,
   "id": "62eb617b-85cf-482e-940f-f2e3771b03d3",
   "metadata": {},
   "outputs": [
    {
     "data": {
      "text/plain": [
       "'i'"
      ]
     },
     "execution_count": 100,
     "metadata": {},
     "output_type": "execute_result"
    }
   ],
   "source": [
    "string[5]"
   ]
  },
  {
   "cell_type": "code",
   "execution_count": 101,
   "id": "c805198e-ca10-4734-843b-3d7397b93bda",
   "metadata": {},
   "outputs": [
    {
     "data": {
      "text/plain": [
       "'ills Data Science'"
      ]
     },
     "execution_count": 101,
     "metadata": {},
     "output_type": "execute_result"
    }
   ],
   "source": [
    "# slicing operation\n",
    "string[5:]"
   ]
  },
  {
   "cell_type": "code",
   "execution_count": 111,
   "id": "843baa77-a8c7-425f-b042-a7ff15bc8237",
   "metadata": {},
   "outputs": [
    {
     "data": {
      "text/plain": [
       "'ills D'"
      ]
     },
     "execution_count": 111,
     "metadata": {},
     "output_type": "execute_result"
    }
   ],
   "source": [
    "string[5:11]"
   ]
  },
  {
   "cell_type": "code",
   "execution_count": 112,
   "id": "7d7b608d-b343-4ae7-8280-13cd00cd6f1f",
   "metadata": {},
   "outputs": [
    {
     "data": {
      "text/plain": [
       "'e'"
      ]
     },
     "execution_count": 112,
     "metadata": {},
     "output_type": "execute_result"
    }
   ],
   "source": [
    "string[-1]"
   ]
  },
  {
   "cell_type": "code",
   "execution_count": 113,
   "id": "16c3441f-1a9c-4943-8eaf-9407b5f8e2cd",
   "metadata": {},
   "outputs": [
    {
     "data": {
      "text/plain": [
       "'e'"
      ]
     },
     "execution_count": 113,
     "metadata": {},
     "output_type": "execute_result"
    }
   ],
   "source": [
    "string[-1:]"
   ]
  },
  {
   "cell_type": "code",
   "execution_count": 114,
   "id": "695d63b7-3f3c-4ac0-bbce-e9105f6edf27",
   "metadata": {},
   "outputs": [
    {
     "data": {
      "text/plain": [
       "'n'"
      ]
     },
     "execution_count": 114,
     "metadata": {},
     "output_type": "execute_result"
    }
   ],
   "source": [
    "string[-3]"
   ]
  },
  {
   "cell_type": "code",
   "execution_count": 115,
   "id": "d557fb5a-2340-4083-87ff-2507ced884b7",
   "metadata": {},
   "outputs": [
    {
     "data": {
      "text/plain": [
       "'nce'"
      ]
     },
     "execution_count": 115,
     "metadata": {},
     "output_type": "execute_result"
    }
   ],
   "source": [
    "string[-3:]"
   ]
  },
  {
   "cell_type": "code",
   "execution_count": 116,
   "id": "4c555976-cd46-4235-a365-8cd6e1a705aa",
   "metadata": {},
   "outputs": [
    {
     "data": {
      "text/plain": [
       "'Science'"
      ]
     },
     "execution_count": 116,
     "metadata": {},
     "output_type": "execute_result"
    }
   ],
   "source": [
    "string[-7:]"
   ]
  },
  {
   "cell_type": "code",
   "execution_count": 117,
   "id": "9cbe633b-75e5-43f3-a754-f3c7f290502d",
   "metadata": {},
   "outputs": [
    {
     "data": {
      "text/plain": [
       "'Scie'"
      ]
     },
     "execution_count": 117,
     "metadata": {},
     "output_type": "execute_result"
    }
   ],
   "source": [
    "string[-7:-3]"
   ]
  },
  {
   "cell_type": "code",
   "execution_count": 118,
   "id": "aeaebf89-868f-4542-83aa-7a0e03d99cfc",
   "metadata": {},
   "outputs": [
    {
     "data": {
      "text/plain": [
       "''"
      ]
     },
     "execution_count": 118,
     "metadata": {},
     "output_type": "execute_result"
    }
   ],
   "source": [
    "string[-7:5]"
   ]
  },
  {
   "cell_type": "code",
   "execution_count": 119,
   "id": "3aedcdc3-c522-468a-93dc-f7736569662a",
   "metadata": {},
   "outputs": [
    {
     "data": {
      "text/plain": [
       "''"
      ]
     },
     "execution_count": 119,
     "metadata": {},
     "output_type": "execute_result"
    }
   ],
   "source": [
    "string[7:5]"
   ]
  },
  {
   "cell_type": "code",
   "execution_count": 120,
   "id": "02b185ee-7871-4603-a45e-dbb4a5b1f5da",
   "metadata": {},
   "outputs": [
    {
     "data": {
      "text/plain": [
       "''"
      ]
     },
     "execution_count": 120,
     "metadata": {},
     "output_type": "execute_result"
    }
   ],
   "source": [
    "string[-10:10]"
   ]
  },
  {
   "cell_type": "code",
   "execution_count": 121,
   "id": "dc322a1d-3744-4d7c-8807-ec5ca719a802",
   "metadata": {},
   "outputs": [
    {
     "data": {
      "text/plain": [
       "'Pw Skills Data Scienc'"
      ]
     },
     "execution_count": 121,
     "metadata": {},
     "output_type": "execute_result"
    }
   ],
   "source": [
    "string[:-1]"
   ]
  },
  {
   "cell_type": "code",
   "execution_count": null,
   "id": "804c0b35-6f07-43d1-bc36-0bd28a04b691",
   "metadata": {},
   "outputs": [],
   "source": [
    "string[:]"
   ]
  },
  {
   "cell_type": "code",
   "execution_count": null,
   "id": "1f3fd672-eeb2-4ab0-9198-50da93af6cd3",
   "metadata": {},
   "outputs": [],
   "source": [
    "name='Karthik'\n",
    "name[-5:4]"
   ]
  },
  {
   "cell_type": "code",
   "execution_count": null,
   "id": "0c00201c-d6e3-4458-946a-2a3dd1396305",
   "metadata": {},
   "outputs": [],
   "source": [
    "name[5:4]"
   ]
  },
  {
   "cell_type": "code",
   "execution_count": null,
   "id": "d291934c-7ddc-4557-9ed7-01cc1df8d118",
   "metadata": {},
   "outputs": [],
   "source": [
    "name[4:4]"
   ]
  },
  {
   "cell_type": "code",
   "execution_count": null,
   "id": "f01ce27d-9819-40a0-a94c-9099931bc07b",
   "metadata": {},
   "outputs": [],
   "source": [
    "name[3:4]"
   ]
  },
  {
   "cell_type": "code",
   "execution_count": null,
   "id": "e1e6c6cc-03e6-4905-8ee6-e5a8f96721a2",
   "metadata": {},
   "outputs": [],
   "source": [
    "string"
   ]
  },
  {
   "cell_type": "code",
   "execution_count": null,
   "id": "986e30e1-c3b4-4384-a0a3-4893f92703d8",
   "metadata": {},
   "outputs": [],
   "source": [
    "string[:]"
   ]
  },
  {
   "cell_type": "code",
   "execution_count": null,
   "id": "e9b71ef1-e887-4d7b-b5fb-cf332fb0a413",
   "metadata": {},
   "outputs": [],
   "source": [
    "string[::]"
   ]
  },
  {
   "cell_type": "code",
   "execution_count": null,
   "id": "897cf3f7-d2a8-4053-b12a-78bd31388c93",
   "metadata": {},
   "outputs": [],
   "source": [
    "string[::-1]"
   ]
  },
  {
   "cell_type": "code",
   "execution_count": null,
   "id": "6b89bc61-d2b9-42e9-b1b3-19e1ed25a76c",
   "metadata": {},
   "outputs": [],
   "source": [
    "string[::-2]"
   ]
  },
  {
   "cell_type": "code",
   "execution_count": null,
   "id": "e06932b3-4a47-490c-92ab-1e5bd77c532d",
   "metadata": {},
   "outputs": [],
   "source": [
    "string[:-1]"
   ]
  },
  {
   "cell_type": "code",
   "execution_count": null,
   "id": "69e835df-6e49-4c30-9d2b-b29713f3d397",
   "metadata": {},
   "outputs": [],
   "source": [
    "string[::-1]"
   ]
  },
  {
   "cell_type": "code",
   "execution_count": null,
   "id": "9df625f8-3fa1-41d3-93e3-e18f202b48eb",
   "metadata": {},
   "outputs": [],
   "source": [
    "string[6::1]"
   ]
  },
  {
   "cell_type": "code",
   "execution_count": null,
   "id": "9962cbde-882e-41ca-b92d-b220079e6df5",
   "metadata": {},
   "outputs": [],
   "source": [
    "string[::-3] # from backward picking every thids element"
   ]
  },
  {
   "cell_type": "code",
   "execution_count": null,
   "id": "7348fc71-3b6e-46e1-9fd6-00fd71c1ccc5",
   "metadata": {},
   "outputs": [],
   "source": [
    "name='sanju'\n",
    "name[::-1]"
   ]
  },
  {
   "cell_type": "code",
   "execution_count": null,
   "id": "3fb8c691-2950-4f23-ab6b-0ddc0d87ed8a",
   "metadata": {},
   "outputs": [],
   "source": [
    "name[::3] # extracting every 3 rd element "
   ]
  },
  {
   "cell_type": "code",
   "execution_count": null,
   "id": "e778c01f-8ad6-4163-a210-1d83a8453757",
   "metadata": {},
   "outputs": [],
   "source": [
    "name[::-1]"
   ]
  },
  {
   "cell_type": "code",
   "execution_count": null,
   "id": "ebdf6884-ae25-4d2b-9b1e-b6bfe8677128",
   "metadata": {},
   "outputs": [],
   "source": [
    "name ='deepak'\n",
    "name[::-1]  # reverse of your name"
   ]
  },
  {
   "cell_type": "code",
   "execution_count": null,
   "id": "a10f2c19-89ec-4fee-9960-d750a03c48b2",
   "metadata": {},
   "outputs": [],
   "source": [
    "name[::-2]  # every second element from backward direction"
   ]
  },
  {
   "cell_type": "code",
   "execution_count": null,
   "id": "e6bcf386-523c-45ec-83f7-6525dcd6f69f",
   "metadata": {},
   "outputs": [],
   "source": [
    "name[::2] # every second element from forward direction"
   ]
  },
  {
   "cell_type": "code",
   "execution_count": 1,
   "id": "b97a5767-3601-4137-8a87-0cc951cc80d5",
   "metadata": {},
   "outputs": [
    {
     "data": {
      "text/plain": [
       "'hik'"
      ]
     },
     "execution_count": 1,
     "metadata": {},
     "output_type": "execute_result"
    }
   ],
   "source": [
    "name='krish'\n",
    "name[::-2]"
   ]
  },
  {
   "cell_type": "code",
   "execution_count": null,
   "id": "0173c639-278d-4e50-ac10-282e93f0b320",
   "metadata": {},
   "outputs": [],
   "source": [
    "name[4::-1]"
   ]
  },
  {
   "cell_type": "code",
   "execution_count": null,
   "id": "478d350c-779b-48d4-ac34-8dd77e155217",
   "metadata": {},
   "outputs": [],
   "source": [
    "name[3::-1]"
   ]
  },
  {
   "cell_type": "code",
   "execution_count": null,
   "id": "0ccd7e59-1bbe-4b2e-bb92-12892166d700",
   "metadata": {},
   "outputs": [],
   "source": [
    "name[2::-1]"
   ]
  },
  {
   "cell_type": "code",
   "execution_count": null,
   "id": "c915e5d0-90da-4b54-a309-b794665e5d1c",
   "metadata": {},
   "outputs": [],
   "source": [
    "name[::-2]"
   ]
  },
  {
   "cell_type": "code",
   "execution_count": null,
   "id": "fe48f01b-b462-4a61-9242-f49ee5c24a8e",
   "metadata": {},
   "outputs": [],
   "source": [
    "name[3:1:-1]"
   ]
  },
  {
   "cell_type": "code",
   "execution_count": null,
   "id": "870b24d3-a57d-40c3-bcda-c58580f18341",
   "metadata": {},
   "outputs": [],
   "source": [
    "course_name = 'Data Science Masters'"
   ]
  },
  {
   "cell_type": "code",
   "execution_count": null,
   "id": "17341b27-657c-4695-9dca-24a436d8dccf",
   "metadata": {},
   "outputs": [],
   "source": [
    "course_name[5:12]"
   ]
  },
  {
   "cell_type": "code",
   "execution_count": null,
   "id": "9e8b1fe6-b1dd-4a36-b8a8-d5bf139f55e3",
   "metadata": {},
   "outputs": [],
   "source": [
    "course_name[12:5:-2]"
   ]
  },
  {
   "cell_type": "code",
   "execution_count": null,
   "id": "23a79676-2235-4c5d-8155-58719c955b0b",
   "metadata": {},
   "outputs": [],
   "source": [
    "course_name[12:3:-1]"
   ]
  },
  {
   "cell_type": "code",
   "execution_count": null,
   "id": "88a8d653-7f1d-4560-8f44-2acc5338dcaa",
   "metadata": {},
   "outputs": [],
   "source": [
    "course_name[11:4:-1]"
   ]
  },
  {
   "cell_type": "code",
   "execution_count": null,
   "id": "b7be8e62-4aac-4a9a-8a79-8799bc8527e3",
   "metadata": {},
   "outputs": [],
   "source": [
    "course_name[5:12]"
   ]
  },
  {
   "cell_type": "code",
   "execution_count": null,
   "id": "195a4c7d-a984-4145-9379-5d2aab977286",
   "metadata": {},
   "outputs": [],
   "source": [
    "course_name[11:4:-1]"
   ]
  },
  {
   "cell_type": "code",
   "execution_count": null,
   "id": "cb2a7627-d2ac-4913-8508-50ef1fb57d00",
   "metadata": {},
   "outputs": [],
   "source": [
    "course_name[0:4]"
   ]
  },
  {
   "cell_type": "code",
   "execution_count": null,
   "id": "e39afc91-fccc-4ff6-a65f-f9a12bee04fd",
   "metadata": {},
   "outputs": [],
   "source": [
    "course_name[3::-1]"
   ]
  },
  {
   "cell_type": "code",
   "execution_count": null,
   "id": "c9b5e45d-145b-4f9f-bb91-9efc862e0846",
   "metadata": {},
   "outputs": [],
   "source": [
    "course_name[13:20]"
   ]
  },
  {
   "cell_type": "code",
   "execution_count": null,
   "id": "72fe11a5-6346-48b8-b437-0c41c5146757",
   "metadata": {},
   "outputs": [],
   "source": [
    "course_name[19:12:-1]"
   ]
  },
  {
   "cell_type": "code",
   "execution_count": null,
   "id": "ac4916d4-9383-48fb-9f01-721a9116b33b",
   "metadata": {},
   "outputs": [],
   "source": [
    "s='man loves india for tea'"
   ]
  },
  {
   "cell_type": "code",
   "execution_count": null,
   "id": "eeb9721b-4509-45e8-9b3b-194d1689eeb7",
   "metadata": {},
   "outputs": [],
   "source": [
    "print(s[0:3])\n",
    "print(s[2::-1])\n",
    "\n",
    "print(s[4:9])\n",
    "print(s[8:3:-1]) # for reversing just reverse the no and decrement by1 last no is -1\n",
    "\n",
    "print(s[10:15])\n",
    "print(s[14:9:-1])\n",
    "\n",
    "print(s[16:19])\n",
    "print(s[18:15:-1])\n",
    "      \n",
    "print(s[20:23])\n",
    "print(s[22:19:-1])"
   ]
  },
  {
   "cell_type": "code",
   "execution_count": 1,
   "id": "4a4d0ebc-7c43-4f0e-8f6b-554563e45f49",
   "metadata": {},
   "outputs": [
    {
     "ename": "NameError",
     "evalue": "name 'course_name' is not defined",
     "output_type": "error",
     "traceback": [
      "\u001b[0;31m---------------------------------------------------------------------------\u001b[0m",
      "\u001b[0;31mNameError\u001b[0m                                 Traceback (most recent call last)",
      "Cell \u001b[0;32mIn[1], line 2\u001b[0m\n\u001b[1;32m      1\u001b[0m \u001b[38;5;66;03m# concatenation\u001b[39;00m\n\u001b[0;32m----> 2\u001b[0m \u001b[43mcourse_name\u001b[49m \u001b[38;5;241m+\u001b[39m \u001b[38;5;124m'\u001b[39m\u001b[38;5;124mCourse\u001b[39m\u001b[38;5;124m'\u001b[39m\n",
      "\u001b[0;31mNameError\u001b[0m: name 'course_name' is not defined"
     ]
    }
   ],
   "source": [
    "# concatenation\n",
    "course_name + 'Course'"
   ]
  },
  {
   "cell_type": "code",
   "execution_count": null,
   "id": "0e4f79a9-9321-4d85-b842-36a5b47260aa",
   "metadata": {},
   "outputs": [],
   "source": [
    "course_name + '233'"
   ]
  },
  {
   "cell_type": "code",
   "execution_count": null,
   "id": "24667374-2883-4da2-b0a2-bca1ebfd3ffc",
   "metadata": {},
   "outputs": [],
   "source": [
    "print('hello'+'worlds')"
   ]
  },
  {
   "cell_type": "code",
   "execution_count": null,
   "id": "4aa48f73-6182-438a-997f-092424420b6d",
   "metadata": {},
   "outputs": [],
   "source": [
    "course_name * 5"
   ]
  },
  {
   "cell_type": "code",
   "execution_count": null,
   "id": "d14313b5-1816-4f92-b60b-7e06d731219b",
   "metadata": {},
   "outputs": [],
   "source": [
    "len(course_name)"
   ]
  },
  {
   "cell_type": "code",
   "execution_count": null,
   "id": "1f420362-bc4e-4e9a-a909-312da32aa358",
   "metadata": {},
   "outputs": [],
   "source": [
    "\n",
    "dir(str1)"
   ]
  },
  {
   "cell_type": "code",
   "execution_count": null,
   "id": "7e25bc2c-a5c5-4a18-a81e-19c27fe7bd19",
   "metadata": {},
   "outputs": [],
   "source": [
    "course_name.find('n')"
   ]
  },
  {
   "cell_type": "code",
   "execution_count": 71,
   "id": "e769495e-0d61-4221-8181-f38a7085c17e",
   "metadata": {},
   "outputs": [
    {
     "data": {
      "text/plain": [
       "'Data Science Masters'"
      ]
     },
     "execution_count": 71,
     "metadata": {},
     "output_type": "execute_result"
    }
   ],
   "source": [
    "course_name"
   ]
  },
  {
   "cell_type": "code",
   "execution_count": 73,
   "id": "359316f0-6960-40fc-8bea-ed1ffca87f77",
   "metadata": {},
   "outputs": [
    {
     "data": {
      "text/plain": [
       "14"
      ]
     },
     "execution_count": 73,
     "metadata": {},
     "output_type": "execute_result"
    }
   ],
   "source": [
    "course_name.find('a',5)"
   ]
  },
  {
   "cell_type": "code",
   "execution_count": 75,
   "id": "10408ca7-c658-423c-b569-316137c7d795",
   "metadata": {},
   "outputs": [
    {
     "data": {
      "text/plain": [
       "3"
      ]
     },
     "execution_count": 75,
     "metadata": {},
     "output_type": "execute_result"
    }
   ],
   "source": [
    "course_name.find('a',2,10)  # finding index of a from starting 2 to end 10\n"
   ]
  },
  {
   "cell_type": "code",
   "execution_count": 77,
   "id": "1b30be76-36d7-445a-9977-b7c69a86e73c",
   "metadata": {},
   "outputs": [
    {
     "data": {
      "text/plain": [
       "-1"
      ]
     },
     "execution_count": 77,
     "metadata": {},
     "output_type": "execute_result"
    }
   ],
   "source": [
    "course_name.find('z')  # z is not present so returnining -1"
   ]
  },
  {
   "cell_type": "code",
   "execution_count": 78,
   "id": "87a36a1d-4125-439a-a1f0-65ab30876ca3",
   "metadata": {},
   "outputs": [
    {
     "data": {
      "text/plain": [
       "3"
      ]
     },
     "execution_count": 78,
     "metadata": {},
     "output_type": "execute_result"
    }
   ],
   "source": [
    "# count\n",
    "course_name.count('a')"
   ]
  },
  {
   "cell_type": "code",
   "execution_count": 79,
   "id": "ba6cde4d-b097-4be7-b202-31cf566e3152",
   "metadata": {},
   "outputs": [
    {
     "data": {
      "text/plain": [
       "2"
      ]
     },
     "execution_count": 79,
     "metadata": {},
     "output_type": "execute_result"
    }
   ],
   "source": [
    "course_name.count('s')"
   ]
  },
  {
   "cell_type": "code",
   "execution_count": 81,
   "id": "ea858a1c-6d08-40e7-8d32-9cd52e2207fb",
   "metadata": {},
   "outputs": [
    {
     "data": {
      "text/plain": [
       "2"
      ]
     },
     "execution_count": 81,
     "metadata": {},
     "output_type": "execute_result"
    }
   ],
   "source": [
    "course_name.count(' ')"
   ]
  },
  {
   "cell_type": "code",
   "execution_count": 83,
   "id": "7bcacd90-9f74-4c4c-9c88-9200b63ddfe4",
   "metadata": {},
   "outputs": [
    {
     "data": {
      "text/plain": [
       "['Data', 'Science', 'Masters']"
      ]
     },
     "execution_count": 83,
     "metadata": {},
     "output_type": "execute_result"
    }
   ],
   "source": [
    "# string split function\n",
    "course_name.split(' ')"
   ]
  },
  {
   "cell_type": "code",
   "execution_count": 86,
   "id": "3ddc096a-fb16-444f-8737-c71b1c068821",
   "metadata": {},
   "outputs": [
    {
     "data": {
      "text/plain": [
       "['Data', 'Science', 'Masters']"
      ]
     },
     "execution_count": 86,
     "metadata": {},
     "output_type": "execute_result"
    }
   ],
   "source": [
    "course_name.split() # by default it is taking space as a separator"
   ]
  },
  {
   "cell_type": "code",
   "execution_count": 87,
   "id": "7dc13981-f51c-4395-9c85-2f3abe613c75",
   "metadata": {},
   "outputs": [
    {
     "data": {
      "text/plain": [
       "['Data Science Ma', 'ter', '']"
      ]
     },
     "execution_count": 87,
     "metadata": {},
     "output_type": "execute_result"
    }
   ],
   "source": [
    "course_name.split('s')"
   ]
  },
  {
   "cell_type": "code",
   "execution_count": 88,
   "id": "54f22b95-7b39-4c24-a64c-ebaf37378142",
   "metadata": {},
   "outputs": [
    {
     "data": {
      "text/plain": [
       "['D', 't', ' Science M', 'sters']"
      ]
     },
     "execution_count": 88,
     "metadata": {},
     "output_type": "execute_result"
    }
   ],
   "source": [
    "course_name.split('a') #remove the separateor and separate it\n",
    "# it separate all the element on the basis of a"
   ]
  },
  {
   "cell_type": "code",
   "execution_count": 90,
   "id": "7ff8ffac-4890-4b96-8898-98777d60fce0",
   "metadata": {},
   "outputs": [
    {
     "data": {
      "text/plain": [
       "('Data Science Ma', 's', 'ters')"
      ]
     },
     "execution_count": 90,
     "metadata": {},
     "output_type": "execute_result"
    }
   ],
   "source": [
    "course_name.partition('s') # separate the word on the basis of separator\n",
    "# it separate the first s only after that it is not separating the element"
   ]
  },
  {
   "cell_type": "code",
   "execution_count": 92,
   "id": "bc35ee5b-8e2e-4f11-9a36-cbdfc40ee521",
   "metadata": {},
   "outputs": [
    {
     "data": {
      "text/plain": [
       "'DATA SCIENCE MASTERS'"
      ]
     },
     "execution_count": 92,
     "metadata": {},
     "output_type": "execute_result"
    }
   ],
   "source": [
    "# string upper and lower case\n",
    "course_name.upper()"
   ]
  },
  {
   "cell_type": "code",
   "execution_count": 93,
   "id": "1175ee1f-29a0-4453-b8e1-56a493403ac3",
   "metadata": {},
   "outputs": [
    {
     "data": {
      "text/plain": [
       "'data science masters'"
      ]
     },
     "execution_count": 93,
     "metadata": {},
     "output_type": "execute_result"
    }
   ],
   "source": [
    "course_name.lower()"
   ]
  },
  {
   "cell_type": "code",
   "execution_count": 95,
   "id": "3f53ad9f-e088-4ae1-b8f1-10111a39a003",
   "metadata": {},
   "outputs": [
    {
     "data": {
      "text/plain": [
       "'Data Science Masters'"
      ]
     },
     "execution_count": 95,
     "metadata": {},
     "output_type": "execute_result"
    }
   ],
   "source": [
    "course_name.title()"
   ]
  },
  {
   "cell_type": "code",
   "execution_count": 96,
   "id": "2cc8c095-b58f-41a8-aaf2-6676c277d32b",
   "metadata": {},
   "outputs": [
    {
     "data": {
      "text/plain": [
       "'dATA sCIENCE mASTERS'"
      ]
     },
     "execution_count": 96,
     "metadata": {},
     "output_type": "execute_result"
    }
   ],
   "source": [
    "course_name.swapcase()  # converting upper into lower and lower in to upper"
   ]
  },
  {
   "cell_type": "code",
   "execution_count": 97,
   "id": "e1b63868-dfca-404c-bf02-4bc11cfb7ef2",
   "metadata": {},
   "outputs": [
    {
     "data": {
      "text/plain": [
       "'dATA sCIENCE mASTERS'"
      ]
     },
     "execution_count": 97,
     "metadata": {},
     "output_type": "execute_result"
    }
   ],
   "source": [
    "course_name.swapcase()"
   ]
  },
  {
   "cell_type": "code",
   "execution_count": 102,
   "id": "7f7d62b8-1bd8-42f2-a749-3b5a61f36277",
   "metadata": {},
   "outputs": [
    {
     "data": {
      "text/plain": [
       "'Krish Naik'"
      ]
     },
     "execution_count": 102,
     "metadata": {},
     "output_type": "execute_result"
    }
   ],
   "source": [
    "name= 'Krish Naik'\n",
    "name.title()"
   ]
  },
  {
   "cell_type": "code",
   "execution_count": 103,
   "id": "b783b5f0-700a-4d5f-ad16-17d6c44a3595",
   "metadata": {},
   "outputs": [
    {
     "data": {
      "text/plain": [
       "'KRISH NAIK'"
      ]
     },
     "execution_count": 103,
     "metadata": {},
     "output_type": "execute_result"
    }
   ],
   "source": [
    "name.upper()"
   ]
  },
  {
   "cell_type": "code",
   "execution_count": 104,
   "id": "bd339ab7-a2a2-4d20-88a1-e5275def3dde",
   "metadata": {},
   "outputs": [
    {
     "data": {
      "text/plain": [
       "'krish naik'"
      ]
     },
     "execution_count": 104,
     "metadata": {},
     "output_type": "execute_result"
    }
   ],
   "source": [
    "name.lower()"
   ]
  },
  {
   "cell_type": "code",
   "execution_count": 106,
   "id": "e863afd9-cc5c-4d85-84d2-8b7ddc917c66",
   "metadata": {},
   "outputs": [
    {
     "data": {
      "text/plain": [
       "'kRISH nAIK'"
      ]
     },
     "execution_count": 106,
     "metadata": {},
     "output_type": "execute_result"
    }
   ],
   "source": [
    "name.swapcase()"
   ]
  },
  {
   "cell_type": "code",
   "execution_count": null,
   "id": "8878d73d-a951-4934-9e3b-68deb4e1daf4",
   "metadata": {},
   "outputs": [],
   "source": [
    "# statistics removing outliers from data"
   ]
  },
  {
   "cell_type": "code",
   "execution_count": 108,
   "id": "86fa80cc-c551-4df1-ae0a-8a98f5a30210",
   "metadata": {},
   "outputs": [
    {
     "data": {
      "text/html": [
       "<div>\n",
       "<style scoped>\n",
       "    .dataframe tbody tr th:only-of-type {\n",
       "        vertical-align: middle;\n",
       "    }\n",
       "\n",
       "    .dataframe tbody tr th {\n",
       "        vertical-align: top;\n",
       "    }\n",
       "\n",
       "    .dataframe thead th {\n",
       "        text-align: right;\n",
       "    }\n",
       "</style>\n",
       "<table border=\"1\" class=\"dataframe\">\n",
       "  <thead>\n",
       "    <tr style=\"text-align: right;\">\n",
       "      <th></th>\n",
       "      <th>values</th>\n",
       "    </tr>\n",
       "  </thead>\n",
       "  <tbody>\n",
       "    <tr>\n",
       "      <th>0</th>\n",
       "      <td>1</td>\n",
       "    </tr>\n",
       "    <tr>\n",
       "      <th>1</th>\n",
       "      <td>2</td>\n",
       "    </tr>\n",
       "    <tr>\n",
       "      <th>2</th>\n",
       "      <td>3</td>\n",
       "    </tr>\n",
       "    <tr>\n",
       "      <th>3</th>\n",
       "      <td>4</td>\n",
       "    </tr>\n",
       "    <tr>\n",
       "      <th>4</th>\n",
       "      <td>5</td>\n",
       "    </tr>\n",
       "    <tr>\n",
       "      <th>5</th>\n",
       "      <td>6</td>\n",
       "    </tr>\n",
       "    <tr>\n",
       "      <th>6</th>\n",
       "      <td>7</td>\n",
       "    </tr>\n",
       "    <tr>\n",
       "      <th>7</th>\n",
       "      <td>8</td>\n",
       "    </tr>\n",
       "    <tr>\n",
       "      <th>8</th>\n",
       "      <td>9</td>\n",
       "    </tr>\n",
       "    <tr>\n",
       "      <th>9</th>\n",
       "      <td>10</td>\n",
       "    </tr>\n",
       "  </tbody>\n",
       "</table>\n",
       "</div>"
      ],
      "text/plain": [
       "   values\n",
       "0       1\n",
       "1       2\n",
       "2       3\n",
       "3       4\n",
       "4       5\n",
       "5       6\n",
       "6       7\n",
       "7       8\n",
       "8       9\n",
       "9      10"
      ]
     },
     "execution_count": 108,
     "metadata": {},
     "output_type": "execute_result"
    }
   ],
   "source": [
    "import pandas as pd\n",
    "df = pd.DataFrame({'values':[1,2,3,4,5,6,7,8,9,10]})\n",
    "df"
   ]
  },
  {
   "cell_type": "code",
   "execution_count": 114,
   "id": "2dbaf700-fce8-4118-be56-a662ca709cf1",
   "metadata": {},
   "outputs": [
    {
     "name": "stdout",
     "output_type": "stream",
     "text": [
      "7.75 3.25\n"
     ]
    },
    {
     "data": {
      "text/html": [
       "<div>\n",
       "<style scoped>\n",
       "    .dataframe tbody tr th:only-of-type {\n",
       "        vertical-align: middle;\n",
       "    }\n",
       "\n",
       "    .dataframe tbody tr th {\n",
       "        vertical-align: top;\n",
       "    }\n",
       "\n",
       "    .dataframe thead th {\n",
       "        text-align: right;\n",
       "    }\n",
       "</style>\n",
       "<table border=\"1\" class=\"dataframe\">\n",
       "  <thead>\n",
       "    <tr style=\"text-align: right;\">\n",
       "      <th></th>\n",
       "      <th>values</th>\n",
       "    </tr>\n",
       "  </thead>\n",
       "  <tbody>\n",
       "  </tbody>\n",
       "</table>\n",
       "</div>"
      ],
      "text/plain": [
       "Empty DataFrame\n",
       "Columns: [values]\n",
       "Index: []"
      ]
     },
     "execution_count": 114,
     "metadata": {},
     "output_type": "execute_result"
    }
   ],
   "source": [
    "upper_limit = df['values'].quantile(q=0.25)\n",
    "lower_limit = df['values'].quantile(q=0.75)\n",
    "# by setting the range between the 25th an d 75th  percentile,we're \n",
    "# selecting the middle 50% of our values\n",
    "print(lower_limit,upper_limit)\n",
    "# use boolean indexing to remove values outside percentile ranges\n",
    "\n",
    "no_outlier = df[(df['values']>= lower_limit)\\\n",
    "               & (df['values']<= upper_limit)]\n",
    "no_outlier\n",
    "# no outliers in a data frame that only includes rows where 'values \n",
    "# are within the middle 50%\n",
    "# the middle 50% is called the interquartile range. And it is an easy way to remove outliers\n",
    "from data "
   ]
  },
  {
   "cell_type": "code",
   "execution_count": 124,
   "id": "762bc152-a5f6-41e4-baeb-cdd1f3bebf5e",
   "metadata": {},
   "outputs": [
    {
     "data": {
      "text/plain": [
       "<seaborn.axisgrid.FacetGrid at 0x7ff65f732b00>"
      ]
     },
     "execution_count": 124,
     "metadata": {},
     "output_type": "execute_result"
    },
    {
     "data": {
      "image/png": "[encoded data removed]",
      "text/plain": [
       "<Figure size 595.125x500 with 1 Axes>"
      ]
     },
     "metadata": {},
     "output_type": "display_data"
    }
   ],
   "source": [
    "sns.displot(df)"
   ]
  },
  {
   "cell_type": "code",
   "execution_count": 125,
   "id": "d790ac34-337e-421f-acb5-ed997d56d8f3",
   "metadata": {},
   "outputs": [
    {
     "data": {
      "text/plain": [
       "<AxesSubplot: >"
      ]
     },
     "execution_count": 125,
     "metadata": {},
     "output_type": "execute_result"
    },
    {
     "data": {
      "image/png": "[encoded data removed]",
      "text/plain": [
       "<Figure size 640x480 with 1 Axes>"
      ]
     },
     "metadata": {},
     "output_type": "display_data"
    }
   ],
   "source": [
    "sns.boxplot(df)"
   ]
  },
  {
   "cell_type": "code",
   "execution_count": 119,
   "id": "ac9b7484-3020-464a-8f5c-bf9547b67909",
   "metadata": {},
   "outputs": [
    {
     "data": {
      "text/html": [
       "<div>\n",
       "<style scoped>\n",
       "    .dataframe tbody tr th:only-of-type {\n",
       "        vertical-align: middle;\n",
       "    }\n",
       "\n",
       "    .dataframe tbody tr th {\n",
       "        vertical-align: top;\n",
       "    }\n",
       "\n",
       "    .dataframe thead th {\n",
       "        text-align: right;\n",
       "    }\n",
       "</style>\n",
       "<table border=\"1\" class=\"dataframe\">\n",
       "  <thead>\n",
       "    <tr style=\"text-align: right;\">\n",
       "      <th></th>\n",
       "      <th>values</th>\n",
       "    </tr>\n",
       "  </thead>\n",
       "  <tbody>\n",
       "    <tr>\n",
       "      <th>0</th>\n",
       "      <td>1</td>\n",
       "    </tr>\n",
       "    <tr>\n",
       "      <th>1</th>\n",
       "      <td>2</td>\n",
       "    </tr>\n",
       "    <tr>\n",
       "      <th>2</th>\n",
       "      <td>3</td>\n",
       "    </tr>\n",
       "    <tr>\n",
       "      <th>3</th>\n",
       "      <td>400</td>\n",
       "    </tr>\n",
       "    <tr>\n",
       "      <th>4</th>\n",
       "      <td>5</td>\n",
       "    </tr>\n",
       "    <tr>\n",
       "      <th>5</th>\n",
       "      <td>6</td>\n",
       "    </tr>\n",
       "    <tr>\n",
       "      <th>6</th>\n",
       "      <td>720</td>\n",
       "    </tr>\n",
       "    <tr>\n",
       "      <th>7</th>\n",
       "      <td>8</td>\n",
       "    </tr>\n",
       "    <tr>\n",
       "      <th>8</th>\n",
       "      <td>9</td>\n",
       "    </tr>\n",
       "    <tr>\n",
       "      <th>9</th>\n",
       "      <td>10</td>\n",
       "    </tr>\n",
       "  </tbody>\n",
       "</table>\n",
       "</div>"
      ],
      "text/plain": [
       "   values\n",
       "0       1\n",
       "1       2\n",
       "2       3\n",
       "3     400\n",
       "4       5\n",
       "5       6\n",
       "6     720\n",
       "7       8\n",
       "8       9\n",
       "9      10"
      ]
     },
     "execution_count": 119,
     "metadata": {},
     "output_type": "execute_result"
    }
   ],
   "source": [
    "df1 = pd.DataFrame({'values':[1,2,3,400,5,6,720,8,9,10]})\n",
    "df1"
   ]
  },
  {
   "cell_type": "code",
   "execution_count": 120,
   "id": "19704ceb-68c2-49a1-bf08-bbfa01836541",
   "metadata": {},
   "outputs": [
    {
     "name": "stdout",
     "output_type": "stream",
     "text": [
      "9.75 3.5\n"
     ]
    },
    {
     "data": {
      "text/html": [
       "<div>\n",
       "<style scoped>\n",
       "    .dataframe tbody tr th:only-of-type {\n",
       "        vertical-align: middle;\n",
       "    }\n",
       "\n",
       "    .dataframe tbody tr th {\n",
       "        vertical-align: top;\n",
       "    }\n",
       "\n",
       "    .dataframe thead th {\n",
       "        text-align: right;\n",
       "    }\n",
       "</style>\n",
       "<table border=\"1\" class=\"dataframe\">\n",
       "  <thead>\n",
       "    <tr style=\"text-align: right;\">\n",
       "      <th></th>\n",
       "      <th>values</th>\n",
       "    </tr>\n",
       "  </thead>\n",
       "  <tbody>\n",
       "  </tbody>\n",
       "</table>\n",
       "</div>"
      ],
      "text/plain": [
       "Empty DataFrame\n",
       "Columns: [values]\n",
       "Index: []"
      ]
     },
     "execution_count": 120,
     "metadata": {},
     "output_type": "execute_result"
    }
   ],
   "source": [
    "upper_limit1 = df1['values'].quantile(q=0.25)\n",
    "lower_limit1 = df1['values'].quantile(q=0.75)\n",
    "# by setting the range between the 25th an d 75th  percentile,we're \n",
    "# selecting the middle 50% of our values\n",
    "print(lower_limit1,upper_limit1)\n",
    "# use boolean indexing to remove values outside percentile ranges\n",
    "\n",
    "no_outlier1 = df1[(df1['values']>= lower_limit)\\\n",
    "               & (df1['values']<= upper_limit)]\n",
    "no_outlier1\n",
    "# no outliers in a data frame that only includes rows where 'values \n",
    "# are within the middle 50%\n",
    "# the middle 50% is called the interquartile range. And it is an easy way to remove outliers\n",
    "# from data "
   ]
  },
  {
   "cell_type": "code",
   "execution_count": 121,
   "id": "938dd4ca-dc60-488f-bc6a-53d4e9a044d3",
   "metadata": {},
   "outputs": [
    {
     "data": {
      "text/html": [
       "<div>\n",
       "<style scoped>\n",
       "    .dataframe tbody tr th:only-of-type {\n",
       "        vertical-align: middle;\n",
       "    }\n",
       "\n",
       "    .dataframe tbody tr th {\n",
       "        vertical-align: top;\n",
       "    }\n",
       "\n",
       "    .dataframe thead th {\n",
       "        text-align: right;\n",
       "    }\n",
       "</style>\n",
       "<table border=\"1\" class=\"dataframe\">\n",
       "  <thead>\n",
       "    <tr style=\"text-align: right;\">\n",
       "      <th></th>\n",
       "      <th>values</th>\n",
       "    </tr>\n",
       "  </thead>\n",
       "  <tbody>\n",
       "  </tbody>\n",
       "</table>\n",
       "</div>"
      ],
      "text/plain": [
       "Empty DataFrame\n",
       "Columns: [values]\n",
       "Index: []"
      ]
     },
     "execution_count": 121,
     "metadata": {},
     "output_type": "execute_result"
    }
   ],
   "source": [
    "no_outlier1"
   ]
  },
  {
   "cell_type": "code",
   "execution_count": 122,
   "id": "15f928d6-3755-47e4-bcb3-c0662e49bebf",
   "metadata": {},
   "outputs": [
    {
     "name": "stderr",
     "output_type": "stream",
     "text": [
      "/tmp/ipykernel_77/107029314.py:2: UserWarning: \n",
      "\n",
      "`distplot` is a deprecated function and will be removed in seaborn v0.14.0.\n",
      "\n",
      "Please adapt your code to use either `displot` (a figure-level function with\n",
      "similar flexibility) or `histplot` (an axes-level function for histograms).\n",
      "\n",
      "For a guide to updating your code to use the new functions, please see\n",
      "https://gist.github.com/mwaskom/de44147ed2974457ad6372750bbe5751\n",
      "\n",
      "  sns.distplot(df1)\n"
     ]
    },
    {
     "data": {
      "text/plain": [
       "<AxesSubplot: ylabel='Density'>"
      ]
     },
     "execution_count": 122,
     "metadata": {},
     "output_type": "execute_result"
    },
    {
     "data": {
      "image/png": "[encoded data removed]",
      "text/plain": [
       "<Figure size 640x480 with 1 Axes>"
      ]
     },
     "metadata": {},
     "output_type": "display_data"
    }
   ],
   "source": [
    "import seaborn as sns\n",
    "sns.distplot(df1)"
   ]
  },
  {
   "cell_type": "code",
   "execution_count": 123,
   "id": "93f6a133-7984-4ae2-9c3e-66dd69510bc0",
   "metadata": {},
   "outputs": [
    {
     "data": {
      "text/plain": [
       "<AxesSubplot: >"
      ]
     },
     "execution_count": 123,
     "metadata": {},
     "output_type": "execute_result"
    },
    {
     "data": {
      "image/png": "[encoded data removed]",
      "text/plain": [
       "<Figure size 640x480 with 1 Axes>"
      ]
     },
     "metadata": {},
     "output_type": "display_data"
    }
   ],
   "source": [
    "sns.boxplot(df1)"
   ]
  },
  {
   "cell_type": "code",
   "execution_count": 2,
   "id": "21b52bfb-7f8b-43fb-b52f-cf61837a87d9",
   "metadata": {},
   "outputs": [
    {
     "data": {
      "text/plain": [
       "'dATA SCIENCE MASTER'"
      ]
     },
     "execution_count": 2,
     "metadata": {},
     "output_type": "execute_result"
    }
   ],
   "source": [
    "name = 'Data science master'\n",
    "name.swapcase() # convert the upper into lower and lower into uppper"
   ]
  },
  {
   "cell_type": "code",
   "execution_count": 4,
   "id": "b832434d-1373-411d-80b5-8bd0c5c19cd1",
   "metadata": {},
   "outputs": [
    {
     "data": {
      "text/plain": [
       "'Data Science Master'"
      ]
     },
     "execution_count": 4,
     "metadata": {},
     "output_type": "execute_result"
    }
   ],
   "source": [
    "name.title()  # first word in capital and other will be in small"
   ]
  },
  {
   "cell_type": "code",
   "execution_count": 5,
   "id": "a1f96b0f-ec3b-4b7b-80e4-45d17b162a17",
   "metadata": {},
   "outputs": [
    {
     "data": {
      "text/plain": [
       "'Data science master'"
      ]
     },
     "execution_count": 5,
     "metadata": {},
     "output_type": "execute_result"
    }
   ],
   "source": [
    "name.capitalize()  # only first letter should be in capital"
   ]
  },
  {
   "cell_type": "code",
   "execution_count": 6,
   "id": "5debc534-d4b8-42c2-85ad-adf78e6c9531",
   "metadata": {},
   "outputs": [
    {
     "data": {
      "text/plain": [
       "'retsam ecneics ataD'"
      ]
     },
     "execution_count": 6,
     "metadata": {},
     "output_type": "execute_result"
    }
   ],
   "source": [
    "# reversing a string\n",
    "name[::-1]"
   ]
  },
  {
   "cell_type": "code",
   "execution_count": 9,
   "id": "94461a03-e974-4741-a502-537b21b7966a",
   "metadata": {},
   "outputs": [
    {
     "data": {
      "text/plain": [
       "'r e t s a m   e c n e i c s   a t a D'"
      ]
     },
     "execution_count": 9,
     "metadata": {},
     "output_type": "execute_result"
    }
   ],
   "source": [
    "' '.join(reversed(name)) # reversed and add space betwenn them"
   ]
  },
  {
   "cell_type": "code",
   "execution_count": 11,
   "id": "bcbad346-0759-434d-a514-fe146ebdb2a3",
   "metadata": {},
   "outputs": [
    {
     "data": {
      "text/plain": [
       "'nkrishakrishikrishk'"
      ]
     },
     "execution_count": 11,
     "metadata": {},
     "output_type": "execute_result"
    }
   ],
   "source": [
    "\"krish\".join('naik')  # adding very letter from naik in krish"
   ]
  },
  {
   "cell_type": "code",
   "execution_count": 12,
   "id": "453e6fbe-d9d6-4915-8280-f45b6b94954e",
   "metadata": {},
   "outputs": [
    {
     "data": {
      "text/plain": [
       "'a b c d'"
      ]
     },
     "execution_count": 12,
     "metadata": {},
     "output_type": "execute_result"
    }
   ],
   "source": [
    "' '.join('abcd')# printing a then space print b and then space"
   ]
  },
  {
   "cell_type": "code",
   "execution_count": 13,
   "id": "f9b9734c-c1a1-4982-84af-40ee502b0725",
   "metadata": {},
   "outputs": [
    {
     "data": {
      "text/plain": [
       "'p w s k i l l s'"
      ]
     },
     "execution_count": 13,
     "metadata": {},
     "output_type": "execute_result"
    }
   ],
   "source": [
    "' '.join('pwskills')"
   ]
  },
  {
   "cell_type": "code",
   "execution_count": 14,
   "id": "8f3d0e99-1ce9-45f3-a180-b73661afea5c",
   "metadata": {},
   "outputs": [
    {
     "data": {
      "text/plain": [
       "'n a h o m'"
      ]
     },
     "execution_count": 14,
     "metadata": {},
     "output_type": "execute_result"
    }
   ],
   "source": [
    "' '.join(reversed('mohan'))"
   ]
  },
  {
   "cell_type": "code",
   "execution_count": 15,
   "id": "d0b31ef6-e432-4085-bc85-2b976115b29c",
   "metadata": {},
   "outputs": [
    {
     "data": {
      "text/plain": [
       "'a n t'"
      ]
     },
     "execution_count": 15,
     "metadata": {},
     "output_type": "execute_result"
    }
   ],
   "source": [
    "' '.join('ant') #adding space after every character"
   ]
  },
  {
   "cell_type": "code",
   "execution_count": 16,
   "id": "688c773e-a381-4a9a-ae2b-ca36aeda9c22",
   "metadata": {},
   "outputs": [
    {
     "data": {
      "text/plain": [
       "'t n a'"
      ]
     },
     "execution_count": 16,
     "metadata": {},
     "output_type": "execute_result"
    }
   ],
   "source": [
    "' '.join(reversed('ant'))"
   ]
  },
  {
   "cell_type": "code",
   "execution_count": 19,
   "id": "029b1932-05ed-4b5e-8eae-c4408e0e390c",
   "metadata": {},
   "outputs": [
    {
     "data": {
      "text/plain": [
       "'a pwskills h pwskills s pwskills i pwskills n pwskills a pwskills m'"
      ]
     },
     "execution_count": 19,
     "metadata": {},
     "output_type": "execute_result"
    }
   ],
   "source": [
    "' pwskills '.join(reversed('manisha')) # reverse manisha and add pwskills after every character"
   ]
  },
  {
   "cell_type": "code",
   "execution_count": 24,
   "id": "bd164997-f3ff-47ef-968d-9622f190918a",
   "metadata": {},
   "outputs": [
    {
     "data": {
      "text/plain": [
       "['t', 'n', 'a']"
      ]
     },
     "execution_count": 24,
     "metadata": {},
     "output_type": "execute_result"
    }
   ],
   "source": [
    "list(reversed('ant'))  # returning into list typcasting"
   ]
  },
  {
   "cell_type": "code",
   "execution_count": 22,
   "id": "2ef4e71f-8ffe-433e-8ddf-50184f4b0873",
   "metadata": {},
   "outputs": [],
   "source": [
    "str1 = 'pw is a good company'"
   ]
  },
  {
   "cell_type": "code",
   "execution_count": 23,
   "id": "246fe8cb-dd6a-4b5d-81ee-561085498530",
   "metadata": {},
   "outputs": [
    {
     "data": {
      "text/plain": [
       "'pskillswskills skillsiskillssskills skillsaskills skillsgskillsoskillsoskillsdskills skillscskillsoskillsmskillspskillsaskillsnskillsy'"
      ]
     },
     "execution_count": 23,
     "metadata": {},
     "output_type": "execute_result"
    }
   ],
   "source": [
    "'skills'.join(str1)"
   ]
  },
  {
   "cell_type": "code",
   "execution_count": null,
   "id": "0ceacbcd-7ac7-49de-b9f8-0b4931e7b7ce",
   "metadata": {},
   "outputs": [],
   "source": []
  },
  {
   "cell_type": "code",
   "execution_count": 25,
   "id": "9bb80276-df57-44b6-8a28-dfd100b264e5",
   "metadata": {},
   "outputs": [
    {
     "name": "stdout",
     "output_type": "stream",
     "text": [
      "tna"
     ]
    }
   ],
   "source": [
    "## removing character from the end of the string\n",
    "\n",
    "for i in list(reversed('ant')):\n",
    "    print(i,end='')"
   ]
  },
  {
   "cell_type": "code",
   "execution_count": 27,
   "id": "9163ce8e-cef7-46d5-82e1-c2cb6631dfcb",
   "metadata": {},
   "outputs": [
    {
     "data": {
      "text/plain": [
       "'pwskills'"
      ]
     },
     "execution_count": 27,
     "metadata": {},
     "output_type": "execute_result"
    }
   ],
   "source": [
    "string_a = ' pwskills'\n",
    "string_a.strip()"
   ]
  },
  {
   "cell_type": "code",
   "execution_count": 28,
   "id": "11e3be80-3260-4e37-a85f-c73bec83d395",
   "metadata": {},
   "outputs": [
    {
     "data": {
      "text/plain": [
       "'pwskills'"
      ]
     },
     "execution_count": 28,
     "metadata": {},
     "output_type": "execute_result"
    }
   ],
   "source": [
    "string_a = ' pwskills'\n",
    "string_a.lstrip()"
   ]
  },
  {
   "cell_type": "code",
   "execution_count": 29,
   "id": "b356c6f2-cde5-42ee-8184-a2e363576625",
   "metadata": {},
   "outputs": [
    {
     "data": {
      "text/plain": [
       "' pwskills'"
      ]
     },
     "execution_count": 29,
     "metadata": {},
     "output_type": "execute_result"
    }
   ],
   "source": [
    "string_a = ' pwskills  '\n",
    "string_a.rstrip()  # removing right space of th4e string"
   ]
  },
  {
   "cell_type": "code",
   "execution_count": 31,
   "id": "894bba74-7b51-43f8-9136-51c26d5bf18e",
   "metadata": {},
   "outputs": [
    {
     "data": {
      "text/plain": [
       "'Greeting from pwskills'"
      ]
     },
     "execution_count": 31,
     "metadata": {},
     "output_type": "execute_result"
    }
   ],
   "source": [
    "string_n = 'Greeting to pwskills'\n",
    "string_n.replace('to','from')\n",
    "# we can replace word not character\n",
    "# or cannot asisgn something"
   ]
  },
  {
   "cell_type": "code",
   "execution_count": 32,
   "id": "ad9f2e4f-a935-4ce6-a87a-5c157a2579d8",
   "metadata": {},
   "outputs": [],
   "source": [
    "name='krish'"
   ]
  },
  {
   "cell_type": "code",
   "execution_count": 33,
   "id": "4cae90b7-c6e4-4bd0-a7d8-fc2e201f8a0e",
   "metadata": {},
   "outputs": [],
   "source": [
    "name = 'pwskills' # replacing the whole name"
   ]
  },
  {
   "cell_type": "code",
   "execution_count": 35,
   "id": "01bd4dae-8bcd-46c2-a9a9-451d3d7a264a",
   "metadata": {},
   "outputs": [
    {
     "data": {
      "text/plain": [
       "'pwskills'"
      ]
     },
     "execution_count": 35,
     "metadata": {},
     "output_type": "execute_result"
    }
   ],
   "source": [
    "name"
   ]
  },
  {
   "cell_type": "code",
   "execution_count": 36,
   "id": "4d611270-7716-43d1-87e0-31cb7a43cbb5",
   "metadata": {},
   "outputs": [
    {
     "ename": "NameError",
     "evalue": "name 'r' is not defined",
     "output_type": "error",
     "traceback": [
      "\u001b[0;31m---------------------------------------------------------------------------\u001b[0m",
      "\u001b[0;31mNameError\u001b[0m                                 Traceback (most recent call last)",
      "Cell \u001b[0;32mIn[36], line 1\u001b[0m\n\u001b[0;32m----> 1\u001b[0m name[\u001b[38;5;241m0\u001b[39m]\u001b[38;5;241m=\u001b[39m\u001b[43mr\u001b[49m\n",
      "\u001b[0;31mNameError\u001b[0m: name 'r' is not defined"
     ]
    }
   ],
   "source": [
    "name[0]=r"
   ]
  },
  {
   "cell_type": "code",
   "execution_count": 37,
   "id": "fa9a7abf-32d3-44b6-bb56-12e59261acb9",
   "metadata": {},
   "outputs": [
    {
     "data": {
      "text/plain": [
       "'Treeting to pwskills'"
      ]
     },
     "execution_count": 37,
     "metadata": {},
     "output_type": "execute_result"
    }
   ],
   "source": [
    "string_n = 'Greeting to pwskills'\n",
    "var_a = string_n.replace('G','T')\n",
    "var_a"
   ]
  },
  {
   "cell_type": "code",
   "execution_count": 38,
   "id": "be9ac03a-a7fc-444d-b088-93584af16647",
   "metadata": {},
   "outputs": [
    {
     "data": {
      "text/plain": [
       "'hello@world'"
      ]
     },
     "execution_count": 38,
     "metadata": {},
     "output_type": "execute_result"
    }
   ],
   "source": [
    "a='hello world'\n",
    "a.replace(' ','@') # replacing space with@"
   ]
  },
  {
   "cell_type": "code",
   "execution_count": 40,
   "id": "4c407119-9e88-4b56-8c94-aa59b037be2f",
   "metadata": {},
   "outputs": [
    {
     "data": {
      "text/plain": [
       "'hello \\n world'"
      ]
     },
     "execution_count": 40,
     "metadata": {},
     "output_type": "execute_result"
    }
   ],
   "source": [
    "'hello \\n world' # \\n will not work in it will be considered as string"
   ]
  },
  {
   "cell_type": "code",
   "execution_count": 41,
   "id": "d8bd5620-308b-4c4d-9306-b9a2c95cf9b8",
   "metadata": {},
   "outputs": [
    {
     "data": {
      "text/plain": [
       "'hello   world'"
      ]
     },
     "execution_count": 41,
     "metadata": {},
     "output_type": "execute_result"
    }
   ],
   "source": [
    "'hello \\tworld'.expandtabs()  # \\t means tab..it add space b/w them"
   ]
  },
  {
   "cell_type": "code",
   "execution_count": 42,
   "id": "8394eaed-6a14-4bb4-9765-e45059a25b99",
   "metadata": {},
   "outputs": [],
   "source": [
    "str1 = 'welcome to pwskills.Welcome to Dat cinece masters'"
   ]
  },
  {
   "cell_type": "code",
   "execution_count": 47,
   "id": "23962c3e-5014-49e8-b35d-8885be28010a",
   "metadata": {},
   "outputs": [
    {
     "data": {
      "text/plain": [
       "'welcome to pwskills.Welcome to data cinece masters'"
      ]
     },
     "execution_count": 47,
     "metadata": {},
     "output_type": "execute_result"
    }
   ],
   "source": [
    "str1.replace('Dat','data').replace('cience','science')"
   ]
  },
  {
   "cell_type": "code",
   "execution_count": 48,
   "id": "203b2a9e-9914-498f-87ae-d2b7121b3e83",
   "metadata": {},
   "outputs": [
    {
     "data": {
      "text/plain": [
       "'welcome to pwskills.Welcome to Dat cinece masters'"
      ]
     },
     "execution_count": 48,
     "metadata": {},
     "output_type": "execute_result"
    }
   ],
   "source": [
    "str1"
   ]
  },
  {
   "cell_type": "code",
   "execution_count": 49,
   "id": "5cf2aef9-98e6-434b-b9e9-b05918802aff",
   "metadata": {},
   "outputs": [
    {
     "data": {
      "text/plain": [
       "False"
      ]
     },
     "execution_count": 49,
     "metadata": {},
     "output_type": "execute_result"
    }
   ],
   "source": [
    "str1.isupper()"
   ]
  },
  {
   "cell_type": "code",
   "execution_count": 50,
   "id": "a9c28714-6749-4ce0-9090-2f18de5007cb",
   "metadata": {},
   "outputs": [
    {
     "data": {
      "text/plain": [
       "True"
      ]
     },
     "execution_count": 50,
     "metadata": {},
     "output_type": "execute_result"
    }
   ],
   "source": [
    "str1 = 'KRISH'\n",
    "str1.isupper()"
   ]
  },
  {
   "cell_type": "code",
   "execution_count": 51,
   "id": "237c2c19-e103-4fa4-a35e-eb502afd8e11",
   "metadata": {},
   "outputs": [
    {
     "data": {
      "text/plain": [
       "False"
      ]
     },
     "execution_count": 51,
     "metadata": {},
     "output_type": "execute_result"
    }
   ],
   "source": [
    "str1.islower()"
   ]
  },
  {
   "cell_type": "code",
   "execution_count": 52,
   "id": "81206a22-cb5d-4f20-a990-67d7497a56f2",
   "metadata": {},
   "outputs": [
    {
     "data": {
      "text/plain": [
       "False"
      ]
     },
     "execution_count": 52,
     "metadata": {},
     "output_type": "execute_result"
    }
   ],
   "source": [
    "str1.isspace()\n"
   ]
  },
  {
   "cell_type": "code",
   "execution_count": 54,
   "id": "0e480de4-a279-4074-9b8d-ec3afcedbc8c",
   "metadata": {},
   "outputs": [
    {
     "data": {
      "text/plain": [
       "True"
      ]
     },
     "execution_count": 54,
     "metadata": {},
     "output_type": "execute_result"
    }
   ],
   "source": [
    "' '.isspace() # to check whether the string is empty or not"
   ]
  },
  {
   "cell_type": "code",
   "execution_count": 55,
   "id": "5b05bb50-a6f3-4223-9e71-7d8f630dcccc",
   "metadata": {},
   "outputs": [
    {
     "data": {
      "text/plain": [
       "False"
      ]
     },
     "execution_count": 55,
     "metadata": {},
     "output_type": "execute_result"
    }
   ],
   "source": [
    "'sanju'.isspace()"
   ]
  },
  {
   "cell_type": "code",
   "execution_count": 56,
   "id": "f3dde7b2-2bc5-4fe6-851d-40eeb6454d68",
   "metadata": {},
   "outputs": [
    {
     "name": "stdout",
     "output_type": "stream",
     "text": [
      "hello\n"
     ]
    }
   ],
   "source": [
    "if ' '.isspace():\n",
    "    print('hello')"
   ]
  },
  {
   "cell_type": "code",
   "execution_count": 57,
   "id": "369bc43a-0193-4a65-b5b4-8968aaa2a2ab",
   "metadata": {},
   "outputs": [],
   "source": [
    "str2 = 'pwskills'"
   ]
  },
  {
   "cell_type": "code",
   "execution_count": 58,
   "id": "39fc5717-41d1-4f21-88e6-bc95951913d2",
   "metadata": {},
   "outputs": [
    {
     "data": {
      "text/plain": [
       "True"
      ]
     },
     "execution_count": 58,
     "metadata": {},
     "output_type": "execute_result"
    }
   ],
   "source": [
    "str2.endswith('s') # checking the given whether the string end with ..."
   ]
  },
  {
   "cell_type": "code",
   "execution_count": 59,
   "id": "ec7117b7-495c-47db-a9b2-442d9feb3a05",
   "metadata": {},
   "outputs": [
    {
     "data": {
      "text/plain": [
       "True"
      ]
     },
     "execution_count": 59,
     "metadata": {},
     "output_type": "execute_result"
    }
   ],
   "source": [
    "str2.startswith('p')"
   ]
  },
  {
   "cell_type": "code",
   "execution_count": 61,
   "id": "7dcaa0d1-2ce8-4181-950d-c0dd40e5b90e",
   "metadata": {},
   "outputs": [
    {
     "data": {
      "text/plain": [
       "True"
      ]
     },
     "execution_count": 61,
     "metadata": {},
     "output_type": "execute_result"
    }
   ],
   "source": [
    "# check if all the char in string are alphanumeric\n",
    "a='abec234'\n",
    "a.isalnum()"
   ]
  },
  {
   "cell_type": "code",
   "execution_count": 63,
   "id": "4ad481ba-4b39-4f11-8c34-efc8a64f7cbf",
   "metadata": {},
   "outputs": [
    {
     "name": "stdout",
     "output_type": "stream",
     "text": [
      "8\n"
     ]
    }
   ],
   "source": [
    "# to count the number of character in the string\n",
    "count =0\n",
    "for i in str2:\n",
    "    count = count+1\n",
    "    \n",
    "print(count)    "
   ]
  },
  {
   "cell_type": "code",
   "execution_count": 67,
   "id": "606a390d-e726-4bd8-82bd-f17bc4fa8940",
   "metadata": {},
   "outputs": [
    {
     "data": {
      "text/plain": [
       "8"
      ]
     },
     "execution_count": 67,
     "metadata": {},
     "output_type": "execute_result"
    }
   ],
   "source": [
    "len(str2)    "
   ]
  },
  {
   "cell_type": "code",
   "execution_count": 68,
   "id": "ab610fb4-74f5-46c3-93ac-aa65f4698c3b",
   "metadata": {},
   "outputs": [
    {
     "data": {
      "text/plain": [
       "'pwskills'"
      ]
     },
     "execution_count": 68,
     "metadata": {},
     "output_type": "execute_result"
    }
   ],
   "source": [
    "str2\n"
   ]
  },
  {
   "cell_type": "code",
   "execution_count": 69,
   "id": "03e80460-f14e-42f1-ba75-e43daecba695",
   "metadata": {},
   "outputs": [
    {
     "name": "stdout",
     "output_type": "stream",
     "text": [
      "p\n",
      "w\n",
      "s\n",
      "k\n",
      "i\n",
      "l\n",
      "l\n",
      "s\n"
     ]
    }
   ],
   "source": [
    "for i in str2:\n",
    "    print(i)"
   ]
  },
  {
   "cell_type": "code",
   "execution_count": 71,
   "id": "515dc3d4-b574-4004-8cca-1b1ecfbde553",
   "metadata": {},
   "outputs": [
    {
     "data": {
      "text/plain": [
       "range(0, 8)"
      ]
     },
     "execution_count": 71,
     "metadata": {},
     "output_type": "execute_result"
    }
   ],
   "source": [
    "range(len(str2))"
   ]
  },
  {
   "cell_type": "code",
   "execution_count": 72,
   "id": "9b9feb4f-da33-4552-8550-f7ba8c1c2074",
   "metadata": {},
   "outputs": [
    {
     "name": "stdout",
     "output_type": "stream",
     "text": [
      "0 = p\n",
      "1 = w\n",
      "2 = s\n",
      "3 = k\n",
      "4 = i\n",
      "5 = l\n",
      "6 = l\n",
      "7 = s\n"
     ]
    }
   ],
   "source": [
    "for i in range(len(str2)):\n",
    "    print(i,'=',str2[i])"
   ]
  },
  {
   "cell_type": "code",
   "execution_count": 77,
   "id": "beacc70f-1472-4be4-8530-228bcd6e0815",
   "metadata": {},
   "outputs": [
    {
     "data": {
      "text/plain": [
       "(7, -1, -1)"
      ]
     },
     "execution_count": 77,
     "metadata": {},
     "output_type": "execute_result"
    }
   ],
   "source": [
    "len(str2)-1,-1,-1"
   ]
  },
  {
   "cell_type": "code",
   "execution_count": 83,
   "id": "7328b025-15c0-4cd1-86d8-212d9d30eca3",
   "metadata": {},
   "outputs": [],
   "source": [
    "# we can use index to iterate string reverse direction\n",
    "# for i in range(len(str2)-1,-1,-1):\n",
    "    # print(i,'=',str2[i])"
   ]
  },
  {
   "cell_type": "code",
   "execution_count": 82,
   "id": "0fddd4ab-18cb-4dbd-8f98-3dc8e7e310a9",
   "metadata": {},
   "outputs": [],
   "source": [
    "# len(string)-1"
   ]
  },
  {
   "cell_type": "code",
   "execution_count": 80,
   "id": "0b9d2860-3962-4a1e-9efc-dd8fb0740bdb",
   "metadata": {},
   "outputs": [],
   "source": [
    "# string = 'pwskills'\n",
    "# ch = len(string)-1\n",
    "# while ch>=0:\n",
    "#     print(string[ch])\n",
    "#     ch=ch-1"
   ]
  },
  {
   "cell_type": "code",
   "execution_count": 85,
   "id": "2228ccc3-1340-4d93-a2a2-039d0b22c51d",
   "metadata": {},
   "outputs": [
    {
     "name": "stdout",
     "output_type": "stream",
     "text": [
      "s\n",
      "l\n",
      "l\n",
      "i\n",
      "k\n",
      "s\n",
      "w\n",
      "p\n"
     ]
    }
   ],
   "source": [
    "for i in range(len(str2)-1,-1,-1):\n",
    "    print(str2[i])"
   ]
  },
  {
   "cell_type": "code",
   "execution_count": 90,
   "id": "285f14ca-f1b6-4baf-a399-f07856b51698",
   "metadata": {},
   "outputs": [
    {
     "data": {
      "text/plain": [
       "7"
      ]
     },
     "execution_count": 90,
     "metadata": {},
     "output_type": "execute_result"
    }
   ],
   "source": [
    "string = 'pwskills'\n",
    "ch = len(string)-1\n",
    "ch"
   ]
  },
  {
   "cell_type": "code",
   "execution_count": 95,
   "id": "6290fae5-1ee7-428f-8387-44f3938c8811",
   "metadata": {},
   "outputs": [
    {
     "name": "stdout",
     "output_type": "stream",
     "text": [
      "s\n",
      "l\n",
      "l\n",
      "i\n",
      "k\n",
      "s\n",
      "w\n",
      "p\n"
     ]
    }
   ],
   "source": [
    "string = 'pwskills'\n",
    "ch=len(string)-1\n",
    "while ch>=0:\n",
    "    print(string[ch])\n",
    "    ch=ch-1"
   ]
  },
  {
   "cell_type": "code",
   "execution_count": 4,
   "id": "86f6de4f-dd49-4e8a-9219-14a68a482cea",
   "metadata": {},
   "outputs": [
    {
     "name": "stdout",
     "output_type": "stream",
     "text": [
      "a\n",
      "h\n",
      "s\n",
      "i\n",
      "n\n",
      "a\n",
      "m\n"
     ]
    }
   ],
   "source": [
    "str = 'manisha'\n",
    "ch = len(str)-1\n",
    "while ch>=0:\n",
    "    print(str[ch])\n",
    "    ch=ch-1"
   ]
  },
  {
   "cell_type": "code",
   "execution_count": 7,
   "id": "0820d052-4bac-406d-b00c-87411a888aef",
   "metadata": {},
   "outputs": [
    {
     "name": "stdout",
     "output_type": "stream",
     "text": [
      "a\n",
      "h\n",
      "s\n",
      "i\n",
      "n\n"
     ]
    }
   ],
   "source": [
    "str2='nisha'\n",
    "ch=len(str2)-1\n",
    "while ch>=0:\n",
    "    print(str2[ch])\n",
    "    ch = ch-1\n",
    "    "
   ]
  },
  {
   "cell_type": "code",
   "execution_count": 8,
   "id": "4b9529e0-67ab-48f7-83fb-a1f9d8e65cd6",
   "metadata": {},
   "outputs": [
    {
     "name": "stdout",
     "output_type": "stream",
     "text": [
      "p\n",
      "e\n",
      "e\n",
      "d\n",
      "n\n",
      "a\n",
      "s\n"
     ]
    }
   ],
   "source": [
    "name ='sandeep'\n",
    "n= len(name)-1\n",
    "while n>=0:\n",
    "    print(name[n])\n",
    "    n= n-1"
   ]
  },
  {
   "cell_type": "code",
   "execution_count": 9,
   "id": "8d5f7481-0f76-4b77-bd64-475cf972e967",
   "metadata": {},
   "outputs": [
    {
     "name": "stdout",
     "output_type": "stream",
     "text": [
      "y\n",
      "e\n",
      "e\n",
      "d\n",
      "n\n",
      "a\n",
      "p\n",
      "k\n",
      "a\n",
      "p\n",
      "e\n",
      "e\n",
      "d\n"
     ]
    }
   ],
   "source": [
    "name = 'deepakpandeey'\n",
    "n= len(name)-1\n",
    "while n>=0:\n",
    "    print(name[n])\n",
    "    n=n-1"
   ]
  },
  {
   "cell_type": "code",
   "execution_count": 11,
   "id": "c271fc21-7efa-459c-9c5a-981b84ad31cb",
   "metadata": {},
   "outputs": [
    {
     "name": "stdout",
     "output_type": "stream",
     "text": [
      "d\n",
      "n\n",
      "i\n",
      "m\n",
      " \n",
      "y\n",
      "m\n",
      " \n",
      "e\n",
      "v\n",
      "o\n",
      "l\n",
      " \n",
      "i\n"
     ]
    }
   ],
   "source": [
    "name = 'i love my mind'\n",
    "n= len(name)-1\n",
    "while n>=0:\n",
    "    print(name[n])\n",
    "    n=n-1"
   ]
  },
  {
   "cell_type": "code",
   "execution_count": 17,
   "id": "7d5d245c-20de-449a-bb37-c776725ca937",
   "metadata": {},
   "outputs": [
    {
     "name": "stdout",
     "output_type": "stream",
     "text": [
      "t\n",
      "i\n",
      " \n",
      "f\n",
      "o\n",
      " \n",
      "m\n",
      "a\n",
      "e\n",
      "r\n",
      "d\n",
      " \n",
      "a\n",
      " \n",
      "s\n",
      "a\n",
      "h\n",
      " \n",
      "e\n",
      "h\n",
      "s\n",
      " \n",
      "y\n",
      "a\n",
      "d\n",
      " \n",
      "e\n",
      "n\n",
      "o\n",
      " \n",
      "a\n",
      "k\n",
      "s\n",
      "a\n",
      "l\n",
      "a\n",
      " \n",
      "o\n",
      "g\n",
      " \n",
      "o\n",
      "t\n",
      " \n",
      "d\n",
      "e\n",
      "t\n",
      "n\n",
      "a\n",
      "w\n",
      " \n",
      "e\n",
      "h\n",
      "s\n"
     ]
    }
   ],
   "source": [
    "statement = 'she wanted to go alaska one day she has a dream of it'\n",
    "n=len(statement)-1\n",
    "n  # length of the string\n",
    "while n >=0: # conditional statement --says that if n= greater than or equal to 0 execute print statement and decrement the n value and further run the speecific code\n",
    "    print(statement[n])\n",
    "    n=n-1"
   ]
  },
  {
   "cell_type": "code",
   "execution_count": 19,
   "id": "802b2cb7-0aab-4bb4-9bb4-acec3d2ab3cf",
   "metadata": {},
   "outputs": [
    {
     "name": "stdout",
     "output_type": "stream",
     "text": [
      "s\n",
      "l\n",
      "l\n",
      "i\n",
      "k\n",
      "s\n",
      " \n",
      "w\n",
      "p\n"
     ]
    }
   ],
   "source": [
    "string= 'pw skills'\n",
    "for i in range(len(string)):\n",
    "    print(string[len(string)-(i+1)])"
   ]
  },
  {
   "cell_type": "code",
   "execution_count": 21,
   "id": "2df85c4f-5ccf-49c9-a6b6-87674b5e5bc2",
   "metadata": {},
   "outputs": [
    {
     "data": {
      "text/plain": [
       "8"
      ]
     },
     "execution_count": 21,
     "metadata": {},
     "output_type": "execute_result"
    }
   ],
   "source": [
    "string= 'pw skills'\n",
    "len(string)\n",
    "len(string) -(0+1)"
   ]
  },
  {
   "cell_type": "code",
   "execution_count": 22,
   "id": "98647a10-7ddd-4321-9d88-4c45f3e197ad",
   "metadata": {},
   "outputs": [
    {
     "name": "stdout",
     "output_type": "stream",
     "text": [
      "a\n",
      "h\n",
      "s\n",
      "i\n",
      "n\n",
      "a\n",
      "m\n"
     ]
    }
   ],
   "source": [
    "string = 'manisha'\n",
    "for i in range(len(string)):\n",
    "    print(string[len(string) - (i+1)])"
   ]
  },
  {
   "cell_type": "code",
   "execution_count": 23,
   "id": "1ea3b6d2-715c-42de-abde-56d9f0619f0a",
   "metadata": {},
   "outputs": [
    {
     "name": "stdout",
     "output_type": "stream",
     "text": [
      "p\n",
      "e\n",
      "e\n",
      "d\n",
      "n\n",
      "a\n",
      "s\n"
     ]
    }
   ],
   "source": [
    "name = 'sandeep'\n",
    "for i in range(len(name)):\n",
    "    print(name[len(name) - (i+1)])"
   ]
  },
  {
   "cell_type": "code",
   "execution_count": 24,
   "id": "c8b82dd3-9aba-44a0-b943-7eda457e6355",
   "metadata": {},
   "outputs": [
    {
     "name": "stdout",
     "output_type": "stream",
     "text": [
      "m\n",
      "a\n",
      "h\n",
      "d\n",
      "o\n",
      "n\n",
      "h\n",
      "s\n",
      "i\n",
      "a\n",
      "v\n"
     ]
    }
   ],
   "source": [
    "name = 'vaishnodham'\n",
    "for i in range(len(name)-1,-1,-1):\n",
    "    print(name[i])"
   ]
  },
  {
   "cell_type": "code",
   "execution_count": 27,
   "id": "818303c2-5499-4ccc-a13a-9eec0ee2535a",
   "metadata": {},
   "outputs": [
    {
     "name": "stdout",
     "output_type": "stream",
     "text": [
      "ahsinam"
     ]
    }
   ],
   "source": [
    "string = 'manisha'\n",
    "for i in range(len(string)):\n",
    "    print(string[len(string)-(i+1)],end='')"
   ]
  },
  {
   "cell_type": "code",
   "execution_count": 30,
   "id": "49e131d3-32a7-46f0-85c2-52216ca2023d",
   "metadata": {},
   "outputs": [
    {
     "name": "stdout",
     "output_type": "stream",
     "text": [
      "p is not a vowel\n",
      "w is not a vowel\n",
      "s is not a vowel\n",
      "k is not a vowel\n",
      "i is a vowel\n",
      "l is not a vowel\n",
      "l is not a vowel\n",
      "s is not a vowel\n"
     ]
    }
   ],
   "source": [
    "name = 'pwskills'\n",
    "vowels = 'AaEeIiOuUu'\n",
    "\n",
    "# checking whether the vowel present in name or not\n",
    "\n",
    "for ch in name:\n",
    "    if ch in vowels:\n",
    "        print('{} is a vowel'.format(ch))\n",
    "    else:\n",
    "        print('{} is not a vowel'.format(ch))"
   ]
  },
  {
   "cell_type": "code",
   "execution_count": 31,
   "id": "4447a803-1f06-4f4e-8c79-e49accaf385e",
   "metadata": {},
   "outputs": [
    {
     "name": "stdout",
     "output_type": "stream",
     "text": [
      "s is not a vowel\n",
      "a is a vowel\n",
      "n is not a vowel\n",
      "j is not a vowel\n",
      "u is a vowel\n"
     ]
    }
   ],
   "source": [
    "name = 'sanju'\n",
    "vowel= 'aeiou'\n",
    "\n",
    "for i in name :\n",
    "    if i in vowel:\n",
    "        print('{} is a vowel'.format(i))\n",
    "    else:\n",
    "        print('{} is not a vowel'.format(i))"
   ]
  },
  {
   "cell_type": "code",
   "execution_count": 33,
   "id": "ec77af9c-a473-430e-9871-dc71991ef3f0",
   "metadata": {},
   "outputs": [
    {
     "name": "stdout",
     "output_type": "stream",
     "text": [
      "h is not a vowel\n",
      "e is vowel\n",
      "y is not a vowel\n",
      "  is not a vowel\n",
      "i is vowel\n",
      "  is not a vowel\n",
      "a is vowel\n",
      "m is not a vowel\n",
      "  is not a vowel\n",
      "s is not a vowel\n",
      "a is vowel\n",
      "n is not a vowel\n",
      "j is not a vowel\n",
      "a is vowel\n",
      "n is not a vowel\n",
      "a is vowel\n",
      "  is not a vowel\n",
      ". is not a vowel\n",
      "h is not a vowel\n",
      "o is vowel\n",
      "w is not a vowel\n",
      "  is not a vowel\n",
      "a is vowel\n",
      "r is not a vowel\n",
      "e is vowel\n",
      "  is not a vowel\n",
      "y is not a vowel\n",
      "o is vowel\n",
      "u is vowel\n",
      "  is not a vowel\n",
      "? is not a vowel\n",
      "  is not a vowel\n",
      "A is not a vowel\n",
      "r is not a vowel\n",
      "e is vowel\n",
      "  is not a vowel\n",
      "y is not a vowel\n",
      "o is vowel\n",
      "u is vowel\n",
      "  is not a vowel\n",
      "l is not a vowel\n",
      "o is vowel\n",
      "o is vowel\n",
      "k is not a vowel\n",
      "i is vowel\n",
      "n is not a vowel\n",
      "g is not a vowel\n",
      "  is not a vowel\n",
      "f is not a vowel\n",
      "O is not a vowel\n",
      "r is not a vowel\n",
      "  is not a vowel\n",
      "c is not a vowel\n",
      "o is vowel\n",
      "f is not a vowel\n",
      "f is not a vowel\n",
      "e is vowel\n",
      "e is vowel\n",
      "? is not a vowel\n"
     ]
    }
   ],
   "source": [
    "string= 'hey i am sanjana .how are you ? Are you looking fOr coffee?'\n",
    "vowel = 'aeiou'\n",
    "\n",
    "for i in string:\n",
    "    if i in vowel:\n",
    "        print('{} is vowel'.format(i))\n",
    "    else:\n",
    "        print('{} is not a vowel'.format(i))"
   ]
  },
  {
   "cell_type": "code",
   "execution_count": 34,
   "id": "204667a8-e4cf-4e56-b7d4-c898074545b3",
   "metadata": {},
   "outputs": [
    {
     "name": "stdout",
     "output_type": "stream",
     "text": [
      "h is not vowel\n",
      "e is a vowel\n",
      "y is not vowel\n",
      "  is not vowel\n",
      "i is a vowel\n",
      "  is not vowel\n",
      "a is a vowel\n",
      "m is not vowel\n",
      "  is not vowel\n",
      "s is not vowel\n",
      "a is a vowel\n",
      "n is not vowel\n",
      "j is not vowel\n",
      "a is a vowel\n",
      "n is not vowel\n",
      "a is a vowel\n",
      "  is not vowel\n",
      ". is not vowel\n",
      "h is not vowel\n",
      "o is a vowel\n",
      "w is not vowel\n",
      "  is not vowel\n",
      "a is a vowel\n",
      "r is not vowel\n",
      "e is a vowel\n",
      "  is not vowel\n",
      "y is not vowel\n",
      "o is a vowel\n",
      "u is a vowel\n",
      "  is not vowel\n",
      "? is not vowel\n",
      "  is not vowel\n",
      "A is a vowel\n",
      "r is not vowel\n",
      "e is a vowel\n",
      "  is not vowel\n",
      "y is not vowel\n",
      "o is a vowel\n",
      "u is a vowel\n",
      "  is not vowel\n",
      "l is not vowel\n",
      "o is a vowel\n",
      "o is a vowel\n",
      "k is not vowel\n",
      "i is a vowel\n",
      "n is not vowel\n",
      "g is not vowel\n",
      "  is not vowel\n",
      "f is not vowel\n",
      "O is a vowel\n",
      "r is not vowel\n",
      "  is not vowel\n",
      "c is not vowel\n",
      "o is a vowel\n",
      "f is not vowel\n",
      "f is not vowel\n",
      "e is a vowel\n",
      "e is a vowel\n",
      "? is not vowel\n"
     ]
    }
   ],
   "source": [
    "# in this statement A is not considered as vowel so we have to take A also in our list\n",
    "string= 'hey i am sanjana .how are you ? Are you looking fOr coffee?'\n",
    "vowel = 'aeiouAEIOU'\n",
    "\n",
    "for i in string:\n",
    "    if i in vowel:\n",
    "        print('{} is a vowel'.format(i))\n",
    "    else:\n",
    "        print('{} is not vowel'.format(i))"
   ]
  },
  {
   "cell_type": "markdown",
   "id": "d54a3af9-c683-4d66-af31-e1ff6bfd8f5b",
   "metadata": {},
   "source": [
    "# List\n",
    "\n",
    "built in mutable sequence ,\n",
    "it is an order sequence of multiple datatype "
   ]
  },
  {
   "cell_type": "code",
   "execution_count": 35,
   "id": "db49906c-b5ff-46c2-9f67-2bbe7fd1b0a3",
   "metadata": {},
   "outputs": [
    {
     "data": {
      "text/plain": [
       "list"
      ]
     },
     "execution_count": 35,
     "metadata": {},
     "output_type": "execute_result"
    }
   ],
   "source": [
    "type([])"
   ]
  },
  {
   "cell_type": "code",
   "execution_count": 36,
   "id": "3e8cb5ec-68dd-4a5b-81c2-aab9d430ee9d",
   "metadata": {},
   "outputs": [
    {
     "data": {
      "text/plain": [
       "['krish', 'naik', 'pwskills', 34]"
      ]
     },
     "execution_count": 36,
     "metadata": {},
     "output_type": "execute_result"
    }
   ],
   "source": [
    "['krish','naik','pwskills',34]"
   ]
  },
  {
   "cell_type": "code",
   "execution_count": 37,
   "id": "6a7abc8b-a41c-45f1-bc6f-8ddd3a8210cd",
   "metadata": {},
   "outputs": [
    {
     "data": {
      "text/plain": [
       "[1, 2, 3, 4, 5, 6, 9]"
      ]
     },
     "execution_count": 37,
     "metadata": {},
     "output_type": "execute_result"
    }
   ],
   "source": [
    "list([1,2,3,4,5,6,9])"
   ]
  },
  {
   "cell_type": "code",
   "execution_count": 39,
   "id": "22df2083-bd24-4585-ae9e-0b18e94af301",
   "metadata": {},
   "outputs": [
    {
     "data": {
      "text/plain": [
       "['name', 'class', 'rollnl']"
      ]
     },
     "execution_count": 39,
     "metadata": {},
     "output_type": "execute_result"
    }
   ],
   "source": [
    "list(('name','class','rollnl'))"
   ]
  },
  {
   "cell_type": "code",
   "execution_count": 41,
   "id": "ef4e2f5d-46c3-44f8-bd0a-ccaa2ebc7272",
   "metadata": {},
   "outputs": [
    {
     "data": {
      "text/plain": [
       "'nisha'"
      ]
     },
     "execution_count": 41,
     "metadata": {},
     "output_type": "execute_result"
    }
   ],
   "source": [
    "str2"
   ]
  },
  {
   "cell_type": "code",
   "execution_count": 42,
   "id": "e277c0a2-d81b-4e4d-a1cd-ea0df13c86d5",
   "metadata": {},
   "outputs": [
    {
     "data": {
      "text/plain": [
       "['n', 'i', 's', 'h', 'a']"
      ]
     },
     "execution_count": 42,
     "metadata": {},
     "output_type": "execute_result"
    }
   ],
   "source": [
    "list(str2)"
   ]
  },
  {
   "cell_type": "code",
   "execution_count": 44,
   "id": "68a8a0f0-99db-4969-ae19-eb1bb09c250a",
   "metadata": {},
   "outputs": [
    {
     "data": {
      "text/plain": [
       "['pw', 'skills', 'data', 'science', 'masters']"
      ]
     },
     "execution_count": 44,
     "metadata": {},
     "output_type": "execute_result"
    }
   ],
   "source": [
    "str1='pw skills data science masters'\n",
    "list(str1.split(' '))"
   ]
  },
  {
   "cell_type": "code",
   "execution_count": 47,
   "id": "21cde565-6ca7-4cd1-8166-250bceda43a6",
   "metadata": {},
   "outputs": [],
   "source": [
    "lst1=str1.split(' ')  # split method also return result in the form of list"
   ]
  },
  {
   "cell_type": "code",
   "execution_count": 48,
   "id": "ec5f1ff4-0b5f-4070-be21-991eab679497",
   "metadata": {},
   "outputs": [
    {
     "data": {
      "text/plain": [
       "['pw', 'skills', 'data', 'science', 'masters']"
      ]
     },
     "execution_count": 48,
     "metadata": {},
     "output_type": "execute_result"
    }
   ],
   "source": [
    "lst1"
   ]
  },
  {
   "cell_type": "code",
   "execution_count": 49,
   "id": "03fddc5b-5a64-4ddc-9e9c-3aefd9fbc448",
   "metadata": {},
   "outputs": [
    {
     "data": {
      "text/plain": [
       "'skills'"
      ]
     },
     "execution_count": 49,
     "metadata": {},
     "output_type": "execute_result"
    }
   ],
   "source": [
    "lst1[1]"
   ]
  },
  {
   "cell_type": "code",
   "execution_count": 50,
   "id": "e00af472-82ac-4862-850f-c5a8228a1be5",
   "metadata": {},
   "outputs": [],
   "source": [
    "lst1[2] = 'dataas'"
   ]
  },
  {
   "cell_type": "code",
   "execution_count": 51,
   "id": "c7e596e6-e18e-4d6f-bc71-16ff048404ca",
   "metadata": {},
   "outputs": [
    {
     "data": {
      "text/plain": [
       "['pw', 'skills', 'dataas', 'science', 'masters']"
      ]
     },
     "execution_count": 51,
     "metadata": {},
     "output_type": "execute_result"
    }
   ],
   "source": [
    "lst1"
   ]
  },
  {
   "cell_type": "code",
   "execution_count": 52,
   "id": "3e2ee0c2-81c9-4a11-a856-129f432eae78",
   "metadata": {},
   "outputs": [
    {
     "data": {
      "text/plain": [
       "['pw', 'skills']"
      ]
     },
     "execution_count": 52,
     "metadata": {},
     "output_type": "execute_result"
    }
   ],
   "source": [
    "lst1[:2] # return element till 1st index"
   ]
  },
  {
   "cell_type": "code",
   "execution_count": 53,
   "id": "40f813de-5ece-48f9-a875-960a8d92c419",
   "metadata": {},
   "outputs": [
    {
     "data": {
      "text/plain": [
       "['masters', 'science', 'dataas', 'skills', 'pw']"
      ]
     },
     "execution_count": 53,
     "metadata": {},
     "output_type": "execute_result"
    }
   ],
   "source": [
    "lst1[::-1]  # return reverse of list"
   ]
  },
  {
   "cell_type": "code",
   "execution_count": 54,
   "id": "c52bc194-fc6a-4375-9276-47824bc12b6c",
   "metadata": {},
   "outputs": [
    {
     "data": {
      "text/plain": [
       "['pw', 'skills', 'dataas', 'science']"
      ]
     },
     "execution_count": 54,
     "metadata": {},
     "output_type": "execute_result"
    }
   ],
   "source": [
    "lst1[:-1] # return all element except last "
   ]
  },
  {
   "cell_type": "code",
   "execution_count": 55,
   "id": "6dc623b3-401f-44d1-b28f-7c36ca29cb67",
   "metadata": {},
   "outputs": [
    {
     "data": {
      "text/plain": [
       "['masters', 'dataas', 'pw']"
      ]
     },
     "execution_count": 55,
     "metadata": {},
     "output_type": "execute_result"
    }
   ],
   "source": [
    "lst1[::-2]  # first print last char and then every second char"
   ]
  },
  {
   "cell_type": "code",
   "execution_count": 56,
   "id": "22b2c403-800f-4100-9e4d-427e75c87529",
   "metadata": {},
   "outputs": [
    {
     "data": {
      "text/plain": [
       "['pw']"
      ]
     },
     "execution_count": 56,
     "metadata": {},
     "output_type": "execute_result"
    }
   ],
   "source": [
    "lst1[-5::-2]"
   ]
  },
  {
   "cell_type": "code",
   "execution_count": 57,
   "id": "ef212271-d8b4-40a1-962c-d3ec0cde7b08",
   "metadata": {},
   "outputs": [
    {
     "data": {
      "text/plain": [
       "['skills']"
      ]
     },
     "execution_count": 57,
     "metadata": {},
     "output_type": "execute_result"
    }
   ],
   "source": [
    "lst1[-4::-2]"
   ]
  },
  {
   "cell_type": "code",
   "execution_count": 59,
   "id": "042df986-6a87-4bc1-a97d-66c0cf2c8dd1",
   "metadata": {},
   "outputs": [
    {
     "data": {
      "text/plain": [
       "['science']"
      ]
     },
     "execution_count": 59,
     "metadata": {},
     "output_type": "execute_result"
    }
   ],
   "source": [
    "lst1[-2::-4]"
   ]
  },
  {
   "cell_type": "code",
   "execution_count": 60,
   "id": "dc23dc73-1bea-4e38-ab32-235fd20e98d8",
   "metadata": {},
   "outputs": [
    {
     "data": {
      "text/plain": [
       "['pw', 'skills', 'dataas', 'science', 'masters']"
      ]
     },
     "execution_count": 60,
     "metadata": {},
     "output_type": "execute_result"
    }
   ],
   "source": [
    "lst1"
   ]
  },
  {
   "cell_type": "markdown",
   "id": "ae362a1b-a3cc-4ebf-b7a1-2b86be55bb68",
   "metadata": {},
   "source": [
    "# concatenation"
   ]
  },
  {
   "cell_type": "code",
   "execution_count": 61,
   "id": "afec45a6-bc2e-4a1e-9502-92d3a7dd61cb",
   "metadata": {},
   "outputs": [
    {
     "data": {
      "text/plain": [
       "['pw', 'skills', 'dataas', 'science', 'masters', 'new element', 3]"
      ]
     },
     "execution_count": 61,
     "metadata": {},
     "output_type": "execute_result"
    }
   ],
   "source": [
    "lst1 + ['new element',3]"
   ]
  },
  {
   "cell_type": "code",
   "execution_count": 63,
   "id": "1a845b25-95a4-490c-b976-05787a98d0b3",
   "metadata": {},
   "outputs": [],
   "source": [
    "lst2=lst1 + [['new element',3]]  # multi nested list"
   ]
  },
  {
   "cell_type": "code",
   "execution_count": 64,
   "id": "dd19193a-7264-46fd-9f48-b679761c6ba7",
   "metadata": {},
   "outputs": [
    {
     "data": {
      "text/plain": [
       "['pw', 'skills', 'dataas', 'science', 'masters', ['new element', 3]]"
      ]
     },
     "execution_count": 64,
     "metadata": {},
     "output_type": "execute_result"
    }
   ],
   "source": [
    "lst2"
   ]
  },
  {
   "cell_type": "code",
   "execution_count": 65,
   "id": "8a98f055-a316-41d7-ab70-e2980d91e240",
   "metadata": {},
   "outputs": [
    {
     "data": {
      "text/plain": [
       "['new element', 3]"
      ]
     },
     "execution_count": 65,
     "metadata": {},
     "output_type": "execute_result"
    }
   ],
   "source": [
    "lst2[-1]"
   ]
  },
  {
   "cell_type": "code",
   "execution_count": 67,
   "id": "a92e1c68-b82f-44ff-a3ab-0f16a08274c2",
   "metadata": {},
   "outputs": [
    {
     "data": {
      "text/plain": [
       "'new element'"
      ]
     },
     "execution_count": 67,
     "metadata": {},
     "output_type": "execute_result"
    }
   ],
   "source": [
    "# lst2[-2]\n",
    "lst2[-1][0]"
   ]
  },
  {
   "cell_type": "code",
   "execution_count": 68,
   "id": "2171340f-3ac3-401e-ba5c-abe441405f87",
   "metadata": {},
   "outputs": [
    {
     "data": {
      "text/plain": [
       "['pw', 'skills', 'dataas', 'science', 'masters']"
      ]
     },
     "execution_count": 68,
     "metadata": {},
     "output_type": "execute_result"
    }
   ],
   "source": [
    "lst1"
   ]
  },
  {
   "cell_type": "code",
   "execution_count": 70,
   "id": "e411b153-b216-4bad-aa77-85b952e7bab6",
   "metadata": {},
   "outputs": [
    {
     "data": {
      "text/plain": [
       "['pw',\n",
       " 'skills',\n",
       " 'dataas',\n",
       " 'science',\n",
       " 'masters',\n",
       " 'pw',\n",
       " 'skills',\n",
       " 'dataas',\n",
       " 'science',\n",
       " 'masters']"
      ]
     },
     "execution_count": 70,
     "metadata": {},
     "output_type": "execute_result"
    }
   ],
   "source": [
    "lst1*2  # alll the element get doubled "
   ]
  },
  {
   "cell_type": "code",
   "execution_count": 71,
   "id": "2a68b337-1bcb-4578-bfe7-f176e1606e7a",
   "metadata": {},
   "outputs": [
    {
     "data": {
      "text/plain": [
       "['pw', 'skills', 'dataas', 'science', 'masters']"
      ]
     },
     "execution_count": 71,
     "metadata": {},
     "output_type": "execute_result"
    }
   ],
   "source": [
    "lst1"
   ]
  },
  {
   "cell_type": "code",
   "execution_count": 77,
   "id": "5d8e5f2b-04b4-4fd2-90d2-f48509f4997a",
   "metadata": {},
   "outputs": [
    {
     "name": "stdout",
     "output_type": "stream",
     "text": [
      "absent\n",
      "absent\n",
      "absent\n",
      "science\n",
      "absent\n"
     ]
    }
   ],
   "source": [
    "for i in lst1:\n",
    "    if i=='science':\n",
    "        print(i)\n",
    "    else:\n",
    "        print('absent')"
   ]
  },
  {
   "cell_type": "code",
   "execution_count": 79,
   "id": "dae75d11-9b63-4d9a-93fa-c34e63f22d9d",
   "metadata": {},
   "outputs": [
    {
     "name": "stdout",
     "output_type": "stream",
     "text": [
      "present\n"
     ]
    }
   ],
   "source": [
    "if 'science' in lst1:\n",
    "    print('present')\n",
    "else: \n",
    "    print('not present')"
   ]
  },
  {
   "cell_type": "code",
   "execution_count": 80,
   "id": "ee52455f-e505-4f41-8175-27212526777a",
   "metadata": {},
   "outputs": [
    {
     "name": "stdout",
     "output_type": "stream",
     "text": [
      "science\n"
     ]
    }
   ],
   "source": [
    "for elements in lst1:\n",
    "    if elements=='science':\n",
    "        print(elements)\n",
    "        break"
   ]
  },
  {
   "cell_type": "code",
   "execution_count": 82,
   "id": "fa90e861-1be8-4f14-a962-f32997180f24",
   "metadata": {},
   "outputs": [
    {
     "data": {
      "text/plain": [
       "True"
      ]
     },
     "execution_count": 82,
     "metadata": {},
     "output_type": "execute_result"
    }
   ],
   "source": [
    "# check elements inside the list\n",
    "lst= [1,2,3,4,5]\n",
    "4 in lst"
   ]
  },
  {
   "cell_type": "code",
   "execution_count": 84,
   "id": "d2548e72-46e6-498f-8b78-f48e84964e5a",
   "metadata": {},
   "outputs": [
    {
     "data": {
      "text/plain": [
       "True"
      ]
     },
     "execution_count": 84,
     "metadata": {},
     "output_type": "execute_result"
    }
   ],
   "source": [
    "lst=['manisha','rani','arav','rohan',2,4,5,'true']\n",
    "\n",
    "'manisha' in lst  # present in list"
   ]
  },
  {
   "cell_type": "code",
   "execution_count": 85,
   "id": "c4d103e3-1e8e-4971-bbe6-556b601bdf9b",
   "metadata": {},
   "outputs": [
    {
     "data": {
      "text/plain": [
       "False"
      ]
     },
     "execution_count": 85,
     "metadata": {},
     "output_type": "execute_result"
    }
   ],
   "source": [
    "'sanju' in lst  # not preesent in list"
   ]
  },
  {
   "cell_type": "code",
   "execution_count": 86,
   "id": "4f96d79d-c82a-4470-8c47-794399fbed97",
   "metadata": {},
   "outputs": [
    {
     "name": "stdout",
     "output_type": "stream",
     "text": [
      "zebra\n"
     ]
    }
   ],
   "source": [
    "lst1=['zebra','monkey','donkey','lion']\n",
    "\n",
    "lst2 = [3,5,6,2,9,8]\n",
    "print(max(lst1))  # this will look for ascii character and then\n",
    "# print the word which has maximum value"
   ]
  },
  {
   "cell_type": "code",
   "execution_count": 87,
   "id": "61f44fb4-43d2-414c-8880-62ac3078cee1",
   "metadata": {},
   "outputs": [
    {
     "data": {
      "text/plain": [
       "9"
      ]
     },
     "execution_count": 87,
     "metadata": {},
     "output_type": "execute_result"
    }
   ],
   "source": [
    "max(lst2)"
   ]
  },
  {
   "cell_type": "code",
   "execution_count": 89,
   "id": "7d0e46a4-386f-420e-a385-57d3cea72450",
   "metadata": {},
   "outputs": [
    {
     "data": {
      "text/plain": [
       "2"
      ]
     },
     "execution_count": 89,
     "metadata": {},
     "output_type": "execute_result"
    }
   ],
   "source": [
    "min(lst2)"
   ]
  },
  {
   "cell_type": "code",
   "execution_count": 88,
   "id": "0d7c9bee-40d8-443c-a5f9-7392dcbc1872",
   "metadata": {},
   "outputs": [
    {
     "data": {
      "text/plain": [
       "'donkey'"
      ]
     },
     "execution_count": 88,
     "metadata": {},
     "output_type": "execute_result"
    }
   ],
   "source": [
    "min(lst1)"
   ]
  },
  {
   "cell_type": "code",
   "execution_count": 92,
   "id": "1d3172c7-580c-47fb-964f-07676210c480",
   "metadata": {},
   "outputs": [
    {
     "data": {
      "text/plain": [
       "True"
      ]
     },
     "execution_count": 92,
     "metadata": {},
     "output_type": "execute_result"
    }
   ],
   "source": [
    "1.99999999999999999999 in [2,4,5]"
   ]
  },
  {
   "cell_type": "code",
   "execution_count": 93,
   "id": "26e8bc6d-350b-48cb-9628-a965783a3cfb",
   "metadata": {},
   "outputs": [
    {
     "data": {
      "text/plain": [
       "True"
      ]
     },
     "execution_count": 93,
     "metadata": {},
     "output_type": "execute_result"
    }
   ],
   "source": [
    "5 ==5.0"
   ]
  },
  {
   "cell_type": "code",
   "execution_count": 94,
   "id": "5a29f6b7-5cdd-4cfd-b810-3328cc16d30f",
   "metadata": {},
   "outputs": [],
   "source": [
    "# Append\n",
    "\n",
    "lst3 =[5,6,2,9,5,8,6]\n",
    "type(lst3[0])  ## output is integer\n",
    "type(5.0) ## output is float\n",
    "5.0 in lst3 ## output is true\n",
    "\n",
    "\n",
    "lst=[1,2,3,4,5,6]\n"
   ]
  },
  {
   "cell_type": "code",
   "execution_count": 95,
   "id": "b4612a9e-7865-4f4e-8379-c67a68d9159c",
   "metadata": {},
   "outputs": [],
   "source": [
    "lst.append('pwskills')"
   ]
  },
  {
   "cell_type": "code",
   "execution_count": 96,
   "id": "5bce50d2-ee89-4ffe-a58c-66e454a924de",
   "metadata": {},
   "outputs": [
    {
     "data": {
      "text/plain": [
       "[1, 2, 3, 4, 5, 6, 'pwskills']"
      ]
     },
     "execution_count": 96,
     "metadata": {},
     "output_type": "execute_result"
    }
   ],
   "source": [
    "lst"
   ]
  },
  {
   "cell_type": "code",
   "execution_count": 97,
   "id": "c34d7512-1204-4d7c-b2fb-a9a73d713ea5",
   "metadata": {},
   "outputs": [],
   "source": [
    "lst.append(['data','science','masters'])"
   ]
  },
  {
   "cell_type": "code",
   "execution_count": 98,
   "id": "dac4db42-788a-4032-bd41-d1a5b8ee268a",
   "metadata": {},
   "outputs": [
    {
     "data": {
      "text/plain": [
       "[1, 2, 3, 4, 5, 6, 'pwskills', ['data', 'science', 'masters']]"
      ]
     },
     "execution_count": 98,
     "metadata": {},
     "output_type": "execute_result"
    }
   ],
   "source": [
    "lst"
   ]
  },
  {
   "cell_type": "code",
   "execution_count": 99,
   "id": "6ca3f91f-f92a-43a9-8e5f-122845e71632",
   "metadata": {},
   "outputs": [
    {
     "data": {
      "text/plain": [
       "['zebra', 'monkey', 'donkey', 'lion']"
      ]
     },
     "execution_count": 99,
     "metadata": {},
     "output_type": "execute_result"
    }
   ],
   "source": [
    "lst1"
   ]
  },
  {
   "cell_type": "code",
   "execution_count": 101,
   "id": "032a7687-aa7c-4979-a5cb-4e10d6fbe445",
   "metadata": {},
   "outputs": [
    {
     "data": {
      "text/plain": [
       "'lion'"
      ]
     },
     "execution_count": 101,
     "metadata": {},
     "output_type": "execute_result"
    }
   ],
   "source": [
    "lst1.pop()"
   ]
  },
  {
   "cell_type": "code",
   "execution_count": 102,
   "id": "5ee48c71-030f-44f2-8fbf-87dcdb5e2751",
   "metadata": {},
   "outputs": [
    {
     "data": {
      "text/plain": [
       "['zebra', 'monkey', 'donkey']"
      ]
     },
     "execution_count": 102,
     "metadata": {},
     "output_type": "execute_result"
    }
   ],
   "source": [
    "lst1"
   ]
  },
  {
   "cell_type": "code",
   "execution_count": 103,
   "id": "71d6dfbb-4684-48f3-8c30-634416772a39",
   "metadata": {},
   "outputs": [
    {
     "data": {
      "text/plain": [
       "'donkey'"
      ]
     },
     "execution_count": 103,
     "metadata": {},
     "output_type": "execute_result"
    }
   ],
   "source": [
    "lst1.pop()"
   ]
  },
  {
   "cell_type": "code",
   "execution_count": 104,
   "id": "3a97db5e-2797-49b6-b81e-424d639edc85",
   "metadata": {},
   "outputs": [
    {
     "data": {
      "text/plain": [
       "['zebra', 'monkey']"
      ]
     },
     "execution_count": 104,
     "metadata": {},
     "output_type": "execute_result"
    }
   ],
   "source": [
    "lst1"
   ]
  },
  {
   "cell_type": "code",
   "execution_count": 5,
   "id": "8c252fbb-a739-4367-9381-54313cd96d59",
   "metadata": {},
   "outputs": [],
   "source": [
    "lst1=['zebra', 'monkey', 'donkey', 'lion']"
   ]
  },
  {
   "cell_type": "code",
   "execution_count": 6,
   "id": "9a9fa476-e3ab-44de-8119-92865dfbafef",
   "metadata": {},
   "outputs": [
    {
     "data": {
      "text/plain": [
       "'lion'"
      ]
     },
     "execution_count": 6,
     "metadata": {},
     "output_type": "execute_result"
    }
   ],
   "source": [
    "removed_element = lst1.pop()\n",
    "removed_element"
   ]
  },
  {
   "cell_type": "code",
   "execution_count": 7,
   "id": "0ede4814-057d-4138-9a7a-f0bbb4bb1ce4",
   "metadata": {},
   "outputs": [
    {
     "data": {
      "text/plain": [
       "['zebra', 'monkey', 'donkey']"
      ]
     },
     "execution_count": 7,
     "metadata": {},
     "output_type": "execute_result"
    }
   ],
   "source": [
    "lst1"
   ]
  },
  {
   "cell_type": "code",
   "execution_count": 8,
   "id": "5493c4b7-ebb6-4309-8c33-b9e8e1582dd8",
   "metadata": {},
   "outputs": [
    {
     "data": {
      "text/plain": [
       "['q', 'e', 'f', 's', 't', 'u']"
      ]
     },
     "execution_count": 8,
     "metadata": {},
     "output_type": "execute_result"
    }
   ],
   "source": [
    "# sorting and reverse method in list\n",
    "new_list = ['q','e','f','s','t','u']\n",
    "new_list"
   ]
  },
  {
   "cell_type": "code",
   "execution_count": 9,
   "id": "7ce2e750-e3a6-4a29-ae87-10ad905f2aff",
   "metadata": {},
   "outputs": [
    {
     "data": {
      "text/plain": [
       "['u', 't', 's', 'f', 'e', 'q']"
      ]
     },
     "execution_count": 9,
     "metadata": {},
     "output_type": "execute_result"
    }
   ],
   "source": [
    "new_list[::-1]"
   ]
  },
  {
   "cell_type": "code",
   "execution_count": 10,
   "id": "a7f85434-5564-4dfe-8ccf-39c4ce0e47ae",
   "metadata": {},
   "outputs": [],
   "source": [
    "new_list.reverse()"
   ]
  },
  {
   "cell_type": "code",
   "execution_count": 11,
   "id": "7b5193fe-16cb-4dd2-a41f-c819660b5945",
   "metadata": {},
   "outputs": [
    {
     "data": {
      "text/plain": [
       "['u', 't', 's', 'f', 'e', 'q']"
      ]
     },
     "execution_count": 11,
     "metadata": {},
     "output_type": "execute_result"
    }
   ],
   "source": [
    "new_list"
   ]
  },
  {
   "cell_type": "code",
   "execution_count": 12,
   "id": "f9d27ee1-276f-487b-b83b-00846fe0b9c0",
   "metadata": {},
   "outputs": [],
   "source": [
    "new_list.sort()"
   ]
  },
  {
   "cell_type": "code",
   "execution_count": 13,
   "id": "88b4e829-c5b8-4ea2-b91a-5528439fad95",
   "metadata": {},
   "outputs": [
    {
     "data": {
      "text/plain": [
       "['e', 'f', 'q', 's', 't', 'u']"
      ]
     },
     "execution_count": 13,
     "metadata": {},
     "output_type": "execute_result"
    }
   ],
   "source": [
    "new_list"
   ]
  },
  {
   "cell_type": "code",
   "execution_count": 14,
   "id": "f2b5fb34-037e-433d-ad5c-1bf6e7bfe0bb",
   "metadata": {},
   "outputs": [],
   "source": [
    "\n",
    "lst = [1,2,3,4,5,6]\n",
    "lst.append(10)\n"
   ]
  },
  {
   "cell_type": "code",
   "execution_count": 15,
   "id": "3be54eff-2e63-4c36-b324-280794b26d6a",
   "metadata": {},
   "outputs": [
    {
     "data": {
      "text/plain": [
       "[1, 2, 3, 4, 5, 6, 10]"
      ]
     },
     "execution_count": 15,
     "metadata": {},
     "output_type": "execute_result"
    }
   ],
   "source": [
    "lst"
   ]
  },
  {
   "cell_type": "code",
   "execution_count": 16,
   "id": "afbc4809-61cf-426a-890a-cb5634f53568",
   "metadata": {},
   "outputs": [],
   "source": [
    "lst.append(['ps2','skills'])  # it add element in nested list"
   ]
  },
  {
   "cell_type": "code",
   "execution_count": 17,
   "id": "b2f59026-bcce-4c3d-8966-a34ea18b24a7",
   "metadata": {},
   "outputs": [
    {
     "data": {
      "text/plain": [
       "[1, 2, 3, 4, 5, 6, 10, ['ps2', 'skills']]"
      ]
     },
     "execution_count": 17,
     "metadata": {},
     "output_type": "execute_result"
    }
   ],
   "source": [
    "lst"
   ]
  },
  {
   "cell_type": "code",
   "execution_count": 18,
   "id": "6eff2f8a-fa67-43c5-8c88-d5150716b9f0",
   "metadata": {},
   "outputs": [],
   "source": [
    "lst.extend(['pw','skills'])  # it add element in same list "
   ]
  },
  {
   "cell_type": "code",
   "execution_count": 19,
   "id": "14c39b71-e347-4395-aba1-b0ac63a65b79",
   "metadata": {},
   "outputs": [
    {
     "data": {
      "text/plain": [
       "[1, 2, 3, 4, 5, 6, 10, ['ps2', 'skills'], 'pw', 'skills']"
      ]
     },
     "execution_count": 19,
     "metadata": {},
     "output_type": "execute_result"
    }
   ],
   "source": [
    "lst"
   ]
  },
  {
   "cell_type": "markdown",
   "id": "83f0be53-fd2a-4056-a78f-481bc8be850b",
   "metadata": {},
   "source": [
    "# nested list"
   ]
  },
  {
   "cell_type": "code",
   "execution_count": 21,
   "id": "441bb3a6-656f-4e4b-b0dd-9e118a8ae881",
   "metadata": {},
   "outputs": [
    {
     "data": {
      "text/plain": [
       "[[1, 2, 3], [4, 5, 6], [7, 8, 9]]"
      ]
     },
     "execution_count": 21,
     "metadata": {},
     "output_type": "execute_result"
    }
   ],
   "source": [
    "# let's make three lists\n",
    "lst_1 = [1,2,3]\n",
    "lst_2 = [4,5,6]\n",
    "lst_3 = [7,8,9]\n",
    "\n",
    "# make a list of lists to form a matrix\n",
    "matrix = [lst_1,lst_2,lst_3]\n",
    "matrix"
   ]
  },
  {
   "cell_type": "code",
   "execution_count": 25,
   "id": "39e69eb5-f0c5-42d7-a11c-e9dce7c8186e",
   "metadata": {},
   "outputs": [
    {
     "data": {
      "text/plain": [
       "6"
      ]
     },
     "execution_count": 25,
     "metadata": {},
     "output_type": "execute_result"
    }
   ],
   "source": [
    "matrix[-2][2]"
   ]
  },
  {
   "cell_type": "code",
   "execution_count": 26,
   "id": "d5a3365c-80e9-4d47-8f4c-4c2729439447",
   "metadata": {},
   "outputs": [
    {
     "data": {
      "text/plain": [
       "6"
      ]
     },
     "execution_count": 26,
     "metadata": {},
     "output_type": "execute_result"
    }
   ],
   "source": [
    "matrix[1][2]"
   ]
  },
  {
   "cell_type": "code",
   "execution_count": 30,
   "id": "c3f5996d-0890-4701-bcbd-1d9da7bc5f87",
   "metadata": {},
   "outputs": [
    {
     "data": {
      "text/plain": [
       "[8, 9]"
      ]
     },
     "execution_count": 30,
     "metadata": {},
     "output_type": "execute_result"
    }
   ],
   "source": [
    "matrix[-1][1:]"
   ]
  },
  {
   "cell_type": "code",
   "execution_count": 34,
   "id": "5f1f27aa-58ae-482e-ba80-204140b230cf",
   "metadata": {},
   "outputs": [
    {
     "data": {
      "text/plain": [
       "[8, 9]"
      ]
     },
     "execution_count": 34,
     "metadata": {},
     "output_type": "execute_result"
    }
   ],
   "source": [
    "matrix[2][1:]"
   ]
  },
  {
   "cell_type": "code",
   "execution_count": 39,
   "id": "853f25bb-d28e-46bc-a85b-de97895e1fb1",
   "metadata": {},
   "outputs": [
    {
     "name": "stdout",
     "output_type": "stream",
     "text": [
      "012345678910111213141516171819"
     ]
    }
   ],
   "source": [
    "for i in range(20):\n",
    "    print(i,end='')"
   ]
  },
  {
   "cell_type": "code",
   "execution_count": 37,
   "id": "e7bcda51-d2a3-4441-bbc8-d9f81eb6994c",
   "metadata": {},
   "outputs": [
    {
     "data": {
      "text/plain": [
       "[0, 1, 2, 3, 4, 5, 6, 7, 8, 9, 10, 11, 12, 13, 14, 15, 16, 17, 18, 19]"
      ]
     },
     "execution_count": 37,
     "metadata": {},
     "output_type": "execute_result"
    }
   ],
   "source": [
    "# list comprehension\n",
    "\n",
    "[i for i in range(20)]"
   ]
  },
  {
   "cell_type": "code",
   "execution_count": 44,
   "id": "dc113490-6928-4439-9163-77103265fb6a",
   "metadata": {},
   "outputs": [
    {
     "data": {
      "text/plain": [
       "[0,\n",
       " 'odd',\n",
       " 2,\n",
       " 'odd',\n",
       " 4,\n",
       " 'odd',\n",
       " 6,\n",
       " 'odd',\n",
       " 8,\n",
       " 'odd',\n",
       " 10,\n",
       " 'odd',\n",
       " 12,\n",
       " 'odd',\n",
       " 14,\n",
       " 'odd',\n",
       " 16,\n",
       " 'odd',\n",
       " 18,\n",
       " 'odd']"
      ]
     },
     "execution_count": 44,
     "metadata": {},
     "output_type": "execute_result"
    }
   ],
   "source": [
    "# even numbers\n",
    "[i if i%2==0 else 'odd' for i in range(20)]"
   ]
  },
  {
   "cell_type": "code",
   "execution_count": 47,
   "id": "2b4ed4c4-6cf5-4e9e-9289-1fc45a77b12e",
   "metadata": {},
   "outputs": [
    {
     "data": {
      "text/plain": [
       "[0, '', 2, '', 4, '', 6, '', 8, '', 10, '', 12, '', 14, '', 16, '', 18, '']"
      ]
     },
     "execution_count": 47,
     "metadata": {},
     "output_type": "execute_result"
    }
   ],
   "source": [
    "[i if i%2==0 else '' for i in range(20)]"
   ]
  },
  {
   "cell_type": "code",
   "execution_count": 62,
   "id": "7095f389-88ba-4266-b38f-db2cb54f0ca6",
   "metadata": {},
   "outputs": [
    {
     "name": "stdout",
     "output_type": "stream",
     "text": [
      "20\n",
      "16\n"
     ]
    }
   ],
   "source": [
    "lst = [1,2,3,4,5,6,7,8]\n",
    "# sum of even no and odd no\n",
    "even_sum =0\n",
    "odd_sum =0\n",
    "for i in lst:\n",
    "    if i%2==0:\n",
    "        even_sum +=i\n",
    "    else:\n",
    "        odd_sum +=i\n",
    "print(even_sum)\n",
    "print(odd_sum)\n",
    "\n",
    "        "
   ]
  },
  {
   "cell_type": "code",
   "execution_count": 64,
   "id": "fa0c5032-5931-4285-a084-2c032e72d22b",
   "metadata": {},
   "outputs": [
    {
     "name": "stdout",
     "output_type": "stream",
     "text": [
      "227\n",
      "538\n"
     ]
    }
   ],
   "source": [
    "list =[12,32,5,54,44,43,34,77,76,54,55,54,47,80,98]\n",
    "# sum of even and odd no\n",
    "sum_even =0\n",
    "sum_odd =0\n",
    "for i in list:\n",
    "    if i%2==0:\n",
    "        sum_even +=i\n",
    "    else:\n",
    "        sum_odd +=i\n",
    "print(sum_odd)\n",
    "print(sum_even)"
   ]
  },
  {
   "cell_type": "code",
   "execution_count": 65,
   "id": "a9b9122e-e706-4246-8487-1215a917c92e",
   "metadata": {},
   "outputs": [
    {
     "name": "stdout",
     "output_type": "stream",
     "text": [
      "the sum of even no = 538\n",
      "the sum of odd no = 1226\n"
     ]
    }
   ],
   "source": [
    "list =[12,32,999,5,54,44,43,34,77,76,54,55,54,47,80,98]\n",
    "\n",
    "# find the sum of even and odd nos\n",
    "sum_even=0\n",
    "sum_odd =0\n",
    "for i in list:\n",
    "    if i%2==0:\n",
    "        sum_even +=i\n",
    "    else:\n",
    "        sum_odd +=i\n",
    "print('the sum of even no =',sum_even)\n",
    "print('the sum of odd no =',sum_odd)"
   ]
  },
  {
   "cell_type": "code",
   "execution_count": 68,
   "id": "04d612cf-9fa2-4de0-8eb1-88cc34d32964",
   "metadata": {},
   "outputs": [
    {
     "data": {
      "text/plain": [
       "[12, 32, 54, 44, 34, 76, 54, 54, 80, 98]"
      ]
     },
     "execution_count": 68,
     "metadata": {},
     "output_type": "execute_result"
    }
   ],
   "source": [
    "[num for num in list if num%2==0  ]"
   ]
  },
  {
   "cell_type": "code",
   "execution_count": null,
   "id": "1ae23b69-7aff-46e6-bd19-66bbcdcc2c5a",
   "metadata": {},
   "outputs": [],
   "source": []
  },
  {
   "cell_type": "code",
   "execution_count": 82,
   "id": "3144dba1-0460-4fd3-95c9-9d119cb76229",
   "metadata": {},
   "outputs": [
    {
     "data": {
      "text/plain": [
       "1226"
      ]
     },
     "execution_count": 82,
     "metadata": {},
     "output_type": "execute_result"
    }
   ],
   "source": [
    "odd_sum = sum([num for num in list if num%2!=0 ])\n",
    "odd_sum"
   ]
  },
  {
   "cell_type": "code",
   "execution_count": 78,
   "id": "a62c0a0a-2d49-496c-8bae-a9c0100b7a23",
   "metadata": {},
   "outputs": [
    {
     "data": {
      "text/plain": [
       "538"
      ]
     },
     "execution_count": 78,
     "metadata": {},
     "output_type": "execute_result"
    }
   ],
   "source": [
    "even_sum=sum([num for num in list if num%2==0])\n",
    "even_sum    "
   ]
  },
  {
   "cell_type": "code",
   "execution_count": 87,
   "id": "5cc21419-b87b-4e0e-938c-8bd9f2ee7133",
   "metadata": {},
   "outputs": [
    {
     "data": {
      "text/plain": [
       "[144,\n",
       " 1024,\n",
       " 998001,\n",
       " 25,\n",
       " 2916,\n",
       " 1936,\n",
       " 1849,\n",
       " 1156,\n",
       " 5929,\n",
       " 5776,\n",
       " 2916,\n",
       " 3025,\n",
       " 2916,\n",
       " 2209,\n",
       " 6400,\n",
       " 9604]"
      ]
     },
     "execution_count": 87,
     "metadata": {},
     "output_type": "execute_result"
    }
   ],
   "source": [
    "[num**2  for num in list ]"
   ]
  },
  {
   "cell_type": "code",
   "execution_count": 89,
   "id": "7e721437-ca07-435f-8013-6b0bd1228df1",
   "metadata": {},
   "outputs": [
    {
     "data": {
      "text/plain": [
       "1045826"
      ]
     },
     "execution_count": 89,
     "metadata": {},
     "output_type": "execute_result"
    }
   ],
   "source": [
    "sum_of_square = sum([num**2 for num in list])\n",
    "sum_of_square"
   ]
  },
  {
   "cell_type": "code",
   "execution_count": 91,
   "id": "0bc51865-20f0-4f69-899d-b896082ebe87",
   "metadata": {},
   "outputs": [
    {
     "data": {
      "text/plain": [
       "1000332906"
      ]
     },
     "execution_count": 91,
     "metadata": {},
     "output_type": "execute_result"
    }
   ],
   "source": [
    "sum_of_cube = sum([num**3 for num in list])\n",
    "sum_of_cube"
   ]
  },
  {
   "cell_type": "code",
   "execution_count": 93,
   "id": "166fc980-fbec-4341-8a10-b246f49bb5ea",
   "metadata": {},
   "outputs": [
    {
     "data": {
      "text/plain": [
       "[1, 2, 3, 4]"
      ]
     },
     "execution_count": 93,
     "metadata": {},
     "output_type": "execute_result"
    }
   ],
   "source": [
    "# example2 : create a list of only the positive numbers from a given list\n",
    "\n",
    "number = [-2,-1,0,1,2,3,4]\n",
    "[number for number in number if number>0 ]"
   ]
  },
  {
   "cell_type": "code",
   "execution_count": 94,
   "id": "4cc9155f-5de7-4269-9d7e-52fdb5ef51ac",
   "metadata": {},
   "outputs": [
    {
     "data": {
      "text/plain": [
       "[-2, -1]"
      ]
     },
     "execution_count": 94,
     "metadata": {},
     "output_type": "execute_result"
    }
   ],
   "source": [
    "[num for num in number if num<0]"
   ]
  },
  {
   "cell_type": "code",
   "execution_count": 95,
   "id": "936e252a-22b0-4c4f-b4da-670401e010b1",
   "metadata": {},
   "outputs": [
    {
     "data": {
      "text/plain": [
       "[0]"
      ]
     },
     "execution_count": 95,
     "metadata": {},
     "output_type": "execute_result"
    }
   ],
   "source": [
    "[num for num in number if num==0]"
   ]
  },
  {
   "cell_type": "code",
   "execution_count": 97,
   "id": "fa7b75c3-de0f-478f-a193-9ce06b52aa09",
   "metadata": {},
   "outputs": [
    {
     "data": {
      "text/plain": [
       "['a', 'b', 'c', 'd']"
      ]
     },
     "execution_count": 97,
     "metadata": {},
     "output_type": "execute_result"
    }
   ],
   "source": [
    "# example3..create a list of only the first letters of words in a list\n",
    "words = ['apple','banana','cherry','date']\n",
    "\n",
    "[word[0] for word in words]"
   ]
  },
  {
   "cell_type": "code",
   "execution_count": 98,
   "id": "35e2ade1-0710-4d69-8701-cf6274f99a91",
   "metadata": {},
   "outputs": [
    {
     "data": {
      "text/plain": [
       "['p', 'a', 'h', 'a']"
      ]
     },
     "execution_count": 98,
     "metadata": {},
     "output_type": "execute_result"
    }
   ],
   "source": [
    "[word[1] for word in words]"
   ]
  },
  {
   "cell_type": "code",
   "execution_count": 99,
   "id": "6fb959e7-e71f-4feb-8f28-c7737f9881f7",
   "metadata": {},
   "outputs": [
    {
     "data": {
      "text/plain": [
       "['p', 'n', 'e', 't']"
      ]
     },
     "execution_count": 99,
     "metadata": {},
     "output_type": "execute_result"
    }
   ],
   "source": [
    "[word[2] for word in words]"
   ]
  },
  {
   "cell_type": "code",
   "execution_count": 102,
   "id": "55afbd48-8efe-4a8e-849d-ad925627ff4a",
   "metadata": {},
   "outputs": [
    {
     "data": {
      "text/plain": [
       "[32.0, 50.0, 53.6, 109.4, 68.0, 86.0, 104.0, 122.0]"
      ]
     },
     "execution_count": 102,
     "metadata": {},
     "output_type": "execute_result"
    }
   ],
   "source": [
    "# (9/5)*temp +32\n",
    "\n",
    "# example4.. convert a list of temperature from celsius to fahrenheit\n",
    "\n",
    "celsius_temperature = [0,10,12,43,20,30,40,50]\n",
    "\n",
    "[(9/5)*temp+32 for temp in celsius_temperature]"
   ]
  },
  {
   "cell_type": "code",
   "execution_count": 103,
   "id": "b435dec0-d04d-4513-9a73-8d88f22ffd91",
   "metadata": {},
   "outputs": [
    {
     "data": {
      "text/plain": [
       "[32.0, 50.0, 53.6, 109.4, 68.0, 86.0, 104.0, 122.0]"
      ]
     },
     "execution_count": 103,
     "metadata": {},
     "output_type": "execute_result"
    }
   ],
   "source": [
    "[(9/5)*temp +32 for temp in celsius_temperature]"
   ]
  },
  {
   "cell_type": "code",
   "execution_count": 104,
   "id": "c074886d-f828-4414-9a35-91bad316d22f",
   "metadata": {},
   "outputs": [
    {
     "data": {
      "text/plain": [
       "[273, 283, 285, 316, 293, 303, 313, 323]"
      ]
     },
     "execution_count": 104,
     "metadata": {},
     "output_type": "execute_result"
    }
   ],
   "source": [
    "# example no 5 convert celsius to kelvin\n",
    "# k=273+c\n",
    "\n",
    "[273+c for c in celsius_temperature]"
   ]
  },
  {
   "cell_type": "code",
   "execution_count": 106,
   "id": "fa493a34-48be-4b5c-97c4-037725c930de",
   "metadata": {},
   "outputs": [
    {
     "data": {
      "text/plain": [
       "[1, 2, 3, 4, 5, 6, 7, 8, 9]"
      ]
     },
     "execution_count": 106,
     "metadata": {},
     "output_type": "execute_result"
    }
   ],
   "source": [
    "# example 6 ..Flatten a list of lists into single list\n",
    "list = [[1,2,3],[4,5,6],[7,8,9]]\n",
    "\n",
    "[num for sublist in list for num in sublist]"
   ]
  },
  {
   "cell_type": "code",
   "execution_count": 107,
   "id": "560415d1-a452-48ab-a63b-1240d7383027",
   "metadata": {},
   "outputs": [
    {
     "data": {
      "text/plain": [
       "[1, 2, 3, 4, 5, 6, 7, 8, 9]"
      ]
     },
     "execution_count": 107,
     "metadata": {},
     "output_type": "execute_result"
    }
   ],
   "source": [
    "list= [[1,2,3],[4,5,6],[7,8,9]]\n",
    "\n",
    "[num for sublist in list for num in sublist]"
   ]
  },
  {
   "cell_type": "code",
   "execution_count": 109,
   "id": "6c23df83-14d5-4d3c-8c68-673e4c865591",
   "metadata": {},
   "outputs": [
    {
     "data": {
      "text/plain": [
       "[1, 3, 5, 7, 9]"
      ]
     },
     "execution_count": 109,
     "metadata": {},
     "output_type": "execute_result"
    }
   ],
   "source": [
    "## assignments\n",
    "# example1 create a list of only the prime numbers from a given list\n",
    "numbers= [1,2,3,4,5,6,7,8,9,10]\n",
    "\n",
    "# example2 create a list of all the possible combination of 2 elements from a list\n",
    "number=[1,2,3,4,5]\n"
   ]
  },
  {
   "cell_type": "markdown",
   "id": "bf6d1fe3-3cce-48dd-965f-6f02dafc3409",
   "metadata": {},
   "source": [
    "# tuples"
   ]
  },
  {
   "cell_type": "code",
   "execution_count": 1,
   "id": "b61fbfe5-8b21-4e9a-91d3-9524fa3928f1",
   "metadata": {},
   "outputs": [
    {
     "data": {
      "text/plain": [
       "tuple"
      ]
     },
     "execution_count": 1,
     "metadata": {},
     "output_type": "execute_result"
    }
   ],
   "source": [
    "# Tuples\n",
    "t=()\n",
    "type(t)"
   ]
  },
  {
   "cell_type": "code",
   "execution_count": 3,
   "id": "ac002ec2-fd36-4a7a-900e-b7a05f3f0751",
   "metadata": {},
   "outputs": [
    {
     "data": {
      "text/plain": [
       "tuple"
      ]
     },
     "execution_count": 3,
     "metadata": {},
     "output_type": "execute_result"
    }
   ],
   "source": [
    "t1 =(1,3,3,43.4,45+4j,'sudh',True)\n",
    "type(t1)"
   ]
  },
  {
   "cell_type": "code",
   "execution_count": 6,
   "id": "21f04197-6e32-4d59-930b-70236fc03bcf",
   "metadata": {},
   "outputs": [
    {
     "data": {
      "text/plain": [
       "(1, 3, 3, 43.4, (45+4j), 'sudh', True)"
      ]
     },
     "execution_count": 6,
     "metadata": {},
     "output_type": "execute_result"
    }
   ],
   "source": [
    "l=[1,23,43,5]\n",
    "type(l)\n",
    "# tuple have () parenthesis,but list has [],square parenthesis\n",
    "# we can store multiple data type in a tuple as well as list\n",
    " # tuple have index starting  from 0\n",
    "t1"
   ]
  },
  {
   "cell_type": "code",
   "execution_count": 7,
   "id": "778ee1b4-b1bf-4311-93c9-ea5a9a433a47",
   "metadata": {},
   "outputs": [
    {
     "data": {
      "text/plain": [
       "1"
      ]
     },
     "execution_count": 7,
     "metadata": {},
     "output_type": "execute_result"
    }
   ],
   "source": [
    "t1[0]"
   ]
  },
  {
   "cell_type": "code",
   "execution_count": 8,
   "id": "26cb9bfc-6e9d-4808-9afa-74cb8a1e7d20",
   "metadata": {},
   "outputs": [
    {
     "data": {
      "text/plain": [
       "(45+4j)"
      ]
     },
     "execution_count": 8,
     "metadata": {},
     "output_type": "execute_result"
    }
   ],
   "source": [
    "t1[4]"
   ]
  },
  {
   "cell_type": "code",
   "execution_count": 9,
   "id": "5aeed6dd-faeb-4353-998f-766b9b0db97e",
   "metadata": {},
   "outputs": [
    {
     "data": {
      "text/plain": [
       "(True, 'sudh', (45+4j), 43.4, 3, 3, 1)"
      ]
     },
     "execution_count": 9,
     "metadata": {},
     "output_type": "execute_result"
    }
   ],
   "source": [
    "t1[::-1] # extract in reverse form"
   ]
  },
  {
   "cell_type": "code",
   "execution_count": 10,
   "id": "9be73951-b7b9-4551-92f1-f127bd9be626",
   "metadata": {},
   "outputs": [],
   "source": [
    "t1= t1[::-1]"
   ]
  },
  {
   "cell_type": "code",
   "execution_count": 11,
   "id": "b82c3119-3beb-46cd-924c-6d73299360e7",
   "metadata": {},
   "outputs": [
    {
     "data": {
      "text/plain": [
       "(True, 'sudh', (45+4j), 43.4, 3, 3, 1)"
      ]
     },
     "execution_count": 11,
     "metadata": {},
     "output_type": "execute_result"
    }
   ],
   "source": [
    "t1"
   ]
  },
  {
   "cell_type": "code",
   "execution_count": 12,
   "id": "a4357a06-2a72-4a6f-a6f2-5ed6801483ef",
   "metadata": {},
   "outputs": [
    {
     "data": {
      "text/plain": [
       "(True, 'sudh', (45+4j))"
      ]
     },
     "execution_count": 12,
     "metadata": {},
     "output_type": "execute_result"
    }
   ],
   "source": [
    "t1[0:3]"
   ]
  },
  {
   "cell_type": "code",
   "execution_count": 13,
   "id": "f23532cc-4096-4ed0-b174-506795a5dd0c",
   "metadata": {},
   "outputs": [
    {
     "data": {
      "text/plain": [
       "(True, 'sudh', (45+4j), 43.4, 3, 3)"
      ]
     },
     "execution_count": 13,
     "metadata": {},
     "output_type": "execute_result"
    }
   ],
   "source": [
    "t1[:-1]"
   ]
  },
  {
   "cell_type": "code",
   "execution_count": 14,
   "id": "8674a626-2a42-4d45-bf3b-f00743ad298f",
   "metadata": {},
   "outputs": [
    {
     "data": {
      "text/plain": [
       "2"
      ]
     },
     "execution_count": 14,
     "metadata": {},
     "output_type": "execute_result"
    }
   ],
   "source": [
    "t1.count(3)  # there is only two inbuilt method count and index"
   ]
  },
  {
   "cell_type": "code",
   "execution_count": 15,
   "id": "b287df1a-352d-44c9-8607-a03c6708c972",
   "metadata": {},
   "outputs": [
    {
     "data": {
      "text/plain": [
       "4"
      ]
     },
     "execution_count": 15,
     "metadata": {},
     "output_type": "execute_result"
    }
   ],
   "source": [
    "t1.index(3)"
   ]
  },
  {
   "cell_type": "code",
   "execution_count": 16,
   "id": "4a8ee33a-ca2a-48e1-aa9b-79b75b7cc8dc",
   "metadata": {},
   "outputs": [
    {
     "data": {
      "text/plain": [
       "0"
      ]
     },
     "execution_count": 16,
     "metadata": {},
     "output_type": "execute_result"
    }
   ],
   "source": [
    "t1.count('abc')"
   ]
  },
  {
   "cell_type": "code",
   "execution_count": 17,
   "id": "104a325a-9cf3-4ee2-b740-d0a586cb9cfd",
   "metadata": {},
   "outputs": [
    {
     "data": {
      "text/plain": [
       "0"
      ]
     },
     "execution_count": 17,
     "metadata": {},
     "output_type": "execute_result"
    }
   ],
   "source": [
    "t1.index(1)"
   ]
  },
  {
   "cell_type": "code",
   "execution_count": 21,
   "id": "9823276d-97ef-45a7-a124-94fe521090bd",
   "metadata": {},
   "outputs": [
    {
     "data": {
      "text/plain": [
       "(True, 'sudh', (45+4j), 43.4, 3, 3, 1)"
      ]
     },
     "execution_count": 21,
     "metadata": {},
     "output_type": "execute_result"
    }
   ],
   "source": [
    "t1"
   ]
  },
  {
   "cell_type": "code",
   "execution_count": 22,
   "id": "748ca3f8-1c8a-49f4-ba22-a4370b69f4c0",
   "metadata": {},
   "outputs": [
    {
     "data": {
      "text/plain": [
       "1"
      ]
     },
     "execution_count": 22,
     "metadata": {},
     "output_type": "execute_result"
    }
   ],
   "source": [
    "t1.index('sudh')"
   ]
  },
  {
   "cell_type": "code",
   "execution_count": 23,
   "id": "abfab16f-cac3-47c6-9586-2003b937b8c1",
   "metadata": {},
   "outputs": [
    {
     "data": {
      "text/plain": [
       "1"
      ]
     },
     "execution_count": 23,
     "metadata": {},
     "output_type": "execute_result"
    }
   ],
   "source": [
    "t1.index('sudh')"
   ]
  },
  {
   "cell_type": "code",
   "execution_count": 24,
   "id": "8c8074bf-bc08-478c-a8b7-22b8bc62d564",
   "metadata": {},
   "outputs": [
    {
     "data": {
      "text/plain": [
       "2"
      ]
     },
     "execution_count": 24,
     "metadata": {},
     "output_type": "execute_result"
    }
   ],
   "source": [
    "t1.count(True)"
   ]
  },
  {
   "cell_type": "code",
   "execution_count": 25,
   "id": "d54e91ce-6a6d-45ff-b775-cfb6d2a37e64",
   "metadata": {},
   "outputs": [
    {
     "data": {
      "text/plain": [
       "2"
      ]
     },
     "execution_count": 25,
     "metadata": {},
     "output_type": "execute_result"
    }
   ],
   "source": [
    "t1.count(1)"
   ]
  },
  {
   "cell_type": "code",
   "execution_count": 26,
   "id": "ad602ed0-fda0-468c-a270-fc672cd209eb",
   "metadata": {},
   "outputs": [
    {
     "data": {
      "text/plain": [
       "(True, 'sudh', (45+4j), 43.4, 3, 3, 1)"
      ]
     },
     "execution_count": 26,
     "metadata": {},
     "output_type": "execute_result"
    }
   ],
   "source": [
    "t1"
   ]
  },
  {
   "cell_type": "code",
   "execution_count": 27,
   "id": "debbaef9-e48b-4c2a-84ed-23a895af1408",
   "metadata": {},
   "outputs": [
    {
     "data": {
      "text/plain": [
       "[1, 23, 43, 5]"
      ]
     },
     "execution_count": 27,
     "metadata": {},
     "output_type": "execute_result"
    }
   ],
   "source": [
    "l"
   ]
  },
  {
   "cell_type": "code",
   "execution_count": 28,
   "id": "36e08b3d-75af-4ad7-a69c-d379db4dabcd",
   "metadata": {},
   "outputs": [
    {
     "data": {
      "text/plain": [
       "True"
      ]
     },
     "execution_count": 28,
     "metadata": {},
     "output_type": "execute_result"
    }
   ],
   "source": [
    "t1[0]"
   ]
  },
  {
   "cell_type": "code",
   "execution_count": 29,
   "id": "f4a755b7-382a-4a0c-9cfe-fb222b239050",
   "metadata": {},
   "outputs": [
    {
     "ename": "TypeError",
     "evalue": "'tuple' object does not support item assignment",
     "output_type": "error",
     "traceback": [
      "\u001b[0;31m---------------------------------------------------------------------------\u001b[0m",
      "\u001b[0;31mTypeError\u001b[0m                                 Traceback (most recent call last)",
      "Cell \u001b[0;32mIn[29], line 1\u001b[0m\n\u001b[0;32m----> 1\u001b[0m \u001b[43mt1\u001b[49m\u001b[43m[\u001b[49m\u001b[38;5;241;43m0\u001b[39;49m\u001b[43m]\u001b[49m \u001b[38;5;241m=\u001b[39m \u001b[38;5;28;01mFalse\u001b[39;00m\n",
      "\u001b[0;31mTypeError\u001b[0m: 'tuple' object does not support item assignment"
     ]
    }
   ],
   "source": [
    "t1[0] = False  # tuple are immutable"
   ]
  },
  {
   "cell_type": "code",
   "execution_count": 30,
   "id": "4e295895-f079-4101-823a-4fd273dfd00c",
   "metadata": {},
   "outputs": [
    {
     "data": {
      "text/plain": [
       "[1, 23, 43, 5]"
      ]
     },
     "execution_count": 30,
     "metadata": {},
     "output_type": "execute_result"
    }
   ],
   "source": [
    "l"
   ]
  },
  {
   "cell_type": "code",
   "execution_count": 31,
   "id": "920ab692-f9a3-42b6-8338-0b4881716ee8",
   "metadata": {},
   "outputs": [
    {
     "data": {
      "text/plain": [
       "[100, 23, 43, 5]"
      ]
     },
     "execution_count": 31,
     "metadata": {},
     "output_type": "execute_result"
    }
   ],
   "source": [
    "l[0]=100\n",
    "l"
   ]
  },
  {
   "cell_type": "code",
   "execution_count": 34,
   "id": "293c677b-7596-46f7-8fd0-99c147ff0737",
   "metadata": {},
   "outputs": [
    {
     "data": {
      "text/plain": [
       "[100, 23, 43, 5, 'sanju', 'sanju']"
      ]
     },
     "execution_count": 34,
     "metadata": {},
     "output_type": "execute_result"
    }
   ],
   "source": [
    "l.append('sanju')\n",
    "l"
   ]
  },
  {
   "cell_type": "code",
   "execution_count": 36,
   "id": "18a462c2-da38-4b71-ab19-8db8f924134e",
   "metadata": {},
   "outputs": [
    {
     "ename": "AttributeError",
     "evalue": "'tuple' object has no attribute 'append'",
     "output_type": "error",
     "traceback": [
      "\u001b[0;31m---------------------------------------------------------------------------\u001b[0m",
      "\u001b[0;31mAttributeError\u001b[0m                            Traceback (most recent call last)",
      "Cell \u001b[0;32mIn[36], line 1\u001b[0m\n\u001b[0;32m----> 1\u001b[0m \u001b[43mt1\u001b[49m\u001b[38;5;241;43m.\u001b[39;49m\u001b[43mappend\u001b[49m(\u001b[38;5;124m'\u001b[39m\u001b[38;5;124msanju\u001b[39m\u001b[38;5;124m'\u001b[39m)  \u001b[38;5;66;03m# we can not add new element in tuples\u001b[39;00m\n",
      "\u001b[0;31mAttributeError\u001b[0m: 'tuple' object has no attribute 'append'"
     ]
    }
   ],
   "source": [
    "t1.append('sanju')  # we can not add new element in tuples"
   ]
  },
  {
   "cell_type": "code",
   "execution_count": 38,
   "id": "73157411-4ab3-4e93-a07e-d326e9e74ee6",
   "metadata": {},
   "outputs": [
    {
     "name": "stdout",
     "output_type": "stream",
     "text": [
      "True\n",
      "sudh\n",
      "(45+4j)\n",
      "43.4\n",
      "3\n",
      "3\n",
      "1\n"
     ]
    }
   ],
   "source": [
    "# can we iterate in tuple---yes with for loop\n",
    "\n",
    "for i in t1:\n",
    "    print(i)"
   ]
  },
  {
   "cell_type": "code",
   "execution_count": 39,
   "id": "23f6da26-5513-4b0e-9354-ecfc7ae15379",
   "metadata": {},
   "outputs": [
    {
     "data": {
      "text/plain": [
       "True"
      ]
     },
     "execution_count": 39,
     "metadata": {},
     "output_type": "execute_result"
    }
   ],
   "source": [
    "'sudh' in t1"
   ]
  },
  {
   "cell_type": "code",
   "execution_count": 40,
   "id": "c2cf98e6-4e45-4f2d-b182-76893357a876",
   "metadata": {},
   "outputs": [
    {
     "data": {
      "text/plain": [
       "[True, 'sudh', (45+4j), 43.4, 3, 3, 1]"
      ]
     },
     "execution_count": 40,
     "metadata": {},
     "output_type": "execute_result"
    }
   ],
   "source": [
    "[num for num in t1]"
   ]
  },
  {
   "cell_type": "code",
   "execution_count": 48,
   "id": "d5319f5b-ba17-468b-b864-2fb5415bbd14",
   "metadata": {},
   "outputs": [
    {
     "data": {
      "text/plain": [
       "3"
      ]
     },
     "execution_count": 48,
     "metadata": {},
     "output_type": "execute_result"
    }
   ],
   "source": [
    "t1[4]"
   ]
  },
  {
   "cell_type": "code",
   "execution_count": 50,
   "id": "627692b4-b87f-4cde-91ed-d370c71afea3",
   "metadata": {},
   "outputs": [
    {
     "data": {
      "text/plain": [
       "int"
      ]
     },
     "execution_count": 50,
     "metadata": {},
     "output_type": "execute_result"
    }
   ],
   "source": [
    "type(t1[4])"
   ]
  },
  {
   "cell_type": "code",
   "execution_count": 53,
   "id": "6854c6ef-46f0-473f-9fcb-9167aab8bd77",
   "metadata": {},
   "outputs": [
    {
     "data": {
      "text/plain": [
       "(True, 'sudh', (45+4j), 43.4, 3, 3, 1)"
      ]
     },
     "execution_count": 53,
     "metadata": {},
     "output_type": "execute_result"
    }
   ],
   "source": [
    "t1"
   ]
  },
  {
   "cell_type": "code",
   "execution_count": 54,
   "id": "cea6afad-37e1-4f7f-9343-adf8520bb219",
   "metadata": {},
   "outputs": [
    {
     "name": "stdout",
     "output_type": "stream",
     "text": [
      "True <class 'bool'>\n",
      "sudh <class 'str'>\n",
      "(45+4j) <class 'complex'>\n",
      "43.4 <class 'float'>\n",
      "3 <class 'int'>\n",
      "3 <class 'int'>\n",
      "1 <class 'int'>\n"
     ]
    }
   ],
   "source": [
    "for i in t1:\n",
    "    print(i,type(i))"
   ]
  },
  {
   "cell_type": "code",
   "execution_count": 55,
   "id": "f4330688-97b1-4b91-803d-8055518825dc",
   "metadata": {},
   "outputs": [
    {
     "data": {
      "text/plain": [
       "(1, 2, 3, 3, 4)"
      ]
     },
     "execution_count": 55,
     "metadata": {},
     "output_type": "execute_result"
    }
   ],
   "source": [
    "t2 =(1,2,3,3,4)\n",
    "t2"
   ]
  },
  {
   "cell_type": "code",
   "execution_count": 56,
   "id": "bd855792-e488-4a0a-8943-536655cf3c72",
   "metadata": {},
   "outputs": [
    {
     "data": {
      "text/plain": [
       "(1, 2, 3, 3, 4, 1, 2, 3, 3, 4, 1, 2, 3, 3, 4)"
      ]
     },
     "execution_count": 56,
     "metadata": {},
     "output_type": "execute_result"
    }
   ],
   "source": [
    "t2 *3"
   ]
  },
  {
   "cell_type": "code",
   "execution_count": 57,
   "id": "300329e7-3850-4b6b-8a0f-7fa0a61e491f",
   "metadata": {},
   "outputs": [
    {
     "data": {
      "text/plain": [
       "4"
      ]
     },
     "execution_count": 57,
     "metadata": {},
     "output_type": "execute_result"
    }
   ],
   "source": [
    "max(t2)"
   ]
  },
  {
   "cell_type": "code",
   "execution_count": 58,
   "id": "0a5079d7-0130-48db-91d6-5e1e7e3e8caf",
   "metadata": {},
   "outputs": [
    {
     "data": {
      "text/plain": [
       "1"
      ]
     },
     "execution_count": 58,
     "metadata": {},
     "output_type": "execute_result"
    }
   ],
   "source": [
    "min(t2)"
   ]
  },
  {
   "cell_type": "code",
   "execution_count": 59,
   "id": "e186e979-6162-4ce6-9e10-9aa2cb693185",
   "metadata": {},
   "outputs": [],
   "source": [
    "t1 = (1,2,3,4)\n",
    "t2 = (4,5,6,7,9)"
   ]
  },
  {
   "cell_type": "markdown",
   "id": "33895ea2-b376-41e7-9970-60ecf500ce95",
   "metadata": {},
   "source": [
    "#### t3=(t1,t2)\n",
    "t3"
   ]
  },
  {
   "cell_type": "code",
   "execution_count": 63,
   "id": "e4230f8f-dfa9-48dc-ad21-f04bf4ef5b02",
   "metadata": {},
   "outputs": [
    {
     "data": {
      "text/plain": [
       "((1, 2, 3, 4, 5), [1, 2, 4, 5, 6, 7, 8])"
      ]
     },
     "execution_count": 63,
     "metadata": {},
     "output_type": "execute_result"
    }
   ],
   "source": [
    "t4= ((1,2,3,4,5),[1,2,4,5,6,7,8])\n",
    "t4"
   ]
  },
  {
   "cell_type": "code",
   "execution_count": 64,
   "id": "bbbc6415-df79-4f8d-97cf-9dddad6216af",
   "metadata": {},
   "outputs": [],
   "source": [
    "del t4"
   ]
  },
  {
   "cell_type": "code",
   "execution_count": 65,
   "id": "0d26d2f5-b2ac-4970-b4b7-c4161ff51ccc",
   "metadata": {},
   "outputs": [
    {
     "ename": "NameError",
     "evalue": "name 't4' is not defined",
     "output_type": "error",
     "traceback": [
      "\u001b[0;31m---------------------------------------------------------------------------\u001b[0m",
      "\u001b[0;31mNameError\u001b[0m                                 Traceback (most recent call last)",
      "Cell \u001b[0;32mIn[65], line 1\u001b[0m\n\u001b[0;32m----> 1\u001b[0m \u001b[43mt4\u001b[49m\n",
      "\u001b[0;31mNameError\u001b[0m: name 't4' is not defined"
     ]
    }
   ],
   "source": [
    "t4"
   ]
  },
  {
   "cell_type": "code",
   "execution_count": 66,
   "id": "eef02239-e2eb-4e47-bcbc-0be148eee905",
   "metadata": {},
   "outputs": [
    {
     "data": {
      "text/plain": [
       "4"
      ]
     },
     "execution_count": 66,
     "metadata": {},
     "output_type": "execute_result"
    }
   ],
   "source": [
    "len(t1)"
   ]
  },
  {
   "cell_type": "code",
   "execution_count": 67,
   "id": "13b6cb1d-beac-4c49-8f84-6dbd94321e31",
   "metadata": {},
   "outputs": [
    {
     "data": {
      "text/plain": [
       "False"
      ]
     },
     "execution_count": 67,
     "metadata": {},
     "output_type": "execute_result"
    }
   ],
   "source": [
    "'sudh' in t1  # checking element in t1"
   ]
  },
  {
   "cell_type": "code",
   "execution_count": 68,
   "id": "f57d11da-725d-4ecf-ae21-012e2289b912",
   "metadata": {},
   "outputs": [
    {
     "data": {
      "text/plain": [
       "True"
      ]
     },
     "execution_count": 68,
     "metadata": {},
     "output_type": "execute_result"
    }
   ],
   "source": [
    "2 in t1"
   ]
  },
  {
   "cell_type": "code",
   "execution_count": null,
   "id": "11f5bd90-ea76-4cb9-ac61-841b9b892990",
   "metadata": {},
   "outputs": [],
   "source": []
  },
  {
   "cell_type": "markdown",
   "id": "0d3c462a-69c0-4494-9861-0ec44a288f54",
   "metadata": {},
   "source": [
    "# Set"
   ]
  },
  {
   "cell_type": "code",
   "execution_count": 70,
   "id": "984b60a2-61cd-4d87-9f39-826742c1e74a",
   "metadata": {},
   "outputs": [
    {
     "data": {
      "text/plain": [
       "dict"
      ]
     },
     "execution_count": 70,
     "metadata": {},
     "output_type": "execute_result"
    }
   ],
   "source": [
    "s={}  # when set is empty it will show dictionary type\n",
    "type(s)"
   ]
  },
  {
   "cell_type": "code",
   "execution_count": 72,
   "id": "b9b65c3f-feb1-46fc-92a5-11e6e0356469",
   "metadata": {},
   "outputs": [
    {
     "data": {
      "text/plain": [
       "set"
      ]
     },
     "execution_count": 72,
     "metadata": {},
     "output_type": "execute_result"
    }
   ],
   "source": [
    "s1 = {1,2,3,4,5}\n",
    "type(s1)  # when set has some value it shows datatype is set"
   ]
  },
  {
   "cell_type": "code",
   "execution_count": 74,
   "id": "229a5209-c079-440c-81f2-fc31d6dd5cd6",
   "metadata": {},
   "outputs": [
    {
     "data": {
      "text/plain": [
       "{1, 3, 4, 5, 12, 44, 55, 56, 67, 534, 543}"
      ]
     },
     "execution_count": 74,
     "metadata": {},
     "output_type": "execute_result"
    }
   ],
   "source": [
    "s2 = {1,1,12,3,3,3,3,4,4,4,44,44,4,5,55,543,534,56,67}\n",
    "s2 # set automatically remove repeated no's"
   ]
  },
  {
   "cell_type": "code",
   "execution_count": 75,
   "id": "8322f3b4-eb10-43e5-92be-cee3bf2a89a6",
   "metadata": {},
   "outputs": [
    {
     "data": {
      "text/plain": [
       "[1, 67, 3, 4, 5, 12, 44, 534, 55, 56, 543]"
      ]
     },
     "execution_count": 75,
     "metadata": {},
     "output_type": "execute_result"
    }
   ],
   "source": [
    "list(s2) # converting set into lists"
   ]
  },
  {
   "cell_type": "code",
   "execution_count": 76,
   "id": "e7ce382d-efa6-48ea-ba7a-a1c901271c47",
   "metadata": {},
   "outputs": [
    {
     "data": {
      "text/plain": [
       "{1, 3, 4, 5, 12, 44, 55, 56, 67, 534, 543}"
      ]
     },
     "execution_count": 76,
     "metadata": {},
     "output_type": "execute_result"
    }
   ],
   "source": [
    "s2"
   ]
  },
  {
   "cell_type": "code",
   "execution_count": 77,
   "id": "704f4687-3143-4392-b1a8-d14d57afa1b2",
   "metadata": {},
   "outputs": [
    {
     "data": {
      "text/plain": [
       "(1, 67, 3, 4, 5, 12, 44, 534, 55, 56, 543)"
      ]
     },
     "execution_count": 77,
     "metadata": {},
     "output_type": "execute_result"
    }
   ],
   "source": [
    "tuple(s2)"
   ]
  },
  {
   "cell_type": "code",
   "execution_count": 78,
   "id": "1a968a2d-ccd6-4286-a3ef-f7b94cefc879",
   "metadata": {},
   "outputs": [
    {
     "data": {
      "text/plain": [
       "{100, 23, 43, 5, 'sanju'}"
      ]
     },
     "execution_count": 78,
     "metadata": {},
     "output_type": "execute_result"
    }
   ],
   "source": [
    "set(l)"
   ]
  },
  {
   "cell_type": "code",
   "execution_count": 79,
   "id": "bac4d30a-f5ad-4996-bf50-9817c45a8d86",
   "metadata": {},
   "outputs": [
    {
     "ename": "TypeError",
     "evalue": "unhashable type: 'list'",
     "output_type": "error",
     "traceback": [
      "\u001b[0;31m---------------------------------------------------------------------------\u001b[0m",
      "\u001b[0;31mTypeError\u001b[0m                                 Traceback (most recent call last)",
      "Cell \u001b[0;32mIn[79], line 1\u001b[0m\n\u001b[0;32m----> 1\u001b[0m s4 \u001b[38;5;241m=\u001b[39m {\u001b[38;5;241m1\u001b[39m,\u001b[38;5;241m2\u001b[39m,\u001b[38;5;241m3\u001b[39m,\u001b[38;5;241m4\u001b[39m,\u001b[38;5;241m5\u001b[39m,[\u001b[38;5;241m1\u001b[39m,\u001b[38;5;241m2\u001b[39m,\u001b[38;5;241m3\u001b[39m,\u001b[38;5;241m4\u001b[39m,\u001b[38;5;241m5\u001b[39m]}\n",
      "\u001b[0;31mTypeError\u001b[0m: unhashable type: 'list'"
     ]
    }
   ],
   "source": [
    "s4 = {1,2,3,4,5,[1,2,3,4,5]}"
   ]
  },
  {
   "cell_type": "code",
   "execution_count": 80,
   "id": "6f7b1813-dce0-4ed1-8785-d2af576b6fd1",
   "metadata": {},
   "outputs": [],
   "source": [
    "s5={1,2,3,4,(2,1,3,4)}"
   ]
  },
  {
   "cell_type": "code",
   "execution_count": 81,
   "id": "84d5e4ae-9595-49b0-b79b-d00f5076fad7",
   "metadata": {},
   "outputs": [
    {
     "data": {
      "text/plain": [
       "{(2, 1, 3, 4), 1, 2, 3, 4}"
      ]
     },
     "execution_count": 81,
     "metadata": {},
     "output_type": "execute_result"
    }
   ],
   "source": [
    "s5  # tuples are allowed in sets but lists are not --this is because\n",
    "# we will definately change the list and in set it is not possible"
   ]
  },
  {
   "cell_type": "code",
   "execution_count": 82,
   "id": "de5fd769-ba01-47d1-a2da-21e5e5b9f6de",
   "metadata": {},
   "outputs": [
    {
     "data": {
      "text/plain": [
       "{1, 2, 3, 45, 5, 'Sudh', 'sudh'}"
      ]
     },
     "execution_count": 82,
     "metadata": {},
     "output_type": "execute_result"
    }
   ],
   "source": [
    "s6 = {'sudh','Sudh',1,2,3,45,5}\n",
    "s6 # it is treating differently with sudh and Sudh because python\n",
    "# is a case sensitive language"
   ]
  },
  {
   "cell_type": "code",
   "execution_count": 84,
   "id": "6e86fe83-9367-4c3d-85c6-ff432988f0f1",
   "metadata": {},
   "outputs": [
    {
     "data": {
      "text/plain": [
       "{1, 2, 3, 45, 5, 'sudh'}"
      ]
     },
     "execution_count": 84,
     "metadata": {},
     "output_type": "execute_result"
    }
   ],
   "source": [
    "s7 = {'sudh','sudh',1,2,3,45,5}\n",
    "s7"
   ]
  },
  {
   "cell_type": "code",
   "execution_count": 85,
   "id": "3e8c9878-4cc9-49c3-8165-73a640fc65e0",
   "metadata": {},
   "outputs": [
    {
     "ename": "TypeError",
     "evalue": "'set' object is not subscriptable",
     "output_type": "error",
     "traceback": [
      "\u001b[0;31m---------------------------------------------------------------------------\u001b[0m",
      "\u001b[0;31mTypeError\u001b[0m                                 Traceback (most recent call last)",
      "Cell \u001b[0;32mIn[85], line 1\u001b[0m\n\u001b[0;32m----> 1\u001b[0m \u001b[43ms7\u001b[49m\u001b[43m[\u001b[49m\u001b[38;5;241;43m0\u001b[39;49m\u001b[43m]\u001b[49m\n",
      "\u001b[0;31mTypeError\u001b[0m: 'set' object is not subscriptable"
     ]
    }
   ],
   "source": [
    "s7[0]  # indexing is not allowed in set"
   ]
  },
  {
   "cell_type": "code",
   "execution_count": 86,
   "id": "1c15def3-5a11-4102-b3c5-8f78985cd527",
   "metadata": {},
   "outputs": [
    {
     "ename": "TypeError",
     "evalue": "'set' object is not subscriptable",
     "output_type": "error",
     "traceback": [
      "\u001b[0;31m---------------------------------------------------------------------------\u001b[0m",
      "\u001b[0;31mTypeError\u001b[0m                                 Traceback (most recent call last)",
      "Cell \u001b[0;32mIn[86], line 1\u001b[0m\n\u001b[0;32m----> 1\u001b[0m \u001b[43ms7\u001b[49m\u001b[43m[\u001b[49m\u001b[43m:\u001b[49m\u001b[43m:\u001b[49m\u001b[38;5;241;43m-\u001b[39;49m\u001b[38;5;241;43m1\u001b[39;49m\u001b[43m]\u001b[49m\n",
      "\u001b[0;31mTypeError\u001b[0m: 'set' object is not subscriptable"
     ]
    }
   ],
   "source": [
    "s7[::-1]  # slicing is not possible because the system do not\n",
    "# store elements in sequencial  manner\n",
    "\n",
    "# yes we can see do slicing method after converting this into list "
   ]
  },
  {
   "cell_type": "code",
   "execution_count": 87,
   "id": "0d72a20b-a2ec-4907-af29-6a03322219f5",
   "metadata": {},
   "outputs": [
    {
     "data": {
      "text/plain": [
       "{1, 2, 3, 45, 5, 'sudh'}"
      ]
     },
     "execution_count": 87,
     "metadata": {},
     "output_type": "execute_result"
    }
   ],
   "source": [
    "s7"
   ]
  },
  {
   "cell_type": "code",
   "execution_count": 90,
   "id": "def2a0ac-8bb8-4879-9119-22054c8e1562",
   "metadata": {},
   "outputs": [
    {
     "name": "stdout",
     "output_type": "stream",
     "text": [
      "1235sudh45"
     ]
    }
   ],
   "source": [
    "for i in s7:\n",
    "    print(i,end='')"
   ]
  },
  {
   "cell_type": "code",
   "execution_count": 91,
   "id": "e7aa7722-1f52-4662-b1ac-522bc6690d63",
   "metadata": {},
   "outputs": [
    {
     "name": "stdout",
     "output_type": "stream",
     "text": [
      "1\n",
      "2\n",
      "3\n",
      "5\n",
      "sudh\n",
      "45\n"
     ]
    }
   ],
   "source": [
    "for i in s7:\n",
    "    print(i)"
   ]
  },
  {
   "cell_type": "code",
   "execution_count": 92,
   "id": "4aca7976-0be0-460f-b752-cfca9b4273bd",
   "metadata": {},
   "outputs": [
    {
     "name": "stdout",
     "output_type": "stream",
     "text": [
      "1 <class 'int'>\n",
      "2 <class 'int'>\n",
      "3 <class 'int'>\n",
      "5 <class 'int'>\n",
      "sudh <class 'str'>\n",
      "45 <class 'int'>\n"
     ]
    }
   ],
   "source": [
    "for i in s7:\n",
    "    print(i,type(i))"
   ]
  },
  {
   "cell_type": "code",
   "execution_count": 89,
   "id": "166cbf18-7ff0-456b-bc19-aa7ed5ed5e5f",
   "metadata": {},
   "outputs": [
    {
     "data": {
      "text/plain": [
       "[1, 2, 3, 5, 'sudh', 45]"
      ]
     },
     "execution_count": 89,
     "metadata": {},
     "output_type": "execute_result"
    }
   ],
   "source": [
    "[num for num in s7]"
   ]
  },
  {
   "cell_type": "code",
   "execution_count": 93,
   "id": "deb9caaf-1cab-44ac-ad64-3f5ebc937eb9",
   "metadata": {},
   "outputs": [
    {
     "data": {
      "text/plain": [
       "{1, 2, 3, 45, 5, 'sanju', 'sudh'}"
      ]
     },
     "execution_count": 93,
     "metadata": {},
     "output_type": "execute_result"
    }
   ],
   "source": [
    "# we can not do index wise operationo in set\n",
    "s7.add('sanju')\n",
    "s7"
   ]
  },
  {
   "cell_type": "code",
   "execution_count": 96,
   "id": "e8840995-d965-4f7b-88cb-7fe7b3a2eae2",
   "metadata": {},
   "outputs": [
    {
     "data": {
      "text/plain": [
       "7"
      ]
     },
     "execution_count": 96,
     "metadata": {},
     "output_type": "execute_result"
    }
   ],
   "source": [
    "len(s7)"
   ]
  },
  {
   "cell_type": "code",
   "execution_count": 99,
   "id": "e4f67f0b-e4ed-4683-bcac-b72820fcd0ed",
   "metadata": {},
   "outputs": [
    {
     "ename": "TypeError",
     "evalue": "'>' not supported between instances of 'str' and 'int'",
     "output_type": "error",
     "traceback": [
      "\u001b[0;31m---------------------------------------------------------------------------\u001b[0m",
      "\u001b[0;31mTypeError\u001b[0m                                 Traceback (most recent call last)",
      "Cell \u001b[0;32mIn[99], line 1\u001b[0m\n\u001b[0;32m----> 1\u001b[0m \u001b[38;5;28;43mmax\u001b[39;49m\u001b[43m(\u001b[49m\u001b[43ms7\u001b[49m\u001b[43m)\u001b[49m ,\u001b[38;5;28mmin\u001b[39m(s7)\n",
      "\u001b[0;31mTypeError\u001b[0m: '>' not supported between instances of 'str' and 'int'"
     ]
    }
   ],
   "source": [
    "max(s7) ,min(s7)"
   ]
  },
  {
   "cell_type": "code",
   "execution_count": 100,
   "id": "db2cb8a1-0ef3-4c10-825b-0cae3ad953d8",
   "metadata": {},
   "outputs": [
    {
     "data": {
      "text/plain": [
       "1"
      ]
     },
     "execution_count": 100,
     "metadata": {},
     "output_type": "execute_result"
    }
   ],
   "source": [
    "s7.pop()"
   ]
  },
  {
   "cell_type": "code",
   "execution_count": 101,
   "id": "a8cbb02d-03eb-4e18-9088-4c59b80c6ebc",
   "metadata": {},
   "outputs": [
    {
     "data": {
      "text/plain": [
       "2"
      ]
     },
     "execution_count": 101,
     "metadata": {},
     "output_type": "execute_result"
    }
   ],
   "source": [
    "s7.pop()"
   ]
  },
  {
   "cell_type": "code",
   "execution_count": 102,
   "id": "0f1714a3-3d62-4b89-bcee-e7c26507c57b",
   "metadata": {},
   "outputs": [
    {
     "data": {
      "text/plain": [
       "3"
      ]
     },
     "execution_count": 102,
     "metadata": {},
     "output_type": "execute_result"
    }
   ],
   "source": [
    "s7.pop() # removing of element is possible"
   ]
  },
  {
   "cell_type": "code",
   "execution_count": 103,
   "id": "2b2061d8-9c43-41c9-82ff-2df9b071661f",
   "metadata": {},
   "outputs": [
    {
     "data": {
      "text/plain": [
       "{45, 5, 'sanju', 'sudh'}"
      ]
     },
     "execution_count": 103,
     "metadata": {},
     "output_type": "execute_result"
    }
   ],
   "source": [
    "s7"
   ]
  },
  {
   "cell_type": "code",
   "execution_count": 104,
   "id": "f7c9c2b5-6594-4276-be51-a3730e69dc44",
   "metadata": {},
   "outputs": [
    {
     "data": {
      "text/plain": [
       "{45, 5, 'sanju', 'sudh'}"
      ]
     },
     "execution_count": 104,
     "metadata": {},
     "output_type": "execute_result"
    }
   ],
   "source": [
    "s7"
   ]
  },
  {
   "cell_type": "code",
   "execution_count": 105,
   "id": "d9c2ae57-8e39-4168-aa2c-473a483804df",
   "metadata": {},
   "outputs": [],
   "source": [
    "s7.clear()  # clear all the data or element"
   ]
  },
  {
   "cell_type": "code",
   "execution_count": 106,
   "id": "19fe78c9-6cd6-443b-a090-0a9f6d3f57da",
   "metadata": {},
   "outputs": [
    {
     "data": {
      "text/plain": [
       "set()"
      ]
     },
     "execution_count": 106,
     "metadata": {},
     "output_type": "execute_result"
    }
   ],
   "source": [
    "s7"
   ]
  },
  {
   "cell_type": "code",
   "execution_count": 107,
   "id": "f8d16df8-c4cc-4981-97a1-9977166a2fb6",
   "metadata": {},
   "outputs": [
    {
     "data": {
      "text/plain": [
       "{4}"
      ]
     },
     "execution_count": 107,
     "metadata": {},
     "output_type": "execute_result"
    }
   ],
   "source": [
    "s8 = {1,2,3,4}\n",
    "s9 ={1,2,3,5}\n",
    "s8.difference(s9)  # returning element which is unique in s8"
   ]
  },
  {
   "cell_type": "code",
   "execution_count": 108,
   "id": "748d5a7c-b481-42d8-b6cc-b819f96efd59",
   "metadata": {},
   "outputs": [
    {
     "data": {
      "text/plain": [
       "{5}"
      ]
     },
     "execution_count": 108,
     "metadata": {},
     "output_type": "execute_result"
    }
   ],
   "source": [
    "s9.difference(s8) # returning element which is unique in s9\n"
   ]
  },
  {
   "cell_type": "code",
   "execution_count": 109,
   "id": "2f9838ac-ad23-4dd6-acc9-8350c60c9c65",
   "metadata": {},
   "outputs": [
    {
     "data": {
      "text/plain": [
       "{1, 2, 3}"
      ]
     },
     "execution_count": 109,
     "metadata": {},
     "output_type": "execute_result"
    }
   ],
   "source": [
    "s8.intersection(s9)"
   ]
  },
  {
   "cell_type": "code",
   "execution_count": 112,
   "id": "2faf64cc-77f2-4491-8b3b-ddce80855866",
   "metadata": {},
   "outputs": [
    {
     "data": {
      "text/plain": [
       "({1, 2, 3, 4}, {1, 2, 3, 5})"
      ]
     },
     "execution_count": 112,
     "metadata": {},
     "output_type": "execute_result"
    }
   ],
   "source": [
    "s8,s9"
   ]
  },
  {
   "cell_type": "code",
   "execution_count": 110,
   "id": "332ce70a-5e8d-442b-ba39-1960fb1f00e3",
   "metadata": {},
   "outputs": [
    {
     "data": {
      "text/plain": [
       "False"
      ]
     },
     "execution_count": 110,
     "metadata": {},
     "output_type": "execute_result"
    }
   ],
   "source": [
    "s8.issubset(s9)"
   ]
  },
  {
   "cell_type": "code",
   "execution_count": 111,
   "id": "100fdd45-3792-4653-b887-cfb78a367f2c",
   "metadata": {},
   "outputs": [
    {
     "data": {
      "text/plain": [
       "False"
      ]
     },
     "execution_count": 111,
     "metadata": {},
     "output_type": "execute_result"
    }
   ],
   "source": [
    "s9.issubset(s8)"
   ]
  },
  {
   "cell_type": "code",
   "execution_count": 113,
   "id": "4d7c0196-9ee3-47e7-a994-53b3dd827e06",
   "metadata": {},
   "outputs": [
    {
     "data": {
      "text/plain": [
       "True"
      ]
     },
     "execution_count": 113,
     "metadata": {},
     "output_type": "execute_result"
    }
   ],
   "source": [
    "s10 ={1,2,3}\n",
    "s11 ={1,2,4,3}\n",
    "s10.issubset(s11) # all the element of s10 present in s11"
   ]
  },
  {
   "cell_type": "code",
   "execution_count": 114,
   "id": "3ef86af7-bafe-4bbb-8b5d-6e40505eb499",
   "metadata": {},
   "outputs": [
    {
     "data": {
      "text/plain": [
       "False"
      ]
     },
     "execution_count": 114,
     "metadata": {},
     "output_type": "execute_result"
    }
   ],
   "source": [
    "s11.issubset(s10) # all the element of s11 is not present in s10"
   ]
  },
  {
   "cell_type": "code",
   "execution_count": 115,
   "id": "59d45960-6379-4050-960e-08ea25de8a5e",
   "metadata": {},
   "outputs": [
    {
     "data": {
      "text/plain": [
       "False"
      ]
     },
     "execution_count": 115,
     "metadata": {},
     "output_type": "execute_result"
    }
   ],
   "source": [
    "s10.issuperset(s11)"
   ]
  },
  {
   "cell_type": "code",
   "execution_count": 116,
   "id": "9cc8a9ee-520b-49e4-8022-ccd6efaa642b",
   "metadata": {},
   "outputs": [
    {
     "data": {
      "text/plain": [
       "True"
      ]
     },
     "execution_count": 116,
     "metadata": {},
     "output_type": "execute_result"
    }
   ],
   "source": [
    "s11.issuperset(s10) # because all the element of s10 present in s11"
   ]
  },
  {
   "cell_type": "code",
   "execution_count": 117,
   "id": "1b7958e9-9ed2-4a2e-9642-8a64cc933caf",
   "metadata": {},
   "outputs": [
    {
     "data": {
      "text/plain": [
       "False"
      ]
     },
     "execution_count": 117,
     "metadata": {},
     "output_type": "execute_result"
    }
   ],
   "source": [
    "s11.isdisjoint(s10)"
   ]
  },
  {
   "cell_type": "code",
   "execution_count": 123,
   "id": "a1d72704-64c3-4752-a291-9ac49dd397c8",
   "metadata": {},
   "outputs": [],
   "source": [
    "s12 ={1,11,22}\n",
    "s13={23,43}\n",
    "s12.discard(s13)"
   ]
  },
  {
   "cell_type": "code",
   "execution_count": 124,
   "id": "167faacc-3f2d-4101-a422-13fcb6934298",
   "metadata": {},
   "outputs": [
    {
     "data": {
      "text/plain": [
       "{1, 11, 22}"
      ]
     },
     "execution_count": 124,
     "metadata": {},
     "output_type": "execute_result"
    }
   ],
   "source": [
    "s12"
   ]
  },
  {
   "cell_type": "code",
   "execution_count": 125,
   "id": "b6570a61-8ddd-49fb-b12b-43cbef096fbb",
   "metadata": {},
   "outputs": [
    {
     "data": {
      "text/plain": [
       "{23, 43}"
      ]
     },
     "execution_count": 125,
     "metadata": {},
     "output_type": "execute_result"
    }
   ],
   "source": [
    "s13"
   ]
  },
  {
   "cell_type": "code",
   "execution_count": null,
   "id": "97004755-3930-400f-bb1c-9597e20ee42c",
   "metadata": {},
   "outputs": [],
   "source": []
  },
  {
   "cell_type": "code",
   "execution_count": null,
   "id": "e03dc1f0-d459-4659-b3c7-942a87637a1c",
   "metadata": {},
   "outputs": [],
   "source": []
  },
  {
   "cell_type": "markdown",
   "id": "e7e8ec7e-59b1-49cc-8fc4-3ff77959877d",
   "metadata": {},
   "source": [
    "# Dictionary"
   ]
  },
  {
   "cell_type": "code",
   "execution_count": null,
   "id": "ef327671-6896-4742-a5d6-01348b9b663e",
   "metadata": {},
   "outputs": [],
   "source": []
  },
  {
   "cell_type": "code",
   "execution_count": 127,
   "id": "3ee46ca4-f4ec-449c-a5d5-2495d9c01ba4",
   "metadata": {},
   "outputs": [
    {
     "data": {
      "text/plain": [
       "dict"
      ]
     },
     "execution_count": 127,
     "metadata": {},
     "output_type": "execute_result"
    }
   ],
   "source": [
    "d ={}\n",
    "type(d)"
   ]
  },
  {
   "cell_type": "code",
   "execution_count": 128,
   "id": "2c96b073-e27f-4211-9d4f-a5ce7ea48129",
   "metadata": {},
   "outputs": [],
   "source": [
    "# dictionary stores data in the form of key and value pair\n",
    "d1 ={'email_id':'sanju@gmail.com','name':'sanju','number':454}"
   ]
  },
  {
   "cell_type": "code",
   "execution_count": 129,
   "id": "3f6fea91-f925-4fa9-bfa6-2e45ec13b4af",
   "metadata": {},
   "outputs": [
    {
     "data": {
      "text/plain": [
       "dict"
      ]
     },
     "execution_count": 129,
     "metadata": {},
     "output_type": "execute_result"
    }
   ],
   "source": [
    "type(d1)"
   ]
  },
  {
   "cell_type": "code",
   "execution_count": 130,
   "id": "df40aa00-2d88-4f44-ba05-9f1723bedbd0",
   "metadata": {},
   "outputs": [
    {
     "data": {
      "text/plain": [
       "{'email_id': 'sanju@gmail.com', 'name': 'sanju', 'number': 454}"
      ]
     },
     "execution_count": 130,
     "metadata": {},
     "output_type": "execute_result"
    }
   ],
   "source": [
    "d1"
   ]
  },
  {
   "cell_type": "code",
   "execution_count": 131,
   "id": "974de6c4-32eb-45cd-8ab3-1558be2e43ac",
   "metadata": {},
   "outputs": [],
   "source": [
    "d2 ={'name':'sudh','name':'sudhanshu'}"
   ]
  },
  {
   "cell_type": "code",
   "execution_count": 132,
   "id": "e8a4e1f3-9911-4768-9590-31c8379879a7",
   "metadata": {},
   "outputs": [
    {
     "data": {
      "text/plain": [
       "{'name': 'sudhanshu'}"
      ]
     },
     "execution_count": 132,
     "metadata": {},
     "output_type": "execute_result"
    }
   ],
   "source": [
    "d2 # key should be unique otherwise it will update the value"
   ]
  },
  {
   "cell_type": "code",
   "execution_count": 133,
   "id": "6fbddaef-defb-4698-b8ec-27b8d18d4a72",
   "metadata": {},
   "outputs": [
    {
     "data": {
      "text/plain": [
       "{87698: 'abc'}"
      ]
     },
     "execution_count": 133,
     "metadata": {},
     "output_type": "execute_result"
    }
   ],
   "source": [
    "d3 ={87698:'abc'} # key can be numeric and floating point\n",
    "d3"
   ]
  },
  {
   "cell_type": "code",
   "execution_count": 134,
   "id": "e7617815-b206-450f-ae42-164c7dd52e46",
   "metadata": {},
   "outputs": [
    {
     "data": {
      "text/plain": [
       "{34.43: 'sanju'}"
      ]
     },
     "execution_count": 134,
     "metadata": {},
     "output_type": "execute_result"
    }
   ],
   "source": [
    "d4 ={34.43:'sanju'}\n",
    "d4 # key can be floating value"
   ]
  },
  {
   "cell_type": "code",
   "execution_count": 136,
   "id": "e8fee97f-30b4-49aa-9d7d-ccd9b0a4fbd5",
   "metadata": {},
   "outputs": [
    {
     "data": {
      "text/plain": [
       "{True: 'ami'}"
      ]
     },
     "execution_count": 136,
     "metadata": {},
     "output_type": "execute_result"
    }
   ],
   "source": [
    "d5 ={True:'ami'}\n",
    "d5  # key can be boolean value"
   ]
  },
  {
   "cell_type": "code",
   "execution_count": 137,
   "id": "39a27321-827c-4c4a-b201-a834683d63d8",
   "metadata": {},
   "outputs": [
    {
     "ename": "SyntaxError",
     "evalue": "incomplete input (2636184173.py, line 1)",
     "output_type": "error",
     "traceback": [
      "\u001b[0;36m  Cell \u001b[0;32mIn[137], line 1\u001b[0;36m\u001b[0m\n\u001b[0;31m    d6 ={#:'abc'}\u001b[0m\n\u001b[0m                 ^\u001b[0m\n\u001b[0;31mSyntaxError\u001b[0m\u001b[0;31m:\u001b[0m incomplete input\n"
     ]
    }
   ],
   "source": [
    "d6 ={#:'abc'}"
   ]
  },
  {
   "cell_type": "code",
   "execution_count": 138,
   "id": "84beee93-5956-41bd-939b-92a9c004eff2",
   "metadata": {},
   "outputs": [
    {
     "ename": "SyntaxError",
     "evalue": "invalid syntax (3362403356.py, line 1)",
     "output_type": "error",
     "traceback": [
      "\u001b[0;36m  Cell \u001b[0;32mIn[138], line 1\u001b[0;36m\u001b[0m\n\u001b[0;31m    d7 ={*:'abc'}\u001b[0m\n\u001b[0m          ^\u001b[0m\n\u001b[0;31mSyntaxError\u001b[0m\u001b[0;31m:\u001b[0m invalid syntax\n"
     ]
    }
   ],
   "source": [
    "d7 ={*:'abc'} # special case character are not allowed as a key"
   ]
  },
  {
   "cell_type": "code",
   "execution_count": 140,
   "id": "77c8243e-5997-4c24-a56f-a690b03ec65f",
   "metadata": {},
   "outputs": [
    {
     "ename": "TypeError",
     "evalue": "unhashable type: 'list'",
     "output_type": "error",
     "traceback": [
      "\u001b[0;31m---------------------------------------------------------------------------\u001b[0m",
      "\u001b[0;31mTypeError\u001b[0m                                 Traceback (most recent call last)",
      "Cell \u001b[0;32mIn[140], line 1\u001b[0m\n\u001b[0;32m----> 1\u001b[0m d8 \u001b[38;5;241m=\u001b[39m {[\u001b[38;5;241m2\u001b[39m,\u001b[38;5;241m34\u001b[39m,\u001b[38;5;241m4\u001b[39m]:\u001b[38;5;124m'\u001b[39m\u001b[38;5;124mabc\u001b[39m\u001b[38;5;124m'\u001b[39m} \u001b[38;5;66;03m# list can not be taken as key\u001b[39;00m\n",
      "\u001b[0;31mTypeError\u001b[0m: unhashable type: 'list'"
     ]
    }
   ],
   "source": [
    "d8 = {[2,34,4]:'abc'} # list can not be taken as key"
   ]
  },
  {
   "cell_type": "code",
   "execution_count": 144,
   "id": "b2a29fee-0f60-4447-9d16-793d54935538",
   "metadata": {},
   "outputs": [
    {
     "data": {
      "text/plain": [
       "{(343, 43, 34, 34, 465): 'abc'}"
      ]
     },
     "execution_count": 144,
     "metadata": {},
     "output_type": "execute_result"
    }
   ],
   "source": [
    "d9={(343,43,34,34,465):'abc'} # tuples can behave like a key\n",
    "d9"
   ]
  },
  {
   "cell_type": "code",
   "execution_count": 145,
   "id": "9259d2c6-11ef-4d5c-85df-9c50b6e3e6a3",
   "metadata": {},
   "outputs": [
    {
     "ename": "TypeError",
     "evalue": "unhashable type: 'set'",
     "output_type": "error",
     "traceback": [
      "\u001b[0;31m---------------------------------------------------------------------------\u001b[0m",
      "\u001b[0;31mTypeError\u001b[0m                                 Traceback (most recent call last)",
      "Cell \u001b[0;32mIn[145], line 1\u001b[0m\n\u001b[0;32m----> 1\u001b[0m d10 \u001b[38;5;241m=\u001b[39m {{\u001b[38;5;241m4\u001b[39m,\u001b[38;5;241m54\u001b[39m,\u001b[38;5;241m54\u001b[39m,\u001b[38;5;241m32\u001b[39m}:\u001b[38;5;124m'\u001b[39m\u001b[38;5;124mabc\u001b[39m\u001b[38;5;124m'\u001b[39m}\n",
      "\u001b[0;31mTypeError\u001b[0m: unhashable type: 'set'"
     ]
    }
   ],
   "source": [
    "d10 = {{4,54,54,32}:'abc'} # set can not be taken as key"
   ]
  },
  {
   "cell_type": "code",
   "execution_count": 146,
   "id": "eaf79f56-f1ac-4949-8251-245c191c6248",
   "metadata": {},
   "outputs": [
    {
     "ename": "TypeError",
     "evalue": "unhashable type: 'dict'",
     "output_type": "error",
     "traceback": [
      "\u001b[0;31m---------------------------------------------------------------------------\u001b[0m",
      "\u001b[0;31mTypeError\u001b[0m                                 Traceback (most recent call last)",
      "Cell \u001b[0;32mIn[146], line 1\u001b[0m\n\u001b[0;32m----> 1\u001b[0m d11\u001b[38;5;241m=\u001b[39m{{\u001b[38;5;124m'\u001b[39m\u001b[38;5;124mkey\u001b[39m\u001b[38;5;124m'\u001b[39m:\u001b[38;5;241m454\u001b[39m}:\u001b[38;5;124m'\u001b[39m\u001b[38;5;124mabc\u001b[39m\u001b[38;5;124m'\u001b[39m}\n",
      "\u001b[0;31mTypeError\u001b[0m: unhashable type: 'dict'"
     ]
    }
   ],
   "source": [
    "d11={{'key':454}:'abc'} # dict can not be taken as key"
   ]
  },
  {
   "cell_type": "code",
   "execution_count": 148,
   "id": "df9bca85-6754-4d9e-b377-56a2fd86ef03",
   "metadata": {},
   "outputs": [],
   "source": [
    "d12 ={'course_name':['data science master','web dev','java with dsa and system design']}"
   ]
  },
  {
   "cell_type": "code",
   "execution_count": 149,
   "id": "5d627dd2-32a9-4642-8344-11ed02c7b4e4",
   "metadata": {},
   "outputs": [
    {
     "data": {
      "text/plain": [
       "{'course_name': ['data science master',\n",
       "  'web dev',\n",
       "  'java with dsa and system design']}"
      ]
     },
     "execution_count": 149,
     "metadata": {},
     "output_type": "execute_result"
    }
   ],
   "source": [
    "d12 # we can store multiple values in the form of list in a single key"
   ]
  },
  {
   "cell_type": "code",
   "execution_count": 150,
   "id": "0f2ae758-807d-4993-9b5c-fef8ce3286c3",
   "metadata": {},
   "outputs": [],
   "source": [
    "d13 = {'key':(1,2,2,4,4,5)} # value can be store in theform of tuples"
   ]
  },
  {
   "cell_type": "code",
   "execution_count": 153,
   "id": "80a5b5cd-596c-4f90-99ea-f172884656ad",
   "metadata": {},
   "outputs": [],
   "source": [
    "d14 ={'key':{1,24,4,44}} # value can be store in the form of dictionary\n"
   ]
  },
  {
   "cell_type": "code",
   "execution_count": 154,
   "id": "77c11148-4c9e-4057-9f62-557e042ed4a7",
   "metadata": {},
   "outputs": [],
   "source": [
    "d15 ={'key':{'name':'sudhanshu','class':'dsa'}}"
   ]
  },
  {
   "cell_type": "code",
   "execution_count": 156,
   "id": "19f32de7-851f-4037-87c0-54476ac6dfb0",
   "metadata": {},
   "outputs": [
    {
     "data": {
      "text/plain": [
       "{'key': {'name': 'sudhanshu', 'class': 'dsa'}}"
      ]
     },
     "execution_count": 156,
     "metadata": {},
     "output_type": "execute_result"
    }
   ],
   "source": [
    "d15 # key can store value in the form dictionary"
   ]
  },
  {
   "cell_type": "code",
   "execution_count": 157,
   "id": "15119d5a-112d-4461-9a7d-bfdc5dfcaa8c",
   "metadata": {},
   "outputs": [],
   "source": [
    "d16 = {'batch_name':['data science masters','web dev','jds'],'start_date':(34,14,21),'mentor_name':{'krish','sudhanshu','vishwa','anurag','hydr','navin',},'timing':(2,4,4),'name':'sudhanshu'}"
   ]
  },
  {
   "cell_type": "code",
   "execution_count": 158,
   "id": "0b89d5d5-2f5b-4a5b-b0ba-66ae58b409cc",
   "metadata": {},
   "outputs": [
    {
     "data": {
      "text/plain": [
       "{'batch_name': ['data science masters', 'web dev', 'jds'],\n",
       " 'start_date': (34, 14, 21),\n",
       " 'mentor_name': {'anurag', 'hydr', 'krish', 'navin', 'sudhanshu', 'vishwa'},\n",
       " 'timing': (2, 4, 4),\n",
       " 'name': 'sudhanshu'}"
      ]
     },
     "execution_count": 158,
     "metadata": {},
     "output_type": "execute_result"
    }
   ],
   "source": [
    "d16"
   ]
  },
  {
   "cell_type": "code",
   "execution_count": 159,
   "id": "fab4748c-1e88-4ee4-80f4-218d7438e844",
   "metadata": {},
   "outputs": [
    {
     "data": {
      "text/plain": [
       "dict_keys(['batch_name', 'start_date', 'mentor_name', 'timing', 'name'])"
      ]
     },
     "execution_count": 159,
     "metadata": {},
     "output_type": "execute_result"
    }
   ],
   "source": [
    "d16.keys()"
   ]
  },
  {
   "cell_type": "code",
   "execution_count": 161,
   "id": "f89b7d50-a502-4e07-a96a-d3699216d999",
   "metadata": {},
   "outputs": [
    {
     "data": {
      "text/plain": [
       "dict_values([['data science masters', 'web dev', 'jds'], (34, 14, 21), {'vishwa', 'krish', 'hydr', 'anurag', 'navin', 'sudhanshu'}, (2, 4, 4), 'sudhanshu'])"
      ]
     },
     "execution_count": 161,
     "metadata": {},
     "output_type": "execute_result"
    }
   ],
   "source": [
    "d16.values()"
   ]
  },
  {
   "cell_type": "code",
   "execution_count": 162,
   "id": "b45ce029-c636-4752-a756-69a83ede4959",
   "metadata": {},
   "outputs": [
    {
     "data": {
      "text/plain": [
       "dict_items([('batch_name', ['data science masters', 'web dev', 'jds']), ('start_date', (34, 14, 21)), ('mentor_name', {'vishwa', 'krish', 'hydr', 'anurag', 'navin', 'sudhanshu'}), ('timing', (2, 4, 4)), ('name', 'sudhanshu')])"
      ]
     },
     "execution_count": 162,
     "metadata": {},
     "output_type": "execute_result"
    }
   ],
   "source": [
    "d16.items()"
   ]
  },
  {
   "cell_type": "code",
   "execution_count": 164,
   "id": "cedcc1df-02e7-44a1-bc7d-b8ce8c15b418",
   "metadata": {},
   "outputs": [
    {
     "data": {
      "text/plain": [
       "[['data science masters', 'web dev', 'jds'],\n",
       " (34, 14, 21),\n",
       " {'anurag', 'hydr', 'krish', 'navin', 'sudhanshu', 'vishwa'},\n",
       " (2, 4, 4),\n",
       " 'sudhanshu']"
      ]
     },
     "execution_count": 164,
     "metadata": {},
     "output_type": "execute_result"
    }
   ],
   "source": [
    "list(d16.values())"
   ]
  },
  {
   "cell_type": "code",
   "execution_count": 165,
   "id": "ff3caee4-95c6-466a-a0a3-ce6b6cad0df7",
   "metadata": {},
   "outputs": [
    {
     "data": {
      "text/plain": [
       "[('batch_name', ['data science masters', 'web dev', 'jds']),\n",
       " ('start_date', (34, 14, 21)),\n",
       " ('mentor_name', {'anurag', 'hydr', 'krish', 'navin', 'sudhanshu', 'vishwa'}),\n",
       " ('timing', (2, 4, 4)),\n",
       " ('name', 'sudhanshu')]"
      ]
     },
     "execution_count": 165,
     "metadata": {},
     "output_type": "execute_result"
    }
   ],
   "source": [
    "list(d16.items())"
   ]
  },
  {
   "cell_type": "code",
   "execution_count": null,
   "id": "d0148523-84b7-4907-962a-2c603eb81b0a",
   "metadata": {},
   "outputs": [],
   "source": []
  },
  {
   "cell_type": "code",
   "execution_count": 166,
   "id": "71c27c18-fbdd-4c34-a22a-386f0143ee0b",
   "metadata": {},
   "outputs": [
    {
     "ename": "TypeError",
     "evalue": "unsupported operand type(s) for *: 'dict' and 'int'",
     "output_type": "error",
     "traceback": [
      "\u001b[0;31m---------------------------------------------------------------------------\u001b[0m",
      "\u001b[0;31mTypeError\u001b[0m                                 Traceback (most recent call last)",
      "Cell \u001b[0;32mIn[166], line 1\u001b[0m\n\u001b[0;32m----> 1\u001b[0m \u001b[43md16\u001b[49m\u001b[43m \u001b[49m\u001b[38;5;241;43m*\u001b[39;49m\u001b[38;5;241;43m2\u001b[39;49m\n",
      "\u001b[0;31mTypeError\u001b[0m: unsupported operand type(s) for *: 'dict' and 'int'"
     ]
    }
   ],
   "source": [
    "d16 *2"
   ]
  },
  {
   "cell_type": "code",
   "execution_count": 167,
   "id": "94c8e8e4-b10e-4f42-be69-3e31216c2013",
   "metadata": {},
   "outputs": [],
   "source": [
    "d17 =d16.copy()  #deep copy --it wil reserve new space and store the dataa\n",
    "# if we change in d16 , there will be no change in d17"
   ]
  },
  {
   "cell_type": "code",
   "execution_count": 173,
   "id": "e1ffd5ed-4680-4a6c-81df-525383a598a6",
   "metadata": {},
   "outputs": [
    {
     "data": {
      "text/plain": [
       "{'batch_name': ['data science masters', 'web dev', 'jds'],\n",
       " 'start_date': (34, 14, 21),\n",
       " 'mentor_name': {'anurag', 'hydr', 'krish', 'navin', 'sudhanshu', 'vishwa'},\n",
       " 'timing': (2, 4, 4),\n",
       " 'name': 'sudhanshu'}"
      ]
     },
     "execution_count": 173,
     "metadata": {},
     "output_type": "execute_result"
    }
   ],
   "source": [
    "d17"
   ]
  },
  {
   "cell_type": "code",
   "execution_count": 171,
   "id": "e07c95ab-b1a9-4251-849c-be21ba3ffe6f",
   "metadata": {},
   "outputs": [
    {
     "data": {
      "text/plain": [
       "{'batch_name': ['data science masters', 'web dev', 'jds'],\n",
       " 'start_date': (34, 14, 21),\n",
       " 'mentor_name': {'anurag', 'hydr', 'krish', 'navin', 'sudhanshu', 'vishwa'},\n",
       " 'timing': (2, 4, 4)}"
      ]
     },
     "execution_count": 171,
     "metadata": {},
     "output_type": "execute_result"
    }
   ],
   "source": [
    "# example\n",
    "del d16['name']\n",
    "d16  # there is no name key in d16"
   ]
  },
  {
   "cell_type": "code",
   "execution_count": 172,
   "id": "e2b863d0-8f8e-4338-acc7-9e8c80706a28",
   "metadata": {},
   "outputs": [
    {
     "data": {
      "text/plain": [
       "{'batch_name': ['data science masters', 'web dev', 'jds'],\n",
       " 'start_date': (34, 14, 21),\n",
       " 'mentor_name': {'anurag', 'hydr', 'krish', 'navin', 'sudhanshu', 'vishwa'},\n",
       " 'timing': (2, 4, 4),\n",
       " 'name': 'sudhanshu'}"
      ]
     },
     "execution_count": 172,
     "metadata": {},
     "output_type": "execute_result"
    }
   ],
   "source": [
    "d17 # name key is present there\\\n",
    "# so when we use copy function , it stores in different location\n",
    "# and change in one dictionary can not be affected in other"
   ]
  },
  {
   "cell_type": "code",
   "execution_count": null,
   "id": "1626deac-b5cf-4e9e-a585-0ff8eb6a3005",
   "metadata": {},
   "outputs": [],
   "source": []
  },
  {
   "cell_type": "code",
   "execution_count": null,
   "id": "18d27503-b0ac-4125-8633-694eec3916d7",
   "metadata": {},
   "outputs": [],
   "source": []
  },
  {
   "cell_type": "code",
   "execution_count": 176,
   "id": "4c73eae6-199b-4be4-9170-20b29c57769e",
   "metadata": {},
   "outputs": [],
   "source": [
    "d18 = d17 # shallow copy"
   ]
  },
  {
   "cell_type": "code",
   "execution_count": 177,
   "id": "06c5ae17-2698-4756-a6a2-925ae00efad1",
   "metadata": {},
   "outputs": [
    {
     "data": {
      "text/plain": [
       "{'batch_name': ['data science masters', 'web dev', 'jds'],\n",
       " 'start_date': (34, 14, 21),\n",
       " 'mentor_name': {'anurag', 'hydr', 'krish', 'navin', 'sudhanshu', 'vishwa'},\n",
       " 'timing': (2, 4, 4),\n",
       " 'name': 'sudhanshu'}"
      ]
     },
     "execution_count": 177,
     "metadata": {},
     "output_type": "execute_result"
    }
   ],
   "source": [
    "d18"
   ]
  },
  {
   "cell_type": "code",
   "execution_count": 178,
   "id": "0e5dcd6c-59a6-4870-9b61-b9cbd6df0130",
   "metadata": {},
   "outputs": [
    {
     "data": {
      "text/plain": [
       "{'batch_name': ['data science masters', 'web dev', 'jds'],\n",
       " 'start_date': (34, 14, 21),\n",
       " 'mentor_name': {'anurag', 'hydr', 'krish', 'navin', 'sudhanshu', 'vishwa'},\n",
       " 'timing': (2, 4, 4),\n",
       " 'name': 'sudhanshu'}"
      ]
     },
     "execution_count": 178,
     "metadata": {},
     "output_type": "execute_result"
    }
   ],
   "source": [
    "d17"
   ]
  },
  {
   "cell_type": "code",
   "execution_count": 179,
   "id": "8ead9958-0d35-4956-abf8-549355f22a4c",
   "metadata": {},
   "outputs": [
    {
     "data": {
      "text/plain": [
       "{'start_date': (34, 14, 21),\n",
       " 'mentor_name': {'anurag', 'hydr', 'krish', 'navin', 'sudhanshu', 'vishwa'},\n",
       " 'timing': (2, 4, 4),\n",
       " 'name': 'sudhanshu'}"
      ]
     },
     "execution_count": 179,
     "metadata": {},
     "output_type": "execute_result"
    }
   ],
   "source": [
    "del d17['batch_name']\n",
    "d17"
   ]
  },
  {
   "cell_type": "code",
   "execution_count": 180,
   "id": "1bd9399a-cd9a-4180-b2fd-fc248b4ae364",
   "metadata": {},
   "outputs": [
    {
     "data": {
      "text/plain": [
       "{'start_date': (34, 14, 21),\n",
       " 'mentor_name': {'anurag', 'hydr', 'krish', 'navin', 'sudhanshu', 'vishwa'},\n",
       " 'timing': (2, 4, 4),\n",
       " 'name': 'sudhanshu'}"
      ]
     },
     "execution_count": 180,
     "metadata": {},
     "output_type": "execute_result"
    }
   ],
   "source": [
    "d18"
   ]
  },
  {
   "cell_type": "code",
   "execution_count": 181,
   "id": "6f7a4432-8bd9-42d1-b801-b86af8cd4038",
   "metadata": {},
   "outputs": [],
   "source": [
    "# as we can see that change in d17 can be seen or affect in d18\n",
    "# this is because it stores data at same location \n"
   ]
  },
  {
   "cell_type": "code",
   "execution_count": 184,
   "id": "e4379f74-2ce6-4621-aa36-cb20df6b803c",
   "metadata": {},
   "outputs": [
    {
     "data": {
      "text/plain": [
       "{'anurag', 'hydr', 'krish', 'navin', 'sudhanshu', 'vishwa'}"
      ]
     },
     "execution_count": 184,
     "metadata": {},
     "output_type": "execute_result"
    }
   ],
   "source": [
    "d16.pop('mentor_name')"
   ]
  },
  {
   "cell_type": "code",
   "execution_count": 185,
   "id": "d0268e01-51d3-4596-8eea-225c2938fd5f",
   "metadata": {},
   "outputs": [
    {
     "data": {
      "text/plain": [
       "{'batch_name': ['data science masters', 'web dev', 'jds'],\n",
       " 'start_date': (34, 14, 21),\n",
       " 'timing': (2, 4, 4)}"
      ]
     },
     "execution_count": 185,
     "metadata": {},
     "output_type": "execute_result"
    }
   ],
   "source": [
    "d16"
   ]
  },
  {
   "cell_type": "code",
   "execution_count": 186,
   "id": "1042019c-a465-4636-9dce-62b2b896a232",
   "metadata": {},
   "outputs": [
    {
     "data": {
      "text/plain": [
       "(2, 4, 4)"
      ]
     },
     "execution_count": 186,
     "metadata": {},
     "output_type": "execute_result"
    }
   ],
   "source": [
    "d16.pop('timing')"
   ]
  },
  {
   "cell_type": "code",
   "execution_count": 187,
   "id": "430a9d76-0b92-4816-a790-9909aa5bddce",
   "metadata": {},
   "outputs": [
    {
     "data": {
      "text/plain": [
       "{'batch_name': ['data science masters', 'web dev', 'jds'],\n",
       " 'start_date': (34, 14, 21)}"
      ]
     },
     "execution_count": 187,
     "metadata": {},
     "output_type": "execute_result"
    }
   ],
   "source": [
    "d16"
   ]
  },
  {
   "cell_type": "code",
   "execution_count": 188,
   "id": "6b41fad2-d0e1-4e28-b5d8-24eb17dd4bb1",
   "metadata": {},
   "outputs": [
    {
     "data": {
      "text/plain": [
       "{1: ('a', 'b', 'c'), 2: ('a', 'b', 'c'), 3: ('a', 'b', 'c')}"
      ]
     },
     "execution_count": 188,
     "metadata": {},
     "output_type": "execute_result"
    }
   ],
   "source": [
    "d.fromkeys((1,2,3),('a','b','c'))"
   ]
  },
  {
   "cell_type": "code",
   "execution_count": 189,
   "id": "2a44d7d0-09b6-4edb-8bae-0088dabbdeb6",
   "metadata": {},
   "outputs": [],
   "source": [
    "# fromkeys function first parameter is treated like a key and other\n",
    "# parameter as a value of each keys"
   ]
  },
  {
   "cell_type": "code",
   "execution_count": 190,
   "id": "46c03085-f7ff-4637-a9bd-415141881da8",
   "metadata": {},
   "outputs": [],
   "source": [
    "d19 = {'key1':'value','key2':'value2'}\n",
    "d20 = {'key3':'value3','key4':'value4'}"
   ]
  },
  {
   "cell_type": "code",
   "execution_count": 191,
   "id": "a784c26a-9e2d-46b5-bd34-6de7481420e5",
   "metadata": {},
   "outputs": [
    {
     "data": {
      "text/plain": [
       "({'key1': 'value', 'key2': 'value2'}, {'key3': 'value3', 'key4': 'value4'})"
      ]
     },
     "execution_count": 191,
     "metadata": {},
     "output_type": "execute_result"
    }
   ],
   "source": [
    "d19,d20"
   ]
  },
  {
   "cell_type": "code",
   "execution_count": 192,
   "id": "780cfe4b-32b9-47fa-855d-6c513454b20d",
   "metadata": {},
   "outputs": [],
   "source": [
    "d19.update(d20)"
   ]
  },
  {
   "cell_type": "code",
   "execution_count": 193,
   "id": "a23d1411-128a-4a97-a667-0259fa54df8e",
   "metadata": {},
   "outputs": [
    {
     "data": {
      "text/plain": [
       "{'key1': 'value', 'key2': 'value2', 'key3': 'value3', 'key4': 'value4'}"
      ]
     },
     "execution_count": 193,
     "metadata": {},
     "output_type": "execute_result"
    }
   ],
   "source": [
    "d19"
   ]
  },
  {
   "cell_type": "code",
   "execution_count": 194,
   "id": "d20bf12f-67f6-4cd4-9068-70c5a83193fa",
   "metadata": {},
   "outputs": [
    {
     "data": {
      "text/plain": [
       "{'key3': 'value3', 'key4': 'value4'}"
      ]
     },
     "execution_count": 194,
     "metadata": {},
     "output_type": "execute_result"
    }
   ],
   "source": [
    "d20"
   ]
  },
  {
   "cell_type": "code",
   "execution_count": 195,
   "id": "ad357553-5aed-4842-87c3-1c635793096d",
   "metadata": {},
   "outputs": [],
   "source": [
    "d20.update(d19)"
   ]
  },
  {
   "cell_type": "code",
   "execution_count": 196,
   "id": "740060af-8708-419b-9c95-773a36f253dc",
   "metadata": {},
   "outputs": [
    {
     "data": {
      "text/plain": [
       "{'key3': 'value3', 'key4': 'value4', 'key1': 'value', 'key2': 'value2'}"
      ]
     },
     "execution_count": 196,
     "metadata": {},
     "output_type": "execute_result"
    }
   ],
   "source": [
    "d20"
   ]
  },
  {
   "cell_type": "code",
   "execution_count": 197,
   "id": "052ac372-f6b3-49a1-8c05-d780e4b1f3a8",
   "metadata": {},
   "outputs": [],
   "source": [
    "d20.get('sudh') # sudh is not present in d20 stillnot shownng any error"
   ]
  },
  {
   "cell_type": "code",
   "execution_count": 198,
   "id": "edfb65bd-c87d-4efd-8472-0d2d1722f9e3",
   "metadata": {},
   "outputs": [
    {
     "data": {
      "text/plain": [
       "'value3'"
      ]
     },
     "execution_count": 198,
     "metadata": {},
     "output_type": "execute_result"
    }
   ],
   "source": [
    "d20.get('key3')"
   ]
  },
  {
   "cell_type": "code",
   "execution_count": 199,
   "id": "573176dd-4011-4629-a89e-929c3f3d729f",
   "metadata": {},
   "outputs": [
    {
     "data": {
      "text/plain": [
       "'value3'"
      ]
     },
     "execution_count": 199,
     "metadata": {},
     "output_type": "execute_result"
    }
   ],
   "source": [
    "d20['key3']"
   ]
  },
  {
   "cell_type": "markdown",
   "id": "39e50bd2-f23d-41c7-b776-1f9e47841ee4",
   "metadata": {},
   "source": [
    "# dictionary comprehension"
   ]
  },
  {
   "cell_type": "code",
   "execution_count": 205,
   "id": "bae12dc4-daa2-4494-848c-56475ae662c6",
   "metadata": {},
   "outputs": [
    {
     "data": {
      "text/plain": [
       "{1: 1, 2: 4, 3: 9, 4: 16, 5: 25, 6: 36, 7: 49, 8: 64, 9: 81, 10: 100}"
      ]
     },
     "execution_count": 205,
     "metadata": {},
     "output_type": "execute_result"
    }
   ],
   "source": [
    "{i:i**2 for i in range(1,11)}"
   ]
  },
  {
   "cell_type": "code",
   "execution_count": 203,
   "id": "fae54b47-5a0f-4c95-951e-ff6645ea271c",
   "metadata": {},
   "outputs": [
    {
     "data": {
      "text/plain": [
       "[1, 2, 3, 4, 5, 6, 7, 8, 9, 10]"
      ]
     },
     "execution_count": 203,
     "metadata": {},
     "output_type": "execute_result"
    }
   ],
   "source": [
    "list(range(1,11))"
   ]
  },
  {
   "cell_type": "code",
   "execution_count": 206,
   "id": "7bdb0080-2333-4e43-bef6-c70a84b44acc",
   "metadata": {},
   "outputs": [
    {
     "data": {
      "text/plain": [
       "{2, 4, 6, 8, 10}"
      ]
     },
     "execution_count": 206,
     "metadata": {},
     "output_type": "execute_result"
    }
   ],
   "source": [
    "{i for i in range(1,11) if i%2==0}"
   ]
  },
  {
   "cell_type": "code",
   "execution_count": 207,
   "id": "c6de4e64-af3d-448d-b8b6-7e55a3d81372",
   "metadata": {},
   "outputs": [
    {
     "data": {
      "text/plain": [
       "{1, 3, 5, 7, 9}"
      ]
     },
     "execution_count": 207,
     "metadata": {},
     "output_type": "execute_result"
    }
   ],
   "source": [
    "{i for i in range(1,11) if i%2 !=0}"
   ]
  },
  {
   "cell_type": "code",
   "execution_count": 208,
   "id": "40f9cefc-65ea-41ff-a32d-ecb1425639ec",
   "metadata": {},
   "outputs": [
    {
     "data": {
      "text/plain": [
       "{2, 3, 4, 5, 6, 7, 8, 9, 10, 11}"
      ]
     },
     "execution_count": 208,
     "metadata": {},
     "output_type": "execute_result"
    }
   ],
   "source": [
    "{i+1 for i in range(1,11) }"
   ]
  },
  {
   "cell_type": "code",
   "execution_count": 209,
   "id": "7e69f51e-d2af-4610-887c-a79d2daf7d18",
   "metadata": {},
   "outputs": [
    {
     "data": {
      "text/plain": [
       "{1, 8, 27, 64, 125, 216, 343, 512, 729, 1000}"
      ]
     },
     "execution_count": 209,
     "metadata": {},
     "output_type": "execute_result"
    }
   ],
   "source": [
    "{i**3 for i in range(1,11)}"
   ]
  },
  {
   "cell_type": "code",
   "execution_count": 210,
   "id": "90b19094-dc3e-457a-bc9a-d01e8780dd91",
   "metadata": {},
   "outputs": [
    {
     "data": {
      "text/plain": [
       "{1, 16, 81, 256, 625, 1296, 2401, 4096, 6561, 10000}"
      ]
     },
     "execution_count": 210,
     "metadata": {},
     "output_type": "execute_result"
    }
   ],
   "source": [
    "{i**4 for i in range(1,11)}"
   ]
  },
  {
   "cell_type": "code",
   "execution_count": 220,
   "id": "f8844804-cb12-4aa5-85d2-06479b022c3a",
   "metadata": {},
   "outputs": [
    {
     "data": {
      "text/plain": [
       "{1: 0.0,\n",
       " 2: 0.3010299956639812,\n",
       " 3: 0.47712125471966244,\n",
       " 4: 0.6020599913279624,\n",
       " 5: 0.6989700043360189,\n",
       " 6: 0.7781512503836436,\n",
       " 7: 0.8450980400142568,\n",
       " 8: 0.9030899869919435,\n",
       " 9: 0.9542425094393249,\n",
       " 10: 1.0}"
      ]
     },
     "execution_count": 220,
     "metadata": {},
     "output_type": "execute_result"
    }
   ],
   "source": [
    "import math\n",
    "d21={i:math.log10(i) for i in range(1,11)}\n",
    "d21"
   ]
  },
  {
   "cell_type": "code",
   "execution_count": 215,
   "id": "113f9339-78dc-4b0b-beee-eb5c877d40cf",
   "metadata": {},
   "outputs": [
    {
     "data": {
      "text/plain": [
       "{'batch_name': ['data science masters', 'web dev', 'jds'],\n",
       " 'start_date': (34, 14, 21)}"
      ]
     },
     "execution_count": 215,
     "metadata": {},
     "output_type": "execute_result"
    }
   ],
   "source": [
    "d16"
   ]
  },
  {
   "cell_type": "code",
   "execution_count": 216,
   "id": "d8a335f3-6865-4b69-8010-de63bae710a0",
   "metadata": {},
   "outputs": [
    {
     "data": {
      "text/plain": [
       "True"
      ]
     },
     "execution_count": 216,
     "metadata": {},
     "output_type": "execute_result"
    }
   ],
   "source": [
    "'batch_name' in d16"
   ]
  },
  {
   "cell_type": "code",
   "execution_count": 219,
   "id": "8077e261-c8f5-43a1-adc8-9236ae569f1d",
   "metadata": {},
   "outputs": [
    {
     "name": "stdout",
     "output_type": "stream",
     "text": [
      "batch_name\n",
      "start_date\n"
     ]
    }
   ],
   "source": [
    "for i in d16:\n",
    "    print(i)"
   ]
  },
  {
   "cell_type": "code",
   "execution_count": 223,
   "id": "7f935698-96b2-454d-b32c-fe040a0d3c5f",
   "metadata": {},
   "outputs": [
    {
     "name": "stdout",
     "output_type": "stream",
     "text": [
      "0.3010299956639812\n",
      "0.6020599913279624\n",
      "0.7781512503836436\n",
      "0.9030899869919435\n",
      "1.0\n"
     ]
    }
   ],
   "source": [
    "for i in d21.keys():\n",
    "    if i%2==0:\n",
    "        print(d21[i])"
   ]
  },
  {
   "cell_type": "code",
   "execution_count": null,
   "id": "fda077f5-a149-4361-8de4-e91db6b25df3",
   "metadata": {},
   "outputs": [],
   "source": []
  }
 ],
 "metadata": {
  "kernelspec": {
   "display_name": "Python 3 (ipykernel)",
   "language": "python",
   "name": "python3"
  },
  "language_info": {
   "codemirror_mode": {
    "name": "ipython",
    "version": 3
   },
   "file_extension": ".py",
   "mimetype": "text/x-python",
   "name": "python",
   "nbconvert_exporter": "python",
   "pygments_lexer": "ipython3",
   "version": "3.10.8"
  }
 },
 "nbformat": 4,
 "nbformat_minor": 5
}
