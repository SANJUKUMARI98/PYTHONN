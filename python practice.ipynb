{
 "cells": [
  {
   "cell_type": "raw",
   "id": "712fd894-940a-4f78-8e75-4ec948a1c84a",
   "metadata": {},
   "source": [
    "# python practice"
   ]
  },
  {
   "cell_type": "code",
   "execution_count": null,
   "id": "12fca050-0fe6-44f8-9330-cc8ec5eacc55",
   "metadata": {},
   "outputs": [],
   "source": [
    "'''Ques1. Write a python program that defines a function called \"add_numbers\"that \n",
    "takes two arguments (i.e. numbers) and returns their sum . Within the\n",
    "function, add the two numbers together and return usinfg the return statement. Call\n",
    "the function with the values 5 and 6, and printt out the returned result. This will result in the\n",
    "addition of 5 and 6, with the output of the program being the sum of these numbers'''\n",
    "\n",
    "\n",
    "def add_numbers(num1,num2):\n",
    "    sum= num1+num2\n",
    "    return sum\n",
    "\n",
    "add=add_numbers(3,4)\n",
    "print(add)\n",
    "\n",
    "\n",
    "def add_numbers(num1,num2):\n",
    "    sum = num1+num2\n",
    "    return sum\n",
    "\n",
    "print(add_numbers(34,5))"
   ]
  },
  {
   "cell_type": "code",
   "execution_count": null,
   "id": "e4b64aee-affd-4033-895d-d8c594d66732",
   "metadata": {},
   "outputs": [],
   "source": [
    "'''Ques2 write a python program that calculates the square rooot of a given number\n",
    "using a built-in function. specifically, the program should take an integer or\n",
    "float input from the user, calculate its square root using the 'sqrt()' function\n",
    "from the 'math' module, and print out the result to the user. As an example , calculate\n",
    "the square root of the number 625 using this program, which should output the value of 25.'''\n",
    "\n",
    "\n",
    "import math\n",
    "\n",
    "number=625\n",
    "\n",
    "sqrt_number= math.sqrt(number)\n",
    "print('this is a square rooot of ', number ,'is', sqrt_number)\n",
    "\n",
    "\n",
    "import math\n",
    "def num_sqt(num):\n",
    "    num=math.sqrt(num)\n",
    "    return num\n",
    "\n",
    "print('the square root of 34 is',num_sqt(34))"
   ]
  },
  {
   "cell_type": "code",
   "execution_count": null,
   "id": "ffeacd9e-4ec7-4e87-9091-0d2b7db704b5",
   "metadata": {},
   "outputs": [],
   "source": [
    "''' Ques3. Write a program that print all prime numbers between 0 to 50.'''\n",
    "\n",
    "for number in range(2,51):\n",
    "    is_prime = True\n",
    "    for i in range(2,number):\n",
    "        if number %i ==0:\n",
    "            is_prime=False\n",
    "            break\n",
    "    if is_prime:\n",
    "        print(number)"
   ]
  },
  {
   "cell_type": "code",
   "execution_count": null,
   "id": "a2072c47-1cbd-4e0b-b4b3-351b7cd6ee60",
   "metadata": {},
   "outputs": [],
   "source": [
    "for number in range(2,51):\n",
    "    is_prime =True\n",
    "    for i in range(2,number):\n",
    "        if number % i ==0:\n",
    "            is_prime = False\n",
    "            break\n",
    "    if is_prime:\n",
    "            print(number)"
   ]
  },
  {
   "cell_type": "code",
   "execution_count": null,
   "id": "32c49ede-a9d1-4358-a650-0c69a60083ff",
   "metadata": {},
   "outputs": [],
   "source": [
    "for number in range(2,51):\n",
    "    is_prime = True\n",
    "    for i in range(2,number):\n",
    "        if number %i ==0:\n",
    "            is_prime = False\n",
    "    if is_prime:\n",
    "        print(number)"
   ]
  },
  {
   "cell_type": "code",
   "execution_count": null,
   "id": "48ae11f1-9085-43c0-bacb-d6e6c6ae9b11",
   "metadata": {},
   "outputs": [],
   "source": [
    "''' Ques4. How can we swap the values of three variables (let's say a,b,c)without\n",
    "using a fourth variable? for example, if we have a=5,b=8,and c=9, how \n",
    "we obtain a=9,b=5,c=8? The challlenge is to perform this operation without using an additional\n",
    "variable to store any of the values during the swapping process.'''\n",
    "\n",
    "\n",
    "a = 5\n",
    "b=8\n",
    "c=9\n",
    "\n",
    "a,b,c=c,a,b\n",
    "\n",
    "print('a=',a)\n",
    "print('b=',b)\n",
    "print('c=',c)\n",
    "\n",
    "x=10\n",
    "y=34\n",
    "z=3234\n",
    "\n",
    "x,y,z=y,x,z\n",
    "print('x',x)\n",
    "print('y',y)\n",
    "print('z',z)"
   ]
  },
  {
   "cell_type": "code",
   "execution_count": null,
   "id": "56aff7a0-b0de-44ca-a272-75d7e9e0b476",
   "metadata": {},
   "outputs": [],
   "source": [
    "'''\n",
    "5. Can you write a program that determines the nature of a given number\n",
    "(in this case, 87) as being positive, negative,\n",
    "or zero? The program should be designed to take \n",
    "the number as input and perform the necessary \n",
    "calculations to determine if the number is positive\n",
    "(i.e., greater than zero), negative (i.e., less than\n",
    "zero), or zero (i.e., equal to zero). The output of\n",
    "the program should indicate which of these three\n",
    "categories the given number falls into.\n",
    "'''\n",
    "\n",
    "\n",
    "number= int(input('enter the number'))\n",
    "\n",
    "if number ==0:\n",
    "    print('the number is zero')\n",
    "elif number<0:\n",
    "    print('the number is negative')\n",
    "else:\n",
    "    if number > 0:\n",
    "        print('the number is positive')\n",
    "    "
   ]
  },
  {
   "cell_type": "code",
   "execution_count": null,
   "id": "ea356df8-d61b-459e-93d5-d751b22f662c",
   "metadata": {},
   "outputs": [],
   "source": [
    "'''\n",
    "6. How can you create a program that determines\n",
    "whether a given number (in this case, 98) is even \n",
    "or odd? The program should be designed to take the \n",
    "number as input and perform the necessary calculations\n",
    "to determine whether it is divisible by two. If the \n",
    "number is divisible by two without leaving a remainder,\n",
    "it is an even number, and if there is a remainder, it\n",
    "is an odd number. The output of the program should\n",
    "indicate whether the given number is even or odd.\n",
    "\n",
    "'''\n",
    "\n",
    "number = int(input('enter the number'))\n",
    "\n",
    "if number %2==0:\n",
    "    print('the number is even')\n",
    "else:\n",
    "    print('the number is odd')"
   ]
  },
  {
   "cell_type": "code",
   "execution_count": null,
   "id": "fdbef6a6-73bd-4aad-8707-5d073dfb0cc4",
   "metadata": {},
   "outputs": [],
   "source": [
    "'''\n",
    "7. Write a program for sum of digits.the digits \n",
    "are 76543 and the output should be  25.\n",
    "'''\n",
    "\n",
    "num = 76543\n",
    "sum_=0\n",
    "while num >0:\n",
    "    sum_ +=num %10\n",
    "    num//=10\n",
    "    \n",
    "print('the sum of digits is :',sum_)\n",
    "    "
   ]
  },
  {
   "cell_type": "code",
   "execution_count": null,
   "id": "94001145-4523-49f9-a633-0d1f6f794e18",
   "metadata": {},
   "outputs": [],
   "source": [
    "7%10"
   ]
  },
  {
   "cell_type": "code",
   "execution_count": null,
   "id": "ba2cce9e-409f-4b23-b8f7-4efb230fd6c2",
   "metadata": {},
   "outputs": [],
   "source": [
    "7//10"
   ]
  },
  {
   "cell_type": "code",
   "execution_count": null,
   "id": "2531175a-2f21-4525-b972-0e7b22046f60",
   "metadata": {},
   "outputs": [],
   "source": [
    "10//7"
   ]
  },
  {
   "cell_type": "code",
   "execution_count": null,
   "id": "acee3e43-6188-44ee-942b-cb2890a2f0f1",
   "metadata": {},
   "outputs": [],
   "source": [
    "10%7 # returnig remainder"
   ]
  },
  {
   "cell_type": "code",
   "execution_count": null,
   "id": "5015bb38-adad-4d03-a384-a1452b5550fc",
   "metadata": {},
   "outputs": [],
   "source": [
    "10/7  # simple divide"
   ]
  },
  {
   "cell_type": "code",
   "execution_count": null,
   "id": "7fb803c3-2cd4-4e77-aa79-13b53ebd5a2a",
   "metadata": {},
   "outputs": [],
   "source": [
    "10//7  # returning the left side integer"
   ]
  },
  {
   "cell_type": "code",
   "execution_count": null,
   "id": "d4248225-14ec-435c-8491-5c602839e1cb",
   "metadata": {},
   "outputs": [],
   "source": [
    "10%7  # returning the remainder, when first is greater"
   ]
  },
  {
   "cell_type": "code",
   "execution_count": null,
   "id": "830f3d6b-8f5c-4b7c-b652-b3e82cac4d9a",
   "metadata": {},
   "outputs": [],
   "source": [
    "7%10 # return same no. if first no. is smaller than second"
   ]
  },
  {
   "cell_type": "code",
   "execution_count": null,
   "id": "4fe4a7de-36ea-4c09-a5b1-fda2531aa07b",
   "metadata": {},
   "outputs": [],
   "source": [
    "8%10"
   ]
  },
  {
   "cell_type": "code",
   "execution_count": null,
   "id": "2b891f71-a297-4765-be12-0e31f9b4460d",
   "metadata": {},
   "outputs": [],
   "source": [
    "3%10"
   ]
  },
  {
   "cell_type": "code",
   "execution_count": null,
   "id": "33062b7b-31a1-44ba-881f-72cc43ab959a",
   "metadata": {},
   "outputs": [],
   "source": [
    "~12"
   ]
  },
  {
   "cell_type": "code",
   "execution_count": null,
   "id": "0dd4402c-0aef-42f9-a8e6-78d829c7cf5f",
   "metadata": {},
   "outputs": [],
   "source": [
    "~-8"
   ]
  },
  {
   "cell_type": "code",
   "execution_count": 1,
   "id": "fb60bef7-ef95-4d28-9bee-cf43f986914c",
   "metadata": {},
   "outputs": [
    {
     "data": {
      "text/plain": [
       "0"
      ]
     },
     "execution_count": 1,
     "metadata": {},
     "output_type": "execute_result"
    }
   ],
   "source": [
    "7//10"
   ]
  },
  {
   "cell_type": "code",
   "execution_count": null,
   "id": "195c71bd-54c4-4c9b-b457-868bbf07c918",
   "metadata": {},
   "outputs": [],
   "source": [
    "6//10"
   ]
  },
  {
   "cell_type": "code",
   "execution_count": null,
   "id": "c833fe0e-24b4-481f-bea0-f0755c2a1ece",
   "metadata": {},
   "outputs": [],
   "source": [
    "5//10\n"
   ]
  },
  {
   "cell_type": "code",
   "execution_count": 1,
   "id": "ad9b568c-2b1d-4a66-8e38-5e100e44a14c",
   "metadata": {},
   "outputs": [
    {
     "name": "stdout",
     "output_type": "stream",
     "text": [
      "the sum of the number is : 36\n"
     ]
    }
   ],
   "source": [
    "num=34534656\n",
    "sum_=0\n",
    "while num>0:\n",
    "    sum_ +=num%10\n",
    "    num//=10\n",
    "print('the sum of the number is :',sum_)    "
   ]
  },
  {
   "cell_type": "code",
   "execution_count": 13,
   "id": "a5487682-4d32-4cb1-8dce-5a3629bfe39b",
   "metadata": {},
   "outputs": [
    {
     "name": "stdout",
     "output_type": "stream",
     "text": [
      "the sum of digits is : 44\n"
     ]
    }
   ],
   "source": [
    "num =876968\n",
    "sum_=0\n",
    "while num > 0:\n",
    "    sum_ +=num%10\n",
    "    num//=10\n",
    "    \n",
    "print('the sum of digits is :',sum_)"
   ]
  },
  {
   "cell_type": "code",
   "execution_count": null,
   "id": "b012f81f-13da-4f3b-a5a9-601c3348e84e",
   "metadata": {},
   "outputs": [],
   "source": [
    "'''\n",
    "8. Write a program for reversing the given number \n",
    "5436 and the output  should be 6345.\n",
    "'''\n",
    "\n",
    "num =5436\n",
    "reverse =0\n",
    "while num>0:\n",
    "    # extract the rightmost digit of the number\n",
    "    digit = num % 10\n",
    "    # add the extracted digit to reverse number \n",
    "    reverse = (reverse *10) + digit\n",
    "    # remove the rightmost digit from the number\n",
    "    num//10\n",
    "print('this reversed number is :',reverse)    "
   ]
  },
  {
   "cell_type": "code",
   "execution_count": 5,
   "id": "586cfa7f-0344-4030-bc97-1ad9879c65a9",
   "metadata": {},
   "outputs": [
    {
     "name": "stdout",
     "output_type": "stream",
     "text": [
      "371 is an armstrong number\n"
     ]
    }
   ],
   "source": [
    "'''9.Write a program to check  a given number 371 is\n",
    "an Armstrong number?'''\n",
    "\n",
    "# armstrong number = An Armstrong number is a number such that the sum\n",
    "# ! of its digits raised to the third power is equal to the number\n",
    "# ! itself.  For example, 371 is an Armstrong number, since\n",
    "# ! 3**3 + 7**3 + 1**3 = 371.\n",
    "# ! -------------------------\n",
    "\n",
    "# function to check if a number is an armstrong number\n",
    "def is_armstrong(num):\n",
    "    # get the number of digits in the given number\n",
    "    num_str = str(num)\n",
    "    num_digits = len(num_str)\n",
    "    # calculate the sum of the cubes of each digit\n",
    "    sum_of_cubes = sum([int(digit)**num_digits for digit in num_str])\n",
    "    \n",
    "    # check if the sum of the cubes is equal to the original number\n",
    "    if sum_of_cubes ==num:\n",
    "        return True\n",
    "    else:\n",
    "        return False\n",
    "    \n",
    "# test the function with the number 371\n",
    "num =371\n",
    "if is_armstrong(num):\n",
    "    print(num,'is an armstrong number')\n",
    "else:\n",
    "    print(num, 'is not an armstrong number')\n"
   ]
  },
  {
   "cell_type": "code",
   "execution_count": 7,
   "id": "99081ce8-bf16-4891-a4f7-18e8100fde29",
   "metadata": {},
   "outputs": [
    {
     "name": "stdout",
     "output_type": "stream",
     "text": [
      "371 is an armstrong number\n"
     ]
    }
   ],
   "source": [
    "# Function to check if a number is an armstrong number\n",
    "def is_armstrong(num):\n",
    "    # get the number of digits in the given number\n",
    "    num_str =str(num)\n",
    "    num_digit = len(num_str)\n",
    "    \n",
    "    # calculate the sum of the cubes of each digits\n",
    "    sum_of_cubes = sum([int(digit)**num_digit for digit in num_str])\n",
    "    \n",
    "    # check if the sum of the cubes is equal to the original number\n",
    "    if sum_of_cubes ==num:\n",
    "        return True\n",
    "    else:\n",
    "        return False\n",
    "    \n",
    "    # Test the function with the number 371\n",
    "num =371\n",
    "if is_armstrong(num):\n",
    "    print(num,'is an armstrong number')\n",
    "else:\n",
    "    print(num,'is not an armstrong number')"
   ]
  },
  {
   "cell_type": "code",
   "execution_count": 9,
   "id": "a225c238-4b05-4694-a1e8-531569374516",
   "metadata": {},
   "outputs": [
    {
     "name": "stdout",
     "output_type": "stream",
     "text": [
      "1996 is a leap year\n"
     ]
    }
   ],
   "source": [
    "'''10. Write a program the given year is \n",
    "1996  a leap year.'''\n",
    "\n",
    "# 1996%100=96\n",
    "\n",
    "year =1996\n",
    "if (year %4 ==0 and year%100 !=0) or (year%400 ==0):\n",
    "    print(year , 'is a leap year')\n",
    "else:\n",
    "    print(year,'is not a leap year')"
   ]
  },
  {
   "cell_type": "code",
   "execution_count": 10,
   "id": "146db3c2-2d40-4354-92b6-d85c6646a047",
   "metadata": {},
   "outputs": [
    {
     "data": {
      "text/plain": [
       "True"
      ]
     },
     "execution_count": 10,
     "metadata": {},
     "output_type": "execute_result"
    }
   ],
   "source": [
    "1996%4 ==0"
   ]
  },
  {
   "cell_type": "code",
   "execution_count": 11,
   "id": "3c447cf6-2a17-48af-9e89-f028ee75a4af",
   "metadata": {},
   "outputs": [
    {
     "data": {
      "text/plain": [
       "True"
      ]
     },
     "execution_count": 11,
     "metadata": {},
     "output_type": "execute_result"
    }
   ],
   "source": [
    "year %100 !=0 # if the numbe is divisble by year then , that year cannot be a leap year"
   ]
  },
  {
   "cell_type": "code",
   "execution_count": 12,
   "id": "3472d91d-f108-4475-988e-3ecca8ff81ce",
   "metadata": {},
   "outputs": [
    {
     "data": {
      "text/plain": [
       "False"
      ]
     },
     "execution_count": 12,
     "metadata": {},
     "output_type": "execute_result"
    }
   ],
   "source": [
    "year%400==0"
   ]
  },
  {
   "cell_type": "code",
   "execution_count": 13,
   "id": "f1091d07-8004-4560-99a0-8c24833fe253",
   "metadata": {},
   "outputs": [
    {
     "name": "stdout",
     "output_type": "stream",
     "text": [
      "1996 is a leap year\n"
     ]
    }
   ],
   "source": [
    "year=1996\n",
    "if (year%4==0 and year !=100 ) or (year %400==0):\n",
    "    print(year,'is a leap year')\n",
    "else: \n",
    "    print(year ,'is not a leap year')"
   ]
  },
  {
   "cell_type": "code",
   "execution_count": null,
   "id": "15f1c6ab-23e7-4a46-9998-0a815135683f",
   "metadata": {},
   "outputs": [],
   "source": [
    "SSSSS"
   ]
  }
 ],
 "metadata": {
  "kernelspec": {
   "display_name": "Python 3 (ipykernel)",
   "language": "python",
   "name": "python3"
  },
  "language_info": {
   "codemirror_mode": {
    "name": "ipython",
    "version": 3
   },
   "file_extension": ".py",
   "mimetype": "text/x-python",
   "name": "python",
   "nbconvert_exporter": "python",
   "pygments_lexer": "ipython3",
   "version": "3.10.8"
  }
 },
 "nbformat": 4,
 "nbformat_minor": 5
}
