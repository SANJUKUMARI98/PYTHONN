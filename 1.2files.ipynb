{
 "cells": [
  {
   "cell_type": "markdown",
   "id": "691a38c7-10d0-469b-8c65-328419f9dff0",
   "metadata": {},
   "source": [
    "# files-----working with file"
   ]
  },
  {
   "cell_type": "code",
   "execution_count": 31,
   "id": "16f3b31c-109f-4d07-a4ab-6e50f6d06f97",
   "metadata": {},
   "outputs": [],
   "source": [
    "f = open('ftest.txt','w') # creating file with w =open file and truncate --delet previous data and store new\n",
    "# if we write new statement in place of previous line ---it will delete the previous staement from the file"
   ]
  },
  {
   "cell_type": "code",
   "execution_count": 32,
   "id": "770698f3-4755-42a7-93e8-00b4f408cb5e",
   "metadata": {},
   "outputs": [
    {
     "data": {
      "text/plain": [
       "21"
      ]
     },
     "execution_count": 32,
     "metadata": {},
     "output_type": "execute_result"
    }
   ],
   "source": [
    "f.write('my file file opereation \\n') \n",
    "f.write('my second statement \\n')\n",
    "# no 21 is showing the file size"
   ]
  },
  {
   "cell_type": "code",
   "execution_count": 26,
   "id": "aa64eb3f-d45a-4e15-98f2-5b527ac956e9",
   "metadata": {},
   "outputs": [],
   "source": [
    "f.close() # whenever we are opening a write function we have to close the file...otherwise we will not get the dat\n",
    "# afer closing the file we have to furter open the file in order to write new statement"
   ]
  },
  {
   "cell_type": "code",
   "execution_count": 5,
   "id": "9a23eece-1c93-4617-b415-9906b44fe151",
   "metadata": {},
   "outputs": [
    {
     "data": {
      "text/plain": [
       "'/home/jovyan/work'"
      ]
     },
     "execution_count": 5,
     "metadata": {},
     "output_type": "execute_result"
    }
   ],
   "source": [
    "pwd  # to know current working directory"
   ]
  },
  {
   "cell_type": "code",
   "execution_count": 7,
   "id": "2116465c-8aa8-41bd-b7af-36e2855d8f1a",
   "metadata": {},
   "outputs": [
    {
     "name": "stdout",
     "output_type": "stream",
     "text": [
      "data1.txt  exceptionassignment.ipynb  test1.txt   test.txt\n",
      "data2.txt  files.ipynb                test22.txt  threading.ipynb\n",
      "data3.txt  ftest.txt                  test5.txt\n",
      "error.log  multiprocessing.ipynb      test99.txt\n"
     ]
    }
   ],
   "source": [
    "ls  # to get all file of the current working directory"
   ]
  },
  {
   "cell_type": "code",
   "execution_count": 48,
   "id": "84668ec1-5623-406b-a2f9-8714036acb1b",
   "metadata": {},
   "outputs": [],
   "source": [
    "f = open('ftest.txt','a')   #it will append the data and never delete previous"
   ]
  },
  {
   "cell_type": "code",
   "execution_count": 49,
   "id": "78caeab4-c790-46c0-a194-522858710f23",
   "metadata": {},
   "outputs": [
    {
     "data": {
      "text/plain": [
       "691"
      ]
     },
     "execution_count": 49,
     "metadata": {},
     "output_type": "execute_result"
    }
   ],
   "source": [
    "f.write('Data Science Masters course is highly curated and uniquely designed according to the latest industry standards. This program instills students the skills essential to knowledge discovery efforts to identify standard, novel, and truly differentiated solutions and decision-making, including skills in managing, querying, analyzing, visualizing, and extracting meaning from extremely large data sets. This trending program provides students with the statistical, mathematical and computational skills needed to meet the large-scale data science challenges of todays professional world. You will learn all the stack required to work in data science industry including cloud infrastructure and \\n')"
   ]
  },
  {
   "cell_type": "code",
   "execution_count": 50,
   "id": "14e1f079-4893-46b3-8341-3dd680547d70",
   "metadata": {},
   "outputs": [],
   "source": [
    "f.close()"
   ]
  },
  {
   "cell_type": "code",
   "execution_count": 52,
   "id": "7c0b8880-400d-4b78-9df5-8a06458cd4b4",
   "metadata": {},
   "outputs": [
    {
     "data": {
      "text/plain": [
       "'my file file opereation \\nmy second statement \\nData Science Masters course is highly curated and uniquely designed according to the latest industry standards. This program instills students the skills essential to knowledge discovery efforts to identify standard, novel, and truly differentiated solutions and decision-making, including skills in managing, querying, analyzing, visualizing, and extracting meaning from extremely large data sets. This trending program provides students with the statistical, mathematical and computational skills needed to meet the large-scale data science challenges of todays professional world. You will learn all the stack required to work in data science industry including cloud infrastructure andData Science Masters course is highly curated and uniquely designed according to the latest industry standards. This program instills students the skills essential to knowledge discovery efforts to identify standard, novel, and truly differentiated solutions and decision-making, including skills in managing, querying, analyzing, visualizing, and extracting meaning from extremely large data sets. This trending program provides students with the statistical, mathematical and computational skills needed to meet the large-scale data science challenges of todays professional world. You will learn all the stack required to work in data science industry including cloud infrastructure andData Science Masters course is highly curated and uniquely designed according to the latest industry standards. This program instills students the skills essential to knowledge discovery efforts to identify standard, novel, and truly differentiated solutions and decision-making, including skills in managing, querying, analyzing, visualizing, and extracting meaning from extremely large data sets. This trending program provides students with the statistical, mathematical and computational skills needed to meet the large-scale data science challenges of todays professional world. You will learn all the stack required to work in data science industry including cloud infrastructure andData Science Masters course is highly curated and uniquely designed according to the latest industry standards. This program instills students the skills essential to knowledge discovery efforts to identify standard, novel, and truly differentiated solutions and decision-making, including skills in managing, querying, analyzing, visualizing, and extracting meaning from extremely large data sets. This trending program provides students with the statistical, mathematical and computational skills needed to meet the large-scale data science challenges of todays professional world. You will learn all the stack required to work in data science industry including cloud infrastructure andData Science Masters course is highly curated and uniquely designed according to the latest industry standards. This program instills students the skills essential to knowledge discovery efforts to identify standard, novel, and truly differentiated solutions and decision-making, including skills in managing, querying, analyzing, visualizing, and extracting meaning from extremely large data sets. This trending program provides students with the statistical, mathematical and computational skills needed to meet the large-scale data science challenges of todays professional world. You will learn all the stack required to work in data science industry including cloud infrastructure and \\n'"
      ]
     },
     "execution_count": 52,
     "metadata": {},
     "output_type": "execute_result"
    }
   ],
   "source": [
    "data = open('ftest.txt','r')\n",
    "data.read()  # to read the data"
   ]
  },
  {
   "cell_type": "code",
   "execution_count": 54,
   "id": "5d2c94d7-40a2-4503-b10c-11d16aaab404",
   "metadata": {},
   "outputs": [
    {
     "data": {
      "text/plain": [
       "''"
      ]
     },
     "execution_count": 54,
     "metadata": {},
     "output_type": "execute_result"
    }
   ],
   "source": [
    "data.read()  # second time it will go to first and last cursor and unable to read so we havee to perform data.seek()"
   ]
  },
  {
   "cell_type": "code",
   "execution_count": 57,
   "id": "cf0d6fc5-0410-4296-8015-bfdc3ecbe3b2",
   "metadata": {},
   "outputs": [
    {
     "data": {
      "text/plain": [
       "0"
      ]
     },
     "execution_count": 57,
     "metadata": {},
     "output_type": "execute_result"
    }
   ],
   "source": [
    "data.seek(0)  # 0 tell the from which index to read"
   ]
  },
  {
   "cell_type": "code",
   "execution_count": 58,
   "id": "2860f9c6-2a0c-4c2c-832f-0905da95c416",
   "metadata": {},
   "outputs": [
    {
     "data": {
      "text/plain": [
       "'my file file opereation \\nmy second statement \\nData Science Masters course is highly curated and uniquely designed according to the latest industry standards. This program instills students the skills essential to knowledge discovery efforts to identify standard, novel, and truly differentiated solutions and decision-making, including skills in managing, querying, analyzing, visualizing, and extracting meaning from extremely large data sets. This trending program provides students with the statistical, mathematical and computational skills needed to meet the large-scale data science challenges of todays professional world. You will learn all the stack required to work in data science industry including cloud infrastructure andData Science Masters course is highly curated and uniquely designed according to the latest industry standards. This program instills students the skills essential to knowledge discovery efforts to identify standard, novel, and truly differentiated solutions and decision-making, including skills in managing, querying, analyzing, visualizing, and extracting meaning from extremely large data sets. This trending program provides students with the statistical, mathematical and computational skills needed to meet the large-scale data science challenges of todays professional world. You will learn all the stack required to work in data science industry including cloud infrastructure andData Science Masters course is highly curated and uniquely designed according to the latest industry standards. This program instills students the skills essential to knowledge discovery efforts to identify standard, novel, and truly differentiated solutions and decision-making, including skills in managing, querying, analyzing, visualizing, and extracting meaning from extremely large data sets. This trending program provides students with the statistical, mathematical and computational skills needed to meet the large-scale data science challenges of todays professional world. You will learn all the stack required to work in data science industry including cloud infrastructure andData Science Masters course is highly curated and uniquely designed according to the latest industry standards. This program instills students the skills essential to knowledge discovery efforts to identify standard, novel, and truly differentiated solutions and decision-making, including skills in managing, querying, analyzing, visualizing, and extracting meaning from extremely large data sets. This trending program provides students with the statistical, mathematical and computational skills needed to meet the large-scale data science challenges of todays professional world. You will learn all the stack required to work in data science industry including cloud infrastructure andData Science Masters course is highly curated and uniquely designed according to the latest industry standards. This program instills students the skills essential to knowledge discovery efforts to identify standard, novel, and truly differentiated solutions and decision-making, including skills in managing, querying, analyzing, visualizing, and extracting meaning from extremely large data sets. This trending program provides students with the statistical, mathematical and computational skills needed to meet the large-scale data science challenges of todays professional world. You will learn all the stack required to work in data science industry including cloud infrastructure and \\n'"
      ]
     },
     "execution_count": 58,
     "metadata": {},
     "output_type": "execute_result"
    }
   ],
   "source": [
    "data.read()"
   ]
  },
  {
   "cell_type": "code",
   "execution_count": 62,
   "id": "8e3c89ab-b88f-4a71-abf8-26cc41a15028",
   "metadata": {},
   "outputs": [
    {
     "data": {
      "text/plain": [
       "211"
      ]
     },
     "execution_count": 62,
     "metadata": {},
     "output_type": "execute_result"
    }
   ],
   "source": [
    "data.seek(211)"
   ]
  },
  {
   "cell_type": "code",
   "execution_count": 63,
   "id": "1a0d6fcf-aa82-4878-bbe9-08b538cbc3ff",
   "metadata": {},
   "outputs": [
    {
     "data": {
      "text/plain": [
       "'o knowledge discovery efforts to identify standard, novel, and truly differentiated solutions and decision-making, including skills in managing, querying, analyzing, visualizing, and extracting meaning from extremely large data sets. This trending program provides students with the statistical, mathematical and computational skills needed to meet the large-scale data science challenges of todays professional world. You will learn all the stack required to work in data science industry including cloud infrastructure andData Science Masters course is highly curated and uniquely designed according to the latest industry standards. This program instills students the skills essential to knowledge discovery efforts to identify standard, novel, and truly differentiated solutions and decision-making, including skills in managing, querying, analyzing, visualizing, and extracting meaning from extremely large data sets. This trending program provides students with the statistical, mathematical and computational skills needed to meet the large-scale data science challenges of todays professional world. You will learn all the stack required to work in data science industry including cloud infrastructure andData Science Masters course is highly curated and uniquely designed according to the latest industry standards. This program instills students the skills essential to knowledge discovery efforts to identify standard, novel, and truly differentiated solutions and decision-making, including skills in managing, querying, analyzing, visualizing, and extracting meaning from extremely large data sets. This trending program provides students with the statistical, mathematical and computational skills needed to meet the large-scale data science challenges of todays professional world. You will learn all the stack required to work in data science industry including cloud infrastructure andData Science Masters course is highly curated and uniquely designed according to the latest industry standards. This program instills students the skills essential to knowledge discovery efforts to identify standard, novel, and truly differentiated solutions and decision-making, including skills in managing, querying, analyzing, visualizing, and extracting meaning from extremely large data sets. This trending program provides students with the statistical, mathematical and computational skills needed to meet the large-scale data science challenges of todays professional world. You will learn all the stack required to work in data science industry including cloud infrastructure andData Science Masters course is highly curated and uniquely designed according to the latest industry standards. This program instills students the skills essential to knowledge discovery efforts to identify standard, novel, and truly differentiated solutions and decision-making, including skills in managing, querying, analyzing, visualizing, and extracting meaning from extremely large data sets. This trending program provides students with the statistical, mathematical and computational skills needed to meet the large-scale data science challenges of todays professional world. You will learn all the stack required to work in data science industry including cloud infrastructure and \\n'"
      ]
     },
     "execution_count": 63,
     "metadata": {},
     "output_type": "execute_result"
    }
   ],
   "source": [
    "data.read()  # with help of seek we will read the data at the 211 line"
   ]
  },
  {
   "cell_type": "code",
   "execution_count": 64,
   "id": "f8eeb636-0ccd-4aca-aedf-4517337f3b95",
   "metadata": {},
   "outputs": [
    {
     "name": "stdout",
     "output_type": "stream",
     "text": [
      "my file file opereation \n",
      "\n",
      "my second statement \n",
      "\n",
      "Data Science Masters course is highly curated and uniquely designed according to the latest industry standards. This program instills students the skills essential to knowledge discovery efforts to identify standard, novel, and truly differentiated solutions and decision-making, including skills in managing, querying, analyzing, visualizing, and extracting meaning from extremely large data sets. This trending program provides students with the statistical, mathematical and computational skills needed to meet the large-scale data science challenges of todays professional world. You will learn all the stack required to work in data science industry including cloud infrastructure andData Science Masters course is highly curated and uniquely designed according to the latest industry standards. This program instills students the skills essential to knowledge discovery efforts to identify standard, novel, and truly differentiated solutions and decision-making, including skills in managing, querying, analyzing, visualizing, and extracting meaning from extremely large data sets. This trending program provides students with the statistical, mathematical and computational skills needed to meet the large-scale data science challenges of todays professional world. You will learn all the stack required to work in data science industry including cloud infrastructure andData Science Masters course is highly curated and uniquely designed according to the latest industry standards. This program instills students the skills essential to knowledge discovery efforts to identify standard, novel, and truly differentiated solutions and decision-making, including skills in managing, querying, analyzing, visualizing, and extracting meaning from extremely large data sets. This trending program provides students with the statistical, mathematical and computational skills needed to meet the large-scale data science challenges of todays professional world. You will learn all the stack required to work in data science industry including cloud infrastructure andData Science Masters course is highly curated and uniquely designed according to the latest industry standards. This program instills students the skills essential to knowledge discovery efforts to identify standard, novel, and truly differentiated solutions and decision-making, including skills in managing, querying, analyzing, visualizing, and extracting meaning from extremely large data sets. This trending program provides students with the statistical, mathematical and computational skills needed to meet the large-scale data science challenges of todays professional world. You will learn all the stack required to work in data science industry including cloud infrastructure andData Science Masters course is highly curated and uniquely designed according to the latest industry standards. This program instills students the skills essential to knowledge discovery efforts to identify standard, novel, and truly differentiated solutions and decision-making, including skills in managing, querying, analyzing, visualizing, and extracting meaning from extremely large data sets. This trending program provides students with the statistical, mathematical and computational skills needed to meet the large-scale data science challenges of todays professional world. You will learn all the stack required to work in data science industry including cloud infrastructure and \n",
      "\n"
     ]
    }
   ],
   "source": [
    "data1=open('ftest.txt','r')\n",
    "for i in data1:\n",
    "    print(i)"
   ]
  },
  {
   "cell_type": "code",
   "execution_count": 65,
   "id": "1981d22d-7804-453a-94e9-ca0cab8bd4a1",
   "metadata": {},
   "outputs": [],
   "source": [
    "import os"
   ]
  },
  {
   "cell_type": "code",
   "execution_count": 66,
   "id": "99b5d72b-a85e-42d9-a7ba-ee0dd2fb5a82",
   "metadata": {},
   "outputs": [
    {
     "data": {
      "text/plain": [
       "3493"
      ]
     },
     "execution_count": 66,
     "metadata": {},
     "output_type": "execute_result"
    }
   ],
   "source": [
    "os.path.getsize('ftest.txt')  # to get the size of file"
   ]
  },
  {
   "cell_type": "code",
   "execution_count": 67,
   "id": "3ab9da06-fa91-4a68-95a7-48fdf0ea1503",
   "metadata": {},
   "outputs": [],
   "source": [
    "import shutil"
   ]
  },
  {
   "cell_type": "code",
   "execution_count": 68,
   "id": "a489821a-a19f-4d1c-9e06-fd7d3d992106",
   "metadata": {},
   "outputs": [
    {
     "data": {
      "text/plain": [
       "'sanju.txt'"
      ]
     },
     "execution_count": 68,
     "metadata": {},
     "output_type": "execute_result"
    }
   ],
   "source": [
    "shutil.copy('ftest.txt','sanju.txt') # to copy the file with different name"
   ]
  },
  {
   "cell_type": "code",
   "execution_count": 71,
   "id": "76645dde-12da-4370-bcc3-dea12ba5aec9",
   "metadata": {},
   "outputs": [
    {
     "ename": "FileNotFoundError",
     "evalue": "[Errno 2] No such file or directory: 'ftest.txt'",
     "output_type": "error",
     "traceback": [
      "\u001b[0;31m---------------------------------------------------------------------------\u001b[0m",
      "\u001b[0;31mFileNotFoundError\u001b[0m                         Traceback (most recent call last)",
      "Cell \u001b[0;32mIn[71], line 1\u001b[0m\n\u001b[0;32m----> 1\u001b[0m \u001b[43mos\u001b[49m\u001b[38;5;241;43m.\u001b[39;49m\u001b[43mremove\u001b[49m\u001b[43m(\u001b[49m\u001b[38;5;124;43m'\u001b[39;49m\u001b[38;5;124;43mftest.txt\u001b[39;49m\u001b[38;5;124;43m'\u001b[39;49m\u001b[43m)\u001b[49m  \u001b[38;5;66;03m# to remove a particular file\u001b[39;00m\n",
      "\u001b[0;31mFileNotFoundError\u001b[0m: [Errno 2] No such file or directory: 'ftest.txt'"
     ]
    }
   ],
   "source": [
    "os.remove('ftest.txt')  # to remove a particular file\n"
   ]
  },
  {
   "cell_type": "code",
   "execution_count": 72,
   "id": "0d83e66d-8487-4191-9acc-d151d0d298a4",
   "metadata": {},
   "outputs": [
    {
     "name": "stdout",
     "output_type": "stream",
     "text": [
      "my file file opereation \n",
      "my second statement \n",
      "Data Science Masters course is highly curated and uniquely designed according to the latest industry standards. This program instills students the skills essential to knowledge discovery efforts to identify standard, novel, and truly differentiated solutions and decision-making, including skills in managing, querying, analyzing, visualizing, and extracting meaning from extremely large data sets. This trending program provides students with the statistical, mathematical and computational skills needed to meet the large-scale data science challenges of todays professional world. You will learn all the stack required to work in data science industry including cloud infrastructure andData Science Masters course is highly curated and uniquely designed according to the latest industry standards. This program instills students the skills essential to knowledge discovery efforts to identify standard, novel, and truly differentiated solutions and decision-making, including skills in managing, querying, analyzing, visualizing, and extracting meaning from extremely large data sets. This trending program provides students with the statistical, mathematical and computational skills needed to meet the large-scale data science challenges of todays professional world. You will learn all the stack required to work in data science industry including cloud infrastructure andData Science Masters course is highly curated and uniquely designed according to the latest industry standards. This program instills students the skills essential to knowledge discovery efforts to identify standard, novel, and truly differentiated solutions and decision-making, including skills in managing, querying, analyzing, visualizing, and extracting meaning from extremely large data sets. This trending program provides students with the statistical, mathematical and computational skills needed to meet the large-scale data science challenges of todays professional world. You will learn all the stack required to work in data science industry including cloud infrastructure andData Science Masters course is highly curated and uniquely designed according to the latest industry standards. This program instills students the skills essential to knowledge discovery efforts to identify standard, novel, and truly differentiated solutions and decision-making, including skills in managing, querying, analyzing, visualizing, and extracting meaning from extremely large data sets. This trending program provides students with the statistical, mathematical and computational skills needed to meet the large-scale data science challenges of todays professional world. You will learn all the stack required to work in data science industry including cloud infrastructure andData Science Masters course is highly curated and uniquely designed according to the latest industry standards. This program instills students the skills essential to knowledge discovery efforts to identify standard, novel, and truly differentiated solutions and decision-making, including skills in managing, querying, analyzing, visualizing, and extracting meaning from extremely large data sets. This trending program provides students with the statistical, mathematical and computational skills needed to meet the large-scale data science challenges of todays professional world. You will learn all the stack required to work in data science industry including cloud infrastructure and \n",
      "\n"
     ]
    }
   ],
   "source": [
    "# another way to open a file\n",
    "with open('sanju.txt','r') as f :\n",
    "    print(f.read())"
   ]
  },
  {
   "cell_type": "code",
   "execution_count": 73,
   "id": "7553abc9-d6e9-4a65-a705-9d4d18bc4d19",
   "metadata": {},
   "outputs": [],
   "source": [
    "with open('fort.txt','w') as f :\n",
    "    f.write('sannnjjanana')\n",
    "    f.close()"
   ]
  },
  {
   "cell_type": "code",
   "execution_count": 74,
   "id": "c25a1212-2706-4958-a7b7-99cd5ebe8f16",
   "metadata": {},
   "outputs": [],
   "source": [
    "# renaming any file\n",
    "os.rename('sanju.txt','sanjansa.txt')"
   ]
  },
  {
   "cell_type": "code",
   "execution_count": null,
   "id": "25c601a4-50c2-4754-86a3-1859c51f3585",
   "metadata": {},
   "outputs": [],
   "source": []
  },
  {
   "cell_type": "markdown",
   "id": "970046e9-e5c2-4da3-9517-747599d38b78",
   "metadata": {},
   "source": [
    "# different type of file"
   ]
  },
  {
   "cell_type": "markdown",
   "id": "f8f201cc-35d0-4a1f-b365-669e0c74d1dd",
   "metadata": {},
   "source": [
    "# 1. jsonify  ---key -value pair"
   ]
  },
  {
   "cell_type": "code",
   "execution_count": 2,
   "id": "3395f168-cea8-432f-932b-f7fc36a1c6a0",
   "metadata": {},
   "outputs": [],
   "source": [
    "dataa = {\n",
    "    'name':'sudh',\n",
    "    'mail_id' :'sanju080598@gmail.com',\n",
    "    'phone no': 978879898,\n",
    "    'subject' :['daata science','big data','data analyst']\n",
    "}"
   ]
  },
  {
   "cell_type": "code",
   "execution_count": 3,
   "id": "6e57c783-973f-4b4f-9fa5-7ce45f730b0d",
   "metadata": {},
   "outputs": [],
   "source": [
    "import json # javascript object notation\n",
    "# it is a lightweight data interchange format \n",
    "# it is used to send data b/w computers\n",
    "# JSON is plain text written in javascript object notation."
   ]
  },
  {
   "cell_type": "code",
   "execution_count": 4,
   "id": "a4e13db4-49b0-47af-967c-a532da3bc4e3",
   "metadata": {},
   "outputs": [],
   "source": [
    "with open('jtest.json','w') as f: # creating json file\n",
    "    json.dump(dataa,f)"
   ]
  },
  {
   "cell_type": "code",
   "execution_count": 5,
   "id": "4223c0be-cf30-42f8-a05a-a83895e711f4",
   "metadata": {},
   "outputs": [],
   "source": [
    "with open('jtest.json','r') as f:\n",
    "    data1 = json.load(f)\n",
    "    "
   ]
  },
  {
   "cell_type": "code",
   "execution_count": 6,
   "id": "092ddb3d-4d14-4d3c-9251-ccbdccb8188f",
   "metadata": {},
   "outputs": [
    {
     "data": {
      "text/plain": [
       "{'name': 'sudh',\n",
       " 'mail_id': 'sanju080598@gmail.com',\n",
       " 'phone no': 978879898,\n",
       " 'subject': ['daata science', 'big data', 'data analyst']}"
      ]
     },
     "execution_count": 6,
     "metadata": {},
     "output_type": "execute_result"
    }
   ],
   "source": [
    "data1"
   ]
  },
  {
   "cell_type": "code",
   "execution_count": 10,
   "id": "c5a8114b-e9c7-4dc4-9531-f18d024b4614",
   "metadata": {},
   "outputs": [
    {
     "data": {
      "text/plain": [
       "'data analyst'"
      ]
     },
     "execution_count": 10,
     "metadata": {},
     "output_type": "execute_result"
    }
   ],
   "source": [
    "data1['subject'][2]"
   ]
  },
  {
   "cell_type": "code",
   "execution_count": 11,
   "id": "0f7ab555-fe9c-433c-a4ed-fa49cbfd3c49",
   "metadata": {},
   "outputs": [],
   "source": [
    "data = [['name','email_id','number'],\n",
    "       ['sudh','krish@gmail.com',86870878],\n",
    "        ['anju','anju@gmail.com',976697678],\n",
    "        ['mohan','mohan@gmail.com',86665767]\n",
    "       ]"
   ]
  },
  {
   "cell_type": "code",
   "execution_count": 12,
   "id": "f2367c2a-2c83-450b-8473-abad3d3bcbc3",
   "metadata": {},
   "outputs": [],
   "source": [
    "import csv"
   ]
  },
  {
   "cell_type": "code",
   "execution_count": 14,
   "id": "ca993a50-d9b9-4996-999d-77503a11b350",
   "metadata": {},
   "outputs": [],
   "source": [
    "with open('ctest.csv','w') as f:\n",
    "    w = csv.writer(f)\n",
    "    for i in data:\n",
    "        w.writerow(i)\n",
    "    \n"
   ]
  },
  {
   "cell_type": "code",
   "execution_count": 18,
   "id": "0ac1fa3e-fd88-43a7-9980-6dc6c9b5d3ba",
   "metadata": {},
   "outputs": [
    {
     "name": "stdout",
     "output_type": "stream",
     "text": [
      "['name', 'email_id', 'number']\n",
      "['sudh', 'krish@gmail.com', '86870878']\n",
      "['anju', 'anju@gmail.com', '976697678']\n",
      "['mohan', 'mohan@gmail.com', '86665767']\n"
     ]
    }
   ],
   "source": [
    "with open('ctest.csv','r') as f:\n",
    "    read = csv.reader(f)\n",
    "    for i in read:\n",
    "        print(i)"
   ]
  },
  {
   "cell_type": "code",
   "execution_count": 19,
   "id": "d3477b54-577a-4c52-bf15-4671a9519eac",
   "metadata": {},
   "outputs": [],
   "source": [
    "with open('bbtest.bin','wb') as f:\n",
    "    f.write(b'\\x01\\x02\\x03\\x04')\n",
    "    "
   ]
  },
  {
   "cell_type": "code",
   "execution_count": 20,
   "id": "a89dd5fa-d23e-471e-a5cd-23e6c5064e97",
   "metadata": {},
   "outputs": [
    {
     "name": "stdout",
     "output_type": "stream",
     "text": [
      "b'\\x01\\x02\\x03\\x04'\n"
     ]
    }
   ],
   "source": [
    "with open('bbtest.bin','rb') as f:\n",
    "    print(f.read())"
   ]
  },
  {
   "cell_type": "code",
   "execution_count": null,
   "id": "dfd0dc5d-456f-45dd-8383-0dc98bc14eb0",
   "metadata": {},
   "outputs": [],
   "source": []
  },
  {
   "cell_type": "markdown",
   "id": "f47382a3-cb15-4174-ac8a-e29c4615a36f",
   "metadata": {},
   "source": [
    "# buffer read and write"
   ]
  },
  {
   "cell_type": "code",
   "execution_count": 21,
   "id": "f52badc1-37c9-4fbe-81f8-3de8e7ac2e70",
   "metadata": {},
   "outputs": [],
   "source": [
    "# if file size is very big..and we have to perform read and write operation and  we can't read the gb and tbs of file\n",
    "# so we will read out in small small junks from the file ---by using buffer /\n",
    "import io"
   ]
  },
  {
   "cell_type": "code",
   "execution_count": 26,
   "id": "1bd04eeb-f6d7-49ea-a10b-26307df78f80",
   "metadata": {},
   "outputs": [],
   "source": [
    "with open('hhtest.txt','wb') as f:\n",
    "    file=io.BufferedWriter(f)\n",
    "    file.write(b\"this is my buffer write\")\n",
    "    file.write(b\"this is my second line thatData Science Masters course is highly curated and uniquely designed according to the latest industry standards. This program instills students the skills essential to knowledge discovery efforts to identify standard, novel, and truly differentiated solutions and decision-making, including skills in managing, querying, analyzing, visualizing, and extracting meaning from extremely large data sets. This trending program provides students with the statistical, mathematical and computational skills needed to meet the large-scale data science challenges of today's professional world. You will learn all the stack required to work in data science industry including cloud infrastructure and\")\n",
    "    file.flush()"
   ]
  },
  {
   "cell_type": "code",
   "execution_count": 29,
   "id": "399f4aac-f7c6-4ea7-ad8e-d155d59c22c0",
   "metadata": {},
   "outputs": [
    {
     "name": "stdout",
     "output_type": "stream",
     "text": [
      "b'this is my buffer writethis is my '\n"
     ]
    }
   ],
   "source": [
    "with open('hhtest.txt','rb') as f:\n",
    "    file= io.BufferedReader(f)\n",
    "    data = file.read(34) # read only 34 bytes\n",
    "    print(data)\n",
    "    "
   ]
  },
  {
   "cell_type": "markdown",
   "id": "fd5f1145-9b8d-4798-9d32-a34fab33b34c",
   "metadata": {},
   "source": [
    "# logging and debugging"
   ]
  },
  {
   "cell_type": "code",
   "execution_count": 2,
   "id": "569f9193-87d8-4639-af38-42b94c111562",
   "metadata": {},
   "outputs": [
    {
     "name": "stdout",
     "output_type": "stream",
     "text": [
      "this is my print statement\n"
     ]
    }
   ],
   "source": [
    "# whenever we are working on production grade code we can not use print statement which\n",
    "# always gives console and whenever we shut down our system it will be deletedd\n",
    "# so we need some permanent storage ...logging\n",
    "print('this is my print statement')\n"
   ]
  },
  {
   "cell_type": "code",
   "execution_count": 1,
   "id": "789de6ae-06c0-433e-ad34-ca24f0032224",
   "metadata": {},
   "outputs": [],
   "source": [
    "import logging"
   ]
  },
  {
   "cell_type": "code",
   "execution_count": 4,
   "id": "d4492598-e295-4f19-8793-834eb01977c9",
   "metadata": {},
   "outputs": [],
   "source": [
    "logging.basicConfig(filename = 'test.log',level=logging.INFO)"
   ]
  },
  {
   "cell_type": "code",
   "execution_count": 5,
   "id": "8238db9c-0a77-4d62-8a16-abb2ab101307",
   "metadata": {},
   "outputs": [],
   "source": [
    "# instead of storing info in print i will store in log\n",
    "logging.info('this is my infoo statement')"
   ]
  },
  {
   "cell_type": "code",
   "execution_count": 6,
   "id": "2c7f038c-83e1-4e59-bbe2-939d2f9966f4",
   "metadata": {},
   "outputs": [],
   "source": [
    "logging.error('this is my error')"
   ]
  },
  {
   "cell_type": "code",
   "execution_count": 8,
   "id": "8cc6ca43-4e1b-4aa5-ae6c-7e0801369da5",
   "metadata": {},
   "outputs": [],
   "source": [
    "logging.critical('this is my critical')"
   ]
  },
  {
   "cell_type": "markdown",
   "id": "7f6348e2-1f33-4aeb-bb38-f730c9a53ecc",
   "metadata": {},
   "source": [
    "# logging hierarchy\n",
    "1. NOSET\n",
    "2.DEBUG\n",
    "3.INFO\n",
    "4.WARNING\n",
    "5.ERROR\n",
    "6. CRITICAL"
   ]
  },
  {
   "cell_type": "code",
   "execution_count": 9,
   "id": "ae311360-bd0d-46d5-aa09-38ccb0434c03",
   "metadata": {},
   "outputs": [],
   "source": [
    "logging.warning('this is my warning')"
   ]
  },
  {
   "cell_type": "code",
   "execution_count": 10,
   "id": "62622c05-279e-4e26-95da-700db04c5ec9",
   "metadata": {},
   "outputs": [],
   "source": [
    "logging.debug('this is my info related debug') # not visible because iABOVE THE LEVEL"
   ]
  },
  {
   "cell_type": "code",
   "execution_count": 11,
   "id": "17385157-5418-418f-af2b-fbe270c56781",
   "metadata": {},
   "outputs": [],
   "source": [
    "logging.shutdown()"
   ]
  },
  {
   "cell_type": "code",
   "execution_count": 2,
   "id": "e32aad77-679e-47a9-af0f-c0aec1234808",
   "metadata": {},
   "outputs": [],
   "source": [
    "# creating new logging informations\n",
    "logging.basicConfig(filename = 'test145.log',level= logging.DEBUG, format ='%(asctime)s %(message)s')"
   ]
  },
  {
   "cell_type": "code",
   "execution_count": 3,
   "id": "886fb6ca-ecb1-4e4a-9af0-8a2b06adc296",
   "metadata": {},
   "outputs": [],
   "source": [
    "logging.info('this is muy info log')\n"
   ]
  },
  {
   "cell_type": "code",
   "execution_count": 4,
   "id": "e3d6d5e9-21c4-445d-85f4-be08784609c4",
   "metadata": {},
   "outputs": [],
   "source": [
    "logging.debug('this is my debug log')"
   ]
  },
  {
   "cell_type": "code",
   "execution_count": 5,
   "id": "ccdf2720-9a87-4437-815d-bdfbb9387110",
   "metadata": {},
   "outputs": [],
   "source": [
    "logging.warning('this is my warning')"
   ]
  },
  {
   "cell_type": "code",
   "execution_count": 2,
   "id": "20996999-6b02-478b-a4ed-d7efeae7063a",
   "metadata": {},
   "outputs": [],
   "source": [
    "logging.basicConfig(filename = 'test3.log',level = logging.DEBUG,format = '%(asctime)s %(name)s %(levelname)s %(message)s')"
   ]
  },
  {
   "cell_type": "code",
   "execution_count": 3,
   "id": "527321b0-bfb5-4f9b-939b-75d4a7051e97",
   "metadata": {},
   "outputs": [],
   "source": [
    "logging.info('this is my info log')"
   ]
  },
  {
   "cell_type": "code",
   "execution_count": 4,
   "id": "1a02ff26-6d2e-4f54-8094-e386d1740f9a",
   "metadata": {},
   "outputs": [],
   "source": [
    "l =[1,2,3,4,[4,5,6],'sudh','kumar']"
   ]
  },
  {
   "cell_type": "code",
   "execution_count": 8,
   "id": "0d0aa583-f788-4e9d-ba00-646ce7fd8e31",
   "metadata": {},
   "outputs": [],
   "source": [
    "l1_int =[]\n",
    "l2_str =[]\n",
    "\n",
    "for i in l:\n",
    "    logging.info('this is the start of l  my first loop {}'.format(l))\n",
    "    logging.info('this is the value of i am logging {}'.format(i))\n",
    "    if type(i) ==list:\n",
    "        for j in i:\n",
    "            logging.info('logging my j {j} and i is {i}'.format(i=i,j=j))\n",
    "            if type(j)==int:\n",
    "                l1_int.append(j)\n",
    "    elif type(i) ==int:\n",
    "        l1_int.append(i)\n",
    "    else:\n",
    "        if type(i) ==str:\n",
    "            l2_str.append(i)\n",
    "logging.info('this is my final result with all int {l1} , with all str {l2} '.format(l1=l1_int,l2=l2_str))           "
   ]
  },
  {
   "cell_type": "code",
   "execution_count": 9,
   "id": "f2e1b35e-721f-44e4-9b02-32c9cbb59a01",
   "metadata": {},
   "outputs": [
    {
     "data": {
      "text/plain": [
       "[1, 2, 3, 4, 4, 5, 6]"
      ]
     },
     "execution_count": 9,
     "metadata": {},
     "output_type": "execute_result"
    }
   ],
   "source": [
    "l1_int"
   ]
  },
  {
   "cell_type": "code",
   "execution_count": 10,
   "id": "655a2780-7648-4e68-8bd2-0d60a5e88d66",
   "metadata": {},
   "outputs": [
    {
     "data": {
      "text/plain": [
       "['sudh', 'kumar']"
      ]
     },
     "execution_count": 10,
     "metadata": {},
     "output_type": "execute_result"
    }
   ],
   "source": [
    "l2_str"
   ]
  },
  {
   "cell_type": "code",
   "execution_count": null,
   "id": "55bf5e12-fbfb-4d54-9aa5-cba6e728c6ef",
   "metadata": {},
   "outputs": [],
   "source": []
  },
  {
   "cell_type": "markdown",
   "id": "06a82f17-9dcd-4d43-a2e8-53cc0109c200",
   "metadata": {},
   "source": [
    "# Modules and Import statements"
   ]
  },
  {
   "cell_type": "code",
   "execution_count": null,
   "id": "28190dd8-6646-47f4-97da-6d487093287d",
   "metadata": {},
   "outputs": [],
   "source": [
    "# in a python lab"
   ]
  }
 ],
 "metadata": {
  "kernelspec": {
   "display_name": "Python 3 (ipykernel)",
   "language": "python",
   "name": "python3"
  },
  "language_info": {
   "codemirror_mode": {
    "name": "ipython",
    "version": 3
   },
   "file_extension": ".py",
   "mimetype": "text/x-python",
   "name": "python",
   "nbconvert_exporter": "python",
   "pygments_lexer": "ipython3",
   "version": "3.10.8"
  }
 },
 "nbformat": 4,
 "nbformat_minor": 5
}
